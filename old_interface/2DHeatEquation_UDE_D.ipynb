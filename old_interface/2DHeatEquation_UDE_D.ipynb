{
 "cells": [
  {
   "cell_type": "markdown",
   "id": "28cc9b4c",
   "metadata": {},
   "source": [
    "# Universal Differential Equation for a 2D PDE heat equation"
   ]
  },
  {
   "cell_type": "code",
   "execution_count": 1,
   "id": "26615a8c",
   "metadata": {
    "scrolled": true
   },
   "outputs": [
    {
     "name": "stderr",
     "output_type": "stream",
     "text": [
      "\u001b[32m\u001b[1m  Activating\u001b[22m\u001b[39m environment at `~/Dropbox/Glacier UDE/ODINN_toy/Project.toml`\n"
     ]
    }
   ],
   "source": [
    "using Pkg; Pkg.activate(\"../../.\"); Pkg.instantiate()\n",
    "using Plots; gr()\n",
    "using Statistics\n",
    "using StatsBase\n",
    "using LinearAlgebra\n",
    "using Zygote\n",
    "using PaddedViews\n",
    "using Flux\n",
    "using Flux: @epochs\n",
    "using Tullio"
   ]
  },
  {
   "cell_type": "markdown",
   "id": "185d8fd5",
   "metadata": {},
   "source": [
    "### Parameter declaration"
   ]
  },
  {
   "cell_type": "code",
   "execution_count": 2,
   "id": "53e65f82",
   "metadata": {},
   "outputs": [],
   "source": [
    "nx, ny = 100, 100 # Size of the grid\n",
    "Δx, Δy = 1, 1\n",
    "Δt = 0.1\n",
    "t₁ = 5\n",
    "\n",
    "#D₀ = 1\n",
    "tolnl = 1e-4\n",
    "itMax = 20\n",
    "damp = 0.85\n",
    "dτsc   = 1.0/3.0\n",
    "ϵ     = 1e-4            # small number\n",
    "cfl  = max(Δx^2,Δy^2)/4.1;"
   ]
  },
  {
   "cell_type": "code",
   "execution_count": 3,
   "id": "93e5ae56",
   "metadata": {},
   "outputs": [
    {
     "data": {
      "text/plain": [
       "heatflow (generic function with 2 methods)"
      ]
     },
     "execution_count": 3,
     "metadata": {},
     "output_type": "execute_result"
    }
   ],
   "source": [
    "function heatflow(T, fD::Function, p, tol=1e-4)\n",
    "   \n",
    "    Δx, Δy, Δt, t₁ = p\n",
    "    \n",
    "    total_iter = 0\n",
    "    t = 0\n",
    "    \n",
    "    while t < t₁\n",
    "        \n",
    "        iter = 1\n",
    "        err = 2 * tolnl\n",
    "        Hold = copy(T)\n",
    "        dTdt = zeros(nx, ny)\n",
    "        err = Inf \n",
    "        \n",
    "        while iter < itMax+1 && tol <= err\n",
    "            \n",
    "            Err = copy(T)\n",
    "                    \n",
    "            D = fD(t)  # compute the diffusivity at each time\n",
    "            # if iter == 1\n",
    "            #     println(\"current D: \", D)\n",
    "            # end\n",
    "            \n",
    "            F, dτ = Heat(T, D, p)\n",
    "            \n",
    "            @tullio ResT[i,j] := -(T[i,j] - Hold[i,j])/Δt + F[pad(i-1,1,1),pad(j-1,1,1)] \n",
    "            \n",
    "            dTdt_ = copy(dTdt)\n",
    "            @tullio dTdt[i,j] := dTdt_[i,j]*damp + ResT[i,j]\n",
    "            \n",
    "            T_ = copy(T)\n",
    "            #@tullio T[i,j] := max(0.0, T_[i,j] + dTdt[i,j]*dτ[pad(i-1,1,1),pad(j-1,1,1)]) \n",
    "            @tullio T[i,j] := max(0.0, T_[i,j] + dτ * dTdt[i,j])\n",
    "            \n",
    "            Zygote.ignore() do\n",
    "                Err .= Err .- T\n",
    "                err = maximum(Err)\n",
    "            end \n",
    "            \n",
    "            iter += 1\n",
    "            total_iter += 1\n",
    "            \n",
    "        end\n",
    "        \n",
    "        t += Δt\n",
    "        \n",
    "    end\n",
    "    \n",
    "    return T\n",
    "    \n",
    "end"
   ]
  },
  {
   "cell_type": "code",
   "execution_count": 4,
   "id": "14eddf9a",
   "metadata": {},
   "outputs": [
    {
     "data": {
      "text/plain": [
       "Heat (generic function with 1 method)"
      ]
     },
     "execution_count": 4,
     "metadata": {},
     "output_type": "execute_result"
    }
   ],
   "source": [
    "function Heat(T, D, p)\n",
    "   \n",
    "    Δx, Δy, Δt, t₁ = p\n",
    "    \n",
    "    #dTdx = diff(S, dims=1) / Δx\n",
    "    #dTdy = diff(S, dims=2) / Δy\n",
    "\n",
    "    dTdx_edges = diff(T[:,2:end - 1], dims=1) / Δx\n",
    "    dTdy_edges = diff(T[2:end - 1,:], dims=2) / Δy\n",
    "    \n",
    "    Fx = -D * dTdx_edges\n",
    "    Fy = -D * dTdy_edges    \n",
    "    F = .-(diff(Fx, dims=1) / Δx .+ diff(Fy, dims=2) / Δy) \n",
    "\n",
    "    dτ = dτsc * min( 10.0 , 1.0/(1.0/Δt + 1.0/(cfl/(ϵ + D))))\n",
    "    \n",
    "    return F, dτ\n",
    " \n",
    "end"
   ]
  },
  {
   "cell_type": "markdown",
   "id": "795eded3",
   "metadata": {},
   "source": [
    "## Creating a reference dataset with a fake law\n",
    "\n",
    "Let's assume that $D$ is a function of time"
   ]
  },
  {
   "cell_type": "code",
   "execution_count": 5,
   "id": "8fa4368d",
   "metadata": {},
   "outputs": [
    {
     "data": {
      "image/svg+xml": [
       "<?xml version=\"1.0\" encoding=\"utf-8\"?>\n",
       "<svg xmlns=\"http://www.w3.org/2000/svg\" xmlns:xlink=\"http://www.w3.org/1999/xlink\" width=\"600\" height=\"400\" viewBox=\"0 0 2400 1600\">\n",
       "<defs>\n",
       "  <clipPath id=\"clip440\">\n",
       "    <rect x=\"0\" y=\"0\" width=\"2400\" height=\"1600\"/>\n",
       "  </clipPath>\n",
       "</defs>\n",
       "<path clip-path=\"url(#clip440)\" d=\"\n",
       "M0 1600 L2400 1600 L2400 0 L0 0  Z\n",
       "  \" fill=\"#ffffff\" fill-rule=\"evenodd\" fill-opacity=\"1\"/>\n",
       "<defs>\n",
       "  <clipPath id=\"clip441\">\n",
       "    <rect x=\"480\" y=\"0\" width=\"1681\" height=\"1600\"/>\n",
       "  </clipPath>\n",
       "</defs>\n",
       "<path clip-path=\"url(#clip440)\" d=\"\n",
       "M112.177 1486.45 L2352.76 1486.45 L2352.76 123.472 L112.177 123.472  Z\n",
       "  \" fill=\"#ffffff\" fill-rule=\"evenodd\" fill-opacity=\"1\"/>\n",
       "<defs>\n",
       "  <clipPath id=\"clip442\">\n",
       "    <rect x=\"112\" y=\"123\" width=\"2242\" height=\"1364\"/>\n",
       "  </clipPath>\n",
       "</defs>\n",
       "<polyline clip-path=\"url(#clip442)\" style=\"stroke:#000000; stroke-linecap:butt; stroke-linejoin:round; stroke-width:2; stroke-opacity:0.1; fill:none\" points=\"\n",
       "  175.59,1486.45 175.59,123.472 \n",
       "  \"/>\n",
       "<polyline clip-path=\"url(#clip442)\" style=\"stroke:#000000; stroke-linecap:butt; stroke-linejoin:round; stroke-width:2; stroke-opacity:0.1; fill:none\" points=\"\n",
       "  598.34,1486.45 598.34,123.472 \n",
       "  \"/>\n",
       "<polyline clip-path=\"url(#clip442)\" style=\"stroke:#000000; stroke-linecap:butt; stroke-linejoin:round; stroke-width:2; stroke-opacity:0.1; fill:none\" points=\"\n",
       "  1021.09,1486.45 1021.09,123.472 \n",
       "  \"/>\n",
       "<polyline clip-path=\"url(#clip442)\" style=\"stroke:#000000; stroke-linecap:butt; stroke-linejoin:round; stroke-width:2; stroke-opacity:0.1; fill:none\" points=\"\n",
       "  1443.84,1486.45 1443.84,123.472 \n",
       "  \"/>\n",
       "<polyline clip-path=\"url(#clip442)\" style=\"stroke:#000000; stroke-linecap:butt; stroke-linejoin:round; stroke-width:2; stroke-opacity:0.1; fill:none\" points=\"\n",
       "  1866.59,1486.45 1866.59,123.472 \n",
       "  \"/>\n",
       "<polyline clip-path=\"url(#clip442)\" style=\"stroke:#000000; stroke-linecap:butt; stroke-linejoin:round; stroke-width:2; stroke-opacity:0.1; fill:none\" points=\"\n",
       "  2289.34,1486.45 2289.34,123.472 \n",
       "  \"/>\n",
       "<polyline clip-path=\"url(#clip440)\" style=\"stroke:#000000; stroke-linecap:butt; stroke-linejoin:round; stroke-width:4; stroke-opacity:1; fill:none\" points=\"\n",
       "  112.177,1486.45 2352.76,1486.45 \n",
       "  \"/>\n",
       "<polyline clip-path=\"url(#clip440)\" style=\"stroke:#000000; stroke-linecap:butt; stroke-linejoin:round; stroke-width:4; stroke-opacity:1; fill:none\" points=\"\n",
       "  175.59,1486.45 175.59,1470.09 \n",
       "  \"/>\n",
       "<polyline clip-path=\"url(#clip440)\" style=\"stroke:#000000; stroke-linecap:butt; stroke-linejoin:round; stroke-width:4; stroke-opacity:1; fill:none\" points=\"\n",
       "  598.34,1486.45 598.34,1470.09 \n",
       "  \"/>\n",
       "<polyline clip-path=\"url(#clip440)\" style=\"stroke:#000000; stroke-linecap:butt; stroke-linejoin:round; stroke-width:4; stroke-opacity:1; fill:none\" points=\"\n",
       "  1021.09,1486.45 1021.09,1470.09 \n",
       "  \"/>\n",
       "<polyline clip-path=\"url(#clip440)\" style=\"stroke:#000000; stroke-linecap:butt; stroke-linejoin:round; stroke-width:4; stroke-opacity:1; fill:none\" points=\"\n",
       "  1443.84,1486.45 1443.84,1470.09 \n",
       "  \"/>\n",
       "<polyline clip-path=\"url(#clip440)\" style=\"stroke:#000000; stroke-linecap:butt; stroke-linejoin:round; stroke-width:4; stroke-opacity:1; fill:none\" points=\"\n",
       "  1866.59,1486.45 1866.59,1470.09 \n",
       "  \"/>\n",
       "<polyline clip-path=\"url(#clip440)\" style=\"stroke:#000000; stroke-linecap:butt; stroke-linejoin:round; stroke-width:4; stroke-opacity:1; fill:none\" points=\"\n",
       "  2289.34,1486.45 2289.34,1470.09 \n",
       "  \"/>\n",
       "<path clip-path=\"url(#clip440)\" d=\"M175.59 1515.64 Q171.979 1515.64 170.15 1519.2 Q168.344 1522.75 168.344 1529.87 Q168.344 1536.98 170.15 1540.55 Q171.979 1544.09 175.59 1544.09 Q179.224 1544.09 181.03 1540.55 Q182.858 1536.98 182.858 1529.87 Q182.858 1522.75 181.03 1519.2 Q179.224 1515.64 175.59 1515.64 M175.59 1511.93 Q181.4 1511.93 184.455 1516.54 Q187.534 1521.12 187.534 1529.87 Q187.534 1538.6 184.455 1543.21 Q181.4 1547.79 175.59 1547.79 Q169.78 1547.79 166.701 1543.21 Q163.645 1538.6 163.645 1529.87 Q163.645 1521.12 166.701 1516.54 Q169.78 1511.93 175.59 1511.93 Z\" fill=\"#000000\" fill-rule=\"evenodd\" fill-opacity=\"1\" /><path clip-path=\"url(#clip440)\" d=\"M588.722 1543.18 L596.361 1543.18 L596.361 1516.82 L588.051 1518.49 L588.051 1514.23 L596.315 1512.56 L600.991 1512.56 L600.991 1543.18 L608.63 1543.18 L608.63 1547.12 L588.722 1547.12 L588.722 1543.18 Z\" fill=\"#000000\" fill-rule=\"evenodd\" fill-opacity=\"1\" /><path clip-path=\"url(#clip440)\" d=\"M1015.74 1543.18 L1032.06 1543.18 L1032.06 1547.12 L1010.12 1547.12 L1010.12 1543.18 Q1012.78 1540.43 1017.36 1535.8 Q1021.97 1531.15 1023.15 1529.81 Q1025.4 1527.28 1026.28 1525.55 Q1027.18 1523.79 1027.18 1522.1 Q1027.18 1519.34 1025.23 1517.61 Q1023.31 1515.87 1020.21 1515.87 Q1018.01 1515.87 1015.56 1516.63 Q1013.13 1517.4 1010.35 1518.95 L1010.35 1514.23 Q1013.17 1513.09 1015.63 1512.51 Q1018.08 1511.93 1020.12 1511.93 Q1025.49 1511.93 1028.68 1514.62 Q1031.88 1517.31 1031.88 1521.8 Q1031.88 1523.93 1031.07 1525.85 Q1030.28 1527.74 1028.17 1530.34 Q1027.6 1531.01 1024.49 1534.23 Q1021.39 1537.42 1015.74 1543.18 Z\" fill=\"#000000\" fill-rule=\"evenodd\" fill-opacity=\"1\" /><path clip-path=\"url(#clip440)\" d=\"M1448.09 1528.49 Q1451.45 1529.2 1453.32 1531.47 Q1455.22 1533.74 1455.22 1537.07 Q1455.22 1542.19 1451.7 1544.99 Q1448.18 1547.79 1441.7 1547.79 Q1439.52 1547.79 1437.21 1547.35 Q1434.92 1546.93 1432.46 1546.08 L1432.46 1541.56 Q1434.41 1542.7 1436.72 1543.28 Q1439.04 1543.86 1441.56 1543.86 Q1445.96 1543.86 1448.25 1542.12 Q1450.57 1540.38 1450.57 1537.07 Q1450.57 1534.02 1448.41 1532.31 Q1446.28 1530.57 1442.46 1530.57 L1438.44 1530.57 L1438.44 1526.73 L1442.65 1526.73 Q1446.1 1526.73 1447.93 1525.36 Q1449.76 1523.97 1449.76 1521.38 Q1449.76 1518.72 1447.86 1517.31 Q1445.98 1515.87 1442.46 1515.87 Q1440.54 1515.87 1438.34 1516.29 Q1436.15 1516.7 1433.51 1517.58 L1433.51 1513.42 Q1436.17 1512.68 1438.48 1512.31 Q1440.82 1511.93 1442.88 1511.93 Q1448.21 1511.93 1451.31 1514.37 Q1454.41 1516.77 1454.41 1520.89 Q1454.41 1523.76 1452.77 1525.75 Q1451.12 1527.72 1448.09 1528.49 Z\" fill=\"#000000\" fill-rule=\"evenodd\" fill-opacity=\"1\" /><path clip-path=\"url(#clip440)\" d=\"M1869.6 1516.63 L1857.8 1535.08 L1869.6 1535.08 L1869.6 1516.63 M1868.37 1512.56 L1874.25 1512.56 L1874.25 1535.08 L1879.19 1535.08 L1879.19 1538.97 L1874.25 1538.97 L1874.25 1547.12 L1869.6 1547.12 L1869.6 1538.97 L1854 1538.97 L1854 1534.46 L1868.37 1512.56 Z\" fill=\"#000000\" fill-rule=\"evenodd\" fill-opacity=\"1\" /><path clip-path=\"url(#clip440)\" d=\"M2279.62 1512.56 L2297.98 1512.56 L2297.98 1516.5 L2283.9 1516.5 L2283.9 1524.97 Q2284.92 1524.62 2285.94 1524.46 Q2286.96 1524.27 2287.98 1524.27 Q2293.76 1524.27 2297.14 1527.44 Q2300.52 1530.62 2300.52 1536.03 Q2300.52 1541.61 2297.05 1544.71 Q2293.58 1547.79 2287.26 1547.79 Q2285.08 1547.79 2282.82 1547.42 Q2280.57 1547.05 2278.16 1546.31 L2278.16 1541.61 Q2280.25 1542.74 2282.47 1543.3 Q2284.69 1543.86 2287.17 1543.86 Q2291.17 1543.86 2293.51 1541.75 Q2295.85 1539.64 2295.85 1536.03 Q2295.85 1532.42 2293.51 1530.31 Q2291.17 1528.21 2287.17 1528.21 Q2285.29 1528.21 2283.42 1528.62 Q2281.57 1529.04 2279.62 1529.92 L2279.62 1512.56 Z\" fill=\"#000000\" fill-rule=\"evenodd\" fill-opacity=\"1\" /><polyline clip-path=\"url(#clip442)\" style=\"stroke:#000000; stroke-linecap:butt; stroke-linejoin:round; stroke-width:2; stroke-opacity:0.1; fill:none\" points=\"\n",
       "  112.177,1447.87 2352.76,1447.87 \n",
       "  \"/>\n",
       "<polyline clip-path=\"url(#clip442)\" style=\"stroke:#000000; stroke-linecap:butt; stroke-linejoin:round; stroke-width:2; stroke-opacity:0.1; fill:none\" points=\"\n",
       "  112.177,1190.71 2352.76,1190.71 \n",
       "  \"/>\n",
       "<polyline clip-path=\"url(#clip442)\" style=\"stroke:#000000; stroke-linecap:butt; stroke-linejoin:round; stroke-width:2; stroke-opacity:0.1; fill:none\" points=\"\n",
       "  112.177,933.543 2352.76,933.543 \n",
       "  \"/>\n",
       "<polyline clip-path=\"url(#clip442)\" style=\"stroke:#000000; stroke-linecap:butt; stroke-linejoin:round; stroke-width:2; stroke-opacity:0.1; fill:none\" points=\"\n",
       "  112.177,676.377 2352.76,676.377 \n",
       "  \"/>\n",
       "<polyline clip-path=\"url(#clip442)\" style=\"stroke:#000000; stroke-linecap:butt; stroke-linejoin:round; stroke-width:2; stroke-opacity:0.1; fill:none\" points=\"\n",
       "  112.177,419.212 2352.76,419.212 \n",
       "  \"/>\n",
       "<polyline clip-path=\"url(#clip442)\" style=\"stroke:#000000; stroke-linecap:butt; stroke-linejoin:round; stroke-width:2; stroke-opacity:0.1; fill:none\" points=\"\n",
       "  112.177,162.047 2352.76,162.047 \n",
       "  \"/>\n",
       "<polyline clip-path=\"url(#clip440)\" style=\"stroke:#000000; stroke-linecap:butt; stroke-linejoin:round; stroke-width:4; stroke-opacity:1; fill:none\" points=\"\n",
       "  112.177,1486.45 112.177,123.472 \n",
       "  \"/>\n",
       "<polyline clip-path=\"url(#clip440)\" style=\"stroke:#000000; stroke-linecap:butt; stroke-linejoin:round; stroke-width:4; stroke-opacity:1; fill:none\" points=\"\n",
       "  112.177,1447.87 139.064,1447.87 \n",
       "  \"/>\n",
       "<polyline clip-path=\"url(#clip440)\" style=\"stroke:#000000; stroke-linecap:butt; stroke-linejoin:round; stroke-width:4; stroke-opacity:1; fill:none\" points=\"\n",
       "  112.177,1190.71 139.064,1190.71 \n",
       "  \"/>\n",
       "<polyline clip-path=\"url(#clip440)\" style=\"stroke:#000000; stroke-linecap:butt; stroke-linejoin:round; stroke-width:4; stroke-opacity:1; fill:none\" points=\"\n",
       "  112.177,933.543 139.064,933.543 \n",
       "  \"/>\n",
       "<polyline clip-path=\"url(#clip440)\" style=\"stroke:#000000; stroke-linecap:butt; stroke-linejoin:round; stroke-width:4; stroke-opacity:1; fill:none\" points=\"\n",
       "  112.177,676.377 139.064,676.377 \n",
       "  \"/>\n",
       "<polyline clip-path=\"url(#clip440)\" style=\"stroke:#000000; stroke-linecap:butt; stroke-linejoin:round; stroke-width:4; stroke-opacity:1; fill:none\" points=\"\n",
       "  112.177,419.212 139.064,419.212 \n",
       "  \"/>\n",
       "<polyline clip-path=\"url(#clip440)\" style=\"stroke:#000000; stroke-linecap:butt; stroke-linejoin:round; stroke-width:4; stroke-opacity:1; fill:none\" points=\"\n",
       "  112.177,162.047 139.064,162.047 \n",
       "  \"/>\n",
       "<path clip-path=\"url(#clip440)\" d=\"M59.8578 1461.22 L76.1772 1461.22 L76.1772 1465.15 L54.2328 1465.15 L54.2328 1461.22 Q56.8949 1458.46 61.4782 1453.83 Q66.0846 1449.18 67.2652 1447.84 Q69.5105 1445.32 70.3902 1443.58 Q71.2929 1441.82 71.2929 1440.13 Q71.2929 1437.38 69.3485 1435.64 Q67.4272 1433.9 64.3254 1433.9 Q62.1263 1433.9 59.6726 1434.67 Q57.2421 1435.43 54.4643 1436.98 L54.4643 1432.26 Q57.2884 1431.13 59.7421 1430.55 Q62.1958 1429.97 64.2328 1429.97 Q69.6031 1429.97 72.7976 1432.65 Q75.992 1435.34 75.992 1439.83 Q75.992 1441.96 75.1818 1443.88 Q74.3948 1445.78 72.2883 1448.37 Q71.7096 1449.04 68.6078 1452.26 Q65.5059 1455.45 59.8578 1461.22 Z\" fill=\"#000000\" fill-rule=\"evenodd\" fill-opacity=\"1\" /><path clip-path=\"url(#clip440)\" d=\"M69.0476 1189.35 Q72.404 1190.07 74.279 1192.34 Q76.1772 1194.61 76.1772 1197.94 Q76.1772 1203.06 72.6587 1205.86 Q69.1402 1208.66 62.6587 1208.66 Q60.4828 1208.66 58.168 1208.22 Q55.8764 1207.8 53.4227 1206.95 L53.4227 1202.43 Q55.3671 1203.57 57.6819 1204.15 Q59.9967 1204.72 62.5198 1204.72 Q66.918 1204.72 69.2096 1202.99 Q71.5244 1201.25 71.5244 1197.94 Q71.5244 1194.89 69.3717 1193.17 Q67.242 1191.44 63.4226 1191.44 L59.3949 1191.44 L59.3949 1187.59 L63.6078 1187.59 Q67.0569 1187.59 68.8855 1186.23 Q70.7142 1184.84 70.7142 1182.25 Q70.7142 1179.59 68.8161 1178.17 Q66.9411 1176.74 63.4226 1176.74 Q61.5013 1176.74 59.3023 1177.15 Q57.1032 1177.57 54.4643 1178.45 L54.4643 1174.28 Q57.1264 1173.54 59.4412 1173.17 Q61.7791 1172.8 63.8393 1172.8 Q69.1633 1172.8 72.2652 1175.23 Q75.367 1177.64 75.367 1181.76 Q75.367 1184.63 73.7235 1186.62 Q72.08 1188.59 69.0476 1189.35 Z\" fill=\"#000000\" fill-rule=\"evenodd\" fill-opacity=\"1\" /><path clip-path=\"url(#clip440)\" d=\"M66.5939 920.337 L54.7884 938.786 L66.5939 938.786 L66.5939 920.337 M65.367 916.263 L71.2466 916.263 L71.2466 938.786 L76.1772 938.786 L76.1772 942.675 L71.2466 942.675 L71.2466 950.823 L66.5939 950.823 L66.5939 942.675 L50.9921 942.675 L50.9921 938.161 L65.367 916.263 Z\" fill=\"#000000\" fill-rule=\"evenodd\" fill-opacity=\"1\" /><path clip-path=\"url(#clip440)\" d=\"M55.2745 659.097 L73.6309 659.097 L73.6309 663.033 L59.5569 663.033 L59.5569 671.505 Q60.5754 671.158 61.5939 670.995 Q62.6124 670.81 63.6309 670.81 Q69.418 670.81 72.7976 673.982 Q76.1772 677.153 76.1772 682.569 Q76.1772 688.148 72.705 691.25 Q69.2328 694.329 62.9134 694.329 Q60.7374 694.329 58.4689 693.958 Q56.2236 693.588 53.8162 692.847 L53.8162 688.148 Q55.8995 689.282 58.1217 689.838 Q60.3439 690.394 62.8208 690.394 Q66.8254 690.394 69.1633 688.287 Q71.5013 686.181 71.5013 682.569 Q71.5013 678.958 69.1633 676.852 Q66.8254 674.745 62.8208 674.745 Q60.9458 674.745 59.0708 675.162 Q57.2189 675.579 55.2745 676.458 L55.2745 659.097 Z\" fill=\"#000000\" fill-rule=\"evenodd\" fill-opacity=\"1\" /><path clip-path=\"url(#clip440)\" d=\"M64.6495 417.349 Q61.5013 417.349 59.6495 419.501 Q57.8208 421.654 57.8208 425.404 Q57.8208 429.131 59.6495 431.307 Q61.5013 433.46 64.6495 433.46 Q67.7976 433.46 69.6263 431.307 Q71.4781 429.131 71.4781 425.404 Q71.4781 421.654 69.6263 419.501 Q67.7976 417.349 64.6495 417.349 M73.9318 402.696 L73.9318 406.955 Q72.1726 406.122 70.367 405.682 Q68.5846 405.242 66.8254 405.242 Q62.1958 405.242 59.7421 408.367 Q57.3115 411.492 56.9643 417.812 Q58.33 415.798 60.3902 414.733 Q62.4504 413.645 64.9272 413.645 Q70.1355 413.645 73.1448 416.816 Q76.1772 419.964 76.1772 425.404 Q76.1772 430.728 73.029 433.946 Q69.8809 437.163 64.6495 437.163 Q58.6541 437.163 55.4828 432.58 Q52.3116 427.974 52.3116 419.247 Q52.3116 411.052 56.2004 406.191 Q60.0893 401.307 66.6402 401.307 Q68.3994 401.307 70.1818 401.654 Q71.9874 402.002 73.9318 402.696 Z\" fill=\"#000000\" fill-rule=\"evenodd\" fill-opacity=\"1\" /><path clip-path=\"url(#clip440)\" d=\"M53.9551 144.767 L76.1772 144.767 L76.1772 146.758 L63.6309 179.327 L58.7467 179.327 L70.5522 148.702 L53.9551 148.702 L53.9551 144.767 Z\" fill=\"#000000\" fill-rule=\"evenodd\" fill-opacity=\"1\" /><path clip-path=\"url(#clip440)\" d=\"M1015.56 12.096 L1050.32 12.096 L1050.32 18.9825 L1023.74 18.9825 L1023.74 36.8065 L1047.73 36.8065 L1047.73 43.6931 L1023.74 43.6931 L1023.74 72.576 L1015.56 72.576 L1015.56 12.096 Z\" fill=\"#000000\" fill-rule=\"evenodd\" fill-opacity=\"1\" /><path clip-path=\"url(#clip440)\" d=\"M1075.96 49.7694 Q1066.93 49.7694 1063.44 51.8354 Q1059.96 53.9013 1059.96 58.8839 Q1059.96 62.8538 1062.55 65.2034 Q1065.18 67.5124 1069.68 67.5124 Q1075.88 67.5124 1079.61 63.1374 Q1083.37 58.7219 1083.37 51.4303 L1083.37 49.7694 L1075.96 49.7694 M1090.83 46.6907 L1090.83 72.576 L1083.37 72.576 L1083.37 65.6895 Q1080.82 69.8214 1077.01 71.8063 Q1073.21 73.7508 1067.7 73.7508 Q1060.73 73.7508 1056.6 69.8619 Q1052.51 65.9325 1052.51 59.3701 Q1052.51 51.7138 1057.61 47.825 Q1062.75 43.9361 1072.92 43.9361 L1083.37 43.9361 L1083.37 43.2069 Q1083.37 38.0623 1079.97 35.2672 Q1076.61 32.4315 1070.49 32.4315 Q1066.6 32.4315 1062.92 33.3632 Q1059.23 34.295 1055.83 36.1584 L1055.83 29.2718 Q1059.92 27.692 1063.77 26.9223 Q1067.61 26.1121 1071.26 26.1121 Q1081.1 26.1121 1085.97 31.2163 Q1090.83 36.3204 1090.83 46.6907 Z\" fill=\"#000000\" fill-rule=\"evenodd\" fill-opacity=\"1\" /><path clip-path=\"url(#clip440)\" d=\"M1105.9 9.54393 L1113.39 9.54393 L1113.39 46.7717 L1135.63 27.2059 L1145.15 27.2059 L1121.09 48.4326 L1146.16 72.576 L1136.44 72.576 L1113.39 50.4176 L1113.39 72.576 L1105.9 72.576 L1105.9 9.54393 Z\" fill=\"#000000\" fill-rule=\"evenodd\" fill-opacity=\"1\" /><path clip-path=\"url(#clip440)\" d=\"M1190.07 48.0275 L1190.07 51.6733 L1155.8 51.6733 Q1156.29 59.3701 1160.42 63.421 Q1164.59 67.4314 1172.01 67.4314 Q1176.3 67.4314 1180.31 66.3781 Q1184.36 65.3249 1188.33 63.2184 L1188.33 70.267 Q1184.32 71.9684 1180.11 72.8596 Q1175.9 73.7508 1171.56 73.7508 Q1160.7 73.7508 1154.34 67.4314 Q1148.03 61.1119 1148.03 50.3365 Q1148.03 39.1965 1154.02 32.6746 Q1160.06 26.1121 1170.26 26.1121 Q1179.42 26.1121 1184.73 32.0264 Q1190.07 37.9003 1190.07 48.0275 M1182.62 45.84 Q1182.54 39.7232 1179.18 36.0774 Q1175.86 32.4315 1170.35 32.4315 Q1164.11 32.4315 1160.34 35.9558 Q1156.61 39.4801 1156.05 45.8805 L1182.62 45.84 Z\" fill=\"#000000\" fill-rule=\"evenodd\" fill-opacity=\"1\" /><path clip-path=\"url(#clip440)\" d=\"M1237.19 18.8205 L1237.19 65.8515 L1247.07 65.8515 Q1259.59 65.8515 1265.38 60.1802 Q1271.21 54.509 1271.21 42.2752 Q1271.21 30.1225 1265.38 24.4918 Q1259.59 18.8205 1247.07 18.8205 L1237.19 18.8205 M1229 12.096 L1245.81 12.096 Q1263.4 12.096 1271.62 19.4281 Q1279.84 26.7198 1279.84 42.2752 Q1279.84 57.9117 1271.58 65.2439 Q1263.31 72.576 1245.81 72.576 L1229 72.576 L1229 12.096 Z\" fill=\"#000000\" fill-rule=\"evenodd\" fill-opacity=\"1\" /><path clip-path=\"url(#clip440)\" d=\"M1318.93 9.54393 L1326.39 9.54393 L1326.39 72.576 L1318.93 72.576 L1318.93 9.54393 Z\" fill=\"#000000\" fill-rule=\"evenodd\" fill-opacity=\"1\" /><path clip-path=\"url(#clip440)\" d=\"M1362.6 49.7694 Q1353.57 49.7694 1350.08 51.8354 Q1346.6 53.9013 1346.6 58.8839 Q1346.6 62.8538 1349.19 65.2034 Q1351.83 67.5124 1356.32 67.5124 Q1362.52 67.5124 1366.25 63.1374 Q1370.01 58.7219 1370.01 51.4303 L1370.01 49.7694 L1362.6 49.7694 M1377.47 46.6907 L1377.47 72.576 L1370.01 72.576 L1370.01 65.6895 Q1367.46 69.8214 1363.66 71.8063 Q1359.85 73.7508 1354.34 73.7508 Q1347.37 73.7508 1343.24 69.8619 Q1339.15 65.9325 1339.15 59.3701 Q1339.15 51.7138 1344.25 47.825 Q1349.4 43.9361 1359.56 43.9361 L1370.01 43.9361 L1370.01 43.2069 Q1370.01 38.0623 1366.61 35.2672 Q1363.25 32.4315 1357.13 32.4315 Q1353.24 32.4315 1349.56 33.3632 Q1345.87 34.295 1342.47 36.1584 L1342.47 29.2718 Q1346.56 27.692 1350.41 26.9223 Q1354.26 26.1121 1357.9 26.1121 Q1367.75 26.1121 1372.61 31.2163 Q1377.47 36.3204 1377.47 46.6907 Z\" fill=\"#000000\" fill-rule=\"evenodd\" fill-opacity=\"1\" /><path clip-path=\"url(#clip440)\" d=\"M1388.49 27.2059 L1395.94 27.2059 L1405.26 62.6108 L1414.53 27.2059 L1423.32 27.2059 L1432.64 62.6108 L1441.92 27.2059 L1449.37 27.2059 L1437.5 72.576 L1428.71 72.576 L1418.95 35.3887 L1409.15 72.576 L1400.36 72.576 L1388.49 27.2059 Z\" fill=\"#000000\" fill-rule=\"evenodd\" fill-opacity=\"1\" /><polyline clip-path=\"url(#clip442)\" style=\"stroke:#009af9; stroke-linecap:butt; stroke-linejoin:round; stroke-width:4; stroke-opacity:1; fill:none\" points=\"\n",
       "  175.59,1447.87 196.232,1447.87 387.102,1447.86 501.807,1447.76 598.789,1447.46 704.138,1446.62 801.261,1444.95 905.386,1441.56 1026.03,1434.32 1133.24,1423.33 \n",
       "  1227.25,1408.67 1329.75,1385.46 1432.86,1352.14 1489.86,1328.38 1546.86,1300.12 1601.1,1268.5 1655.33,1231.68 1711.72,1187.23 1768.11,1135.74 1815.58,1086.36 \n",
       "  1863.05,1030.93 1921.01,954.238 1978.96,866.659 2033.44,773.4 2087.92,668.538 2131.56,575.462 2175.2,473.699 2218.84,362.653 2262.48,241.705 2269.2,222.171 \n",
       "  2275.91,202.385 2282.63,182.345 2289.34,162.047 \n",
       "  \"/>\n",
       "<path clip-path=\"url(#clip440)\" d=\"\n",
       "M1976.69 289.865 L2278.07 289.865 L2278.07 168.905 L1976.69 168.905  Z\n",
       "  \" fill=\"#ffffff\" fill-rule=\"evenodd\" fill-opacity=\"1\"/>\n",
       "<polyline clip-path=\"url(#clip440)\" style=\"stroke:#000000; stroke-linecap:butt; stroke-linejoin:round; stroke-width:4; stroke-opacity:1; fill:none\" points=\"\n",
       "  1976.69,289.865 2278.07,289.865 2278.07,168.905 1976.69,168.905 1976.69,289.865 \n",
       "  \"/>\n",
       "<polyline clip-path=\"url(#clip440)\" style=\"stroke:#009af9; stroke-linecap:butt; stroke-linejoin:round; stroke-width:4; stroke-opacity:1; fill:none\" points=\"\n",
       "  2001.58,229.385 2150.95,229.385 \n",
       "  \"/>\n",
       "<path clip-path=\"url(#clip440)\" d=\"M2189.69 249.072 Q2187.89 253.702 2186.17 255.114 Q2184.46 256.526 2181.59 256.526 L2178.19 256.526 L2178.19 252.961 L2180.69 252.961 Q2182.45 252.961 2183.42 252.128 Q2184.39 251.294 2185.57 248.192 L2186.34 246.248 L2175.85 220.739 L2180.36 220.739 L2188.46 241.017 L2196.57 220.739 L2201.08 220.739 L2189.69 249.072 Z\" fill=\"#000000\" fill-rule=\"evenodd\" fill-opacity=\"1\" /><path clip-path=\"url(#clip440)\" d=\"M2208.37 242.729 L2216.01 242.729 L2216.01 216.364 L2207.7 218.031 L2207.7 213.771 L2215.96 212.105 L2220.64 212.105 L2220.64 242.729 L2228.28 242.729 L2228.28 246.665 L2208.37 246.665 L2208.37 242.729 Z\" fill=\"#000000\" fill-rule=\"evenodd\" fill-opacity=\"1\" /></svg>\n"
      ]
     },
     "execution_count": 5,
     "metadata": {},
     "output_type": "execute_result"
    }
   ],
   "source": [
    "D_max = 10\n",
    "D_min = 0\n",
    "\n",
    "fakeD(t) = 1 * (2 + t^5 / t₁^4)\n",
    "\n",
    "plot(fakeD, 0, t₁, title=\"Fake D law\")"
   ]
  },
  {
   "cell_type": "code",
   "execution_count": 6,
   "id": "39aae780",
   "metadata": {},
   "outputs": [
    {
     "data": {
      "image/svg+xml": [
       "<?xml version=\"1.0\" encoding=\"utf-8\"?>\n",
       "<svg xmlns=\"http://www.w3.org/2000/svg\" xmlns:xlink=\"http://www.w3.org/1999/xlink\" width=\"600\" height=\"400\" viewBox=\"0 0 2400 1600\">\n",
       "<defs>\n",
       "  <clipPath id=\"clip480\">\n",
       "    <rect x=\"0\" y=\"0\" width=\"2400\" height=\"1600\"/>\n",
       "  </clipPath>\n",
       "</defs>\n",
       "<path clip-path=\"url(#clip480)\" d=\"\n",
       "M0 1600 L2400 1600 L2400 0 L0 0  Z\n",
       "  \" fill=\"#ffffff\" fill-rule=\"evenodd\" fill-opacity=\"1\"/>\n",
       "<defs>\n",
       "  <clipPath id=\"clip481\">\n",
       "    <rect x=\"480\" y=\"0\" width=\"1681\" height=\"1600\"/>\n",
       "  </clipPath>\n",
       "</defs>\n",
       "<path clip-path=\"url(#clip480)\" d=\"\n",
       "M169.121 1486.45 L2112.76 1486.45 L2112.76 47.2441 L169.121 47.2441  Z\n",
       "  \" fill=\"#ffffff\" fill-rule=\"evenodd\" fill-opacity=\"1\"/>\n",
       "<defs>\n",
       "  <clipPath id=\"clip482\">\n",
       "    <rect x=\"169\" y=\"47\" width=\"1945\" height=\"1440\"/>\n",
       "  </clipPath>\n",
       "</defs>\n",
       "<polyline clip-path=\"url(#clip482)\" style=\"stroke:#000000; stroke-linecap:butt; stroke-linejoin:round; stroke-width:2; stroke-opacity:0.1; fill:none\" points=\"\n",
       "  548.13,1486.45 548.13,47.2441 \n",
       "  \"/>\n",
       "<polyline clip-path=\"url(#clip482)\" style=\"stroke:#000000; stroke-linecap:butt; stroke-linejoin:round; stroke-width:2; stroke-opacity:0.1; fill:none\" points=\"\n",
       "  936.857,1486.45 936.857,47.2441 \n",
       "  \"/>\n",
       "<polyline clip-path=\"url(#clip482)\" style=\"stroke:#000000; stroke-linecap:butt; stroke-linejoin:round; stroke-width:2; stroke-opacity:0.1; fill:none\" points=\"\n",
       "  1325.58,1486.45 1325.58,47.2441 \n",
       "  \"/>\n",
       "<polyline clip-path=\"url(#clip482)\" style=\"stroke:#000000; stroke-linecap:butt; stroke-linejoin:round; stroke-width:2; stroke-opacity:0.1; fill:none\" points=\"\n",
       "  1714.31,1486.45 1714.31,47.2441 \n",
       "  \"/>\n",
       "<polyline clip-path=\"url(#clip482)\" style=\"stroke:#000000; stroke-linecap:butt; stroke-linejoin:round; stroke-width:2; stroke-opacity:0.1; fill:none\" points=\"\n",
       "  2103.04,1486.45 2103.04,47.2441 \n",
       "  \"/>\n",
       "<polyline clip-path=\"url(#clip480)\" style=\"stroke:#000000; stroke-linecap:butt; stroke-linejoin:round; stroke-width:4; stroke-opacity:1; fill:none\" points=\"\n",
       "  169.121,1486.45 2112.76,1486.45 \n",
       "  \"/>\n",
       "<polyline clip-path=\"url(#clip480)\" style=\"stroke:#000000; stroke-linecap:butt; stroke-linejoin:round; stroke-width:4; stroke-opacity:1; fill:none\" points=\"\n",
       "  548.13,1486.45 548.13,1469.18 \n",
       "  \"/>\n",
       "<polyline clip-path=\"url(#clip480)\" style=\"stroke:#000000; stroke-linecap:butt; stroke-linejoin:round; stroke-width:4; stroke-opacity:1; fill:none\" points=\"\n",
       "  936.857,1486.45 936.857,1469.18 \n",
       "  \"/>\n",
       "<polyline clip-path=\"url(#clip480)\" style=\"stroke:#000000; stroke-linecap:butt; stroke-linejoin:round; stroke-width:4; stroke-opacity:1; fill:none\" points=\"\n",
       "  1325.58,1486.45 1325.58,1469.18 \n",
       "  \"/>\n",
       "<polyline clip-path=\"url(#clip480)\" style=\"stroke:#000000; stroke-linecap:butt; stroke-linejoin:round; stroke-width:4; stroke-opacity:1; fill:none\" points=\"\n",
       "  1714.31,1486.45 1714.31,1469.18 \n",
       "  \"/>\n",
       "<polyline clip-path=\"url(#clip480)\" style=\"stroke:#000000; stroke-linecap:butt; stroke-linejoin:round; stroke-width:4; stroke-opacity:1; fill:none\" points=\"\n",
       "  2103.04,1486.45 2103.04,1469.18 \n",
       "  \"/>\n",
       "<path clip-path=\"url(#clip480)\" d=\"M526.903 1543.18 L543.223 1543.18 L543.223 1547.12 L521.278 1547.12 L521.278 1543.18 Q523.94 1540.43 528.524 1535.8 Q533.13 1531.15 534.311 1529.81 Q536.556 1527.28 537.436 1525.55 Q538.338 1523.79 538.338 1522.1 Q538.338 1519.34 536.394 1517.61 Q534.473 1515.87 531.371 1515.87 Q529.172 1515.87 526.718 1516.63 Q524.288 1517.4 521.51 1518.95 L521.51 1514.23 Q524.334 1513.09 526.788 1512.51 Q529.241 1511.93 531.278 1511.93 Q536.649 1511.93 539.843 1514.62 Q543.037 1517.31 543.037 1521.8 Q543.037 1523.93 542.227 1525.85 Q541.44 1527.74 539.334 1530.34 Q538.755 1531.01 535.653 1534.23 Q532.551 1537.42 526.903 1543.18 Z\" fill=\"#000000\" fill-rule=\"evenodd\" fill-opacity=\"1\" /><path clip-path=\"url(#clip480)\" d=\"M563.037 1515.64 Q559.426 1515.64 557.598 1519.2 Q555.792 1522.75 555.792 1529.87 Q555.792 1536.98 557.598 1540.55 Q559.426 1544.09 563.037 1544.09 Q566.672 1544.09 568.477 1540.55 Q570.306 1536.98 570.306 1529.87 Q570.306 1522.75 568.477 1519.2 Q566.672 1515.64 563.037 1515.64 M563.037 1511.93 Q568.848 1511.93 571.903 1516.54 Q574.982 1521.12 574.982 1529.87 Q574.982 1538.6 571.903 1543.21 Q568.848 1547.79 563.037 1547.79 Q557.227 1547.79 554.149 1543.21 Q551.093 1538.6 551.093 1529.87 Q551.093 1521.12 554.149 1516.54 Q557.227 1511.93 563.037 1511.93 Z\" fill=\"#000000\" fill-rule=\"evenodd\" fill-opacity=\"1\" /><path clip-path=\"url(#clip480)\" d=\"M925.028 1516.63 L913.223 1535.08 L925.028 1535.08 L925.028 1516.63 M923.801 1512.56 L929.681 1512.56 L929.681 1535.08 L934.612 1535.08 L934.612 1538.97 L929.681 1538.97 L929.681 1547.12 L925.028 1547.12 L925.028 1538.97 L909.427 1538.97 L909.427 1534.46 L923.801 1512.56 Z\" fill=\"#000000\" fill-rule=\"evenodd\" fill-opacity=\"1\" /><path clip-path=\"url(#clip480)\" d=\"M952.343 1515.64 Q948.732 1515.64 946.903 1519.2 Q945.098 1522.75 945.098 1529.87 Q945.098 1536.98 946.903 1540.55 Q948.732 1544.09 952.343 1544.09 Q955.977 1544.09 957.783 1540.55 Q959.611 1536.98 959.611 1529.87 Q959.611 1522.75 957.783 1519.2 Q955.977 1515.64 952.343 1515.64 M952.343 1511.93 Q958.153 1511.93 961.209 1516.54 Q964.287 1521.12 964.287 1529.87 Q964.287 1538.6 961.209 1543.21 Q958.153 1547.79 952.343 1547.79 Q946.533 1547.79 943.454 1543.21 Q940.399 1538.6 940.399 1529.87 Q940.399 1521.12 943.454 1516.54 Q946.533 1511.93 952.343 1511.93 Z\" fill=\"#000000\" fill-rule=\"evenodd\" fill-opacity=\"1\" /><path clip-path=\"url(#clip480)\" d=\"M1310.99 1527.98 Q1307.84 1527.98 1305.99 1530.13 Q1304.16 1532.28 1304.16 1536.03 Q1304.16 1539.76 1305.99 1541.93 Q1307.84 1544.09 1310.99 1544.09 Q1314.14 1544.09 1315.97 1541.93 Q1317.82 1539.76 1317.82 1536.03 Q1317.82 1532.28 1315.97 1530.13 Q1314.14 1527.98 1310.99 1527.98 M1320.27 1513.32 L1320.27 1517.58 Q1318.51 1516.75 1316.71 1516.31 Q1314.92 1515.87 1313.16 1515.87 Q1308.54 1515.87 1306.08 1519 Q1303.65 1522.12 1303.3 1528.44 Q1304.67 1526.43 1306.73 1525.36 Q1308.79 1524.27 1311.27 1524.27 Q1316.48 1524.27 1319.48 1527.44 Q1322.52 1530.59 1322.52 1536.03 Q1322.52 1541.36 1319.37 1544.57 Q1316.22 1547.79 1310.99 1547.79 Q1304.99 1547.79 1301.82 1543.21 Q1298.65 1538.6 1298.65 1529.87 Q1298.65 1521.68 1302.54 1516.82 Q1306.43 1511.93 1312.98 1511.93 Q1314.74 1511.93 1316.52 1512.28 Q1318.33 1512.63 1320.27 1513.32 Z\" fill=\"#000000\" fill-rule=\"evenodd\" fill-opacity=\"1\" /><path clip-path=\"url(#clip480)\" d=\"M1340.57 1515.64 Q1336.96 1515.64 1335.13 1519.2 Q1333.33 1522.75 1333.33 1529.87 Q1333.33 1536.98 1335.13 1540.55 Q1336.96 1544.09 1340.57 1544.09 Q1344.21 1544.09 1346.01 1540.55 Q1347.84 1536.98 1347.84 1529.87 Q1347.84 1522.75 1346.01 1519.2 Q1344.21 1515.64 1340.57 1515.64 M1340.57 1511.93 Q1346.38 1511.93 1349.44 1516.54 Q1352.52 1521.12 1352.52 1529.87 Q1352.52 1538.6 1349.44 1543.21 Q1346.38 1547.79 1340.57 1547.79 Q1334.76 1547.79 1331.68 1543.21 Q1328.63 1538.6 1328.63 1529.87 Q1328.63 1521.12 1331.68 1516.54 Q1334.76 1511.93 1340.57 1511.93 Z\" fill=\"#000000\" fill-rule=\"evenodd\" fill-opacity=\"1\" /><path clip-path=\"url(#clip480)\" d=\"M1699.18 1530.71 Q1695.85 1530.71 1693.93 1532.49 Q1692.03 1534.27 1692.03 1537.4 Q1692.03 1540.52 1693.93 1542.31 Q1695.85 1544.09 1699.18 1544.09 Q1702.52 1544.09 1704.44 1542.31 Q1706.36 1540.5 1706.36 1537.4 Q1706.36 1534.27 1704.44 1532.49 Q1702.54 1530.71 1699.18 1530.71 M1694.51 1528.72 Q1691.5 1527.98 1689.81 1525.92 Q1688.14 1523.86 1688.14 1520.89 Q1688.14 1516.75 1691.08 1514.34 Q1694.04 1511.93 1699.18 1511.93 Q1704.35 1511.93 1707.29 1514.34 Q1710.23 1516.75 1710.23 1520.89 Q1710.23 1523.86 1708.54 1525.92 Q1706.87 1527.98 1703.88 1528.72 Q1707.26 1529.5 1709.14 1531.8 Q1711.04 1534.09 1711.04 1537.4 Q1711.04 1542.42 1707.96 1545.11 Q1704.9 1547.79 1699.18 1547.79 Q1693.47 1547.79 1690.39 1545.11 Q1687.33 1542.42 1687.33 1537.4 Q1687.33 1534.09 1689.23 1531.8 Q1691.13 1529.5 1694.51 1528.72 M1692.79 1521.33 Q1692.79 1524.02 1694.46 1525.52 Q1696.15 1527.03 1699.18 1527.03 Q1702.19 1527.03 1703.88 1525.52 Q1705.6 1524.02 1705.6 1521.33 Q1705.6 1518.65 1703.88 1517.14 Q1702.19 1515.64 1699.18 1515.64 Q1696.15 1515.64 1694.46 1517.14 Q1692.79 1518.65 1692.79 1521.33 Z\" fill=\"#000000\" fill-rule=\"evenodd\" fill-opacity=\"1\" /><path clip-path=\"url(#clip480)\" d=\"M1729.35 1515.64 Q1725.73 1515.64 1723.91 1519.2 Q1722.1 1522.75 1722.1 1529.87 Q1722.1 1536.98 1723.91 1540.55 Q1725.73 1544.09 1729.35 1544.09 Q1732.98 1544.09 1734.79 1540.55 Q1736.61 1536.98 1736.61 1529.87 Q1736.61 1522.75 1734.79 1519.2 Q1732.98 1515.64 1729.35 1515.64 M1729.35 1511.93 Q1735.16 1511.93 1738.21 1516.54 Q1741.29 1521.12 1741.29 1529.87 Q1741.29 1538.6 1738.21 1543.21 Q1735.16 1547.79 1729.35 1547.79 Q1723.54 1547.79 1720.46 1543.21 Q1717.4 1538.6 1717.4 1529.87 Q1717.4 1521.12 1720.46 1516.54 Q1723.54 1511.93 1729.35 1511.93 Z\" fill=\"#000000\" fill-rule=\"evenodd\" fill-opacity=\"1\" /><path clip-path=\"url(#clip480)\" d=\"M2062.64 1543.18 L2070.28 1543.18 L2070.28 1516.82 L2061.97 1518.49 L2061.97 1514.23 L2070.24 1512.56 L2074.91 1512.56 L2074.91 1543.18 L2082.55 1543.18 L2082.55 1547.12 L2062.64 1547.12 L2062.64 1543.18 Z\" fill=\"#000000\" fill-rule=\"evenodd\" fill-opacity=\"1\" /><path clip-path=\"url(#clip480)\" d=\"M2102 1515.64 Q2098.38 1515.64 2096.56 1519.2 Q2094.75 1522.75 2094.75 1529.87 Q2094.75 1536.98 2096.56 1540.55 Q2098.38 1544.09 2102 1544.09 Q2105.63 1544.09 2107.44 1540.55 Q2109.26 1536.98 2109.26 1529.87 Q2109.26 1522.75 2107.44 1519.2 Q2105.63 1515.64 2102 1515.64 M2102 1511.93 Q2107.81 1511.93 2110.86 1516.54 Q2113.94 1521.12 2113.94 1529.87 Q2113.94 1538.6 2110.86 1543.21 Q2107.81 1547.79 2102 1547.79 Q2096.19 1547.79 2093.11 1543.21 Q2090.05 1538.6 2090.05 1529.87 Q2090.05 1521.12 2093.11 1516.54 Q2096.19 1511.93 2102 1511.93 Z\" fill=\"#000000\" fill-rule=\"evenodd\" fill-opacity=\"1\" /><path clip-path=\"url(#clip480)\" d=\"M2132.16 1515.64 Q2128.55 1515.64 2126.72 1519.2 Q2124.91 1522.75 2124.91 1529.87 Q2124.91 1536.98 2126.72 1540.55 Q2128.55 1544.09 2132.16 1544.09 Q2135.79 1544.09 2137.6 1540.55 Q2139.43 1536.98 2139.43 1529.87 Q2139.43 1522.75 2137.6 1519.2 Q2135.79 1515.64 2132.16 1515.64 M2132.16 1511.93 Q2137.97 1511.93 2141.02 1516.54 Q2144.1 1521.12 2144.1 1529.87 Q2144.1 1538.6 2141.02 1543.21 Q2137.97 1547.79 2132.16 1547.79 Q2126.35 1547.79 2123.27 1543.21 Q2120.21 1538.6 2120.21 1529.87 Q2120.21 1521.12 2123.27 1516.54 Q2126.35 1511.93 2132.16 1511.93 Z\" fill=\"#000000\" fill-rule=\"evenodd\" fill-opacity=\"1\" /><polyline clip-path=\"url(#clip482)\" style=\"stroke:#000000; stroke-linecap:butt; stroke-linejoin:round; stroke-width:2; stroke-opacity:0.1; fill:none\" points=\"\n",
       "  169.121,1205.8 2112.76,1205.8 \n",
       "  \"/>\n",
       "<polyline clip-path=\"url(#clip482)\" style=\"stroke:#000000; stroke-linecap:butt; stroke-linejoin:round; stroke-width:2; stroke-opacity:0.1; fill:none\" points=\"\n",
       "  169.121,917.962 2112.76,917.962 \n",
       "  \"/>\n",
       "<polyline clip-path=\"url(#clip482)\" style=\"stroke:#000000; stroke-linecap:butt; stroke-linejoin:round; stroke-width:2; stroke-opacity:0.1; fill:none\" points=\"\n",
       "  169.121,630.122 2112.76,630.122 \n",
       "  \"/>\n",
       "<polyline clip-path=\"url(#clip482)\" style=\"stroke:#000000; stroke-linecap:butt; stroke-linejoin:round; stroke-width:2; stroke-opacity:0.1; fill:none\" points=\"\n",
       "  169.121,342.281 2112.76,342.281 \n",
       "  \"/>\n",
       "<polyline clip-path=\"url(#clip482)\" style=\"stroke:#000000; stroke-linecap:butt; stroke-linejoin:round; stroke-width:2; stroke-opacity:0.1; fill:none\" points=\"\n",
       "  169.121,54.4401 2112.76,54.4401 \n",
       "  \"/>\n",
       "<polyline clip-path=\"url(#clip480)\" style=\"stroke:#000000; stroke-linecap:butt; stroke-linejoin:round; stroke-width:4; stroke-opacity:1; fill:none\" points=\"\n",
       "  169.121,1486.45 169.121,47.2441 \n",
       "  \"/>\n",
       "<polyline clip-path=\"url(#clip480)\" style=\"stroke:#000000; stroke-linecap:butt; stroke-linejoin:round; stroke-width:4; stroke-opacity:1; fill:none\" points=\"\n",
       "  169.121,1205.8 192.445,1205.8 \n",
       "  \"/>\n",
       "<polyline clip-path=\"url(#clip480)\" style=\"stroke:#000000; stroke-linecap:butt; stroke-linejoin:round; stroke-width:4; stroke-opacity:1; fill:none\" points=\"\n",
       "  169.121,917.962 192.445,917.962 \n",
       "  \"/>\n",
       "<polyline clip-path=\"url(#clip480)\" style=\"stroke:#000000; stroke-linecap:butt; stroke-linejoin:round; stroke-width:4; stroke-opacity:1; fill:none\" points=\"\n",
       "  169.121,630.122 192.445,630.122 \n",
       "  \"/>\n",
       "<polyline clip-path=\"url(#clip480)\" style=\"stroke:#000000; stroke-linecap:butt; stroke-linejoin:round; stroke-width:4; stroke-opacity:1; fill:none\" points=\"\n",
       "  169.121,342.281 192.445,342.281 \n",
       "  \"/>\n",
       "<polyline clip-path=\"url(#clip480)\" style=\"stroke:#000000; stroke-linecap:butt; stroke-linejoin:round; stroke-width:4; stroke-opacity:1; fill:none\" points=\"\n",
       "  169.121,54.4401 192.445,54.4401 \n",
       "  \"/>\n",
       "<path clip-path=\"url(#clip480)\" d=\"M85.0429 1219.15 L101.362 1219.15 L101.362 1223.08 L79.4179 1223.08 L79.4179 1219.15 Q82.0799 1216.39 86.6632 1211.76 Q91.2697 1207.11 92.4502 1205.77 Q94.6956 1203.25 95.5752 1201.51 Q96.478 1199.75 96.478 1198.06 Q96.478 1195.31 94.5336 1193.57 Q92.6123 1191.83 89.5104 1191.83 Q87.3114 1191.83 84.8577 1192.6 Q82.4271 1193.36 79.6494 1194.91 L79.6494 1190.19 Q82.4734 1189.06 84.9271 1188.48 Q87.3808 1187.9 89.4178 1187.9 Q94.7882 1187.9 97.9826 1190.58 Q101.177 1193.27 101.177 1197.76 Q101.177 1199.89 100.367 1201.81 Q99.5798 1203.71 97.4734 1206.3 Q96.8947 1206.97 93.7928 1210.19 Q90.691 1213.38 85.0429 1219.15 Z\" fill=\"#000000\" fill-rule=\"evenodd\" fill-opacity=\"1\" /><path clip-path=\"url(#clip480)\" d=\"M121.177 1191.6 Q117.566 1191.6 115.737 1195.17 Q113.932 1198.71 113.932 1205.84 Q113.932 1212.94 115.737 1216.51 Q117.566 1220.05 121.177 1220.05 Q124.811 1220.05 126.617 1216.51 Q128.445 1212.94 128.445 1205.84 Q128.445 1198.71 126.617 1195.17 Q124.811 1191.6 121.177 1191.6 M121.177 1187.9 Q126.987 1187.9 130.043 1192.5 Q133.121 1197.09 133.121 1205.84 Q133.121 1214.56 130.043 1219.17 Q126.987 1223.75 121.177 1223.75 Q115.367 1223.75 112.288 1219.17 Q109.233 1214.56 109.233 1205.84 Q109.233 1197.09 112.288 1192.5 Q115.367 1187.9 121.177 1187.9 Z\" fill=\"#000000\" fill-rule=\"evenodd\" fill-opacity=\"1\" /><path clip-path=\"url(#clip480)\" d=\"M93.8623 904.756 L82.0568 923.205 L93.8623 923.205 L93.8623 904.756 M92.6354 900.682 L98.515 900.682 L98.515 923.205 L103.446 923.205 L103.446 927.094 L98.515 927.094 L98.515 935.242 L93.8623 935.242 L93.8623 927.094 L78.2605 927.094 L78.2605 922.58 L92.6354 900.682 Z\" fill=\"#000000\" fill-rule=\"evenodd\" fill-opacity=\"1\" /><path clip-path=\"url(#clip480)\" d=\"M121.177 903.761 Q117.566 903.761 115.737 907.326 Q113.932 910.868 113.932 917.997 Q113.932 925.104 115.737 928.668 Q117.566 932.21 121.177 932.21 Q124.811 932.21 126.617 928.668 Q128.445 925.104 128.445 917.997 Q128.445 910.868 126.617 907.326 Q124.811 903.761 121.177 903.761 M121.177 900.057 Q126.987 900.057 130.043 904.664 Q133.121 909.247 133.121 917.997 Q133.121 926.724 130.043 931.33 Q126.987 935.914 121.177 935.914 Q115.367 935.914 112.288 931.33 Q109.233 926.724 109.233 917.997 Q109.233 909.247 112.288 904.664 Q115.367 900.057 121.177 900.057 Z\" fill=\"#000000\" fill-rule=\"evenodd\" fill-opacity=\"1\" /><path clip-path=\"url(#clip480)\" d=\"M91.5938 628.258 Q88.4456 628.258 86.5938 630.411 Q84.7651 632.564 84.7651 636.314 Q84.7651 640.041 86.5938 642.216 Q88.4456 644.369 91.5938 644.369 Q94.7419 644.369 96.5706 642.216 Q98.4224 640.041 98.4224 636.314 Q98.4224 632.564 96.5706 630.411 Q94.7419 628.258 91.5938 628.258 M100.876 613.606 L100.876 617.865 Q99.1169 617.031 97.3113 616.592 Q95.5289 616.152 93.7697 616.152 Q89.1401 616.152 86.6864 619.277 Q84.2558 622.402 83.9086 628.721 Q85.2743 626.707 87.3345 625.642 Q89.3947 624.555 91.8715 624.555 Q97.0798 624.555 100.089 627.726 Q103.121 630.874 103.121 636.314 Q103.121 641.638 99.9733 644.855 Q96.8252 648.073 91.5938 648.073 Q85.5984 648.073 82.4271 643.49 Q79.2559 638.883 79.2559 630.156 Q79.2559 621.962 83.1447 617.101 Q87.0336 612.217 93.5845 612.217 Q95.3437 612.217 97.1261 612.564 Q98.9317 612.911 100.876 613.606 Z\" fill=\"#000000\" fill-rule=\"evenodd\" fill-opacity=\"1\" /><path clip-path=\"url(#clip480)\" d=\"M121.177 615.92 Q117.566 615.92 115.737 619.485 Q113.932 623.027 113.932 630.156 Q113.932 637.263 115.737 640.828 Q117.566 644.369 121.177 644.369 Q124.811 644.369 126.617 640.828 Q128.445 637.263 128.445 630.156 Q128.445 623.027 126.617 619.485 Q124.811 615.92 121.177 615.92 M121.177 612.217 Q126.987 612.217 130.043 616.823 Q133.121 621.406 133.121 630.156 Q133.121 638.883 130.043 643.49 Q126.987 648.073 121.177 648.073 Q115.367 648.073 112.288 643.49 Q109.233 638.883 109.233 630.156 Q109.233 621.406 112.288 616.823 Q115.367 612.217 121.177 612.217 Z\" fill=\"#000000\" fill-rule=\"evenodd\" fill-opacity=\"1\" /><path clip-path=\"url(#clip480)\" d=\"M91.0151 343.149 Q87.6817 343.149 85.7605 344.931 Q83.8623 346.714 83.8623 349.839 Q83.8623 352.964 85.7605 354.746 Q87.6817 356.528 91.0151 356.528 Q94.3484 356.528 96.2697 354.746 Q98.1909 352.941 98.1909 349.839 Q98.1909 346.714 96.2697 344.931 Q94.3715 343.149 91.0151 343.149 M86.3392 341.158 Q83.3299 340.417 81.6401 338.357 Q79.9735 336.297 79.9735 333.334 Q79.9735 329.191 82.9133 326.783 Q85.8762 324.376 91.0151 324.376 Q96.1771 324.376 99.1169 326.783 Q102.057 329.191 102.057 333.334 Q102.057 336.297 100.367 338.357 Q98.7002 340.417 95.7141 341.158 Q99.0937 341.945 100.969 344.237 Q102.867 346.529 102.867 349.839 Q102.867 354.862 99.7882 357.547 Q96.7326 360.232 91.0151 360.232 Q85.2975 360.232 82.2188 357.547 Q79.1633 354.862 79.1633 349.839 Q79.1633 346.529 81.0614 344.237 Q82.9595 341.945 86.3392 341.158 M84.6262 333.774 Q84.6262 336.459 86.2929 337.964 Q87.9827 339.468 91.0151 339.468 Q94.0243 339.468 95.7141 337.964 Q97.4271 336.459 97.4271 333.774 Q97.4271 331.089 95.7141 329.584 Q94.0243 328.08 91.0151 328.08 Q87.9827 328.08 86.2929 329.584 Q84.6262 331.089 84.6262 333.774 Z\" fill=\"#000000\" fill-rule=\"evenodd\" fill-opacity=\"1\" /><path clip-path=\"url(#clip480)\" d=\"M121.177 328.08 Q117.566 328.08 115.737 331.644 Q113.932 335.186 113.932 342.316 Q113.932 349.422 115.737 352.987 Q117.566 356.528 121.177 356.528 Q124.811 356.528 126.617 352.987 Q128.445 349.422 128.445 342.316 Q128.445 335.186 126.617 331.644 Q124.811 328.08 121.177 328.08 M121.177 324.376 Q126.987 324.376 130.043 328.982 Q133.121 333.566 133.121 342.316 Q133.121 351.042 130.043 355.649 Q126.987 360.232 121.177 360.232 Q115.367 360.232 112.288 355.649 Q109.233 351.042 109.233 342.316 Q109.233 333.566 112.288 328.982 Q115.367 324.376 121.177 324.376 Z\" fill=\"#000000\" fill-rule=\"evenodd\" fill-opacity=\"1\" /><path clip-path=\"url(#clip480)\" d=\"M51.6634 67.7849 L59.3023 67.7849 L59.3023 41.4193 L50.9921 43.086 L50.9921 38.8268 L59.256 37.1601 L63.9319 37.1601 L63.9319 67.7849 L71.5707 67.7849 L71.5707 71.7201 L51.6634 71.7201 L51.6634 67.7849 Z\" fill=\"#000000\" fill-rule=\"evenodd\" fill-opacity=\"1\" /><path clip-path=\"url(#clip480)\" d=\"M91.0151 40.2388 Q87.404 40.2388 85.5753 43.8036 Q83.7697 47.3452 83.7697 54.4748 Q83.7697 61.5813 85.5753 65.1461 Q87.404 68.6877 91.0151 68.6877 Q94.6493 68.6877 96.4548 65.1461 Q98.2835 61.5813 98.2835 54.4748 Q98.2835 47.3452 96.4548 43.8036 Q94.6493 40.2388 91.0151 40.2388 M91.0151 36.5351 Q96.8252 36.5351 99.8808 41.1416 Q102.959 45.7249 102.959 54.4748 Q102.959 63.2016 99.8808 67.8081 Q96.8252 72.3914 91.0151 72.3914 Q85.2049 72.3914 82.1262 67.8081 Q79.0707 63.2016 79.0707 54.4748 Q79.0707 45.7249 82.1262 41.1416 Q85.2049 36.5351 91.0151 36.5351 Z\" fill=\"#000000\" fill-rule=\"evenodd\" fill-opacity=\"1\" /><path clip-path=\"url(#clip480)\" d=\"M121.177 40.2388 Q117.566 40.2388 115.737 43.8036 Q113.932 47.3452 113.932 54.4748 Q113.932 61.5813 115.737 65.1461 Q117.566 68.6877 121.177 68.6877 Q124.811 68.6877 126.617 65.1461 Q128.445 61.5813 128.445 54.4748 Q128.445 47.3452 126.617 43.8036 Q124.811 40.2388 121.177 40.2388 M121.177 36.5351 Q126.987 36.5351 130.043 41.1416 Q133.121 45.7249 133.121 54.4748 Q133.121 63.2016 130.043 67.8081 Q126.987 72.3914 121.177 72.3914 Q115.367 72.3914 112.288 67.8081 Q109.233 63.2016 109.233 54.4748 Q109.233 45.7249 112.288 41.1416 Q115.367 36.5351 121.177 36.5351 Z\" fill=\"#000000\" fill-rule=\"evenodd\" fill-opacity=\"1\" /><g clip-path=\"url(#clip482)\">\n",
       "<image width=\"1944\" height=\"1439\" xlink:href=\"data:image/png;base64,\n",
       "iVBORw0KGgoAAAANSUhEUgAAB5gAAAWfCAYAAAB+xCq9AAAgAElEQVR4nOzbW3LcSJYEUA8A+WDt\n",
       "f63TXUVmYj702yW7M+aSUK1zFuB2AwgEaPTESo4z/J+tXz3Ad117uusqXrdL34JLD1d21bVeda7f\n",
       "zVVff+25inlnd7bzsvcAAAAAAIC/s/3qAQAAAAAAAAD4Z1AwAwAAAAAAADCiYAYAAAAAAABgRMEM\n",
       "AAAAAAAAwIiCGQAAAAAAAIARBTMAAAAAAAAAIwpmAAAAAAAAAEYUzAAAAAAAAACMKJgBAAAAAAAA\n",
       "GFEwAwAAAAAAADCiYAYAAAAAAABgRMEMAAAAAAAAwIiCGQAAAAAAAIARBTMAAAAAAAAAI8evHuBn\n",
       "Wr96gO+69nSXtK58zcz2/3Pd2daFZ+u68jrPcl5vrWd9tqv6XdYJAAAAAMDf8QUzAAAAAAAAACMK\n",
       "ZgAAAAAAAABGFMwAAAAAAAAAjCiYAQAAAAAAABhRMAMAAAAAAAAwomAGAAAAAAAAYETBDAAAAAAA\n",
       "AMCIghkAAAAAAACAEQUzAAAAAAAAACMKZgAAAAAAAABGFMwAAAAAAAAAjCiYAQAAAAAAABhRMAMA\n",
       "AAAAAAAwcvzqAb5n/eoBvuva03UV13rpy9Yc7soLbc/Wy+tftebe/Z3u6VWdv3qAv7XO3mxn3rWs\n",
       "uvZzULxuAAAAAAD8HL5gBgAAAAAAAGBEwQwAAAAAAADAiIIZAAAAAAAAgBEFMwAAAAAAAAAjCmYA\n",
       "AAAAAAAARhTMAAAAAAAAAIwomAEAAAAAAAAYUTADAAAAAAAAMKJgBgAAAAAAAGBEwQwAAAAAAADA\n",
       "iIIZAAAAAAAAgBEFMwAAAAAAAAAjCmYAAAAAAAAARhTMAAAAAAAAAIwc7cB14bTfR/m6VeOufE+b\n",
       "s7XX2ctbV74H67rX7be5B7+RM2cvbPWyilFJkjPvbiAAAAAAAL81XzADAAAAAAAAMKJgBgAAAAAA\n",
       "AGBEwQwAAAAAAADAiIIZAAAAAAAAgBEFMwAAAAAAAAAjCmYAAAAAAAAARhTMAAAAAAAAAIwomAEA\n",
       "AAAAAAAYUTADAAAAAAAAMKJgBgAAAAAAAGBEwQwAAAAAAADAiIIZAAAAAAAAgBEFMwAAAAAAAAAj\n",
       "x6pH9hN/C+vK16052++xzlVfZzFvtX9X8rtct+s+B1dOazpzVvNWM+/sZZ3lW7Cay8y7FwYAAAAA\n",
       "wD+SL5gBAAAAAAAAGFEwAwAAAAAAADCiYAYAAAAAAABgRMEMAAAAAAAAwIiCGQAAAAAAAIARBTMA\n",
       "AAAAAAAAIwpmAAAAAAAAAEYUzAAAAAAAAACMKJgBAAAAAAAAGFEwAwAAAAAAADCiYAYAAAAAAABg\n",
       "RMEMAAAAAAAAwIiCGQAAAAAAAICR41cP8I+11q+e4DvaszXzelnryuus74/eb0Gufd26v3nprvW6\n",
       "+6N/T6+pvcrzfPfC1tnLKkYlydm8cNWw7j0tXzYAAAAAAP6GL5gBAAAAAAAAGFEwAwAAAAAAADCi\n",
       "YAYAAAAAAABgRMEMAAAAAAAAwIiCGQAAAAAAAIARBTMAAAAAAAAAIwpmAAAAAAAAAEYUzAAAAAAA\n",
       "AACMKJgBAAAAAAAAGFEwAwAAAAAAADCiYAYAAAAAAABgRMEMAAAAAAAAwIiCGQAAAAAAAIARBTMA\n",
       "AAAAAAAAI0eyfvUMP8+68lqbs7XX2ctbV17n6v3eorvOpPpbkOI6k/Zay7NV11p8Dupn0YWfq6qz\n",
       "mraKeWdetay6s7nO9u/Smvutuz8AAAAAAPjPfMEMAAAAAAAAwIiCGQAAAAAAAIARBTMAAAAAAAAA\n",
       "IwpmAAAAAAAAAEYUzAAAAAAAAACMKJgBAAAAAAAAGFEwAwAAAAAAADCiYAYAAAAAAABgRMEMAAAA\n",
       "AAAAwIiCGQAAAAAAAIARBTMAAAAAAAAAIwpmAAAAAAAAAEYUzAAAAAAAAACMHL96gO9a61dP8B3t\n",
       "2Zp53dlWM281f9PQXmdxtuo6y7OVf1eyimvtrrM7W/O6rfrZ1surPu9lZ85y4ruYdN0zvHnd1vlV\n",
       "y0pSv6MAAAAAAPx4vmAGAAAAAAAAYETBDAAAAAAAAMCIghkAAAAAAACAEQUzAAAAAAAAACMKZgAA\n",
       "AAAAAABGFMwAAAAAAAAAjCiYAQAAAAAAABhRMAMAAAAAAAAwomAGAAAAAAAAYETBDAAAAAAAAMCI\n",
       "ghkAAAAAAACAEQUzAAAAAAAAACMKZgAAAAAAAABGFMwAAAAAAAAAjBz9yNWPrGnO1l5nL2+1Z1vN\n",
       "3yH0slb79xHFdbZnW9XZ9lpWUp5tlWdr7rcL74/q+bGue4af59nNW+9i2Fct6l0+w9fZW+dZfR8k\n",
       "6d5SAAAAAAB+Al8wAwAAAAAAADCiYAYAAAAAAABgRMEMAAAAAAAAwIiCGQAAAAAAAIARBTMAAAAA\n",
       "AAAAIwpmAAAAAAAAAEYUzAAAAAAAAACMKJgBAAAAAAAAGFEwAwAAAAAAADCiYAYAAAAAAABgRMEM\n",
       "AAAAAAAAwIiCGQAAAAAAAIARBTMAAAAAAAAAI0eyuonVuPJs1bzubKuZt9q/G+jlrWZWfZ17Lak9\n",
       "21rF2YrrTJKtOVsxKynPduX9UTw/qmdR2bnOat77fNWyqmdb/b3cW+d5dvfuWV1rd38AAAAAAPCf\n",
       "+YIZAAAAAAAAgBEFMwAAAAAAAAAjCmYAAAAAAAAARhTMAAAAAAAAAIwomAEAAAAAAAAYUTADAAAA\n",
       "AAAAMKJgBgAAAAAAAGBEwQwAAAAAAADAiIIZAAAAAAAAgBEFMwAAAAAAAAAjCmYAAAAAAAAARhTM\n",
       "AAAAAAAAAIwomAEAAAAAAAAYObLakc3A9nC9vNWebTW7/u7vBlYxb1XXuRezkrV6eVsxK0nWOmpZ\n",
       "7dm25mz1e3rN69Z8ppLuc1U/24rOnNW89/kqZn3Wsr7etagkyXt99cLK50d1u3W3BwAAAAAAf8MX\n",
       "zAAAAAAAAACMKJgBAAAAAAAAGFEwAwAAAAAAADCiYAYAAAAAAABgRMEMAAAAAAAAwIiCGQAAAAAA\n",
       "AIARBTMAAAAAAAAAIwpmAAAAAAAAAEYUzAAAAAAAAACMKJgBAAAAAAAAGFEwAwAAAAAAADCiYAYA\n",
       "AAAAAABgRMEMAAAAAAAAwIiCGQAAAAAAAICRI1m/eoafZjXXutrdfC9vlX83sJprXXstaksvK0nW\n",
       "OmpZWzGrnfc7zbY3Z0svaxWfg6T7LFTPySRnNetdTEve+aplvcr3tKm5zvVur/P3+RsEAAAAAOC/\n",
       "hS+YAQAAAAAAABhRMAMAAAAAAAAwomAGAAAAAAAAYETBDAAAAAAAAMCIghkAAAAAAACAEQUzAAAA\n",
       "AAAAACMKZgAAAAAAAABGFMwAAAAAAAAAjCiYAQAAAAAAABhRMAMAAAAAAAAwomAGAAAAAAAAYETB\n",
       "DAAAAAAAAMCIghkAAAAAAACAkaMfuS6a1c7rzraKeWu1fzew15K2YtZa3e27FfO2datlJcnenG1r\n",
       "z9bL23Pd2bbibHvxOUiS1Xyu6uduz5l3Ne+1vmpZX/mzlpV19rKSvNZnLetrdfcuAAAAAAD/PL5g\n",
       "BgAAAAAAAGBEwQwAAAAAAADAiIIZAAAAAAAAgBEFMwAAAAAAAAAjCmYAAAAAAAAARhTMAAAAAAAA\n",
       "AIwomAEAAAAAAAAYUTADAAAAAAAAMKJgBgAAAAAAAGBEwQwAAAAAAADAiIIZAAAAAAAAgBEFMwAA\n",
       "AAAAAAAjCmYAAAAAAAAARhTMAAAAAAAAAIwcySpH9vJWu/9evbz+bHsxrJmVrOJsax21rK2Y9S3v\n",
       "Vsvat15WkuzrfsmsJDmas6V73Y5cc7a9/IxuZ/EZrf/u6OwlrV5Wknzls5a1Fe/puZXXef5Vy2qf\n",
       "u/2/QQAAAAAA+NF8wQwAAAAAAADAiIIZAAAAAAAAgBEFMwAAAAAAAAAjCmYAAAAAAAAARhTMAAAA\n",
       "AAAAAIwomAEAAAAAAAAYUTADAAAAAAAAMKJgBgAAAAAAAGBEwQwAAAAAAADAiIIZAAAAAAAAgBEF\n",
       "MwAAAAAAAAAjCmYAAAAAAAAARhTMAAAAAAAAAIwcyaoGrmbe6s5WXevqdvOr2PWv8mzb2otZRzHr\n",
       "VstKkn3r5e3rUctKkmPdi1nl2dLLu6W3ziQ5innHWdwfZ++ZSpI9vbzqGV72Pt/VvFfxDGmek2e6\n",
       "6/za/qxlNc/wpPvuO2tJAAAAAAB8jy+YAQAAAAAAABhRMAMAAAAAAAAwomAGAAAAAAAAYETBDAAA\n",
       "AAAAAMCIghkAAAAAAACAEQUzAAAAAAAAACMKZgAAAAAAAABGFMwAAAAAAAAAjCiYAQAAAAAAABhR\n",
       "MAMAAAAAAAAwomAGAAAAAAAAYETBDAAAAAAAAMCIghkAAAAAAACAkaMfuS6alaxin97MSpK1irOt\n",
       "vZb1La+3TbZi1r7dallJsq97LesoZiXJbT1rWUcetawkuac32+0sX7di3q14XB5n9xndq2db99xt\n",
       "eues5n3lVcvazt49OLd3LStJPte/a1nb6p677fc8AAAAAAA/ni+YAQAAAAAAABhRMAMAAAAAAAAw\n",
       "omAGAAAAAAAAYETBDAAAAAAAAMCIghkAAAAAAACAEQUzAAAAAAAAACMKZgAAAAAAAABGFMwAAAAA\n",
       "AAAAjCiYAQAAAAAAABhRMAMAAAAAAAAwomAGAAAAAAAAYETBDAAAAAAAAMCIghkAAAAAAACAEQUz\n",
       "AAAAAAAAACPHyuomrl7eavffq5jXzEqysteytnXUstp527rVsvZ1r2UlybEetazbetaykuSWXt69\n",
       "mJUk97M429m9p/ezt3dvKWaVz4+9eI7X3wlF75zVvM+zeO4Wr9vrfNeykuTP4nm0b70zPEn3Xdrd\n",
       "HgAAAAAA/A1fMAMAAAAAAAAwomAGAAAAAAAAYETBDAAAAAAAAMCIghkAAAAAAACAEQUzAAAAAAAA\n",
       "ACMKZgAAAAAAAABGFMwAAAAAAAAAjCiYAQAAAAAAABhRMAMAAAAAAAAwomAGAAAAAAAAYETBDAAA\n",
       "AAAAAMCIghkAAAAAAACAEQUzAAAAAAAAACNHssqRzc6623+vYt7KXstKkrV6ee3ZtnXUsvZ1K2bd\n",
       "a1lJcqxHLeuWZy0rSe75qGU9zu5sj7N3Hx5nb38kyb24d++rd37cillJsq/eOX7lXx29y3l/vXuJ\n",
       "29m7B6+zu9J/r9750T53m+9lAAAAAAB+Dv/ZBQAAAAAAAGBEwQwAAAAAAADAiIIZAAAAAAAAgBEF\n",
       "MwAAAAAAAAAjCmYAAAAAAAAARhTMAAAAAAAAAIwomAEAAAAAAAAYUTADAAAAAAAAMKJgBgAAAAAA\n",
       "AGBEwQwAAAAAAADAiIIZAAAAAAAAgBEFMwAAAAAAAAAjCmYAAAAAAAAARhTMAAAAAAAAAIwcWd2O\n",
       "eWX1slYv61teb63NrG95ey1rW0ctK0n2dbtk1rHutawkueVRzHrWspLkcfZmexazkuRx9u7ps7x3\n",
       "H8Xn6r71zqNbMStJjuJZWR6t6nV2827N6/buZb1e3bPtf86PWtaxuudHis8oAAAAAAA/hy+YAQAA\n",
       "AAAAABhRMAMAAAAAAAAwomAGAAAAAAAAYETBDAAAAAAAAMCIghkAAAAAAACAEQUzAAAAAAAAACMK\n",
       "ZgAAAAAAAABGFMwAAAAAAAAAjCiYAQAAAAAAABhRMAMAAAAAAAAwomAGAAAAAAAAYETBDAAAAAAA\n",
       "AMCIghkAAAAAAACAkSNZ5chmZ93uv3t5K3stK0m21cvb1lHL+pZ3q2Xt617LOvKoZSXJrZh3P7uz\n",
       "PYp5j7N3P5Pko7jfnlv3uXpsvWf+sffOylv5aGvmXflXR6+zm/fXu3dP16t35b7O7hn+LJ4fx9Y9\n",
       "29rvUgAAAAAAfrwrdwkAAAAAAAAAXIiCGQAAAAAAAIARBTMAAAAAAAAAIwpmAAAAAAAAAEYUzAAA\n",
       "AAAAAACMKJgBAAAAAAAAGFEwAwAAAAAAADCiYAYAAAAAAABgRMEMAAAAAAAAwIiCGQAAAAAAAIAR\n",
       "BTMAAAAAAAAAIwpmAAAAAAAAAEYUzAAAAAAAAACMHCurGrhWL2+tbv/dzNvWXsv6lnfUsvZiVjvv\n",
       "WPdeVnpZSXI7H7Wsx9md7XHealnP8v54br1n4WPvPvPPvXcePYqP/L38055bMW/rvhKqb5jXWQxL\n",
       "8uerl9V8l36+u++X51fvPLrlWctK+u9SAAAAAAB+PF8wAwAAAAAAADCiYAYAAAAAAABgRMEMAAAA\n",
       "AAAAwIiCGQAAAAAAAIARBTMAAAAAAAAAIwpmAAAAAAAAAEYUzAAAAAAAAACMKJgBAAAAAAAAGFEw\n",
       "AwAAAAAAADCiYAYAAAAAAABgRMEMAAAAAAAAwIiCGQAAAAAAAIARBTMAAAAAAAAAIwpmAAAAAAAA\n",
       "AEaOZJUjm511t/9e2XtZq5eVJFtxtm0dtawk2XO/ZNYtj1pWktzPXt797K0zSR7Fe/rcunv3ufee\n",
       "04+9ex49i4/Cs3jZHuWf9ty2s5ZVvgVJerO9zu5wx6ovtuKvd3eDPF+3WtY9z1pWkqzy+woAAAAA\n",
       "gB/PF8wAAAAAAAAAjCiYAQAAAAAAABhRMAMAAAAAAAAwomAGAAAAAAAAYETBDAAAAAAAAMCIghkA\n",
       "AAAAAACAEQUzAAAAAAAAACMKZgAAAAAAAABGFMwAAAAAAAAAjCiYAQAAAAAAABhRMAMAAAAAAAAw\n",
       "omAGAAAAAAAAYETBDAAAAAAAAMDIkbW6icW8tbr9dzNvq8921LK2datlJclezDtyr2Xdzl5WktzT\n",
       "W+cjvfuZJI+197K27t792HvP/Ef3suWjd9nysZ+1rEcxK0nuWy9vX93Zml5n9311q77/es/VX+9a\n",
       "VJLk+dV7EO7ns5aV9N9XAAAAAAD8eL5gBgAAAAAAAGBEwQwAAAAAAADAiIIZAAAAAAAAgBEFMwAA\n",
       "AAAAAAAjCmYAAAAAAAAARhTMAAAAAAAAAIwomAEAAAAAAAAYUTADAAAAAAAAMKJgBgAAAAAAAGBE\n",
       "wQwAAAAAAADAiIIZAAAAAAAAgBEFMwAAAAAAAAAjCmYAAAAAAAAARo5V7pibefXZVnO2vZaVJNvq\n",
       "5e05alnf8m61rKOYdTt7Wd/yetftXryfSfLYenv3ua9a1re8XtZH97Llj+OsZX3s71rWs5iVJPet\n",
       "t85j9bK+6eW9zu474Sg+V82r9u9Xd53P4jofX/daVpLsW/ccBwAAAADgx/MFMwAAAAAAAAAjCmYA\n",
       "AAAAAAAARhTMAAAAAAAAAIwomAEAAAAAAAAYUTADAAAAAAAAMKJgBgAAAAAAAGBEwQwAAAAAAADA\n",
       "iIIZAAAAAAAAgBEFMwAAAAAAAAAjCmYAAAAAAAAARhTMAAAAAAAAAIwomAEAAAAAAAAYUTADAAAA\n",
       "AAAAMKJgBgAAAAAAAGDkSFY5spe3Vne2LXsta61eVpJs67hkVpIcudWybmcxK9113ov74751f7tx\n",
       "33rPwqO7dfMs5j33sxeW5I/93cs6elnP/VXLSpLH1pvtKGa1vc7uO+F49Tbv++ydR/96dc+Pj714\n",
       "fnzea1lJsq9uHgAAAAAAP54vmAEAAAAAAAAYUTADAAAAAAAAMKJgBgAAAAAAAGBEwQwAAAAAAADA\n",
       "iIIZAAAAAAAAgBEFMwAAAAAAAAAjCmYAAAAAAAAARhTMAAAAAAAAAIwomAEAAAAAAAAYUTADAAAA\n",
       "AAAAMKJgBgAAAAAAAGBEwQwAAAAAAADAiIIZAAAAAAAAgJEjWdXAtZqddbf/bs62Za9ltfP2HLWs\n",
       "dt5xNrO69+BW3B/31X2uHnsv71H+WcmzeBs+9rMXluRjfxezXrWsP46vWlaSPLbebMfWu2ZJ0nwU\n",
       "vt7d52pfvf32Onuz/eur+5A+917eY3XfL0ce1TwAAAAAAH48XzADAAAAAAAAMKJgBgAAAAAAAGBE\n",
       "wQwAAAAAAADAiIIZAAAAAAAAgBEFMwAAAAAAAAAjCmYAAAAAAAAARhTMAAAAAAAAAIwomAEAAAAA\n",
       "AAAYUTADAAAAAAAAMKJgBgAAAAAAAGBEwQwAAAAAAADAiIIZAAAAAAAAgBEFMwAAAAAAAAAjCmYA\n",
       "AAAAAAAARo61VjVwpZe3yv13M2+tvZaVJFuOS2YlyX728vbibLd078Ft9fbHbes+V/fio/DoXrY8\n",
       "trOW9dzftaxvea9a1h/HVy3ro5iVJM+9l3ds3XuwVm9/vN7dd8JenO2rONvH0X1IP47ebM/Vfb8c\n",
       "eVbzAAAAAAD48XzBDAAAAAAAAMCIghkAAAAAAACAEQUzAAAAAAAAACMKZgAAAAAAAABGFMwAAAAA\n",
       "AAAAjCiYAQAAAAAAABhRMAMAAAAAAAAwomAGAAAAAAAAYETBDAAAAAAAAMCIghkAAAAAAACAEQUz\n",
       "AAAAAAAAACMKZgAAAAAAAABGFMwAAAAAAAAAjBzJKkf28tbqzrZWr0/fyt38Vp1tr2UlyV7MO5pZ\n",
       "xWvWzrtt3b17Ky71Xv5ZyWM/i1nvWlaSPIt5z/2rlvVxfNaykuR59Ga7ba9aVpKs1dsfr3f73O3N\n",
       "9lmc7Y+vo5aVJM/iK+Gxde/B7XxW8wAAAAAA+PF8wQwAAAAAAADAiIIZAAAAAAAAgBEFMwAAAAAA\n",
       "AAAjCmYAAAAAAAAARhTMAAAAAAAAAIwomAEAAAAAAAAYUTADAAAAAAAAMKJgBgAAAAAAAGBEwQwA\n",
       "AAAAAADAiIIZAAAAAAAAgBEFMwAAAAAAAAAjCmYAAAAAAAAARhTMAAAAAAAAAIwcyaoGrtXLW+X+\n",
       "u5m3Vnu2vZa1FbOSZC/m7Wfvuu3le3AU447uY5VbcbbbdvbCkty3dy3rUcxKkuf+6mUdX8Wsz1pW\n",
       "kjxvvbxb8ZolyVq9/fZ+l8/d4myfr945+VG+Bx97b53PrXu43V8f1TwAAAAAAH48XzADAAAAAAAA\n",
       "MKJgBgAAAAAAAGBEwQwAAAAAAADAiIIZAAAAAAAAgBEFMwAAAAAAAAAjCmYAAAAAAAAARhTMAAAA\n",
       "AAAAAIwomAEAAAAAAAAYUTADAAAAAAAAMKJgBgAAAAAAAGBEwQwAAAAAAADAiIIZAAAAAAAAgBEF\n",
       "MwAAAAAAAAAjCmYAAAAAAAAARo6VVY5s5nVna651lbv5rZi3Za9lJcl29vL24jr31d0fzbyj/NON\n",
       "o7jU2zp7YUluWy/vvr1rWUly31+1rEcz6/iqZX3L+6xl3cqzbcX99nq3fxPVm+2v11HLen5278Fz\n",
       "7z1Xj737fnl+fVTzAAAAAAD48XzBDAAAAAAAAMCIghkAAAAAAACAEQUzAAAAAAAAACMKZgAAAAAA\n",
       "AABGFMwAAAAAAAAAjCiYAQAAAAAAABhRMAMAAAAAAAAwomAGAAAAAAAAYETBDAAAAAAAAMCIghkA\n",
       "AAAAAACAEQUzAAAAAAAAACMKZgAAAAAAAABGFMwAAAAAAAAAjBxZ7che4Frl4Yp5q9zNN/O28mxb\n",
       "8Z5eNStJ9mJcMytJjmLesZ29sCTHeteyblsv61veq5e1f9Wy7kcvK0nut89a1q0821a8p+/3dX8T\n",
       "9fzq3YOP4l5LkmfxHjz3vZaVJM/zWcva1qOWlSTv889qHgAAAADAf4vr/rceAAAAAAAAgEtRMAMA\n",
       "AAAAAAAwomAGAAAAAAAAYETBDAAAAAAAAMCIghkAAAAAAACAEQUzAAAAAAAAACMKZgAAAAAAAABG\n",
       "FMwAAAAAAAAAjCiYAQAAAAAAABhRMAMAAAAAAAAwomAGAAAAAAAAYETBDAAAAAAAAMCIghkAAAAA\n",
       "AACAEQUzAAAAAAAAACNHsqqBq5p33dm660xWsetf54VnK163rbvMbOvKs521rL0827H1Zju2dy0r\n",
       "SW7bq5e1N7O+allJcjt6ebfbZy0rSbbi/ni/u5v3LJ6Vj8/edXsU72eSPPfec/Xca1Hf8s5HLWvb\n",
       "/qhlJcn79Wc1DwAAAADgv4UvmAEAAAAAAAAYUTADAAAAAAAAMKJgBgAAAAAAAGBEwQwAAAAAAADA\n",
       "iIIZAAAAAAAAgBEFMwAAAAAAAAAjCmYAAAAAAAAARhTMAAAAAAAAAIwomAEAAAAAAAAYUTADAAAA\n",
       "AAAAMKJgBgAAAAAAAGBEwQwAAAAAAADAiIIZAAAAAAAAgJHjVw/wPevSid3pVjGvmfUtr+d/2be3\n",
       "XknWg7zjz1tVvdbM7D375G1vzMFgCDe5zU0iriJFUW64ygdOpAgpCQIUggIKBwdkgg0+sU8za3VX\n",
       "VS6GW5zXyQOzsH+/D/DX213VXaN5ei2jV2v/OqL7Oouxcm8ZZy+WZC32mq0kWZfi2Zaj11r3Wqvd\n",
       "W7fy2Yrv23F2P1hnsXe53Gqt+7XXetPrXdNnay2VJHk+ev8Muazv1lpJctt/WO0BAAAAAPy08BfM\n",
       "AAAAAAAAAEwxMAMAAAAAAAAwxcAMAAAAAAAAwBQDMwAAAAAAAABTDMwAAAAAAAAATDEwAwAAAAAA\n",
       "ADDFwAwAAAAAAADAFAMzAAAAAAAAAFMMzAAAAAAAAABMMTADAAAAAAAAMMXADAAAAAAAAMAUAzMA\n",
       "AAAAAAAAUwzMAAAAAAAAAEzZ3vYBfrzxtg/w93vCR2sfbjzVFzvar/NptpLuS23/qqT6vo2zWEuW\n",
       "cTzN1tJrtXvrutdaSbIUe+PsfrLOo/dpuKy3WuuufA3ui71na/cz+nxZa6377b1aK0lePVZzAAAA\n",
       "AAA/NfwFMwAAAAAAAABTDMwAAAAAAAAATDEwAwAAAAAAADDFwAwAAAAAAADAFAMzAAAAAAAAAFMM\n",
       "zAAAAAAAAABMMTADAAAAAAAAMMXADAAAAAAAAMAUAzMAAAAAAAAAUwzMAAAAAAAAAEwxMAMAAAAA\n",
       "AAAwxcAMAAAAAAAAwBQDMwAAAAAAAABTDMwAAAAAAAAATNne9gGA/7vxtg/wYzTP9qRfZ/FwY5y9\n",
       "WJJlOWqtsTzds+Xs3iHHutda23artS7FVpLcF1/ns7V4PZO8WHu/c3ueD2qtJPlRtQYAAAAA8NPD\n",
       "XzADAAAAAAAAMMXADAAAAAAAAMAUAzMAAKK39fQAACAASURBVAAAAAAAUwzMAAAAAAAAAEwxMAMA\n",
       "AAAAAAAwxcAMAAAAAAAAwBQDMwAAAAAAAABTDMwAAAAAAAAATDEwAwAAAAAAADDFwAwAAAAAAADA\n",
       "FAMzAAAAAAAAAFMMzAAAAAAAAABMMTADAAAAAAAAMGV72wf48c63fYC/X/tooxnrHu7JXoUne7C+\n",
       "8wm/1id8NP4fjPIVHaPYa7aSLMtRa63rXmttxVaS3C293rPie5Ykz7e11np3/6DWAgAAAADg7+cv\n",
       "mAEAAAAAAACYYmAGAAAAAAAAYIqBGQAAAAAAAIApBmYAAAAAAAAAphiYAQAAAAAAAJhiYAYAAAAA\n",
       "AABgioEZAAAAAAAAgCkGZgAAAAAAAACmGJgBAAAAAAAAmGJgBgAAAAAAAGCKgRkAAAAAAACAKQZm\n",
       "AAAAAAAAAKYYmAEAAAAAAACYYmAGAAAAAAAAYMr2tg/w45xPutg93VnsNVvt3nk+5dfZc5Rv3urZ\n",
       "iq3kqb9vo9c6n2brH6L3ZJVf5lh6n4al2NqWvdZKkru117tfu98gL4r/Cnn56v1eLMkYa611nt1r\n",
       "CgAAAADwNvkLZgAAAAAAAACmGJgBAAAAAAAAmGJgBgAAAAAAAGCKgRkAAAAAAACAKQZmAAAAAAAA\n",
       "AKYYmAEAAAAAAACYYmAGAAAAAAAAYIqBGQAAAAAAAIApBmYAAAAAAAAAphiYAQAAAAAAAJhiYAYA\n",
       "AAAAAABgioEZAAAAAAAAgCkGZgAAAAAAAACmbMlZDZ7V3tM9W/d1JmeOXmuUz3b2ekfxfeu9Y3/X\n",
       "K75t/bONJ9lKkr16tu5vXvaj19uP4ussnitJzuY1KJ9tKZ5tlL/bmp+E5tnWpfsNcln3WutZsZUk\n",
       "L9Ze670878WS3G1frbUert+ptQAAAAAA3jZ/wQwAAAAAAADAFAMzAAAAAAAAAFMMzAAAAAAAAABM\n",
       "MTADAAAAAAAAMMXADAAAAAAAAMAUAzMAAAAAAAAAUwzMAAAAAAAAAEwxMAMAAAAAAAAwxcAMAAAA\n",
       "AAAAwBQDMwAAAAAAAABTDMwAAAAAAAAATDEwAwAAAAAAADDFwAwAAAAAAADAlC1nuTh6wfMsH67Y\n",
       "O8dRayXJWbwQZ7pnO4q9o/g6j/L9sRd7xzlqrSTZiy/11j7b0ev1z9b7Dc1+rE+ylST73usdxfes\n",
       "3VvK323Nb5BRfPYtS/d1bstea90XW0nyYuu9b++tl1orSV6Or9daD9fv1FoAAAAAAG+bv2AGAAAA\n",
       "AAAAYIqBGQAAAAAAAIApBmYAAAAAAAAAphiYAQAAAAAAAJhiYAYAAAAAAABgioEZAAAAAAAAgCkG\n",
       "ZgAAAAAAAACmGJgBAAAAAAAAmGJgBgAAAAAAAGCKgRkAAAAAAACAKQZmAAAAAAAAAKYYmAEAAAAA\n",
       "AACYYmAGAAAAAAAAYIqBGQAAAAAAAIAp25mzWzyLvdE9W/O1njlqrSQ5shdb5bONXu8o3h97815L\n",
       "shdzt+4lyO0Jn+169n6ncj26v3lp9q7HWmvdbr1Wktz2Xm8rn21ZijfcOXqtJGe112uN8rNvLV6D\n",
       "u7X3rEqSF2vvbC+37r374fXna63v5fdqLQAAAACAt81fMAMAAAAAAAAwxcAMAAAAAAAAwBQDMwAA\n",
       "AAAAAABTDMwAAAAAAAAATDEwAwAAAAAAADDFwAwAAAAAAADAFAMzAAAAAAAAAFMMzAAAAAAAAABM\n",
       "MTADAAAAAAAAMMXADAAAAAAAAMAUAzMAAAAAAAAAUwzMAAAAAAAAAEwxMAMAAAAAAAAwZUvOavAs\n",
       "9s4ctVa7d57ls41e78hea7V7e/Ea7OV7dz97vds5aq0kuRVvt/bZrkevdz26v3l5PNZa67o3W1ut\n",
       "lSS3W693W7vfH8tSfCaUz9Z0Fj9XY3S/29al9wVyV74Gz7de77273mc0Sb7y+iu11v/aPq61kuR6\n",
       "+161BwAAAADwk/AXzAAAAAAAAABMMTADAAAAAAAAMMXADAAAAAAAAMAUAzMAAAAAAAAAUwzMAAAA\n",
       "AAAAAEwxMAMAAAAAAAAwxcAMAAAAAAAAwBQDMwAAAAAAAABTDMwAAAAAAAAATDEwAwAAAAAAADDF\n",
       "wAwAAAAAAADAFAMzAAAAAAAAAFMMzAAAAAAAAABM2ZKznOz1zrN7tvM8aq1j9FpJcmR/kq0k2Yu9\n",
       "ffRat+L1fNPr3W+37tFyLfYej9GLlXuPe/c3L4/7Wms93LZa637ttZLkcr3UWuvSvXnH6H2utvLj\n",
       "ahQ/Ckf5c9W0Fp9Xl6X7fHm+9novyzfIx+vzWuuj5VdrrST57u171R4AAAAAwE/CXzADAAAAAAAA\n",
       "MMXADAAAAAAAAMAUAzMAAAAAAAAAUwzMAAAAAAAAAEwxMAMAAAAAAAAwxcAMAAAAAAAAwBQDMwAA\n",
       "AAAAAABTDMwAAAAAAAAATDEwAwAAAAAAADDFwAwAAAAAAADAFAMzAAAAAAAAAFMMzAAAAAAAAABM\n",
       "MTADAAAAAAAAMMXADAAAAAAAAMCU7TzPavAcvd6Zo9Zq985zr7WS5Cj29nGrtdq9W/F13sr3x7X4\n",
       "Wbge3c/V4zGKrVrq73q936k8FFtJ8rCvT7N122qtJNnWS621Lt0bZBSfCUnvc5AkYzSfCb2zNVtJ\n",
       "9xpc1u798XztPRNeXrpn++iu95n/ude/UmslyffWP6y19v2zWgsAAAAA+NngL5gBAAAAAAAAmGJg\n",
       "BgAAAAAAAGCKgRkAAAAAAACAKQZmAAAAAAAAAKYYmAEAAAAAAACYYmAGAAAAAAAAYIqBGQAAAAAA\n",
       "AIApBmYAAAAAAAAAphiYAQAAAAAAAJhiYAYAAAAAAABgioEZAAAAAAAAgCkGZgAAAAAAAACmGJgB\n",
       "AAAAAAAAmLIlZzV4nkcvNoqtdM92jr3WSpIzt1rrKLaS5Fbs3UaxdXavwa14f1zP7m83rseotR67\n",
       "b1selt7ZXi/d9+1+7fXu9q3Y6n63bbdeb126Zxuj94zpPq36r7XlPHufqaR7Dbal+wXybOs9E15u\n",
       "3bN9eL/WWl9/+KDWSpLvPP/ntdZ3P/8vtRYAAAAA8LPBXzADAAAAAAAAMMXADAAAAAAAAMAUAzMA\n",
       "AAAAAAAAUwzMAAAAAAAAAEwxMAMAAAAAAAAwxcAMAAAAAAAAwBQDMwAAAAAAAABTDMwAAAAAAAAA\n",
       "TDEwAwAAAAAAADDFwAwAAAAAAADAFAMzAAAAAAAAAFMMzAAAAAAAAABMMTADAAAAAAAAMMXADAAA\n",
       "AAAAAMCULTnLyV7vPLtnO8dRax1nr/Wmt9da+7jVWkmy51pr3Yqta/l1Xs+t1no8ur/deDxGrfVQ\n",
       "bL3pNVvd9+31vtZad0vvhV5uvXstSdbid9tSbCXJaD4TaqU3trX3vTtG8XWWPwdNa/FzkCT3a+97\n",
       "/N1L95nw4V3vc/rJs+5n/pe//PVa67P7v6q1vnz4i1oLAAAAAHi6nu7/YgMAAAAAAADwpBiYAQAA\n",
       "AAAAAJhiYAYAAAAAAABgioEZAAAAAAAAgCkGZgAAAAAAAACmGJgBAAAAAAAAmGJgBgAAAAAAAGCK\n",
       "gRkAAAAAAACAKQZmAAAAAAAAAKYYmAEAAAAAAACYYmAGAAAAAAAAYIqBGQAAAAAAAIApBmYAAAAA\n",
       "AAAApmxnjnKy12uf7Tj3WmsZvVbSPdtx3mqtJNnHtda6NVvptZLk8bzUWnfnWmslycPR+y3I3T5q\n",
       "rSR5XfyZyt3SPdtl6R3uMnrXdBtnrZUk6+h9Vy7lszWv6FmtJcfR+65cl/az9Glay/fH3dp79r3Y\n",
       "us++Dy693lef3dVaSfL59WWt9dn+L2qtP759VmslyW3/YbUHAAAAAHT4C2YAAAAAAAAAphiYAQAA\n",
       "AAAAAJhiYAYAAAAAAABgioEZAAAAAAAAgCkGZgAAAAAAAACmGJgBAAAAAAAAmGJgBgAAAAAAAGCK\n",
       "gRkAAAAAAACAKQZmAAAAAAAAAKYYmAEAAAAAAACYYmAGAAAAAAAAYIqBGQAAAAAAAIApBmYAAAAA\n",
       "AAAApmw5z3Ky1ztz1Frt3nHutVaSHOPWa529VpLs41pr3dJrXYutJLkWX+fjudZaSXI5er8FeThG\n",
       "rZUkl73Xe1X+ycs2emfbRu+arkv3e3cdl1pr6d4eGaP5TOg6z+L9sfaeCcvoPvuO4utsXs8kuSy9\n",
       "9+3F1n0mvHfX+8x/XPwOT5KHfau1Hj//Wq11e/4btVaSfOvVf6q1bvvf1loAAAAA8LPOXzADAAAA\n",
       "AAAAMMXADAAAAAAAAMAUAzMAAAAAAAAAUwzMAAAAAAAAAEwxMAMAAAAAAAAwxcAMAAAAAAAAwBQD\n",
       "MwAAAAAAAABTDMwAAAAAAAAATDEwAwAAAAAAADDFwAwAAAAAAADAFAMzAAAAAAAAAFMMzAAAAAAA\n",
       "AABMMTADAAAAAAAAMMXADAAAAAAAAMCULTnLyeOJtpKz2DvPvdZKkqPY28e11kqS5bzUWrfxWGtd\n",
       "R+9cSfKYXm87t1rrTa/3W5DLPmqtJNnG2muVf/Kyjd5r3Zbe4dbie/am1/seH8VWkoz6M6apd38c\n",
       "Z/Ne6z5fii+zfj2br/XZdqu1kuTl0Xte3Y7ul9tevN/O9L6Pxhe/WGslyfbsX9daf/b4n2utJHm4\n",
       "fqfaAwAAAIB/SvwFMwAAAAAAAABTDMwAAAAAAAAATDEwAwAAAAAAADDFwAwAAAAAAADAFAMzAAAA\n",
       "AAAAAFMMzAAAAAAAAABMMTADAAAAAAAAMMXADAAAAAAAAMAUAzMAAAAAAAAAUwzMAAAAAAAAAEwx\n",
       "MAMAAAAAAAAwxcAMAAAAAAAAwBQDMwAAAAAAAABTtjNnOVnsnUevlWRkr7XO0d3mj/NWbK21VpIc\n",
       "udZa+3istW651FpJci32HsdWayXJpXhNXx/de3c9Rq217d2zbb2jZRu92Fr+/lhH7/4ovmX9Xvtw\n",
       "RWfz0bd2X+i6NJ+l3X8zrEuvd7f2nqNJ8s6leR2613SM3vu2jrtaays/++6//Hqt9e75b2qtJPnT\n",
       "y3+rtX7w5X+vtQAAAADgH4O/YAYAAAAAAABgioEZAAAAAAAAgCkGZgAAAAAAAACmGJgBAAAAAAAA\n",
       "mGJgBgAAAAAAAGCKgRkAAAAAAACAKQZmAAAAAAAAAKYYmAEAAAAAAACYYmAGAAAAAAAAYIqBGQAA\n",
       "AAAAAIApBmYAAAAAAAAAphiYAQAAAAAAAJhiYAYAAAAAAABgioEZAAAAAAAAgClbcnaL59FrjdFr\n",
       "JTnTO9vRfJ1JRvZa6zh7rSTZc621lnOrtW7jodZKkuvonW1Nr5UkW9Zaaz27vyvZ9t7ndCt/5tdi\n",
       "bykebRnda9CslS9BltF7xoxiK0mqL7V4tPJTOZdia13Kz77iNb2s3Wdf82zL6L5va7F3V7ymz5a7\n",
       "WitJ3tl6d+97r96rtZLkK6/+Va31Z+/+Sq2VJH/x+Du11uvH/11rAQAAAPDTw18wAwAAAAAAADDF\n",
       "wAwAAAAAAADAFAMzAAAAAAAAAFMMzAAAAAAAAABMMTADAAAAAAAAMMXADAAAAAAAAMAUAzMAAAAA\n",
       "AAAAUwzMAAAAAAAAAEwxMAMAAAAAAAAwxcAMAAAAAAAAwBQDMwAAAAAAAABTDMwAAAAAAAAATDEw\n",
       "AwAAAAAAADBly3lWg+do9rpny3nUUiN7rZUkR3HrH+et1kq6Z9vPtda6pddKkmVstdZabCXJQ/G1\n",
       "rmf3dyXrOWqtZe+1kmQZvde6jOLr7L7M6tlG8T1LkiW9z0L5bSv3is+r8gtt5trXYF16z9J16T3j\n",
       "k2Qp9rbi60ySu7XXe7b1/s3wYrvWWkny8nJfa314d6m1kuTjZ73vtk9e/VKtlSS/dHxSa33r7tu1\n",
       "VpJ8++F3a63H61/XWgAAAAD8ZPwFMwAAAAAAAABTDMwAAAAAAAAATDEwAwAAAAAAADDFwAwAAAAA\n",
       "AADAFAMzAAAAAAAAAFMMzAAAAAAAAABMMTADAAAAAAAAMMXADAAAAAAAAMAUAzMAAAAAAAAAUwzM\n",
       "AAAAAAAAAEwxMAMAAAAAAAAwxcAMAAAAAAAAwBQDMwAAAAAAAABTtuQoJ0cvdZbPNnpnO+vv214r\n",
       "Heet1kqSvfg7hHFee62x1lpJsmSrtR6LrSRZ0nuta/l9W8/e/bEcxe+PJOve6y3F77b2L3uqZxvd\n",
       "0y3FS9r+zDfvtpGz1+p+DLKM3tmarSRZl96zdBnd5/Ky9J7LY+u+b/fFZ+nz46HWenfvPvvev76u\n",
       "tT663tdaSfLVx7ta6+ee9VpJ8osvLrXWr7z61VorSb59fqPW+tb9X9Vaf/H4u7VWkrx+/MtqDwAA\n",
       "AOCp8RfMAAAAAAAAAEwxMAMAAAAAAAAwxcAMAAAAAAAAwBQDMwAAAAAAAABTDMwAAAAAAAAATDEw\n",
       "AwAAAAAAADDFwAwAAAAAAADAFAMzAAAAAAAAAFMMzAAAAAAAAABMMTADAAAAAAAAMMXADAAAAAAA\n",
       "AMAUAzMAAAAAAAAAUwzMAAAAAAAAAEwxMAMAAAAAAAAwZTvLwXEetdY5Rq31Jtg7W9JsdXtn9lor\n",
       "SY5x67XOtdbaz2utlSS3PNRay+j+duNx9N63Jb3Wm17vtS5n9zO/Hr1e84q274+l+LYt5e/dUXzn\n",
       "yk+E8jXtPU2brSRZR+/50mwl3c/o1v1qy7r0Xuu2dp/LS/Fso3i/neXv8P3ofUqvt0utlSSvH3u9\n",
       "Tx7va60k+fTxWa31jYfu2b75+q7W+mevfqnW+vb4hVorSf7s8r1ea/+dWitJvnj9rWoPAAAA+Nnk\n",
       "L5gBAAAAAAAAmGJgBgAAAAAAAGCKgRkAAAAAAACAKQZmAAAAAAAAAKYYmAEAAAAAAACYYmAGAAAA\n",
       "AAAAYIqBGQAAAAAAAIApBmYAAAAAAAAAphiYAQAAAAAAAJhiYAYAAAAAAABgioEZAAAAAAAAgCkG\n",
       "ZgAAAAAAAACmGJgBAAAAAAAAmLIl59s+w49xlHujVjrbZzv3Xqr4OpPkPHu/Q9hzrbVG8VxJshd/\n",
       "b3Et/3ZjjLXWWkb3bEvxtS7le3ccvd4onm3s3de5jOLZukernq1+747e82+pfka7z+V16fW20X32\n",
       "bWuvdxafo0kyitdhXbtnu1x6z9J1651tWbr3R/ManGf3y+3Ye5/563WrtZLk4fGu1vri9fNaK0k+\n",
       "LfZ+8OpFrfXd189qrST59S+/Vmv9+Rf/rtZKkj9ZflRr/fHxX2utJPn89Z9WewAAAMA/HH/BDAAA\n",
       "AAAAAMAUAzMAAAAAAAAAUwzMAAAAAAAAAEwxMAMAAAAAAAAwxcAMAAAAAAAAwBQDMwAAAAAAAABT\n",
       "DMwAAAAAAAAATDEwAwAAAAAAADDFwAwAAAAAAADAFAMzAAAAAAAAAFMMzAAAAAAAAABMMTADAAAA\n",
       "AAAAMMXADAAAAAAAAMAUAzMAAAAAAAAAU7bkrAabtXGWzzaOWmuco9Z6E+z1zuy1VpIc1dfaa+1H\n",
       "9/cRY+mdbZR/u3Eba63VPtsYvd5SvD+SZCneu9VW9yOaJc37o3wNqq3y2Yr37lo82jq6z75t6T37\n",
       "LstWayXJZe99GPbmRUj33zNL8Rokybr13re7u8daa7u71lpJsl5utVb7GqT4OT3L/6Y8br3P6fXh\n",
       "UmslycPrZ7XWl1+8qLW+8cW7tVaS/M2Xvd43v3in1kqSX/vyg1rr1z//t7VWkvzR8v1a63/efqvW\n",
       "ev34l7UWAAAA/LTwF8wAAAAAAAAATDEwAwAAAAAAADDFwAwAAAAAAADAFAMzAAAAAAAAAFMMzAAA\n",
       "AAAAAABMMTADAAAAAAAAMMXADAAAAAAAAMAUAzMAAAAAAAAAUwzMAAAAAAAAAEwxMAMAAAAAAAAw\n",
       "xcAMAAAAAAAAwBQDMwAAAAAAAABTDMwAAAAAAAAATNmS822f4cdon63XO3PUWm+CoxhrtpJkr5XO\n",
       "4m8ajtxqrSTZi9dglH+7Mc5eb4zu/bEUX+syyu9bsTeK98dS/oyOo3i2vXsNluL9tpS/2pr321o8\n",
       "2zbWXizJtvSeV5di601vq7Xuju4z4Th698dZfcYny+hdh3XrvW+X+8daK0m2Zw+11np/rbWSZLn0\n",
       "3rexlv9NWXSWnwn746XWur26r7U+/uxFrZUkn3z6stb6hU/fr7WS5BvF3jfeebfWSpJf/vzjWuub\n",
       "n/5mrfUHd39eayXJt778j7XWcbyqtQAAAOAn4S+YAQAAAAAAAJhiYAYAAAAAAABgioEZAAAAAAAA\n",
       "gCkGZgAAAAAAAACmGJgBAAAAAAAAmGJgBgAAAAAAAGCKgRkAAAAAAACAKQZmAAAAAAAAAKYYmAEA\n",
       "AAAAAACYYmAGAAAAAAAAYIqBGQAAAAAAAIApBmYAAAAAAAAAphiYAQAAAAAAAJiyve0D/Dhnzmpv\n",
       "nEcx1ku1g913LcnZPNut1jrKF2EUX+fe/u1G8Wyj/b6N3mvtn63XW4pnW87u/TGO5uvsWor3x1q8\n",
       "nm96zVYvthXfsyTZlrXWuizF52iSu+LZrnv3nzT73jvbcXSv6Vn8PhpL718Ny7bXWkmy3l97rXde\n",
       "11pJsj5/qLVG8XUmydie8L93i8+r87H3GX3x6r7WSpJ3P31Ra33wo5e1VpJ8/P0Paq2v/fCjWitJ\n",
       "vv63H/Zaz3vv289/9s1aK0n+8Pj5Wuv389u1VpL84Mvfr/YAAAD46eUvmAEAAAAAAACYYmAGAAAA\n",
       "AAAAYIqBGQAAAAAAAIApBmYAAAAAAAAAphiYAQAAAAAAAJhiYAYAAAAAAABgioEZAAAAAAAAgCkG\n",
       "ZgAAAAAAAACmGJgBAAAAAAAAmGJgBgAAAAAAAGCKgRkAAAAAAACAKQZmAAAAAAAAAKYYmAEAAAAA\n",
       "AACYYmAGAAAAAAAAYMqWnG/7DP9omq90nN337RxHrTXal3TstVT3aKNaO85mr3u2HL3eWNq/K+n1\n",
       "xui+b2MUz9Z8neXf9ozivbsU77UkWfbi2cr3x1LMrcWzbeXP6DbWWutSfsDcLb1n392t96xKkvtt\n",
       "67X23jVIkmPv3SNn8zNfvj/G2rumy9211kqS5fljrTXe6X0OkmQ8K95vl97nIEmyFr/fjt79tj6+\n",
       "qrWSZPvy81rr/tMf1lpJ8uL7P6q1Xv7N39ZaSfJhsfeV739ca331/sNa603vnVrra5/+Rq2VJP99\n",
       "/Fqt9cev/0OtlSS3vXfvAgAA8P/PXzADAAAAAAAAMMXADAAAAAAAAMAUAzMAAAAAAAAAUwzMAAAA\n",
       "AAAAAEwxMAMAAAAAAAAwxcAMAAAAAAAAwBQDMwAAAAAAAABTDMwAAAAAAAAATDEwAwAAAAAAADDF\n",
       "wAwAAAAAAADAFAMzAAAAAAAAAFMMzAAAAAAAAABMMTADAAAAAAAAMGXLWS6OdvBpOstv3DiPWusc\n",
       "o9Z6E+ydLWmebS+2kqN6tu41GMXefj7ds13L71tG7zc0o9hanvD9sZTvj6X49bF0P/JZitd0Lb5t\n",
       "29K9BlvxdV6W7u/S7va11rrft1orSR5uvd6zYitJbsXeXrwG517+3WLz+6j979Ot1xv35fftxfNa\n",
       "6nzeayVJ7u57rbV37+Zo/ls3yeNDLbV+8UWtlSTLRz+otS4ffVZrJcmzD3q9d15+Xmu999fda/DB\n",
       "Dz6utT66f7/WSpKPP/16rfXJ+e9rrST5g/G7tdb3vvi9WgsAAOBnlb9gBgAAAAAAAGCKgRkAAAAA\n",
       "AACAKQZmAAAAAAAAAKYYmAEAAAAAAACYYmAGAAAAAAAAYIqBGQAAAAAAAIApBmYAAAAAAAAAphiY\n",
       "AQAAAAAAAJhiYAYAAAAAAABgioEZAAAAAAAAgCkGZgAAAAAAAACmGJgBAAAAAAAAmGJgBgAAAAAA\n",
       "AGCKgRkAAAAAAACAKVtylpOj3Gtqvtb2+9Z0VGvVV/qU37bivXs85c/BUT7b0ux1zzaKvTGeZitJ\n",
       "RvG3Qkv5GizF+619trXYW4vXdCt/RLfi2S7LWmslyd2t91C4W7rPvrv1Ums9u97VWklyf33stR57\n",
       "r3O/9lpJctyK99te/k1l898z5WdCtq3Xun/WayU5XrxTa513xbOVv9ty9L6PxuOrWitJlvc/q7XW\n",
       "939YayXJ8/e+W2ttL7+ste7f7V6DF897vffuX9daSfLB5cNa66O73uc9Sb766b+stf7HO79aayXJ\n",
       "nzz+Vq31cP1OrQUAAPAPyV8wAwAAAAAAADDFwAwAAAAAAADAFAMzAAAAAAAAAFMMzAAAAAAAAABM\n",
       "MTADAAAAAAAAMMXADAAAAAAAAMAUAzMAAAAAAAAAUwzMAAAAAAAAAEwxMAMAAAAAAAAwxcAMAAAA\n",
       "AAAAwBQDMwAAAAAAAABTDMwAAAAAAAAATDEwAwAAAAAAADBlqxfPYms0Y0kyiq3u2bpv21Gspfu2\n",
       "FZ3tg517t1fUvD+O8vs2zl5vb5+t2Buj93ucUf5tz1I829I+21k8W/FeS5L16PXWW+91bqP7Orel\n",
       "19uW7v1xWdZe69b9J83deqm17q+3WitJ7h/vi63HWuvu4a7WSpJLsXc89q5nkizX4mfhVv53W/Pf\n",
       "geXvoxQ/V+fdi2LrWa2VJGfxu23s3e+P48X7tdbyzstaK0mWF9+vte5e/KDWWt/5dq2VJJcXr2qt\n",
       "Z8VWkrzzrNd7//7jWitJPrzv3W9f/eyTWitJfuHz36y1/uj+T2utv3z127VWkuz7Z9UeAADwT5u/\n",
       "YAYAAAAAAABgioEZAAAAAAAAgCkGZgAAAAAAAACmGJgBAAAAAAAAmGJgBgAAAAAAAGCKgRkAAAAA\n",
       "AACAKQZmAAAAAAAAAKYYmAEAAAAAAACYYmAGAAAAAAAAYIqBGQAAAAAAAIApBmYAAAAAAAAAphiY\n",
       "AQAAAAAAAJhiYAYAAAAAAPg/7NvLrizZeh3mEZGZ67J3VR0SpAWQNgypYcDQE/j9X8FNAVJHkEnq\n",
       "nDq197pnZsRUY9Fwj5oQB7WTru97gIE5Y14j/kwAphz7kaMYtfSykmQptu2GtXu5jF7iKI7BMvZa\n",
       "VlKebuVB2NNsXHld7cW8tdu2pdjXEqFBmQAAIABJREFUZfR+j7Ms3X6ei78VWpbu747WYl/X8plw\n",
       "KM7dZj8PW7mfxbhjee6eivPttB5qWUlydzn1statlpUkd+drL+v9oZZ1urvUspLk9HZfyzoUs5Jk\n",
       "ffvoZT2+1bKSZPk498Iuxawk2btroWUceus9ScbpsZa1l8/l5f6nWta4/1rL+szrPbfDQ29vOzz8\n",
       "sZaVJI8Pf1/LOnzp7UVJcv/4Xsv6WsxKkj/86a9qWX9194daVpL8m4cvtay/ff4/a1n/afu3tawk\n",
       "+Y+H/1jL+rv3/7uWlSSX65+qeQAAwH+ffzADAAAAAAAAMEWBGQAAAAAAAIApCswAAAAAAAAATFFg\n",
       "BgAAAAAAAGCKAjMAAAAAAAAAUxSYAQAAAAAAAJiiwAwAAAAAAADAFAVmAAAAAAAAAKYoMAMAAAAA\n",
       "AAAwRYEZAAAAAAAAgCkKzAAAAAAAAABMUWAGAAAAAAAAYIoCMwAAAAAAAABTFJgBAAAAAAAAmHL8\n",
       "0Q34p41y3NLLWsptu2Ejey2r+diaw5m021Zu3Nh6Uem2bS/mLeVB3Zp9rbat289l6f1WaCn/7mgt\n",
       "tm0tt+0wim3bemN6KG8fh+IYHMs/Szuuvc6erodaVpKciofC6XCqZSXJ3fm+l3W41rJOb5daVpKc\n",
       "Tr28w123bc289b7ctvuPWtZy/1rL+sx76GXd3WZWkozTYy/scNfLSrIfe30dx95e9JnX6+s49bIO\n",
       "p24/1/v/Wsu6f/hzLStJDo+9/ePu61stK0kev/T2oz/86aWWlSR//e0va1l/8/hTLet/e+3ubf/u\n",
       "5d/Xsv7z/n/UspLkP9//Qy3r7/b/UMtKku8f/6mWte/ddQUAAP8c/sEMAAAAAAAAwBQFZgAAAAAA\n",
       "AACmKDADAAAAAAAAMEWBGQAAAAAAAIApCswAAAAAAAAATFFgBgAAAAAAAGCKAjMAAAAAAAAAUxSY\n",
       "AQAAAAAAAJiiwAwAAAAAAADAFAVmAAAAAAAAAKYoMAMAAAAAAAAwRYEZAAAAAAAAgCkKzAAAAAAA\n",
       "AABMOSajHLmU85qafW33sz0Ot2kU+7mMvZaVJKM4pEszLKlOt/pMKwbu9cYVH9zey1rW7vy4FPu5\n",
       "LN3fHTXzlvJvotZi3lpc84etOz8OS7FtxawkORbzjuW5e1wOtazTeqplfeb1zr/juvWyDr2sJDke\n",
       "e3mH47WWlSSHUy9vLWYlyXJ6rmWtp5daVpKsx+JaOBxrUaOYlSTLWmxbcS9KkhwfalGjmJUke7Gv\n",
       "ozgGOXT38FFcB+vdfS0rSU6Pv9ayDl//n1pWkpx+fqtlffmlt08myS9/fKpl/fVvf1nL+punX2pZ\n",
       "SfK/f/lay/q79+7c/fu3/7WW9Q/vf1vLSpJ/yP/Vy1p7azRJfs1/qWV9v/TW/Mf1j7WsJNn33v4B\n",
       "AMD/xz+YAQAAAAAAAJiiwAwAAAAAAADAFAVmAAAAAAAAAKYoMAMAAAAAAAAwRYEZAAAAAAAAgCkK\n",
       "zAAAAAAAAABMUWAGAAAAAAAAYIoCMwAAAAAAAABTFJgBAAAAAAAAmKLADAAAAAAAAMAUBWYAAAAA\n",
       "AAAApigwAwAAAAAAADBFgRkAAAAAAACAKcdRDlzSTFyKWWWj/OSWG+5rdUz3Ylb59xGj17bRHs7q\n",
       "dCs3btlqUXv9wV1qSc2WbeV+LsW1cCmvq2Xp5a3FrCRZi32tZpXnx7r18g7lMTgWz75D+Rxt9vW4\n",
       "HmtZSXJYeofCcemdfce1ecYnh0PvfFnXXlaSrIdeX5diVpKkmHdcX2pZSbKu33pZzTX/u7mHJ3vx\n",
       "Lj4OD7Wsz7ziXnn/tRa1rd2zbxTPhHG6q2UlyeH+vpa1Pv65lpUk9z/9qZZ1/OW5lpUkD3/5VMv6\n",
       "+U+9ffKvfv1DLStJ/ub7L7WsX19+rmUlyR/fvtSy/vTe3dv+9NFbp7+e/7aWlSS/fvTyfit+F/h2\n",
       "ONeykuTb2lvzT8tvtawkeR29vI/9ey0rSc5b7x543V9rWfv+UctKkn0U59u49rKSjPI9EADa/IMZ\n",
       "AAAAAAAAgCkKzAAAAAAAAABMUWAGAAAAAAAAYIoCMwAAAAAAAABTFJgBAAAAAAAAmKLADAAAAAAA\n",
       "AMAUBWYAAAAAAAAApigwAwAAAAAAADBFgRkAAAAAAACAKQrMAAAAAAAAAExRYAYAAAAAAABgigIz\n",
       "AAAAAAAAAFMUmAEAAAAAAACYosAMAAAAAAAAwJTjj27AP22U85ZyXtEo9rXezWZgr5+jPD+6j63b\n",
       "tpG9Gfa7UXxqqc6QvbxI12Zet23L0vsd01L+TdRabNtabNtanh+Hvde2w7UW9ZmXQy2rugySHIrz\n",
       "41BvW28jP6x3vaxiu5JkXXu7+HrDbVuKWZ95vb4u5eeWvNaS1vFbMavcz704P/atlpUky9bbyPf7\n",
       "n2pZSTJOj72spXe+5NhrV5LsX3rnyzicallJMk4PtazDw5daVpIsX3tr/vjLt1pWkhz+8u9rWXd/\n",
       "1Wvb1z//XMtKkr8o5v2bb922PT318r4/f61lJcm3t95a+O2jux/9du7dA79dep8Xv116e1GSPF16\n",
       "z+3p8r/UspLk+dK7g7yke2d4yaWW9Xr8qGW9Le+1rCR5X15qWR95q2UlyWX07s6X0X1u294b0+s4\n",
       "17KSZB+9ubuP3t15FLM+83prvpmVlL9jl7/uZvTy2rWJ7kf7W81Ktw520263n82W+QczAAAAAAAA\n",
       "AFMUmAEAAAAAAACYosAMAAAAAAAAwBQFZgAAAAAAAACmKDADAAAAAAAAMEWBGQAAAAAAAIApCswA\n",
       "AAAAAAAATFFgBgAAAAAAAGCKAjMAAAAAAAAAUxSYAQAAAAAAAJiiwAwAAAAAAADAFAVmAAAAAAAA\n",
       "AKYoMAMAAAAAAAAw5dgOHMWspZj1u9IchCRZbnVUux2t9nLsxbRUH1t7emQ0x7S96rda0ii2bS/3\n",
       "cymOwVZvW+93TMvS/U3UUuxrs21ruZ9rcQzW8ta2br0xaD+3Q3Ep9Nt2qGWtORWzupbi/WOt3mW6\n",
       "bbvlC+8oXxruiufVcbzUstb9t1pWkqxb7/6xbNdaVpIs10svbCtmJRn3vbz97rGWlfWul5VkHO97\n",
       "WWv3dX6cim27/1LLSpL1yy+9rJ+/17KSZPmLb7Ws41/32nb49sdaVpLcffu1lvX129daVpL8oZj3\n",
       "8f2nWlaSvD312vby3H1uz2+9dfr01tt3n84Ptawk+X7u7eNPl97d+TOvt48/X3vvCJ95vba9XHvz\n",
       "46V7NcrrtfeS+1q8AybJ2+h19m35qGUlyfvhvZe1vNWykuScXl4z67r3nlmSXEdvTLdxrmUlybb3\n",
       "8vbiOmjnjXLbRvE7dkbzm3j5Y2Axb9QrHc28223bUvzY4x/MAAAAAAAAAExRYAYAAAAAAABgigIz\n",
       "AAAAAAAAAFMUmAEAAAAAAACYosAMAAAAAAAAwBQFZgAAAAAAAACmKDADAAAAAAAAMEWBGQAAAAAA\n",
       "AIApCswAAAAAAAAATFFgBgAAAAAAAGCKAjMAAAAAAAAAUxSYAQAAAAAAAJiiwAwAAAAAAADAFAVm\n",
       "AAAAAAAAAKYcf3QD/imjnLdUE5diVlv5yY1iX5f2qN6m+twdezGsF9VWnx3FwL364MqDsBfz1u7v\n",
       "jpZi25a1+9yWpZe3Fn+vtS7dMViL821tngdJlq3YtvKyao5DcaolabetdxVs93Mp3hmaWTevuE5H\n",
       "ec1nL+5vWy/reH2pZSXJev1Wy1qu11pWkqzXSy+smZVk/1LM23vPbdx9qWUlyTg+9LIOd7Wsdt44\n",
       "dZ/b/vBLLWv5+he1rCRZf+ntIevbUy1ree1lJcnhuZd3eH6uZSXJ6fv3Wtbj9+5nsp+femvh8v1r\n",
       "LStJPopte3/qte31pbt/vLz18p7fHmtZSfL00TsTns7dM+Hp0st7uvbW1fPlUMtKkqdr7075cum+\n",
       "yz9fT7Ws12tvriXJy/ZTLett6953X5dzLettea9lva+vtawk+Ugv75y3WlaSXPZe3nV81LKSZNt7\n",
       "edsovw8V88Yovg8Vs5JkZCumFWsmSVKswYx225qFjuI3Mv9gBgAAAAAAAGCKAjMAAAAAAAAAUxSY\n",
       "AQAAAAAAAJiiwAwAAAAAAADAFAVmAAAAAAAAAKYoMAMAAAAAAAAwRYEZAAAAAAAAgCkKzAAAAAAA\n",
       "AABMUWAGAAAAAAAAYIoCMwAAAAAAAABTFJgBAAAAAAAAmKLADAAAAAAAAMAUBWYAAAAAAAAAphx/\n",
       "dAP+ZxrFrKWa9pl4u4p9HcV+Lu0xuF3VuTu6z20Ux2EZey0r6U63Zlh75u7F/WOpPrRka+5t5bYt\n",
       "xd9YLcttZiXJ0pwf5d+lNefburXnR/O53XLbinP3d3StHM0zoby3NfP2vdy2vTff9q2XdbcdallJ\n",
       "cro+17LWYlaSLJdLLWstZiXJcu3lLVsva3+81rKSZH8o3ndPX3pZScbx4SazkmTc/VwM23pZSbav\n",
       "51rWcnmrZa3n11pWkqwfT72s115WkizFvMNzt22Hp17e6el7LStJHr737m4/fe/tR+fvX2tZSXJ+\n",
       "6uW9FbOS5PWl99yeX7tnwtNbL+/7R+9M+H6+r2UlyffLqZb1dOm+D32/9u67z5fuvf652Nfna/cu\n",
       "/rL1xvRlv6tlvY7u3ehteSxmde8MH+tLLes8enejJLksvbzr/lHLSpJt9PK2vfg+VP+PavP9qnuv\n",
       "H8W89jf2kWbdpJflH8wAAAAAAAAATFFgBgAAAAAAAGCKAjMAAAAAAAAAUxSYAQAAAAAAAJiiwAwA\n",
       "AAAAAADAFAVmAAAAAAAAAKYoMAMAAAAAAAAwRYEZAAAAAAAAgCkKzAAAAAAAAABMUWAGAAAAAAAA\n",
       "YIoCMwAAAAAAAABTFJgBAAAAAAAAmKLADAAAAAAAAMCU449uwL9Wo5y3VBOXYlZbsZ+j3M+lPaq3\n",
       "aWSv5jUf2y0P6Vi2WtZenmprcc3v3enR/RnT3p0gy9psXK9ty1LuZzFvKZ8vzbSlPHerbcuhmJbk\n",
       "Zse0+7vFccPX1FE8sEZ5Xe3Ftu17d0ybefvWW1fNrCQZl17e6fpSy0qSw+WtlrVc/1zL+sy73GbW\n",
       "dq1lJUn24p3ysXupHEtxLRzuellJxuGxF7aeellJsvT2tjF6F5p9P9eykmS5vveyLs+1rCRZPp5q\n",
       "Wevbt1pWkhxeennrc7ltT997Wd97Y3D81stKkvtvD7Wsx28/1bKS5Gsx76fv3bb9/PS1lvXLSy/r\n",
       "+9uXWlaSfPvonS/fPu5rWUny5dI7r74fuu9WD4fe2Xd36b4P3VXv4r22Hbfuu9Wx+G61Nu+ASda1\n",
       "l7eU29b8BrKs5Q/Zze9a1e+xxax2XL2c0wvs1zmKbSuuA/9gBgAAAAAAAGCKAjMAAAAAAAAAUxSY\n",
       "AQAAAAAAAJiiwAwAAAAAAADAFAVmAAAAAAAAAKYoMAMAAAAAAAAwRYEZAAAAAAAAgCkKzAAAAAAA\n",
       "AABMUWAGAAAAAAAAYIoCMwAAAAAAAABTFJgBAAAAAAAAmKLADAAAAAAAAMAUBWYAAAAAAAAApigw\n",
       "AwAAAAAAADDl+KMbwKdRzFqqaZ+Jt+mW+9lu2+0a2WtZS/mxjeKQLtWwXlSSjGJgbzT/UfO5lR/c\n",
       "0uzs2mvb0u7n0py75bYV+1p/bvutnn1Jcihm9frZ3Is+83q/gxyje+Xdi3tbe9+ttq26hyfb3hvT\n",
       "beutg+3aXFPJXszbr925e7r02na8vNaykmS9fKtlLddrLWvdellJkn2rRS2jfHkunvP72l1XOdzX\n",
       "opb1rpaVJMvhsZe1nmpZ/ff43ok19nMtK0n2a28/2i5Ptawk2d7/XMta33pZSXJ4/rWWtT4Vs751\n",
       "+7n+9r2Wdfjtj7WsJDn+9FbLOn15r2Ulyd1DL+/uvrfm754utawkOb32zvnT2jvjk+S4PtSyDuUP\n",
       "buvSu6Mu1ffb9unX/G9euQxTnG7tK+UoBo7qx7tuXvObeJKMtXnXKma1P9gXn9ter8EU88oLayy9\n",
       "/aj5HukfzAAAAAAAAABMUWAGAAAAAAAAYIoCMwAAAAAAAABTFJgBAAAAAAAAmKLADAAAAAAAAMAU\n",
       "BWYAAAAAAAAApigwAwAAAAAAADBFgRkAAAAAAACAKQrMAAAAAAAAAExRYAYAAAAAAABgigIzAAAA\n",
       "AAAAAFMUmAEAAAAAAACYosAMAAAAAAAAwJTjj24AfaOct1QTl2JW2Sj2c2n3sz2qt6rcz7H3oppD\n",
       "Wh/OrR1Ys1fXfHddbc284gTp75LFxPLetlTzbvh86W1F/wIOvajqRpmM4piOUexnum1rT4+9OA7b\n",
       "Xt53995vW5tZezErSfatN9/2a3nuFvOaWUlyvL7UstbtuZa1bN171trM29s7yO2+9+1r79PFWO9r\n",
       "WUmyHB57WetdLevQ7ufS/HzUfSHa7669rO29lpUk28P3Wtb18c+1rCTZH/9rLevw+HMv6+FrLStJ\n",
       "1oc/9bLuf61lJclyKp5Xx+55tRx6ecvaW/Pdb5Rl5feh5r2+mZUk2y2/c4ze3f5anG7XYrs+83p3\n",
       "8evWLRFdRu8+c03vjE+S63KpZW3FrCTZin1dl17WWLrnyyh+h1qK3/6T7reeLOX/9jZrV8V++gcz\n",
       "AAAAAAAAAFMUmAEAAAAAAACYosAMAAAAAAAAwBQFZgAAAAAAAACmKDADAAAAAAAAMEWBGQAAAAAA\n",
       "AIApCswAAAAAAAAATFFgBgAAAAAAAGCKAjMAAAAAAAAAUxSYAQAAAAAAAJiiwAwAAAAAAADAFAVm\n",
       "AAAAAAAAAKYoMAMAAAAAAAAwRYEZAAAAAAAAgCnHH90Afm9GMWspZpWNZj+TLDfc1+KYjuy1rCRZ\n",
       "qr+hud1+VpfVDSs/ta5m49b2eu/l1XeiZuAtb5NlY2/uRz0jh2JaMoqD2j6W9+L5so3udXwfvee2\n",
       "FbM+84rPbW9mdefudevlbVv398D7tde2h2JWkoxi3nF7qWUdrm+1rCRZtt6lYd3Ld+fRzLvd96F9\n",
       "Kc/d9VTMuqtlZb3vZSVZlt55ta7dMWim7etDMS1ZD728a7lt+6E338bamx9j6Z59zZvWWr5ULvuv\n",
       "tazD1j2vTtfeOOyX3ihsxawkuV57e/j52m3bRzHvo3g/bed9HLpr/n3v3Rnut17WR/lvfqfi3ehU\n",
       "3ndPo3ivL94/kuSQ3ppfy6W1tXijaWbt5fmxFL8LtGsmzVrCqL5bJUvzG1nxufkHMwAAAAAAAABT\n",
       "FJgBAAAAAAAAmKLADAAAAAAAAMAUBWYAAAAAAAAApigwAwAAAAAAADBFgRkAAAAAAACAKQrMAAAA\n",
       "AAAAAExRYAYAAAAAAABgigIzAAAAAAAAAFMUmAEAAAAAAACYosAMAAAAAAAAwBQFZgAAAAAAAACm\n",
       "KDADAAAAAAAAMOX4oxvA7RvFrKWY1W1Z0m5d1Sj2td7N231uozhHlrHXstqPrLoS2suqqvvg9lud\n",
       "u3u5Xb+Xn5K1h7Oa111Y1bTi1tbcc5Nkz6GXNboLYS929Zbbto3uwtr2Xl+bbbuWx6Daz723DpJk\n",
       "23p5zawk2Yt59822XZ97WUkO21sta9n+XMtKkmUvHgrNrHZe890qyV48/5pP7VrMSpJj9evRQzMs\n",
       "69Jb80sxK0nW5VTLOhwea1lJMo4/9bLuenvbeHitZSXJfu7lLe/dti2PxbzHcy8ryfrQyzsUs473\n",
       "3X6eTr28u2N3523m3R22WlaSnNZe3mnt7runpXcXP629d45j+dvMsdi2Q/H9JUkOxferZlaSHIrz\n",
       "Yy1+s0iSpfgBbyn2cymPQfOD23LD1ab2Z8pb/WT/e/nsDAAAAAAAAMA/kwIzAAAAAAAAAFMUmAEA\n",
       "AAAAAACYosAMAAAAAAAAwBQFZgAAAAAAAACmKDADAAAAAAAAMEWBGQAAAAAAAIApCswAAAAAAAAA\n",
       "TFFgBgAAAAAAAGCKAjMAAAAAAAAAUxSYAQAAAAAAAJiiwAwAAAAAAADAFAVmAAAAAAAAAKYcf3QD\n",
       "+H0ZxaylmPW70hyEJFnagbepOnfHXkxLdTH0R7PZuK2XVdZ8bnt7d2tOt9/Tz9KaU7e8T95q2tjL\n",
       "LSvGNbOSZC8uhvKJkG302raN7n60Fceh2bbr3t3ctmJevW1bcX5sh1pWkuzFvL3Yz/3a7eddsW2H\n",
       "7bWWlSTr9udiVvnetvfylmJWkmz7tZe1XXpZjx+1rCQZ+7mWtR6/1rKSZF3vallL+cI7Rm9+7KM3\n",
       "P5KU36+Kd8r2+9BSHNND90zI2stbDuXndujdUpdDcQ8vtitJ1mLeunbbdijmHcrvpIe1l9eeumsx\n",
       "r5rVi0rS/S7eb1uvde1zuZnX7GeSLMXzaim/y1c1m1bvZzPvhseg2Lbf06diAAAAAAAAAP4ZFJgB\n",
       "AAAAAAAAmKLADAAAAAAAAMAUBWYAAAAAAAAApigwAwAAAAAAADBFgRkAAAAAAACAKQrMAAAAAAAA\n",
       "AExRYAYAAAAAAABgigIzAAAAAAAAAFMUmAEAAAAAAACYosAMAAAAAAAAwBQFZgAAAAAAAACmKDAD\n",
       "AAAAAAAAMEWBGQAAAAAAAIApxx/dAPgfNcp5SzVxKWa1lZ/cKPZ1aY/qbarP3bEXw3pRSaqdbU61\n",
       "z8BeVHEEblu7ozf8M7fRnCDtva2Y1+znXt7d9ub+sZXbVrxC76O7EJrPbS9vvPs41LK2YtuaWe28\n",
       "rTw/tr2X18xKkr2Yt2/NrN68TZJRbNtduW3H7aWWtW6/1bKSZL1ea1nL5VLL+sz7KGa91bK2S288\n",
       "k2Q8PNWyrne/1LKSZDk8FsPan8maB3NvriXJKM6R5dybH2txHSTdNZprd//I1tvb2vfd7MUzpnmf\n",
       "Kd/bRv1DQ8+44U9kzbbdcDf5H3S7qyrdCXfTHW3qdnT5/Ty434Ub/rQLAAAAAAAAwC1RYAYAAAAA\n",
       "AABgigIzAAAAAAAAAFMUmAEAAAAAAACYosAMAAAAAAAAwBQFZgAAAAAAAACmKDADAAAAAAAAMEWB\n",
       "GQAAAAAAAIApCswAAAAAAAAATFFgBgAAAAAAAGCKAjMAAAAAAAAAUxSYAQAAAAAAAJiiwAwAAAAA\n",
       "AADAlOOPbgDcilHMWqppn4m3q9jXUe7n0h6H21Sdu6P7zMay17Law1mdbsW29Z7Yv4TyIDQ7u7bX\n",
       "++3uH6O4GKpZ5dk7imMwxn0tK0n2rZg1Dr2wJPvo/X50L5/Lzbyt+Ny2cj+34vZRb9veHIPub5X3\n",
       "vZe3VbPKa/Tay2tmJcndpZd3urzUspJkPT/VspbLuZaVJOv5vZa1fLzVstavz7WsJNm//NbLuv+5\n",
       "lpUk4/TYyzrc1bLq9ms1br325u760Vuj6+v3WlY7b3nt7m15641B3rvvL/u598m4mbVdup+yt614\n",
       "pyxmJeX7TPveVn3nqEV95jWzbvhbT/Oxtdu2N9/ly99mut9A2h8qb7Vt5TGofnu+3W93t6333PyD\n",
       "GQAAAAAAAIApCswAAAAAAAAATFFgBgAAAAAAAGCKAjMAAAAAAAAAUxSYAQAAAAAAAJiiwAwAAAAA\n",
       "AADAFAVmAAAAAAAAAKYoMAMAAAAAAAAwRYEZAAAAAAAAgCkKzAAAAAAAAABMUWAGAAAAAAAAYIoC\n",
       "MwAAAAAAAABTFJgBAAAAAAAAmKLADAAAAAAAAMCU449uAPz/0SjnLdXEpZjVVn5yo9jXpT2qt2lk\n",
       "r+Yto/c7prG029bLak619jLoPrWualf38oMr/gRvlAe1mTeKC6GZlZT7WV4J++jl7ftdLStJ9tG7\n",
       "3u/FPTxJtuJmuRWnW7ufzTFoPrN23taeH3svr9m2bTvUspJk33pt29ttu/bm7rh0PzUczy+1rMP5\n",
       "rZaVJOv7n2pZy1uvbcvXp1pWkqxffqpljYcvtawk2e8ee2HHUy8ryVh6a37Zt1pWkmS71KLWj+Lc\n",
       "feut9yRZXnprYXnqrqvxfK5l7S/dubu/PtSyrm/3vayP7t35cu49t3PxHE2Sy9bLuxTvH0lyKd61\n",
       "ruU75XXv3XevxXeO5vtLO28f3cbtxXf5vf0uX8xrf2fo5jW/p7S/iTfb1tZM/H3UEvyDGQAAAAAA\n",
       "AIApCswAAAAAAAAATFFgBgAAAAAAAGCKAjMAAAAAAAAAUxSYAQAAAAAAAJiiwAwAAAAAAADAFAVm\n",
       "AAAAAAAAAKYoMAMAAAAAAAAwRYEZAAAAAAAAgCkKzAAAAAAAAABMUWAGAAAAAAAAYIoCMwAAAAAA\n",
       "AABTFJgBAAAAAAAAmHL80Q0A/vtGMWuppn0m3q5iX0exn0t7DG7XyF7LWkb3N1FjabatFlWdap+B\n",
       "vajeE/t0y7tHs7OjvebXZl4vq93P5hptZiXJPnp93ffuc6u2rfyqsBd/27oXz4TyEGQr9nMrHwrN\n",
       "vN9L26579/6xFfOu1+4a3a6HXtal27b786mWdXq/q2UlyfHttZa1vjzXspavvXYlyfLley/s8aGX\n",
       "lWS9u++FHbtzdyy9NV9/l79uvazLuRa1vL/VspIkr++1qPF8rWUlyf7U29uu37/UspLk8tTLO78+\n",
       "1rI+3orrPcn7Ry/v/dI9X96vvfnxvnX3to+tt7ed9+6d8lLMuxZfI5tZSbIV3/u28vmyFT+o7Evx\n",
       "rEqyp5fX/OaZJHsxb4xm27r9HNX5Vv4O1fxGVq/B3GY9wT+YAQAAAAAAAJiiwAwAAAAAAADAFAVm\n",
       "AAAAAAAAAKYoMAMAAAAAAAAwRYEZAAAAAAAAgCkKzAAAAAAAAABMUWAGAAAAAAAAYIoCMwAAAAAA\n",
       "AABTFJgBAAAAAAAAmKLADAAAAAAAAMAUBWYAAAAAAAAApigwAwAAAAAAADBFgRkAAAAAAACAKccf\n",
       "3QDgf65RzluqiUsxq63Yz1Hu59Ie1ds0slfzltH7jdVYem1rD2d1uo3bnWt7fXfr5Y122/Zi24o/\n",
       "NWyv0RTXVXsM9uJCHWv3uY3iOt2Lcy1JRvHVo9m0vfyb2+aI7uU7wzYOtax+23p512bW3p0f1603\n",
       "Btet+zrfbNvlcqplJcn13MtORSGGAAAd3ElEQVS7f7+rZSXJ3dt9Lev4/FbLWr++17KSZH3stW15\n",
       "eK1lJclyX1ynx+6aX9bqZatrL55Yl60WNT7K94/33hjsL4+1rCS5FvMuT19qWUnyUcx7e+5lvb51\n",
       "x+Dt46GXde6eL2/X3tn3XjzjP/N66+p9694pP4pb27m5TZbfrS7FPfwyent4klyXXt413bbtud5k\n",
       "VpKM4jjsxbfS5jeGf0wsRrU/ot7ud89qy4r99A9mAAAAAAAAAKYoMAMAAAAAAAAwRYEZAAAAAAAA\n",
       "gCkKzAAAAAAAAABMUWAGAAAAAAAAYIoCMwAAAAAAAABTFJgBAAAAAAAAmKLADAAAAAAAAMAUBWYA\n",
       "AAAAAAAApigwAwAAAAAAADBFgRkAAAAAAACAKQrMAAAAAAAAAExRYAYAAAAAAABgigIzAAAAAAAA\n",
       "AFOOP7oBwL9uo5i1VNM+E29TuZ+j2M+lPQa3a2SvZS2j93utsfTa9RnYjeu6FrO6HS2PQlmxr82O\n",
       "lufuWHv9HOW9rbl/tNf8XpwfzawkGXuxbaPZz+4r0V48l7fmGV/O24tnX5JcR28ctr3Xz+te7mcx\n",
       "77ofallJctl6eZfLqZaVJJdzL+/x/a6WlST3bw+1rLuXx1rW8fG9lpUkh8dzLWu972UlyXrXu1Mu\n",
       "x62WlSRZm+d8+WJf3I/GtbeuRnn/2N57edvbfS0rSS6vvf3j/NrbP5Lkvbgfvb5+qWW9vHX7+fze\n",
       "G4Pnc3d+vBTXwsu1e99923r7x3sxK0k+itt4M+tcfBdKksvonS/XdM++a/Fbz7ZcallJsjXbNprf\n",
       "tJK9OA5jFLPKX8hGce6221a9axW/WfxjYDmvwz+YAQAAAAAAAJiiwAwAAAAAAADAFAVmAAAAAAAA\n",
       "AKYoMAMAAAAAAAAwRYEZAAAAAAAAgCkKzAAAAAAAAABMUWAGAAAAAAAAYIoCMwAAAAAAAABTFJgB\n",
       "AAAAAAAAmKLADAAAAAAAAMAUBWYAAAAAAAAApigwAwAAAAAAADBFgRkAAAAAAACAKccf3QCA/9co\n",
       "5y3VxKWY1Vbs5yj3c2mP6m0a2WtZS30MelH10Ry/j/mxl/s5muuq+FPDUZ4hYy/mlfeisfTWfHU8\n",
       "U25bcW9r5+3jvpe11aI+88ahmNX9PfBePGO28nm1FZ9bs23Xcj+ve29ML3vvmSXJeevlna/dTw0f\n",
       "l1Mv63xXy0qSh/eHWtb960ct6+6hl5Ukp/tzLetwd6llJcnhdK1lLcfuobCsxbO0/Uq69wL3rbe3\n",
       "7Zfu/rGde/vH9aO7f5zfe/eZj2JWkrwV97bX98da1vNHt5/P514/ny/d+fFcPEtfrt07w+u1t+bf\n",
       "ynfx92LeR/Gd9Lx3363Oo5d3XnrnaJJclt45f033zrAV8/Z0n9s+epN3pJfVbFfS/s5Q/p5SzWt/\n",
       "87zNtvkHMwAAAAAAAABTFJgBAAAAAAAAmKLADAAAAAAAAMAUBWYAAAAAAAAApigwAwAAAAAAADBF\n",
       "gRkAAAAAAACAKQrMAAAAAAAAAExRYAYAAAAAAABgigIzAAAAAAAAAFMUmAEAAAAAAACYosAMAAAA\n",
       "AAAAwBQFZgAAAAAAAACmKDADAAAAAAAAMOX4oxsA8C9lFLOWctrtavYzySj2dSm37Ua1e7mMvRjW\n",
       "i0rKfa1Pj2Jge+4W47a9Fzba/Vybed22jWJeMytJxtJb8+0x3Yt9rWaNcj/3Uy9rHGpZ7bytecYn\n",
       "2YrDcB2931Ff924/L8W8ZlaSnPfec/vYunP3/dpbV++Xu1pWkjx+fNSyHt7Ptaz7u15WkpxOl5vM\n",
       "SpLDaatlrYdeVpIsxXN5ad/Fi/v4Xtw/9mt3/7heep8+L5feXpQkH+fefvRxvq9lJclbsW0vxba9\n",
       "lPfw5+KYNrOS5OnSWwsv1+5/zF633v7xdq1FfeYVt/H3rbeHfzS/zST5SO/BndM9l69L7w5yTfc+\n",
       "s41eX/fRnbyjmLcX59soz91mXrttzW9H7W89KX63aLbNP5gBAAAAAAAAmKLADAAAAAAAAMAUBWYA\n",
       "AAAAAAAApigwAwAAAAAAADBFgRkAAAAAAACAKQrMAAAAAAAAAExRYAYAAAAAAABgigIzAAAAAAAA\n",
       "AFMUmAEAAAAAAACYosAMAAAAAAAAwBQFZgAAAAAAAACmKDADAAAAAAAAMEWBGQAAAAAAAIApCswA\n",
       "AAAAAAAATDn+6AYA/GswillLNe0z8XYV+zrK/Vza43CbqnN37MW0VKdufTRveHrc9n5UtPfaNsrr\n",
       "fazFtpXHoJlXf25Lbw9pZu17d28bxb1yH3e1rCRp9nQb3d8qN/O2Ykevx+794zIOxazuGJz3Xt7H\n",
       "1utnkrxvvU8Xb9dTLStJHi+9dfrwcall3Z96WUlyd7zWsk6HXlaSHI9bLeuw9rKSZCmepc2sJBnF\n",
       "96u9mVXePy7FvEt5//i49Pa2j3Lb3q69ve212M+Xcj9frs22defuy7V3Lj9fu/eZl+I2/trddvNe\n",
       "vAi+F98T3kf37Dsv51rWpZiVJJd81LKu6bZtS+9+tJXHdE9vMYxRzKq+RSbdt9Jy26rfPW/4e1uR\n",
       "fzADAAAAAAAAMEWBGQAAAAAAAIApCswAAAAAAAAATFFgBgAAAAAAAGCKAjMAAAAAAAAAUxSYAQAA\n",
       "AAAAAJiiwAwAAAAAAADAFAVmAAAAAAAAAKYoMAMAAAAAAAAwRYEZAAAAAAAAgCkKzAAAAAAAAABM\n",
       "UWAGAAAAAAAAYIoCMwAAAAAAAABTjj+6AQC/N6Oct1QTl2JWW/nJjWJfl/ao3qb63B17Ma3butEc\n",
       "01F+cs1lWmxbczQ/9do22rN3L+a194+1ORLdUR1LL28vtm1Un1kyinvbXt4/9r3Xtm2calmfecWs\n",
       "vbdRXpv3hSTXYtsuxawkOR96ee9797fs79uhlvV27X4GeTj28h4Od7Ws+/O1lpUkd4ftJrOS5Lj2\n",
       "8g7lM2EpnvPtN7XmCTOKe+VW3j+uxf3jvPeykuS89faP92u3be/Ftr0Vx+C13M/Xatu6q7SZ99Ld\n",
       "dvNaPGJer919923vdfZ99Dr6sZxrWZ95H7Ws8/Jey0qSS3pt20b3uW3jUsvai1mfeb35to/eOhjF\n",
       "rM+84rt8+1tg93ZUzGrn9bL8gxkAAAAAAACAKQrMAAAAAAAAAExRYAYAAAAAAABgigIzAAAAAAAA\n",
       "AFMUmAEAAAAAAACYosAMAAAAAAAAwBQFZgAAAAAAAACmKDADAAAAAAAAMEWBGQAAAAAAAIApCswA\n",
       "AAAAAAAATFFgBgAAAAAAAGCKAjMAAAAAAAAAUxSYAQAAAAAAAJiiwAwAAAAAAADAlOOPbgAA/zyj\n",
       "mLVU0z4Tb1exr6PYz6U9BrerO3fLxt6LKjeuOUVGNawXlSR7MfC2d6Lugxt7L2+s5bYV+zqW4hot\n",
       "j8FebNueXlaSbHnoZY3uc9v23qvpVnzNvY7ub7Kve29HOnenR87HXts+9kMtK0neD71xeChmJcnD\n",
       "1uvrw9ob1LvDVstKkrti207FrCQ5FvMO5bv4Ws273Xe14vUje33f7eVdillJci7mfRT3oiT5KLbt\n",
       "betlvRezkuTt2lsHb91tN6/FvLdrLytJ3rbevvu2dx/c297r7PtyLmZ91LKS5GN5r2Vd0m3bdfSe\n",
       "WzMrSbZxqWXto7uw9tFbCyPNdVV+6WjmFb/d/WNgMep2v6c0+QczAAAAAAAAAFMUmAEAAAAAAACY\n",
       "osAMAAAAAAAAwBQFZgAAAAAAAACmKDADAAAAAAAAMEWBGQAAAAAAAIApCswAAAAAAAAATFFgBgAA\n",
       "AAAAAGCKAjMAAAAAAAAAUxSYAQAAAOC/tW9Hy63kyBFAE6R0x///s3Mlkg0/aDfsF29UjHMtjHXO\n",
       "B2QUGugG2MUGAABGNJgBAAAAAAAAGNFgBgAAAAAAAGBEgxkAAAAAAACAkbfvLgCAc+xy3qomrmJW\n",
       "W3GcuzzO1Z7Vpl5tu74+ev/BW/uqZSXdJdJcHu2lW38gFV3V4toDLeZd5dqKC27filnl5+RO756/\n",
       "Vvf5cTVrK2YlyWv/6mW9enP63PdaVjvvcXUfvJ/FvI/uZct/3Hu1/XHvFvfHrXdm+OPeW7u/bt1x\n",
       "vhefu+/l5+7brfc8upXPM7fivnzyUauZ9SofKpt5z6v7nU7zudvM+srrjfX3q7i/vGpRSZLfxbw/\n",
       "67X17qzfr+657c+rl/d7P2tZSfJ7fRazfteyPtaftawkeaRXWzMrSZ75qGW99qOWlSRXMe8qr91d\n",
       "zNu790Da7Xdaxbzdfp+yTz0dtfN6Wb5gBgAAAAAAAGBEgxkAAAAAAACAEQ1mAAAAAAAAAEY0mAEA\n",
       "AAAAAAAY0WAGAAAAAAAAYESDGQAAAAAAAIARDWYAAAAAAAAARjSYAQAAAAAAABjRYAYAAAAAAABg\n",
       "RIMZAAAAAAAAgBENZgAAAAAAAABGNJgBAAAAAAAAGNFgBgAAAAAAAGDk7bsLAOD/r13MWtW0r8Qz\n",
       "lce5i+NcJ89Bu7arlrTLa605DbsYtnZ3Dk5Oa+Zd7ZEW52Hf2rNQrO0qZq3e/d7Ou9arlpUku5j3\n",
       "Ktf22sXailnP61ctK0keu7c+Hte9lpUkn1fv/+efV3fv+3j18n51L1v+uPVqey9m/bp1vyd4L+4J\n",
       "b+Uz5b041Ht5X17No3gvqq65kxa3+CTJq/h76Nn8bZXkWbxw7efuZ7O24pHho3tsy0e1tm5xv1+9\n",
       "m+GjeDZKkt/70ctavawk+Vgfxaw/a1mf6WV95f2uZT1375olyev67GXtXlaSXPtZzCr/Vivm7eJv\n",
       "jp3uOLvvZ8qbQvVdYPs91Jl8wQwAAAAAAADAiAYzAAAAAAAAACMazAAAAAAAAACMaDADAAAAAAAA\n",
       "MKLBDAAAAAAAAMCIBjMAAAAAAAAAIxrMAAAAAAAAAIxoMAMAAAAAAAAwosEMAAAAAAAAwIgGMwAA\n",
       "AAAAAAAjGswAAAAAAAAAjGgwAwAAAAAAADCiwQwAAAAAAADAiAYzAAAAAAAAACNv310AAEzsct6q\n",
       "Jq5iVltxnP1J4C/YuWpZa/f+a7hXr6663V68TefWdl3l2lYvbzezbt2127xHm1lJ9z698qplJcm1\n",
       "enmvPGtZz/I4n/tXLeuxuz/nP/e9lvVxdf/L/uvWy/v16h5Aft16ee/Fy9bMSpK34jjfVncO7sW4\n",
       "4jC/8pphB5+dm0et9omyeZx5lot7HlzbZzHvUcz6LJ9PP65ecZ/FrCT52L0zyEcetawk+Vi9vI/1\n",
       "UctKks/1u5eVXtajmJUkz93Le17dOXjtz1rWtbtr99q93wm7mJW0f/sVf8Psc38vt9/17Or7mfa7\n",
       "njNr8wUzAAAAAAAAACMazAAAAAAAAACMaDADAAAAAAAAMKLBDAAAAAAAAMCIBjMAAAAAAAAAIxrM\n",
       "AAAAAAAAAIxoMAMAAAAAAAAwosEMAAAAAAAAwIgGMwAAAAAAAAAjGswAAAAAAAAAjGgwAwAAAAAA\n",
       "ADCiwQwAAAAAAADAiAYzAAAAAAAAACNv310AAHyHXcxa5bQfYxev22pft+acnmvnqmWtXZ6DYlx9\n",
       "NquB3erOfbYlzep2s7arPAerOM5b7x5NkiuvXtbqZSXJq1jbaz1rWc9iVpI8dy/vsX/Vsr7yeq8H\n",
       "fhWzkuR932tZv67u/+zfi2eQt1uvtvfytny/FcdZrq1YWjUr+TlfdTR30uZPhCTF3SV5tWsrbvPP\n",
       "8oV7FM9Hj2Jtj6t7NvosrpDP3T0bfa7HkVlJ8pmPXtbqZSXJI7+PzHru7jhf12cva/eyvvJ66+0q\n",
       "np3bebu6wyS7+AzZu/esrP72/kfimVntvJNr6/kpZ10AAAAAAAAA/pc0mAEAAAAAAAAY0WAGAAAA\n",
       "AAAAYESDGQAAAAAAAIARDWYAAAAAAAAARjSYAQAAAAAAABjRYAYAAAAAAABgRIMZAAAAAAAAgBEN\n",
       "ZgAAAAAAAABGNJgBAAAAAAAAGNFgBgAAAAAAAGBEgxkAAAAAAACAEQ1mAAAAAAAAAEY0mAEAAAAA\n",
       "AAAYefvuAgDg724Xs1Y17SvxR9jl67aa1609p2eqr9x9FcN6UUmym6Otr91iVrm2q3jdulPaHedO\n",
       "b+3uq3gfJNmrWFsxK0mu9SpmPWtZr/SykuS1HrWs5/qjlpUkj/1ey/osZiXJezHvfd9rWUnytnr/\n",
       "23+/eln3Yl1J8lY8G92r56zulxO3cm3NtHJp3d2vGNbdXZKreJ65yse2V/HCPZtn5yTP4nVr1vZI\n",
       "77yQJI/imeGzuMcnyWN9HpmVJI98HJmVJM/dy3vt3nV7FrOS5CrmvXZ37V67d181s5JkF/P27j6P\n",
       "dvFZ2fxNWt+Zq+P8Ge/b6op7vC+YAQAAAAAAABjRYAYAAAAAAABgRIMZAAAAAAAAgBENZgAAAAAA\n",
       "AABGNJgBAAAAAAAAGNFgBgAAAAAAAGBEgxkAAAAAAACAEQ1mAAAAAAAAAEY0mAEAAAAAAAAY0WAG\n",
       "AAAAAAAAYESDGQAAAAAAAIARDWYAAAAAAAAARjSYAQAAAAAAABh5++4CAID/sst5q57YtL67gP/Z\n",
       "bl638jjXyXPaU52BfRXTkuac7oOXx26vtWpcL+wqPyd38fnRnoO9evfCvnXvqyuvYtbzyKwkea1H\n",
       "LeuZXlaSPNZ7Lett/aplJcn7LtZWzEqSt9x7WbuXdS9mJcm9uPfdV/dbh1uxtvZXGOvk825Rc7fa\n",
       "7X25mPcq1/Yqnhle6e7Lr+K+/Fy9rEd5X3429+ViVpI88lnLehaz2nmv3a2tmdfN6q6PaxfPu8Ws\n",
       "dt4u17Z373m0y8/dFJ+7adZWfT/W3ufb78cOru3QV4G+YAYAAAAAAABgRIMZAAAAAAAAgBENZgAA\n",
       "AAAAAABGNJgBAAAAAAAAGNFgBgAAAAAAAGBEgxkAAAAAAACAEQ1mAAAAAAAAAEY0mAEAAAAAAAAY\n",
       "0WAGAAAAAAAAYESDGQAAAAAAAIARDWYAAAAAAAAARjSYAQAAAAAAABjRYAYAAAAAAABg5O27CwAA\n",
       "/n12MWsVs76cXV1Pc5xJdnGsq1zboXZ7Dor/0Vz7qmUl7eXRvW4np3X15vSqX7Vebfvqrt3betWy\n",
       "djHrWs9aVpLc86hlvfJZy0qS5/pVy7qXa3us91rWvZiVJG+791rlvu69rGJdSXIv7n238rcOzbzV\n",
       "3EiTrOIZ9ezTbm+/au/wu3jevYr7aJK8Vi/vVdz7kuSVXt4rvb30uXr7aJK8ivvys5iVdGt77e6+\n",
       "/NrN2rrX7arW1lu7VzGrnbeL92iS7F081xezku7voRxdW3Nf7u593Z2+fmo4MurfFFjhC2YAAAAA\n",
       "AAAARjSYAQAAAAAAABjRYAYAAAAAAABgRIMZAAAAAAAAgBENZgAAAAAAAABGNJgBAAAAAAAAGNFg\n",
       "BgAAAAAAAGBEgxkAAAAAAACAEQ1mAAAAAAAAAEY0mAEAAAAAAAAY0WAGAAAAAAAAYESDGQAAAAAA\n",
       "AIARDWYAAAAAAAAARjSYAQAAAAAAABh5++4CAIC/h13OW9W0s6vrKo51F8e52nNwsquWtMtrrTkN\n",
       "ex18H+zeQHf5+bGK/+Fd9dqKa3f3spJkr2Jt61XLuq3uT+ZrPWtZr2JWktzzqGXdyq8anuu9lnUv\n",
       "19ZcI83abutey0qSW3p5t9391uHWfO6ubm3r6DPlmdr78i7ufVcxK0mu4t53pbf3JckrvT3mKmY1\n",
       "62rnXbu3jyaH17abtXXntJnXzNq7e4/uZm3lZ1tzrO3r1v0t371u3d+4zdra73qaeSe/hzq5th5f\n",
       "MAMAAAAAAAAwosEMAAAAAAAAwIgGMwAAAAAAAAAjGswAAAAAAAAAjGgwAwAAAAAAADCiwQwAAAAA\n",
       "AADAiAYzAAAAAAAAACMazAAAAAAAAACMaDADAAAAAAAAMKLBDAAAAAAAAMCIBjMAAAAAAAAAIxrM\n",
       "AAAAAAAAAIxoMAMAAAAAAAAw8vbdBQAAP9P+7gL+hVWtbhWz2orj3OVxrpPn4NzVu3PVslZ9TntR\n",
       "uzgHa3fnczfXbrm27trtrbWvtF7ezr2WdeVVy0qS2+7l3dazlpUk1+q9Hrit3hwkyWs3a+u+BrkV\n",
       "11vzujXrSpJVHWf3W4dV/HaimfWVd/I5sKm3v/R3vub+cu7e196vmnm7uPdd6e59r4Nru3Yvbxez\n",
       "kuRqXrdybd31duZ98JXXfB6dW1v7uVv9DdP+HVkda7O2k3+TltV/f5+qN05fMAMAAAAAAAAwosEM\n",
       "AAAAAAAAwIgGMwAAAAAAAAAjGswAAAAAAAAAjGgwAwAAAAAAADCiwQwAAAAAAADAiAYzAAAAAAAA\n",
       "ACMazAAAAAAAAACMaDADAAAAAAAAMKLBDAAAAAAAAMCIBjMAAAAAAAAAIxrMAAAAAAAAAIxoMAMA\n",
       "AAAAAAAwosEMAAAAAAAAwMjbdxcAAHCaXcxa1bSvxDOVx9mdBP6C+srdVzOtlrTL62Pt3pXb9Vlo\n",
       "1tb9r3LzWdlca2s1122y16uWde17LStJbutZy1qrXVsvb9Wv25m13Vb7Hu3lNbOSZBXHuuqHhl7e\n",
       "yceZ7m7VTivufdWzTLLTy2tmJcm1e/tVs7ZmXUmy09yXy7UV806+bs1xtvOq92j9+VG8bvXams/x\n",
       "bm3NsZ78W+3crLLib2/+Gl8wAwAAAAAAADCiwQwAAAAAAADAiAYzAAAAAAAAACMazAAAAAAAAACM\n",
       "aDADAAAAAAAAMKLBDAAAAAAAAMCIBjMAAAAAAAAAIxrMAAAAAAAAAIxoMAMAAAAAAAAwosEMAAAA\n",
       "AAAAwIgGMwAAAAAAAAAjGswAAAAAAAAAjGgwAwAAAAAAADCykrf93UUAADCzDk77MdbJ161Z288Y\n",
       "52r/57a6Prq1reacrnZtzbxe1jp4nPXa1r2X1V67R9fWy7udvD6a161eW3NPaO99J++lp+q+ptzF\n",
       "vGbWV+DVi0ovK0l2sbarWFuzriTZefWy6rU1r1tvnF95J6/d5ljPXbvNZ2V7DprPtpP3hHZt3byD\n",
       "W3774NqO1rzne3zBDAAAAAAAAMCIBjMAAAAAAAAAIxrMAAAAAAAAAIxoMAMAAAAAAAAwosEMAAAA\n",
       "AAAAwIgGMwAAAAAAAAAjGswAAAAAAAAAjGgwAwAAAAAAADCiwQwAAAAAAADAiAYzAAAAAAAAACMa\n",
       "zAAAAAAAAACMaDADAAAAAAAAMKLBDAAAAAAAAMDISt72dxcBAMD/vXVw2s9Rvm7VuJPntFlb+044\n",
       "t7as5v+L29etWNvq1VatK0nzP96rOp/nzkHSre3k69at7eQ5aO8vzXv+3Np+ju5ryl3NK9e2e3k7\n",
       "Vy3rn4m1pN2rrT3Ok2tLtbb22m2OtTynzbyD56B63YrPon8EFpPOra29J/TzSurr46don2fO5Atm\n",
       "AAAAAAAAAEY0mAEAAAAAAAAY0WAGAAAAAAAAYESDGQAAAAAAAIARDWYAAAAAAAAARjSYAQAAAAAA\n",
       "ABjRYAYAAAAAAABgRIMZAAAAAAAAgBENZgAAAAAAAABGNJgBAAAAAAAAGNFgBgAAAAAAAGBEgxkA\n",
       "AAAAAACAEQ1mAAAAAAAAAEY0mAEAAAAAAAAYWcnb/u4iAAD4e1vfXcC/dHZ1XcWxHn3ZmsWdPNBu\n",
       "bau6Ptr/VT5zTlf7P9nr4Nqa1+3g9fFz5rT8/CiO8+hnW93Jtf0Uvdeeu5j1z8Ra0j64tly1rJTH\n",
       "Wa2tvD72Prg2c/oXopp1JT/l2dbXrO3gcdb3hJ+ieV/9DL5gBgAAAAAAAGBEgxkAAAAAAACAEQ1m\n",
       "AAAAAAAAAEY0mAEAAAAAAAAY0WAGAAAAAAAAYESDGQAAAAAAAIARDWYAAAAAAAAARjSYAQAAAAAA\n",
       "ABjRYAYAAAAAAABgRIMZAAAAAAAAgBENZgAAAAAAAABGNJgBAAAAAAAAGNFgBgAAAAAAAGBkJW/7\n",
       "u4sAAID/bn13Af/S2dUda5163U6tK+nX1szr1raaedW1du4cVK/ZPxJ7Ud3/snfHWl67x663g+/R\n",
       "9to9dn9Juvf8ubovFg9+TbnbtfXy+letmXjVkvbRc1CurTrW3hwk7bGeO6fNOaivj58yB3XN9dGL\n",
       "+jcF/gA/5gRyLF8wAwAAAAAAADCiwQwAAAAAAADAiAYzAAAAAAAAACMazAAAAAAAAACMaDADAAAA\n",
       "AAAAMKLBDAAAAAAAAMCIBjMAAAAAAAAAIxrMAAAAAAAAAIxoMAMAAAAAAAAwosEMAAAAAAAAwIgG\n",
       "MwAAAAAAAAAjGswAAAAAAAAAjGgwAwAAAAAAADDyn7V8oMR4H9j7AAAAAElFTkSuQmCC\n",
       "\" transform=\"translate(169, 47)\"/>\n",
       "</g>\n",
       "<defs>\n",
       "  <clipPath id=\"clip483\">\n",
       "    <rect x=\"2160\" y=\"47\" width=\"73\" height=\"1440\"/>\n",
       "  </clipPath>\n",
       "</defs>\n",
       "<g clip-path=\"url(#clip483)\">\n",
       "<image width=\"72\" height=\"1439\" xlink:href=\"data:image/png;base64,\n",
       "iVBORw0KGgoAAAANSUhEUgAAAEgAAAWfCAYAAAAI7rB3AAAMWUlEQVR4nO3dwY0rRxAFwaZQ/lsh\n",
       "L6XfLQtUeSQPERYsEg8c9MyQ+/n3/v0O/+uvb/8Bv06gIFAQKAgU5r5/v/03/DQLCgIFgYJAQaAw\n",
       "7/359t/w0ywoCBQECgIFR41gQUGgIFAQKAgU5rmKrSwoCBQECgIFgcK86yq2saAgUBAoCBQcNYIF\n",
       "BYGCQEGgIFBwFQsWFAQKAgWBgvtBwYKCQEGgIFAQKMxx1FhZUBAoCBQECgIFN8yCBQWBgkBBoDDH\n",
       "DbOVBQWBgkBBoCBQmHP/+fbf8NMsKAgUBAoCBYGCxz7BgoJAQaAgUHDDLFhQECgIFAQKAgVXsWBB\n",
       "QaAgUBAouB8ULCgIFAQKAgWBwnwcNVYWFAQKAgWBgkBhzvWfWTYWFAQKAgWBgqNGsKAgUBAoCBQE\n",
       "Co4awYKCQEGgIFAQKHjDLFhQECgIFAQK83HUWFlQECgIFAQKAgXvSQcLCgIFgYJAwVEjWFAQKAgU\n",
       "BAoCBc/mgwUFgYJAQaAgUHAWCxYUBAoCBYGCo0awoCBQECgIFAQKjhrBgoJAQaAgUBAozLn323/D\n",
       "T7OgIFAQKAgUHDWCBQWBgkBBoCBQ8NgnWFAQKAgUBAo+pIMFBYGCQEGgIFCYj6caKwsKAgWBgkBB\n",
       "oOAsFiwoCBQECgIFL1AFCwoCBYGCQEGg4IZZsKAgUBAoCBTcDwoWFAQKAgWBgkDBDbNgQUGgIFAQ\n",
       "KAgUXMWCBQWBgkBBoOB788GCgkBBoCBQECg4agQLCgIFgYJAQaDgKhYsKAgUBAoCBR/SwYKCQEGg\n",
       "IFAQKLiKBQsKAgWBgkBhzvMhvbGgIFAQKAgUBAqOGsGCgkBBoCBQECi4igULCgIFgYJAwYd0sKAg\n",
       "UBAoCBQECnPu+/bf8NMsKAgUBAoCBYGCs1iwoCBQECgIFBw1ggUFgYJAQaAgUHDUCBYUBAoCBYGC\n",
       "o0awoCBQECgIFAQKc5w0VhYUBAoCBYGCQGHOcxbbWFAQKAgUBAqOGsGCgkBBoCBQECi4igULCgIF\n",
       "gYJAQaAwfohzZ0FBoCBQECg4agQLCgIFgYJAQaDgKhYsKAgUBAoChTn38+2/4adZUBAoCBQECgKF\n",
       "ec9VbGNBQaAgUBAoCBTcMAsWFAQKAgWBghtmwYKCQEGgIFAQKMy7Gm3UCQIFgYJAwVEjWFAQKAgU\n",
       "BAoChTmeza8sKAgUBAoCBYHCPGexlQUFgYJAQaAwx1ONlTpBoCBQECgIFBw1ggUFgYJAQaAgUPDY\n",
       "J1hQECgIFAQKXgMO6gSBgkBBoCBQ8J50sKAgUBAoCBQ81QgWFAQKAgWBgkBh3tNoo04QKAgUBAoC\n",
       "BTfMggUFgYJAQaDghlmwoCBQECgIFAQKc9wwW6kTBAoCBYGCQMFZLFhQECgIFAQKPqSDBQWBgkBB\n",
       "oCBQ8L35YEFBoCBQECj43nxQJwgUBAoCBYHCPEeNlQUFgYJAQaAgUPDYJ1hQECgIFAQK/jNLUCcI\n",
       "FAQKAgWBghtmwYKCQEGgIFAQKLhhFiwoCBQECgIFR41gQUGgIFAQKAgUvCcd1AkCBYGCQMFRI1hQ\n",
       "ECgIFAQKAgVPNYIFBYGCQEGgIFBwFgsWFAQKAgWBgn+fFSwoCBQECgIFgYJ/ZRzUCQIFgYJAQaDg\n",
       "hlmwoCBQECgIFDybDxYUBAoCBYGCQMFRI1hQECgIFAQKc31IrywoCBQECgIFgYLvzQd1gkBBoCBQ\n",
       "ECi4YRYsKAgUBAoCBR/SwYKCQEGgIFAQKHjDLFhQECgIFAQKjhrBgoJAQaAgUBAouIoFCwoCBYGC\n",
       "QEGg4NdfgjpBoCBQECjM9VRjZUFBoCBQECgIFNwwCxYUBAoCBYGCQMFVLFhQECgIFAQKPqSDBQWB\n",
       "gkBBoCBQ8BtmwYKCQEGgIFBw1AgWFAQKAgWBgkDBVSxYUBAoCBQECgIFX2YJ6gSBgkBBoODLLMGC\n",
       "gkBBoCBQECi4YRYsKAgUBAoCBYGCq1iwoCBQECgIFLwGHCwoCBQECgIFgYKjRrCgIFAQKAgU5h0f\n",
       "0hsLCgIFgYJAQaDghlmwoCBQECgIFAQKbpgFCwoCBYGCQMFRI1hQECgIFAQKAgVHjWBBQaAgUBAo\n",
       "CBScxYIFBYGCQEGg4KgRLCgIFAQKAgWBgqtYsKAgUBAoCBTm+jLLyoKCQEGgIFAQKDhqBAsKAgWB\n",
       "gkBBoODZfLCgIFAQKAgU5r1v/wm/zYKCQEGgIFAQKDhqBAsKAgWBgkDBD00GCwoCBYGCQEGg4KgR\n",
       "LCgIFAQKAgWBgjfMggUFgYJAQaDgyyzBgoJAQaAgUBAoeMMsWFAQKAgUBAoCBY99ggUFgYJAQaDg\n",
       "qUawoCBQECgIFAQKHvsECwoCBYGCQMH9oGBBQaAgUBAoCBQ8mw8WFAQKAgWBgkDBDbNgQUGgIFAQ\n",
       "KHg2HywoCBQECgIFgcLcb/8FP86CgkBBoCBQECg4iwULCgIFgYJAwRtmwYKCQEGgIFAQKLhhFiwo\n",
       "CBQECgIF94OCBQWBgkBBoCBQcNQIFhQECgIFgYJAwVksWFAQKAgUBAqezQcLCgIFgYJAQaAwfvxl\n",
       "Z0FBoCBQECgIFJzFggUFgYJAQaDg2XywoCBQECgIFAQKns0HCwoCBYGCQMFRI1hQECgIFAQKAgVH\n",
       "jWBBQaAgUBAoCBTmesVsZUFBoCBQECi4YRYsKAgUBAoCBYGCG2bBgoJAQaAgUHDUCBYUBAoCBYGC\n",
       "QGGepxorCwoCBYGCQEGgMPe4YbaxoCBQECgIFLxAFSwoCBQECgIFgYIfmgwWFAQKAgWBgkDBD00G\n",
       "CwoCBYGCQMGz+WBBQaAgUBAoCBS8Jx0sKAgUBAoCBd84DBYUBAoCBYGCQMFRI1hQECgIFAQKAgXv\n",
       "SQcLCgIFgYJAwWvAwYKCQEGgIFAQKDhqBAsKAgWBgkBBoOA96WBBQaAgUBAo+ImuYEFBoCBQECgI\n",
       "FNwwCxYUBAoCBYGCZ/PBgoJAQaAgUBAoOGoECwoCBYGCQEGg4CwWLCgIFAQKAgVHjWBBQaAgUBAo\n",
       "CBRcxYIFBYGCQEGgIFBwwyxYUBAoCBQECo4awYKCQEGgIFAQKDhqBAsKAgWBgkDBUSNYUBAoCBQE\n",
       "CgIFP9EVLCgIFAQKAgWBgv8vFiwoCBQECgIFN8yCBQWBgkBBoCBQmHdcxjYWFAQKAgWBgkDBWSxY\n",
       "UBAoCBQECp7NBwsKAgWBgkBBoODZfLCgIFAQKAgU3A8KFhQECgIFgYJAwbP5YEFBoCBQECgIFJzF\n",
       "ggUFgYJAQaDgJ7qCBQWBgkBBoCBQmOsVs5UFBYGCQEGg4AWqYEFBoCBQECgIFOY5aqwsKAgUBAoC\n",
       "BYGCs1iwoCBQECgIFDzVCBYUBAoCBYGCQMEbZsGCgkBBoCBQECjM9ZXMlQUFgYJAQaDghlmwoCBQ\n",
       "ECgIFAQKfv0lWFAQKAgUBApeoAoWFAQKAgWBgkDBU41gQUGgIFAQKAgU3DALFhQECgIFgcLc45bZ\n",
       "xoKCQEGgIFAQKLhhFiwoCBQECgIFgYKrWLCgIFAQKAgUPNUIFhQECgIFgYJAwWOfYEFBoCBQECjM\n",
       "/ThqbCwoCBQECgIFgYKjRrCgIFAQKAgUBArzXMVWFhQECgIFgYKjRrCgIFAQKAgUBApzP65iGwsK\n",
       "AgWBgkBBoOAsFiwoCBQECgIFTzWCBQWBgkBBoCBQcNQIFhQECgIFgYIP6WBBQaAgUBAoCBQ8mw8W\n",
       "FAQKAgWBgkBh3vnz7b/hp1lQECgIFAQKbpgFCwoCBYGCQEGg4A2zYEFBoCBQECjMfe4HbSwoCBQE\n",
       "CgIFgYKjRrCgIFAQKAgUBApzPZtfWVAQKAgUBAqOGsGCgkBBoCBQECg4agQLCgIFgYJAQaAw7zmL\n",
       "bSwoCBQECgIFN8yCBQWBgkBBoCBQ8J50sKAgUBAoCBQcNYIFBYGCQEGgIFCY56ixsqAgUBAoCBQE\n",
       "Cs5iwYKCQEGgIFCY6wWqlQUFgYJAQaAgUPCb9sGCgkBBoCBQECj4MkuwoCBQECgIFDzVCBYUBAoC\n",
       "BYGCQMFRI1hQECgIFAQKPqSDBQWBgkBBoCBQ8Gw+WFAQKAgUBAoCBWexYEFBoCBQECjM8Wx+ZUFB\n",
       "oCBQECgIFBw1ggUFgYJAQaAgUPCedLCgIFAQKAgU5jhqrCwoCBQECgIFgYI3zIIFBYGCQEGg4Nl8\n",
       "sKAgUBAoCBQECm6YBQsKAgWBgkBBoDDvvG//DT/NgoJAQaAgUHDDLFhQECgIFAQKAoU5jhorCwoC\n",
       "BYGCQOE/LrLuTX/wFc8AAAAASUVORK5CYII=\n",
       "\" transform=\"translate(2161, 47)\"/>\n",
       "</g>\n",
       "<path clip-path=\"url(#clip480)\" d=\"M2280.7 1468.62 Q2277.09 1468.62 2275.26 1472.18 Q2273.45 1475.72 2273.45 1482.85 Q2273.45 1489.96 2275.26 1493.53 Q2277.09 1497.07 2280.7 1497.07 Q2284.33 1497.07 2286.14 1493.53 Q2287.97 1489.96 2287.97 1482.85 Q2287.97 1475.72 2286.14 1472.18 Q2284.33 1468.62 2280.7 1468.62 M2280.7 1464.91 Q2286.51 1464.91 2289.57 1469.52 Q2292.64 1474.1 2292.64 1482.85 Q2292.64 1491.58 2289.57 1496.19 Q2286.51 1500.77 2280.7 1500.77 Q2274.89 1500.77 2271.81 1496.19 Q2268.76 1491.58 2268.76 1482.85 Q2268.76 1474.1 2271.81 1469.52 Q2274.89 1464.91 2280.7 1464.91 Z\" fill=\"#000000\" fill-rule=\"evenodd\" fill-opacity=\"1\" /><path clip-path=\"url(#clip480)\" d=\"M2274.38 1272.59 L2290.7 1272.59 L2290.7 1276.52 L2268.76 1276.52 L2268.76 1272.59 Q2271.42 1269.83 2276 1265.2 Q2280.61 1260.55 2281.79 1259.21 Q2284.03 1256.68 2284.91 1254.95 Q2285.82 1253.19 2285.82 1251.5 Q2285.82 1248.74 2283.87 1247.01 Q2281.95 1245.27 2278.85 1245.27 Q2276.65 1245.27 2274.2 1246.03 Q2271.77 1246.8 2268.99 1248.35 L2268.99 1243.63 Q2271.81 1242.49 2274.27 1241.91 Q2276.72 1241.34 2278.76 1241.34 Q2284.13 1241.34 2287.32 1244.02 Q2290.52 1246.71 2290.52 1251.2 Q2290.52 1253.33 2289.7 1255.25 Q2288.92 1257.15 2286.81 1259.74 Q2286.23 1260.41 2283.13 1263.63 Q2280.03 1266.82 2274.38 1272.59 Z\" fill=\"#000000\" fill-rule=\"evenodd\" fill-opacity=\"1\" /><path clip-path=\"url(#clip480)\" d=\"M2300.56 1241.96 L2318.92 1241.96 L2318.92 1245.9 L2304.84 1245.9 L2304.84 1254.37 Q2305.86 1254.02 2306.88 1253.86 Q2307.9 1253.67 2308.92 1253.67 Q2314.7 1253.67 2318.08 1256.85 Q2321.46 1260.02 2321.46 1265.43 Q2321.46 1271.01 2317.99 1274.11 Q2314.52 1277.19 2308.2 1277.19 Q2306.02 1277.19 2303.76 1276.82 Q2301.51 1276.45 2299.1 1275.71 L2299.1 1271.01 Q2301.19 1272.15 2303.41 1272.7 Q2305.63 1273.26 2308.11 1273.26 Q2312.11 1273.26 2314.45 1271.15 Q2316.79 1269.04 2316.79 1265.43 Q2316.79 1261.82 2314.45 1259.72 Q2312.11 1257.61 2308.11 1257.61 Q2306.23 1257.61 2304.36 1258.03 Q2302.51 1258.44 2300.56 1259.32 L2300.56 1241.96 Z\" fill=\"#000000\" fill-rule=\"evenodd\" fill-opacity=\"1\" /><path clip-path=\"url(#clip480)\" d=\"M2270.21 1018.38 L2288.57 1018.38 L2288.57 1022.32 L2274.5 1022.32 L2274.5 1030.79 Q2275.52 1030.44 2276.53 1030.28 Q2277.55 1030.1 2278.57 1030.1 Q2284.36 1030.1 2287.74 1033.27 Q2291.12 1036.44 2291.12 1041.85 Q2291.12 1047.43 2287.64 1050.54 Q2284.17 1053.61 2277.85 1053.61 Q2275.68 1053.61 2273.41 1053.24 Q2271.16 1052.87 2268.76 1052.13 L2268.76 1047.43 Q2270.84 1048.57 2273.06 1049.12 Q2275.28 1049.68 2277.76 1049.68 Q2281.77 1049.68 2284.1 1047.57 Q2286.44 1045.47 2286.44 1041.85 Q2286.44 1038.24 2284.1 1036.14 Q2281.77 1034.03 2277.76 1034.03 Q2275.89 1034.03 2274.01 1034.45 Q2272.16 1034.86 2270.21 1035.74 L2270.21 1018.38 Z\" fill=\"#000000\" fill-rule=\"evenodd\" fill-opacity=\"1\" /><path clip-path=\"url(#clip480)\" d=\"M2310.33 1021.46 Q2306.72 1021.46 2304.89 1025.03 Q2303.08 1028.57 2303.08 1035.7 Q2303.08 1042.8 2304.89 1046.37 Q2306.72 1049.91 2310.33 1049.91 Q2313.96 1049.91 2315.77 1046.37 Q2317.6 1042.8 2317.6 1035.7 Q2317.6 1028.57 2315.77 1025.03 Q2313.96 1021.46 2310.33 1021.46 M2310.33 1017.76 Q2316.14 1017.76 2319.2 1022.36 Q2322.27 1026.95 2322.27 1035.7 Q2322.27 1044.42 2319.2 1049.03 Q2316.14 1053.61 2310.33 1053.61 Q2304.52 1053.61 2301.44 1049.03 Q2298.39 1044.42 2298.39 1035.7 Q2298.39 1026.95 2301.44 1022.36 Q2304.52 1017.76 2310.33 1017.76 Z\" fill=\"#000000\" fill-rule=\"evenodd\" fill-opacity=\"1\" /><path clip-path=\"url(#clip480)\" d=\"M2268.76 794.804 L2290.98 794.804 L2290.98 796.795 L2278.43 829.364 L2273.55 829.364 L2285.35 798.74 L2268.76 798.74 L2268.76 794.804 Z\" fill=\"#000000\" fill-rule=\"evenodd\" fill-opacity=\"1\" /><path clip-path=\"url(#clip480)\" d=\"M2300.14 794.804 L2318.5 794.804 L2318.5 798.74 L2304.43 798.74 L2304.43 807.212 Q2305.45 806.865 2306.46 806.703 Q2307.48 806.517 2308.5 806.517 Q2314.29 806.517 2317.67 809.689 Q2321.05 812.86 2321.05 818.277 Q2321.05 823.855 2317.58 826.957 Q2314.1 830.036 2307.78 830.036 Q2305.61 830.036 2303.34 829.665 Q2301.09 829.295 2298.69 828.554 L2298.69 823.855 Q2300.77 824.99 2302.99 825.545 Q2305.21 826.101 2307.69 826.101 Q2311.7 826.101 2314.03 823.994 Q2316.37 821.888 2316.37 818.277 Q2316.37 814.666 2314.03 812.559 Q2311.7 810.453 2307.69 810.453 Q2305.82 810.453 2303.94 810.869 Q2302.09 811.286 2300.14 812.166 L2300.14 794.804 Z\" fill=\"#000000\" fill-rule=\"evenodd\" fill-opacity=\"1\" /><path clip-path=\"url(#clip480)\" d=\"M2269.43 601.851 L2277.07 601.851 L2277.07 575.486 L2268.76 577.152 L2268.76 572.893 L2277.02 571.226 L2281.7 571.226 L2281.7 601.851 L2289.33 601.851 L2289.33 605.786 L2269.43 605.786 L2269.43 601.851 Z\" fill=\"#000000\" fill-rule=\"evenodd\" fill-opacity=\"1\" /><path clip-path=\"url(#clip480)\" d=\"M2308.78 574.305 Q2305.17 574.305 2303.34 577.87 Q2301.53 581.411 2301.53 588.541 Q2301.53 595.647 2303.34 599.212 Q2305.17 602.754 2308.78 602.754 Q2312.41 602.754 2314.22 599.212 Q2316.05 595.647 2316.05 588.541 Q2316.05 581.411 2314.22 577.87 Q2312.41 574.305 2308.78 574.305 M2308.78 570.601 Q2314.59 570.601 2317.64 575.208 Q2320.72 579.791 2320.72 588.541 Q2320.72 597.268 2317.64 601.874 Q2314.59 606.458 2308.78 606.458 Q2302.97 606.458 2299.89 601.874 Q2296.83 597.268 2296.83 588.541 Q2296.83 579.791 2299.89 575.208 Q2302.97 570.601 2308.78 570.601 Z\" fill=\"#000000\" fill-rule=\"evenodd\" fill-opacity=\"1\" /><path clip-path=\"url(#clip480)\" d=\"M2338.94 574.305 Q2335.33 574.305 2333.5 577.87 Q2331.7 581.411 2331.7 588.541 Q2331.7 595.647 2333.5 599.212 Q2335.33 602.754 2338.94 602.754 Q2342.57 602.754 2344.38 599.212 Q2346.21 595.647 2346.21 588.541 Q2346.21 581.411 2344.38 577.87 Q2342.57 574.305 2338.94 574.305 M2338.94 570.601 Q2344.75 570.601 2347.81 575.208 Q2350.89 579.791 2350.89 588.541 Q2350.89 597.268 2347.81 601.874 Q2344.75 606.458 2338.94 606.458 Q2333.13 606.458 2330.05 601.874 Q2327 597.268 2327 588.541 Q2327 579.791 2330.05 575.208 Q2333.13 570.601 2338.94 570.601 Z\" fill=\"#000000\" fill-rule=\"evenodd\" fill-opacity=\"1\" /><path clip-path=\"url(#clip480)\" d=\"M2269.43 378.273 L2277.07 378.273 L2277.07 351.907 L2268.76 353.574 L2268.76 349.315 L2277.02 347.648 L2281.7 347.648 L2281.7 378.273 L2289.33 378.273 L2289.33 382.208 L2269.43 382.208 L2269.43 378.273 Z\" fill=\"#000000\" fill-rule=\"evenodd\" fill-opacity=\"1\" /><path clip-path=\"url(#clip480)\" d=\"M2302.81 378.273 L2319.13 378.273 L2319.13 382.208 L2297.18 382.208 L2297.18 378.273 Q2299.84 375.518 2304.43 370.889 Q2309.03 366.236 2310.21 364.893 Q2312.46 362.37 2313.34 360.634 Q2314.24 358.875 2314.24 357.185 Q2314.24 354.43 2312.3 352.694 Q2310.38 350.958 2307.27 350.958 Q2305.08 350.958 2302.62 351.722 Q2300.19 352.486 2297.41 354.037 L2297.41 349.315 Q2300.24 348.181 2302.69 347.602 Q2305.14 347.023 2307.18 347.023 Q2312.55 347.023 2315.75 349.708 Q2318.94 352.393 2318.94 356.884 Q2318.94 359.014 2318.13 360.935 Q2317.34 362.833 2315.24 365.426 Q2314.66 366.097 2311.56 369.315 Q2308.45 372.509 2302.81 378.273 Z\" fill=\"#000000\" fill-rule=\"evenodd\" fill-opacity=\"1\" /><path clip-path=\"url(#clip480)\" d=\"M2328.99 347.648 L2347.34 347.648 L2347.34 351.583 L2333.27 351.583 L2333.27 360.055 Q2334.29 359.708 2335.31 359.546 Q2336.32 359.361 2337.34 359.361 Q2343.13 359.361 2346.51 362.532 Q2349.89 365.704 2349.89 371.12 Q2349.89 376.699 2346.42 379.801 Q2342.95 382.879 2336.63 382.879 Q2334.45 382.879 2332.18 382.509 Q2329.94 382.139 2327.53 381.398 L2327.53 376.699 Q2329.61 377.833 2331.83 378.389 Q2334.06 378.944 2336.53 378.944 Q2340.54 378.944 2342.88 376.838 Q2345.21 374.731 2345.21 371.12 Q2345.21 367.509 2342.88 365.403 Q2340.54 363.296 2336.53 363.296 Q2334.66 363.296 2332.78 363.713 Q2330.93 364.13 2328.99 365.009 L2328.99 347.648 Z\" fill=\"#000000\" fill-rule=\"evenodd\" fill-opacity=\"1\" /><path clip-path=\"url(#clip480)\" d=\"M2269.43 154.695 L2277.07 154.695 L2277.07 128.329 L2268.76 129.996 L2268.76 125.737 L2277.02 124.07 L2281.7 124.07 L2281.7 154.695 L2289.33 154.695 L2289.33 158.63 L2269.43 158.63 L2269.43 154.695 Z\" fill=\"#000000\" fill-rule=\"evenodd\" fill-opacity=\"1\" /><path clip-path=\"url(#clip480)\" d=\"M2298.83 124.07 L2317.18 124.07 L2317.18 128.005 L2303.11 128.005 L2303.11 136.477 Q2304.13 136.13 2305.14 135.968 Q2306.16 135.783 2307.18 135.783 Q2312.97 135.783 2316.35 138.954 Q2319.73 142.125 2319.73 147.542 Q2319.73 153.121 2316.26 156.223 Q2312.78 159.301 2306.46 159.301 Q2304.29 159.301 2302.02 158.931 Q2299.77 158.56 2297.37 157.82 L2297.37 153.121 Q2299.45 154.255 2301.67 154.811 Q2303.89 155.366 2306.37 155.366 Q2310.38 155.366 2312.71 153.26 Q2315.05 151.153 2315.05 147.542 Q2315.05 143.931 2312.71 141.824 Q2310.38 139.718 2306.37 139.718 Q2304.5 139.718 2302.62 140.135 Q2300.77 140.551 2298.83 141.431 L2298.83 124.07 Z\" fill=\"#000000\" fill-rule=\"evenodd\" fill-opacity=\"1\" /><path clip-path=\"url(#clip480)\" d=\"M2338.94 127.149 Q2335.33 127.149 2333.5 130.713 Q2331.7 134.255 2331.7 141.385 Q2331.7 148.491 2333.5 152.056 Q2335.33 155.598 2338.94 155.598 Q2342.57 155.598 2344.38 152.056 Q2346.21 148.491 2346.21 141.385 Q2346.21 134.255 2344.38 130.713 Q2342.57 127.149 2338.94 127.149 M2338.94 123.445 Q2344.75 123.445 2347.81 128.051 Q2350.89 132.635 2350.89 141.385 Q2350.89 150.111 2347.81 154.718 Q2344.75 159.301 2338.94 159.301 Q2333.13 159.301 2330.05 154.718 Q2327 150.111 2327 141.385 Q2327 132.635 2330.05 128.051 Q2333.13 123.445 2338.94 123.445 Z\" fill=\"#000000\" fill-rule=\"evenodd\" fill-opacity=\"1\" /><polyline clip-path=\"url(#clip480)\" style=\"stroke:#000000; stroke-linecap:butt; stroke-linejoin:round; stroke-width:4; stroke-opacity:1; fill:none\" points=\"\n",
       "  2232.76,1486.45 2232.76,1486.45 2256.76,1486.45 2232.76,1486.45 2232.76,1262.87 2256.76,1262.87 2232.76,1262.87 2232.76,1039.29 2256.76,1039.29 2232.76,1039.29 \n",
       "  2232.76,815.713 2256.76,815.713 2232.76,815.713 2232.76,592.135 2256.76,592.135 2232.76,592.135 2232.76,368.557 2256.76,368.557 2232.76,368.557 2232.76,144.979 \n",
       "  2256.76,144.979 2232.76,144.979 2232.76,47.2441 \n",
       "  \"/>\n",
       "</svg>\n"
      ]
     },
     "execution_count": 6,
     "metadata": {},
     "output_type": "execute_result"
    }
   ],
   "source": [
    "function truncated_gaussian(i₀, j₀, off) \n",
    "    \n",
    "    M = [ 250 * exp( - ( (i - i₀)^2 + (j - j₀)^2 ) / 300 ) - off for i in 1:nx, j in 1:ny ]\n",
    "    max.(0., M)\n",
    "    \n",
    "end\n",
    "\n",
    "#T₀ = [ 250 * exp( - ( (i - nx/2)^2 + (j - ny/2)^2 ) / 300 ) for i in 1:nx, j in 1:ny ]\n",
    "\n",
    "#T₀ = [ -(i - nx/2)^2 - (j - ny/.6)^2 + 40000 for i in 1:nx, j in 1:ny ]\n",
    "#T₀ = max.(0., T₀)\n",
    "\n",
    "T₀ = 1.5 * truncated_gaussian(nx/2, ny/2, 0) + \n",
    "     1 * truncated_gaussian(nx/3, ny/1.5, 0) +\n",
    "     1 * truncated_gaussian(nx/1.5, ny/3, 0) - \n",
    "     4 * truncated_gaussian(nx/1.5, ny/2, 0) - \n",
    "     2 * truncated_gaussian(nx/2, ny/1.5, 0)\n",
    "\n",
    "T₀ = max.(0., T₀)\n",
    "\n",
    "heatmap(T₀, clim=(0, maximum(T₀)))"
   ]
  },
  {
   "cell_type": "code",
   "execution_count": 7,
   "id": "9a39f35d",
   "metadata": {},
   "outputs": [
    {
     "data": {
      "image/svg+xml": [
       "<?xml version=\"1.0\" encoding=\"utf-8\"?>\n",
       "<svg xmlns=\"http://www.w3.org/2000/svg\" xmlns:xlink=\"http://www.w3.org/1999/xlink\" width=\"600\" height=\"400\" viewBox=\"0 0 2400 1600\">\n",
       "<defs>\n",
       "  <clipPath id=\"clip520\">\n",
       "    <rect x=\"0\" y=\"0\" width=\"2400\" height=\"1600\"/>\n",
       "  </clipPath>\n",
       "</defs>\n",
       "<path clip-path=\"url(#clip520)\" d=\"\n",
       "M0 1600 L2400 1600 L2400 0 L0 0  Z\n",
       "  \" fill=\"#ffffff\" fill-rule=\"evenodd\" fill-opacity=\"1\"/>\n",
       "<defs>\n",
       "  <clipPath id=\"clip521\">\n",
       "    <rect x=\"480\" y=\"0\" width=\"1681\" height=\"1600\"/>\n",
       "  </clipPath>\n",
       "</defs>\n",
       "<path clip-path=\"url(#clip520)\" d=\"\n",
       "M169.121 1486.45 L2112.76 1486.45 L2112.76 47.2441 L169.121 47.2441  Z\n",
       "  \" fill=\"#ffffff\" fill-rule=\"evenodd\" fill-opacity=\"1\"/>\n",
       "<defs>\n",
       "  <clipPath id=\"clip522\">\n",
       "    <rect x=\"169\" y=\"47\" width=\"1945\" height=\"1440\"/>\n",
       "  </clipPath>\n",
       "</defs>\n",
       "<polyline clip-path=\"url(#clip522)\" style=\"stroke:#000000; stroke-linecap:butt; stroke-linejoin:round; stroke-width:2; stroke-opacity:0.1; fill:none\" points=\"\n",
       "  548.13,1486.45 548.13,47.2441 \n",
       "  \"/>\n",
       "<polyline clip-path=\"url(#clip522)\" style=\"stroke:#000000; stroke-linecap:butt; stroke-linejoin:round; stroke-width:2; stroke-opacity:0.1; fill:none\" points=\"\n",
       "  936.857,1486.45 936.857,47.2441 \n",
       "  \"/>\n",
       "<polyline clip-path=\"url(#clip522)\" style=\"stroke:#000000; stroke-linecap:butt; stroke-linejoin:round; stroke-width:2; stroke-opacity:0.1; fill:none\" points=\"\n",
       "  1325.58,1486.45 1325.58,47.2441 \n",
       "  \"/>\n",
       "<polyline clip-path=\"url(#clip522)\" style=\"stroke:#000000; stroke-linecap:butt; stroke-linejoin:round; stroke-width:2; stroke-opacity:0.1; fill:none\" points=\"\n",
       "  1714.31,1486.45 1714.31,47.2441 \n",
       "  \"/>\n",
       "<polyline clip-path=\"url(#clip522)\" style=\"stroke:#000000; stroke-linecap:butt; stroke-linejoin:round; stroke-width:2; stroke-opacity:0.1; fill:none\" points=\"\n",
       "  2103.04,1486.45 2103.04,47.2441 \n",
       "  \"/>\n",
       "<polyline clip-path=\"url(#clip520)\" style=\"stroke:#000000; stroke-linecap:butt; stroke-linejoin:round; stroke-width:4; stroke-opacity:1; fill:none\" points=\"\n",
       "  169.121,1486.45 2112.76,1486.45 \n",
       "  \"/>\n",
       "<polyline clip-path=\"url(#clip520)\" style=\"stroke:#000000; stroke-linecap:butt; stroke-linejoin:round; stroke-width:4; stroke-opacity:1; fill:none\" points=\"\n",
       "  548.13,1486.45 548.13,1469.18 \n",
       "  \"/>\n",
       "<polyline clip-path=\"url(#clip520)\" style=\"stroke:#000000; stroke-linecap:butt; stroke-linejoin:round; stroke-width:4; stroke-opacity:1; fill:none\" points=\"\n",
       "  936.857,1486.45 936.857,1469.18 \n",
       "  \"/>\n",
       "<polyline clip-path=\"url(#clip520)\" style=\"stroke:#000000; stroke-linecap:butt; stroke-linejoin:round; stroke-width:4; stroke-opacity:1; fill:none\" points=\"\n",
       "  1325.58,1486.45 1325.58,1469.18 \n",
       "  \"/>\n",
       "<polyline clip-path=\"url(#clip520)\" style=\"stroke:#000000; stroke-linecap:butt; stroke-linejoin:round; stroke-width:4; stroke-opacity:1; fill:none\" points=\"\n",
       "  1714.31,1486.45 1714.31,1469.18 \n",
       "  \"/>\n",
       "<polyline clip-path=\"url(#clip520)\" style=\"stroke:#000000; stroke-linecap:butt; stroke-linejoin:round; stroke-width:4; stroke-opacity:1; fill:none\" points=\"\n",
       "  2103.04,1486.45 2103.04,1469.18 \n",
       "  \"/>\n",
       "<path clip-path=\"url(#clip520)\" d=\"M526.903 1543.18 L543.223 1543.18 L543.223 1547.12 L521.278 1547.12 L521.278 1543.18 Q523.94 1540.43 528.524 1535.8 Q533.13 1531.15 534.311 1529.81 Q536.556 1527.28 537.436 1525.55 Q538.338 1523.79 538.338 1522.1 Q538.338 1519.34 536.394 1517.61 Q534.473 1515.87 531.371 1515.87 Q529.172 1515.87 526.718 1516.63 Q524.288 1517.4 521.51 1518.95 L521.51 1514.23 Q524.334 1513.09 526.788 1512.51 Q529.241 1511.93 531.278 1511.93 Q536.649 1511.93 539.843 1514.62 Q543.037 1517.31 543.037 1521.8 Q543.037 1523.93 542.227 1525.85 Q541.44 1527.74 539.334 1530.34 Q538.755 1531.01 535.653 1534.23 Q532.551 1537.42 526.903 1543.18 Z\" fill=\"#000000\" fill-rule=\"evenodd\" fill-opacity=\"1\" /><path clip-path=\"url(#clip520)\" d=\"M563.037 1515.64 Q559.426 1515.64 557.598 1519.2 Q555.792 1522.75 555.792 1529.87 Q555.792 1536.98 557.598 1540.55 Q559.426 1544.09 563.037 1544.09 Q566.672 1544.09 568.477 1540.55 Q570.306 1536.98 570.306 1529.87 Q570.306 1522.75 568.477 1519.2 Q566.672 1515.64 563.037 1515.64 M563.037 1511.93 Q568.848 1511.93 571.903 1516.54 Q574.982 1521.12 574.982 1529.87 Q574.982 1538.6 571.903 1543.21 Q568.848 1547.79 563.037 1547.79 Q557.227 1547.79 554.149 1543.21 Q551.093 1538.6 551.093 1529.87 Q551.093 1521.12 554.149 1516.54 Q557.227 1511.93 563.037 1511.93 Z\" fill=\"#000000\" fill-rule=\"evenodd\" fill-opacity=\"1\" /><path clip-path=\"url(#clip520)\" d=\"M925.028 1516.63 L913.223 1535.08 L925.028 1535.08 L925.028 1516.63 M923.801 1512.56 L929.681 1512.56 L929.681 1535.08 L934.612 1535.08 L934.612 1538.97 L929.681 1538.97 L929.681 1547.12 L925.028 1547.12 L925.028 1538.97 L909.427 1538.97 L909.427 1534.46 L923.801 1512.56 Z\" fill=\"#000000\" fill-rule=\"evenodd\" fill-opacity=\"1\" /><path clip-path=\"url(#clip520)\" d=\"M952.343 1515.64 Q948.732 1515.64 946.903 1519.2 Q945.098 1522.75 945.098 1529.87 Q945.098 1536.98 946.903 1540.55 Q948.732 1544.09 952.343 1544.09 Q955.977 1544.09 957.783 1540.55 Q959.611 1536.98 959.611 1529.87 Q959.611 1522.75 957.783 1519.2 Q955.977 1515.64 952.343 1515.64 M952.343 1511.93 Q958.153 1511.93 961.209 1516.54 Q964.287 1521.12 964.287 1529.87 Q964.287 1538.6 961.209 1543.21 Q958.153 1547.79 952.343 1547.79 Q946.533 1547.79 943.454 1543.21 Q940.399 1538.6 940.399 1529.87 Q940.399 1521.12 943.454 1516.54 Q946.533 1511.93 952.343 1511.93 Z\" fill=\"#000000\" fill-rule=\"evenodd\" fill-opacity=\"1\" /><path clip-path=\"url(#clip520)\" d=\"M1310.99 1527.98 Q1307.84 1527.98 1305.99 1530.13 Q1304.16 1532.28 1304.16 1536.03 Q1304.16 1539.76 1305.99 1541.93 Q1307.84 1544.09 1310.99 1544.09 Q1314.14 1544.09 1315.97 1541.93 Q1317.82 1539.76 1317.82 1536.03 Q1317.82 1532.28 1315.97 1530.13 Q1314.14 1527.98 1310.99 1527.98 M1320.27 1513.32 L1320.27 1517.58 Q1318.51 1516.75 1316.71 1516.31 Q1314.92 1515.87 1313.16 1515.87 Q1308.54 1515.87 1306.08 1519 Q1303.65 1522.12 1303.3 1528.44 Q1304.67 1526.43 1306.73 1525.36 Q1308.79 1524.27 1311.27 1524.27 Q1316.48 1524.27 1319.48 1527.44 Q1322.52 1530.59 1322.52 1536.03 Q1322.52 1541.36 1319.37 1544.57 Q1316.22 1547.79 1310.99 1547.79 Q1304.99 1547.79 1301.82 1543.21 Q1298.65 1538.6 1298.65 1529.87 Q1298.65 1521.68 1302.54 1516.82 Q1306.43 1511.93 1312.98 1511.93 Q1314.74 1511.93 1316.52 1512.28 Q1318.33 1512.63 1320.27 1513.32 Z\" fill=\"#000000\" fill-rule=\"evenodd\" fill-opacity=\"1\" /><path clip-path=\"url(#clip520)\" d=\"M1340.57 1515.64 Q1336.96 1515.64 1335.13 1519.2 Q1333.33 1522.75 1333.33 1529.87 Q1333.33 1536.98 1335.13 1540.55 Q1336.96 1544.09 1340.57 1544.09 Q1344.21 1544.09 1346.01 1540.55 Q1347.84 1536.98 1347.84 1529.87 Q1347.84 1522.75 1346.01 1519.2 Q1344.21 1515.64 1340.57 1515.64 M1340.57 1511.93 Q1346.38 1511.93 1349.44 1516.54 Q1352.52 1521.12 1352.52 1529.87 Q1352.52 1538.6 1349.44 1543.21 Q1346.38 1547.79 1340.57 1547.79 Q1334.76 1547.79 1331.68 1543.21 Q1328.63 1538.6 1328.63 1529.87 Q1328.63 1521.12 1331.68 1516.54 Q1334.76 1511.93 1340.57 1511.93 Z\" fill=\"#000000\" fill-rule=\"evenodd\" fill-opacity=\"1\" /><path clip-path=\"url(#clip520)\" d=\"M1699.18 1530.71 Q1695.85 1530.71 1693.93 1532.49 Q1692.03 1534.27 1692.03 1537.4 Q1692.03 1540.52 1693.93 1542.31 Q1695.85 1544.09 1699.18 1544.09 Q1702.52 1544.09 1704.44 1542.31 Q1706.36 1540.5 1706.36 1537.4 Q1706.36 1534.27 1704.44 1532.49 Q1702.54 1530.71 1699.18 1530.71 M1694.51 1528.72 Q1691.5 1527.98 1689.81 1525.92 Q1688.14 1523.86 1688.14 1520.89 Q1688.14 1516.75 1691.08 1514.34 Q1694.04 1511.93 1699.18 1511.93 Q1704.35 1511.93 1707.29 1514.34 Q1710.23 1516.75 1710.23 1520.89 Q1710.23 1523.86 1708.54 1525.92 Q1706.87 1527.98 1703.88 1528.72 Q1707.26 1529.5 1709.14 1531.8 Q1711.04 1534.09 1711.04 1537.4 Q1711.04 1542.42 1707.96 1545.11 Q1704.9 1547.79 1699.18 1547.79 Q1693.47 1547.79 1690.39 1545.11 Q1687.33 1542.42 1687.33 1537.4 Q1687.33 1534.09 1689.23 1531.8 Q1691.13 1529.5 1694.51 1528.72 M1692.79 1521.33 Q1692.79 1524.02 1694.46 1525.52 Q1696.15 1527.03 1699.18 1527.03 Q1702.19 1527.03 1703.88 1525.52 Q1705.6 1524.02 1705.6 1521.33 Q1705.6 1518.65 1703.88 1517.14 Q1702.19 1515.64 1699.18 1515.64 Q1696.15 1515.64 1694.46 1517.14 Q1692.79 1518.65 1692.79 1521.33 Z\" fill=\"#000000\" fill-rule=\"evenodd\" fill-opacity=\"1\" /><path clip-path=\"url(#clip520)\" d=\"M1729.35 1515.64 Q1725.73 1515.64 1723.91 1519.2 Q1722.1 1522.75 1722.1 1529.87 Q1722.1 1536.98 1723.91 1540.55 Q1725.73 1544.09 1729.35 1544.09 Q1732.98 1544.09 1734.79 1540.55 Q1736.61 1536.98 1736.61 1529.87 Q1736.61 1522.75 1734.79 1519.2 Q1732.98 1515.64 1729.35 1515.64 M1729.35 1511.93 Q1735.16 1511.93 1738.21 1516.54 Q1741.29 1521.12 1741.29 1529.87 Q1741.29 1538.6 1738.21 1543.21 Q1735.16 1547.79 1729.35 1547.79 Q1723.54 1547.79 1720.46 1543.21 Q1717.4 1538.6 1717.4 1529.87 Q1717.4 1521.12 1720.46 1516.54 Q1723.54 1511.93 1729.35 1511.93 Z\" fill=\"#000000\" fill-rule=\"evenodd\" fill-opacity=\"1\" /><path clip-path=\"url(#clip520)\" d=\"M2062.64 1543.18 L2070.28 1543.18 L2070.28 1516.82 L2061.97 1518.49 L2061.97 1514.23 L2070.24 1512.56 L2074.91 1512.56 L2074.91 1543.18 L2082.55 1543.18 L2082.55 1547.12 L2062.64 1547.12 L2062.64 1543.18 Z\" fill=\"#000000\" fill-rule=\"evenodd\" fill-opacity=\"1\" /><path clip-path=\"url(#clip520)\" d=\"M2102 1515.64 Q2098.38 1515.64 2096.56 1519.2 Q2094.75 1522.75 2094.75 1529.87 Q2094.75 1536.98 2096.56 1540.55 Q2098.38 1544.09 2102 1544.09 Q2105.63 1544.09 2107.44 1540.55 Q2109.26 1536.98 2109.26 1529.87 Q2109.26 1522.75 2107.44 1519.2 Q2105.63 1515.64 2102 1515.64 M2102 1511.93 Q2107.81 1511.93 2110.86 1516.54 Q2113.94 1521.12 2113.94 1529.87 Q2113.94 1538.6 2110.86 1543.21 Q2107.81 1547.79 2102 1547.79 Q2096.19 1547.79 2093.11 1543.21 Q2090.05 1538.6 2090.05 1529.87 Q2090.05 1521.12 2093.11 1516.54 Q2096.19 1511.93 2102 1511.93 Z\" fill=\"#000000\" fill-rule=\"evenodd\" fill-opacity=\"1\" /><path clip-path=\"url(#clip520)\" d=\"M2132.16 1515.64 Q2128.55 1515.64 2126.72 1519.2 Q2124.91 1522.75 2124.91 1529.87 Q2124.91 1536.98 2126.72 1540.55 Q2128.55 1544.09 2132.16 1544.09 Q2135.79 1544.09 2137.6 1540.55 Q2139.43 1536.98 2139.43 1529.87 Q2139.43 1522.75 2137.6 1519.2 Q2135.79 1515.64 2132.16 1515.64 M2132.16 1511.93 Q2137.97 1511.93 2141.02 1516.54 Q2144.1 1521.12 2144.1 1529.87 Q2144.1 1538.6 2141.02 1543.21 Q2137.97 1547.79 2132.16 1547.79 Q2126.35 1547.79 2123.27 1543.21 Q2120.21 1538.6 2120.21 1529.87 Q2120.21 1521.12 2123.27 1516.54 Q2126.35 1511.93 2132.16 1511.93 Z\" fill=\"#000000\" fill-rule=\"evenodd\" fill-opacity=\"1\" /><polyline clip-path=\"url(#clip522)\" style=\"stroke:#000000; stroke-linecap:butt; stroke-linejoin:round; stroke-width:2; stroke-opacity:0.1; fill:none\" points=\"\n",
       "  169.121,1205.8 2112.76,1205.8 \n",
       "  \"/>\n",
       "<polyline clip-path=\"url(#clip522)\" style=\"stroke:#000000; stroke-linecap:butt; stroke-linejoin:round; stroke-width:2; stroke-opacity:0.1; fill:none\" points=\"\n",
       "  169.121,917.962 2112.76,917.962 \n",
       "  \"/>\n",
       "<polyline clip-path=\"url(#clip522)\" style=\"stroke:#000000; stroke-linecap:butt; stroke-linejoin:round; stroke-width:2; stroke-opacity:0.1; fill:none\" points=\"\n",
       "  169.121,630.122 2112.76,630.122 \n",
       "  \"/>\n",
       "<polyline clip-path=\"url(#clip522)\" style=\"stroke:#000000; stroke-linecap:butt; stroke-linejoin:round; stroke-width:2; stroke-opacity:0.1; fill:none\" points=\"\n",
       "  169.121,342.281 2112.76,342.281 \n",
       "  \"/>\n",
       "<polyline clip-path=\"url(#clip522)\" style=\"stroke:#000000; stroke-linecap:butt; stroke-linejoin:round; stroke-width:2; stroke-opacity:0.1; fill:none\" points=\"\n",
       "  169.121,54.4401 2112.76,54.4401 \n",
       "  \"/>\n",
       "<polyline clip-path=\"url(#clip520)\" style=\"stroke:#000000; stroke-linecap:butt; stroke-linejoin:round; stroke-width:4; stroke-opacity:1; fill:none\" points=\"\n",
       "  169.121,1486.45 169.121,47.2441 \n",
       "  \"/>\n",
       "<polyline clip-path=\"url(#clip520)\" style=\"stroke:#000000; stroke-linecap:butt; stroke-linejoin:round; stroke-width:4; stroke-opacity:1; fill:none\" points=\"\n",
       "  169.121,1205.8 192.445,1205.8 \n",
       "  \"/>\n",
       "<polyline clip-path=\"url(#clip520)\" style=\"stroke:#000000; stroke-linecap:butt; stroke-linejoin:round; stroke-width:4; stroke-opacity:1; fill:none\" points=\"\n",
       "  169.121,917.962 192.445,917.962 \n",
       "  \"/>\n",
       "<polyline clip-path=\"url(#clip520)\" style=\"stroke:#000000; stroke-linecap:butt; stroke-linejoin:round; stroke-width:4; stroke-opacity:1; fill:none\" points=\"\n",
       "  169.121,630.122 192.445,630.122 \n",
       "  \"/>\n",
       "<polyline clip-path=\"url(#clip520)\" style=\"stroke:#000000; stroke-linecap:butt; stroke-linejoin:round; stroke-width:4; stroke-opacity:1; fill:none\" points=\"\n",
       "  169.121,342.281 192.445,342.281 \n",
       "  \"/>\n",
       "<polyline clip-path=\"url(#clip520)\" style=\"stroke:#000000; stroke-linecap:butt; stroke-linejoin:round; stroke-width:4; stroke-opacity:1; fill:none\" points=\"\n",
       "  169.121,54.4401 192.445,54.4401 \n",
       "  \"/>\n",
       "<path clip-path=\"url(#clip520)\" d=\"M85.0429 1219.15 L101.362 1219.15 L101.362 1223.08 L79.4179 1223.08 L79.4179 1219.15 Q82.0799 1216.39 86.6632 1211.76 Q91.2697 1207.11 92.4502 1205.77 Q94.6956 1203.25 95.5752 1201.51 Q96.478 1199.75 96.478 1198.06 Q96.478 1195.31 94.5336 1193.57 Q92.6123 1191.83 89.5104 1191.83 Q87.3114 1191.83 84.8577 1192.6 Q82.4271 1193.36 79.6494 1194.91 L79.6494 1190.19 Q82.4734 1189.06 84.9271 1188.48 Q87.3808 1187.9 89.4178 1187.9 Q94.7882 1187.9 97.9826 1190.58 Q101.177 1193.27 101.177 1197.76 Q101.177 1199.89 100.367 1201.81 Q99.5798 1203.71 97.4734 1206.3 Q96.8947 1206.97 93.7928 1210.19 Q90.691 1213.38 85.0429 1219.15 Z\" fill=\"#000000\" fill-rule=\"evenodd\" fill-opacity=\"1\" /><path clip-path=\"url(#clip520)\" d=\"M121.177 1191.6 Q117.566 1191.6 115.737 1195.17 Q113.932 1198.71 113.932 1205.84 Q113.932 1212.94 115.737 1216.51 Q117.566 1220.05 121.177 1220.05 Q124.811 1220.05 126.617 1216.51 Q128.445 1212.94 128.445 1205.84 Q128.445 1198.71 126.617 1195.17 Q124.811 1191.6 121.177 1191.6 M121.177 1187.9 Q126.987 1187.9 130.043 1192.5 Q133.121 1197.09 133.121 1205.84 Q133.121 1214.56 130.043 1219.17 Q126.987 1223.75 121.177 1223.75 Q115.367 1223.75 112.288 1219.17 Q109.233 1214.56 109.233 1205.84 Q109.233 1197.09 112.288 1192.5 Q115.367 1187.9 121.177 1187.9 Z\" fill=\"#000000\" fill-rule=\"evenodd\" fill-opacity=\"1\" /><path clip-path=\"url(#clip520)\" d=\"M93.8623 904.756 L82.0568 923.205 L93.8623 923.205 L93.8623 904.756 M92.6354 900.682 L98.515 900.682 L98.515 923.205 L103.446 923.205 L103.446 927.094 L98.515 927.094 L98.515 935.242 L93.8623 935.242 L93.8623 927.094 L78.2605 927.094 L78.2605 922.58 L92.6354 900.682 Z\" fill=\"#000000\" fill-rule=\"evenodd\" fill-opacity=\"1\" /><path clip-path=\"url(#clip520)\" d=\"M121.177 903.761 Q117.566 903.761 115.737 907.326 Q113.932 910.868 113.932 917.997 Q113.932 925.104 115.737 928.668 Q117.566 932.21 121.177 932.21 Q124.811 932.21 126.617 928.668 Q128.445 925.104 128.445 917.997 Q128.445 910.868 126.617 907.326 Q124.811 903.761 121.177 903.761 M121.177 900.057 Q126.987 900.057 130.043 904.664 Q133.121 909.247 133.121 917.997 Q133.121 926.724 130.043 931.33 Q126.987 935.914 121.177 935.914 Q115.367 935.914 112.288 931.33 Q109.233 926.724 109.233 917.997 Q109.233 909.247 112.288 904.664 Q115.367 900.057 121.177 900.057 Z\" fill=\"#000000\" fill-rule=\"evenodd\" fill-opacity=\"1\" /><path clip-path=\"url(#clip520)\" d=\"M91.5938 628.258 Q88.4456 628.258 86.5938 630.411 Q84.7651 632.564 84.7651 636.314 Q84.7651 640.041 86.5938 642.216 Q88.4456 644.369 91.5938 644.369 Q94.7419 644.369 96.5706 642.216 Q98.4224 640.041 98.4224 636.314 Q98.4224 632.564 96.5706 630.411 Q94.7419 628.258 91.5938 628.258 M100.876 613.606 L100.876 617.865 Q99.1169 617.031 97.3113 616.592 Q95.5289 616.152 93.7697 616.152 Q89.1401 616.152 86.6864 619.277 Q84.2558 622.402 83.9086 628.721 Q85.2743 626.707 87.3345 625.642 Q89.3947 624.555 91.8715 624.555 Q97.0798 624.555 100.089 627.726 Q103.121 630.874 103.121 636.314 Q103.121 641.638 99.9733 644.855 Q96.8252 648.073 91.5938 648.073 Q85.5984 648.073 82.4271 643.49 Q79.2559 638.883 79.2559 630.156 Q79.2559 621.962 83.1447 617.101 Q87.0336 612.217 93.5845 612.217 Q95.3437 612.217 97.1261 612.564 Q98.9317 612.911 100.876 613.606 Z\" fill=\"#000000\" fill-rule=\"evenodd\" fill-opacity=\"1\" /><path clip-path=\"url(#clip520)\" d=\"M121.177 615.92 Q117.566 615.92 115.737 619.485 Q113.932 623.027 113.932 630.156 Q113.932 637.263 115.737 640.828 Q117.566 644.369 121.177 644.369 Q124.811 644.369 126.617 640.828 Q128.445 637.263 128.445 630.156 Q128.445 623.027 126.617 619.485 Q124.811 615.92 121.177 615.92 M121.177 612.217 Q126.987 612.217 130.043 616.823 Q133.121 621.406 133.121 630.156 Q133.121 638.883 130.043 643.49 Q126.987 648.073 121.177 648.073 Q115.367 648.073 112.288 643.49 Q109.233 638.883 109.233 630.156 Q109.233 621.406 112.288 616.823 Q115.367 612.217 121.177 612.217 Z\" fill=\"#000000\" fill-rule=\"evenodd\" fill-opacity=\"1\" /><path clip-path=\"url(#clip520)\" d=\"M91.0151 343.149 Q87.6817 343.149 85.7605 344.931 Q83.8623 346.714 83.8623 349.839 Q83.8623 352.964 85.7605 354.746 Q87.6817 356.528 91.0151 356.528 Q94.3484 356.528 96.2697 354.746 Q98.1909 352.941 98.1909 349.839 Q98.1909 346.714 96.2697 344.931 Q94.3715 343.149 91.0151 343.149 M86.3392 341.158 Q83.3299 340.417 81.6401 338.357 Q79.9735 336.297 79.9735 333.334 Q79.9735 329.191 82.9133 326.783 Q85.8762 324.376 91.0151 324.376 Q96.1771 324.376 99.1169 326.783 Q102.057 329.191 102.057 333.334 Q102.057 336.297 100.367 338.357 Q98.7002 340.417 95.7141 341.158 Q99.0937 341.945 100.969 344.237 Q102.867 346.529 102.867 349.839 Q102.867 354.862 99.7882 357.547 Q96.7326 360.232 91.0151 360.232 Q85.2975 360.232 82.2188 357.547 Q79.1633 354.862 79.1633 349.839 Q79.1633 346.529 81.0614 344.237 Q82.9595 341.945 86.3392 341.158 M84.6262 333.774 Q84.6262 336.459 86.2929 337.964 Q87.9827 339.468 91.0151 339.468 Q94.0243 339.468 95.7141 337.964 Q97.4271 336.459 97.4271 333.774 Q97.4271 331.089 95.7141 329.584 Q94.0243 328.08 91.0151 328.08 Q87.9827 328.08 86.2929 329.584 Q84.6262 331.089 84.6262 333.774 Z\" fill=\"#000000\" fill-rule=\"evenodd\" fill-opacity=\"1\" /><path clip-path=\"url(#clip520)\" d=\"M121.177 328.08 Q117.566 328.08 115.737 331.644 Q113.932 335.186 113.932 342.316 Q113.932 349.422 115.737 352.987 Q117.566 356.528 121.177 356.528 Q124.811 356.528 126.617 352.987 Q128.445 349.422 128.445 342.316 Q128.445 335.186 126.617 331.644 Q124.811 328.08 121.177 328.08 M121.177 324.376 Q126.987 324.376 130.043 328.982 Q133.121 333.566 133.121 342.316 Q133.121 351.042 130.043 355.649 Q126.987 360.232 121.177 360.232 Q115.367 360.232 112.288 355.649 Q109.233 351.042 109.233 342.316 Q109.233 333.566 112.288 328.982 Q115.367 324.376 121.177 324.376 Z\" fill=\"#000000\" fill-rule=\"evenodd\" fill-opacity=\"1\" /><path clip-path=\"url(#clip520)\" d=\"M51.6634 67.7849 L59.3023 67.7849 L59.3023 41.4193 L50.9921 43.086 L50.9921 38.8268 L59.256 37.1601 L63.9319 37.1601 L63.9319 67.7849 L71.5707 67.7849 L71.5707 71.7201 L51.6634 71.7201 L51.6634 67.7849 Z\" fill=\"#000000\" fill-rule=\"evenodd\" fill-opacity=\"1\" /><path clip-path=\"url(#clip520)\" d=\"M91.0151 40.2388 Q87.404 40.2388 85.5753 43.8036 Q83.7697 47.3452 83.7697 54.4748 Q83.7697 61.5813 85.5753 65.1461 Q87.404 68.6877 91.0151 68.6877 Q94.6493 68.6877 96.4548 65.1461 Q98.2835 61.5813 98.2835 54.4748 Q98.2835 47.3452 96.4548 43.8036 Q94.6493 40.2388 91.0151 40.2388 M91.0151 36.5351 Q96.8252 36.5351 99.8808 41.1416 Q102.959 45.7249 102.959 54.4748 Q102.959 63.2016 99.8808 67.8081 Q96.8252 72.3914 91.0151 72.3914 Q85.2049 72.3914 82.1262 67.8081 Q79.0707 63.2016 79.0707 54.4748 Q79.0707 45.7249 82.1262 41.1416 Q85.2049 36.5351 91.0151 36.5351 Z\" fill=\"#000000\" fill-rule=\"evenodd\" fill-opacity=\"1\" /><path clip-path=\"url(#clip520)\" d=\"M121.177 40.2388 Q117.566 40.2388 115.737 43.8036 Q113.932 47.3452 113.932 54.4748 Q113.932 61.5813 115.737 65.1461 Q117.566 68.6877 121.177 68.6877 Q124.811 68.6877 126.617 65.1461 Q128.445 61.5813 128.445 54.4748 Q128.445 47.3452 126.617 43.8036 Q124.811 40.2388 121.177 40.2388 M121.177 36.5351 Q126.987 36.5351 130.043 41.1416 Q133.121 45.7249 133.121 54.4748 Q133.121 63.2016 130.043 67.8081 Q126.987 72.3914 121.177 72.3914 Q115.367 72.3914 112.288 67.8081 Q109.233 63.2016 109.233 54.4748 Q109.233 45.7249 112.288 41.1416 Q115.367 36.5351 121.177 36.5351 Z\" fill=\"#000000\" fill-rule=\"evenodd\" fill-opacity=\"1\" /><g clip-path=\"url(#clip522)\">\n",
       "<image width=\"1944\" height=\"1439\" xlink:href=\"data:image/png;base64,\n",
       "iVBORw0KGgoAAAANSUhEUgAAB5gAAAWfCAYAAAB+xCq9AAAgAElEQVR4nOzbW67cRrYE0Eg+yvOf\n",
       "rnWq8n6o7083WththCHKWmsAgU0yM0kgqlZy7fA/Wz97gB969nTPVbxvj34Ejx6u7KnX+tS5fjdP\n",
       "ff215yrm7e5s+7HPAAAAAACA/+b42QMAAAAAAAAA8GtQMAMAAAAAAAAwomAGAAAAAAAAYETBDAAA\n",
       "AAAAAMCIghkAAAAAAACAEQUzAAAAAAAAACMKZgAAAAAAAABGFMwAAAAAAAAAjCiYAQAAAAAAABhR\n",
       "MAMAAAAAAAAwomAGAAAAAAAAYETBDAAAAAAAAMCIghkAAAAAAACAEQUzAAAAAAAAACPXzx7gR9Yv\n",
       "kPhbWE+9b0+dKzHbX7MePNuT7xt/1S4m9bIerbwN1qNvW3N9AAAAAAD8c/gHMwAAAAAAAAAjCmYA\n",
       "AAAAAAAARhTMAAAAAAAAAIwomAEAAAAAAAAYUTADAAAAAAAAMKJgBgAAAAAAAGBEwQwAAAAAAADA\n",
       "iIIZAAAAAAAAgBEFMwAAAAAAAAAjCmYAAAAAAAAARhTMAAAAAAAAAIwomAEAAAAAAAAYUTADAAAA\n",
       "AAAAMHK1A9eD0x5tPflanzpbe65m3pN3Qvm+Wbt/wVPnerr92Ly1m7N1r3NX88rPYD14tmJcf8f3\n",
       "hmvvKgAAAADgn88/mAEAAAAAAAAYUTADAAAAAAAAMKJgBgAAAAAAAGBEwQwAAAAAAADAiIIZAAAA\n",
       "AAAAgBEFMwAAAAAAAAAjCmYAAAAAAAAARhTMAAAAAAAAAIwomAEAAAAAAAAYUTADAAAAAAAAMKJg\n",
       "BgAAAAAAAGBEwQwAAAAAAADAiIIZAAAAAAAAgBEFMwAAAAAAAAAjVz9y9SNrirPVL/M3uW/FrFW/\n",
       "Z8318eDZyvet/xyaHjpbfX082N4/e4If6M22V/M6P8WsZBWfwS7P9mjNbVrfB813aVP3Op98egAA\n",
       "AADA78w/mAEAAAAAAAAYUTADAAAAAAAAMKJgBgAAAAAAAGBEwQwAAAAAAADAiIIZAAAAAAAAgBEF\n",
       "MwAAAAAAAAAjCmYAAAAAAAAARhTMAAAAAAAAAIwomAEAAAAAAAAYUTADAAAAAAAAMKJgBgAAAAAA\n",
       "AGBEwQwAAAAAAADAiIIZAAAAAAAAgJFr/ewJfqg8XTWufeeaed3Z1lNnW57BX02rWr3fqfTPowff\n",
       "t9/F2j97gv9q51PLWrt5nd21tlfzOmtR/9ILbD7PuvbxUX0Oz1275QsFAAAAAEr8gxkAAAAAAACA\n",
       "EQUzAAAAAAAAACMKZgAAAAAAAABGFMwAAAAAAAAAjCiYAQAAAAAAABhRMAMAAAAAAAAwomAGAAAA\n",
       "AAAAYETBDAAAAAAAAMCIghkAAAAAAACAEQUzAAAAAAAAACMKZgAAAAAAAABGFMwAAAAAAAAAjCiY\n",
       "AQAAAAAAABi5fvYAP7SeHNgerpe3HjxbVvM3Dd3rrN636nW2n2n7dyXFtbsevHarnjpXkuyfPcAP\n",
       "lGfbxb2wPrWonV5Wkqzibdvtpbt7w9VHKz+HqupD7UW1NZ/pgy8TAAAAAH45/sEMAAAAAAAAwIiC\n",
       "GQAAAAAAAIARBTMAAAAAAAAAIwpmAAAAAAAAAEYUzAAAAAAAAACMKJgBAAAAAAAAGFEwAwAAAAAA\n",
       "ADCiYAYAAAAAAABgRMEMAAAAAAAAwIiCGQAAAAAAAIARBTMAAAAAAAAAIwpmAAAAAAAAAEYUzAAA\n",
       "AAAAAACMKJgBAAAAAAAAGLmSVY5s5v0+s61m3mr/bqA326r+pqG8Por3rXudyVrNay3P9tus3ab2\n",
       "2fZcO7ua1vUpZhWf6e6uj108P1Z9tuIz2O310TyPmmutrPlI68+geYZ3Z2tfKQAAAAD8SvyDGQAA\n",
       "AAAAAIARBTMAAAAAAAAAIwpmAAAAAAAAAEYUzAAAAAAAAACMKJgBAAAAAAAAGFEwAwAAAAAAADCi\n",
       "YAYAAAAAAABgRMEMAAAAAAAAwIiCGQAAAAAAAIARBTMAAAAAAAAAIwpmAAAAAAAAAEYUzAAAAAAA\n",
       "AACMKJgBAAAAAAAAGLnqiaueWNQbbrUvdDW7/u7vBqrXWrzOVf99RHG26vMsX2t9tuK+Ks/26D3/\n",
       "m9jZ1bSmnc8js5J3MSvJbp7hvagk1Ue6V3d9rN1cH08+P5r37cELBAAAAACo8Q9mAAAAAAAAAEYU\n",
       "zAAAAAAAAACMKJgBAAAAAAAAGFEwAwAAAAAAADCiYAYAAAAAAABgRMEMAAAAAAAAwIiCGQAAAAAA\n",
       "AIARBTMAAAAAAAAAIwpmAAAAAAAAAEYUzAAAAAAAAACMKJgBAAAAAAAAGFEwAwAAAAAAADCiYAYA\n",
       "AAAAAABgRMEMAAAAAAAAwMjVj1wPzUpWM2+1u/nebNXrTJJ19qKKv2lY9Wfw3NlWis+gPtuT79sz\n",
       "z6O1ynu0aO/dTiwmfWpZ7bxuVnd9fPKuZdWXR/O1XB5uP3m24r4qP4ReVtI8PtL/pmyebQAAAADw\n",
       "a/EPZgAAAAAAAABGFMwAAAAAAAAAjCiYAQAAAAAAABhRMAMAAAAAAAAwomAGAAAAAAAAYETBDAAA\n",
       "AAAAAMCIghkAAAAAAACAEQUzAAAAAAAAACMKZgAAAAAAAABGFMwAAAAAAAAAjCiYAQAAAAAAABhR\n",
       "MAMAAAAAAAAwomAGAAAAAAAAYORK1s+e4QfaszXzurOtZte/zl5WurOtVcxK+TqL9615nUn3Wo/2\n",
       "bM37Vv7NS3df9fZ8/9TtJe61a1n/Suwl7U8tK0k+613L2ruX9SmvkKOY130CaS6P+tpdu7h2y+du\n",
       "irN1tedq7oWn3jMAAAAA+PX4BzMAAAAAAAAAIwpmAAAAAAAAAEYUzAAAAAAAAACMKJgBAAAAAAAA\n",
       "GFEwAwAAAAAAADCiYAYAAAAAAABgRMEMAAAAAAAAwIiCGQAAAAAAAIARBTMAAAAAAAAAIwpmAAAA\n",
       "AAAAAEYUzAAAAAAAAACMKJgBAAAAAAAAGFEwAwAAAAAAADByZbUje4GrPdxqzlbu5lcvrz3bWucz\n",
       "s9LLSpLjodeZlGer37fm2u3OtqqzNc+j+sFbtMtpvbydTy0rSVbetaydr1pW+wz/PHi9VZ/ofu7a\n",
       "be+r5hrp7qv2d1vxvnUfQbrXWh8OAAAAAP5W/sEMAAAAAAAAwIiCGQAAAAAAAIARBTMAAAAAAAAA\n",
       "IwpmAAAAAAAAAEYUzAAAAAAAAACMKJgBAAAAAAAAGFEwAwAAAAAAADCiYAYAAAAAAABgRMEMAAAA\n",
       "AAAAwIiCGQAAAAAAAIARBTMAAAAAAAAAIwpmAAAAAAAAAEYUzAAAAAAAAACMKJgBAAAAAAAAGLmS\n",
       "VY5s5rVnK/bpq9vNr5y9rNXLauc1r/MoX+exrkdmJd1nUL9v6V3rKu+ro7mvHn22PdfOp5e13rWs\n",
       "JPnsXt6n+nutr2JW186u5q1qXm+tfVd8prt73/Yq5lVHa59t3fv2VO4aAAAAAL8a/2AGAAAAAAAA\n",
       "YETBDAAAAAAAAMCIghkAAAAAAACAEQUzAAAAAAAAACMKZgAAAAAAAABGFMwAAAAAAAAAjCiYAQAA\n",
       "AAAAABhRMAMAAAAAAAAwomAGAAAAAAAAYETBDAAAAAAAAMCIghkAAAAAAACAEQUzAAAAAAAAACMK\n",
       "ZgAAAAAAAABGrnbgyiqGdfvvVezTm1lJsorX2sxKkpWzlnWs3pJrZrXz2rOdD57teOj6SJ6756vn\n",
       "ZN2upn2KeTvvWlaSfPJVy3o3z91dXh+fblxXb318yhe6d3EvrO6+yu5da/Nsa+/R/EZnJQAAAAD8\n",
       "SvyDGQAAAAAAAIARBTMAAAAAAAAAIwpmAAAAAAAAAEYUzAAAAAAAAACMKJgBAAAAAAAAGFEwAwAA\n",
       "AAAAADCiYAYAAAAAAABgRMEMAAAAAAAAwIiCGQAAAAAAAIARBTMAAAAAAAAAIwpmAAAAAAAAAEYU\n",
       "zAAAAAAAAACMKJgBAAAAAAAAGFEwAwAAAAAAADByJasc2cwrz7aafXq3m185H5mVJMe6Hpl1FrOS\n",
       "5Fh3LessZiXt+1aeLcX10V67xbyjuOfXg3/bs7PLeZ9a1ifvWlaSvNe3WtbaxfVRfVel+7r6PHd9\n",
       "7N2dba3ebCmuj+96eXsV79tuf1MWZ3vwaA8fDgAAAAD+w3NbDgAAAAAAAAAeRcEMAAAAAAAAwIiC\n",
       "GQAAAAAAAIARBTMAAAAAAAAAIwpmAAAAAAAAAEYUzAAAAAAAAACMKJgBAAAAAAAAGFEwAwAAAAAA\n",
       "ADCiYAYAAAAAAABgRMEMAAAAAAAAwIiCGQAAAAAAAIARBTMAAAAAAAAAIwpmAAAAAAAAAEauZHUT\n",
       "Vy9vlfvvVbzWtcqzFfOOddWyvuedtayzONtx3LWsJDnXq5eV9my9vPpsxbwzvbWWJEcxr5m1dvnc\n",
       "Ldprd/PyqWW9865lJeVnWjwn2+/lneIzffD62KuXlSS7uD727s6W5jdIcbbmd1aS7Gped+0+mbsG\n",
       "AAAAwN/NP5gBAAAAAAAAGFEwAwAAAAAAADCiYAYAAAAAAABgRMEMAAAAAAAAwIiCGQAAAAAAAIAR\n",
       "BTMAAAAAAAAAIwpmAAAAAAAAAEYUzAAAAAAAAACMKJgBAAAAAAAAGFEwAwAAAAAAADCiYAYAAAAA\n",
       "AABgRMEMAAAAAAAAwIiCGQAAAAAAAICRqx+5ilHFrCRrnY/Maue1ZzvW/cisc71qWUlyppd3lWe7\n",
       "UrxvxetMkqt4jJy7eySd6e2Fo/h7nLWf+9uenV3N++RTy3rnXctKknfz3G2uj1rS3xC4nrs+9upl\n",
       "Jcln99bbWt21m119qLWkXV+9z7zOvu6+AgAAAIC/23NbDgAAAAAAAAAeRcEMAAAAAAAAwIiCGQAA\n",
       "AAAAAIARBTMAAAAAAAAAIwpmAAAAAAAAAEYUzAAAAAAAAACMKJgBAAAAAAAAGFEwAwAAAAAAADCi\n",
       "YAYAAAAAAABgRMEMAAAAAAAAwIiCGQAAAAAAAIARBTMAAAAAAAAAIwpmAAAAAAAAAEYUzAAAAAAA\n",
       "AACMXCurGriKnXUz67vmbGctK0mOdT0yq513rruXlV5Wklzr1ctKLytJ7vxRy7p2+b4Vn8O1u/vq\n",
       "LO7To3p+dM/d7G5c0zufYta7lpUkX8X1sdZz10dzeezVe55J8ik+07266+NYX7WsXf5m2Lt5rcVv\n",
       "rfL6ePLZVt2m9et89HAAAAAA/AP4BzMAAAAAAAAAIwpmAAAAAAAAAEYUzAAAAAAAAACMKJgBAAAA\n",
       "AAAAGFEwAwAAAAAAADCiYAYAAAAAAABgRMEMAAAAAAAAwIiCGQAAAAAAAIARBTMAAAAAAAAAIwpm\n",
       "AAAAAAAAAEYUzAAAAAAAAACMKJgBAAAAAAAAGFEwAwAAAAAAADByJasc2czr9t9r9fKOYlaSrJy1\n",
       "rGNdtawkOdf9yKxrvWpZSXLnj1rWlfJsuzfbnd4zSJJ799bbtXv7IEnO5r4qnm3NrLa9u3mffGpZ\n",
       "7+LzTJJvD10f7eWx03uoe71rWUnyyVcva/Wyku679LO7922t3trdKc62u4t3FTfDrp+75cMSAAAA\n",
       "AH4h/sEMAAAAAAAAwIiCGQAAAAAAAIARBTMAAAAAAAAAIwpmAAAAAAAAAEYUzAAAAAAAAACMKJgB\n",
       "AAAAAAAAGFEwAwAAAAAAADCiYAYAAAAAAABgRMEMAAAAAAAAwIiCGQAAAAAAAIARBTMAAAAAAAAA\n",
       "IwpmAAAAAAAAAEYUzAAAAAAAAACMKJgBAAAAAAAAGLmyyh1zMW+VZ1s5e1mrl5Ukx7pqWWcxq513\n",
       "rlct68oftazveb3ZXrs7272Ls+WuZSXJvXt74Sru0SQ5i2fImVXLWsWs73k9O7uYlnyKz/Rrf2pZ\n",
       "SXLs4vuqlpTyE0j26iV+8q5lJcl7fdWyPsWsdt5Rnm1X127zW6v73bbT3fNdT971Pd231ZOvFAAA\n",
       "AID/hX8wAwAAAAAAADCiYAYAAAAAAABgRMEMAAAAAAAAwIiCGQAAAAAAAIARBTMAAAAAAAAAIwpm\n",
       "AAAAAAAAAEYUzAAAAAAAAACMKJgBAAAAAAAAGFEwAwAAAAAAADCiYAYAAAAAAABgRMEMAAAAAAAA\n",
       "wIiCGQAAAAAAAIARBTMAAAAAAAAAI1eyqoGrmLfK/fdavbxjnbWsdt6x7lpWkpzFvCuvR2Ylyb17\n",
       "ec2sJHml9wxeu7s+7uK+utPdV9fqnUdHM6uW1LfLeZ/dSzzL76uj+b5q37iinU8t672+allJ8s63\n",
       "XtbqZSXJUcxb5W+G5vdMdvNE6u7RFM/d7PJs1dPyybMBAAAAwH96cs8BAAAAAAAAwIMomAEAAAAA\n",
       "AAAYUTADAAAAAAAAMKJgBgAAAAAAAGBEwQwAAAAAAADAiIIZAAAAAAAAgBEFMwAAAAAAAAAjCmYA\n",
       "AAAAAAAARhTMAAAAAAAAAIwomAEAAAAAAAAYUTADAAAAAAAAMKJgBgAAAAAAAGBEwQwAAAAAAADA\n",
       "yLWyypG9znqtbv99rLOWtXLVspLkWL28szzbmVcx665l3cWs73m963yVZ3vtXt4fxX2QJHdxnzaz\n",
       "kuRavfPtLGYd7WO3aJfzPruX+PWpRSVJzt17EM1HWrxlSZJ3ejfuK+9aVpK817da1tf6s5aVJO/i\n",
       "e7n5/ZEkn+b3TPHc3e1vyuIe7e7SsvZo7YMcAAAAAP6NfzADAAAAAAAAMKJgBgAAAAAAAGBEwQwA\n",
       "AAAAAADAiIIZAAAAAAAAgBEFMwAAAAAAAAAjCmYAAAAAAAAARhTMAAAAAAAAAIwomAEAAAAAAAAY\n",
       "UTADAAAAAAAAMKJgBgAAAAAAAGBEwQwAAAAAAADAiIIZAAAAAAAAgBEFMwAAAAAAAAAjCmYAAAAA\n",
       "AAAARq5kVQPX6nXWq9x/N/OOddayvuddxay7lpUkZ3p5V169rN3LSpJ7967ztXvPM0n+KK63V3nt\n",
       "vop7/j6659FVPELO1Zut/cue4mjZu5eVJO/dG+5c3eGOT/FJfHpR5UeQ9+4N915ftawk+Sq+E5rv\n",
       "qqT8Xk733G1+zzw1K0l28Ru1+3bpztbf9U39OwcAAADAr88/mAEAAAAAAAAYUTADAAAAAAAAMKJg\n",
       "BgAAAAAAAGBEwQwAAAAAAADAiIIZAAAAAAAAgBEFMwAAAAAAAAAjCmYAAAAAAAAARhTMAAAAAAAA\n",
       "AIwomAEAAAAAAAAYUTADAAAAAAAAMKJgBgAAAAAAAGBEwQwAAAAAAADAiIIZAAAAAAAAgJEra1UD\n",
       "V4p5q9t/r3XWso5iVpIcuWpZZzGrnXftu5Z17+51NvPu8vq4i3vhdXT31evo7flmVpJcxbireNva\n",
       "v+xpHuN797KS5F3M+9rd9dF9Dr20z6f7EL6KZ9vXftWykuTOt1rWt9Wd7Su999XX6r6vmt8zq/mt\n",
       "Vd6jzW/K3fw+rWvPVj7IAQAAAODf+AczAAAAAAAAACMKZgAAAAAAAABGFMwAAAAAAAAAjCiYAQAA\n",
       "AAAAABhRMAMAAAAAAAAwomAGAAAAAAAAYETBDAAAAAAAAMCIghkAAAAAAACAEQUzAAAAAAAAACMK\n",
       "ZgAAAAAAAABGFMwAAAAAAAAAjCiYAQAAAAAAABhRMAMAAAAAAAAwcq12x7x6eauYlSRH8VpXzlpW\n",
       "kpyrl3fmqmUlyZW7mNWbrZmVJHfxmTazkuRV3AuvY9WykuSPYt6rfBzdxbyzeNuaWW27nPcpBn77\n",
       "9LKSZKX3IJr37b27G+Gr+H752t1z98/VfL/0spLkXL1rPYpZ3/N6z/Td/DYqf7ftXTwsV/ngbc5W\n",
       "P3mfO9tzJwMAAADgf+EfzAAAAAAAAACMKJgBAAAAAAAAGFEwAwAAAAAAADCiYAYAAAAAAABgRMEM\n",
       "AAAAAAAAwIiCGQAAAAAAAIARBTMAAAAAAAAAIwpmAAAAAAAAAEYUzAAAAAAAAACMKJgBAAAAAAAA\n",
       "GFEwAwAAAAAAADCiYAYAAAAAAABgRMEMAAAAAAAAwIiCGQAAAAAAAICRK1nVwFXMW+X+e62zlnUU\n",
       "s5LkyPXIrCQ5dy/vKmbdxawkuVdvvTWzkuQ+enmvo7vnX8VLfXW3Ve7ipV7F6zy7j6B6iu9iVpK8\n",
       "i4HlpZtVzNvFp/DZ3fPja/cewrfd3aT3vmtZ1+plJcmZXt65uu+rr/Sew2q+r8prN9XZygdI+fu5\n",
       "6skvBQAAAAD+EfyDGQAAAAAAAIARBTMAAAAAAAAAIwpmAAAAAAAAAEYUzAAAAAAAAACMKJgBAAAA\n",
       "AAAAGFEwAwAAAAAAADCiYAYAAAAAAABgRMEMAAAAAAAAwIiCGQAAAAAAAIARBTMAAAAAAAAAIwpm\n",
       "AAAAAAAAAEYUzAAAAAAAAACMKJgBAAAAAAAAGLmSVY7sddbH6vbfq5h35Kxlfc+7allnMauddxXv\n",
       "21X+fcRdXB/30d1Xr+Kl3uWflTRna2a18661a1ln+dhdxbzdu8wkybuYdzQvNN2336d4ne/y+fFt\n",
       "9zbCn7v77rt38f2y71pWkpyrl9d8xyfJsXrPoZn1ae/R3cvb5e/dZlp7tqR8kAMAAADAv/EPZgAA\n",
       "AAAAAABGFMwAAAAAAAAAjCiYAQAAAAAAABhRMAMAAAAAAAAwomAGAAAAAAAAYETBDAAAAAAAAMCI\n",
       "ghkAAAAAAACAEQUzAAAAAAAAACMKZgAAAAAAAABGFMwAAAAAAAAAjCiYAQAAAAAAABhRMAMAAAAA\n",
       "AAAwomAGAAAAAAAAYETBDAAAAAAAAMDItdaqBnbzuv33ytnLWr2sJDmKs53FrCQ5d3G2Yta1uuuj\n",
       "mXeX99VVzHuVf1ZyF/Pas72OXctqXue5enMlSXO1dSdL3rs33fFpT9ebrTnau3uE58/iM7g/3U16\n",
       "N98J+65lJcm5ennHumpZ3/OK3zPFb61m1v8n9pK67+Vdzvt9PPmNBQAAAMCUfzADAAAAAAAAMKJg\n",
       "BgAAAAAAAGBEwQwAAAAAAADAiIIZAAAAAAAAgBEFMwAAAAAAAAAjCmYAAAAAAAAARhTMAAAAAAAA\n",
       "AIwomAEAAAAAAAAYUTADAAAAAAAAMKJgBgAAAAAAAGBEwQwAAAAAAADAiIIZAAAAAAAAgBEFMwAA\n",
       "AAAAAAAjV7KqgavYWTezkuQo5jWzvuedvazdy0qSszjbVbxvZ/kZnKu3F67yTzfuYt7V3fJ5FWd7\n",
       "HbsXVs67i1ln+Rkcqzfb3t3h3rs321F+XzV9ig/1W3cb5HX0ZruL52SSXKv5frlqWe28szzbUcxb\n",
       "xWfQ/t3iWr289tmW5l5oz1Y9K8sHEgAAAAD/CP7BDAAAAAAAAMCIghkAAAAAAACAEQUzAAAAAAAA\n",
       "ACMKZgAAAAAAAABGFMwAAAAAAAAAjCiYAQAAAAAAABhRMAMAAAAAAAAwomAGAAAAAAAAYETBDAAA\n",
       "AAAAAMCIghkAAAAAAACAEQUzAAAAAAAAACMKZgAAAAAAAABGFMwAAAAAAAAAjFzJKkf28tbqzrZW\n",
       "r09fOWtZSXIUu/6jPNtZna33TM/y+riKcfXZij8Fucs/K3nybK9j17LuYta5ellJchSX2053tven\n",
       "+U6oRSVJ9Urfuzfct/I++LN43+6jO9z96eVdu/zu23cva121rCRZq3etze+P5ndWkqS4r/oHSPv7\n",
       "+ana19k7eZuTdd98AAAAAP98/sEMAAAAAAAAwIiCGQAAAAAAAIARBTMAAAAAAAAAIwpmAAAAAAAA\n",
       "AEYUzAAAAAAAAACMKJgBAAAAAAAAGFEwAwAAAAAAADCiYAYAAAAAAABgRMEMAAAAAAAAwIiCGQAA\n",
       "AAAAAIARBTMAAAAAAAAAIwpmAAAAAAAAAEYUzAAAAAAAAACMKJgBAAAAAAAAGLlWVjVwrV7eKvff\n",
       "zWvtz9bLO8qzHbuXd65mVnftNvOu7mg5i3nt2e5j97JWLyspz1bMusrXucp5Te/mO+HTPdt28bZ9\n",
       "FcPuo7tJ7+Jta2YlyV1cH/c+a1lJcuWqZR3FrCQ5i3lr9e7bKr7jk+63Uft7t3nqPnm28mjl4QAA\n",
       "AAD4WfyDGQAAAAAAAIARBTMAAAAAAAAAIwpmAAAAAAAAAEYUzAAAAAAAAACMKJgBAAAAAAAAGFEw\n",
       "AwAAAAAAADCiYAYAAAAAAABgRMEMAAAAAAAAwIiCGQAAAAAAAIARBTMAAAAAAAAAIwpmAAAAAAAA\n",
       "AEYUzAAAAAAAAACMKJgBAAAAAAAAGLmy2pHNwPZwvT59lWc7irMdu/u7gaN4rd2srqP4SJtZSXIW\n",
       "887yjWvOdh27F5bkWr28e31qWe3rXMXrzO4u3rM4W/uN8Cmela/du85v5QPkLu75e3Vnu1ZvuKv8\n",
       "Vjj32ctaVy0rSY7Vm62alV5WkryL6yPlb6Pmd2D3jZB0T8v+dD2/y3UCAAAAPI9/MAMAAAAAAAAw\n",
       "omAGAAAAAAAAYETBDAAAAAAAAMCIghkAAAAAAACAEQUzAAAAAAAAACMKZgAAAAAAAABGFMwAAAAA\n",
       "AAAAjCiYAQAAAAAAABhRMAMAAAAAAAAwomAGAAAAAAAAYETBDAAAAAAAAMCIghkAAAAAAACAEQUz\n",
       "AAAAAAAAACMKZgAAAAAAAABGrmT97Bn+q1WerZm3yt18d7Yn37eeY3Wv8yhOd5S31VnMO9fuhZXz\n",
       "6rMdxdmKWVf5Oo9mXnm29+4t3r0+tawkuYsb9WsX10dxrSXd67zKP0tr5l2f7nBXzmLWVctKkqOY\n",
       "t4rXuVb726iYV/5myG5e63O/xfuzdc83AAAAAH4O/2AGAAAAAAAAYETBDAAAAAAAAMCIghkAAAAA\n",
       "AACAEQUzAAAAAAAAACMKZgAAAAAAAABGFMwAAAAA/B/7drhjq65dCXgYqKp9+v0fte+uqrUWuH9U\n",
       "Wi21lMhKxs3hZn/fAwxNYwOGCQAAAEs0mAEAAAAAAABYosEMAAAAAAAAwBINZgAAAAAAAACWaDAD\n",
       "AAAAAAAAsESDGQAAAAAAAIAlGswAAAAAAAAALNFgBgAAAAAAAGDJ0Q4cGc2wsl5gvbRqbd3qmnnb\n",
       "jedgKwY2s9p57a9K9mJt+5i9sHLeUczat9YBpe8AACAASURBVKuWlfSPW9OYzZOhu3qv2ZuH5+iN\n",
       "8608n0fxAvJWvoAcxeN2jG5xx7XXsvbZ3W7to5e3FbNGescsSUZxTsfsro9ZXLv1HU31utu+v9yz\n",
       "tvae8r53ZQAAAIAOfzADAAAAAAAAsESDGQAAAAAAAIAlGswAAAAAAAAALNFgBgAAAAAAAGCJBjMA\n",
       "AAAAAAAASzSYAQAAAAAAAFiiwQwAAAAAAADAEg1mAAAAAAAAAJZoMAMAAAAAAACwRIMZAAAAAAAA\n",
       "gCUazAAAAAAAAAAs0WAGAAAAAAAAYIkGMwAAAAAAAABLjr+7gP/Y+HPSZi+vW1k/r+XO47x1beXi\n",
       "RmYvq1zbXqxtG72svZiVdGu789pN+bidWy/vmMWs8qdfb8VJOMoL5Nh6gUf5AnJkr2Xts7vd2sdb\n",
       "LWsrbgW30TtmSTKK30E2s37yeutt1neozdrKmkOtFte++9WPHAAAAMCt+IMZAAAAAAAAgCUazAAA\n",
       "AAAAAAAs0WAGAAAAAAAAYIkGMwAAAAAAAABLNJgBAAAAAAAAWKLBDAAAAAAAAMASDWYAAAAAAAAA\n",
       "lmgwAwAAAAAAALBEgxkAAAAAAACAJRrMAAAAAAAAACzRYAYAAAAAAABgiQYzAAAAAAAAAEs0mAEA\n",
       "AAAAAABYosEMAAAAAAAAwJLj7y6AP8sYf3cF/z3aw2zm1WsrBra/eKnWNuYts5JkL+c1jfRqm+UF\n",
       "ss/eAjmKc9DMSpJjK9a2da8gRzHuKN9gjtFbcEd5u7UX8/bRy9qKWT95ey3rKs5nkuoFaZTvfjNX\n",
       "Me3OG7c73/t67jtKAAAA4E/mD2YAAAAAAAAAlmgwAwAAAAAAALBEgxkAAAAAAACAJRrMAAAAAAAA\n",
       "ACzRYAYAAAAAAABgiQYzAAAAAAAAAEs0mAEAAAAAAABYosEMAAAAAAAAwBINZgAAAAAAAACWaDAD\n",
       "AAAAAAAAsESDGQAAAAAAAIAlGswAAAAAAAAALNFgBgAAAAAAAGDJ8XcX8B+bf3cB/31GL2re+LDd\n",
       "uTb+c4pLN+1zvlnbXbN+8nrHbZSLa87oVl4f++jlNbOOYlaS7MU5Pcrr4yh+5raXF+9RPFOP7LWs\n",
       "JNlnb/u2j17WNrrjHMW8ZtZPXm/xzln+3rN5Lsz2Hat4fauOs71BbR43m2cAAADgfvzBDAAAAAAA\n",
       "AMASDWYAAAAAAAAAlmgwAwAAAAAAALBEgxkAAAAAAACAJRrMAAAAAAAAACzRYAYAAAAAAABgiQYz\n",
       "AAAAAAAAAEs0mAEAAAAAAABYosEMAAAAAAAAwBINZgAAAAAAAACWaDADAAAAAAAAsESDGQAAAAAA\n",
       "AIAlGswAAAAAAAAALNFgBgAAAAAAAGDJ8XcX8B+a5bjRDOwWN9uDLbprZe267rs67jsHSbu2UU27\n",
       "83FrGsXDNtozWixuK9e2Fe8J+02zkuSo1tY9R49i3FH+ZO4YvcDj2mtZSXKMt1rWnl7WVsxKkm30\n",
       "tqkj3Tlo5o1x1rKSZM7e2m3fE+683+3qjXPU90Z/yhwAAAAA/0z+YAYAAAAAAABgiQYzAAAAAAAA\n",
       "AEs0mAEAAAAAAABYosEMAAAAAAAAwBINZgAAAAAAAACWaDADAAAAAAAAsESDGQAAAAAAAIAlGswA\n",
       "AAAAAAAALNFgBgAAAAAAAGCJBjMAAAAAAAAASzSYAQAAAAAAAFiiwQwAAAAAAADAEg1mAAAAAAAA\n",
       "AJYcyawGzmpet7ZmXnec3bw/pbb7ro4/rLZiYLu2pjvX1jTKec1zfitXt41ebftNs9p5x9at7dh6\n",
       "c/o2uuvjKOa9Za9lJckxj17WeKtl7cWsn7zeOM9iVpJcozeno/y955i9vDmuWtZPYHOsxdrK1907\n",
       "bxpG9V7afuYAAAAA/lX4gxkAAAAAAACAJRrMAAAAAAAAACzRYAYAAAAAAABgiQYzAAAAAAAAAEs0\n",
       "mAEAAAAAAABYosEMAAAAAAAAwBINZgAAAAAAAACWaDADAAAAAAAAsESDGQAAAAAAAIAlGswAAAAA\n",
       "AAAALNFgBgAAAAAAAGCJBjMAAAAAAAAASzSYAQAAAAAAAFhyZLYje4GzXFwz7961XbWsn7xebc3K\n",
       "5uzOwVWMa2a18+q1ZfSy6setV9tsZtWS/i2vGdgb5j8hrnvkttHLu2tWkuzFvKO8Ppp5R/mTubet\n",
       "V9xxdYt7y1HLOuZ7L2v0spLkVczbxqOW9ZPXm4M5z1pWkoxR3G2V91rd54TmBenGN78bP6u1j9uo\n",
       "rg8AAADgn8kfzAAAAAAAAAAs0WAGAAAAAAAAYIkGMwAAAAAAAABLNJgBAAAAAAAAWKLBDAAAAAAA\n",
       "AMASDWYAAAAAAAAAlmgwAwAAAAAAALBEgxkAAAAAAACAJRrMAAAAAAAAACzRYAYAAAAAAABgiQYz\n",
       "AAAAAAAAAEs0mAEAAAAAAABYosEMAAAAAAAAwBINZgAAAAAAAACWHDOzGjhnL69eWzFv5qpltfOu\n",
       "0T1uV3FOr+IcdGegPM45alk/eb2ss17bn3HcmrW1xzlHL6979egmdo9aN6+ZtZcH2szby/eXY+sV\n",
       "d5SP21E8r95G93u+t+voZY33XlY+allJ8izWtm+9rCS55quXNc5aVpKM4g6pvRev3hOKpd353lcd\n",
       "aFtxD/ijd90t77RunAYAAAB/D38wAwAAAAAAALBEgxkAAAAAAACAJRrMAAAAAAAAACzRYAYAAAAA\n",
       "AABgiQYzAAAAAAAAAEs0mAEAAAAAAABYosEMAAAAAAAAwBINZgAAAAAAAACWaDADAAAAAAAAsESD\n",
       "GQAAAAAAAIAlGswAAAAAAAAALNFgBgAAAAAAAGCJBjMAAAAAAAAAS45kliOLefPqZSWZ6eU1s5Lk\n",
       "ylnMKtc2ennX7K2Ps5iVJFcx7iyfVs28fm3jllntvGbWVR5nM2+U7wlj9Gpr362axuhVtxWzkmQv\n",
       "5h3dpVvNeyt/Mve29Yp7L54HP3l7L2u+17Ie46OWlSRv+VXLOsezlpUk1/aqZc3iHjBJcjX3geW9\n",
       "VjGrWdlI9xyd1WeY7r6+qnxP6C637gppKq+2G6cBAADwP5k/mAEAAAAAAABYosEMAAAAAAAAwBIN\n",
       "ZgAAAAAAAACWaDADAAAAAAAAsESDGQAAAAAAAIAlGswAAAAAAAAALNFgBgAAAAAAAGCJBjMAAAAA\n",
       "AAAASzSYAQAAAAAAAFiiwQwAAAAAAADAEg1mAAAAAAAAAJZoMAMAAAAAAACwRIMZAAAAAAAAgCVH\n",
       "MquBs5jXzEqSOa9a1jV6WUlypVhbzlpWkpzF2qpZs7s+mnnnHLWsJHkVh3p2D1texVPhVf7k5VWc\n",
       "h2bWUV4fWzFvpFxbMau8dKuaR22M7kj3Yt6+dWs7inlvW3ftvhcX7/vWvbh9zL2W9bjealnP+VHL\n",
       "SpLX+FXLOsezlpUkc/T2WrO8p5zN87RbWlXzajRnd++cUbwelW9+3eercnHl+19NvaxmYPfeN268\n",
       "27pvZQAAAH8mfzADAAAAAAAAsESDGQAAAAAAAIAlGswAAAAAAAAALNFgBgAAAAAAAGCJBjMAAAAA\n",
       "AAAASzSYAQAAAAAAAFiiwQwAAAAAAADAEg1mAAAAAAAAAJZoMAMAAAAAAACwRIMZAAAAAAAAgCUa\n",
       "zAAAAAAAAAAs0WAGAAAAAAAAYIkGMwAAAAAAAABLNJgBAAAAAAAAWHLMObuJ8+pFpZfVzpvzrGUl\n",
       "yTV6eWcxK0mu4ljP4hyc6a7dV/FcaGYlyXmNWtare1rltTVr62Ul3drO2Rxn99uebfTW2yh/dzSL\n",
       "5+kon/Plu19N+8uv4mmQvbjWkuStmPfWHGiSt+JEvO/d2t6L15CPcdSynvOjlpUkr7xqWe290dya\n",
       "+93y1ah4nz/L51WK9/mrerXsrbUkSXHvPEd3DkZzgRSf+5L2uVDMKt/7qtrP8imf80XNfeCNZxQA\n",
       "AOBfhj+YAQAAAAAAAFiiwQwAAAAAAADAEg1mAAAAAAAAAJZoMAMAAAAAAACwRIMZAAAAAAAAgCUa\n",
       "zAAAAAAAAAAs0WAGAAAAAAAAYIkGMwAAAAAAAABLNJgBAAAAAAAAWKLBDAAAAAAAAMASDWYAAAAA\n",
       "AAAAlmgwAwAAAAAAALBEgxkAAAAAAACAJUcyq4GzmDfnVcv6yTtrWdfoZSXJlWJtxawkOYtjPdOb\n",
       "07O8Pl6z973Fq1tansVPQZ7dUz7P4lif2+iFJXm7ennP0cvai1lJsl29BTK28uItKh+2zFkOLGlX\n",
       "tY3eSX8Us5LkKF7b3rZubR978frRvifsxfvV3GtZ5/Vey0qSq7hnuMr73TTPhfLnnqN4FXkW90ZJ\n",
       "MoqDPeejlnWVxznnq5jVrq23r5+je3EbxXM+xeeE5vPtj+I425uj5lhn+7j1xtrfARbfgdSSAAAA\n",
       "/rn8wQwAAAAAAADAEg1mAAAAAAAAAJZoMAMAAAAAAACwRIMZAAAAAAAAgCUazAAAAAAAAAAs0WAG\n",
       "AAAAAAAAYIkGMwAAAAAAAABLNJgBAAAAAAAAWKLBDAAAAAAAAMASDWYAAAAAAAAAlmgwAwAAAAAA\n",
       "ALBEgxkAAAAAAACAJRrMAAAAAAAAACzRYAYAAAAAAABgyZHMauDMdcusJLmKeVfOWlY778yrlpUk\n",
       "r2Jt3azu+njN3rnQzEqS1zWKWbWon7ziZyrP4jiT5Dl6efvoDXTvDjPb6K23cZW/O9p6C+6P+SKq\n",
       "OJ9Jd3201+5RrO19K18/igvuY+9lJclr9sZ6zt5Arxy1rCS5ro9aVvesSpqrbRTvL0kytt6CG7O7\n",
       "eF/p5W2zt97O+ahlJcl5PWtZs7yvn6O3F5+z+zzUzJujt/8Y5WeOFK/h7eflquI+/EfxSl5+Vmve\n",
       "FbpHrf2uBwAA4P/5Y97XAwAAAAAAAPBfo8EMAAAAAAAAwBINZgAAAAAAAACWaDADAAAAAAAAsESD\n",
       "GQAAAAAAAIAlGswAAAAAAAAALNFgBgAAAAAAAGCJBjMAAAAAAAAASzSYAQAAAAAAAFiiwQwAAAAA\n",
       "AADAEg1mAAAAAAAAAJZoMAMAAAAAAACwRIMZAAAAAAAAgCXHzNVNnLMY1a1tzvOWWUlyjVcvK72s\n",
       "JDmLtZ2zl/XKUcv6ydt7WbP77cazeF49r1HLSpJH8TQ9uqXlMXqBe3FK9/IcbKNX3Nja94RebXv5\n",
       "ftWchd4Z2q0r6X5Jto/mSJO3rZf3Kl4nk+SjeODOvTurZ3GoV/EcLU9B1Whfd4tn6lbcfyTJPnr7\n",
       "o+9iVpI897da1uv66mXN7ji38axlnfNRy0qS6+rtxWf5mWOOez6rtZ/7muMcs71rKD7Lt98zNN33\n",
       "sJXDugPtpnU3DTfeggAAwP9Y/mAGAAAAAAAAYIkGMwAAAAAAAABLNJgBAAAAAAAAWKLBDAAAAAAA\n",
       "AMASDWYAAAAAAAAAlmgwAwAAAAAAALBEgxkAAAAAAACAJRrMAAAAAAAAACzRYAYAAAAAAABgiQYz\n",
       "AAAAAAAAAEs0mAEAAAAAAABYosEMAAAAAAAAwBINZgAAAAAAAACWHJmzGjjH1ctKL6udd+WsZSXJ\n",
       "NV+1rHP0spLkzLOW9RpvvazyHLxmL+95db/dOMaoZT2LWUlyFE/TR7e07MWx7sVxbukOdCuOc9S/\n",
       "OyoeuNGtbRvd+99djeI49/IxO4p571t3z3DtvfXWrSy5ZvliWdM9R0fxNt++7u7FOTiuvZaVJG/j\n",
       "qGUdxX1bkjzGRy9r62W95lct6yfv+5ZZSXKO3r7+mr2sJDmvXt5M73loNi9GSWbxua//vNwb6yjf\n",
       "q7pjLe8B77qnrJfVDOyuj1Gs7aazCQAAt+MPZgAAAAAAAACWaDADAAAAAAAAsESDGQAAAAAAAIAl\n",
       "GswAAAAAAAAALNFgBgAAAAAAAGCJBjMAAAAAAAAASzSYAQAAAAAAAFiiwQwAAAAAAADAEg1mAAAA\n",
       "AAAAAJZoMAMAAAAAAACwRIMZAAAAAAAAgCUazAAAAAAAAAAs0WAGAAAAAAAAYIkGMwAAAAAAAABL\n",
       "jmSWI69a0py9rCS55lnLmsWsJLlGL+/Mq5bVznuNXtZzdsd5ZL9lVpIc16hlPUYvK0n2Ym1Ht7Rq\n",
       "3l485fd0B7qN3rdCo3gN/7+JNeVPoppn6Ri9e2n5NKjmbcVxJskxeuvtKp4HSXJtvbHO9lbr6EWN\n",
       "4j2h/dXiXpzTo3zvO85e3tvV3TO8zd4Cec97LStJvudHL2v8qmU9xlctq533mt3aXvO7mPWoZSXJ\n",
       "Nnp513zWss6rl5Uks7gDuYrPVkmS2bySd5+Xm+8ZUn7PMKv75+Kmobxvq6pvjnr35fZevDmnN55R\n",
       "AAD+QP5gBgAAAAAAAGCJBjMAAAAAAAAASzSYAQAAAAAAAFiiwQwAAAAAAADAEg1mAAAAAAAAAJZo\n",
       "MAMAAAAAAACwRIMZAAAAAAAAgCUazAAAAAAAAAAs0WAGAAAAAAAAYIkGMwAAAAAAAABLNJgBAAAA\n",
       "AAAAWKLBDAAAAAAAAMASDWYAAAAAAAAAlhwzsxo4Zy9vjquWlSRz9vKuedayfvJevaz0spLkHM9a\n",
       "1ivFrHHUspLkmV7eUV4fR/FbkOPqnlfH2avtMUYtK0n2YtxWrK1ZV5I0D9tIt7gxeutjFK/hbc2v\n",
       "tdpffjVndBvdPcNeHOxbyuujel51Z7V5zjcrO8rX8KO5PrZubW/bXsv6KN5Hk+Tj6uV9X71xJsnX\n",
       "fKtlfc+PXtb4VctKksf4rmV9j69aVpI8i3nPdGt7zd5xe129rG08allJcs5e3ri6z32z+Kx2pfs8\n",
       "lOozbntPWRxrcb/bftdTPW7lPUOaYy2+0/rRG2v7qFWPW9E9qwIA4P/nD2YAAAAAAAAAlmgwAwAA\n",
       "AAAAALBEgxkAAAAAAACAJRrMAAAAAAAAACzRYAYAAAAAAABgiQYzAAAAAAAAAEs0mAEAAAAAAABY\n",
       "osEMAAAAAAAAwBINZgAAAAAAAACWaDADAAAAAAAAsESDGQAAAAAAAIAlGswAAAAAAAAALNFgBgAA\n",
       "AAAAAGCJBjMAAAAAAAAAS45kliOvXtQsZiWZ46xlXbOX9ZP36mWNXlaSnHneMus1jlpWkjxnL+/I\n",
       "XstKkn32vgXZ56hlJcl+9a4h+9mtbSvGdbO642zGbaP73dF2Na/j5W+itl5t1avR6N6Xm0et/VXa\n",
       "KI61vHSzFfcgW3mvtRcHexQvIG9X99r2Vrzwvjcv4kk+irf57/K979fZK+7r6p5Yzdq+r96V93u+\n",
       "17J+8j56WeNXLesn77uY9VXLSpLH+KxlPfdeba/ZO2ZJ8rp6tZ3jUctKkrN4Xo3Ze+5Lkqv4PDTT\n",
       "fZZPs7biO4vRfDeTJMXnyNmural7W+6a7fd39xxsv6recWvPAADAvzJ/MAMAAAAAAACwRIMZAAAA\n",
       "AAAAgCUazAAAAAAAAAAs0WAGAAAAAAAAYIkGMwAAAAAAAABLNJgBAAAAAAAAWKLBDAAAAAAAAMAS\n",
       "DWYAAAAAAAAAlmgwAwAAAAAAALBEgxkAAAAAAACAJRrMAAAAAAAAACzRYAYAAAAAAABgiQYzAAAA\n",
       "AAAAAEuOzFkNnKOXN3PVspJkzl7eHGctK0mu2cs757OWlSRbjlrWazxqWc26kmQfvbxn9lpWkuyz\n",
       "9y3IPkctq523X93r0XYWaysetq07BdlGL7D91dFIr7byYevWVjxw7XE278tbMSvpjnWUa6te24rn\n",
       "aJIcW2+sb1evtverewV5L9b2Ub7wPoq1PZo3mCTfxS3qd3GcSfJ99vZH32dvvX1f3X3b19XbU37P\n",
       "91pWknxdH7Ws7/GrlpUkX+OvWtb3+KxlPYpZSfLcenPwnF+1rCQ5Ry/vdfWe+5LknL3z9Co/L8/5\n",
       "Kmb1rm2z+I4h6b4DGeVn0pnmPrD7HirN2sp7ympt1a14d1/ffOpoz0BX+7j13LcyAOC/wh/MAAAA\n",
       "AAAAACzRYAYAAAAAAABgiQYzAAAAAAAAAEs0mAEAAAAAAABYosEMAAAAAAAAwBINZgAAAAAAAACW\n",
       "aDADAAAAAAAAsESDGQAAAAAAAIAlGswAAAAAAAAALNFgBgAAAAAAAGCJBjMAAAAAAAAASzSYAQAA\n",
       "AAAAAFiiwQwAAAAAAADAkiO5uomzlzfLtc3Ry7vmWctKkm308q75qmUlyTmetawtey3rzKOWlSTP\n",
       "0autOc523j5HLStJ9qv3nUr7i5dtFGs7e8etPs5qVnd9bOO+x20010fx3rdl1rKSpDgFddvojbU+\n",
       "zGJtRy3px1vxOn5uxazieZAkr+L95Xl1V8izOAeP4jiT5FG8X32Xj9ujuES+i+P8KmYlyffZm9Ov\n",
       "8vr4Ont7yq/5VstKkq/ro5c1fhWz/qplJcn3+F3LeozPWlaSPOZ7LWsfX7WsJHnN717W1ctKkmv2\n",
       "npebWbP8XuCazetR931K9b1W+Xl5Vvf25fd3TTd+5qia3We1rvtOQvus+lP8OSMF4F+VP5gBAAAA\n",
       "AAAAWKLBDAAAAAAAAMASDWYAAAAAAAAAlmgwAwAAAAAAALBEgxkAAAAAAACAJRrMAAAAAAAAACzR\n",
       "YAYAAAAAAABgiQYzAAAAAAAAAEs0mAEAAAAAAABYosEMAAAAAAAAwBINZgAAAAAAAACWaDADAAAA\n",
       "AAAAsESDGQAAAAAAAIAlGswAAAAAAAAALDlmPbKXOIpZSTLn1ctKLytJrvmqZY3staykW9uZZy3r\n",
       "NY5aVpJsxeO2je4c7LOXt5e/K9lmL28rX5D2a9Sytl5UtlEMS7u2XtZPXi+wfNgyipfxLcW1Vp6E\n",
       "6nk1uidpc6R7ubatnHdXzVFes7t2m3mvcm2vq3fvexXvVUnyOHq1Pcu1fZ+92r6LtX2f3XF+nc2s\n",
       "7r6tmfd1dve7n1dvb9/M+rrea1lJ8jk+allf41ct6yevV9tjfNaykuQ5e3nbeKtlJcl5ffey5qOX\n",
       "dfWevZNkFJ/lrxQvlElSzWvXVnzoKO9nmjvBWd1Vtvfhxbz2Q2l9rEXV0qoPpcWse+uO9MZrrezP\n",
       "GSnA388fzAAAAAAAAAAs0WAGAAAAAAAAYIkGMwAAAAAAAABLNJgBAAAAAAAAWKLBDAAAAAAAAMAS\n",
       "DWYAAAAAAAAAlmgwAwAAAAAAALBEgxkAAAAAAACAJRrMAAAAAAAAACzRYAYAAAAAAABgiQYzAAAA\n",
       "AAAAAEs0mAEAAAAAAABYosEMAAAAAAAAwJIjmeXIXt7MVctKkpGzljXLvflr9vJGXrWspFvbWTxu\n",
       "W/ZaVpK8Ri+vXduzWlt37W5z3DIrSbarWNsort1RHmcxrpn1k9ecg1rUT14xa2+Os3we7NX7cldz\n",
       "pNvoVreP3h6kXVvzXBg3Xh/NFXKVz6uzmNfMSpLX1bu6PYtZSfIo5n03s87uOL/P3px+FrOS5OvG\n",
       "tX2evf3u56s3p5/nUctKko/Zy/u83mtZSfI+PmpZX9uvWlaSfBdre4zftawkeY6vXtbVy9rGdy0r\n",
       "Sc6rt3bHfNaykuSavXcgs/je6Eczr/uOrPnObTRrm91d5azuUu/7DrVeW/n5+49QfyBqBv45E9od\n",
       "af8pt+W+lQF/En8wAwAAAAAAALBEgxkAAAAAAACAJRrMAAAAAAAAACzRYAYAAAAAAABgiQYzAAAA\n",
       "AAAAAEs0mAEAAAAAAABYosEMAAAAAAAAwBINZgAAAAAAAACWaDADAAAAAAAAsESDGQAAAAAAAIAl\n",
       "GswAAAAAAAAALNFgBgAAAAAAAGCJBjMAAAAAAAAASzSYAQAAAAAAAFhyJLObOJt5VzErmdW8dm1n\n",
       "L2v0spLkmq9a1sheyzrHs5aVdGvbyt9ubOPGtRXztjlqWUmypZe3XcWs8nW3Os5a0r/lFad0G+31\n",
       "0bMXa2tmJclZXLvt2ubonQujfV4Vazu27p7hKNa2FWvrro5kFMfZNov3q6t87ztn7+r2Kl4/kuR5\n",
       "9fYzz6s3zu+zV9dPXq+2r+IxS5LPV6+2z7O7Pn4X837vxaxXdw5+FdfH7/La/biOWtbn9V7LSpLP\n",
       "8VHL+ipmJcn3+F3L2vfecXtdX7WsJHmN71rWOR+1rCQ5r967gWt23zPMed93PdXabvy+rZt353eo\n",
       "3dpmNe+++/pqbe0HojurTumd18d9J/W+lSV3ntP7Vgb/mvzBDAAAAAAAAMASDWYAAAAAAAAAlmgw\n",
       "AwAAAAAAALBEgxkAAAAAAACAJRrMAAAAAAAAACzRYAYAAAAAAABgiQYzAAAAAAAAAEs0mAEAAAAA\n",
       "AABYosEMAAAAAAAAwBINZgAAAAAAAACWaDADAAAAAAAAsESDGQAAAAAAAIAlGswAAAAAAAAALDmS\n",
       "WY68akmz3v/ujXUUx5kks5h3zVctK0lGcR5GnrWsc3bXR3Ocr3Hf2saNa9syallJshXXyHb1amtf\n",
       "2Zpzuo3yHJzFrF5UPW8vHre9fI7uo3fvO2Z3fXR3IOW1W4xrzkGSHMUT69h6+4+9mJUkW/G4jfIc\n",
       "NFdbeyc+i+dpe691Xr28ZzHrce61rCT5Po9iVre2z6OX9/nq1vb77M3p772X9Y+je3/5/erlfbx6\n",
       "a+0nr3fcPspr9+PqjfX3eK9lJcnX+Chm/aplPbbftawkec6vW2YlyTkevazZy/rJ670DmeV3Pdfs\n",
       "7SlnM6v8vq35/q5dW/cdanu/W8ybzePWHeed0/p5RdXnq+5e67bHrV7WTceZpD+nPXd+q3XnGYV/\n",
       "jz+YAQAAAAAAAFiiwQwAAAAAAADAEg1mAAAAAAAAAJZoMAMAAAAAAACwRIMZAAAAAAAAgCUazAAA\n",
       "AAAAAAAs0WAGAAAAAAAAYIkGMwAAAAAAAABLNJgBAAAAAAAAWKLBDAAAAAAAAMASDWYAAAAAAAAA\n",
       "lmgwAwAAAAAAALBEgxkAAAAAAACAJUc7cGbWskYxK0kyr15UzlrWj1FLmsWsJLny6oWNXm1jdr+P\n",
       "OIvfW4zytxtj9PK27LWsn7xmbd3jVq1t9tbuVr60bVextu7lI1vxnN/vXFtx6e7l9XEUr5Wv2S3u\n",
       "rXhe9e7wfdvoHre9eBE59t5+5ti6EA4C0wAAIABJREFUe6Nj783qProrZBTnoL7fLZrFczRJrub1\n",
       "6Cpmnd290ePsPWJ9v7qPa1/F2j7Ltf0u5v3ee3P6V3l9/KO4oflV3hz9Km5ofr26tf1+9Wr7uMpr\n",
       "93qrZX2Mj1rW5/hVy0qS7/FZy3oUs5LkNb+KWd+1rJ+8Ry3rms9aVpKcxbw5e/vAaxbfQSWZxSeF\n",
       "5jiTbm2j/ETUrC3V/W77ya9ZW/s99n1ra77/rx+36nvxYm3ld1q3Vp3S+z4vtye1m3bf43bfyvjP\n",
       "8AczAAAAAAAAAEs0mAEAAAAAAABYosEMAAAAAAAAwBINZgAAAAAAAACWaDADAAAAAAAAsESDGQAA\n",
       "AAAAAIAlGswAAAAAAAAALNFgBgAAAAAAAGCJBjMAAAAAAAAASzSYAQAAAAAAAFiiwQwAAAAAAADA\n",
       "Eg1mAAAAAAAAAJZoMAMAAAAAAACwRIMZAAAAAAAAgCVHMv/uGv598+rmjVGLmu3efHGsM93jduWs\n",
       "ZY3ZO25nXrWsH73axuiuj9Gsrbx2R/G82sq1bSnWNu+ZlSTbdd852Jtz0D1s1bzj7IUd5XEexXO0\n",
       "mZUkr+IkvJXPq3nj7dEYveK2Ytaxd/cfb3vvPn/svb1Mkuxbb6xbMSvpro+2WTxPr2LWee61rCR5\n",
       "nUct6/HqZSXJdzHv6/VWy0qSz2cv7x/F2v5XeQ7+2nvrrZn1k9fbB/7vvXtf/lUc68eru9/9KF5D\n",
       "Pq/eevu43mtZSfI1fhWz/qplJcljfBazvmpZSfLKdy9rPmpZSXIW8875rGVds/uup5k3Z3dPeRXz\n",
       "ZvHdXZLM5jvZUXznWX5XPIrvUGf7IbJ53Mrv/0czr/3+v1hb+7h1NWtrr91u3G3Vl0cz8L6T0Lx+\n",
       "3PkM/VP4gxkAAAAAAACAJRrMAAAAAAAAACzRYAYAAAAAAABgiQYzAAAAAAAAAEs0mAEAAAAAAABY\n",
       "osEMAAAAAAAAwBINZgAAAAAAAACWaDADAAAAAAAAsESDGQAAAAAAAIAlGswAAAAAAAAALNFgBgAA\n",
       "AAAAAGCJBjMAAAAAAAAASzSYAQAAAAAAAFhyZJYTRzOwW9ws5o151bJ+AkctauasZf3o1XbNXlaz\n",
       "rp+0Xt5ZHWe3tjG635WM4ncqt66tmVVfHz1bubbt6l13t7Nb216Mq2aVby9H8f5ybN1z9K24Ps6t\n",
       "e+Ca1/HuvS/V7dEo7tu20Z2DvTinx/GqZSXJsff2Wnsx6yevd9ya6+NHL282z9Gre207z72W9Xod\n",
       "tawkebzealnfz15WkvxVzPvr+V7L+l3MSsrj3Lvr46+9t3Z/FbOS5B/Fzdav5sYtya9Xb6yfr971\n",
       "6PfZXR9fs7d2P6/uefU9fhWzvmtZSfIo5j3LtTXzzvmoZb3Sy0qSaz5rWefs7imvYt6c3T3lVcxr\n",
       "vqdsj3MW3+/O8vNQs7aRcm3VvHZtxff/zYfvdi+h+WxVbxA188rvU6ovVOqNtV5UtbT7jrO9Orrn\n",
       "1Z/BH8wAAAAAAAAALNFgBgAAAAAAAGCJBjMAAAAAAAAASzSYAQAAAAAAAFiiwQwAAAAAAADAEg1m\n",
       "AAAAAAAAAJZoMAMAAAAAAACwRIMZAAAAAAAAgCUazAAAAAAAAAAs0WAGAAAAAAAAYIkGMwAAAAAA\n",
       "AABLNJgBAAAAAAAAWKLBDAAAAAAAAMASDWYAAAAAAAAAlhzJLEf28ma5tjGLtY2rlvVj9KJmMStJ\n",
       "ctaSZnGcV/OYJRnFvDG7326cxW9BRvm7kjF6x20r17aNXt5WXB/NrCTZiuf8dpVrK2btxflMkv3s\n",
       "jXUvHrajWFeSHM3ayuvjWbx+PK/u+njfenlX+b5cvf8Va2vvPratt9fai1lJchy9vdFxPGtZSbIX\n",
       "a2vOQZKMrbm3L+7ry+foLF6Pztdey0qS1+utlvV49LKS5K9nL++vx3sx66OWlSR/HcXanr2sn7zi\n",
       "HOxHLesnr3cu/LV39wx/FTeC/yhm/XV2rx+fr95x+7y66+Pr6p0LX9evWlaSfI/eff4xHrWsJHnk\n",
       "u5b1LNb2KtaVJK9ibefs7tvO9PLatV3zddOs3l43Sa70apvl2ub/Yd/eshxHljTNCkiaeZzT8x9q\n",
       "hZuRBNAPlvWaravqy3R0xt4D+JcooBcAQp7ds3he24S1hVkzM9tla2vHWfZNyms2MzNhD6buXbX9\n",
       "puv21WYra4u/9qTzo1aO9crj7PgHMwAAAAAAAABLNJgBAAAAAAAAWKLBDAAAAAAAAMASDWYAAAAA\n",
       "AAAAlmgwAwAAAAAAALBEgxkAAAAAAACAJRrMAAAAAAAAACzRYAYAAAAAAABgiQYzAAAAAAAAAEs0\n",
       "mAEAAAAAAABYosEMAAAAAAAAwBINZgAAAAAAAACWaDADAAAAAAAAsOTxpwv4z51x3hFmbWHWzJxd\n",
       "bedW19blnbNnWfU9OMq88Jr96PK2+LqVea+t/c1LWdsW1rbFv+25hXm3eO7ew7zb0dZ2C/fKe7i1\n",
       "3ePt4x5et8feFvcI19XH0T4zvI6utneYNTOzh3l7uEbTc3Rmzvws7Wxb99x2u5fPpzP3R7ch3R/v\n",
       "LGumHet2a69bqZy7x97uH8f7nmV9vj6yrJmZ17PL+/X8zLL+er6yrJmZv77L2n5lWTMzfz262v71\n",
       "6rJ+8rr58a97tw7qvH8/ujX/v97tOfo7fEj9vbf34He4V37FtX0f3dz9Pto1/5x/ZVnfW7dXvrZn\n",
       "lvWTd93a3tPlvePa9rO7bvt0WUdY18zMfnbPu0eYVee132Pj2s62trP8xh5etzPtS8ykfY7wms3M\n",
       "nOH7ct0f2tKxtrWdad5Vs6Zt6dTtwzCw/qKVDzXiH8wAAAAAAAAALNFgBgAAAAAAAGCJBjMAAAAA\n",
       "AAAASzSYAQAAAAAAAFiiwQwAAAAAAADAEg1mAAAAAAAAAJZoMAMAAAAAAACwRIMZAAAAAAAAgCUa\n",
       "zAAAAAAAAAAs0WAGAAAAAAAAYIkGMwAAAAAAAABLNJgBAAAAAAAAWKLBDAAAAAAAAMCSRx95hllb\n",
       "mDVzhrVt55Flzcyc4VC3MmxmZuvyzvKennuXNTNHWlt7D7awtj1eV+XvVLb4Ny+v7Zq13eJxlnm3\n",
       "eH7cwrVwO9ra7mHcPZxr9/Z4mUe4VT7C82Bm5hHe04+jXVdl3sdxz7J+8rqb+hmO84jvwRnuH+XT\n",
       "aW3b2uq2W7eJ3O7ts9bto8sra9tu9Qzp8sp1MDNz7t1+9PF+ZlkzMx/Pjyzr89nV9vndjvPz41eW\n",
       "9ev5yrJmZv76/syy/vXsxjkz8+9HV9u/X13WzMz/enefVcqsf9/bc/nvR5f3+93ubb/3Lu8r3Cfr\n",
       "vO/4mfJ77/bd77NbV8/jryxrZuY57y5r67JmZl5bd8a8pj0TytreE2aFdc3M7OF128+4trObb8fZ\n",
       "zo8jra1dV21t3TvHubXvVmdZ27QforYJa4t7MG2fI36XD8fa1hbfg1L8PaXu6bSu+WXLP5gBAAAA\n",
       "AAAAWKLBDAAAAAAAAMASDWYAAAAAAAAAlmgwAwAAAAAAALBEgxkAAAAAAACAJRrMAAAAAAAAACzR\n",
       "YAYAAAAAAABgiQYzAAAAAAAAAEs0mAEAAAAAAABYosEMAAAAAAAAwBINZgAAAAAAAACWaDADAAAA\n",
       "AAAAsESDGQAAAAAAAIAlGswAAAAAAAAALHnkiWeYtZVhtbq2Lu+cI8v6CdzavEpeVhd4xtfsCGvb\n",
       "4t+VbGFt762+qeV1C7O2696DW7ywbmc31ry2I7xu4Xl139tx3sO4e3jNZmYeezc/HvH28RGu049b\n",
       "u+Y/93uW9bqFWWFdMzMfYV6ZNTNzhntb/cxQ2m7t8+7t1j2j3h57lrXdu6yZ/rqlwvl2hHv4zMz9\n",
       "1zPL+nh+dFlhXTMzn99dXpk1M/Pr41eW9dfzlWXNzPzr+7PLenXjnJn596ur7d+vbu7+P+/2c8/f\n",
       "4Vn697s9l3+H+9Hv+Fn8KzxivuJ99zus7Tus7fto5+7z6NbV99l+b3sef3VZ886yZmZeW7ePP8Os\n",
       "19aefe/p8vLawrz9bGsr8/ZpnxmOo1sL+9nVdpztGj23bhPPawvfl6fuc0x4+MVnwhl+F9/K6xa/\n",
       "3p5pYFzcdt3rVj6hlqX5BzMAAAAAAAAASzSYAQAAAAAAAFiiwQwAAAAAAADAEg1mAAAAAAAAAJZo\n",
       "MAMAAAAAAACwRIMZAAAAAAAAgCUazAAAAAAAAAAs0WAGAAAAAAAAYIkGMwAAAAAAAABLNJgBAAAA\n",
       "AAAAWKLBDAAAAAAAAMASDWYAAAAAAAAAlmgwAwAAAAAAALDkMXP+6Rr+G21Z0hlft+0M87b6nh5Z\n",
       "UlrZ2d3PH3uWdIRz7UeZ9wqzZtLazvY3L1tY27Z1td3i3/bcLlzbFubd4jV/P7q8e5Y0c4/vwX0L\n",
       "xxlvbY+wtkd4P3/yuvvw2MsZMvNx687lx/7Isj727hydmXmltb2zrJmZ97u7p49Hu+bPcO6e8boq\n",
       "beHz7u3eramZme3erYXtdt13tfpcPvdu7h6f3fPu/fWRZc3MPH51tT2+n1nWzMznZ5f36/s7y5qZ\n",
       "+evzV5b1r/i6/fv52WW9unH+jufu3+8u7/e7O+NnZv4On7V+x89tX+9ub/sdn8tfe5f3HWaVdc3M\n",
       "fIfny/Noz+Xvo1sLz6Nd899nt7c9j+7Z6Lm1z/XP8BvZc2vPl9fWnaWvuLZ3WNt72tr2cKz7WWa1\n",
       "32P3o8vb0q9aM8d06/Tc2u8MZ/rtua0tzQvf1c7w293MzHaWvab2XT7tc9SfU9rGWpbkH8wAAAAA\n",
       "AAAALNFgBgAAAAAAAGCJBjMAAAAAAAAASzSYAQAAAAAAAFiiwQwAAAAAAADAEg1mAAAAAAAAAJZo\n",
       "MAMAAAAAAACwRIMZAAAAAAAAgCUazAAAAAAAAAAs0WAGAAAAAAAAYIkGMwAAAAAAAABLNJgBAAAA\n",
       "AAAAWKLBDAAAAAAAAMCSxxkHbnFeqx5t5wxr284jy5qZOcObuoW34Nzi2VYOdPYwq5259So4wlW/\n",
       "pfdgZi9rC3+P84rnblnbtrW/Oypru8UnzC2cb2nW0Y7zvnd593jbLfPu8bq6h2vhUR5+M/O4Pbqs\n",
       "sLbHu33+eNy6vMf9I8v6yevO+fe7u58zM/d3V9v9cc+yZmaOo6ut3Hdzt/C5/t6uqwnXVf0oXj6k\n",
       "3vZuDz/fryxrZub+2a35+2e7t3386sb68fWZZc3MfH4/s6xf399Z1szMX9+/sqx/Pbvavp7tPfh6\n",
       "dXm/3+3c/f3q8n7v7bn8Ozznv8K9bWbm996d81/hO8dX/D5U1vYdZs3EtR3t/PgO58f30T1/PI92\n",
       "//g+u73t++zOg5mZ5/ZXmNWefc+tO5df85Vlzcy8wrG+J8wKr9nMzC3M24/2efc4u7zjfGdZMzPH\n",
       "dHnlN/GZiZswYW8ibiZctdc0Uw81fpe/aG/TP5gBAAAAAAAAWKLBDAAAAAAAAMASDWYAAAAAAAAA\n",
       "lmgwAwAAAAAAALBEgxkAAAAAAACAJRrMAAAAAAAAACzRYAYAAAAAAABgiQYzAAAAAAAAAEs0mAEA\n",
       "AAAAAABYosEMAAAAAAAAwBINZgAAAAAAAACWaDADAAAAAAAAsESDGQAAAAAAAIAlGswAAAAAAAAA\n",
       "LHn86QL+U2ect9WBpX9GbWeYtZ1HlvUT2EWd8e0s445yoDOTXrgjru3W5W3hOMusmZnX1v1WaIt/\n",
       "d3TburHezri2cKy3cO7e4vmR3oO9rq3Luofj/Mnr5scj3tru4fPMfbt3Wbf2sfLx7s75+619Zrjf\n",
       "9izrdu+yfvK6sfa1dXnHvZu79Ti3e7m5tQ+V2y18Fo/XVfqu9tHdg3N/Z1kzM7fPLu/265Vlzczc\n",
       "n13e49czy5qZ+fj+yLI+vz+zrJmZX9/fWdZfYW3PZzvO7zDvK67t6xXW9u7mWp33+90+a5V5X3t3\n",
       "Lv/e2/e+rzCvzPrJ686rr/hYTmsL58d3fQ+OsLYw6yevW6PfZ7u3fW/dM8P31p4Jz607l1/bV5c1\n",
       "XdbMzDts67xv7XPbfnZrYT/b2ua87nfsM/weWGal3/5nZs7u/bu8nTPtK2nZB5uZmfK7Z9i88g9m\n",
       "AAAAAAAAAJZoMAMAAAAAAACwRIMZAAAAAAAAgCUazAAAAAAAAAAs0WAGAAAAAAAAYIkGMwAAAAAA\n",
       "AABLNJgBAAAAAAAAWKLBDAAAAAAAAMASDWYAAAAAAAAAlmgwAwAAAAAAALBEgxkAAAAAAACAJRrM\n",
       "AAAAAAAAACzRYAYAAAAAAABgyeNPF/CfO+O8Lc4rdWPNr9p5hGFdVD3OMnDb2rl2phdu77Jm5kjX\n",
       "VXvdtrPL2y88zvK3QtvW/u5oC8da13YLa7uFc63Mmpm5HWFt9T3Yu9ru8bK6hfv4PT4Tbts9yyqv\n",
       "231rT+Yy776FzzIzc7t1eWXWzMwtvG55bbeuti3Nase53bu8M8yaqZ/r46fxcKxbWNsWvzGfR/cs\n",
       "Xp7xMzPn5yvLOl7thbv/1eU9nh9Z1szMx3eX9/n9mWW9n13WzMwzrO3fcW3fYW3fr3Z+fL262r7q\n",
       "2t5dXpn1+93uH7/37tm5zJqZ+f3u3q++9vZd7XeY9xV+hvodvkPOzHyFeWXWT143376Odu5+nF3e\n",
       "x9mu+e/w4a3MuscPlc8wbwu/MczMbGf4nTJ+3t3Cb6j7ra3tCL8HllmXdrbvpOVl2+rawuZV+b3e\n",
       "P5gBAAAAAAAAWKLBDAAAAAAAAMASDWYAAAAAAAAAlmgwAwAAAAAAALBEgxkAAAAAAACAJRrMAAAA\n",
       "AAAAACzRYAYAAAAAAABgiQYzAAAAAAAAAEs0mAEAAAAAAABYosEMAAAAAAAAwBINZgAAAAAAAACW\n",
       "aDADAAAAAAAAsESDGQAAAAAAAIAlGswAAAAAAAAALHn0kWeYtYVZE5dWhl1be9nCtO3osmLnGc/d\n",
       "Ul5aF1ivqiO9D1fNmtm27rdCW11bmFeOc2ZmC39jVWbd4v3jdnR59a/SbuV12+LrFsbd47lb1nYL\n",
       "n2duW/tY2dbWnjDbhWtLr9utfdYqr9sWPgdu9Thv5fNuPHfL2sqsmdnu4X0Iayvn7czM9gjHGT88\n",
       "nx/vLGv79cqyZmZu73uWdX+159UR5n08P7Ks/bvLmpn5DGt7f39mWTMzf4V5r2db23dY23dd26u7\n",
       "p1+vrrbfYV0zM1/vLu/vMGtm5vej29t+v9u97e+9e4f5/e6y/grrmpn5e++yPt/tO+ln+OL3sbe1\n",
       "fRzdfXiEWTMz97PLu0+3Rm9h1kz9LTD+3lbWVn4AmZkpv7nlrYlr9hOO/It9l3fW6yoc6ln3D9O+\n",
       "WhflH8wAAAAAAAAALNFgBgAAAAAAAGCJBjMAAAAAAAAASzSYAQAAAAAAAFiiwQwAAAAAAADAEg1m\n",
       "AAAAAAAAAJZoMAMAAAAAAACwRIMZAAAAAAAAgCUazAAAAAAAAAAs0WAGAAAAAAAAYIkGMwAAAAAA\n",
       "AABLNJgBAAAAAAAAWKLBDAAAAAAAAMCSx58u4L/XGWZtYdZMW9t1nXNkWdvZ/j7i3Lp7sIXjnIln\n",
       "x1nP3T1Laq/aTLtOu6wt3j/2I6zt1ta2beV1a9f8bevybuE9LbNmZrZwzW/hXJtp58et24p+8tK5\n",
       "2yrXQllb/avFW3gu17Vt4cm8heOciWvLknrlOK890PgdIcy713P3Vt7TMOsR34N7+MSb7x9hVv3O\n",
       "cbyzqHN/ZVkzM7f3Pcs6X13W/fWRZc3MPJ7d56P92db2+f2ZZb2/29p+hbW9wqyZme/vX13Ws6vt\n",
       "32HWzMzvV5f3rzBrZuZ3uE7/vrdz9693t+b/vnV726+9y5qZ+Xx3bwqf8feUj+7om0dc2z28bre4\n",
       "PXEPv1vcyu8p9bee8jtl+P1jJn69uvS7Wh1YPtt3WedZ962u+82i7A9NfN3KbyBnmOUfzAAAAAAA\n",
       "AAAs0WAGAAAAAAAAYIkGMwAAAAAAAABLNJgBAAAAAAAAWKLBDAAAAAAAAMASDWYAAAAAAAAAlmgw\n",
       "AwAAAAAAALBEgxkAAAAAAACAJRrMAAAAAAAAACzRYAYAAAAAAABgiQYzAAAAAAAAAEs0mAEAAAAA\n",
       "AABYosEMAAAAAAAAwJJHHXiGWVuYlTvLkc7MduXRxmPNxHWdRxcV384tHGpd22Wnx8wc6S7SZW35\n",
       "7hbWlk+QsLat/U1UeR+2cA/f4t9+leO8xfNj27us29y7sInnR5b04xYGpnN3i+9BOc4u6j8Cu8Ov\n",
       "fgS88hMl/7Ncea7dyofnW/uwWz7ObHFt6VgvPEHy593jnUWde/jc9n5mWTMz56v7fHR/tp+ijudH\n",
       "lvXx3WX95H1mWe8wa2bm8+s7y/r1/SvLeoZZMzO/wuv2V13bo6vt1zOeH/cu7/MWrtF3e/Y9wneY\n",
       "+619l7+HDw3lO+RM/J2h/tYTnqVTZl34+2ld3Bk+i595beX3/y5rZuacsLbwutXjPMJxbnl/qNyP\n",
       "4vlRfjwK34f8gxkAAAAAAACAJRrMAAAAAAAAACzRYAYAAAAAAABgiQYzAAAAAAAAAEs0mAEAAAAA\n",
       "AABYosEMAAAAAAAAwBINZgAAAAAAAACWaDADAAAAAAAAsESDGQAAAAAAAIAlGswAAAAAAAAALNFg\n",
       "BgAAAAAAAGCJBjMAAAAAAAAASzSYAQAAAAAAAFiiwQwAAAAAAADAksefLuA/d8Z5W5wXKoe6/TOu\n",
       "2xnPj3SU51GmzRkWV0+PcwuLKwc6MzN7llRetuOia2pmZs/vQZe3xddtC+duWVtZ10xcW30PwoW1\n",
       "tdtuOtJta3/PV8+Q6yX977zyul38kTd0huuqfqIsXbu2Kz8bheLa7mVYWNqtnm3l4XeL34fC2rZ7\n",
       "fd3KrOvuIOXzzHl070IzM/N+Z1G3d/tsdD67c/54fmRZMzP372eW9fj+zLJmZh6/urzH1yvL+giz\n",
       "ZmYeH7+yrI9Htw5mZh7fXd7HrV3z92e3IT3Cze0W7+Fl3m1Ln2bi96sr/8esHWk5Q86zu27n0b6T\n",
       "nuGL3xE/7x7Trfkj/thzlN+K49rO8LqlWRce51b3YMq9Mv4WWH7s2cJ7cOXTBQAAAAAAAIAL0WAG\n",
       "AAAAAAAAYIkGMwAAAAAAAABLNJgBAAAAAAAAWKLBDAAAAAAAAMASDWYAAAAAAAAAlmgwAwAAAAAA\n",
       "ALBEgxkAAAAAAACAJRrMAAAAAAAAACzRYAYAAAAAAABgiQYzAAAAAAAAAEs0mAEAAAAAAABYosEM\n",
       "AAAAAAAAwJLHny7gP3PGeVuc1wpHe8Yj3eo7cU3lKPu51lV3xitrO48wrIuamTnLZdVFzXHl3eiI\n",
       "a7t1eVt83dK87brjTGuLj4N0pPHcTe/Du4v6cdXfB9Z721XHOVM+QudPWfVzYCms7Qzn2xlfszKv\n",
       "r63Mqh/cyrCwtniRljtbeMT/R2D4zhFv4dstvBH3LmpmLvuhYSsX/MzMx95l7eE75MxsYW3bZ/vg\n",
       "tn2+wqy2tttHl3d7dFn3MGtm5nbv5sf9Fq6DmbndurVwi1/WtjAvP68uqn6uL78d1UfCER70R15b\n",
       "d932ezfOPR7nHs64vfy2OzP7fHZZW3smHGFtR15b953hdna1HVv78LydXd62tefyVr6t1S9E063T\n",
       "8nvKlb/cAQAAAAAAAHAhGswAAAAAAAAALNFgBgAAAAAAAGCJBjMAAAAAAAAASzSYAQAAAAAAAFii\n",
       "wQwAAAAAAADAEg1mAAAAAAAAAJZoMAMAAAAAAACwRIMZAAAAAAAAgCUazAAAAAAAAAAs0WAGAAAA\n",
       "AAAAYIkGMwAAAAAAAABLNJgBAAAAAAAAWKLBDAAAAAAAAMCSx58u4L/XGWZtYVatHOdMO9a6tmvK\n",
       "78B5hGFd1Ew81vjCbeFY23G2NyGcHVNPkC0c654l/W/lWLusrZy4P4ld0oVrq9fVli6s+HErXAzb\n",
       "pX9rWN7TdpxnWFv9zFDmtefLzBFetzQr3j/OMK/MqvPOM94/rnrd4nvQamsr7+i2vcO0mdnC3a0+\n",
       "+toLF2Z1UTOTHjDbPT79yrxHW9vt3p2mW5g1M7PdwtrSrPrDQBl13W9a/5Rnhvq5bS+/WVy5tqOt\n",
       "7X12a+EdX7d3uExfYW3vWzzOvVtXr7lnWTMzj/AbyP38yLJmZu7bK8u6TVvbbbratq27p1v83rdt\n",
       "YV79TnrRb8V5XvjOceWvigAAAAAAAABciAYzAAAAAAAAAEs0mAEAAAAAAABYosEMAAAAAAAAwBIN\n",
       "ZgAAAAAAAACWaDADAAAAAAAAsESDGQAAAAAAAIAlGswAAAAAAAAALNFgBgAAAAAAAGCJBjMAAAAA\n",
       "AAAASzSYAQAAAAAAAFiiwQwAAAAAAADAEg1mAAAAAAAAAJY8/nQB/53OMGtL034SL+sMx7qV46zv\n",
       "wXWlc7e8nzMz25FF5Xc0DQzn7rZ3WTPpOI96L+qmx3/BT6IuvO+Wyqmb7uGtvLJy/yjXwcykj2/h\n",
       "OM9L/26xnSHl9DjPe5jWPradZ3zdwryrZtV5R1zbcXTr9Dzi6xbmneU46/kRjvMe34Nyc9viB/vb\n",
       "+c6ytv5g7tyv+u7dxp33eO6GE67/1lPOt24dzMzcyv0tzKr3tvRM2Nvn3ePongP3vX2m3MPr9g7H\n",
       "+SvMmpl5hdftdbTfep7hPfi8tWffx61bp2XWT16YFZb2iM/lMu9xtnvbPcy7b+2av4XfU27T1raF\n",
       "Y72F3xm2rZ0fW/jMUH+nLGs7/yHfna/8JRAAAAAAAACAC9FgBgAAAAAAAGCJBjMAAAAAAAAASzSY\n",
       "AQAAAAAAAFiiwQwAAAAAAADAEg1mAAAAAAAAAJZoMAMAAAAAAACwRIMZAAAAAAAAgCUazAAAAAAA\n",
       "AAAs0WAGAAAAAAAAYIkGMwAAAAAAAABLNJgBAAAAAAAAWKLBDAAAAAAAAMCSx58ugH+Y8+yytq3L\n",
       "yoXjjJ1zpHnbGf5OZWtrK53nhefbhUsrl/yR34NrXrgtrivNq/fda96CXnwknOlWGT4KvruomZkJ\n",
       "z5f6VD7DyVufL+VYy3HOtPs1TSCTAAAgAElEQVR4uQzq8yUd51HX1q2r/Lod16ztM74HZzjOiWsr\n",
       "991bOc6ZmfCebmd7YG1HtyNtj3AXv7enX/nad2n14+4W3odb/ERz37Oo7XHNrJmZ26Nb87ePdv+4\n",
       "v7q8RzjOmZlHOD8e9662j1s7Pz7Kce7tN62PW5f3iPePR7i3lVkzM/fwu8U9PPvKrJmZe/gceN/a\n",
       "4u7hQ0OZNTNzC8d6i/+7meaF6yD99j8zWznf6m/Fl+43hbWF1+2f8ooAAAAAAAAAwP8lDWYAAAAA\n",
       "AAAAlmgwAwAAAAAAALBEgxkAAAAAAACAJRrMAAAAAAAAACzRYAYAAAAAAABgiQYzAAAAAAAAAEs0\n",
       "mAEAAAAAAABYosEMAAAAAAAAwBINZgAAAAAAAACWaDADAAAAAAAAsESDGQAAAAAAAIAlGswAAAAA\n",
       "AAAALNFgBgAAAAAAAGDJ408X8P9XZ5y3pYlbmHVh+U248j2oB9s558iytrP9zcsZ3tMtHGd+N687\n",
       "PebYwrVw/kP2tn/KHj7TDvXCl+3Sa77b2uacexc27TDP+DeV6S2IJ8gRjjWvLcwLp+4c8flS5u15\n",
       "beH8OOLajrK2Luvc4/3jwrU9wtoeF75ut/2ZZf3kvbuwj73LerSb+HYL8678V4fygJmZs9wr84fK\n",
       "az5Al6+QP4Hhd4H0u1G7rtI1OjO3W7cYbuF1u23tIi1ru8fzo9wqy3HOzNzDdXqL13yZl96DeM/d\n",
       "ws0y33bDxC1+aNjC96vyHvxHYph03flRKsdZ+6d0h678WA8AAAAAAADAhWgwAwAAAAAAALBEgxkA\n",
       "AAAAAACAJRrMAAAAAAAAACzRYAYAAAAAAABgiQYzAAAAAAAAAEs0mAEAAAAAAABYosEMAAAAAAAA\n",
       "wBINZgAAAAAAAACWaDADAAAAAAAAsESDGQAAAAAAAIAlGswAAAAAAAAALNFgBgAAAAAAAGDJ408X\n",
       "wI8zzNrStJ/Ea4rHeYbj3K58D+raOmdc23YeWdaVp0dZWxs2M7NnSd3d5H+keupe9eiLnWe3IZ3H\n",
       "R5Y1MxOWlp98RzhBjnjfLa/bcba/Rb3qdavvQZm3X7q2eH6EecdxzayfvHuXtXdZdd75bmu7h3ll\n",
       "1szM+XplWbfPLmt7dM/hMzPno3sa327xyXzh1+XzCIvb2/2oXKdnWNsZ77sT5p31c1s4P/La8m8D\n",
       "jet+0fovEH48uubd/OFV/v/Mlcd57drK6tqRXre2f9IqvXJtpe588Q9mAAAAAAAAAJZoMAMAAAAA\n",
       "AACwRIMZAAAAAAAAgCUazAAAAAAAAAAs0WAGAAAAAAAAYIkGMwAAAAAAAABLNJgBAAAAAAAAWKLB\n",
       "DAAAAAAAAMASDWYAAAAAAAAAlmgwAwAAAAAAALBEgxkAAAAAAACAJRrMAAAAAAAAACzRYAYAAAAA\n",
       "AABgiQYzAAAAAAAAAEsef7oAemect6WJW5hVC8d5xuPc3IM/7jy6qAtPj7q2K9/S7o5yBflUCxfW\n",
       "me7hbd55lhtIFzUzk5a2d1kzM+fZ/UazzPrJ6zbyep9Mawuv2x7P3SMc5x4fzGltRzt39+OatfXj\n",
       "DGvb49rCvON9z7JmZh5h3uPVfga5/3pmWbfPjy7r451lzcxsj+4w3e7xCRM/a6XCffeM1/wZrqsj\n",
       "XFfHs12j+zus7dXubcce3oN4fhzheZVmxc/O5bNRmTVTPzvHtV00ayZ+j+yiLj3O2oVLm/PCd/W6\n",
       "afnsjfNK4fe2LOm/KrDhH8wAAAAAAAAALNFgBgAAAAAAAGCJBjMAAAAAAAAASzSYAQAAAAAAAFii\n",
       "wQwAAAAAAADAEg1mAAAAAAAAAJZoMAMAAAAAAACwRIMZAAAAAAAAgCUazAAAAAAAAAAs0WAGAAAA\n",
       "AAAAYIkGMwAAAAAAAABLNJgBAAAAAAAAWKLBDAAAAAAAAMCSx58ugH+aM8zawqxaOc6ZOcOxbnFt\n",
       "F3bZ2XYeZdqlp0dZW72sSu0d/SfpbuqZT5AwL993r1lbfQ/KvPOMazu6R+h6/zjD348e8bPWEd6G\n",
       "PaztONvf3JbXbY+3jz08mMusn7zuPqRZRzs/9uPeZe1d1szM+93tbfur/dTwWdb2fGZZMzOP50eW\n",
       "df98ZVm3j3eWNTNze3R52709/bZbmFd/Zgj3yvNoizvDPeQI1/z+bPeP/fmZZb3DrJmZd3jdyj28\n",
       "znuFc+0dnqM/ed05/47X6Dt9bsui8rwr11a+v9TvpEf4vlxmzcTv8vEb83nhbyBX/bp44c+x/wX3\n",
       "IJSXds2x+gczAAAAAAAAAEs0mAEAAAAAAABYosEMAAAAAAAAwBINZgAAAAAAAACWaDADAAAAAAAA\n",
       "sESDGQAAAAAAAIAlGswAAAAAAAAALNFgBgAAAAAAAGCJBjMAAAAAAAAASzSYAQAAAAAAAFiiwQwA\n",
       "AAAAAADAEg1mAAAAAAAAAJZoMAMAAAAAAACw5PGnC+D6zjBrC7Paymbq6lrhWM94nFt9H67puutg\n",
       "Zs6ji7rw9Khry7eQSHc3uY52spVr4QxrO+PzoKztqO/BGV63eNGXIz3O9reoRzh5j3CgZV113h6f\n",
       "VXtaW3vd9qObb/vR1fYO6/rJu3dZe5c1M/N+d58HyqyfvI8s6+Ozy5qZ+Xg+s6zH5zvLun90WTMz\n",
       "t0eXd7u3h992C/Mu/H57xvvRuXd5x7vbj/Z6/3h2a/793e4fz+evMOszy5qZeb66sT7DPfwZzrWZ\n",
       "mWd4lr7CM/4nr1ujr/i5/p0+a8XPlOE2ftWsmZkjfCet35eP8MvWkX9nCL+hxl/w0u8z6YeGeJzh\n",
       "3M2ltf0zxukfzAAAAAAAAAAs0WAGAAAAAAAAYIkGMwAAAAAAAABLNJgBAAAAAAAAWKLBDAAAAAAA\n",
       "AMASDWYAAAAAAAAAlmgwAwAAAAAAALBEgxkAAAAAAACAJRrMAAAAAAAAACzRYAYAAAAAAABgiQYz\n",
       "AAAAAAAAAEs0mAEAAAAAAABYosEMAAAAAAAAwBINZgAAAAAAAACWPP50AfyznGHWFmb9s5R3Yaa9\n",
       "E3Vt13TlOzDnUabNGRa3xReurO3KUze+o2laq66tzGtrSysLF9ZZj/PKtYV559nWdhwfXdZ5z7J+\n",
       "8rrftqZZWdJ/5IW3dA/HOTNzhIffnh6kbd47zWrvwfvo1tVrb9domffa208Nr3eX9/ns9smZmc/P\n",
       "zyzr8fHqsh7vLGtm5h7m3e7tzrvdurztdt3n3TPed889PEvDrD1c7zMz71eX93q1+8fz2e0f32HW\n",
       "zMzXK6wtvG7fe3sPvsPz6vtonxme4bp67u3+8Ty6vFe87b7DvDarHWiZt8e17Vt3Lu+zZ1kzM0eY\n",
       "d8RvksfZ1XaGtfXfU8rrVn/1vO63wKt+k/UPZgAAAAAAAACWaDADAAAAAAAAsESDGQAAAAAAAIAl\n",
       "GswAAAAAAAAALNFgBgAAAAAAAGCJBjMAAAAAAAAASzSYAQAAAAAAAFiiwQwAAAAAAADAEg1mAAAA\n",
       "AAAAAJZoMAMAAAAAAACwRIMZAAAAAAAAgCUazAAAAAAAAAAs0WAGAAAAAAAAYMnjTxcA/6fOOG9L\n",
       "E7cw6+LO8Lpt9XWrZ8k1XXrmnkcXFRe3hRcurS2ftl1gdzd/lNvHWd7QmfQnePUtPdPEcg/vR5ol\n",
       "xbWd4Woos2ZmjnBhHedHljUzc8w9zOoc8el3hIfCHi+rPaztfba/VS7H+j7Kcbbz43V0163M+snr\n",
       "1uhzbz81/Hp3eb9eryxrZubz9c6yPh5dbR+Prq6Zmft9v2TWzMzt1m0g2xY/8YZbyBnvR2e4Vx7h\n",
       "/vF+d1kzM++9y3u92mej57vL+45r+wrzfofj/B2eBzMzX2HeVzjXZma+wnP+Ga73Ou/ZHgnzDLfx\n",
       "19GdL+/yA8jMvMM3ove0N6HM26d9ntnD2o64tvLbwFF+swi/7f5HYpcUr6v2C179HeqatfkHMwAA\n",
       "AAAAAABLNJgBAAAAAAAAWKLBDAAAAAAAAMASDWYAAAAAAAAAlmgwAwAAAAAAALBEgxkAAAAAAACA\n",
       "JRrMAAAAAAAAACzRYAYAAAAAAABgiQYzAAAAAAAAAEs0mAEAAAAAAABYosEMAAAAAAAAwBINZgAA\n",
       "AAAAAACWaDADAAAAAAAAsOTxpwuAqzjDrC1N+0n8Rzjj67aV162+p9d06Zl7HmXanGFxW3jhyrp+\n",
       "Ai88d8MLd9TDDKfbWU6QmZnbNe/pGe8g59bdhH9SbUeYd8T7x3l8ZFnlmj/O9je3Zd4eHwrldatr\n",
       "2497lvU+utre8ThfRzc/yqyZmefe3YPvMGtm5q939+ni16Pbi2ZmPl/vLuvRZX3cu6yZmft977Ju\n",
       "7XN9mbfVz20Xdob72x7uR3u8f7zDvNfefkZ9hnvbd1zbV1jb17vbd3+Hdc3M/B3Oj9/vdu5+7d26\n",
       "KrNmZr7DbfzZHgnz7I6reYUPz6/4m9Y7zHtv4UWbmX3rnkHKrJmZfbq8Y9rrVuadZ5hVfiCbmTOc\n",
       "u/X3lPLL+D+lNv9gBgAAAAAAAGCJBjMAAAAAAAAASzSYAQAAAAAAAFiiwQwAAAAAAADAEg1mAAAA\n",
       "AAAAAJZoMAMAAAAAAACwRIMZAAAAAAAAgCUazAAAAAAAAAAs0WAGAAAAAAAAYIkGMwAAAAAAAABL\n",
       "NJgBAAAAAAAAWKLBDAAAAAAAAMASDWYAAAAAAAAAlmgwAwAAAAAAALDk8acLgP+JzjhvSxO3MOvi\n",
       "zvC6beV1q2fIdV165p5HFxUWt8XTo6ztHzR150gHG1+4o9zbuqzzVk+QsLZ4YZ1T7h9tbccW1lae\n",
       "o3HeUWYd7StRdwdm9rP9PfAeHgrveMnvYd47vG6v9CCdeR1d3vNo58d3mFdmzcx83+9Z1q93u+Y/\n",
       "7/slsz7CrJmZx63Lu9/KnXLmHp59W3wup6+RsSPc38qsPd4/3nu3f7yOLmtm5hnW9tzbve0rrC3N\n",
       "erf34HdY2997O3d/7926+mqPhDTvO67tGb4vP4/ufHmG36BmZl7TXbjXvLOsmZl3mLfHtR1h3nHG\n",
       "tYV559nNjyPMmmm/p5TfdmdmzjIv/p5yVf7BDAAAAAAAAMASDWYAAAAAAAAAlmgwAwAAAAAAALBE\n",
       "gxkAAAAAAACAJRrMAAAAAAAAACzRYAYAAAAAAABgiQYzAAAAAAAAAEs0mAEAAAAAAABYosEMAAAA\n",
       "AAAAwBINZgAAAAAAAACWaDADAAAAAAAAsESDGQAAAAAAAIAlGswAAAAAAAAALHn86QKA/29nmLWl\n",
       "aT+J/whneN22+prV9/SaLj1zz6OLiqfHFl64S8+0Cy+rbnZc23nEMyScvOetvgthbeUinZkznHF1\n",
       "bUdYW5pVnvEzc4RrYT/vWdbMzHF2vy/e4wNrP7q8d7jk32FdP3ndPX0e7d72DMf63Nvfsn/fu+v2\n",
       "Kz4TPu97lvUR1vZx6+qamXmEtZVZMzO38Lwqs2au/bZcHn9HeCbs4Vk1M/M+urxXmPWT1+1t33v7\n",
       "zPAMx/oVnglf8Ti/9m7u/o7Pvq9wG//dHglpbd/xe+R3+Hz0DL/1PM/2Jjy3d5b12l5Z1k/eM8t6\n",
       "T5c1M7NPN9Z9unswM3OEc+SYLusM10GdV37/+N+J18yq88Jn5ywJAAAAAAAAgP/RNJgBAAAAAAAA\n",
       "WKLBDAAAAAAAAMASDWYAAAAAAAAAlmgwAwAAAAAAALBEgxkAAAAAAACAJRrMAAAAAAAAACzRYAYA\n",
       "AAAAAABgiQYzAAAAAAAAAEs0mAEAAAAAAABYosEMAAAAAAAAwBINZgAAAAAAAACWaDADAAAAAAAA\n",
       "sESDGQAAAAAAAIAljz9dAPDf64zztjRxC7Mu7IzvwlZet3qGXNdlZ+55lGlzhsW1633mrNdC6Ny6\n",
       "2rZ8nF3eedGs2nnEczecH+fUa77LO/4htR3x3D3CfXw/29e1I8zbz/a3yvuty3uHh98r3tpe4bJ6\n",
       "Hu09eIZ75fetfa7/FY7189be1M/93mXdugnyCLNmZh7h2VfXdgtru8VnQvqqFisfUY/wjeg42ov2\n",
       "Ds+rd7zvvsLz6rnXZ0KX9x1mfe3t/PgO877arW2+9mtm/eR1G8jX3l6476PL+z67C/fcXlnWT94z\n",
       "y3qFWTMz7+ny9mmv2352ecf5zrJmZs4w7wzn7jntBtJ+A4m/WVz5G9lFv6H6BzMAAAAAAAAASzSY\n",
       "AQAAAAAAAFiiwQwAAAAAAADAEg1mAAAAAAAAAJZoMAMAAAAAAACwRIMZAAAAAAAAgCUazADw/7Zv\n",
       "d7kNI0kWRoOSXLP/3ZYtiTkPrgbmqZCN+Rpmtc9ZwEXkD8kkQwIAAAAAALZoMAMAAAAAAACwRYMZ\n",
       "AAAAAAAAgC0azAAAAAAAAABs0WAGAAAAAAAAYIsGMwAAAAAAAABbNJgBAAAAAAAA2PL46QKAf7YV\n",
       "Zh1p2nfir7DCeTvqOavX9JpWOs72t1/HOrOsle+PULzVyvtRfRV0K1rfJeuRlmtw5VVoayvHuo5y\n",
       "nDMrnLczrK2sa2bmnHeW9Z4/sqyZmTM8M7zOe5Y1M/NaXd5rdc/S19neKV/3Lu+r3brzFY7189bO\n",
       "2/+c3d79I/6Z/cetC/w4unF+3NoN8ghru9/aZ1+5pLdwnDPXfiMtR1pmvVc7a2Ve/kwIa/s625tb\n",
       "+Uz46o5GaV0zM59hbZ/xc/nPsrZ3e2/78+wG+xlmzcz8uV5Z1ufxzLK+5ivLmpl5hnmvuLYy77Xa\n",
       "2t6rW9Mz3Gsz7XvkubqsFX5XrPNW+U18ZiYd63W/kZVZ/sEMAAAAAAAAwBYNZgAAAAAAAAC2aDAD\n",
       "AAAAAAAAsEWDGQAAAAAAAIAtGswAAAAAAAAAbNFgBgAAAAAAAGCLBjMAAAAAAAAAWzSYAQAAAAAA\n",
       "ANiiwQwAAAAAAADAFg1mAAAAAAAAALZoMAMAAAAAAACwRYMZAAAAAAAAgC0azAAAAAAAAABsefx0\n",
       "AQD/suK8I008wqwLW/0qdFF1baVyf5xh1swKaztW/Lu0oxtrvjuufPtIr9Mu6+xXIbPy2rq8urYy\n",
       "b9X3o/A+XtZ2Hu8sq857r3YN3uG8vddHlvWd1+2P17qHWe2z77m6h8Ift7a2r3C7/REfGT7Pct6y\n",
       "qJmZ+Ti62h637jp4xPvjEd7D7/G5/haetep/YRyXfofpnOG97Yyn7B3W9o5re4W1PcP75Hdel1U+\n",
       "X8qsmZmv8Bj4Wdd2doGf8YX1eXYT97nas/jn8eyy5qvLOrqsmZmv4zPLek6XNTPzCuftPd16zsyc\n",
       "q8s71yvLqvPK9+U17TVafvesv1m0HwOv+62n5B/MAAAAAAAAAGzRYAYAAAAAAABgiwYzAAAAAAAA\n",
       "AFs0mAEAAAAAAADYosEMAAAAAAAAwBYNZgAAAAAAAAC2aDADAAAAAAAAsEWDGQAAAAAAAIAtGswA\n",
       "AAAAAAAAbNFgBgAAAAAAAGCLBjMAAAAAAAAAWzSYAQAAAAAAANiiwQwAAAAAAADAFg1mAAAAAAAA\n",
       "ALY8froAgP+UFWYdcdrvEc7biuftKNf0d1hzpnnHCn/ndrS1pVf8avdaeilc+DI4w+LqNSjvHyu+\n",
       "F5V5q76ubl1tZ3g/OvP7R5f3jms7551lvcOsmZnXfHRZK8w671nWzMwzfPY9z/b+8bx1tX3FP2X/\n",
       "OLuH30ddW/hcfty6sEd8dL6Htd3j2m7hmSEc5sxc+82vvIOUWWf83lfeKt/xkfIV5r3aI8M8w7xn\n",
       "OM6yrpmZr3CDlFnfed1gv1Z7bvsM876OZ5Y1M/M5X1nW1/GZZT3DrJmZ5/yZZb2mre29ujV4r3Z/\n",
       "vNcryzrDrO+87roqs9aK35fLvLq29Dt2/cHtmic3/2AGAAAAAAAAYIsGMwAAAAAAAABbNJgBAAAA\n",
       "AAAA2KLBDAAAAAAAAMAWDWYAAAAAAAAAtmgwAwAAAAAAALBFgxkAAAAAAACALRrMAAAAAAAAAGzR\n",
       "YAYAAAAAAABgiwYzAAAAAAAAAFs0mAEAAAAAAADYosEMAAAAAAAAwBYNZgAAAAAAAAC2PH66AIB/\n",
       "ghVmHWnad+LvEM/bCuftaHdIq95vnTVnlnWU6zmTLsOK17TcbisNq/faPc7rnL/kuqrvH+vsaltH\n",
       "mDXvLGtmZh1d3hnXdh6vLOsdjnNm5r26vHc4b6/1kWV953X3tufR3ie/Vvf784+z/S37x9E9Sz9u\n",
       "7XP5EeY9wtLu8dGozKtru4X7I4z6zmvjLqs8MdRHyneYd8a1vcK8cpwzM8/wSPkKJ+4Zb5BneD79\n",
       "WuU5fOYZ5n1Ndwacmfk6npfM+s77zLKec82smZlXmPdabW3v9ZVlnavdH+fqroUya2Zmhe9DbVZ7\n",
       "b7vyN4u5dG3X5B/MAAAAAAAAAGzRYAYAAAAAAABgiwYzAAAAAAAAAFs0mAEAAAAAAADYosEMAAAA\n",
       "AAAAwBYNZgAAAAAAAAC2aDADAAAAAAAAsEWDGQAAAAAAAIAtGswAAAAAAAAAbNFgBgAAAAAAAGCL\n",
       "BjMAAAAAAAAAWzSYAQAAAAAAANiiwQwAAAAAAADAFg1mAAAAAAAAALY8froAgN9mxXlHmniEWVcX\n",
       "ztsK5+3od0inrq2Tz9o6y7Qw67rbrazrOzDMiq+rtcq8trZjyr0bz1tY2wprK+uq8864tvN4d1nT\n",
       "Zc3MvI9XlzV/ZFnPsK6Zmef6yLI+Vvs6/7HuXdbRZc3MfIS/jX+c7QPrcXR591uYFdb1nRdmxWej\n",
       "cqjhEszM73m7Kk8MZ3ywL/PO9Aw48w7j3nFtrzCvzHqm72kzrzDvGZ+NvsIzyHPi88zxdcmsmZnn\n",
       "hLXNZ5b1CrNmZt6rG2eZ9Z337LLOLmtm5lzdtVBmzcysVd5Dyntle9+d8L5bv8tP+Lwqv1n8K7GL\n",
       "6rL8gxkAAAAAAACALRrMAAAAAAAAAGzRYAYAAAAAAABgiwYzAAAAAAAAAFs0mAEAAAAAAADYosEM\n",
       "AAAAAAAAwBYNZgAAAAAAAAC2aDADAAAAAAAAsEWDGQAAAAAAAIAtGswAAAAAAAAAbNFgBgAAAAAA\n",
       "AGCLBjMAAAAAAAAAWzSYAQAAAAAAANjy+OkCAPj/WWHWkabVjp8u4G+E87bicR5XXtPraq+r2Dq7\n",
       "qLC4Y7V7baWrcN3r4Ixra+/j8ZqGe2SF97Z1dNfUd947yzrDrJmZc15Z1vvosmZm3mltzyzrMX9k\n",
       "WTMzr/noso4ua2bmubq8x7pnWTMzj+nyHqv9nf3j6PLuZ5h1tCeQMq/+p8MtrK0+t135DaZ03dPH\n",
       "zBmeP9oTw8w7rK3Mmpl5h6N9he8vr3gVXuFZ6xmeZWZmnuF55jVd1szM8/jKsl7TZdV573Xdcb5X\n",
       "t6bn2e6PtLbVXldl3lrtu9qaLq+srR9neR+vTw1XPtFc87uWfzADAAAAAAAAsEWDGQAAAAAAAIAt\n",
       "GswAAAAAAAAAbNFgBgAAAAAAAGCLBjMAAAAAAAAAWzSYAQAAAAAAANiiwQwAAAAAAADAFg1mAAAA\n",
       "AAAAALZoMAMAAAAAAACwRYMZAAAAAAAAgC0azAAAAAAAAABs0WAGAAAAAAAAYIsGMwAAAAAAAABb\n",
       "Hj9dAADXseK8I027dnWdeJwrHGc+ZfWaXtOVR3msM8tax1Wvqbn27WPVxXV5Z1zbcXR5a8K9G2bV\n",
       "ebe8tneWdYZZ33mvLOt9fGRZr3lmWTMzj+OPLOs13ThnZu7h54FHuAYzM4/V1Xafe5Y1M/NY3e/2\n",
       "y9pu5RlwZu7h/xNu8ZmhTLtd9h2hP4pf9Yxa13Ve+Gx0hs/5dzxz77K2ozszvOLzx+vozh/1meF1\n",
       "dHl1be/5yrLy2lZX23t1tZ1h1szMe3V7t67tTGtrr/kV1la+W83MrHCs7Ttu/2TOxM/llY71qiet\n",
       "ln8wAwAAAAAAALBFgxkAAAAAAACALRrMAAAAAAAAAGzRYAYAAAAAAABgiwYzAAAAAAAAAFs0mAEA\n",
       "AAAAAADYosEMAAAAAAAAwBYNZgAAAAAAAAC2aDADAAAAAAAAsEWDGQAAAAAAAIAtGswAAAAAAAAA\n",
       "bNFgBgAAAAAAAGCLBjMAAAAAAAAAWzSYAQAAAAAAANjy+OkCAPjvtcKsI8z6du3qOuE4yymbmTnK\n",
       "eauLK+UTlyWtMOtY8XUQxq14DY7V5a0j3h8Xrq2ctyNd03aca51d1vHOsuq8W1zbeby6rOmy3vPM\n",
       "smZm3keX95qPLGtm5n50nwfuV65t3bOsmbq27j8At2nHeQv/n3CLz8638Axy5Of6srZW/PS7YNJf\n",
       "eeF55jy6Z/zMzDld3jvMmpk5w+f8e8Ks8LwwM/NKzwxtbeUZJD/PrOvWdq7wTFmOM6xrph5nW9ta\n",
       "3TVfZs3MrPB+1NcW3sfLd9L4+ZJ+s6hru/K3xYuW5h/MAAAAAAAAAGzRYAYAAAAAAABgiwYzAAAA\n",
       "AAAAAFs0mAEAAAAAAADYosEMAAAAAAAAwBYNZgAAAAAAAAC2aDADAAAAAAAAsEWDGQAAAAAAAIAt\n",
       "GswAAAAAAAAAbNFgBgAAAAAAAGCLBjMAAAAAAAAAWzSYAQAAAAAAANiiwQwAAAAAAADAlsdPFwAA\n",
       "O9ZPF/A3jrS6I8y6uHXheTsuXNtFr4a6qmOdZVqYNbPKuPQ6mGlX4sq1dfvjTPfazHF0eSscZ513\n",
       "rneWNTNzO7q883hlWbejfWV+zzPLusev8+VYb3Ft5VjrNb3NPcu6H11WWdfMzG11/0844v86HEf3\n",
       "YD7iM0Odd13dM37F548y74yfy2d4Zshrm/C5HGa9p3vGz8ycYV5e2+ryynHOzLxXd54px1nnlefd\n",
       "epyrvEbjc/0K88pxfgeG72rxe2T5jpu+R8bjbJ/zV/5m8Ttq8w9mAAAAAAAAALZoMAMAAAAAAACw\n",
       "RYMZAAAAAAAAgC0azAAAAAAAAABs0WAGAAAAAAAAYIsGMwAAAAAAAABbNJgBAAAAAAAA2KLBDAAA\n",
       "AAAAAMAWDWYAAAAAAAAAtmgwAwAAAAAAALBFgxkAAAAAAACALRrMAAAAAAAAAGzRYAYAAAAAAABg\n",
       "iwYzAAAAAAAAAFseP1v7PYsAAAXISURBVF0AAPzTrTDrSNNqx08X8DfieVvhWI8rr+l1rfjKKqVL\n",
       "erS1lfN2rHbvtmvaZbV1zRxzhlnvLGtmZq17lnUcXdbMzArHeobjvB2vLGumnbd3vAa31X0euNW1\n",
       "Tbmm7WeQo6wt/A9AOWczM8fR1XbE/3U4wud8mfWfyLuq+sTQppVnhu4ZPzNzhnl9beFzOX3Gx2ej\n",
       "6Z7zdW3nlWsL887VnrXaM2WXteq9W9YW3z+uXNus6953p8wL3+X7cV7zu0Ce90s+BfoHMwAAAAAA\n",
       "AABbNJgBAAAAAAAA2KLBDAAAAAAAAMAWDWYAAAAAAAAAtmgwAwAAAAAAALBFgxkAAAAAAACALRrM\n",
       "AAAAAAAAAGzRYAYAAAAAAABgiwYzAAAAAAAAAFs0mAEAAAAAAADYosEMAAAAAAAAwBYNZgAAAAAA\n",
       "AAC2aDADAAAAAAAAsOWYeayfLgIAuL7jH5D4O4Tzli7Bldezrq3Ma2s70v1Rz1v329Z2nO1vbo/0\n",
       "N7xxbeFY23HGtR33LisfZ1fbLcyaacfa1xauaXzN3y5aW753y3t4ft/tngnp8+WvRP49a+rPlF3e\n",
       "WmeWNdOOdU1b2znvLKuctxXWNTNzrnCc9RqUtYVZM9eet3Ks5X7L7x9pXn1vC/Py+26ZFz+v0ntl\n",
       "Wdt1n8t9baF13drK/eEfzAAAAAAAAABs0WAGAAAAAAAAYIsGMwAAAAAAAABbNJgBAAAAAAAA2KLB\n",
       "DAAAAAAAAMAWDWYAAAAAAAAAtmgwAwAAAAAAALBFgxkAAAAAAACALRrMAAAAAAAAAGzRYAYAAAAA\n",
       "AABgiwYzAAAAAAAAAFs0mAEAAAAAAADYosEMAAAAAAAAwJZj5rF+uggAgP+P4x+Q+N8vnrM07srr\n",
       "WddW5rW1HWXeceVxlr/hra+rrrZ2nDNHuqbhOMM5m5k55t5l5bVded7U9m9n1ddoeg+/cG35M4F/\n",
       "15rrfqZcc7Z5qxxrXFu4Dmt1tdVrcK53llWOc6Yd65Vrm3ANZq48b7/p/lHmxc+EcN7q+1E+1kxd\n",
       "V5iXT9lV12CmrK0cpX8wAwAAAAAAALBFgxkAAAAAAACALRrMAAAAAAAAAGzRYAYAAAAAAABgiwYz\n",
       "AAAAAAAAAFs0mAEAAAAAAADYosEMAAAAAAAAwBYNZgAAAAAAAAC2aDADAAAAAAAAsEWDGQAAAAAA\n",
       "AIAtGswAAAAAAAAAbNFgBgAAAAAAAGCLBjMAAAAAAAAAWzSYAQAAAAAAANhyzDzWTxcBAPDf6vjp\n",
       "Av7Wtau7rOPK8/ZbauuyjnzOwrx8r5XzVv9WuZy3rrZ+f4S15fujrK3dH+06xLVddb/F+6O85vvr\n",
       "qhTP26XPDKXu0+LKv1KGtYVZ/0rMkvKJK+ft7LLycYa1hVkz9Vjr2sq8dk3TdQjHeeX7RznOvwLD\n",
       "pAvPW15bqdwfXdR/KPCi6nvbNfkHMwAAAAAAAABbNJgBAAAAAAAA2KLBDAAAAAAAAMAWDWYAAAAA\n",
       "AAAAtmgwAwAAAAAAALBFgxkAAAAAAACALRrMAAAAAAAAAGzRYAYAAAAAAABgiwYzAAAAAAAAAFs0\n",
       "mAEAAAAAAADYosEMAAAAAAAAwBYNZgAAAAAAAAC2aDADAAAAAAAAsOWYeayfLgIAAP6v46cL+FvX\n",
       "ru6yjqvO21XrmulrK/Pa2o4yL91r112DdM7+Suyi2t+yt2ON9+5l99uFr9F67172+TLTXvPX1X5Y\n",
       "vPBnylXX1uX1s1YmnlnSuvQaxLWlY+3WYKYe63XXtFyDfH/8ljXIlfuji/oPBf4Cv+YEcln+wQwA\n",
       "AAAAAADAFg1mAAAAAAAAALZoMAMAAAAAAACwRYMZAAAAAAAAgC0azAAAAAAAAABs0WAGAAAAAAAA\n",
       "YIsGMwAAAAAAAABbNJgBAAAAAAAA2KLBDAAAAAAAAMAWDWYAAAAAAAAAtmgwAwAAAAAAALBFgxkA\n",
       "AAAAAACALRrMAAAAAAAAAGz5X8lCQhcuVdseAAAAAElFTkSuQmCC\n",
       "\" transform=\"translate(169, 47)\"/>\n",
       "</g>\n",
       "<defs>\n",
       "  <clipPath id=\"clip523\">\n",
       "    <rect x=\"2160\" y=\"47\" width=\"73\" height=\"1440\"/>\n",
       "  </clipPath>\n",
       "</defs>\n",
       "<g clip-path=\"url(#clip523)\">\n",
       "<image width=\"72\" height=\"1439\" xlink:href=\"data:image/png;base64,\n",
       "iVBORw0KGgoAAAANSUhEUgAAAEgAAAWfCAYAAAAI7rB3AAAMWUlEQVR4nO3dwY0rRxAFwaZQ/lsh\n",
       "L6XfLQtUeSQPERYsEg8c9MyQ+/n3/v0O/+uvb/8Bv06gIFAQKAgU5r5/v/03/DQLCgIFgYJAQaAw\n",
       "7/359t/w0ywoCBQECgIFR41gQUGgIFAQKAgU5rmKrSwoCBQECgIFgcK86yq2saAgUBAoCBQcNYIF\n",
       "BYGCQEGgIFBwFQsWFAQKAgWBgvtBwYKCQEGgIFAQKMxx1FhZUBAoCBQECgIFN8yCBQWBgkBBoDDH\n",
       "DbOVBQWBgkBBoCBQmHP/+fbf8NMsKAgUBAoCBYGCxz7BgoJAQaAgUHDDLFhQECgIFAQKAgVXsWBB\n",
       "QaAgUBAouB8ULCgIFAQKAgWBwnwcNVYWFAQKAgWBgkBhzvWfWTYWFAQKAgWBgqNGsKAgUBAoCBQE\n",
       "Co4awYKCQEGgIFAQKHjDLFhQECgIFAQK83HUWFlQECgIFAQKAgXvSQcLCgIFgYJAwVEjWFAQKAgU\n",
       "BAoCBc/mgwUFgYJAQaAgUHAWCxYUBAoCBYGCo0awoCBQECgIFAQKjhrBgoJAQaAgUBAozLn323/D\n",
       "T7OgIFAQKAgUHDWCBQWBgkBBoCBQ8NgnWFAQKAgUBAo+pIMFBYGCQEGgIFCYj6caKwsKAgWBgkBB\n",
       "oOAsFiwoCBQECgIFL1AFCwoCBYGCQEGg4IZZsKAgUBAoCBTcDwoWFAQKAgWBgkDBDbNgQUGgIFAQ\n",
       "KAgUXMWCBQWBgkBBoOB788GCgkBBoCBQECg4agQLCgIFgYJAQaDgKhYsKAgUBAoCBR/SwYKCQEGg\n",
       "IFAQKLiKBQsKAgWBgkBhzvMhvbGgIFAQKAgUBAqOGsGCgkBBoCBQECi4igULCgIFgYJAwYd0sKAg\n",
       "UBAoCBQECnPu+/bf8NMsKAgUBAoCBYGCs1iwoCBQECgIFBw1ggUFgYJAQaAgUHDUCBYUBAoCBYGC\n",
       "o0awoCBQECgIFAQKc5w0VhYUBAoCBYGCQGHOcxbbWFAQKAgUBAqOGsGCgkBBoCBQECi4igULCgIF\n",
       "gYJAQaAwfohzZ0FBoCBQECg4agQLCgIFgYJAQaDgKhYsKAgUBAoChTn38+2/4adZUBAoCBQECgKF\n",
       "ec9VbGNBQaAgUBAoCBTcMAsWFAQKAgWBghtmwYKCQEGgIFAQKMy7Gm3UCQIFgYJAwVEjWFAQKAgU\n",
       "BAoChTmeza8sKAgUBAoCBYHCPGexlQUFgYJAQaAwx1ONlTpBoCBQECgIFBw1ggUFgYJAQaAgUPDY\n",
       "J1hQECgIFAQKXgMO6gSBgkBBoCBQ8J50sKAgUBAoCBQ81QgWFAQKAgWBgkBh3tNoo04QKAgUBAoC\n",
       "BTfMggUFgYJAQaDghlmwoCBQECgIFAQKc9wwW6kTBAoCBYGCQMFZLFhQECgIFAQKPqSDBQWBgkBB\n",
       "oCBQ8L35YEFBoCBQECj43nxQJwgUBAoCBYHCPEeNlQUFgYJAQaAgUPDYJ1hQECgIFAQK/jNLUCcI\n",
       "FAQKAgWBghtmwYKCQEGgIFAQKLhhFiwoCBQECgIFR41gQUGgIFAQKAgUvCcd1AkCBYGCQMFRI1hQ\n",
       "ECgIFAQKAgVPNYIFBYGCQEGgIFBwFgsWFAQKAgWBgn+fFSwoCBQECgIFgYJ/ZRzUCQIFgYJAQaDg\n",
       "hlmwoCBQECgIFDybDxYUBAoCBYGCQMFRI1hQECgIFAQKc31IrywoCBQECgIFgYLvzQd1gkBBoCBQ\n",
       "ECi4YRYsKAgUBAoCBR/SwYKCQEGgIFAQKHjDLFhQECgIFAQKjhrBgoJAQaAgUBAouIoFCwoCBYGC\n",
       "QEGg4NdfgjpBoCBQECjM9VRjZUFBoCBQECgIFNwwCxYUBAoCBYGCQMFVLFhQECgIFAQKPqSDBQWB\n",
       "gkBBoCBQ8BtmwYKCQEGgIFBw1AgWFAQKAgWBgkDBVSxYUBAoCBQECgIFX2YJ6gSBgkBBoODLLMGC\n",
       "gkBBoCBQECi4YRYsKAgUBAoCBYGCq1iwoCBQECgIFLwGHCwoCBQECgIFgYKjRrCgIFAQKAgU5h0f\n",
       "0hsLCgIFgYJAQaDghlmwoCBQECgIFAQKbpgFCwoCBYGCQMFRI1hQECgIFAQKAgVHjWBBQaAgUBAo\n",
       "CBScxYIFBYGCQEGg4KgRLCgIFAQKAgWBgqtYsKAgUBAoCBTm+jLLyoKCQEGgIFAQKDhqBAsKAgWB\n",
       "gkBBoODZfLCgIFAQKAgU5r1v/wm/zYKCQEGgIFAQKDhqBAsKAgWBgkDBD00GCwoCBYGCQEGg4KgR\n",
       "LCgIFAQKAgWBgjfMggUFgYJAQaDgyyzBgoJAQaAgUBAoeMMsWFAQKAgUBAoCBY99ggUFgYJAQaDg\n",
       "qUawoCBQECgIFAQKHvsECwoCBYGCQMH9oGBBQaAgUBAoCBQ8mw8WFAQKAgWBgkDBDbNgQUGgIFAQ\n",
       "KHg2HywoCBQECgIFgcLcb/8FP86CgkBBoCBQECg4iwULCgIFgYJAwRtmwYKCQEGgIFAQKLhhFiwo\n",
       "CBQECgIF94OCBQWBgkBBoCBQcNQIFhQECgIFgYJAwVksWFAQKAgUBAqezQcLCgIFgYJAQaAwfvxl\n",
       "Z0FBoCBQECgIFJzFggUFgYJAQaDg2XywoCBQECgIFAQKns0HCwoCBYGCQMFRI1hQECgIFAQKAgVH\n",
       "jWBBQaAgUBAoCBTmesVsZUFBoCBQECi4YRYsKAgUBAoCBYGCG2bBgoJAQaAgUHDUCBYUBAoCBYGC\n",
       "QGGepxorCwoCBYGCQEGgMPe4YbaxoCBQECgIFLxAFSwoCBQECgIFgYIfmgwWFAQKAgWBgkDBD00G\n",
       "CwoCBYGCQMGz+WBBQaAgUBAoCBS8Jx0sKAgUBAoCBd84DBYUBAoCBYGCQMFRI1hQECgIFAQKAgXv\n",
       "SQcLCgIFgYJAwWvAwYKCQEGgIFAQKDhqBAsKAgWBgkBBoOA96WBBQaAgUBAo+ImuYEFBoCBQECgI\n",
       "FNwwCxYUBAoCBYGCZ/PBgoJAQaAgUBAoOGoECwoCBYGCQEGg4CwWLCgIFAQKAgVHjWBBQaAgUBAo\n",
       "CBRcxYIFBYGCQEGgIFBwwyxYUBAoCBQECo4awYKCQEGgIFAQKDhqBAsKAgWBgkDBUSNYUBAoCBQE\n",
       "CgIFP9EVLCgIFAQKAgWBgv8vFiwoCBQECgIFN8yCBQWBgkBBoCBQmHdcxjYWFAQKAgWBgkDBWSxY\n",
       "UBAoCBQECp7NBwsKAgWBgkBBoODZfLCgIFAQKAgU3A8KFhQECgIFgYJAwbP5YEFBoCBQECgIFJzF\n",
       "ggUFgYJAQaDgJ7qCBQWBgkBBoCBQmOsVs5UFBYGCQEGg4AWqYEFBoCBQECgIFOY5aqwsKAgUBAoC\n",
       "BYGCs1iwoCBQECgIFDzVCBYUBAoCBYGCQMEbZsGCgkBBoCBQECjM9ZXMlQUFgYJAQaDghlmwoCBQ\n",
       "ECgIFAQKfv0lWFAQKAgUBApeoAoWFAQKAgWBgkDBU41gQUGgIFAQKAgU3DALFhQECgIFgcLc45bZ\n",
       "xoKCQEGgIFAQKLhhFiwoCBQECgIFgYKrWLCgIFAQKAgUPNUIFhQECgIFgYJAwWOfYEFBoCBQECjM\n",
       "/ThqbCwoCBQECgIFgYKjRrCgIFAQKAgUBArzXMVWFhQECgIFgYKjRrCgIFAQKAgUBApzP65iGwsK\n",
       "AgWBgkBBoOAsFiwoCBQECgIFTzWCBQWBgkBBoCBQcNQIFhQECgIFgYIP6WBBQaAgUBAoCBQ8mw8W\n",
       "FAQKAgWBgkBh3vnz7b/hp1lQECgIFAQKbpgFCwoCBYGCQEGg4A2zYEFBoCBQECjMfe4HbSwoCBQE\n",
       "CgIFgYKjRrCgIFAQKAgUBApzPZtfWVAQKAgUBAqOGsGCgkBBoCBQECg4agQLCgIFgYJAQaAw7zmL\n",
       "bSwoCBQECgIFN8yCBQWBgkBBoCBQ8J50sKAgUBAoCBQcNYIFBYGCQEGgIFCY56ixsqAgUBAoCBQE\n",
       "Cs5iwYKCQEGgIFCY6wWqlQUFgYJAQaAgUPCb9sGCgkBBoCBQECj4MkuwoCBQECgIFDzVCBYUBAoC\n",
       "BYGCQMFRI1hQECgIFAQKPqSDBQWBgkBBoCBQ8Gw+WFAQKAgUBAoCBWexYEFBoCBQECjM8Wx+ZUFB\n",
       "oCBQECgIFBw1ggUFgYJAQaAgUPCedLCgIFAQKAgU5jhqrCwoCBQECgIFgYI3zIIFBYGCQEGg4Nl8\n",
       "sKAgUBAoCBQECm6YBQsKAgWBgkBBoDDvvG//DT/NgoJAQaAgUHDDLFhQECgIFAQKAoU5jhorCwoC\n",
       "BYGCQOE/LrLuTX/wFc8AAAAASUVORK5CYII=\n",
       "\" transform=\"translate(2161, 47)\"/>\n",
       "</g>\n",
       "<path clip-path=\"url(#clip520)\" d=\"M2280.7 1468.62 Q2277.09 1468.62 2275.26 1472.18 Q2273.45 1475.72 2273.45 1482.85 Q2273.45 1489.96 2275.26 1493.53 Q2277.09 1497.07 2280.7 1497.07 Q2284.33 1497.07 2286.14 1493.53 Q2287.97 1489.96 2287.97 1482.85 Q2287.97 1475.72 2286.14 1472.18 Q2284.33 1468.62 2280.7 1468.62 M2280.7 1464.91 Q2286.51 1464.91 2289.57 1469.52 Q2292.64 1474.1 2292.64 1482.85 Q2292.64 1491.58 2289.57 1496.19 Q2286.51 1500.77 2280.7 1500.77 Q2274.89 1500.77 2271.81 1496.19 Q2268.76 1491.58 2268.76 1482.85 Q2268.76 1474.1 2271.81 1469.52 Q2274.89 1464.91 2280.7 1464.91 Z\" fill=\"#000000\" fill-rule=\"evenodd\" fill-opacity=\"1\" /><path clip-path=\"url(#clip520)\" d=\"M2274.38 1272.59 L2290.7 1272.59 L2290.7 1276.52 L2268.76 1276.52 L2268.76 1272.59 Q2271.42 1269.83 2276 1265.2 Q2280.61 1260.55 2281.79 1259.21 Q2284.03 1256.68 2284.91 1254.95 Q2285.82 1253.19 2285.82 1251.5 Q2285.82 1248.74 2283.87 1247.01 Q2281.95 1245.27 2278.85 1245.27 Q2276.65 1245.27 2274.2 1246.03 Q2271.77 1246.8 2268.99 1248.35 L2268.99 1243.63 Q2271.81 1242.49 2274.27 1241.91 Q2276.72 1241.34 2278.76 1241.34 Q2284.13 1241.34 2287.32 1244.02 Q2290.52 1246.71 2290.52 1251.2 Q2290.52 1253.33 2289.7 1255.25 Q2288.92 1257.15 2286.81 1259.74 Q2286.23 1260.41 2283.13 1263.63 Q2280.03 1266.82 2274.38 1272.59 Z\" fill=\"#000000\" fill-rule=\"evenodd\" fill-opacity=\"1\" /><path clip-path=\"url(#clip520)\" d=\"M2300.56 1241.96 L2318.92 1241.96 L2318.92 1245.9 L2304.84 1245.9 L2304.84 1254.37 Q2305.86 1254.02 2306.88 1253.86 Q2307.9 1253.67 2308.92 1253.67 Q2314.7 1253.67 2318.08 1256.85 Q2321.46 1260.02 2321.46 1265.43 Q2321.46 1271.01 2317.99 1274.11 Q2314.52 1277.19 2308.2 1277.19 Q2306.02 1277.19 2303.76 1276.82 Q2301.51 1276.45 2299.1 1275.71 L2299.1 1271.01 Q2301.19 1272.15 2303.41 1272.7 Q2305.63 1273.26 2308.11 1273.26 Q2312.11 1273.26 2314.45 1271.15 Q2316.79 1269.04 2316.79 1265.43 Q2316.79 1261.82 2314.45 1259.72 Q2312.11 1257.61 2308.11 1257.61 Q2306.23 1257.61 2304.36 1258.03 Q2302.51 1258.44 2300.56 1259.32 L2300.56 1241.96 Z\" fill=\"#000000\" fill-rule=\"evenodd\" fill-opacity=\"1\" /><path clip-path=\"url(#clip520)\" d=\"M2270.21 1018.38 L2288.57 1018.38 L2288.57 1022.32 L2274.5 1022.32 L2274.5 1030.79 Q2275.52 1030.44 2276.53 1030.28 Q2277.55 1030.1 2278.57 1030.1 Q2284.36 1030.1 2287.74 1033.27 Q2291.12 1036.44 2291.12 1041.85 Q2291.12 1047.43 2287.64 1050.54 Q2284.17 1053.61 2277.85 1053.61 Q2275.68 1053.61 2273.41 1053.24 Q2271.16 1052.87 2268.76 1052.13 L2268.76 1047.43 Q2270.84 1048.57 2273.06 1049.12 Q2275.28 1049.68 2277.76 1049.68 Q2281.77 1049.68 2284.1 1047.57 Q2286.44 1045.47 2286.44 1041.85 Q2286.44 1038.24 2284.1 1036.14 Q2281.77 1034.03 2277.76 1034.03 Q2275.89 1034.03 2274.01 1034.45 Q2272.16 1034.86 2270.21 1035.74 L2270.21 1018.38 Z\" fill=\"#000000\" fill-rule=\"evenodd\" fill-opacity=\"1\" /><path clip-path=\"url(#clip520)\" d=\"M2310.33 1021.46 Q2306.72 1021.46 2304.89 1025.03 Q2303.08 1028.57 2303.08 1035.7 Q2303.08 1042.8 2304.89 1046.37 Q2306.72 1049.91 2310.33 1049.91 Q2313.96 1049.91 2315.77 1046.37 Q2317.6 1042.8 2317.6 1035.7 Q2317.6 1028.57 2315.77 1025.03 Q2313.96 1021.46 2310.33 1021.46 M2310.33 1017.76 Q2316.14 1017.76 2319.2 1022.36 Q2322.27 1026.95 2322.27 1035.7 Q2322.27 1044.42 2319.2 1049.03 Q2316.14 1053.61 2310.33 1053.61 Q2304.52 1053.61 2301.44 1049.03 Q2298.39 1044.42 2298.39 1035.7 Q2298.39 1026.95 2301.44 1022.36 Q2304.52 1017.76 2310.33 1017.76 Z\" fill=\"#000000\" fill-rule=\"evenodd\" fill-opacity=\"1\" /><path clip-path=\"url(#clip520)\" d=\"M2268.76 794.804 L2290.98 794.804 L2290.98 796.795 L2278.43 829.364 L2273.55 829.364 L2285.35 798.74 L2268.76 798.74 L2268.76 794.804 Z\" fill=\"#000000\" fill-rule=\"evenodd\" fill-opacity=\"1\" /><path clip-path=\"url(#clip520)\" d=\"M2300.14 794.804 L2318.5 794.804 L2318.5 798.74 L2304.43 798.74 L2304.43 807.212 Q2305.45 806.865 2306.46 806.703 Q2307.48 806.517 2308.5 806.517 Q2314.29 806.517 2317.67 809.689 Q2321.05 812.86 2321.05 818.277 Q2321.05 823.855 2317.58 826.957 Q2314.1 830.036 2307.78 830.036 Q2305.61 830.036 2303.34 829.665 Q2301.09 829.295 2298.69 828.554 L2298.69 823.855 Q2300.77 824.99 2302.99 825.545 Q2305.21 826.101 2307.69 826.101 Q2311.7 826.101 2314.03 823.994 Q2316.37 821.888 2316.37 818.277 Q2316.37 814.666 2314.03 812.559 Q2311.7 810.453 2307.69 810.453 Q2305.82 810.453 2303.94 810.869 Q2302.09 811.286 2300.14 812.166 L2300.14 794.804 Z\" fill=\"#000000\" fill-rule=\"evenodd\" fill-opacity=\"1\" /><path clip-path=\"url(#clip520)\" d=\"M2269.43 601.851 L2277.07 601.851 L2277.07 575.486 L2268.76 577.152 L2268.76 572.893 L2277.02 571.226 L2281.7 571.226 L2281.7 601.851 L2289.33 601.851 L2289.33 605.786 L2269.43 605.786 L2269.43 601.851 Z\" fill=\"#000000\" fill-rule=\"evenodd\" fill-opacity=\"1\" /><path clip-path=\"url(#clip520)\" d=\"M2308.78 574.305 Q2305.17 574.305 2303.34 577.87 Q2301.53 581.411 2301.53 588.541 Q2301.53 595.647 2303.34 599.212 Q2305.17 602.754 2308.78 602.754 Q2312.41 602.754 2314.22 599.212 Q2316.05 595.647 2316.05 588.541 Q2316.05 581.411 2314.22 577.87 Q2312.41 574.305 2308.78 574.305 M2308.78 570.601 Q2314.59 570.601 2317.64 575.208 Q2320.72 579.791 2320.72 588.541 Q2320.72 597.268 2317.64 601.874 Q2314.59 606.458 2308.78 606.458 Q2302.97 606.458 2299.89 601.874 Q2296.83 597.268 2296.83 588.541 Q2296.83 579.791 2299.89 575.208 Q2302.97 570.601 2308.78 570.601 Z\" fill=\"#000000\" fill-rule=\"evenodd\" fill-opacity=\"1\" /><path clip-path=\"url(#clip520)\" d=\"M2338.94 574.305 Q2335.33 574.305 2333.5 577.87 Q2331.7 581.411 2331.7 588.541 Q2331.7 595.647 2333.5 599.212 Q2335.33 602.754 2338.94 602.754 Q2342.57 602.754 2344.38 599.212 Q2346.21 595.647 2346.21 588.541 Q2346.21 581.411 2344.38 577.87 Q2342.57 574.305 2338.94 574.305 M2338.94 570.601 Q2344.75 570.601 2347.81 575.208 Q2350.89 579.791 2350.89 588.541 Q2350.89 597.268 2347.81 601.874 Q2344.75 606.458 2338.94 606.458 Q2333.13 606.458 2330.05 601.874 Q2327 597.268 2327 588.541 Q2327 579.791 2330.05 575.208 Q2333.13 570.601 2338.94 570.601 Z\" fill=\"#000000\" fill-rule=\"evenodd\" fill-opacity=\"1\" /><path clip-path=\"url(#clip520)\" d=\"M2269.43 378.273 L2277.07 378.273 L2277.07 351.907 L2268.76 353.574 L2268.76 349.315 L2277.02 347.648 L2281.7 347.648 L2281.7 378.273 L2289.33 378.273 L2289.33 382.208 L2269.43 382.208 L2269.43 378.273 Z\" fill=\"#000000\" fill-rule=\"evenodd\" fill-opacity=\"1\" /><path clip-path=\"url(#clip520)\" d=\"M2302.81 378.273 L2319.13 378.273 L2319.13 382.208 L2297.18 382.208 L2297.18 378.273 Q2299.84 375.518 2304.43 370.889 Q2309.03 366.236 2310.21 364.893 Q2312.46 362.37 2313.34 360.634 Q2314.24 358.875 2314.24 357.185 Q2314.24 354.43 2312.3 352.694 Q2310.38 350.958 2307.27 350.958 Q2305.08 350.958 2302.62 351.722 Q2300.19 352.486 2297.41 354.037 L2297.41 349.315 Q2300.24 348.181 2302.69 347.602 Q2305.14 347.023 2307.18 347.023 Q2312.55 347.023 2315.75 349.708 Q2318.94 352.393 2318.94 356.884 Q2318.94 359.014 2318.13 360.935 Q2317.34 362.833 2315.24 365.426 Q2314.66 366.097 2311.56 369.315 Q2308.45 372.509 2302.81 378.273 Z\" fill=\"#000000\" fill-rule=\"evenodd\" fill-opacity=\"1\" /><path clip-path=\"url(#clip520)\" d=\"M2328.99 347.648 L2347.34 347.648 L2347.34 351.583 L2333.27 351.583 L2333.27 360.055 Q2334.29 359.708 2335.31 359.546 Q2336.32 359.361 2337.34 359.361 Q2343.13 359.361 2346.51 362.532 Q2349.89 365.704 2349.89 371.12 Q2349.89 376.699 2346.42 379.801 Q2342.95 382.879 2336.63 382.879 Q2334.45 382.879 2332.18 382.509 Q2329.94 382.139 2327.53 381.398 L2327.53 376.699 Q2329.61 377.833 2331.83 378.389 Q2334.06 378.944 2336.53 378.944 Q2340.54 378.944 2342.88 376.838 Q2345.21 374.731 2345.21 371.12 Q2345.21 367.509 2342.88 365.403 Q2340.54 363.296 2336.53 363.296 Q2334.66 363.296 2332.78 363.713 Q2330.93 364.13 2328.99 365.009 L2328.99 347.648 Z\" fill=\"#000000\" fill-rule=\"evenodd\" fill-opacity=\"1\" /><path clip-path=\"url(#clip520)\" d=\"M2269.43 154.695 L2277.07 154.695 L2277.07 128.329 L2268.76 129.996 L2268.76 125.737 L2277.02 124.07 L2281.7 124.07 L2281.7 154.695 L2289.33 154.695 L2289.33 158.63 L2269.43 158.63 L2269.43 154.695 Z\" fill=\"#000000\" fill-rule=\"evenodd\" fill-opacity=\"1\" /><path clip-path=\"url(#clip520)\" d=\"M2298.83 124.07 L2317.18 124.07 L2317.18 128.005 L2303.11 128.005 L2303.11 136.477 Q2304.13 136.13 2305.14 135.968 Q2306.16 135.783 2307.18 135.783 Q2312.97 135.783 2316.35 138.954 Q2319.73 142.125 2319.73 147.542 Q2319.73 153.121 2316.26 156.223 Q2312.78 159.301 2306.46 159.301 Q2304.29 159.301 2302.02 158.931 Q2299.77 158.56 2297.37 157.82 L2297.37 153.121 Q2299.45 154.255 2301.67 154.811 Q2303.89 155.366 2306.37 155.366 Q2310.38 155.366 2312.71 153.26 Q2315.05 151.153 2315.05 147.542 Q2315.05 143.931 2312.71 141.824 Q2310.38 139.718 2306.37 139.718 Q2304.5 139.718 2302.62 140.135 Q2300.77 140.551 2298.83 141.431 L2298.83 124.07 Z\" fill=\"#000000\" fill-rule=\"evenodd\" fill-opacity=\"1\" /><path clip-path=\"url(#clip520)\" d=\"M2338.94 127.149 Q2335.33 127.149 2333.5 130.713 Q2331.7 134.255 2331.7 141.385 Q2331.7 148.491 2333.5 152.056 Q2335.33 155.598 2338.94 155.598 Q2342.57 155.598 2344.38 152.056 Q2346.21 148.491 2346.21 141.385 Q2346.21 134.255 2344.38 130.713 Q2342.57 127.149 2338.94 127.149 M2338.94 123.445 Q2344.75 123.445 2347.81 128.051 Q2350.89 132.635 2350.89 141.385 Q2350.89 150.111 2347.81 154.718 Q2344.75 159.301 2338.94 159.301 Q2333.13 159.301 2330.05 154.718 Q2327 150.111 2327 141.385 Q2327 132.635 2330.05 128.051 Q2333.13 123.445 2338.94 123.445 Z\" fill=\"#000000\" fill-rule=\"evenodd\" fill-opacity=\"1\" /><polyline clip-path=\"url(#clip520)\" style=\"stroke:#000000; stroke-linecap:butt; stroke-linejoin:round; stroke-width:4; stroke-opacity:1; fill:none\" points=\"\n",
       "  2232.76,1486.45 2232.76,1486.45 2256.76,1486.45 2232.76,1486.45 2232.76,1262.87 2256.76,1262.87 2232.76,1262.87 2232.76,1039.29 2256.76,1039.29 2232.76,1039.29 \n",
       "  2232.76,815.713 2256.76,815.713 2232.76,815.713 2232.76,592.135 2256.76,592.135 2232.76,592.135 2232.76,368.557 2256.76,368.557 2232.76,368.557 2232.76,144.979 \n",
       "  2256.76,144.979 2232.76,144.979 2232.76,47.2441 \n",
       "  \"/>\n",
       "</svg>\n"
      ]
     },
     "execution_count": 7,
     "metadata": {},
     "output_type": "execute_result"
    }
   ],
   "source": [
    "p = (Δx, Δy, Δt, t₁)\n",
    "\n",
    "T₁ = copy(T₀)\n",
    "T₁ = heatflow(T₁, fakeD, p, 1e-2)\n",
    "\n",
    "heatmap(T₁, clim=(0, maximum(T₀)))"
   ]
  },
  {
   "cell_type": "code",
   "execution_count": 8,
   "id": "ec5580a5",
   "metadata": {},
   "outputs": [
    {
     "data": {
      "text/plain": [
       "10.095895612117783"
      ]
     },
     "execution_count": 8,
     "metadata": {},
     "output_type": "execute_result"
    }
   ],
   "source": [
    "sqrt( sum((T₁.-T₀).^2) / (nx * ny) )"
   ]
  },
  {
   "cell_type": "markdown",
   "id": "ea2b0d9b",
   "metadata": {},
   "source": [
    "## Using a neural network to learn D\n",
    "\n",
    "Now, let's try to reproduce `fakeD()` with a NN."
   ]
  },
  {
   "cell_type": "code",
   "execution_count": 9,
   "id": "3ae63593",
   "metadata": {},
   "outputs": [
    {
     "data": {
      "text/plain": [
       "heatflow_NN (generic function with 2 methods)"
      ]
     },
     "execution_count": 9,
     "metadata": {},
     "output_type": "execute_result"
    }
   ],
   "source": [
    "function heatflow_NN(T, uD, p, tol=1e-4)\n",
    "   \n",
    "    Δx, Δy, Δt, t₁ = p\n",
    "    \n",
    "    total_iter = 0\n",
    "    t = 0\n",
    "    \n",
    "    while t < t₁\n",
    "        \n",
    "        iter = 1\n",
    "        err = 2 * tolnl\n",
    "        Hold = copy(T)\n",
    "        dTdt = zeros(nx, ny)\n",
    "        err = Inf \n",
    "        \n",
    "        while iter < itMax+1 && tol <= err\n",
    "            \n",
    "            Err = copy(T)\n",
    "                    \n",
    "            D = uD([t]')[1]  # compute the diffusivity at each time\n",
    "            #println(D)\n",
    "            F, dτ = Heat(T, D, p)\n",
    "            \n",
    "            @tullio ResT[i,j] := -(T[i,j] - Hold[i,j])/Δt + F[pad(i-1,1,1),pad(j-1,1,1)] \n",
    "            \n",
    "            dTdt_ = copy(dTdt)\n",
    "            @tullio dTdt[i,j] := dTdt_[i,j]*damp + ResT[i,j]\n",
    "            \n",
    "            T_ = copy(T)\n",
    "            #@tullio T[i,j] := max(0.0, T_[i,j] + dTdt[i,j]*dτ[pad(i-1,1,1),pad(j-1,1,1)]) \n",
    "            @tullio T[i,j] := max(0.0, T_[i,j] + dτ * dTdt[i,j])\n",
    "            \n",
    "            Zygote.ignore() do\n",
    "                Err .= Err .- T\n",
    "                err = maximum(Err)\n",
    "            end \n",
    "            \n",
    "            iter += 1\n",
    "            total_iter += 1\n",
    "            \n",
    "        end\n",
    "        \n",
    "        t += Δt\n",
    "        \n",
    "    end\n",
    "    \n",
    "    return T\n",
    "    \n",
    "end"
   ]
  },
  {
   "cell_type": "code",
   "execution_count": 10,
   "id": "7ca3add1",
   "metadata": {},
   "outputs": [
    {
     "data": {
      "text/plain": [
       "loss (generic function with 2 methods)"
      ]
     },
     "execution_count": 10,
     "metadata": {},
     "output_type": "execute_result"
    }
   ],
   "source": [
    "sqnorm(x) = sum(abs2, x)\n",
    "\n",
    "function loss(T, UD, p, λ=1)\n",
    "\n",
    "    T = heatflow_NN(T, UD, p)\n",
    "    l_cost = sqrt(Flux.Losses.mse(T, T₁; agg=mean))\n",
    "    #l_reg  = sum(sqnorm, ps)\n",
    "\n",
    "    return l_cost #+ λ * l_reg\n",
    "end"
   ]
  },
  {
   "cell_type": "code",
   "execution_count": 11,
   "id": "6f8105aa",
   "metadata": {},
   "outputs": [
    {
     "data": {
      "text/plain": [
       "hybrid_train! (generic function with 1 method)"
      ]
     },
     "execution_count": 11,
     "metadata": {},
     "output_type": "execute_result"
    }
   ],
   "source": [
    "# Patch suggested by Michael Abbott needed in order to correctly retrieve gradients\n",
    "Flux.Optimise.update!(opt, x::AbstractMatrix, Δ::AbstractVector) = Flux.Optimise.update!(opt, x, reshape(Δ, size(x)))\n",
    "\n",
    "function train(loss, p)\n",
    "    \n",
    "    leakyrelu(x, a=0.01) = max(a*x, x)\n",
    "    relu(x) = max(0, x)\n",
    "    sigmoid_D(x) = .5 + 10 / ( 1 + exp(-x) ) \n",
    "\n",
    "    UD = Chain(\n",
    "        Dense(1,5, initb=Flux.glorot_normal), \n",
    "        Dense(5, 5, x->tanh.(x), initb =Flux.glorot_normal), \n",
    "        Dense(5, 5, x->tanh.(x), initb=Flux.glorot_normal),\n",
    "        Dense(5,1, relu, initb = Flux.zeros) \n",
    "    )\n",
    "    \n",
    "    #UD = Chain(\n",
    "    #    Dense(1,5,initb = Flux.glorot_normal), \n",
    "    #    Dense(5, 5, x->tanh.(x), initb = Flux.glorot_normal),\n",
    "    #    Dense(5, 1, relu, initb = Flux.glorot_normal)\n",
    "    #)\n",
    "    \n",
    "    \n",
    "    opt = ADAM(1.0e-3)\n",
    "    \n",
    "    losses = []\n",
    "    @epochs 200 hybrid_train!(loss, UD, p, opt, losses)\n",
    "    \n",
    "    return UD, losses\n",
    "    \n",
    "end\n",
    "\n",
    "function hybrid_train!(loss, UD, p, opt, losses)\n",
    "    \n",
    "    T = T₀\n",
    "    θ = Flux.params(UD)\n",
    "    loss_uD, back_uD = Zygote.pullback(() -> loss(T, UD, p), θ)\n",
    "    push!(losses, loss_uD)\n",
    "    \n",
    "    println(\"Current loss: \", loss_uD)\n",
    "    println(\"Current parameter:\", θ)\n",
    "    ∇_uD = back_uD(one(loss_uD))\n",
    "    \n",
    "    Flux.Optimise.update!(opt, θ, ∇_uD)\n",
    "    \n",
    "    \n",
    "end"
   ]
  },
  {
   "cell_type": "code",
   "execution_count": 12,
   "id": "1b1cd480",
   "metadata": {
    "scrolled": true
   },
   "outputs": [
    {
     "name": "stderr",
     "output_type": "stream",
     "text": [
      "┌ Info: Epoch 1\n",
      "└ @ Main /Users/facundosapienza/.julia/packages/Flux/goUGu/src/optimise/train.jl:136\n"
     ]
    },
    {
     "name": "stdout",
     "output_type": "stream",
     "text": [
      "Current loss: 8.593653737809248\n",
      "Current parameter:Params([Float32[-0.50422573; 0.1390028; -0.24090838; 0.26698613; -0.34262705], Float32[-0.3552117, 1.2489481, -0.65845484, 0.010325378, 0.12726302], Float32[0.17357853 -0.5355876 -0.7165078 0.48749277 0.551929; -0.6463077 -0.65934306 -0.70112926 0.082478225 0.47609922; -0.5757686 -0.06326098 -0.617813 -0.38736594 -0.087666206; -0.63621616 -0.63332707 -0.7609471 -0.2347471 0.40796605; -0.40289092 0.48117545 0.087782 0.19622986 0.61205584], Float32[-0.13961558, -0.35211676, 0.2803795, -0.37835756, -0.5398629], Float32[0.451971 -0.4278223 0.47102314 0.41025662 -0.019425197; -0.49931344 -0.65530306 0.57781005 0.7180305 -0.004737551; 0.50545514 0.42643094 0.36556634 0.6309419 -0.35690233; 0.15402165 0.12691125 0.626855 0.76112145 0.750662; 0.092189535 -0.12803152 -0.16630995 -0.44692928 -0.5002186], Float32[-0.5184313, -0.2657313, -0.094123356, -0.5778284, 0.60369885], Float32[-0.7441642 -0.6448982 0.78388405 0.58289623 0.9600489], Float32[0.0]])\n"
     ]
    },
    {
     "name": "stderr",
     "output_type": "stream",
     "text": [
      "┌ Info: Epoch 2\n",
      "└ @ Main /Users/facundosapienza/.julia/packages/Flux/goUGu/src/optimise/train.jl:136\n"
     ]
    },
    {
     "name": "stdout",
     "output_type": "stream",
     "text": [
      "Current loss: 8.442925469851993\n",
      "Current parameter:Params([Float32[-0.5052257; 0.1380028; -0.24190839; 0.26798612; -0.34162706], Float32[-0.3562117, 1.247948, -0.6594548, 0.011325378, 0.12826303], Float32[0.17257853 -0.5345876 -0.7175078 0.48849276 0.550929; -0.6473077 -0.6583431 -0.70212924 0.08347823 0.47509924; -0.5747686 -0.06426098 -0.616813 -0.38836592 -0.086666204; -0.6352162 -0.63432705 -0.7599471 -0.2357471 0.40896603; -0.40189093 0.48017547 0.088782005 0.19522986 0.6130558], Float32[-0.13861558, -0.35111678, 0.27937952, -0.37935755, -0.54086286], Float32[0.45297098 -0.42882228 0.47002316 0.40925664 -0.020425197; -0.49831346 -0.65630305 0.57681006 0.7170305 -0.005737551; 0.50445515 0.42743093 0.36656633 0.6319419 -0.35590234; 0.15302165 0.12791125 0.627855 0.76212144 0.751662; 0.09118953 -0.12703152 -0.16530995 -0.4459293 -0.49921858], Float32[-0.5194313, -0.2667313, -0.093123354, -0.5768284, 0.60469884], Float32[-0.7451642 -0.6438982 0.78488404 0.5838962 0.9610489], Float32[0.0009999999]])\n"
     ]
    },
    {
     "name": "stderr",
     "output_type": "stream",
     "text": [
      "┌ Info: Epoch 3\n",
      "└ @ Main /Users/facundosapienza/.julia/packages/Flux/goUGu/src/optimise/train.jl:136\n"
     ]
    },
    {
     "name": "stdout",
     "output_type": "stream",
     "text": [
      "Current loss: 8.291582840875634\n",
      "Current parameter:Params([Float32[-0.50622225; 0.13700329; -0.24290803; 0.26898643; -0.3406277], Float32[-0.35721186, 1.2469479, -0.6604551, 0.012326049, 0.12926337], Float32[0.17157826 -0.5335873 -0.7185082 0.489493 0.5499291; -0.6483075 -0.65734303 -0.7031293 0.08447798 0.47409993; -0.5737681 -0.06526194 -0.6158121 -0.38936624 -0.08566667; -0.6342157 -0.63532746 -0.75894666 -0.23674758 0.4099663; -0.40089107 0.4791756 0.089781955 0.19422995 0.61405545], Float32[-0.1376151, -0.35011655, 0.27837843, -0.380358, -0.54186285], Float32[0.4539703 -0.4298228 0.46902305 0.40825793 -0.021425016; -0.49731368 -0.65730387 0.5758096 0.7160314 -0.006737756; 0.503456 0.4284312 0.36756632 0.6329401 -0.35490268; 0.15202227 0.12891172 0.6288551 0.76311827 0.7526618; 0.09019025 -0.12603086 -0.16430986 -0.44493002 -0.49821877], Float32[-0.5204315, -0.26773185, -0.09212323, -0.5758282, 0.605699], Float32[-0.7461647 -0.64289916 0.7858854 0.5848958 0.96205026], Float32[0.0020002564]])\n"
     ]
    },
    {
     "name": "stderr",
     "output_type": "stream",
     "text": [
      "┌ Info: Epoch 4\n",
      "└ @ Main /Users/facundosapienza/.julia/packages/Flux/goUGu/src/optimise/train.jl:136\n"
     ]
    },
    {
     "name": "stdout",
     "output_type": "stream",
     "text": [
      "Current loss: 8.139940010133161\n",
      "Current parameter:Params([Float32[-0.50721246; 0.13600461; -0.24390705; 0.26998726; -0.33962944], Float32[-0.35821158, 1.2459481, -0.66145533, 0.013327219, 0.13026352], Float32[0.17057769 -0.53258675 -0.7195089 0.49049369 0.54892915; -0.64930683 -0.6563434 -0.704129 0.08547731 0.47310168; -0.57276726 -0.06626289 -0.61481106 -0.39036703 -0.08466703; -0.63321465 -0.63632816 -0.7579456 -0.23774886 0.41096705; -0.3998915 0.47817627 0.09078162 0.1932302 0.6150545], Float32[-0.13661438, -0.34911656, 0.27737728, -0.38135877, -0.54286236], Float32[0.45496792 -0.43082488 0.46802318 0.40725937 -0.022424199; -0.4963149 -0.65830666 0.57480884 0.7150315 -0.0077379434; 0.5024588 0.4294327 0.3685659 0.6339372 -0.35390395; 0.15102464 0.12991403 0.6298549 0.7641143 0.75366086; 0.08919265 -0.12502865 -0.16330996 -0.4439307 -0.49721953], Float32[-0.52143157, -0.26873276, -0.09112345, -0.57482815, 0.60669905], Float32[-0.7471654 -0.6419023 0.78688806 0.5858954 0.9630532], Float32[0.0030003553]])\n"
     ]
    },
    {
     "name": "stderr",
     "output_type": "stream",
     "text": [
      "┌ Info: Epoch 5\n",
      "└ @ Main /Users/facundosapienza/.julia/packages/Flux/goUGu/src/optimise/train.jl:136\n"
     ]
    },
    {
     "name": "stdout",
     "output_type": "stream",
     "text": [
      "Current loss: 7.988197444623416\n",
      "Current parameter:Params([Float32[-0.50819296; 0.13500716; -0.24490517; 0.27098876; -0.3386328], Float32[-0.35921052, 1.244949, -0.6624553, 0.0143289175, 0.1312632], Float32[0.16957678 -0.53158617 -0.72050995 0.4914949 0.5479293; -0.65030545 -0.6553445 -0.70512813 0.08647601 0.47210488; -0.5717662 -0.067263365 -0.61381 -0.39136854 -0.08366704; -0.6322127 -0.63732916 -0.75694376 -0.23875126 0.41196853; -0.39889237 0.47717777 0.09178084 0.19223069 0.6160527], Float32[-0.13561349, -0.34811705, 0.27637663, -0.38235986, -0.54386115], Float32[0.45596293 -0.43182915 0.46702373 0.40626073 -0.023422433; -0.49531776 -0.6593122 0.5738078 0.7140304 -0.008738013; 0.5014646 0.43043584 0.36956477 0.63493294 -0.35290655; 0.15002964 0.13091893 0.6308542 0.76511 0.7546588; 0.088197574 -0.124024294 -0.16231039 -0.4429311 -0.49622113], Float32[-0.52243125, -0.269734, -0.090124264, -0.5738286, 0.6076988], Float32[-0.7481662 -0.64090884 0.787893 0.5868953 0.96405786], Float32[0.0040001133]])\n"
     ]
    },
    {
     "name": "stderr",
     "output_type": "stream",
     "text": [
      "┌ Info: Epoch 6\n",
      "└ @ Main /Users/facundosapienza/.julia/packages/Flux/goUGu/src/optimise/train.jl:136\n"
     ]
    },
    {
     "name": "stdout",
     "output_type": "stream",
     "text": [
      "Current loss: 7.836566861375201\n",
      "Current parameter:Params([Float32[-0.50915974; 0.13401131; -0.24590208; 0.2719911; -0.33763832], Float32[-0.3602084, 1.2439507, -0.6634549, 0.015331216, 0.13226214], Float32[0.16857548 -0.5305856 -0.7215114 0.49249673 0.54692954; -0.6513031 -0.6543466 -0.7061266 0.08747391 0.47110996; -0.57076484 -0.06826304 -0.6128091 -0.39237097 -0.08266653; -0.6312096 -0.6383306 -0.755941 -0.23975508 0.41297093; -0.39789385 0.47618037 0.092779465 0.1912315 0.61704975], Float32[-0.13461244, -0.34711823, 0.27537686, -0.38336134, -0.544859], Float32[0.45695448 -0.43283615 0.46602482 0.40526184 -0.024419442; -0.49432287 -0.6603211 0.5728063 0.7130277 -0.009737878; 0.50047433 0.43144104 0.37056273 0.6359271 -0.35191092; 0.14903815 0.13192703 0.6318528 0.76610535 0.7556553; 0.087205864 -0.12301726 -0.16131125 -0.44193107 -0.49522382], Float32[-0.5234304, -0.27073562, -0.089125894, -0.57282966, 0.6086981], Float32[-0.7491672 -0.63991976 0.78890157 0.58789545 0.9650644], Float32[0.0049994066]])\n"
     ]
    },
    {
     "name": "stderr",
     "output_type": "stream",
     "text": [
      "┌ Info: Epoch 7\n",
      "└ @ Main /Users/facundosapienza/.julia/packages/Flux/goUGu/src/optimise/train.jl:136\n"
     ]
    },
    {
     "name": "stdout",
     "output_type": "stream",
     "text": [
      "Current loss: 7.685267498698716\n",
      "Current parameter:Params([Float32[-0.5101082; 0.13301751; -0.24689741; 0.2729944; -0.33664662], Float32[-0.3612049, 1.2429537, -0.6644539, 0.016334187, 0.13326013], Float32[0.1675738 -0.5295851 -0.7225133 0.49349922 0.54592997; -0.6522996 -0.6533499 -0.7071241 0.08847078 0.47011736; -0.5697631 -0.06926167 -0.6118084 -0.3933745 -0.08166534; -0.63020515 -0.6393325 -0.754937 -0.2407606 0.41397443; -0.39689606 0.47518438 0.09377733 0.19023275 0.6180455], Float32[-0.13361129, -0.3461203, 0.27437824, -0.3843633, -0.54585564], Float32[0.4579417 -0.43384632 0.46502653 0.4042627 -0.025414962; -0.49333093 -0.66133404 0.5718044 0.71202326 -0.010737445; 0.49948904 0.43244857 0.37155953 0.63691914 -0.3509175; 0.14805102 0.13293883 0.6328506 0.76710033 0.75665003; 0.086218394 -0.1220071 -0.16031264 -0.44093058 -0.49422783], Float32[-0.52442896, -0.27173766, -0.088128544, -0.57183146, 0.609697], Float32[-0.7501683 -0.63893634 0.789915 0.588896 0.9660732], Float32[0.0059981346]])\n"
     ]
    },
    {
     "name": "stderr",
     "output_type": "stream",
     "text": [
      "┌ Info: Epoch 8\n",
      "└ @ Main /Users/facundosapienza/.julia/packages/Flux/goUGu/src/optimise/train.jl:136\n"
     ]
    },
    {
     "name": "stdout",
     "output_type": "stream",
     "text": [
      "Current loss: 7.534521734122948\n",
      "Current parameter:Params([Float32[-0.5110329; 0.1320262; -0.24789082; 0.27399874; -0.33565837], Float32[-0.36219972, 1.241958, -0.6654523, 0.01733789, 0.13425693], Float32[0.16657175 -0.5285848 -0.7235156 0.49450243 0.54493076; -0.6532946 -0.65235466 -0.7081205 0.08946641 0.46912754; -0.568761 -0.070259064 -0.61080796 -0.39437938 -0.080663316; -0.62919915 -0.6403349 -0.75393164 -0.24176808 0.41497916; -0.3958992 0.47419003 0.09477426 0.18923454 0.6190396], Float32[-0.1326101, -0.3451234, 0.273381, -0.38536578, -0.54685086], Float32[0.4589237 -0.4348601 0.46402898 0.4032632 -0.02640874; -0.49234265 -0.6623515 0.5708021 0.7110168 -0.011736606; 0.49850976 0.43345866 0.37255496 0.63790864 -0.3499267; 0.14706917 0.13395481 0.6338474 0.7680948 0.7576427; 0.08523609 -0.12099343 -0.15931462 -0.43992954 -0.4932334], Float32[-0.52542686, -0.27274016, -0.087132424, -0.5708341, 0.61069524], Float32[-0.7511696 -0.6379598 0.7909345 0.589897 0.9670846], Float32[0.0069962093]])\n"
     ]
    },
    {
     "name": "stderr",
     "output_type": "stream",
     "text": [
      "┌ Info: Epoch 9\n",
      "└ @ Main /Users/facundosapienza/.julia/packages/Flux/goUGu/src/optimise/train.jl:136\n"
     ]
    },
    {
     "name": "stdout",
     "output_type": "stream",
     "text": [
      "Current loss: 7.3845515346185335\n",
      "Current parameter:Params([Float32[-0.5119278; 0.13103785; -0.24888188; 0.27500418; -0.33467427], Float32[-0.36319262, 1.240964, -0.66644984, 0.018342368, 0.13525228], Float32[0.16556941 -0.52758473 -0.7245183 0.49550632 0.54393214; -0.65428793 -0.65136117 -0.7091156 0.09046057 0.46814096; -0.5677584 -0.071255036 -0.6098077 -0.3953858 -0.07966033; -0.6281914 -0.64133793 -0.75292474 -0.24277778 0.4159853; -0.39490348 0.47319764 0.095770076 0.188237 0.6200318], Float32[-0.13160892, -0.34412774, 0.27238533, -0.3863689, -0.5478444], Float32[0.45989946 -0.43587786 0.46303228 0.4022634 -0.027400522; -0.49135888 -0.6633739 0.5697993 0.71000814 -0.012735233; 0.49753764 0.43447143 0.37354878 0.63889503 -0.34893903; 0.1460935 0.13497534 0.6348432 0.7690885 0.758633; 0.08425992 -0.119975895 -0.15831727 -0.43892795 -0.49224082], Float32[-0.526424, -0.27374315, -0.086137734, -0.56983775, 0.6116929], Float32[-0.75217104 -0.63699144 0.79196084 0.5908984 0.96809894], Float32[0.00799355]])\n"
     ]
    },
    {
     "name": "stderr",
     "output_type": "stream",
     "text": [
      "┌ Info: Epoch 10\n",
      "└ @ Main /Users/facundosapienza/.julia/packages/Flux/goUGu/src/optimise/train.jl:136\n"
     ]
    },
    {
     "name": "stdout",
     "output_type": "stream",
     "text": [
      "Current loss: 7.235573283386625\n",
      "Current parameter:Params([Float32[-0.51278615; 0.13005297; -0.24987018; 0.27601072; -0.33369508], Float32[-0.36418334, 1.2399721, -0.6674463, 0.019347642, 0.13624594], Float32[0.16456686 -0.5265851 -0.7255212 0.49651083 0.5429343; -0.6552793 -0.65036964 -0.71010923 0.091453016 0.4671581; -0.5667552 -0.072249405 -0.60880774 -0.39639395 -0.07865626; -0.62718177 -0.6423416 -0.7519161 -0.24378991 0.41699287; -0.3939091 0.4722075 0.09676457 0.18724027 0.62102175], Float32[-0.13060786, -0.3431335, 0.27139145, -0.3873727, -0.548836], Float32[0.460868 -0.43689987 0.46203646 0.4012633 -0.028390057; -0.49038047 -0.6644016 0.56879604 0.70899725 -0.013733174; 0.4965738 0.43548703 0.37454075 0.6398777 -0.3479549; 0.145125 0.13600075 0.63583773 0.7700813 0.75962067; 0.08329091 -0.11895423 -0.15732068 -0.43792585 -0.49125028], Float32[-0.5274203, -0.27474666, -0.08514468, -0.5688424, 0.61268985], Float32[-0.7531725 -0.63603276 0.7929948 0.5919003 0.9691166], Float32[0.008990079]])\n"
     ]
    },
    {
     "name": "stderr",
     "output_type": "stream",
     "text": [
      "┌ Info: Epoch 11\n",
      "└ @ Main /Users/facundosapienza/.julia/packages/Flux/goUGu/src/optimise/train.jl:136\n"
     ]
    },
    {
     "name": "stdout",
     "output_type": "stream",
     "text": [
      "Current loss: 7.087794570557741\n",
      "Current parameter:Params([Float32[-0.51360047; 0.12907209; -0.25085527; 0.27701837; -0.3327216], Float32[-0.3651716, 1.2389824, -0.6684416, 0.020353712, 0.13723761], Float32[0.16356423 -0.52558607 -0.7265243 0.4975159 0.54193753; -0.6562684 -0.6493803 -0.7111011 0.092443496 0.46617946; -0.5657513 -0.07324201 -0.60780805 -0.39740402 -0.07765101; -0.62617004 -0.64334595 -0.7509057 -0.24480465 0.41800204; -0.39291626 0.47121993 0.09775754 0.18624455 0.62200916], Float32[-0.12960704, -0.34214088, 0.27039954, -0.38837722, -0.5498253], Float32[0.4618283 -0.43792638 0.46104163 0.40026295 -0.029377095; -0.4894084 -0.6654349 0.56779224 0.70798415 -0.014730252; 0.49561945 0.43650547 0.37553063 0.6408559 -0.34697476; 0.14416464 0.1370313 0.63683105 0.77107286 0.7606054; 0.08233015 -0.117928185 -0.15632492 -0.43692327 -0.49026206], Float32[-0.5284157, -0.2757507, -0.08415349, -0.5678482, 0.613686], Float32[-0.75417405 -0.6350852 0.79403687 0.59290266 0.9701381], Float32[0.009985723]])\n"
     ]
    },
    {
     "name": "stderr",
     "output_type": "stream",
     "text": [
      "┌ Info: Epoch 12\n",
      "└ @ Main /Users/facundosapienza/.julia/packages/Flux/goUGu/src/optimise/train.jl:136\n"
     ]
    },
    {
     "name": "stdout",
     "output_type": "stream",
     "text": [
      "Current loss: 6.941413140743191\n",
      "Current parameter:Params([Float32[-0.51436263; 0.12809575; -0.2518367; 0.27802706; -0.33175465], Float32[-0.3661573, 1.2379954, -0.6694355, 0.021360554, 0.13822703], Float32[0.16256171 -0.52458787 -0.72752744 0.49852136 0.54094213; -0.65725505 -0.64839345 -0.712091 0.09343176 0.46520552; -0.56474674 -0.074232675 -0.6068086 -0.39841613 -0.07664447; -0.62515616 -0.644351 -0.7498933 -0.24582218 0.4190128; -0.39192522 0.47023526 0.09874875 0.18524998 0.6229937], Float32[-0.1286066, -0.34115005, 0.26940978, -0.38938245, -0.55081207], Float32[0.46277922 -0.4389576 0.46004784 0.39926243 -0.030361379; -0.48844373 -0.6664741 0.566788 0.70696884 -0.015726266; 0.4946758 0.43752676 0.37651816 0.64182895 -0.34599912; 0.14321344 0.13806722 0.637823 0.77206296 0.7615869; 0.08137878 -0.11689758 -0.15533009 -0.4359203 -0.48927644], Float32[-0.5294101, -0.2767552, -0.083164364, -0.5668552, 0.6146813], Float32[-0.75517565 -0.63415045 0.7950874 0.5939055 0.97116363], Float32[0.010980406]])\n"
     ]
    },
    {
     "name": "stderr",
     "output_type": "stream",
     "text": [
      "┌ Info: Epoch 13\n",
      "└ @ Main /Users/facundosapienza/.julia/packages/Flux/goUGu/src/optimise/train.jl:136\n"
     ]
    },
    {
     "name": "stdout",
     "output_type": "stream",
     "text": [
      "Current loss: 6.796615207368296\n",
      "Current parameter:Params([Float32[-0.5150643; 0.1271245; -0.25281394; 0.27903673; -0.33079514], Float32[-0.36714017, 1.2370112, -0.6704278, 0.022368116, 0.13921392], Float32[0.16155952 -0.5235907 -0.72853047 0.49952707 0.53994846; -0.6582388 -0.6474093 -0.7130788 0.09441755 0.4642368; -0.56374145 -0.075221226 -0.6058095 -0.39943045 -0.075636595; -0.6241401 -0.6453567 -0.74887896 -0.2468426 0.4200252; -0.39093623 0.46925384 0.09973795 0.18425679 0.623975], Float32[-0.12760673, -0.3401612, 0.26842237, -0.3903884, -0.55179596], Float32[0.46371964 -0.43999368 0.45905516 0.39826187 -0.03134265; -0.48748758 -0.66751933 0.5657834 0.70595145 -0.016720988; 0.4937441 0.43855083 0.3775031 0.64279604 -0.34502843; 0.14227247 0.13910866 0.63881344 0.77305114 0.7625649; 0.08043801 -0.115862295 -0.15433627 -0.43491706 -0.48829368], Float32[-0.53040355, -0.2777602, -0.08217753, -0.5658635, 0.6156757], Float32[-0.7561772 -0.63323015 0.7961467 0.5949087 0.97219366], Float32[0.011974055]])\n"
     ]
    },
    {
     "name": "stderr",
     "output_type": "stream",
     "text": [
      "┌ Info: Epoch 14\n",
      "└ @ Main /Users/facundosapienza/.julia/packages/Flux/goUGu/src/optimise/train.jl:136\n"
     ]
    },
    {
     "name": "stdout",
     "output_type": "stream",
     "text": [
      "Current loss: 6.6535709929841405\n",
      "Current parameter:Params([Float32[-0.515697; 0.12615894; -0.2537865; 0.28004727; -0.32984397], Float32[-0.36812016, 1.2360301, -0.67141825, 0.023376325, 0.14019799], Float32[0.1605579 -0.52259475 -0.72953314 0.5005328 0.53895694; -0.6592195 -0.64642817 -0.7140641 0.095400594 0.46327376; -0.5627354 -0.07620748 -0.6048107 -0.4004471 -0.07462732; -0.62312174 -0.646363 -0.7478625 -0.247866 0.4210392; -0.38994956 0.468276 0.100724876 0.1832652 0.6249527], Float32[-0.12660764, -0.33917454, 0.26743752, -0.39139506, -0.5527767], Float32[0.4646483 -0.44103473 0.4580637 0.39726147 -0.03232065; -0.4865412 -0.6685707 0.5647784 0.70493215 -0.017714158; 0.49282566 0.43957758 0.37848517 0.6437563 -0.3440632; 0.14134283 0.14015575 0.6398024 0.774037 0.7635391; 0.07950911 -0.114822224 -0.15334356 -0.43391374 -0.48731408], Float32[-0.5313959, -0.27876562, -0.081193194, -0.5648731, 0.61666906], Float32[-0.7571786 -0.6323261 0.79721487 0.5959122 0.9732285], Float32[0.012966597]])\n"
     ]
    },
    {
     "name": "stderr",
     "output_type": "stream",
     "text": [
      "┌ Info: Epoch 15\n",
      "└ @ Main /Users/facundosapienza/.julia/packages/Flux/goUGu/src/optimise/train.jl:136\n"
     ]
    },
    {
     "name": "stdout",
     "output_type": "stream",
     "text": [
      "Current loss: 6.512436554748836\n",
      "Current parameter:Params([Float32[-0.5162526; 0.12519965; -0.25475386; 0.2810585; -0.32890204], Float32[-0.3690972, 1.2350526, -0.6724067, 0.024385082, 0.14117894], Float32[0.15955713 -0.52160037 -0.73053527 0.50153834 0.537968; -0.6601968 -0.64545023 -0.7150469 0.096380636 0.4623169; -0.5617286 -0.07719125 -0.60381234 -0.40146616 -0.07361662; -0.6221011 -0.6473698 -0.746844 -0.24889247 0.42205474; -0.38896555 0.4673021 0.101709254 0.18227543 0.62592643], Float32[-0.12560955, -0.33819026, 0.26645544, -0.39240235, -0.5537539], Float32[0.46556398 -0.44208083 0.45707348 0.3962614 -0.033295106; -0.4856059 -0.66962826 0.56377316 0.70391124 -0.018705491; 0.49192175 0.44060686 0.37946415 0.64470875 -0.3431039; 0.14042564 0.14120857 0.64078975 0.7750201 0.7645092; 0.07859342 -0.113777325 -0.15235204 -0.43291053 -0.4863379], Float32[-0.53238714, -0.2797714, -0.08021158, -0.5638841, 0.61766136], Float32[-0.75817984 -0.6314402 0.798292 0.59691596 0.97426856], Float32[0.013957958]])\n"
     ]
    },
    {
     "name": "stderr",
     "output_type": "stream",
     "text": [
      "┌ Info: Epoch 16\n",
      "└ @ Main /Users/facundosapienza/.julia/packages/Flux/goUGu/src/optimise/train.jl:136\n"
     ]
    },
    {
     "name": "stdout",
     "output_type": "stream",
     "text": [
      "Current loss: 6.3733534353777\n",
      "Current parameter:Params([Float32[-0.5167236; 0.124247216; -0.2557155; 0.28207025; -0.32797033], Float32[-0.3700713, 1.2340789, -0.67339283, 0.025394265, 0.14215648], Float32[0.15855756 -0.5206079 -0.73153657 0.50254333 0.536982; -0.66117036 -0.64447576 -0.7160268 0.097357415 0.46136668; -0.56072104 -0.07817232 -0.60281444 -0.4024877 -0.072604485; -0.6210783 -0.648377 -0.74582344 -0.24992202 0.42307177; -0.38798448 0.46633255 0.10269079 0.18128774 0.62689584], Float32[-0.1246127, -0.3372085, 0.26547635, -0.3934102, -0.55472726], Float32[0.46646535 -0.443132 0.4560846 0.39526188 -0.03426575; -0.48468304 -0.670692 0.56276774 0.702889 -0.019694675; 0.4910337 0.44163853 0.3804398 0.6456525 -0.34215102; 0.13952203 0.14226718 0.64177537 0.77599996 0.765475; 0.07769234 -0.11272759 -0.15136181 -0.43190768 -0.48536548], Float32[-0.5333772, -0.28077742, -0.0792329, -0.5628965, 0.61865246], Float32[-0.7591808 -0.6305745 0.7993781 0.5979198 0.97531414], Float32[0.014948061]])\n"
     ]
    },
    {
     "name": "stderr",
     "output_type": "stream",
     "text": [
      "┌ Info: Epoch 17\n",
      "└ @ Main /Users/facundosapienza/.julia/packages/Flux/goUGu/src/optimise/train.jl:136\n"
     ]
    },
    {
     "name": "stdout",
     "output_type": "stream",
     "text": [
      "Current loss: 6.236446788571488\n",
      "Current parameter:Params([Float32[-0.5171037; 0.123302236; -0.25667086; 0.28308234; -0.32704976], Float32[-0.37104246, 1.2331094, -0.67437655, 0.026403727, 0.14313033], Float32[0.15755954 -0.51961756 -0.73253673 0.50354755 0.53599954; -0.66214 -0.643505 -0.71700364 0.098330684 0.4604236; -0.5597128 -0.07915047 -0.6018171 -0.40351176 -0.07159094; -0.62005335 -0.6493845 -0.74480087 -0.25095466 0.42409018; -0.3870067 0.46536773 0.10366918 0.1803024 0.62786055], Float32[-0.12361737, -0.33622953, 0.2645005, -0.3944185, -0.5556964], Float32[0.46735102 -0.4441883 0.45509714 0.3942632 -0.0352323; -0.48377413 -0.67176193 0.56176233 0.70186585 -0.020681366; 0.49016285 0.44267234 0.38141182 0.64658636 -0.34120506; 0.13863322 0.14333159 0.64275926 0.7769759 0.7664361; 0.07680732 -0.11167305 -0.15037298 -0.4309055 -0.4843971], Float32[-0.53436595, -0.2817836, -0.078257374, -0.5619104, 0.6196423], Float32[-0.76018137 -0.6297311 0.8004731 0.5989236 0.9763655], Float32[0.015936833]])\n"
     ]
    },
    {
     "name": "stderr",
     "output_type": "stream",
     "text": [
      "┌ Info: Epoch 18\n",
      "└ @ Main /Users/facundosapienza/.julia/packages/Flux/goUGu/src/optimise/train.jl:136\n"
     ]
    },
    {
     "name": "stdout",
     "output_type": "stream",
     "text": [
      "Current loss: 6.101827560744762\n",
      "Current parameter:Params([Float32[-0.51738816; 0.12236531; -0.25761944; 0.28409454; -0.3261413], Float32[-0.37201083, 1.2321442, -0.6753575, 0.027413303, 0.14410022], Float32[0.15656346 -0.5186298 -0.73353547 0.5045506 0.53502107; -0.66310537 -0.6425381 -0.7179772 0.09930019 0.45948803; -0.558704 -0.080125466 -0.60082036 -0.40453836 -0.07057601; -0.6190263 -0.6503921 -0.7437763 -0.25199032 0.42510983; -0.38603258 0.46440804 0.104644105 0.17931968 0.6288201], Float32[-0.12262386, -0.33525348, 0.26352814, -0.3954271, -0.556661], Float32[0.46821958 -0.44524962 0.45411116 0.3932657 -0.036194477; -0.4828807 -0.67283785 0.56075704 0.70084226 -0.021665199; 0.4893105 0.4437081 0.38238 0.6475093 -0.3402665; 0.13776042 0.14440177 0.64374137 0.77794737 0.76739234; 0.07593989 -0.11061378 -0.14938566 -0.42990425 -0.48343313], Float32[-0.5353534, -0.28278983, -0.07728521, -0.5609258, 0.62063086], Float32[-0.7611815 -0.6289122 0.80157685 0.59992725 0.977423], Float32[0.016924197]])\n"
     ]
    },
    {
     "name": "stderr",
     "output_type": "stream",
     "text": [
      "┌ Info: Epoch 19\n",
      "└ @ Main /Users/facundosapienza/.julia/packages/Flux/goUGu/src/optimise/train.jl:136\n"
     ]
    },
    {
     "name": "stdout",
     "output_type": "stream",
     "text": [
      "Current loss: 5.969591445099226\n",
      "Current parameter:Params([Float32[-0.5175741; 0.12143702; -0.25856072; 0.28510657; -0.3252459], Float32[-0.3729766, 1.2311839, -0.6763356, 0.028422806, 0.14506589], Float32[0.15556975 -0.5176449 -0.7345324 0.5055521 0.5340471; -0.6640662 -0.6415753 -0.71894735 0.100265704 0.45856044; -0.55769473 -0.081097044 -0.5998244 -0.40556747 -0.06955977; -0.61799735 -0.6513997 -0.74275 -0.25302896 0.42613056; -0.3850625 0.46345386 0.10561522 0.17833988 0.62977415], Float32[-0.12163247, -0.33428052, 0.26255953, -0.39643583, -0.5576206], Float32[0.46906954 -0.44631594 0.4531267 0.3922697 -0.037151985; -0.48200446 -0.6739197 0.559752 0.69981873 -0.022645775; 0.48847798 0.4447455 0.3833441 0.6484201 -0.3393358; 0.13690487 0.14547773 0.6447216 0.7789137 0.76834345; 0.07509163 -0.109549865 -0.14839996 -0.42890438 -0.48247385], Float32[-0.5363396, -0.28379592, -0.0763166, -0.5599427, 0.6216179], Float32[-0.762181 -0.62812006 0.8026892 0.6009305 0.9784869], Float32[0.017910078]])\n"
     ]
    },
    {
     "name": "stderr",
     "output_type": "stream",
     "text": [
      "┌ Info: Epoch 20\n",
      "└ @ Main /Users/facundosapienza/.julia/packages/Flux/goUGu/src/optimise/train.jl:136\n"
     ]
    },
    {
     "name": "stdout",
     "output_type": "stream",
     "text": [
      "Current loss: 5.8398229497998795\n",
      "Current parameter:Params([Float32[-0.5176603; 0.12051795; -0.25949416; 0.28611818; -0.32436445], Float32[-0.37394002, 1.2302287, -0.67731047, 0.02943203, 0.14602709], Float32[0.15457883 -0.51666325 -0.7355272 0.5065517 0.5330783; -0.6650222 -0.64061683 -0.71991384 0.101227 0.4576412; -0.5566851 -0.08206493 -0.5988294 -0.40659904 -0.068542294; -0.61696666 -0.65240693 -0.7417219 -0.25407046 0.4271522; -0.38409677 0.46250564 0.10658218 0.1773633 0.6307223], Float32[-0.12064354, -0.3333108, 0.26159498, -0.3974445, -0.5585748], Float32[0.46989936 -0.44738716 0.45214388 0.39127564 -0.03810453; -0.4811471 -0.67500716 0.5587474 0.69879586 -0.023622677; 0.48766658 0.44578433 0.3843039 0.6493175 -0.33841345; 0.13606785 0.14655937 0.64570004 0.7798741 0.76928914; 0.07426416 -0.10848145 -0.14741601 -0.42790627 -0.48151964], Float32[-0.53732437, -0.28480178, -0.07535175, -0.5589612, 0.6226034], Float32[-0.7631798 -0.6273571 0.8038099 0.6019332 0.97955745], Float32[0.018894402]])\n"
     ]
    },
    {
     "name": "stderr",
     "output_type": "stream",
     "text": [
      "┌ Info: Epoch 21\n",
      "└ @ Main /Users/facundosapienza/.julia/packages/Flux/goUGu/src/optimise/train.jl:136\n"
     ]
    },
    {
     "name": "stdout",
     "output_type": "stream",
     "text": [
      "Current loss: 5.712590783265237\n",
      "Current parameter:Params([Float32[-0.5176478; 0.119608656; -0.26041928; 0.28712907; -0.32349786], Float32[-0.3749014, 1.2292787, -0.678282, 0.030440755, 0.1469836], Float32[0.1535912 -0.5156853 -0.73651946 0.5075489 0.5321152; -0.6659731 -0.6396629 -0.72087646 0.10218387 0.45673072; -0.55567527 -0.083028816 -0.5978355 -0.40763304 -0.06752369; -0.6159345 -0.6534136 -0.7406924 -0.25511467 0.4281745; -0.38313589 0.46156377 0.10754462 0.17639029 0.6316641], Float32[-0.1196574, -0.33234453, 0.26063478, -0.39845282, -0.5595232], Float32[0.47070748 -0.44846317 0.45116273 0.390284 -0.039051812; -0.48031044 -0.6761001 0.5577435 0.69777435 -0.024595462; 0.4868776 0.44682425 0.38525912 0.6502003 -0.3374999; 0.13525067 0.14764665 0.64667654 0.7808278 0.77022916; 0.07345916 -0.10740869 -0.1464339 -0.4269104 -0.48057085], Float32[-0.53830767, -0.2858072, -0.074390836, -0.55798125, 0.6235873], Float32[-0.76417774 -0.62662584 0.8049386 0.6029351 0.9806349], Float32[0.019877095]])\n"
     ]
    },
    {
     "name": "stderr",
     "output_type": "stream",
     "text": [
      "┌ Info: Epoch 22\n",
      "└ @ Main /Users/facundosapienza/.julia/packages/Flux/goUGu/src/optimise/train.jl:136\n"
     ]
    },
    {
     "name": "stdout",
     "output_type": "stream",
     "text": [
      "Current loss: 5.587952168159808\n",
      "Current parameter:Params([Float32[-0.517539; 0.11870969; -0.26133558; 0.28813893; -0.322647], Float32[-0.37586117, 1.2283344, -0.67925006, 0.031448744, 0.1479352], Float32[0.15260734 -0.51471144 -0.7375088 0.5085434 0.5311584; -0.6669187 -0.6387137 -0.7218351 0.103136115 0.4558293; -0.55466545 -0.08398838 -0.5968429 -0.40866932 -0.06650409; -0.614901 -0.6544195 -0.7396615 -0.25616145 0.42919722; -0.3821802 0.4606287 0.10850217 0.17542116 0.6325992], Float32[-0.1186744, -0.33138183, 0.25967932, -0.39946058, -0.56046546], Float32[0.4714923 -0.44954383 0.45018333 0.38929522 -0.039993525; -0.4794963 -0.6771982 0.55674046 0.69675493 -0.025563667; 0.4861123 0.447865 0.38620958 0.65106714 -0.3365956; 0.13445465 0.14873949 0.6476511 0.781774 0.7711633; 0.07267835 -0.10633176 -0.14545378 -0.42591727 -0.47962782], Float32[-0.5392895, -0.28681198, -0.07343403, -0.55700284, 0.6245695], Float32[-0.76517475 -0.62592876 0.80607516 0.6039359 0.9817195], Float32[0.020858083]])\n"
     ]
    },
    {
     "name": "stderr",
     "output_type": "stream",
     "text": [
      "┌ Info: Epoch 23\n",
      "└ @ Main /Users/facundosapienza/.julia/packages/Flux/goUGu/src/optimise/train.jl:136\n"
     ]
    },
    {
     "name": "stdout",
     "output_type": "stream",
     "text": [
      "Current loss: 5.4659509173443945\n",
      "Current parameter:Params([Float32[-0.517338; 0.11782158; -0.2622426; 0.2891474; -0.3218127], Float32[-0.37681973, 1.227396, -0.6802144, 0.032455746, 0.14888172], Float32[0.15162775 -0.513742 -0.73849475 0.5095346 0.5302084; -0.6678587 -0.63776934 -0.72278947 0.104083546 0.45493728; -0.55365586 -0.08494327 -0.5958518 -0.40970778 -0.06548365; -0.6138665 -0.65542424 -0.7386295 -0.2572106 0.43022013; -0.3812302 0.45970085 0.109454446 0.17445627 0.63352716], Float32[-0.1176949, -0.33042285, 0.25872895, -0.40046751, -0.56140107], Float32[0.47225216 -0.450629 0.4492058 0.38830987 -0.04092936; -0.47870657 -0.6783011 0.5557385 0.69573843 -0.02652681; 0.48537186 0.44890627 0.3871551 0.6519166 -0.33570096; 0.13368113 0.14983778 0.6486237 0.78271174 0.7720912; 0.07192348 -0.10525087 -0.14447577 -0.4249274 -0.47869095], Float32[-0.54026973, -0.28781596, -0.07248151, -0.556026, 0.6255498], Float32[-0.7661707 -0.62526846 0.8072192 0.60493547 0.98281133], Float32[0.021837296]])\n"
     ]
    },
    {
     "name": "stderr",
     "output_type": "stream",
     "text": [
      "┌ Info: Epoch 24\n",
      "└ @ Main /Users/facundosapienza/.julia/packages/Flux/goUGu/src/optimise/train.jl:136\n"
     ]
    },
    {
     "name": "stdout",
     "output_type": "stream",
     "text": [
      "Current loss: 5.346621264969572\n",
      "Current parameter:Params([Float32[-0.51704973; 0.116944835; -0.26313987; 0.29015416; -0.32099566], Float32[-0.37777758, 1.2264638, -0.6811748, 0.0334615, 0.14982301], Float32[0.15065295 -0.5127775 -0.739477 0.5105221 0.5292659; -0.66879296 -0.63683003 -0.72373956 0.105026 0.45405495; -0.5526468 -0.08589311 -0.5948625 -0.41074824 -0.06446254; -0.61283135 -0.6564275 -0.7375967 -0.25826192 0.4312429; -0.38028628 0.45878068 0.11040105 0.17349596 0.6344476], Float32[-0.11671927, -0.3294677, 0.25778407, -0.40147325, -0.5623296], Float32[0.4729854 -0.4517185 0.44823012 0.38732848 -0.041859005; -0.47794318 -0.67940855 0.55473787 0.6947257 -0.027484398; 0.4846575 0.44994777 0.38809544 0.6527474 -0.33481643; 0.13293147 0.15094143 0.64959437 0.7836402 0.77301276; 0.07119632 -0.10416625 -0.1435 -0.4239414 -0.47776058], Float32[-0.5412484, -0.28881893, -0.07153342, -0.5550507, 0.62652814], Float32[-0.7671654 -0.6246476 0.8083704 0.6059335 0.98391056], Float32[0.022814665]])\n"
     ]
    },
    {
     "name": "stderr",
     "output_type": "stream",
     "text": [
      "┌ Info: Epoch 25\n",
      "└ @ Main /Users/facundosapienza/.julia/packages/Flux/goUGu/src/optimise/train.jl:136\n"
     ]
    },
    {
     "name": "stdout",
     "output_type": "stream",
     "text": [
      "Current loss: 5.229982785678377\n",
      "Current parameter:Params([Float32[-0.5166802; 0.11607993; -0.264027; 0.29115885; -0.32019663], Float32[-0.37873527, 1.2255379, -0.6821312, 0.034465738, 0.15075894], Float32[0.14968345 -0.51181823 -0.74045503 0.5115055 0.5283314; -0.6697212 -0.63589585 -0.7246852 0.10596331 0.4531826; -0.55163854 -0.08683748 -0.59387535 -0.41179052 -0.06344097; -0.61179584 -0.657429 -0.7365633 -0.25931513 0.4322653; -0.37934887 0.4578686 0.11134158 0.17254062 0.63536006], Float32[-0.11574787, -0.32851654, 0.25684512, -0.4024775, -0.56325066], Float32[0.47369027 -0.45281217 0.44725642 0.38635164 -0.04278215; -0.4772081 -0.6805201 0.55373883 0.69371766 -0.028435921; 0.48397028 0.4509892 0.3890305 0.65355796 -0.33394235; 0.13220705 0.15205033 0.6505631 0.7845583 0.7739277; 0.070498645 -0.10307812 -0.1425266 -0.4229598 -0.4768371], Float32[-0.5422254, -0.28982064, -0.07058989, -0.55407685, 0.6275044], Float32[-0.76815885 -0.6240688 0.8095284 0.6069297 0.98501736], Float32[0.023790121]])\n"
     ]
    },
    {
     "name": "stderr",
     "output_type": "stream",
     "text": [
      "┌ Info: Epoch 26\n",
      "└ @ Main /Users/facundosapienza/.julia/packages/Flux/goUGu/src/optimise/train.jl:136\n"
     ]
    },
    {
     "name": "stdout",
     "output_type": "stream",
     "text": [
      "Current loss: 5.116046242961683\n",
      "Current parameter:Params([Float32[-0.5162356; 0.11522731; -0.2649036; 0.29216117; -0.3194162], Float32[-0.37969336, 1.2246187, -0.68308336, 0.035468183, 0.15168941], Float32[0.14871979 -0.5108646 -0.7414285 0.5124842 0.52740556; -0.6706432 -0.63496697 -0.7256262 0.10689535 0.45232046; -0.5506314 -0.08777595 -0.59289056 -0.41283438 -0.062419154; -0.6107603 -0.6584283 -0.7355297 -0.26037 0.43328696; -0.37841848 0.4569651 0.11227563 0.17159063 0.6362642], Float32[-0.11478106, -0.32756945, 0.25591254, -0.40347987, -0.5641638], Float32[0.47436512 -0.45390978 0.44628477 0.38538 -0.043698482; -0.47650328 -0.68163544 0.55274165 0.6927152 -0.029380864; 0.4833113 0.45203024 0.38996002 0.65434694 -0.33307913; 0.13150927 0.15316437 0.6515299 0.78546506 0.7748358; 0.06983225 -0.101986736 -0.14155568 -0.42198327 -0.4759209], Float32[-0.5432008, -0.2908209, -0.06965107, -0.55310446, 0.6284785], Float32[-0.76915085 -0.6235346 0.81069285 0.60792387 0.9861318], Float32[0.0247636]])\n"
     ]
    },
    {
     "name": "stderr",
     "output_type": "stream",
     "text": [
      "┌ Info: Epoch 27\n",
      "└ @ Main /Users/facundosapienza/.julia/packages/Flux/goUGu/src/optimise/train.jl:136\n"
     ]
    },
    {
     "name": "stdout",
     "output_type": "stream",
     "text": [
      "Current loss: 5.0048114472716865\n",
      "Current parameter:Params([Float32[-0.51572245; 0.11438742; -0.2657693; 0.2931607; -0.31865495], Float32[-0.38065246, 1.2237062, -0.6840312, 0.036468554, 0.15261434], Float32[0.14776248 -0.5099171 -0.7423969 0.5134577 0.5264889; -0.67155886 -0.6340435 -0.72656244 0.10782198 0.45146874; -0.5496258 -0.08870806 -0.5919085 -0.41387954 -0.061397336; -0.6097251 -0.6594251 -0.7344962 -0.26142618 0.43430758; -0.37749553 0.45607057 0.11320277 0.17064637 0.6371596], Float32[-0.11381921, -0.32662657, 0.25498688, -0.40447998, -0.56506854], Float32[0.47500822 -0.45501116 0.4453152 0.3844142 -0.044607695; -0.47583067 -0.6827541 0.55174655 0.6917195 -0.030318705; 0.48268154 0.45307067 0.39088395 0.6551129 -0.3322271; 0.13083954 0.15428343 0.6524948 0.7863594 0.7757369; 0.06919891 -0.10089236 -0.14058739 -0.42101246 -0.4750123], Float32[-0.54417443, -0.29181945, -0.06871705, -0.55213356, 0.6294504], Float32[-0.77014136 -0.62304765 0.81186336 0.6089157 0.98725396], Float32[0.025735045]])\n"
     ]
    },
    {
     "name": "stderr",
     "output_type": "stream",
     "text": [
      "┌ Info: Epoch 28\n",
      "└ @ Main /Users/facundosapienza/.julia/packages/Flux/goUGu/src/optimise/train.jl:136\n"
     ]
    },
    {
     "name": "stdout",
     "output_type": "stream",
     "text": [
      "Current loss: 4.896266944223694\n",
      "Current parameter:Params([Float32[-0.5151473; 0.11356065; -0.26662377; 0.29415712; -0.31791335], Float32[-0.3816132, 1.2228009, -0.68497455, 0.037466567, 0.15353371], Float32[0.14681204 -0.508976 -0.74335986 0.51442564 0.525582; -0.67246795 -0.63312554 -0.7274939 0.10874309 0.45062762; -0.5486221 -0.0896333 -0.5909296 -0.41492572 -0.060375787; -0.6086907 -0.66041887 -0.73346305 -0.2624834 0.43532676; -0.3765805 0.4551855 0.114122584 0.16970825 0.63804585], Float32[-0.11286267, -0.32568797, 0.25406864, -0.40547743, -0.56596446], Float32[0.4756179 -0.45611608 0.44434783 0.38345486 -0.045509487; -0.4751922 -0.68387574 0.55075383 0.6907314 -0.031248925; 0.48208195 0.45411018 0.3918021 0.65585446 -0.3313866; 0.13019925 0.15540741 0.65345776 0.7872403 0.77663076; 0.06860035 -0.09979525 -0.13962185 -0.42004803 -0.47411174], Float32[-0.5451463, -0.29281607, -0.06778793, -0.55116403, 0.63041985], Float32[-0.77113026 -0.6226104 0.8130396 0.6099049 0.9883839], Float32[0.026704393]])\n"
     ]
    },
    {
     "name": "stderr",
     "output_type": "stream",
     "text": [
      "┌ Info: Epoch 29\n",
      "└ @ Main /Users/facundosapienza/.julia/packages/Flux/goUGu/src/optimise/train.jl:136\n"
     ]
    },
    {
     "name": "stdout",
     "output_type": "stream",
     "text": [
      "Current loss: 4.790393311490637\n",
      "Current parameter:Params([Float32[-0.5145166; 0.11274734; -0.2674667; 0.29515004; -0.3171918], Float32[-0.38257623, 1.2219026, -0.6859134, 0.03846194, 0.1544475], Float32[0.14586896 -0.50804174 -0.74431694 0.5153875 0.52468544; -0.6733703 -0.6322132 -0.7284204 0.10965857 0.4497973; -0.54762065 -0.09055115 -0.5899543 -0.4159726 -0.05935479; -0.60765743 -0.66140926 -0.73243076 -0.2635413 0.43634418; -0.3756739 0.45431033 0.11503463 0.16877668 0.6389226], Float32[-0.11191178, -0.32475376, 0.2531584, -0.40647182, -0.5668511], Float32[0.47619244 -0.45722437 0.44338265 0.3825027 -0.046403553; -0.4745897 -0.6849998 0.54976374 0.6897521 -0.032171004; 0.48151335 0.45514855 0.39271438 0.6565702 -0.33055788; 0.1295898 0.15653618 0.6544189 0.78810656 0.77751714; 0.068038285 -0.098695695 -0.1386592 -0.41909063 -0.47321954], Float32[-0.54611635, -0.2938105, -0.066863805, -0.5501959, 0.6313868], Float32[-0.7721175 -0.6222252 0.8142212 0.61089116 0.98952156], Float32[0.02767159]])\n"
     ]
    },
    {
     "name": "stderr",
     "output_type": "stream",
     "text": [
      "┌ Info: Epoch 30\n",
      "└ @ Main /Users/facundosapienza/.julia/packages/Flux/goUGu/src/optimise/train.jl:136\n"
     ]
    },
    {
     "name": "stdout",
     "output_type": "stream",
     "text": [
      "Current loss: 4.6871608796830495\n",
      "Current parameter:Params([Float32[-0.5138365; 0.11194783; -0.26829782; 0.29613912; -0.31649062], Float32[-0.38354215, 1.2210116, -0.68684757, 0.03945439, 0.15535574], Float32[0.14493373 -0.5071147 -0.74526775 0.51634276 0.5237997; -0.67426586 -0.6313065 -0.72934186 0.11056834 0.44897792; -0.546622 -0.09146106 -0.58898306 -0.41701978 -0.058334652; -0.6066258 -0.66239583 -0.7313996 -0.2645996 0.43735948; -0.37477612 0.45344546 0.11593848 0.16785206 0.63978934], Float32[-0.11096687, -0.323824, 0.25225672, -0.40746272, -0.5677279], Float32[0.47673026 -0.4583358 0.44241977 0.38155845 -0.047289606; -0.47402498 -0.686126 0.54877657 0.68878263 -0.033084426; 0.48097655 0.45618552 0.39362067 0.6572587 -0.3297412; 0.12901257 0.15766962 0.65537816 0.788957 0.77839595; 0.06751436 -0.097593956 -0.13769954 -0.41814098 -0.47233605], Float32[-0.54708457, -0.2948025, -0.065944746, -0.549229, 0.63235116], Float32[-0.77310294 -0.62189436 0.81540775 0.6118742 0.990667], Float32[0.028636588]])\n"
     ]
    },
    {
     "name": "stderr",
     "output_type": "stream",
     "text": [
      "┌ Info: Epoch 31\n",
      "└ @ Main /Users/facundosapienza/.julia/packages/Flux/goUGu/src/optimise/train.jl:136\n"
     ]
    },
    {
     "name": "stdout",
     "output_type": "stream",
     "text": [
      "Current loss: 4.586532770701832\n",
      "Current parameter:Params([Float32[-0.513113; 0.1111624; -0.26911694; 0.297124; -0.31580997], Float32[-0.38451162, 1.220128, -0.6877771, 0.04044364, 0.15625848], Float32[0.14400682 -0.5061952 -0.74621195 0.51729107 0.5229254; -0.67515445 -0.6304056 -0.7302582 0.111472316 0.44816956; -0.5456265 -0.09236243 -0.5880163 -0.41806695 -0.057315696; -0.6055962 -0.6633782 -0.73037004 -0.26565784 0.43837228; -0.3738877 0.45259136 0.11683369 0.16693482 0.6406458], Float32[-0.11002825, -0.32289875, 0.2513643, -0.40844965, -0.5685946], Float32[0.47722974 -0.4594501 0.44145924 0.38062277 -0.048167355; -0.47349977 -0.6872538 0.54779255 0.68782413 -0.033988692; 0.4804722 0.45722088 0.3945209 0.6579186 -0.32893685; 0.12846896 0.15880762 0.6563356 0.78979045 0.77926695; 0.06703015 -0.096490316 -0.13674302 -0.41719976 -0.47146162], Float32[-0.5480509, -0.2957918, -0.06503081, -0.54826343, 0.6333128], Float32[-0.77408653 -0.6216198 0.81659883 0.6128538 0.9918201], Float32[0.029599337]])\n"
     ]
    },
    {
     "name": "stderr",
     "output_type": "stream",
     "text": [
      "┌ Info: Epoch 32\n",
      "└ @ Main /Users/facundosapienza/.julia/packages/Flux/goUGu/src/optimise/train.jl:136\n"
     ]
    },
    {
     "name": "stdout",
     "output_type": "stream",
     "text": [
      "Current loss: 4.4884643248128375\n",
      "Current parameter:Params([Float32[-0.51235175; 0.11039131; -0.26992384; 0.29810435; -0.31514996], Float32[-0.38548526, 1.219252, -0.68870187, 0.041429423, 0.15715581], Float32[0.14308865 -0.5052835 -0.7471491 0.5182319 0.52206284; -0.67603594 -0.62951046 -0.7311694 0.11237044 0.44737235; -0.5446348 -0.09325464 -0.58705455 -0.41911364 -0.056298267; -0.6045691 -0.6643558 -0.72934246 -0.26671574 0.43938223; -0.37300906 0.45174843 0.117719814 0.16602537 0.6414916], Float32[-0.10909623, -0.32197806, 0.25048175, -0.4094322, -0.5694506], Float32[0.47768936 -0.46056712 0.4405011 0.3796964 -0.049036525; -0.47301564 -0.68838274 0.54681206 0.6868777 -0.03488331; 0.48000097 0.45825443 0.395415 0.65854853 -0.32814497; 0.12796031 0.15995006 0.6572913 0.7906057 0.78012997; 0.066587135 -0.09538505 -0.13578975 -0.4162677 -0.4705966], Float32[-0.5490153, -0.29677823, -0.06412204, -0.547299, 0.6342717], Float32[-0.7750682 -0.62140346 0.81779414 0.61382973 0.9929808], Float32[0.030559795]])\n"
     ]
    },
    {
     "name": "stderr",
     "output_type": "stream",
     "text": [
      "┌ Info: Epoch 33\n",
      "└ @ Main /Users/facundosapienza/.julia/packages/Flux/goUGu/src/optimise/train.jl:136\n"
     ]
    },
    {
     "name": "stdout",
     "output_type": "stream",
     "text": [
      "Current loss: 4.392904812932725\n",
      "Current parameter:Params([Float32[-0.5115581; 0.10963477; -0.2707184; 0.2990798; -0.31451064], Float32[-0.38646367, 1.2183834, -0.68962187, 0.042411473, 0.15804785], Float32[0.14217967 -0.50437987 -0.7480789 0.519165 0.5212125; -0.6769103 -0.62862116 -0.7320754 0.113262646 0.44658634; -0.5436474 -0.094137035 -0.5860984 -0.4201594 -0.05528272; -0.6035449 -0.6653283 -0.72831726 -0.26777285 0.44038892; -0.37214065 0.45091712 0.11859642 0.16512416 0.64232635], Float32[-0.108171076, -0.32106203, 0.24960983, -0.4104099, -0.5702956], Float32[0.47810763 -0.4616866 0.43954542 0.37878004 -0.04989685; -0.47257408 -0.6895125 0.54583526 0.6859446 -0.0357678; 0.47956336 0.45928597 0.3963029 0.65914726 -0.3273658; 0.12748796 0.16109683 0.6582452 0.7914015 0.7809849; 0.066186704 -0.09427844 -0.13483985 -0.41534546 -0.4697413], Float32[-0.5499777, -0.2977615, -0.063218474, -0.54633576, 0.6352277], Float32[-0.77604795 -0.6212469 0.8189933 0.61480165 0.99414897], Float32[0.031517923]])\n"
     ]
    },
    {
     "name": "stderr",
     "output_type": "stream",
     "text": [
      "┌ Info: Epoch 34\n",
      "└ @ Main /Users/facundosapienza/.julia/packages/Flux/goUGu/src/optimise/train.jl:136\n"
     ]
    },
    {
     "name": "stdout",
     "output_type": "stream",
     "text": [
      "Current loss: 4.299798608911392\n",
      "Current parameter:Params([Float32[-0.5107372; 0.10889296; -0.2715005; 0.3000501; -0.3138919], Float32[-0.38744745, 1.2175225, -0.6905371, 0.043389536, 0.15893476], Float32[0.14128023 -0.50348467 -0.74900097 0.5200898 0.52037483; -0.6777774 -0.62773776 -0.7329761 0.11414889 0.4458116; -0.5426648 -0.09500894 -0.5851484 -0.42120376 -0.054269426; -0.6025241 -0.66629523 -0.72729486 -0.2688288 0.44139197; -0.37128296 0.45009783 0.119463064 0.16423161 0.6431497], Float32[-0.10725304, -0.32015067, 0.24874926, -0.41138226, -0.57112896], Float32[0.4784832 -0.4628084 0.43859226 0.3778744 -0.05074808; -0.47217643 -0.69064254 0.54486245 0.6850259 -0.03664171; 0.4791598 0.46031535 0.39718458 0.65971357 -0.32659945; 0.12705319 0.1622478 0.65919745 0.79217654 0.7818315; 0.06583013 -0.09317075 -0.13389342 -0.41443378 -0.46889606], Float32[-0.5509381, -0.29874137, -0.062320124, -0.5453736, 0.6361807], Float32[-0.7770257 -0.6211513 0.8201959 0.6157693 0.99532455], Float32[0.032473687]])\n"
     ]
    },
    {
     "name": "stderr",
     "output_type": "stream",
     "text": [
      "┌ Info: Epoch 35\n",
      "└ @ Main /Users/facundosapienza/.julia/packages/Flux/goUGu/src/optimise/train.jl:136\n"
     ]
    },
    {
     "name": "stdout",
     "output_type": "stream",
     "text": [
      "Current loss: 4.2090853443987575\n",
      "Current parameter:Params([Float32[-0.50989383; 0.10816602; -0.27227008; 0.30101493; -0.31329355], Float32[-0.3884371, 1.2166693, -0.6914476, 0.044363372, 0.15981668], Float32[0.1403907 -0.5025981 -0.74991506 0.52100605 0.51955014; -0.67863727 -0.62686026 -0.73387146 0.11502914 0.44504818; -0.54168767 -0.09586963 -0.5842052 -0.42224622 -0.053258777; -0.6015071 -0.6672561 -0.7262757 -0.26988322 0.44239104; -0.37043643 0.449291 0.12031931 0.16334815 0.64396125], Float32[-0.10634235, -0.31924403, 0.24790081, -0.41234884, -0.57195044], Float32[0.4788148 -0.46393225 0.43764165 0.37698025 -0.051589966; -0.47182387 -0.69177246 0.54389393 0.6841226 -0.037504602; 0.47879067 0.46134242 0.39806 0.6602463 -0.32584605; 0.12665723 0.16340289 0.660148 0.79292953 0.7826697; 0.065518536 -0.09206224 -0.13295057 -0.41353333 -0.46806112], Float32[-0.5518965, -0.2997176, -0.061427, -0.5444125, 0.6371306], Float32[-0.7780014 -0.62111783 0.8214017 0.61673254 0.9965074], Float32[0.033427056]])\n"
     ]
    },
    {
     "name": "stderr",
     "output_type": "stream",
     "text": [
      "┌ Info: Epoch 36\n",
      "└ @ Main /Users/facundosapienza/.julia/packages/Flux/goUGu/src/optimise/train.jl:136\n"
     ]
    },
    {
     "name": "stdout",
     "output_type": "stream",
     "text": [
      "Current loss: 4.120699923129882\n",
      "Current parameter:Params([Float32[-0.5090326; 0.10745404; -0.2730271; 0.30197397; -0.3127153], Float32[-0.38943312, 1.2158238, -0.69235337, 0.045332752, 0.16069384], Float32[0.13951136 -0.50172037 -0.75082093 0.5219134 0.51873875; -0.67948973 -0.6259887 -0.7347615 0.11590337 0.4442961; -0.5407165 -0.09671838 -0.5832695 -0.42328626 -0.05225117; -0.60049444 -0.6682105 -0.72526014 -0.27093568 0.44338575; -0.36960146 0.44849697 0.12116472 0.16247422 0.6447608], Float32[-0.105439216, -0.31834212, 0.24706532, -0.41330916, -0.5727595], Float32[0.47910133 -0.46505797 0.43669364 0.37609828 -0.052422278; -0.47151738 -0.69290185 0.5429299 0.68323594 -0.038356066; 0.47845623 0.46236706 0.39892912 0.66074437 -0.3251057; 0.12630129 0.16456196 0.661097 0.79365915 0.7834994; 0.06525294 -0.09095319 -0.13201143 -0.4126448 -0.4672368], Float32[-0.55285287, -0.30069, -0.0605391, -0.5434524, 0.6380774], Float32[-0.7789751 -0.62114704 0.8226103 0.61769104 0.99769735], Float32[0.034378003]])\n"
     ]
    },
    {
     "name": "stderr",
     "output_type": "stream",
     "text": [
      "┌ Info: Epoch 37\n",
      "└ @ Main /Users/facundosapienza/.julia/packages/Flux/goUGu/src/optimise/train.jl:136\n"
     ]
    },
    {
     "name": "stdout",
     "output_type": "stream",
     "text": [
      "Current loss: 4.0345755057731205\n",
      "Current parameter:Params([Float32[-0.50815785; 0.10675709; -0.27377155; 0.302927; -0.31215677], Float32[-0.390436, 1.214986, -0.6932545, 0.046297465, 0.16156645], Float32[0.13864252 -0.50085163 -0.7517183 0.5228116 0.51794094; -0.68033487 -0.6251231 -0.7356461 0.116771564 0.44355533; -0.539752 -0.0975544 -0.58234185 -0.4243233 -0.051247023; -0.5994865 -0.669158 -0.7242487 -0.2719858 0.44437572; -0.3687785 0.44771615 0.121998854 0.16161023 0.6455479], Float32[-0.10454381, -0.31744498, 0.24624364, -0.41426277, -0.57355577], Float32[0.4793417 -0.46618536 0.43574828 0.3752292 -0.053244803; -0.47125784 -0.6940303 0.5419706 0.68236697 -0.039195713; 0.4781567 0.46338913 0.39979196 0.6612067 -0.32437846; 0.12598649 0.1657249 0.6620444 0.7943641 0.7843205; 0.06503417 -0.089843854 -0.13107608 -0.41176888 -0.4664233], Float32[-0.55380714, -0.30165833, -0.05965641, -0.54249316, 0.6390209], Float32[-0.7799468 -0.6212393 0.82382137 0.61864465 0.9988942], Float32[0.035326507]])\n"
     ]
    },
    {
     "name": "stderr",
     "output_type": "stream",
     "text": [
      "┌ Info: Epoch 38\n",
      "└ @ Main /Users/facundosapienza/.julia/packages/Flux/goUGu/src/optimise/train.jl:136\n"
     ]
    },
    {
     "name": "stdout",
     "output_type": "stream",
     "text": [
      "Current loss: 3.9506425815323403\n",
      "Current parameter:Params([Float32[-0.5072737; 0.1060752; -0.27450353; 0.30387372; -0.31161746], Float32[-0.39144614, 1.2141558, -0.6941509, 0.047257304, 0.16243477], Float32[0.1377844 -0.499992 -0.7526069 0.52370036 0.51715696; -0.6811726 -0.6242634 -0.73652536 0.11763371 0.44282585; -0.5387948 -0.09837691 -0.58142304 -0.42535675 -0.05024675; -0.5984837 -0.6700981 -0.72324175 -0.27303317 0.4453606; -0.36796796 0.44694892 0.1228213 0.16075663 0.6463223], Float32[-0.103656285, -0.3165526, 0.24543665, -0.41520923, -0.5743388], Float32[0.479535 -0.46731424 0.4348056 0.37437373 -0.05405734; -0.47104585 -0.6951574 0.54101634 0.68151677 -0.040023185; 0.47789213 0.46440858 0.40064853 0.6616325 -0.3236644; 0.12571387 0.1668916 0.66299033 0.795043 0.78513277; 0.06486293 -0.08873447 -0.13014463 -0.4109062 -0.4656209], Float32[-0.55475926, -0.30262238, -0.05877891, -0.54153484, 0.6399611], Float32[-0.78091645 -0.62139463 0.82503456 0.61959314 1.0000979], Float32[0.03627255]])\n"
     ]
    },
    {
     "name": "stderr",
     "output_type": "stream",
     "text": [
      "┌ Info: Epoch 39\n",
      "└ @ Main /Users/facundosapienza/.julia/packages/Flux/goUGu/src/optimise/train.jl:136\n"
     ]
    },
    {
     "name": "stdout",
     "output_type": "stream",
     "text": [
      "Current loss: 3.8688303297619266\n",
      "Current parameter:Params([Float32[-0.5063841; 0.10540835; -0.27522308; 0.30481395; -0.31109685], Float32[-0.39246392, 1.2133332, -0.6950428, 0.048212092, 0.16329907], Float32[0.13693723 -0.49914166 -0.7534867 0.5245794 0.516387; -0.6820029 -0.6234096 -0.7373992 0.1184898 0.44210765; -0.53784555 -0.099185064 -0.58051383 -0.42638603 -0.049250785; -0.5974865 -0.67103046 -0.72223973 -0.27407742 0.44634002; -0.36717027 0.44619563 0.123631634 0.15991385 0.6470837], Float32[-0.10277675, -0.31566504, 0.24464527, -0.41614807, -0.57510823], Float32[0.47968054 -0.4684444 0.43386567 0.37353256 -0.05485971; -0.47088188 -0.6962828 0.54006726 0.6806864 -0.040838156; 0.47766262 0.4654253 0.40149885 0.6620208 -0.32296348; 0.12548442 0.16806196 0.66393477 0.7956945 0.7859362; 0.06473973 -0.08762529 -0.12921715 -0.41005743 -0.46482983], Float32[-0.5557093, -0.30358195, -0.05790657, -0.54057735, 0.6408979], Float32[-0.7818841 -0.6216128 0.82624966 0.6205364 1.001308], Float32[0.03721611]])\n"
     ]
    },
    {
     "name": "stderr",
     "output_type": "stream",
     "text": [
      "┌ Info: Epoch 40\n",
      "└ @ Main /Users/facundosapienza/.julia/packages/Flux/goUGu/src/optimise/train.jl:136\n"
     ]
    },
    {
     "name": "stdout",
     "output_type": "stream",
     "text": [
      "Current loss: 3.7890670929857455\n",
      "Current parameter:Params([Float32[-0.50549287; 0.10475651; -0.27593032; 0.30574748; -0.3105943], Float32[-0.39348966, 1.2125182, -0.6959302, 0.049161658, 0.16415963], Float32[0.13610113 -0.49830067 -0.7543574 0.5254486 0.51563114; -0.6828258 -0.6225618 -0.73826766 0.119339846 0.4414007; -0.536905 -0.09997802 -0.579615 -0.42741048 -0.048259567; -0.5964953 -0.67195463 -0.7212431 -0.2751181 0.44731367; -0.3663858 0.44545662 0.124429435 0.15908231 0.6478318], Float32[-0.1019053, -0.31478226, 0.24387045, -0.41707885, -0.57586366], Float32[0.4797777 -0.46957567 0.4329285 0.37270635 -0.05565174; -0.47076616 -0.69740605 0.5391236 0.67987686 -0.041640326; 0.4774681 0.46643928 0.40234295 0.6623709 -0.32227573; 0.12529902 0.16923586 0.6648778 0.7963172 0.78673065; 0.064664915 -0.08651654 -0.12829372 -0.4092232 -0.46405026], Float32[-0.55665714, -0.30453688, -0.057039347, -0.53962064, 0.6418313], Float32[-0.7828497 -0.62189305 0.8274663 0.62147415 1.0025244], Float32[0.038157176]])\n"
     ]
    },
    {
     "name": "stderr",
     "output_type": "stream",
     "text": [
      "┌ Info: Epoch 41\n",
      "└ @ Main /Users/facundosapienza/.julia/packages/Flux/goUGu/src/optimise/train.jl:136\n"
     ]
    },
    {
     "name": "stdout",
     "output_type": "stream",
     "text": [
      "Current loss: 3.71128075623223\n",
      "Current parameter:Params([Float32[-0.5046036; 0.10411961; -0.2766254; 0.3066741; -0.31010905], Float32[-0.39452362, 1.2117107, -0.6968132, 0.05010585, 0.16501674], Float32[0.13527624 -0.49746907 -0.755219 0.5263078 0.5148896; -0.6836413 -0.62171984 -0.7391307 0.120183855 0.44070494; -0.5359738 -0.1007549 -0.5787273 -0.42842948 -0.047273543; -0.5955105 -0.6728702 -0.72025216 -0.27615488 0.44828123; -0.3656149 0.44473225 0.12521431 0.15826242 0.6485663], Float32[-0.10104201, -0.3139043, 0.24311319, -0.41800115, -0.57660466], Float32[0.479826 -0.4707079 0.43199414 0.3718958 -0.05643328; -0.47069877 -0.69852686 0.53818554 0.6790891 -0.042429432; 0.47730848 0.4674504 0.40318087 0.6626822 -0.3216011; 0.12515846 0.17041318 0.66581935 0.7969098 0.7875161; 0.064638674 -0.08540845 -0.12737444 -0.40840408 -0.46328235], Float32[-0.5576028, -0.30548695, -0.056177195, -0.53866464, 0.6427611], Float32[-0.7838134 -0.6222345 0.8286843 0.6224063 1.0037469], Float32[0.039095744]])\n"
     ]
    },
    {
     "name": "stderr",
     "output_type": "stream",
     "text": [
      "┌ Info: Epoch 42\n",
      "└ @ Main /Users/facundosapienza/.julia/packages/Flux/goUGu/src/optimise/train.jl:136\n"
     ]
    },
    {
     "name": "stdout",
     "output_type": "stream",
     "text": [
      "Current loss: 3.6354001153515143\n",
      "Current parameter:Params([Float32[-0.5037198; 0.103497535; -0.2773085; 0.30759364; -0.30964038], Float32[-0.39556602, 1.2109106, -0.697692, 0.05104454, 0.16587073], Float32[0.13446264 -0.49664688 -0.7560713 0.5271569 0.51416236; -0.68444943 -0.62088376 -0.73998827 0.12102184 0.4400203; -0.53505266 -0.101514794 -0.5778516 -0.42944232 -0.046293158; -0.5945325 -0.6737768 -0.71926737 -0.27718735 0.44924235; -0.36485794 0.4440228 0.12598586 0.15745458 0.649287], Float32[-0.10018691, -0.3130311, 0.2423745, -0.41891456, -0.57733095], Float32[0.47982523 -0.47184086 0.4310626 0.3711015 -0.057204198; -0.4706796 -0.69964486 0.5372533 0.6783241 -0.043205243; 0.47718358 0.4684587 0.40401265 0.662954 -0.32093954; 0.12506342 0.17159383 0.66675955 0.7974709 0.78829247; 0.06466101 -0.08430123 -0.12645938 -0.4076007 -0.46252626], Float32[-0.5585463, -0.30643198, -0.05532006, -0.53770936, 0.64368737], Float32[-0.78477526 -0.62263596 0.82990324 0.6233327 1.0049752], Float32[0.04003181]])\n"
     ]
    },
    {
     "name": "stderr",
     "output_type": "stream",
     "text": [
      "┌ Info: Epoch 43\n",
      "└ @ Main /Users/facundosapienza/.julia/packages/Flux/goUGu/src/optimise/train.jl:136\n"
     ]
    },
    {
     "name": "stdout",
     "output_type": "stream",
     "text": [
      "Current loss: 3.5613535626132804\n",
      "Current parameter:Params([Float32[-0.5028448; 0.10289016; -0.27797982; 0.308506; -0.3091874], Float32[-0.396617, 1.2101177, -0.6985666, 0.051977605, 0.16672191], Float32[0.13366036 -0.4958341 -0.75691444 0.52799577 0.5134495; -0.6852502 -0.6200535 -0.74084044 0.12185381 0.4393467; -0.5341423 -0.10225678 -0.57698876 -0.4304483 -0.045318868; -0.59356165 -0.6746741 -0.7182891 -0.27821517 0.45019677; -0.3641153 0.4433286 0.1267437 0.15665922 0.6499936], Float32[-0.09934, -0.31216273, 0.24165541, -0.4198187, -0.57804215], Float32[0.47977522 -0.47297445 0.43013394 0.3703241 -0.05796438; -0.47070834 -0.70075977 0.53632706 0.6775826 -0.043967556; 0.47709313 0.46946415 0.40483835 0.6631859 -0.32029095; 0.12501447 0.17277768 0.66769844 0.7979992 0.78905964; 0.06473177 -0.0831951 -0.12554859 -0.4068136 -0.46178216], Float32[-0.5594876, -0.30737185, -0.054467887, -0.5367547, 0.6446099], Float32[-0.78573525 -0.6230959 0.831123 0.6242532 1.0062091], Float32[0.040965363]])\n"
     ]
    },
    {
     "name": "stderr",
     "output_type": "stream",
     "text": [
      "┌ Info: Epoch 44\n",
      "└ @ Main /Users/facundosapienza/.julia/packages/Flux/goUGu/src/optimise/train.jl:136\n"
     ]
    },
    {
     "name": "stdout",
     "output_type": "stream",
     "text": [
      "Current loss: 3.4890706231488178\n",
      "Current parameter:Params([Float32[-0.5019818; 0.102297336; -0.27863958; 0.30941105; -0.3087493], Float32[-0.39767668, 1.209332, -0.6994372, 0.052904945, 0.1675706], Float32[0.13286942 -0.49503073 -0.75774825 0.5288243 0.5127509; -0.6860437 -0.6192291 -0.74168724 0.122679815 0.43868408; -0.53324354 -0.10297991 -0.5761396 -0.4314467 -0.04435113; -0.5925983 -0.67556167 -0.71731764 -0.279238 0.4511442; -0.36338726 0.44264987 0.12748748 0.1558767 0.6506859], Float32[-0.09850127, -0.31129912, 0.24095702, -0.42071316, -0.578738], Float32[0.479676 -0.4741085 0.42920816 0.3695642 -0.058713734; -0.4707845 -0.7018713 0.53540695 0.6768656 -0.044716205; 0.47703683 0.4704667 0.40565804 0.6633776 -0.31965527; 0.12501207 0.17396462 0.668636 0.7984933 0.78981763; 0.06485061 -0.082090236 -0.12464214 -0.40604326 -0.4610501], Float32[-0.5604266, -0.3083064, -0.05362061, -0.5358007, 0.6455288], Float32[-0.78669345 -0.62361276 0.8323433 0.6251678 1.0074484], Float32[0.04189641]])\n"
     ]
    },
    {
     "name": "stderr",
     "output_type": "stream",
     "text": [
      "┌ Info: Epoch 45\n",
      "└ @ Main /Users/facundosapienza/.julia/packages/Flux/goUGu/src/optimise/train.jl:136\n"
     ]
    },
    {
     "name": "stdout",
     "output_type": "stream",
     "text": [
      "Current loss: 3.4184836655473485\n",
      "Current parameter:Params([Float32[-0.50113386; 0.10171888; -0.27928802; 0.31030867; -0.30832508], Float32[-0.39874512, 1.2085534, -0.7003039, 0.053826477, 0.16841714], Float32[0.1320898 -0.49423668 -0.7585728 0.52964264 0.51206666; -0.68682986 -0.6184104 -0.7425287 0.123499855 0.43803236; -0.5323571 -0.103683226 -0.5753051 -0.43243682 -0.0433904; -0.5916428 -0.6764392 -0.7163534 -0.28025544 0.45208433; -0.36267412 0.44198692 0.12821683 0.15510741 0.65136373], Float32[-0.09767069, -0.31044027, 0.24028042, -0.4215976, -0.57941806], Float32[0.47952783 -0.47524282 0.4282853 0.3688224 -0.059452184; -0.47090742 -0.7029791 0.5344931 0.6761736 -0.04545106; 0.47701436 0.4714664 0.40647176 0.6635288 -0.31903234; 0.12505654 0.17515454 0.66957235 0.7989519 0.7905664; 0.065017074 -0.080986835 -0.1237401 -0.40529022 -0.4603302], Float32[-0.56136334, -0.30923545, -0.052778166, -0.53484726, 0.6464439], Float32[-0.7876499 -0.62418455 0.8335639 0.62607634 1.0086929], Float32[0.04282495]])\n"
     ]
    },
    {
     "name": "stderr",
     "output_type": "stream",
     "text": [
      "┌ Info: Epoch 46\n",
      "└ @ Main /Users/facundosapienza/.julia/packages/Flux/goUGu/src/optimise/train.jl:136\n"
     ]
    },
    {
     "name": "stdout",
     "output_type": "stream",
     "text": [
      "Current loss: 3.3495248177402734\n",
      "Current parameter:Params([Float32[-0.5003039; 0.1011546; -0.2799254; 0.31119877; -0.30791387], Float32[-0.39982232, 1.2077818, -0.7011668, 0.054742135, 0.16926183], Float32[0.13132142 -0.49345186 -0.75938815 0.5304507 0.51139665; -0.68760884 -0.61759746 -0.74336475 0.12431397 0.43739143; -0.53148377 -0.104365736 -0.5744862 -0.4334179 -0.042437132; -0.59069544 -0.67730653 -0.71539676 -0.28126723 0.45301697; -0.36197615 0.44133997 0.12893143 0.15435173 0.6520269], Float32[-0.09684818, -0.30958617, 0.23962674, -0.4224717, -0.5800821], Float32[0.47933102 -0.4763773 0.42736536 0.36809918 -0.060179677; -0.47107634 -0.7040829 0.53358567 0.67550755 -0.046172027; 0.47702527 0.47246322 0.4072796 0.6636394 -0.31842205; 0.12514807 0.1763473 0.67050743 0.7993738 0.7913059; 0.06523052 -0.07988507 -0.1228425 -0.40455493 -0.45962247], Float32[-0.5622978, -0.3101589, -0.051940482, -0.53389436, 0.64735526], Float32[-0.7886048 -0.62480927 0.8347847 0.6269788 1.0099422], Float32[0.043750986]])\n"
     ]
    },
    {
     "name": "stderr",
     "output_type": "stream",
     "text": [
      "┌ Info: Epoch 47\n",
      "└ @ Main /Users/facundosapienza/.julia/packages/Flux/goUGu/src/optimise/train.jl:136\n"
     ]
    },
    {
     "name": "stdout",
     "output_type": "stream",
     "text": [
      "Current loss: 3.28212939963323\n",
      "Current parameter:Params([Float32[-0.4994948; 0.10060429; -0.28055203; 0.31208128; -0.30751467], Float32[-0.40090826, 1.207017, -0.7020261, 0.055651862, 0.170105], Float32[0.1305642 -0.4926762 -0.7601943 0.5312485 0.5107407; -0.68838066 -0.61679024 -0.7441955 0.12512219 0.4367612; -0.53062433 -0.105026454 -0.5736838 -0.4343891 -0.04149178; -0.5897565 -0.67816323 -0.714448 -0.28227302 0.45394185; -0.3612936 0.44070926 0.12963095 0.15360998 0.6526752], Float32[-0.09603367, -0.30873677, 0.23899712, -0.42333513, -0.5807299], Float32[0.47908607 -0.47751182 0.42644837 0.36739507 -0.060896177; -0.47129032 -0.7051825 0.5326848 0.6748679 -0.046879042; 0.4770691 0.47345725 0.40808165 0.66370946 -0.3178242; 0.12528674 0.1775428 0.6714413 0.7997577 0.7920362; 0.06549018 -0.07878511 -0.12194939 -0.40383783 -0.458927], Float32[-0.56323004, -0.31107667, -0.05110749, -0.532942, 0.6482628], Float32[-0.78955805 -0.6254847 0.83600533 0.62787515 1.011196], Float32[0.04467453]])\n"
     ]
    },
    {
     "name": "stderr",
     "output_type": "stream",
     "text": [
      "┌ Info: Epoch 48\n",
      "└ @ Main /Users/facundosapienza/.julia/packages/Flux/goUGu/src/optimise/train.jl:136\n"
     ]
    },
    {
     "name": "stdout",
     "output_type": "stream",
     "text": [
      "Current loss: 3.216233658341961\n",
      "Current parameter:Params([Float32[-0.49870908; 0.100067705; -0.28116816; 0.31295618; -0.3071265], Float32[-0.40200284, 1.2062588, -0.70288193, 0.05655562, 0.17094696], Float32[0.12981802 -0.49190953 -0.76099133 0.5320362 0.51009876; -0.6891453 -0.6159886 -0.745021 0.12592454 0.43614158; -0.52977955 -0.10566437 -0.57289886 -0.43534976 -0.04055479; -0.58882624 -0.6790091 -0.7135073 -0.28327256 0.4548588; -0.36062676 0.44009498 0.13031511 0.1528825 0.6533086], Float32[-0.09522704, -0.30789208, 0.23839271, -0.42418763, -0.5813611], Float32[0.47879365 -0.47864625 0.42553437 0.36671057 -0.061601672; -0.47154832 -0.70627767 0.5317906 0.6742553 -0.047572073; 0.47714537 0.47444847 0.40887797 0.6637389 -0.3172387; 0.12547249 0.17874092 0.672374 0.8001025 0.7927572; 0.065795176 -0.07768709 -0.1210608 -0.4031393 -0.45824376], Float32[-0.5641599, -0.31198862, -0.05027911, -0.5319901, 0.64916646], Float32[-0.7905098 -0.6262087 0.83722574 0.62876534 1.0124543], Float32[0.045595586]])\n"
     ]
    },
    {
     "name": "stderr",
     "output_type": "stream",
     "text": [
      "┌ Info: Epoch 49\n",
      "└ @ Main /Users/facundosapienza/.julia/packages/Flux/goUGu/src/optimise/train.jl:136\n"
     ]
    },
    {
     "name": "stdout",
     "output_type": "stream",
     "text": [
      "Current loss: 3.1517764618609596\n",
      "Current parameter:Params([Float32[-0.4979493; 0.099544615; -0.2817741; 0.31382343; -0.3067484], Float32[-0.40310594, 1.205507, -0.7037344, 0.05745339, 0.171788], Float32[0.12908274 -0.49115172 -0.7617794 0.53281385 0.5094706; -0.68990296 -0.6151926 -0.74584115 0.12672105 0.43553245; -0.5289503 -0.10627847 -0.5721324 -0.436299 -0.03962661; -0.5879049 -0.6798439 -0.712575 -0.28426558 0.45576763; -0.35997579 0.4394973 0.13098362 0.15216962 0.65392685], Float32[-0.094428174, -0.3070521, 0.23781471, -0.42502892, -0.5819756], Float32[0.4784545 -0.47978044 0.42462334 0.3660461 -0.06229617; -0.47184914 -0.7073682 0.53090316 0.6736702 -0.048251126; 0.47725353 0.47543693 0.40966865 0.663728 -0.3166653; 0.12570512 0.1799415 0.6733055 0.80040693 0.793469; 0.0661445 -0.07659118 -0.12017677 -0.40245968 -0.45757273], Float32[-0.5650875, -0.31289464, -0.049455278, -0.53103876, 0.65006626], Float32[-0.7914602 -0.62697893 0.8384457 0.62964946 1.0137166], Float32[0.046514165]])\n"
     ]
    },
    {
     "name": "stderr",
     "output_type": "stream",
     "text": [
      "┌ Info: Epoch 50\n",
      "└ @ Main /Users/facundosapienza/.julia/packages/Flux/goUGu/src/optimise/train.jl:136\n"
     ]
    },
    {
     "name": "stdout",
     "output_type": "stream",
     "text": [
      "Current loss: 3.088698995888629\n",
      "Current parameter:Params([Float32[-0.49721774; 0.099034764; -0.28237015; 0.31468302; -0.30637938], Float32[-0.40421736, 1.2047617, -0.70458364, 0.058345158, 0.17262843], Float32[0.12835817 -0.4904026 -0.7625587 0.5335816 0.508856; -0.6906536 -0.6144021 -0.74665606 0.12751177 0.43493372; -0.52813727 -0.10686774 -0.5713854 -0.43723604 -0.03870767; -0.5869926 -0.68066746 -0.7116514 -0.28525183 0.45666817; -0.35934088 0.43891636 0.13163622 0.15147161 0.65452987], Float32[-0.09363693, -0.30621678, 0.23726428, -0.4258588, -0.58257306], Float32[0.47806954 -0.4809143 0.4237153 0.36540204 -0.0629797; -0.47219157 -0.70845383 0.5300225 0.673113 -0.048916236; 0.477393 0.47642267 0.4104538 0.66367704 -0.3161038; 0.12598431 0.18114445 0.6742358 0.8006701 0.7941716; 0.06653706 -0.07549749 -0.11929732 -0.4017993 -0.4569139], Float32[-0.56601274, -0.31379467, -0.04863591, -0.5300879, 0.6509621], Float32[-0.7924093 -0.6277931 0.8396652 0.63052744 1.0149827], Float32[0.047430277]])\n"
     ]
    },
    {
     "name": "stderr",
     "output_type": "stream",
     "text": [
      "┌ Info: Epoch 51\n",
      "└ @ Main /Users/facundosapienza/.julia/packages/Flux/goUGu/src/optimise/train.jl:136\n"
     ]
    },
    {
     "name": "stdout",
     "output_type": "stream",
     "text": [
      "Current loss: 3.02694501306905\n",
      "Current parameter:Params([Float32[-0.49651653; 0.0985379; -0.2829566; 0.31553495; -0.30601853], Float32[-0.40533692, 1.2040226, -0.7054298, 0.059230927, 0.1734685], Float32[0.12764414 -0.489662 -0.76332927 0.5343396 0.5082548; -0.69139737 -0.6136172 -0.7474657 0.12829672 0.43434528; -0.5273413 -0.10743115 -0.57065886 -0.43816006 -0.037798397; -0.5860897 -0.68147963 -0.7107366 -0.28623107 0.45756024; -0.3587222 0.4383523 0.13227268 0.15078877 0.65511763], Float32[-0.09285315, -0.3053861, 0.23674262, -0.42667705, -0.58315337], Float32[0.47763973 -0.4820477 0.42281026 0.36477873 -0.06365231; -0.4725743 -0.70953447 0.52914876 0.672584 -0.049567472; 0.47756317 0.47740573 0.41123348 0.6635864 -0.315554; 0.1263096 0.1823496 0.675165 0.800891 0.79486495; 0.06697166 -0.07440616 -0.11842246 -0.4011584 -0.45626715], Float32[-0.56693566, -0.31468862, -0.04782094, -0.52913755, 0.65185404], Float32[-0.7933572 -0.62864876 0.8408839 0.6313994 1.0162523], Float32[0.048343934]])\n"
     ]
    },
    {
     "name": "stderr",
     "output_type": "stream",
     "text": [
      "┌ Info: Epoch 52\n",
      "└ @ Main /Users/facundosapienza/.julia/packages/Flux/goUGu/src/optimise/train.jl:136\n"
     ]
    },
    {
     "name": "stdout",
     "output_type": "stream",
     "text": [
      "Current loss: 2.9664600974364954\n",
      "Current parameter:Params([Float32[-0.4958476; 0.09805377; -0.28353375; 0.31637925; -0.30566493], Float32[-0.40646437, 1.2032896, -0.70627296, 0.060110714, 0.17430848], Float32[0.12694041 -0.48892972 -0.7640913 0.535088 0.50766677; -0.6921343 -0.6128377 -0.74827015 0.12907593 0.43376702; -0.52656317 -0.1079677 -0.56995386 -0.43907025 -0.036899205; -0.5851962 -0.68228024 -0.7098308 -0.28720313 0.45844376; -0.35811988 0.4378052 0.1328928 0.15012132 0.6556901], Float32[-0.092076674, -0.30456004, 0.2362509, -0.42748353, -0.5837164], Float32[0.4771662 -0.48318058 0.4219082 0.3641765 -0.064314075; -0.4729959 -0.7106099 0.528282 0.6720835 -0.05020493; 0.4777634 0.47838613 0.4120078 0.66345656 -0.31501564; 0.12668043 0.18355684 0.676093 0.8010687 0.7955493; 0.06744705 -0.07331729 -0.11755221 -0.40053722 -0.45563242], Float32[-0.5678562, -0.31557643, -0.047010295, -0.5281877, 0.652742], Float32[-0.79430395 -0.62954366 0.84210175 0.6322654 1.0175251], Float32[0.04925515]])\n"
     ]
    },
    {
     "name": "stderr",
     "output_type": "stream",
     "text": [
      "┌ Info: Epoch 53\n",
      "└ @ Main /Users/facundosapienza/.julia/packages/Flux/goUGu/src/optimise/train.jl:136\n"
     ]
    },
    {
     "name": "stdout",
     "output_type": "stream",
     "text": [
      "Current loss: 2.9071924121699215\n",
      "Current parameter:Params([Float32[-0.4952127; 0.0975821; -0.2841019; 0.31721595; -0.30531767], Float32[-0.4075994, 1.2025626, -0.70711327, 0.06098455, 0.17514859], Float32[0.12624678 -0.48820555 -0.764845 0.535827 0.50709164; -0.6928645 -0.6120636 -0.7490694 0.12984943 0.43319884; -0.5258037 -0.10847636 -0.5692713 -0.4399658 -0.036010493; -0.58431226 -0.68306917 -0.70893425 -0.28816786 0.45931864; -0.357534 0.4372752 0.1334964 0.1494695 0.65624714], Float32[-0.09130732, -0.30373856, 0.23579033, -0.4282781, -0.58426195], Float32[0.47665012 -0.4843128 0.42100915 0.36359563 -0.064965084; -0.47345495 -0.71168005 0.52742225 0.67161167 -0.050828736; 0.47799307 0.47936398 0.41277683 0.6632881 -0.31448853; 0.1270961 0.18476601 0.6770198 0.80120254 0.79622453; 0.06796191 -0.07223098 -0.116686575 -0.39993596 -0.45500958], Float32[-0.5687744, -0.31645805, -0.0462039, -0.52723837, 0.653626], Float32[-0.79524964 -0.6304755 0.84331864 0.63312554 1.0188009], Float32[0.050163943]])\n"
     ]
    },
    {
     "name": "stderr",
     "output_type": "stream",
     "text": [
      "┌ Info: Epoch 54\n",
      "└ @ Main /Users/facundosapienza/.julia/packages/Flux/goUGu/src/optimise/train.jl:136\n"
     ]
    },
    {
     "name": "stdout",
     "output_type": "stream",
     "text": [
      "Current loss: 2.84909225078637\n",
      "Current parameter:Params([Float32[-0.49461332; 0.09712263; -0.28466132; 0.31804508; -0.30497593], Float32[-0.4087417, 1.2018414, -0.7079509, 0.061852463, 0.17598905], Float32[0.12556298 -0.48748928 -0.7655906 0.5365567 0.50652915; -0.69358796 -0.61129487 -0.7498635 0.13061726 0.43264064; -0.5250636 -0.108956166 -0.56861234 -0.4408459 -0.035132643; -0.583438 -0.68384635 -0.708047 -0.28912508 0.46018478; -0.35696465 0.4367623 0.13408332 0.14883348 0.6567888], Float32[-0.090544894, -0.30292168, 0.23536204, -0.4290606, -0.58478993], Float32[0.47609276 -0.4854443 0.42011312 0.36303633 -0.065605454; -0.47395 -0.7127447 0.52656955 0.6711686 -0.051439043; 0.47825146 0.4803393 0.41354066 0.6630817 -0.31397238; 0.12755582 0.18597697 0.67794544 0.80129176 0.79689085; 0.068514876 -0.07114733 -0.11582554 -0.39935476 -0.4543985], Float32[-0.5696902, -0.3173334, -0.04540169, -0.5262896, 0.6545061], Float32[-0.7961944 -0.63144207 0.8445345 0.6339799 1.0200794], Float32[0.051070325]])\n"
     ]
    },
    {
     "name": "stderr",
     "output_type": "stream",
     "text": [
      "┌ Info: Epoch 55\n",
      "└ @ Main /Users/facundosapienza/.julia/packages/Flux/goUGu/src/optimise/train.jl:136\n"
     ]
    },
    {
     "name": "stdout",
     "output_type": "stream",
     "text": [
      "Current loss: 2.792112562032292\n",
      "Current parameter:Params([Float32[-0.49405074; 0.096675105; -0.2852123; 0.31886673; -0.3046389], Float32[-0.40989098, 1.2011259, -0.7087859, 0.0627145, 0.17683005], Float32[0.12488876 -0.4867807 -0.7663283 0.53727746 0.50597906; -0.6943049 -0.61053145 -0.7506525 0.13137944 0.43209234; -0.52434367 -0.10940613 -0.5679779 -0.44170973 -0.034266025; -0.58257335 -0.6846118 -0.7071691 -0.2900747 0.46104217; -0.3564119 0.43626654 0.13465342 0.14821346 0.6573152], Float32[-0.08978921, -0.30210936, 0.23496719, -0.42983103, -0.58530027], Float32[0.4754954 -0.486575 0.4192201 0.36249876 -0.06623532; -0.47447953 -0.7138038 0.52572393 0.6707544 -0.052036036; 0.4785379 0.48131213 0.4142994 0.6628381 -0.31346697; 0.12805867 0.18718958 0.6788699 0.8013359 0.79754835; 0.06910455 -0.070066415 -0.11496911 -0.3987937 -0.45379904], Float32[-0.57060367, -0.3182025, -0.04460359, -0.52534133, 0.65538216], Float32[-0.7971382 -0.63244116 0.8457492 0.63482875 1.0213604], Float32[0.05197431]])\n"
     ]
    },
    {
     "name": "stderr",
     "output_type": "stream",
     "text": [
      "┌ Info: Epoch 56\n",
      "└ @ Main /Users/facundosapienza/.julia/packages/Flux/goUGu/src/optimise/train.jl:136\n"
     ]
    },
    {
     "name": "stdout",
     "output_type": "stream",
     "text": [
      "Current loss: 2.7362089534031\n",
      "Current parameter:Params([Float32[-0.49352598; 0.09623926; -0.28575513; 0.31968093; -0.30430582], Float32[-0.41104683, 1.2004158, -0.7096184, 0.06357073, 0.17767176], Float32[0.124223866 -0.48607957 -0.7670582 0.53798944 0.50544107; -0.69501525 -0.60977334 -0.75143635 0.132136 0.4315538; -0.52364475 -0.1098253 -0.5673691 -0.44255647 -0.033410985; -0.5817185 -0.68536544 -0.70630074 -0.29101664 0.46189076; -0.35587576 0.43578795 0.1352066 0.14760956 0.65782624], Float32[-0.08904006, -0.30130157, 0.23460688, -0.43058932, -0.5857929], Float32[0.4748594 -0.4877048 0.41833004 0.36198306 -0.06685483; -0.47504205 -0.7148573 0.52488536 0.67036885 -0.052619915; 0.47885165 0.48228252 0.41505313 0.6625581 -0.31297198; 0.12860368 0.18840368 0.6797931 0.80133444 0.7981971; 0.06972952 -0.06898831 -0.11411727 -0.39825284 -0.453211], Float32[-0.5715147, -0.31906527, -0.043809544, -0.5243937, 0.6562543], Float32[-0.7980813 -0.6334707 0.84696263 0.6356721 1.0226436], Float32[0.05287592]])\n"
     ]
    },
    {
     "name": "stderr",
     "output_type": "stream",
     "text": [
      "┌ Info: Epoch 57\n",
      "└ @ Main /Users/facundosapienza/.julia/packages/Flux/goUGu/src/optimise/train.jl:136\n"
     ]
    },
    {
     "name": "stdout",
     "output_type": "stream",
     "text": [
      "Current loss: 2.6813383288701567\n",
      "Current parameter:Params([Float32[-0.49303985; 0.095814854; -0.28629005; 0.3204878; -0.30397603], Float32[-0.41220888, 1.1997113, -0.71044844, 0.064421214, 0.17851432], Float32[0.12356801 -0.4853857 -0.7677806 0.5386929 0.5049149; -0.6957192 -0.6090205 -0.75221515 0.13288696 0.43102497; -0.52296746 -0.11021276 -0.5667868 -0.44338533 -0.03256785; -0.58087337 -0.6861073 -0.70544183 -0.2919508 0.46273056; -0.3553562 0.43532646 0.13574278 0.14702189 0.65832204], Float32[-0.08829724, -0.30049828, 0.2342822, -0.43133548, -0.58626777], Float32[0.47418612 -0.48883367 0.41744298 0.3614893 -0.06746415; -0.47563607 -0.71590495 0.5240539 0.670012 -0.05319091; 0.47919202 0.48325053 0.41580194 0.66224253 -0.31248716; 0.12918976 0.18961912 0.68071514 0.8012872 0.79883724; 0.070388354 -0.06791307 -0.11327 -0.3977322 -0.4526342], Float32[-0.5724234, -0.3199217, -0.043019485, -0.5234467, 0.65712243], Float32[-0.7990237 -0.63452864 0.84817475 0.6365102 1.0239288], Float32[0.05377517]])\n"
     ]
    },
    {
     "name": "stderr",
     "output_type": "stream",
     "text": [
      "┌ Info: Epoch 58\n",
      "└ @ Main /Users/facundosapienza/.julia/packages/Flux/goUGu/src/optimise/train.jl:136\n"
     ]
    },
    {
     "name": "stdout",
     "output_type": "stream",
     "text": [
      "Current loss: 2.62746171250955\n",
      "Current parameter:Params([Float32[-0.49259287; 0.09540163; -0.2868173; 0.3212874; -0.30364886], Float32[-0.41337672, 1.1990122, -0.7112761, 0.06526602, 0.17935786], Float32[0.12292092 -0.4846988 -0.7684958 0.53938806 0.50440025; -0.69641674 -0.6082728 -0.7529889 0.13363235 0.4305057; -0.5223126 -0.11056762 -0.56623214 -0.4441955 -0.031736925; -0.5800379 -0.68683743 -0.70459247 -0.29287717 0.46356156; -0.35485318 0.43488207 0.13626194 0.14645055 0.6588027], Float32[-0.087560534, -0.29969952, 0.23399417, -0.43206954, -0.5867249], Float32[0.47347704 -0.48996148 0.4165589 0.36101753 -0.06806348; -0.4762601 -0.71694684 0.5232295 0.6696836 -0.05374927; 0.4795583 0.4842162 0.4165459 0.6618924 -0.3120122; 0.12981574 0.19083574 0.6816359 0.8011939 0.79946893; 0.07107961 -0.06684075 -0.11242727 -0.39723173 -0.45206836], Float32[-0.5733297, -0.32077178, -0.04223336, -0.52250034, 0.65798664], Float32[-0.79996544 -0.635613 0.8493855 0.6373433 1.0252156], Float32[0.05467207]])\n"
     ]
    },
    {
     "name": "stderr",
     "output_type": "stream",
     "text": [
      "┌ Info: Epoch 59\n",
      "└ @ Main /Users/facundosapienza/.julia/packages/Flux/goUGu/src/optimise/train.jl:136\n"
     ]
    },
    {
     "name": "stdout",
     "output_type": "stream",
     "text": [
      "Current loss: 2.5745411930514845\n",
      "Current parameter:Params([Float32[-0.49218532; 0.09499936; -0.28733712; 0.32207984; -0.30332378], Float32[-0.41454992, 1.1983181, -0.7121015, 0.06610523, 0.18020245], Float32[0.12228231 -0.48401865 -0.7692039 0.5400752 0.50389683; -0.697108 -0.6075303 -0.75375754 0.13437219 0.42999592; -0.52168083 -0.110889055 -0.56570596 -0.44498622 -0.030918486; -0.57921207 -0.6875559 -0.7037526 -0.29379576 0.46438387; -0.35436666 0.4344547 0.13676405 0.14589557 0.6592683], Float32[-0.08682974, -0.29890522, 0.23374379, -0.43279156, -0.5871643], Float32[0.47273353 -0.4910882 0.41567776 0.36056775 -0.06865303; -0.47691265 -0.7179828 0.5224122 0.66938335 -0.054295264; 0.4799497 0.4851796 0.4172851 0.6615087 -0.31154683; 0.13048044 0.19205338 0.6825554 0.80105454 0.80009234; 0.07180187 -0.06577141 -0.11158905 -0.39675137 -0.4515133], Float32[-0.57423353, -0.32161552, -0.041451108, -0.5215547, 0.6588469], Float32[-0.80090666 -0.63672197 0.8505948 0.63817155 1.0265039], Float32[0.055566642]])\n"
     ]
    },
    {
     "name": "stderr",
     "output_type": "stream",
     "text": [
      "┌ Info: Epoch 60\n",
      "└ @ Main /Users/facundosapienza/.julia/packages/Flux/goUGu/src/optimise/train.jl:136\n"
     ]
    },
    {
     "name": "stdout",
     "output_type": "stream",
     "text": [
      "Current loss: 2.522540841740534\n",
      "Current parameter:Params([Float32[-0.4918172; 0.094607815; -0.28784972; 0.32286525; -0.30300027], Float32[-0.41572806, 1.1976292, -0.7129247, 0.06693894, 0.1810482], Float32[0.12165189 -0.48334503 -0.7699052 0.5407545 0.5034044; -0.697793 -0.6067929 -0.7545212 0.1351065 0.42949554; -0.52107286 -0.11117625 -0.5652092 -0.44575673 -0.030112788; -0.5783958 -0.6882629 -0.7029221 -0.29470658 0.4651975; -0.35389656 0.43404427 0.13724911 0.14535698 0.6597191], Float32[-0.08610464, -0.2981154, 0.23353198, -0.43350166, -0.587586], Float32[0.47195706 -0.4922138 0.41479954 0.36013988 -0.06923302; -0.47759226 -0.7190129 0.5216019 0.669111 -0.05482918; 0.48036554 0.48614076 0.41801965 0.6610924 -0.31109077; 0.13118257 0.19327188 0.6834735 0.8008692 0.8007076; 0.07255372 -0.06470507 -0.11075531 -0.39629105 -0.45096874], Float32[-0.575135, -0.32245287, -0.04067268, -0.52060986, 0.65970325], Float32[-0.8018474 -0.63785374 0.85180265 0.63899523 1.0277934], Float32[0.056458905]])\n"
     ]
    },
    {
     "name": "stderr",
     "output_type": "stream",
     "text": [
      "┌ Info: Epoch 61\n",
      "└ @ Main /Users/facundosapienza/.julia/packages/Flux/goUGu/src/optimise/train.jl:136\n"
     ]
    },
    {
     "name": "stdout",
     "output_type": "stream",
     "text": [
      "Current loss: 2.471427139750036\n",
      "Current parameter:Params([Float32[-0.4914883; 0.09422678; -0.2883553; 0.3236437; -0.30267793], Float32[-0.41691068, 1.1969453, -0.7137458, 0.067767225, 0.18189514], Float32[0.12102936 -0.4826777 -0.77059996 0.5414263 0.5029226; -0.6984719 -0.6060606 -0.75527984 0.1358353 0.4290045; -0.52048934 -0.111428484 -0.5647428 -0.4465063 -0.029320056; -0.5775889 -0.68895847 -0.702101 -0.2956097 0.46600258; -0.35344276 0.43365064 0.13771717 0.14483479 0.6601552], Float32[-0.085385025, -0.29733005, 0.23335959, -0.43419996, -0.58799005], Float32[0.47114903 -0.49333817 0.41392425 0.35973385 -0.06980369; -0.47829753 -0.7200371 0.5207986 0.66886616 -0.05535132; 0.48080507 0.4870997 0.41874963 0.6606446 -0.31064367; 0.1319208 0.19449106 0.68439037 0.8006382 0.8013149; 0.073333755 -0.06364176 -0.109926 -0.39585057 -0.45043442], Float32[-0.57603407, -0.32328388, -0.039898023, -0.5196658, 0.6605557], Float32[-0.8027877 -0.6390067 0.8530089 0.63981456 1.0290838], Float32[0.057348873]])\n"
     ]
    },
    {
     "name": "stderr",
     "output_type": "stream",
     "text": [
      "┌ Info: Epoch 62\n",
      "└ @ Main /Users/facundosapienza/.julia/packages/Flux/goUGu/src/optimise/train.jl:136\n"
     ]
    },
    {
     "name": "stdout",
     "output_type": "stream",
     "text": [
      "Current loss: 2.4211693780188597\n",
      "Current parameter:Params([Float32[-0.49119815; 0.09385604; -0.288854; 0.32441536; -0.30235633], Float32[-0.41809732, 1.1962664, -0.7145647, 0.068590194, 0.18274328], Float32[0.12041445 -0.48201644 -0.7712884 0.54209083 0.5024511; -0.6991447 -0.6053334 -0.7560335 0.1365586 0.42852265; -0.51993084 -0.111645065 -0.5643076 -0.44723418 -0.02854049; -0.5767913 -0.6896428 -0.7012891 -0.2965052 0.4667992; -0.3530051 0.43327367 0.13816829 0.14432894 0.6605767], Float32[-0.084670685, -0.29654914, 0.2332274, -0.4348866, -0.5883766], Float32[0.47031087 -0.4944613 0.41305184 0.35934952 -0.0703653; -0.47902706 -0.7210553 0.5200023 0.6686484 -0.055862006; 0.48126754 0.48805648 0.4194751 0.6601664 -0.31020528; 0.13269381 0.19571076 0.68530583 0.8003618 0.80191445; 0.07414062 -0.06258151 -0.10910108 -0.3954298 -0.44991004], Float32[-0.5769307, -0.32410857, -0.039127093, -0.5187226, 0.6614043], Float32[-0.80372775 -0.6401791 0.85421365 0.6406298 1.030375], Float32[0.05823656]])\n"
     ]
    },
    {
     "name": "stderr",
     "output_type": "stream",
     "text": [
      "┌ Info: Epoch 63\n",
      "└ @ Main /Users/facundosapienza/.julia/packages/Flux/goUGu/src/optimise/train.jl:136\n"
     ]
    },
    {
     "name": "stdout",
     "output_type": "stream",
     "text": [
      "Current loss: 2.3717380240598573\n",
      "Current parameter:Params([Float32[-0.490946; 0.09349539; -0.28934604; 0.32518032; -0.3020352], Float32[-0.41928753, 1.1955924, -0.7153815, 0.069407955, 0.18359265], Float32[0.11980687 -0.481361 -0.7719707 0.54274833 0.5019897; -0.6998115 -0.60461116 -0.7567821 0.13727644 0.42804992; -0.51939803 -0.11182538 -0.5639044 -0.4479397 -0.027774261; -0.5760028 -0.6903161 -0.7004863 -0.29739317 0.4675875; -0.35258347 0.4329132 0.13860255 0.14383937 0.6609839], Float32[-0.08396142, -0.29577267, 0.23313612, -0.43556178, -0.5887457], Float32[0.46944395 -0.49558312 0.41218233 0.3589867 -0.07091811; -0.4797795 -0.72206753 0.5192129 0.6684573 -0.056361564; 0.48175222 0.48901114 0.42019618 0.6596589 -0.30977526; 0.13350023 0.19693083 0.6862199 0.8000405 0.8025065; 0.07497298 -0.06152433 -0.108280495 -0.39502847 -0.4493953], Float32[-0.57782495, -0.3249269, -0.03835985, -0.51778036, 0.6622491], Float32[-0.8046675 -0.6413696 0.8554168 0.64144135 1.0316668], Float32[0.05912199]])\n"
     ]
    },
    {
     "name": "stderr",
     "output_type": "stream",
     "text": [
      "┌ Info: Epoch 64\n",
      "└ @ Main /Users/facundosapienza/.julia/packages/Flux/goUGu/src/optimise/train.jl:136\n"
     ]
    },
    {
     "name": "stdout",
     "output_type": "stream",
     "text": [
      "Current loss: 2.323105614589953\n",
      "Current parameter:Params([Float32[-0.49073094; 0.093144655; -0.28983152; 0.32593873; -0.3017143], Float32[-0.42048085, 1.1949232, -0.7161963, 0.07022061, 0.1844432], Float32[0.11920633 -0.48071116 -0.77264714 0.54339904 0.50153816; -0.7004724 -0.6038939 -0.7575258 0.13798882 0.42758626; -0.5188914 -0.11196887 -0.563534 -0.44862217 -0.02702151; -0.57522315 -0.6909786 -0.6996924 -0.29827374 0.4683676; -0.35217762 0.43256912 0.13902007 0.14336601 0.6613771], Float32[-0.08325702, -0.2950006, 0.23308635, -0.4362257, -0.58909756], Float32[0.46854967 -0.4967036 0.41131565 0.35864523 -0.071462415; -0.48055354 -0.7230738 0.51843035 0.6682923 -0.056850333; 0.48225838 0.48996368 0.4209129 0.6591233 -0.3093533; 0.13433868 0.19815107 0.6871324 0.79967487 0.8030912; 0.07582953 -0.06047024 -0.107464194 -0.3946464 -0.44888988], Float32[-0.57871675, -0.32573897, -0.037596256, -0.51683915, 0.66309], Float32[-0.805607 -0.6425767 0.8566183 0.6422494 1.0329587], Float32[0.06000517]])\n"
     ]
    },
    {
     "name": "stderr",
     "output_type": "stream",
     "text": [
      "┌ Info: Epoch 65\n",
      "└ @ Main /Users/facundosapienza/.julia/packages/Flux/goUGu/src/optimise/train.jl:136\n"
     ]
    },
    {
     "name": "stdout",
     "output_type": "stream",
     "text": [
      "Current loss: 2.275246622490829\n",
      "Current parameter:Params([Float32[-0.49055183; 0.09280366; -0.2903106; 0.32669073; -0.30139345], Float32[-0.42167678, 1.1942586, -0.717009, 0.07102828, 0.18529493], Float32[0.11861256 -0.48006672 -0.77331793 0.5440432 0.50109607; -0.70112747 -0.6031816 -0.75826454 0.13869576 0.42713153; -0.51841146 -0.11207507 -0.56319714 -0.44928098 -0.02628235; -0.5744522 -0.6916305 -0.6989073 -0.29914704 0.46913972; -0.3517874 0.43224114 0.13942099 0.14290872 0.66175646], Float32[-0.08255728, -0.29423296, 0.2330786, -0.43687865, -0.58943224], Float32[0.46762937 -0.4978227 0.4104518 0.35832483 -0.0719985; -0.48134792 -0.72407407 0.5176546 0.6681528 -0.057328664; 0.48278528 0.49091417 0.42162535 0.6585607 -0.3089391; 0.13520774 0.19937134 0.6880435 0.7992656 0.8036689; 0.076709 -0.059419233 -0.10665212 -0.39428332 -0.4483935], Float32[-0.5796061, -0.32654473, -0.03683627, -0.515899, 0.66392714], Float32[-0.8065464 -0.64379907 0.8578181 0.6430543 1.0342509], Float32[0.06088612]])\n"
     ]
    },
    {
     "name": "stderr",
     "output_type": "stream",
     "text": [
      "┌ Info: Epoch 66\n",
      "└ @ Main /Users/facundosapienza/.julia/packages/Flux/goUGu/src/optimise/train.jl:136\n"
     ]
    },
    {
     "name": "stdout",
     "output_type": "stream",
     "text": [
      "Current loss: 2.2281369056514952\n",
      "Current parameter:Params([Float32[-0.49040732; 0.09247223; -0.29078338; 0.32743645; -0.3010725], Float32[-0.4228749, 1.1935987, -0.7178197, 0.07183106, 0.18614775], Float32[0.11802527 -0.47942746 -0.7739833 0.5446811 0.5006632; -0.70177674 -0.6024742 -0.7589984 0.13939728 0.4266857; -0.5179587 -0.11214358 -0.5628944 -0.44991553 -0.025556862; -0.57368976 -0.69227207 -0.6981307 -0.30001327 0.469904; -0.35141256 0.4319291 0.13980547 0.14246736 0.66212225], Float32[-0.081862025, -0.29346973, 0.23311327, -0.43752086, -0.58975], Float32[0.4666844 -0.49894038 0.40959072 0.35802525 -0.07252666; -0.4821614 -0.7250684 0.5168856 0.6680383 -0.057796914; 0.48333225 0.4918626 0.42233363 0.6579722 -0.30853233; 0.13610604 0.20059144 0.68895304 0.7988135 0.80423975; 0.07761019 -0.058371317 -0.10584421 -0.39393893 -0.44790578], Float32[-0.5804931, -0.32734427, -0.036079865, -0.51496, 0.66476053], Float32[-0.8074857 -0.64503545 0.8590163 0.64385635 1.0355428], Float32[0.06176485]])\n"
     ]
    },
    {
     "name": "stderr",
     "output_type": "stream",
     "text": [
      "┌ Info: Epoch 67\n",
      "└ @ Main /Users/facundosapienza/.julia/packages/Flux/goUGu/src/optimise/train.jl:136\n"
     ]
    },
    {
     "name": "stdout",
     "output_type": "stream",
     "text": [
      "Current loss: 2.181754568349355\n",
      "Current parameter:Params([Float32[-0.49029592; 0.09215022; -0.29125; 0.32817605; -0.30075142], Float32[-0.42407474, 1.1929436, -0.71862835, 0.072629094, 0.1870016], Float32[0.11744422 -0.47879314 -0.7746435 0.54531294 0.5002393; -0.7024203 -0.6017717 -0.7597273 0.14009339 0.42624864; -0.51753354 -0.11217409 -0.5626265 -0.45052525 -0.024845105; -0.5729355 -0.69290364 -0.6973624 -0.30087262 0.47066066; -0.35105288 0.4316328 0.14017369 0.14204177 0.6624748], Float32[-0.08117105, -0.29271087, 0.2331907, -0.4381526, -0.59005094], Float32[0.465716 -0.50005656 0.40873238 0.3577462 -0.07304723; -0.48299283 -0.72605675 0.51612324 0.6679482 -0.05825544; 0.48389855 0.492809 0.4230378 0.65735906 -0.3081327; 0.13703221 0.20181122 0.689861 0.79831946 0.804804; 0.07853189 -0.05732648 -0.1050404 -0.39361292 -0.4474264], Float32[-0.5813776, -0.32813758, -0.035327006, -0.5140222, 0.66559017], Float32[-0.80842495 -0.64628464 0.8602128 0.6446559 1.0368345], Float32[0.06264138]])\n"
     ]
    },
    {
     "name": "stderr",
     "output_type": "stream",
     "text": [
      "┌ Info: Epoch 68\n",
      "└ @ Main /Users/facundosapienza/.julia/packages/Flux/goUGu/src/optimise/train.jl:136\n"
     ]
    },
    {
     "name": "stdout",
     "output_type": "stream",
     "text": [
      "Current loss: 2.1360781085415934\n",
      "Current parameter:Params([Float32[-0.49021593; 0.09183748; -0.2917105; 0.32890967; -0.30043015], Float32[-0.42527583, 1.1922929, -0.7194349, 0.073422484, 0.1878564], Float32[0.11686912 -0.4781636 -0.77529866 0.545939 0.49982414; -0.7030582 -0.6010741 -0.7604513 0.1407841 0.4258203; -0.5171364 -0.11216637 -0.5623939 -0.45110962 -0.0241471; -0.5721892 -0.6935255 -0.69660217 -0.3017253 0.4714099; -0.3507081 0.43135193 0.14052585 0.14163175 0.6628144], Float32[-0.080484174, -0.2919564, 0.23331106, -0.43877423, -0.5903353], Float32[0.4647254 -0.5011713 0.40787676 0.3574874 -0.073560506; -0.48384106 -0.7270392 0.51536745 0.6678818 -0.058704615; 0.4844835 0.4937534 0.42373794 0.65672237 -0.3077399; 0.13798486 0.20303051 0.69076735 0.7977844 0.805362; 0.07947299 -0.056284722 -0.104240626 -0.39330497 -0.44695505], Float32[-0.5822598, -0.32892472, -0.034577668, -0.51308566, 0.6664161], Float32[-0.8093642 -0.6475456 0.86140764 0.6454533 1.0381256], Float32[0.06351573]])\n"
     ]
    },
    {
     "name": "stderr",
     "output_type": "stream",
     "text": [
      "┌ Info: Epoch 69\n",
      "└ @ Main /Users/facundosapienza/.julia/packages/Flux/goUGu/src/optimise/train.jl:136\n"
     ]
    },
    {
     "name": "stdout",
     "output_type": "stream",
     "text": [
      "Current loss: 2.0910887589082616\n",
      "Current parameter:Params([Float32[-0.4901656; 0.09153388; -0.29216498; 0.32963747; -0.30010876], Float32[-0.42647773, 1.1916469, -0.7202394, 0.07421136, 0.18871205], Float32[0.116299726 -0.47753862 -0.77594906 0.5465595 0.4994174; -0.70369047 -0.6003813 -0.76117045 0.14146943 0.42540058; -0.5167676 -0.112120256 -0.5621971 -0.4516681 -0.023462849; -0.5714506 -0.69413793 -0.6958497 -0.3025715 0.4721519; -0.35037792 0.4310863 0.14086218 0.14123708 0.6631413], Float32[-0.079801224, -0.2912063, 0.23347445, -0.43938604, -0.59060335], Float32[0.46371385 -0.50228447 0.40702382 0.35724849 -0.07406682; -0.48470503 -0.7280158 0.5146182 0.66783845 -0.059144802; 0.48508644 0.4946958 0.42443413 0.6560632 -0.30735362; 0.13896266 0.20424914 0.691672 0.7972094 0.80591387; 0.08043238 -0.055246025 -0.10344481 -0.39301473 -0.44649136], Float32[-0.5831395, -0.32970572, -0.033831827, -0.5121505, 0.6672384], Float32[-0.81030345 -0.6488172 0.8626008 0.6462488 1.0394161], Float32[0.0643879]])\n"
     ]
    },
    {
     "name": "stderr",
     "output_type": "stream",
     "text": [
      "┌ Info: Epoch 70\n",
      "└ @ Main /Users/facundosapienza/.julia/packages/Flux/goUGu/src/optimise/train.jl:136\n"
     ]
    },
    {
     "name": "stdout",
     "output_type": "stream",
     "text": [
      "Current loss: 2.0467674287243223\n",
      "Current parameter:Params([Float32[-0.49014297; 0.09123929; -0.2926135; 0.33035958; -0.2997873], Float32[-0.42768, 1.1910055, -0.7210418, 0.07499584, 0.18956842], Float32[0.11573579 -0.476918 -0.7765949 0.5471747 0.49901885; -0.7043173 -0.59969336 -0.76188475 0.1421494 0.4249894; -0.5164275 -0.1120357 -0.56203645 -0.4522003 -0.022792323; -0.57071936 -0.69474125 -0.6951047 -0.3034115 0.47288695; -0.3500621 0.4308356 0.14118291 0.14085755 0.6634559], Float32[-0.07912203, -0.29046056, 0.23368084, -0.43998837, -0.59085524], Float32[0.46268246 -0.5033961 0.40617353 0.3570291 -0.0745665; -0.4855837 -0.72898644 0.51387537 0.66781753 -0.05957637; 0.48570666 0.49563622 0.4251264 0.6553827 -0.30697352; 0.13996427 0.20546694 0.692575 0.7965955 0.80645996; 0.081409015 -0.054210383 -0.10265288 -0.3927419 -0.44603497], Float32[-0.58401674, -0.33048064, -0.03308946, -0.5112168, 0.66805714], Float32[-0.81124276 -0.6500985 0.8637923 0.6470429 1.0407056], Float32[0.06525792]])\n"
     ]
    },
    {
     "name": "stderr",
     "output_type": "stream",
     "text": [
      "┌ Info: Epoch 71\n",
      "└ @ Main /Users/facundosapienza/.julia/packages/Flux/goUGu/src/optimise/train.jl:136\n"
     ]
    },
    {
     "name": "stdout",
     "output_type": "stream",
     "text": [
      "Current loss: 2.003097761757521\n",
      "Current parameter:Params([Float32[-0.4901461; 0.09095359; -0.29305613; 0.33107617; -0.29946592], Float32[-0.42888215, 1.1903685, -0.72184205, 0.07577605, 0.19042538], Float32[0.11517707 -0.4763016 -0.7772363 0.54778475 0.49862826; -0.7049386 -0.59901017 -0.76259416 0.14282404 0.42458668; -0.5161164 -0.11191272 -0.56191236 -0.4527057 -0.022135468; -0.56999516 -0.6953358 -0.69436693 -0.30424556 0.47361523; -0.34976032 0.4305996 0.14148828 0.1404929 0.66375846], Float32[-0.078446425, -0.28971916, 0.23393011, -0.44058162, -0.5910913], Float32[0.46163237 -0.5045061 0.40532583 0.35682896 -0.07505988; -0.48647606 -0.7299513 0.5131389 0.66781837 -0.059999686; 0.4863435 0.49657467 0.42581487 0.6546819 -0.30659935; 0.14098841 0.20668375 0.6934762 0.79594386 0.8070006; 0.08240189 -0.053177774 -0.10186477 -0.39248607 -0.44558555], Float32[-0.5848916, -0.3312495, -0.032350544, -0.51028466, 0.6688723], Float32[-0.8121822 -0.65138865 0.8649821 0.6478358 1.0419941], Float32[0.066125795]])\n"
     ]
    },
    {
     "name": "stderr",
     "output_type": "stream",
     "text": [
      "┌ Info: Epoch 72\n",
      "└ @ Main /Users/facundosapienza/.julia/packages/Flux/goUGu/src/optimise/train.jl:136\n"
     ]
    },
    {
     "name": "stdout",
     "output_type": "stream",
     "text": [
      "Current loss: 1.9600633140358732\n",
      "Current parameter:Params([Float32[-0.49017286; 0.09067667; -0.29349288; 0.33178744; -0.29914474], Float32[-0.43008384, 1.1897361, -0.72264016, 0.07655211, 0.19128282], Float32[0.114623345 -0.4756892 -0.7778735 0.5483899 0.4982454; -0.70555454 -0.59833175 -0.76329875 0.14349335 0.42419234; -0.5158344 -0.11175143 -0.56182504 -0.45318404 -0.021492207; -0.5692777 -0.69592196 -0.69363606 -0.30507392 0.474337; -0.34947228 0.430378 0.14177857 0.14014287 0.6640494], Float32[-0.07777426, -0.28898212, 0.234222, -0.44116613, -0.5913117], Float32[0.46056464 -0.5056145 0.4044807 0.35664767 -0.0755473; -0.48738122 -0.7309104 0.5124086 0.6678403 -0.060415115; 0.48699635 0.49751115 0.42649958 0.65396196 -0.30623078; 0.14203382 0.2078994 0.69437563 0.7952556 0.80753595; 0.08341004 -0.052148186 -0.1010804 -0.39224693 -0.44514275], Float32[-0.58576405, -0.3320124, -0.031615064, -0.5093541, 0.6696839], Float32[-0.81312174 -0.6526867 0.8661702 0.6486279 1.0432814], Float32[0.06699153]])\n"
     ]
    },
    {
     "name": "stderr",
     "output_type": "stream",
     "text": [
      "┌ Info: Epoch 73\n",
      "└ @ Main /Users/facundosapienza/.julia/packages/Flux/goUGu/src/optimise/train.jl:136\n"
     ]
    },
    {
     "name": "stdout",
     "output_type": "stream",
     "text": [
      "Current loss: 1.9176495654996817\n",
      "Current parameter:Params([Float32[-0.49022114; 0.090408444; -0.2939238; 0.33249348; -0.29882398], Float32[-0.4312846, 1.1891083, -0.72343606, 0.07732415, 0.19214058], Float32[0.11407438 -0.47508067 -0.7785067 0.54899037 0.49787003; -0.7061652 -0.59765804 -0.7639985 0.14415736 0.42380628; -0.5155817 -0.11155202 -0.56177473 -0.4536349 -0.020862443; -0.56856674 -0.69650006 -0.69291174 -0.30589685 0.47505254; -0.3491977 0.43017048 0.14205404 0.1398072 0.664329], Float32[-0.07710537, -0.28824943, 0.23455615, -0.4417423, -0.5915168], Float32[0.45948032 -0.50672126 0.4036381 0.35648486 -0.07602909; -0.48829824 -0.73186374 0.5116845 0.6678827 -0.060823023; 0.48766458 0.49844566 0.42718062 0.6532238 -0.30586752; 0.14309928 0.20911375 0.6952732 0.79453194 0.80806637; 0.08443255 -0.051121596 -0.1002997 -0.39202413 -0.44470617], Float32[-0.58663404, -0.33276933, -0.030883003, -0.50842524, 0.67049193], Float32[-0.81406146 -0.65399194 0.86735666 0.6494195 1.0445675], Float32[0.06785515]])\n"
     ]
    },
    {
     "name": "stderr",
     "output_type": "stream",
     "text": [
      "┌ Info: Epoch 74\n",
      "└ @ Main /Users/facundosapienza/.julia/packages/Flux/goUGu/src/optimise/train.jl:136\n"
     ]
    },
    {
     "name": "stdout",
     "output_type": "stream",
     "text": [
      "Current loss: 1.8758416084098675\n",
      "Current parameter:Params([Float32[-0.4902888; 0.09014881; -0.2943489; 0.33319446; -0.29850382], Float32[-0.4324841, 1.1884849, -0.72422975, 0.0780923, 0.19299851], Float32[0.113529965 -0.4744758 -0.779136 0.5495863 0.49750197; -0.7067706 -0.59698904 -0.7646935 0.1448161 0.42342842; -0.5153585 -0.11131478 -0.5617615 -0.454058 -0.020246055; -0.56786186 -0.69707054 -0.6921937 -0.30671462 0.47576204; -0.34893623 0.42997676 0.14231497 0.13948558 0.66459763], Float32[-0.07643963, -0.28752106, 0.23493212, -0.44231048, -0.5917068], Float32[0.4583804 -0.5078263 0.40279797 0.3563402 -0.076505594; -0.48922628 -0.73281133 0.5109664 0.6679448 -0.061223764; 0.48834756 0.4993782 0.42785802 0.6524685 -0.3055093; 0.14418359 0.21032661 0.69616896 0.79377407 0.80859214; 0.085468546 -0.05009799 -0.09952259 -0.3918173 -0.44427553], Float32[-0.58750165, -0.33352038, -0.030154346, -0.50749815, 0.67129654], Float32[-0.8150014 -0.65530354 0.8685414 0.6502109 1.045852], Float32[0.06871666]])\n"
     ]
    },
    {
     "name": "stderr",
     "output_type": "stream",
     "text": [
      "┌ Info: Epoch 75\n",
      "└ @ Main /Users/facundosapienza/.julia/packages/Flux/goUGu/src/optimise/train.jl:136\n"
     ]
    },
    {
     "name": "stdout",
     "output_type": "stream",
     "text": [
      "Current loss: 1.8346268286581868\n",
      "Current parameter:Params([Float32[-0.49037364; 0.08989766; -0.2947682; 0.33389056; -0.2981845], Float32[-0.43368188, 1.187866, -0.7250211, 0.07885668, 0.19385648], Float32[0.112989895 -0.47387448 -0.7797617 0.55017793 0.49714097; -0.70737076 -0.5963247 -0.7653837 0.14546958 0.42305866; -0.5151648 -0.11104006 -0.5617854 -0.45445308 -0.019642903; -0.5671628 -0.6976337 -0.6914816 -0.3075275 0.47646576; -0.3486876 0.42979658 0.14256166 0.13917774 0.66485566], Float32[-0.07577689, -0.28679702, 0.23534934, -0.4428711, -0.591882], Float32[0.4572658 -0.50892967 0.40196028 0.35621333 -0.07697714; -0.49016455 -0.73375326 0.5102543 0.66802603 -0.06161769; 0.48904473 0.50030875 0.4285319 0.651697 -0.3051558; 0.14528562 0.21153785 0.6970628 0.79298323 0.80911356; 0.086517185 -0.049077347 -0.09874899 -0.3916261 -0.44385043], Float32[-0.5883668, -0.3342656, -0.029429078, -0.5065729, 0.67209774], Float32[-0.8159416 -0.65662086 0.8697245 0.6510025 1.0471349], Float32[0.06957608]])\n"
     ]
    },
    {
     "name": "stderr",
     "output_type": "stream",
     "text": [
      "┌ Info: Epoch 76\n",
      "└ @ Main /Users/facundosapienza/.julia/packages/Flux/goUGu/src/optimise/train.jl:136\n"
     ]
    },
    {
     "name": "stdout",
     "output_type": "stream",
     "text": [
      "Current loss: 1.793991923295682\n",
      "Current parameter:Params([Float32[-0.49047348; 0.08965494; -0.29518175; 0.3345819; -0.2978663], Float32[-0.4348776, 1.1872516, -0.72581017, 0.0796174, 0.19471432], Float32[0.112453975 -0.47327656 -0.78038377 0.55076545 0.49678686; -0.7079658 -0.595665 -0.7660692 0.14611782 0.42269695; -0.51500064 -0.11072831 -0.5618464 -0.45481995 -0.019052831; -0.5664692 -0.69818985 -0.6907751 -0.30833584 0.47716397; -0.34845144 0.4296296 0.14279439 0.13888337 0.6651034], Float32[-0.07511703, -0.2860773, 0.23580717, -0.44342452, -0.5920426], Float32[0.45613745 -0.5100313 0.401125 0.3561039 -0.07744406; -0.49111226 -0.7346896 0.50954807 0.66812575 -0.062005147; 0.48975548 0.50123733 0.42920226 0.6509102 -0.3048068; 0.14640425 0.21274734 0.6979547 0.79216063 0.8096309; 0.08757767 -0.04805965 -0.09797883 -0.39145017 -0.44343057], Float32[-0.5892295, -0.33500502, -0.028707188, -0.50564957, 0.67289555], Float32[-0.81688195 -0.65794325 0.87090594 0.6517946 1.048416], Float32[0.07043341]])\n"
     ]
    },
    {
     "name": "stderr",
     "output_type": "stream",
     "text": [
      "┌ Info: Epoch 77\n",
      "└ @ Main /Users/facundosapienza/.julia/packages/Flux/goUGu/src/optimise/train.jl:136\n"
     ]
    },
    {
     "name": "stdout",
     "output_type": "stream",
     "text": [
      "Current loss: 1.7539250017613424\n",
      "Current parameter:Params([Float32[-0.49058616; 0.08942055; -0.29558954; 0.33526868; -0.29754946], Float32[-0.43607095, 1.1866417, -0.72659683, 0.080374606, 0.19557188], Float32[0.11192201 -0.47268188 -0.7810025 0.55134904 0.49643943; -0.70855576 -0.59500986 -0.76674986 0.14676087 0.42234316; -0.5148661 -0.11038002 -0.5619443 -0.45515838 -0.018475672; -0.56578076 -0.69873947 -0.6900739 -0.30913985 0.4778569; -0.34822744 0.42947555 0.14301346 0.13860215 0.6653412], Float32[-0.07445992, -0.28536186, 0.23630485, -0.44397116, -0.592189], Float32[0.4549962 -0.5111311 0.4002921 0.35601157 -0.07790668; -0.49206868 -0.7356204 0.5088476 0.6682433 -0.06238647; 0.49047923 0.50216395 0.4298692 0.65010905 -0.304462; 0.14753842 0.2139549 0.6988447 0.79130745 0.8101444; 0.08864924 -0.04704488 -0.09721203 -0.39128917 -0.4430156], Float32[-0.59008986, -0.3357387, -0.027988661, -0.5047282, 0.67369], Float32[-0.81782264 -0.6592701 0.8720857 0.65258753 1.0496954], Float32[0.07128866]])\n"
     ]
    },
    {
     "name": "stderr",
     "output_type": "stream",
     "text": [
      "┌ Info: Epoch 78\n",
      "└ @ Main /Users/facundosapienza/.julia/packages/Flux/goUGu/src/optimise/train.jl:136\n"
     ]
    },
    {
     "name": "stdout",
     "output_type": "stream",
     "text": [
      "Current loss: 1.7144147357349322\n",
      "Current parameter:Params([Float32[-0.49070957; 0.08919442; -0.29599154; 0.335951; -0.29723424], Float32[-0.43726155, 1.1860363, -0.72738105, 0.081128396, 0.196429], Float32[0.11139383 -0.47209033 -0.781618 0.5519288 0.4960985; -0.7091407 -0.59435934 -0.76742584 0.14739873 0.42199722; -0.5147611 -0.10999579 -0.562079 -0.45546827 -0.017911239; -0.56509715 -0.6992829 -0.68937767 -0.30993983 0.4785448; -0.3480153 0.4293341 0.14321917 0.1383338 0.6655695], Float32[-0.07380545, -0.2846507, 0.23684157, -0.44451138, -0.59232146], Float32[0.45384288 -0.51222914 0.3994615 0.35593602 -0.07836533; -0.4930331 -0.7365456 0.5081528 0.66837806 -0.062762; 0.49121547 0.5030886 0.43053278 0.6492944 -0.30412108; 0.14868712 0.2151604 0.6997326 0.7904249 0.81065446; 0.08973118 -0.04603302 -0.09644852 -0.39114285 -0.44260517], Float32[-0.59094775, -0.3364667, -0.02727349, -0.5038089, 0.6744812], Float32[-0.81876355 -0.66060084 0.8732638 0.6533815 1.0509728], Float32[0.07214185]])\n"
     ]
    },
    {
     "name": "stderr",
     "output_type": "stream",
     "text": [
      "┌ Info: Epoch 79\n",
      "└ @ Main /Users/facundosapienza/.julia/packages/Flux/goUGu/src/optimise/train.jl:136\n"
     ]
    },
    {
     "name": "stdout",
     "output_type": "stream",
     "text": [
      "Current loss: 1.675450474551569\n",
      "Current parameter:Params([Float32[-0.4908416; 0.08897647; -0.2963878; 0.33662903; -0.29692096], Float32[-0.43844908, 1.1854355, -0.7281628, 0.0818789, 0.19728552], Float32[0.11086926 -0.4715018 -0.7822304 0.552505 0.49576384; -0.70972073 -0.5937134 -0.7680971 0.14803144 0.42165902; -0.5146855 -0.109576255 -0.56225026 -0.45574948 -0.017359337; -0.5644181 -0.6998204 -0.6886861 -0.3107361 0.47922787; -0.3478147 0.429205 0.14341183 0.13807799 0.66578853], Float32[-0.07315351, -0.28394383, 0.23741645, -0.44504562, -0.59244025], Float32[0.4526783 -0.51332533 0.3986332 0.35587695 -0.07882033; -0.49400488 -0.7374654 0.5074636 0.6685295 -0.06313205; 0.49196365 0.5040112 0.43119308 0.648467 -0.30378386; 0.14984936 0.21636371 0.7006185 0.78951406 0.8111613; 0.09082279 -0.045024056 -0.095688224 -0.39101085 -0.44219896], Float32[-0.59180325, -0.33718908, -0.02656166, -0.5028918, 0.6752691], Float32[-0.8197048 -0.661935 0.8744402 0.65417695 1.0522481], Float32[0.07299299]])\n"
     ]
    },
    {
     "name": "stderr",
     "output_type": "stream",
     "text": [
      "┌ Info: Epoch 80\n",
      "└ @ Main /Users/facundosapienza/.julia/packages/Flux/goUGu/src/optimise/train.jl:136\n"
     ]
    },
    {
     "name": "stdout",
     "output_type": "stream",
     "text": [
      "Current loss: 1.6370218306133655\n",
      "Current parameter:Params([Float32[-0.49098018; 0.08876665; -0.29677832; 0.33730292; -0.29660988], Float32[-0.43963325, 1.1848394, -0.72894204, 0.08262622, 0.19814128], Float32[0.110348135 -0.47091612 -0.7828398 0.5530777 0.49543533; -0.71029586 -0.593072 -0.7687637 0.14865905 0.42132849; -0.51463926 -0.10912211 -0.56245774 -0.45600197 -0.016819764; -0.56374323 -0.70035243 -0.6879988 -0.31152886 0.47990638; -0.34762534 0.42908794 0.14359173 0.13783441 0.6659987], Float32[-0.072504, -0.2832412, 0.2380285, -0.44557422, -0.5925456], Float32[0.45150316 -0.5144197 0.39780715 0.3558341 -0.07927199; -0.49498335 -0.7383797 0.50677985 0.66869706 -0.063496925; 0.49272326 0.50493187 0.43185014 0.6476277 -0.30345008; 0.1510242 0.21756472 0.7015024 0.7885761 0.8116651; 0.09192342 -0.04401797 -0.09493107 -0.3908929 -0.4417967], Float32[-0.5926563, -0.33790588, -0.025853164, -0.5019768, 0.67605376], Float32[-0.82064635 -0.663272 0.87561494 0.65497404 1.0535214], Float32[0.073842086]])\n"
     ]
    },
    {
     "name": "stderr",
     "output_type": "stream",
     "text": [
      "┌ Info: Epoch 81\n",
      "└ @ Main /Users/facundosapienza/.julia/packages/Flux/goUGu/src/optimise/train.jl:136\n"
     ]
    },
    {
     "name": "stdout",
     "output_type": "stream",
     "text": [
      "Current loss: 1.5991182891145106\n",
      "Current parameter:Params([Float32[-0.49112338; 0.08856487; -0.2971631; 0.3379728; -0.2963013], Float32[-0.44081378, 1.1842477, -0.7297187, 0.083370484, 0.19899614], Float32[0.10983031 -0.47033322 -0.7834463 0.5536471 0.4951128; -0.71086615 -0.59243506 -0.7694257 0.14928158 0.42100552; -0.5146222 -0.10863413 -0.5627011 -0.45622566 -0.016292308; -0.5630723 -0.70087934 -0.6873155 -0.31231844 0.48058054; -0.34744692 0.42898262 0.14375918 0.13760278 0.66620034], Float32[-0.07185683, -0.28254282, 0.2386767, -0.44609758, -0.5926379], Float32[0.45031822 -0.5155121 0.3969833 0.35580716 -0.07972061; -0.49596795 -0.7392886 0.50610155 0.66888016 -0.063856944; 0.4934938 0.5058505 0.432504 0.6467773 -0.30311945; 0.15221074 0.21876328 0.7023842 0.7876122 0.8121663; 0.09303245 -0.04301475 -0.09417699 -0.3907887 -0.44139802], Float32[-0.59350693, -0.33861715, -0.025147993, -0.50106406, 0.6768352], Float32[-0.8215882 -0.6646115 0.876788 0.6557731 1.0547924], Float32[0.07468914]])\n"
     ]
    },
    {
     "name": "stderr",
     "output_type": "stream",
     "text": [
      "┌ Info: Epoch 82\n",
      "└ @ Main /Users/facundosapienza/.julia/packages/Flux/goUGu/src/optimise/train.jl:136\n"
     ]
    },
    {
     "name": "stdout",
     "output_type": "stream",
     "text": [
      "Current loss: 1.5617308031793424\n",
      "Current parameter:Params([Float32[-0.49126926; 0.088371076; -0.29754215; 0.33863878; -0.29599547], Float32[-0.4419904, 1.1836607, -0.73049265, 0.084111795, 0.19984995], Float32[0.109315634 -0.469753 -0.7840501 0.55421335 0.4947961; -0.7114316 -0.5918026 -0.77008307 0.14989907 0.42069; -0.51463413 -0.1081131 -0.5629799 -0.45642057 -0.01577675; -0.5624051 -0.7014014 -0.686636 -0.31310508 0.48125055; -0.3472791 0.42888874 0.14391445 0.13738276 0.66639376], Float32[-0.0712119, -0.28184867, 0.23935997, -0.44661608, -0.5927173], Float32[0.44912416 -0.5166026 0.3961616 0.35579592 -0.080166504; -0.4969581 -0.7401922 0.5054285 0.6690783 -0.06421239; 0.4942748 0.5067671 0.43315476 0.64591634 -0.30279177; 0.15340815 0.21995929 0.7032639 0.78662336 0.812665; 0.09414928 -0.042014387 -0.093425915 -0.39069805 -0.44100267], Float32[-0.5943551, -0.33932295, -0.024446134, -0.50015366, 0.67761344], Float32[-0.82253045 -0.66595304 0.87795943 0.65657437 1.0560611], Float32[0.07553418]])\n"
     ]
    },
    {
     "name": "stderr",
     "output_type": "stream",
     "text": [
      "┌ Info: Epoch 83\n",
      "└ @ Main /Users/facundosapienza/.julia/packages/Flux/goUGu/src/optimise/train.jl:136\n"
     ]
    },
    {
     "name": "stdout",
     "output_type": "stream",
     "text": [
      "Current loss: 1.5248498487587132\n",
      "Current parameter:Params([Float32[-0.49141604; 0.0881852; -0.29791546; 0.33930105; -0.2956927], Float32[-0.44316286, 1.1830783, -0.73126394, 0.08485027, 0.20070255], Float32[0.10880397 -0.46917534 -0.7846513 0.55477655 0.49448505; -0.7119924 -0.5911746 -0.77073586 0.15051156 0.42038184; -0.5146748 -0.10755988 -0.5632936 -0.45658672 -0.015272868; -0.56174123 -0.701919 -0.6859598 -0.31388903 0.48191667; -0.34712163 0.42880604 0.14405783 0.13717408 0.6665793], Float32[-0.07056913, -0.28115872, 0.24007721, -0.44713008, -0.5927841], Float32[0.4479216 -0.5176911 0.395342 0.35580015 -0.080609955; -0.4979533 -0.7410904 0.5047607 0.66929096 -0.06456354; 0.49506578 0.50768167 0.43380246 0.6450456 -0.30246684; 0.15461563 0.22115262 0.70414144 0.7856106 0.81316155; 0.095273346 -0.04101687 -0.09267778 -0.39062068 -0.44061035], Float32[-0.5952009, -0.34002334, -0.023747578, -0.49924567, 0.67838854], Float32[-0.82347304 -0.6672962 0.8791292 0.657378 1.0573275], Float32[0.0763772]])\n"
     ]
    },
    {
     "name": "stderr",
     "output_type": "stream",
     "text": [
      "┌ Info: Epoch 84\n",
      "└ @ Main /Users/facundosapienza/.julia/packages/Flux/goUGu/src/optimise/train.jl:136\n"
     ]
    },
    {
     "name": "stdout",
     "output_type": "stream",
     "text": [
      "Current loss: 1.4884661909984096\n",
      "Current parameter:Params([Float32[-0.49156195; 0.08800717; -0.29828304; 0.3399597; -0.29539323], Float32[-0.44433093, 1.1825005, -0.7320325, 0.085586, 0.20155382], Float32[0.108295195 -0.46860015 -0.78524995 0.55533683 0.49417952; -0.7125485 -0.59055096 -0.77138406 0.1511191 0.42008096; -0.5147439 -0.106975354 -0.56364167 -0.45672417 -0.0147804385; -0.56108046 -0.70243245 -0.6852868 -0.31467053 0.48257905; -0.3469742 0.42873424 0.14418961 0.13697645 0.6667572], Float32[-0.069928445, -0.28047296, 0.24082725, -0.4476399, -0.59283864], Float32[0.44671118 -0.5187776 0.3945245 0.35581964 -0.081051245; -0.49895298 -0.74198335 0.504098 0.6695177 -0.06491068; 0.4958663 0.50859416 0.43444714 0.64416564 -0.30214438; 0.15583238 0.22234318 0.70501685 0.784575 0.8136562; 0.09640411 -0.040022194 -0.09193252 -0.3905564 -0.44022077], Float32[-0.59604424, -0.34071836, -0.023052316, -0.49834013, 0.67916054], Float32[-0.824416 -0.6686406 0.88029724 0.65818435 1.0585915], Float32[0.07721821]])\n"
     ]
    },
    {
     "name": "stderr",
     "output_type": "stream",
     "text": [
      "┌ Info: Epoch 85\n",
      "└ @ Main /Users/facundosapienza/.julia/packages/Flux/goUGu/src/optimise/train.jl:136\n"
     ]
    },
    {
     "name": "stdout",
     "output_type": "stream",
     "text": [
      "Current loss: 1.4525715038805922\n",
      "Current parameter:Params([Float32[-0.4917054; 0.08783692; -0.29864493; 0.34061489; -0.29509732], Float32[-0.44549438, 1.1819273, -0.7327982, 0.08631909, 0.20240362], Float32[0.10778918 -0.46802735 -0.7858462 0.5558943 0.49387935; -0.7131 -0.5899317 -0.77202773 0.15172172 0.41978723; -0.51484126 -0.106360435 -0.5640235 -0.45683298 -0.014299236; -0.56042254 -0.702942 -0.6846167 -0.31544983 0.4832379; -0.34683654 0.4286731 0.14431007 0.13678956 0.6669279], Float32[-0.06928977, -0.27979138, 0.24160892, -0.44814593, -0.59288114], Float32[0.44549346 -0.5198621 0.3937091 0.35585424 -0.08149065; -0.49995667 -0.74287105 0.5034403 0.6697581 -0.065254055; 0.49667594 0.5095046 0.43508887 0.6432771 -0.3018242; 0.15705767 0.22353084 0.7058901 0.7835174 0.8141492; 0.09754107 -0.039030354 -0.09119007 -0.390505 -0.43983364], Float32[-0.59688514, -0.34140804, -0.022360336, -0.4974371, 0.67992944], Float32[-0.82535934 -0.66998595 0.88146365 0.65899354 1.0598531], Float32[0.07805722]])\n"
     ]
    },
    {
     "name": "stderr",
     "output_type": "stream",
     "text": [
      "┌ Info: Epoch 86\n",
      "└ @ Main /Users/facundosapienza/.julia/packages/Flux/goUGu/src/optimise/train.jl:136\n"
     ]
    },
    {
     "name": "stdout",
     "output_type": "stream",
     "text": [
      "Current loss: 1.41715726577724\n",
      "Current parameter:Params([Float32[-0.4918448; 0.08767439; -0.2990011; 0.3412667; -0.2948052], Float32[-0.44665304, 1.1813588, -0.73356116, 0.08704964, 0.20325182], Float32[0.10728581 -0.46745688 -0.7864401 0.5564491 0.49358442; -0.71364695 -0.5893168 -0.77266693 0.15231946 0.41950053; -0.5149665 -0.10571607 -0.5644385 -0.45691326 -0.013829035; -0.55976725 -0.70344806 -0.6839491 -0.31622714 0.4838934; -0.3467084 0.42862234 0.14441948 0.13661316 0.66709155], Float32[-0.06865305, -0.27911398, 0.242421, -0.44864845, -0.59291184], Float32[0.44426903 -0.52094454 0.39289567 0.3559038 -0.08192844; -0.5009639 -0.7437535 0.5027876 0.6700117 -0.06559392; 0.49749425 0.510413 0.43572772 0.64238054 -0.30150613; 0.15829082 0.22471555 0.70676124 0.7824388 0.81464076; 0.09868373 -0.038041346 -0.090450376 -0.3904663 -0.43944874], Float32[-0.5977236, -0.34209245, -0.021671627, -0.4965366, 0.6806953], Float32[-0.8263031 -0.67133194 0.8826284 0.65980583 1.0611122], Float32[0.07889424]])\n"
     ]
    },
    {
     "name": "stderr",
     "output_type": "stream",
     "text": [
      "┌ Info: Epoch 87\n",
      "└ @ Main /Users/facundosapienza/.julia/packages/Flux/goUGu/src/optimise/train.jl:136\n"
     ]
    },
    {
     "name": "stdout",
     "output_type": "stream",
     "text": [
      "Current loss: 1.3822149156975923\n",
      "Current parameter:Params([Float32[-0.49197876; 0.087519504; -0.2993516; 0.34191528; -0.2945171], Float32[-0.44780672, 1.1807951, -0.7343212, 0.08777774, 0.2040983], Float32[0.106784984 -0.46688864 -0.7870317 0.55700135 0.49329463; -0.7141894 -0.5887062 -0.77330166 0.15291238 0.4192208; -0.5151193 -0.105043225 -0.564886 -0.45696518 -0.01336961; -0.55911434 -0.7039508 -0.6832839 -0.31700265 0.4845457; -0.34658948 0.4285817 0.14451808 0.13644697 0.6672485], Float32[-0.068018205, -0.2784407, 0.24326229, -0.44914782, -0.592931], Float32[0.4430384 -0.52202487 0.39208424 0.3559682 -0.082364865; -0.5019743 -0.74463075 0.50213975 0.6702782 -0.065930516; 0.49832088 0.51131934 0.43636373 0.64147645 -0.30118993; 0.15953116 0.22589718 0.70763016 0.78134006 0.8151311; 0.09983163 -0.03705517 -0.08971338 -0.3904402 -0.43906578], Float32[-0.5985596, -0.34277165, -0.020986177, -0.49563873, 0.6814581], Float32[-0.8272473 -0.6726783 0.8837914 0.6606214 1.0623688], Float32[0.07972928]])\n"
     ]
    },
    {
     "name": "stderr",
     "output_type": "stream",
     "text": [
      "┌ Info: Epoch 88\n",
      "└ @ Main /Users/facundosapienza/.julia/packages/Flux/goUGu/src/optimise/train.jl:136\n"
     ]
    },
    {
     "name": "stdout",
     "output_type": "stream",
     "text": [
      "Current loss: 1.347737323286693\n",
      "Current parameter:Params([Float32[-0.49210593; 0.0873722; -0.29969645; 0.3425607; -0.29423323], Float32[-0.44895524, 1.180236, -0.7350783, 0.08850349, 0.20494294], Float32[0.1062866 -0.46632257 -0.7876212 0.55755115 0.4930098; -0.7147274 -0.58809984 -0.7739319 0.15350051 0.4189479; -0.5152993 -0.10434288 -0.5653652 -0.45698887 -0.012920738; -0.55846363 -0.7044506 -0.6826208 -0.3177766 0.48519498; -0.34647956 0.428551 0.14460611 0.13629074 0.667399], Float32[-0.0673852, -0.27777156, 0.24413157, -0.44964433, -0.5929388], Float32[0.4418021 -0.52310306 0.39127478 0.35604733 -0.08280018; -0.5029873 -0.7455028 0.50149673 0.6705572 -0.06626407; 0.4991554 0.5122236 0.43699697 0.64056534 -0.30087543; 0.16077808 0.22707567 0.7084969 0.780222 0.81562054; 0.10098433 -0.036071826 -0.08897903 -0.39042652 -0.43868455], Float32[-0.5993932, -0.34344566, -0.020303976, -0.4947435, 0.6822179], Float32[-0.82819194 -0.6740247 0.8849527 0.6614404 1.0636227], Float32[0.080562346]])\n"
     ]
    },
    {
     "name": "stderr",
     "output_type": "stream",
     "text": [
      "┌ Info: Epoch 89\n",
      "└ @ Main /Users/facundosapienza/.julia/packages/Flux/goUGu/src/optimise/train.jl:136\n"
     ]
    },
    {
     "name": "stdout",
     "output_type": "stream",
     "text": [
      "Current loss: 1.313715781487208\n",
      "Current parameter:Params([Float32[-0.49222508; 0.0872324; -0.30003566; 0.34320313; -0.29395378], Float32[-0.45009845, 1.1796815, -0.73583245, 0.08922697, 0.20578565], Float32[0.10579056 -0.4657586 -0.78820854 0.55809855 0.49272984; -0.71526104 -0.5874977 -0.7745578 0.15408392 0.41868174; -0.5155061 -0.10361602 -0.5658754 -0.45698455 -0.012482201; -0.5578149 -0.70494765 -0.6819596 -0.31854913 0.4858414; -0.34637842 0.42852992 0.14468384 0.13614422 0.6675433], Float32[-0.06675396, -0.2771065, 0.2450276, -0.45013824, -0.5929355], Float32[0.4405606 -0.52417904 0.39046726 0.35614115 -0.083234616; -0.5040027 -0.7463698 0.5008584 0.67084837 -0.0665948; 0.4999975 0.5131257 0.4376275 0.6396476 -0.30056244; 0.16203098 0.22825092 0.7093615 0.7790854 0.81610924; 0.102141395 -0.035091322 -0.08824727 -0.39042518 -0.4383048], Float32[-0.6002243, -0.34411454, -0.01962501, -0.49385095, 0.68297464], Float32[-0.829137 -0.67537093 0.8861124 0.6622629 1.0648742], Float32[0.08139344]])\n"
     ]
    },
    {
     "name": "stderr",
     "output_type": "stream",
     "text": [
      "┌ Info: Epoch 90\n",
      "└ @ Main /Users/facundosapienza/.julia/packages/Flux/goUGu/src/optimise/train.jl:136\n"
     ]
    },
    {
     "name": "stdout",
     "output_type": "stream",
     "text": [
      "Current loss: 1.280143481374823\n",
      "Current parameter:Params([Float32[-0.4923351; 0.087100044; -0.30036923; 0.34384263; -0.2936789], Float32[-0.45123622, 1.1791319, -0.7365836, 0.08994826, 0.20662631], Float32[0.10529678 -0.46519667 -0.78879386 0.5586437 0.49245462; -0.71579033 -0.5868998 -0.7751793 0.15466265 0.41842222; -0.51573926 -0.10286366 -0.5664159 -0.4569524 -0.012053782; -0.55716795 -0.70544225 -0.6813001 -0.31932044 0.48648506; -0.3462858 0.4285183 0.14475149 0.13600719 0.6676817], Float32[-0.06612446, -0.2764455, 0.24594918, -0.45062986, -0.5929214], Float32[0.43931437 -0.5252528 0.38966164 0.3562496 -0.0836684; -0.50501996 -0.7472316 0.50022477 0.6711514 -0.06692291; 0.50084674 0.51402575 0.43825534 0.6387237 -0.30025083; 0.16328932 0.22942287 0.71022385 0.777931 0.8165974; 0.10330244 -0.034113664 -0.08751806 -0.3904361 -0.43792632], Float32[-0.601053, -0.34477833, -0.018949265, -0.49296114, 0.6837284], Float32[-0.8300826 -0.6767168 0.88727033 0.6630892 1.066123], Float32[0.08222258]])\n"
     ]
    },
    {
     "name": "stderr",
     "output_type": "stream",
     "text": [
      "┌ Info: Epoch 91\n",
      "└ @ Main /Users/facundosapienza/.julia/packages/Flux/goUGu/src/optimise/train.jl:136\n"
     ]
    },
    {
     "name": "stdout",
     "output_type": "stream",
     "text": [
      "Current loss: 1.247012555938319\n",
      "Current parameter:Params([Float32[-0.49243498; 0.086975046; -0.30069724; 0.3444793; -0.29340878], Float32[-0.45236844, 1.178587, -0.73733175, 0.09066745, 0.20746483], Float32[0.10480519 -0.4646367 -0.7893772 0.55918664 0.49218404; -0.7163153 -0.5863061 -0.77579653 0.15523675 0.4181692; -0.51599836 -0.1020868 -0.56698585 -0.45689264 -0.01163527; -0.5565226 -0.7059346 -0.68064207 -0.3200907 0.4871261; -0.3462015 0.4285159 0.14480928 0.13587941 0.6678144], Float32[-0.065496646, -0.27578858, 0.24689507, -0.45111945, -0.59289664], Float32[0.4380638 -0.52632433 0.3888579 0.35637268 -0.08410176; -0.5060388 -0.74808836 0.49959567 0.67146605 -0.0672486; 0.50170285 0.5149237 0.43888056 0.63779396 -0.29994038; 0.16455257 0.23059145 0.711084 0.77675945 0.81708527; 0.10446707 -0.033138856 -0.08679135 -0.39045924 -0.43754888], Float32[-0.6018792, -0.34543708, -0.018276729, -0.4920741, 0.6844792], Float32[-0.83102864 -0.6780621 0.88842654 0.6639193 1.0673692], Float32[0.08304977]])\n"
     ]
    },
    {
     "name": "stderr",
     "output_type": "stream",
     "text": [
      "┌ Info: Epoch 92\n",
      "└ @ Main /Users/facundosapienza/.julia/packages/Flux/goUGu/src/optimise/train.jl:136\n"
     ]
    },
    {
     "name": "stdout",
     "output_type": "stream",
     "text": [
      "Current loss: 1.214315687036267\n",
      "Current parameter:Params([Float32[-0.49252382; 0.086857334; -0.30101973; 0.34511322; -0.2931435], Float32[-0.453495, 1.1780467, -0.7380768, 0.091384605, 0.20830111], Float32[0.10431569 -0.4640787 -0.78995866 0.5597275 0.491918; -0.7168361 -0.5857165 -0.77640945 0.15580627 0.4179226; -0.516283 -0.101286426 -0.5675844 -0.45680553 -0.0112264585; -0.5558787 -0.7064249 -0.67998534 -0.32086006 0.48776466; -0.34612533 0.42852253 0.1448574 0.1357607 0.6679416], Float32[-0.064870484, -0.27513567, 0.2478641, -0.45160723, -0.5928615], Float32[0.43680936 -0.5273935 0.38805604 0.3565104 -0.08453489; -0.50705886 -0.74894 0.4989711 0.67179203 -0.06757204; 0.5025655 0.5158195 0.43950322 0.6368588 -0.29963094; 0.16582023 0.2317566 0.71194196 0.7755715 0.817573; 0.10563493 -0.032166913 -0.0860671 -0.39049453 -0.4371723], Float32[-0.6027029, -0.3460908, -0.017607385, -0.49118987, 0.68522704], Float32[-0.8319752 -0.6794066 0.889581 0.66475344 1.0686128], Float32[0.08387501]])\n"
     ]
    },
    {
     "name": "stderr",
     "output_type": "stream",
     "text": [
      "┌ Info: Epoch 93\n",
      "└ @ Main /Users/facundosapienza/.julia/packages/Flux/goUGu/src/optimise/train.jl:136\n"
     ]
    },
    {
     "name": "stdout",
     "output_type": "stream",
     "text": [
      "Current loss: 1.1820460837494926\n",
      "Current parameter:Params([Float32[-0.49260083; 0.086746834; -0.3013367; 0.34574452; -0.29288322], Float32[-0.45461577, 1.1775112, -0.73881876, 0.0920998, 0.2091351], Float32[0.10382823 -0.46352255 -0.79053825 0.5602663 0.4916564; -0.7173527 -0.58513093 -0.77701813 0.15637128 0.4176823; -0.5165926 -0.100463554 -0.5682107 -0.45669132 -0.010827146; -0.5552361 -0.7069134 -0.67932975 -0.3216286 0.48840082; -0.3460571 0.428538 0.14489608 0.13565083 0.66806346], Float32[-0.06424594, -0.27448675, 0.24885505, -0.45209345, -0.59281605], Float32[0.43555143 -0.5284604 0.38725603 0.35666278 -0.084968; -0.5080798 -0.74978656 0.49835098 0.6721291 -0.06789342; 0.50343436 0.5167132 0.44012338 0.63591856 -0.29932237; 0.16709183 0.23291826 0.71279776 0.7743678 0.8180608; 0.10680565 -0.031197846 -0.08534528 -0.39054194 -0.43679637], Float32[-0.60352415, -0.34673953, -0.01694122, -0.49030846, 0.6859719], Float32[-0.8329223 -0.6807501 0.8907338 0.6655916 1.0698538], Float32[0.08469831]])\n"
     ]
    },
    {
     "name": "stderr",
     "output_type": "stream",
     "text": [
      "┌ Info: Epoch 94\n",
      "└ @ Main /Users/facundosapienza/.julia/packages/Flux/goUGu/src/optimise/train.jl:136\n"
     ]
    },
    {
     "name": "stdout",
     "output_type": "stream",
     "text": [
      "Current loss: 1.1501962880821277\n",
      "Current parameter:Params([Float32[-0.49266532; 0.086643465; -0.30164823; 0.34637326; -0.292628], Float32[-0.4557307, 1.1769805, -0.7395576, 0.09281311, 0.2099667], Float32[0.103342734 -0.46296826 -0.791116 0.5608032 0.4913991; -0.71786517 -0.5845494 -0.7776226 0.15693182 0.4174482; -0.5169269 -0.09961917 -0.568864 -0.45655033 -0.010437135; -0.5545947 -0.7074003 -0.6786751 -0.3223965 0.48903468; -0.3459966 0.4285621 0.14492548 0.13554962 0.6681803], Float32[-0.063622974, -0.27384183, 0.24986678, -0.45257834, -0.59276056], Float32[0.43429038 -0.52952486 0.38645783 0.35682988 -0.08540128; -0.50910133 -0.75062805 0.49773526 0.672477 -0.068212904; 0.5043091 0.51760477 0.44074106 0.6349735 -0.2990145; 0.16836695 0.2340764 0.71365136 0.7731489 0.81854886; 0.10797892 -0.03023167 -0.08462585 -0.39060146 -0.43642095], Float32[-0.6043429, -0.34738335, -0.016278217, -0.48942992, 0.6867139], Float32[-0.83386993 -0.6820925 0.89188474 0.6664339 1.0710921], Float32[0.08551969]])\n"
     ]
    },
    {
     "name": "stderr",
     "output_type": "stream",
     "text": [
      "┌ Info: Epoch 95\n",
      "└ @ Main /Users/facundosapienza/.julia/packages/Flux/goUGu/src/optimise/train.jl:136\n"
     ]
    },
    {
     "name": "stdout",
     "output_type": "stream",
     "text": [
      "Current loss: 1.1187602986747225\n",
      "Current parameter:Params([Float32[-0.49271673; 0.08654715; -0.30195436; 0.34699953; -0.2923779], Float32[-0.45683974, 1.1764545, -0.7402933, 0.0935246, 0.21079585], Float32[0.10285915 -0.46241578 -0.791692 0.5613382 0.49114606; -0.7183736 -0.583972 -0.77822286 0.15748794 0.41722018; -0.5172852 -0.09875426 -0.56954336 -0.45638284 -0.010056234; -0.55395436 -0.70788574 -0.6780213 -0.3231638 0.48966634; -0.34594366 0.42859465 0.1449458 0.1354569 0.6682922], Float32[-0.063001566, -0.27320087, 0.25089812, -0.45306206, -0.59269524], Float32[0.43302658 -0.5305869 0.38566145 0.3570118 -0.085834906; -0.5101231 -0.75146455 0.49712387 0.6728356 -0.06853064; 0.50518954 0.5184942 0.44135633 0.63402396 -0.29870725; 0.16964518 0.23523094 0.71450275 0.7719154 0.8190373; 0.1091544 -0.0292684 -0.08390877 -0.3906731 -0.43604583], Float32[-0.60515916, -0.34802225, -0.01561836, -0.48855427, 0.6874529], Float32[-0.8348181 -0.6834336 0.893034 0.6672804 1.0723279], Float32[0.08633914]])\n"
     ]
    },
    {
     "name": "stderr",
     "output_type": "stream",
     "text": [
      "┌ Info: Epoch 96\n",
      "└ @ Main /Users/facundosapienza/.julia/packages/Flux/goUGu/src/optimise/train.jl:136\n"
     ]
    },
    {
     "name": "stdout",
     "output_type": "stream",
     "text": [
      "Current loss: 1.0877310664606177\n",
      "Current parameter:Params([Float32[-0.49275455; 0.086457804; -0.30225515; 0.34762338; -0.292133], Float32[-0.4579428, 1.1759334, -0.7410258, 0.09423432, 0.21162249], Float32[0.102377415 -0.46186507 -0.7922663 0.56187135 0.49089715; -0.718878 -0.5833985 -0.77881896 0.15803972 0.41699812; -0.5176671 -0.097869776 -0.57024795 -0.4561892 -0.009684257; -0.553315 -0.7083699 -0.6773682 -0.32393068 0.4902959; -0.34589815 0.4286355 0.1449572 0.13537253 0.66839945], Float32[-0.062381692, -0.27256384, 0.251948, -0.45354483, -0.5926202], Float32[0.43176037 -0.5316465 0.38486686 0.3572086 -0.08626905; -0.5111448 -0.752296 0.49651676 0.6732047 -0.068846785; 0.5060753 0.5193815 0.44196925 0.6330701 -0.29840043; 0.17092611 0.23638186 0.715352 0.7706678 0.8195263; 0.1103318 -0.028308056 -0.08319401 -0.39075693 -0.43567085], Float32[-0.6059729, -0.3486563, -0.014961631, -0.48768154, 0.688189], Float32[-0.8357669 -0.68477327 0.89418143 0.6681312 1.073561], Float32[0.087156676]])\n"
     ]
    },
    {
     "name": "stderr",
     "output_type": "stream",
     "text": [
      "┌ Info: Epoch 97\n",
      "└ @ Main /Users/facundosapienza/.julia/packages/Flux/goUGu/src/optimise/train.jl:136\n"
     ]
    },
    {
     "name": "stdout",
     "output_type": "stream",
     "text": [
      "Current loss: 1.057101898845638\n",
      "Current parameter:Params([Float32[-0.4927784; 0.08637534; -0.30255064; 0.34824488; -0.29189333], Float32[-0.45903987, 1.175417, -0.7417551, 0.09494233, 0.21244656], Float32[0.101897486 -0.46131608 -0.79283893 0.5624027 0.4906523; -0.7193784 -0.582829 -0.77941096 0.1585872 0.41678193; -0.51807207 -0.09696669 -0.5709769 -0.4559697 -0.009321024; -0.5526765 -0.70885295 -0.6767158 -0.32469717 0.49092335; -0.34585992 0.4286845 0.14495984 0.13529634 0.6685021], Float32[-0.061763335, -0.27193072, 0.25301528, -0.45402682, -0.5925357], Float32[0.43049207 -0.5327036 0.38407406 0.3574204 -0.086703874; -0.51216626 -0.7531224 0.4959139 0.67358416 -0.06916147; 0.5069662 0.5202667 0.44257984 0.63211226 -0.29809391; 0.17220938 0.23752911 0.71619904 0.7694066 0.8200161; 0.11151082 -0.027350655 -0.08248155 -0.39085296 -0.43529588], Float32[-0.6067841, -0.3492855, -0.014308012, -0.48681173, 0.6889223], Float32[-0.8367163 -0.68611145 0.8953271 0.66898626 1.0747916], Float32[0.087972306]])\n"
     ]
    },
    {
     "name": "stderr",
     "output_type": "stream",
     "text": [
      "┌ Info: Epoch 98\n",
      "└ @ Main /Users/facundosapienza/.julia/packages/Flux/goUGu/src/optimise/train.jl:136\n"
     ]
    },
    {
     "name": "stdout",
     "output_type": "stream",
     "text": [
      "Current loss: 1.0268667126770354\n",
      "Current parameter:Params([Float32[-0.49278796; 0.08629967; -0.30284092; 0.3488641; -0.2916589], Float32[-0.46013087, 1.1749053, -0.74248123, 0.09564869, 0.21326801], Float32[0.101419315 -0.4607688 -0.7934099 0.56293243 0.49041143; -0.7198749 -0.5822634 -0.7799989 0.15913044 0.4165715; -0.51849955 -0.09604593 -0.57172936 -0.4557247 -0.008966357; -0.5520388 -0.709335 -0.67606384 -0.32546335 0.4915488; -0.3458288 0.42874146 0.14495386 0.1352282 0.6686003], Float32[-0.06114647, -0.27130148, 0.25409892, -0.4545082, -0.5924418], Float32[0.429222 -0.5337581 0.38328305 0.3576474 -0.08713954; -0.51318717 -0.75394374 0.4953152 0.6739738 -0.06947482; 0.50786185 0.52114975 0.44318816 0.6311506 -0.2977876; 0.17349467 0.23867267 0.71704394 0.7681323 0.82050675; 0.11269119 -0.026396217 -0.08177136 -0.39096126 -0.43492073], Float32[-0.6075928, -0.3499099, -0.013657483, -0.48594487, 0.6896526], Float32[-0.8376663 -0.68744797 0.8964709 0.6698457 1.0760195], Float32[0.088786036]])\n"
     ]
    },
    {
     "name": "stderr",
     "output_type": "stream",
     "text": [
      "┌ Info: Epoch 99\n",
      "└ @ Main /Users/facundosapienza/.julia/packages/Flux/goUGu/src/optimise/train.jl:136\n"
     ]
    },
    {
     "name": "stdout",
     "output_type": "stream",
     "text": [
      "Current loss: 0.9970193099681831\n",
      "Current parameter:Params([Float32[-0.49278304; 0.08623072; -0.303126; 0.34948114; -0.29142973], Float32[-0.4612158, 1.1743984, -0.74320406, 0.09635346, 0.2140868], Float32[0.100942865 -0.46022317 -0.7939792 0.56346047 0.49017444; -0.72036755 -0.5817017 -0.78058285 0.15966949 0.4163667; -0.51894903 -0.09510843 -0.5725044 -0.45545456 -0.008620087; -0.5514018 -0.7098163 -0.6754123 -0.32622927 0.4921723; -0.3458047 0.42880625 0.14493942 0.13516797 0.6686943], Float32[-0.060531087, -0.2706761, 0.2551979, -0.4549891, -0.5923387], Float32[0.42795044 -0.53481 0.38249382 0.35788965 -0.08757619; -0.51420724 -0.7547601 0.49472064 0.6743735 -0.06978696; 0.5087622 0.52203065 0.44379425 0.6301853 -0.2974814; 0.17478164 0.23981251 0.7178866 0.7668454 0.82099843; 0.113872625 -0.025444765 -0.08106342 -0.3910819 -0.4345453], Float32[-0.608399, -0.35052952, -0.013010027, -0.48508096, 0.69038004], Float32[-0.8386169 -0.6887827 0.8976129 0.67070955 1.0772449], Float32[0.08959787]])\n"
     ]
    },
    {
     "name": "stderr",
     "output_type": "stream",
     "text": [
      "┌ Info: Epoch 100\n",
      "└ @ Main /Users/facundosapienza/.julia/packages/Flux/goUGu/src/optimise/train.jl:136\n"
     ]
    },
    {
     "name": "stdout",
     "output_type": "stream",
     "text": [
      "Current loss: 0.9675531359355634\n",
      "Current parameter:Params([Float32[-0.4927635; 0.08616838; -0.303406; 0.35009602; -0.29120576], Float32[-0.46229464, 1.1738963, -0.74392366, 0.097056665, 0.2149029], Float32[0.10046809 -0.45967922 -0.79454696 0.5639869 0.48994127; -0.72085637 -0.5811438 -0.7811628 0.16020441 0.41616744; -0.51941997 -0.09415507 -0.5733012 -0.4551597 -0.008282046; -0.55076545 -0.7102968 -0.6747611 -0.32699502 0.4927939; -0.34578747 0.42887872 0.14491664 0.13511553 0.6687842], Float32[-0.05991717, -0.27005455, 0.25631124, -0.45546967, -0.5922265], Float32[0.4266777 -0.5358593 0.38170636 0.35814735 -0.088013954; -0.51522624 -0.7555714 0.49413016 0.6747832 -0.070098005; 0.50966686 0.52290946 0.44439816 0.62921655 -0.29717514; 0.17606999 0.24094859 0.7187272 0.7655463 0.8214913; 0.11505488 -0.02449632 -0.08035771 -0.39121494 -0.43416944], Float32[-0.60920256, -0.3511444, -0.012365622, -0.48422003, 0.6911046], Float32[-0.8395682 -0.6901156 0.8987531 0.6715778 1.0784677], Float32[0.09040782]])\n"
     ]
    },
    {
     "name": "stderr",
     "output_type": "stream",
     "text": [
      "┌ Info: Epoch 101\n",
      "└ @ Main /Users/facundosapienza/.julia/packages/Flux/goUGu/src/optimise/train.jl:136\n"
     ]
    },
    {
     "name": "stdout",
     "output_type": "stream",
     "text": [
      "Current loss: 0.9384625221103243\n",
      "Current parameter:Params([Float32[-0.49272928; 0.08611257; -0.303681; 0.35070878; -0.29098698], Float32[-0.46336737, 1.173399, -0.74464, 0.09775837, 0.21571626], Float32[0.099994965 -0.4591369 -0.79511315 0.5645118 0.48971182; -0.7213414 -0.5805897 -0.7817388 0.16073526 0.4159736; -0.5199118 -0.09318675 -0.57411885 -0.45484048 -0.007952073; -0.5501298 -0.71077675 -0.6741102 -0.32776058 0.4934136; -0.345777 0.42895877 0.14488564 0.13507079 0.6688701], Float32[-0.059304714, -0.2694368, 0.2574379, -0.45595002, -0.5921054], Float32[0.42540404 -0.5369059 0.38092065 0.35842067 -0.08845297; -0.516244 -0.7563777 0.49354374 0.67520267 -0.07040807; 0.5105757 0.5237861 0.44499993 0.62824446 -0.29686874; 0.17735945 0.24208088 0.7195656 0.76423544 0.8219855; 0.116237715 -0.023550909 -0.07965421 -0.3913605 -0.43379304], Float32[-0.6100036, -0.35175455, -0.011724249, -0.4833621, 0.6918262], Float32[-0.84052014 -0.6914465 0.89989144 0.6724505 1.0796881], Float32[0.091215886]])\n"
     ]
    },
    {
     "name": "stderr",
     "output_type": "stream",
     "text": [
      "┌ Info: Epoch 102\n",
      "└ @ Main /Users/facundosapienza/.julia/packages/Flux/goUGu/src/optimise/train.jl:136\n"
     ]
    },
    {
     "name": "stdout",
     "output_type": "stream",
     "text": [
      "Current loss: 0.909741170282705\n",
      "Current parameter:Params([Float32[-0.4926804; 0.08606319; -0.30395103; 0.3513195; -0.29077333], Float32[-0.46443397, 1.1729064, -0.74535304, 0.0984586, 0.21652685], Float32[0.09952345 -0.4585962 -0.7956778 0.5650351 0.48948604; -0.7218226 -0.5800394 -0.7823109 0.16126211 0.4157851; -0.520424 -0.092204325 -0.57495654 -0.45449734 -0.007630009; -0.5494947 -0.71125615 -0.6734595 -0.32852602 0.49403143; -0.3457732 0.42904627 0.14484654 0.13503364 0.6689521], Float32[-0.05869371, -0.26882285, 0.25857702, -0.4564303, -0.59197545], Float32[0.42412972 -0.53794974 0.3801367 0.35870975 -0.08889337; -0.5172602 -0.75717896 0.49296135 0.67563194 -0.07071724; 0.5114885 0.52466065 0.44559962 0.6272692 -0.2965621; 0.17864972 0.24320939 0.7204018 0.76291317 0.8224811; 0.11742088 -0.022608554 -0.07895291 -0.39151865 -0.43341598], Float32[-0.61080205, -0.35236, -0.011085887, -0.4825072, 0.692545], Float32[-0.8414728 -0.69277537 0.90102786 0.6733276 1.0809059], Float32[0.092022076]])\n"
     ]
    },
    {
     "name": "stderr",
     "output_type": "stream",
     "text": [
      "┌ Info: Epoch 103\n",
      "└ @ Main /Users/facundosapienza/.julia/packages/Flux/goUGu/src/optimise/train.jl:136\n"
     ]
    },
    {
     "name": "stdout",
     "output_type": "stream",
     "text": [
      "Current loss: 0.8813839528998313\n",
      "Current parameter:Params([Float32[-0.49261695; 0.08602016; -0.30421618; 0.3519282; -0.29056475], Float32[-0.46549445, 1.1724186, -0.74606276, 0.09915741, 0.21733466], Float32[0.09905352 -0.45805708 -0.79624087 0.56555694 0.48926386; -0.7223002 -0.5794928 -0.7828791 0.16178499 0.41560182; -0.520956 -0.09120864 -0.5758134 -0.45413065 -0.007315702; -0.54886013 -0.7117351 -0.6728089 -0.32929134 0.49464744; -0.34577593 0.42914107 0.14479946 0.13500398 0.6690303], Float32[-0.058084156, -0.26821265, 0.25972763, -0.45691055, -0.59183687], Float32[0.422855 -0.53899086 0.3793545 0.3590148 -0.089335255; -0.5182747 -0.75797516 0.49238294 0.6760708 -0.07102561; 0.51240504 0.5255331 0.44619724 0.6262909 -0.2962551; 0.17994058 0.24433409 0.72123593 0.7615799 0.8229783; 0.11860416 -0.02166928 -0.0782538 -0.3916895 -0.43303815], Float32[-0.61159796, -0.3529608, -0.010450516, -0.4816553, 0.69326085], Float32[-0.8424262 -0.69410217 0.90216243 0.6742092 1.0821213], Float32[0.0928264]])\n"
     ]
    },
    {
     "name": "stderr",
     "output_type": "stream",
     "text": [
      "┌ Info: Epoch 104\n",
      "└ @ Main /Users/facundosapienza/.julia/packages/Flux/goUGu/src/optimise/train.jl:136\n"
     ]
    },
    {
     "name": "stdout",
     "output_type": "stream",
     "text": [
      "Current loss: 0.8533844525302667\n",
      "Current parameter:Params([Float32[-0.49253908; 0.08598337; -0.30447653; 0.35253495; -0.29036117], Float32[-0.46654883, 1.1719356, -0.7467692, 0.09985481, 0.21813965], Float32[0.09858515 -0.45751953 -0.79680246 0.56607735 0.4890452; -0.7227741 -0.5789499 -0.7834435 0.16230397 0.41542363; -0.5215072 -0.0902005 -0.5766886 -0.4537409 -0.007008999; -0.5482261 -0.7122138 -0.6721585 -0.33005658 0.4952616; -0.34578514 0.4292431 0.14474447 0.13498175 0.6691049], Float32[-0.057476047, -0.26760617, 0.26088887, -0.45739093, -0.59168977], Float32[0.4215801 -0.54002917 0.3785741 0.35933605 -0.08977874; -0.5192873 -0.75876635 0.49180847 0.6765193 -0.071333274; 0.51332515 0.52640337 0.44679284 0.6253097 -0.2959477; 0.1812318 0.24545495 0.72206795 0.7602359 0.8234772; 0.119787335 -0.020733114 -0.07755686 -0.39187318 -0.43265945], Float32[-0.61239123, -0.35355693, -0.0098181125, -0.48080644, 0.6939738], Float32[-0.84338033 -0.6954268 0.9032951 0.67509514 1.0833341], Float32[0.09362887]])\n"
     ]
    },
    {
     "name": "stderr",
     "output_type": "stream",
     "text": [
      "┌ Info: Epoch 105\n",
      "└ @ Main /Users/facundosapienza/.julia/packages/Flux/goUGu/src/optimise/train.jl:136\n"
     ]
    },
    {
     "name": "stdout",
     "output_type": "stream",
     "text": [
      "Current loss: 0.8257377519185845\n",
      "Current parameter:Params([Float32[-0.49244696; 0.08595274; -0.30473217; 0.35313976; -0.29016247], Float32[-0.4675971, 1.1714573, -0.7474723, 0.10055085, 0.21894181], Float32[0.09811833 -0.45698357 -0.79736257 0.5665963 0.48883; -0.7232444 -0.57841074 -0.7840041 0.1628191 0.41525045; -0.5220771 -0.08918071 -0.5775813 -0.4533285 -0.0067097526; -0.54759264 -0.71269226 -0.67150813 -0.33082172 0.49587396; -0.34580073 0.4293522 0.1446817 0.13496688 0.6691758], Float32[-0.056869384, -0.26700342, 0.2620599, -0.4578715, -0.5915342], Float32[0.42030528 -0.5410646 0.37779546 0.35967362 -0.09022394; -0.5202977 -0.7595525 0.49123794 0.6769772 -0.071640305; 0.5142486 0.52727157 0.44738647 0.6243257 -0.29563975; 0.18252313 0.24657197 0.7228978 0.7588816 0.8239779; 0.1209702 -0.019800082 -0.0768621 -0.3920698 -0.43227977], Float32[-0.6131819, -0.35414842, -0.009188657, -0.4799606, 0.69468385], Float32[-0.8443352 -0.6967492 0.9044258 0.67598546 1.0845445], Float32[0.09442948]])\n"
     ]
    },
    {
     "name": "stderr",
     "output_type": "stream",
     "text": [
      "┌ Info: Epoch 106\n",
      "└ @ Main /Users/facundosapienza/.julia/packages/Flux/goUGu/src/optimise/train.jl:136\n"
     ]
    },
    {
     "name": "stdout",
     "output_type": "stream",
     "text": [
      "Current loss: 0.7984380061470566\n",
      "Current parameter:Params([Float32[-0.49234086; 0.08592816; -0.30498317; 0.3537427; -0.2899686], Float32[-0.46863928, 1.1709838, -0.7481721, 0.10124556, 0.2197411], Float32[0.097653024 -0.45644915 -0.7979212 0.56711394 0.4886182; -0.7237112 -0.5778752 -0.7845609 0.16333044 0.4150822; -0.522665 -0.08815004 -0.5784907 -0.4528939 -0.006417816; -0.5469597 -0.71317047 -0.67085785 -0.33158675 0.4964845; -0.3458226 0.4294683 0.14461124 0.13495928 0.6692433], Float32[-0.056264166, -0.26640436, 0.2632399, -0.45835233, -0.59137034], Float32[0.41903073 -0.54209715 0.3770186 0.36002776 -0.09067094; -0.52130586 -0.7603336 0.49067128 0.6774446 -0.07194678; 0.5151753 0.5281377 0.44797814 0.62333894 -0.2953312; 0.18381438 0.24768515 0.7237256 0.75751734 0.8244805; 0.12215255 -0.01887021 -0.07616949 -0.39227945 -0.43189904], Float32[-0.6139699, -0.3547353, -0.008562125, -0.47911778, 0.695391], Float32[-0.8452909 -0.69806933 0.9055546 0.6768802 1.0857526], Float32[0.09522823]])\n"
     ]
    },
    {
     "name": "stderr",
     "output_type": "stream",
     "text": [
      "┌ Info: Epoch 107\n",
      "└ @ Main /Users/facundosapienza/.julia/packages/Flux/goUGu/src/optimise/train.jl:136\n"
     ]
    },
    {
     "name": "stdout",
     "output_type": "stream",
     "text": [
      "Current loss: 0.7714798424387149\n",
      "Current parameter:Params([Float32[-0.4922211; 0.08590954; -0.3052296; 0.35434374; -0.28977945], Float32[-0.46967542, 1.1705151, -0.7488686, 0.10193896, 0.22053754], Float32[0.097189225 -0.45591632 -0.79847836 0.5676302 0.48840973; -0.72417444 -0.5773432 -0.785114 0.16383803 0.41491872; -0.5232705 -0.08710924 -0.5794159 -0.4524376 -0.0061330455; -0.5463273 -0.71364856 -0.6702077 -0.33235168 0.4970932; -0.3458507 0.4295913 0.14453316 0.13495891 0.66930735], Float32[-0.055660397, -0.26580897, 0.26442808, -0.45883346, -0.59119827], Float32[0.41775668 -0.54312676 0.37624353 0.36039862 -0.09111984; -0.5223115 -0.76110965 0.4901085 0.67792124 -0.072252765; 0.516105 0.5290017 0.4485679 0.62234956 -0.29502195; 0.18510534 0.24879448 0.7245513 0.7561434 0.824985; 0.12333421 -0.017943524 -0.075479046 -0.3925023 -0.43151715], Float32[-0.6147553, -0.35531762, -0.007938496, -0.478278, 0.6960953], Float32[-0.8462474 -0.69938713 0.9066814 0.6777792 1.0869583], Float32[0.09602515]])\n"
     ]
    },
    {
     "name": "stderr",
     "output_type": "stream",
     "text": [
      "┌ Info: Epoch 108\n",
      "└ @ Main /Users/facundosapienza/.julia/packages/Flux/goUGu/src/optimise/train.jl:136\n"
     ]
    },
    {
     "name": "stdout",
     "output_type": "stream",
     "text": [
      "Current loss: 0.7448586051276008\n",
      "Current parameter:Params([Float32[-0.49208796; 0.085896775; -0.30547157; 0.35494298; -0.2895949], Float32[-0.4707055, 1.1700511, -0.7495617, 0.102631085, 0.22133109], Float32[0.09672692 -0.455385 -0.79903406 0.56814504 0.48820454; -0.7246342 -0.5768149 -0.7856634 0.16434194 0.41475996; -0.5238929 -0.086059034 -0.58035624 -0.45196006 -0.0058552995; -0.5456954 -0.7141265 -0.6695575 -0.3331165 0.4977001; -0.34588498 0.4297211 0.14444754 0.13496569 0.6693681], Float32[-0.055058084, -0.2652172, 0.2656237, -0.45931497, -0.5910181], Float32[0.4164833 -0.5441534 0.37547025 0.3607864 -0.09157073; -0.5233145 -0.76188064 0.48954955 0.6784072 -0.072558336; 0.5170376 0.52986366 0.44915578 0.6213576 -0.29471192; 0.18639584 0.24989995 0.72537494 0.7547601 0.82549167; 0.124514975 -0.01702005 -0.07479075 -0.39273846 -0.43113405], Float32[-0.61553794, -0.35589537, -0.007317747, -0.4774413, 0.69679666], Float32[-0.8472047 -0.70070255 0.9078063 0.6786825 1.0881616], Float32[0.09682023]])\n"
     ]
    },
    {
     "name": "stderr",
     "output_type": "stream",
     "text": [
      "┌ Info: Epoch 109\n",
      "└ @ Main /Users/facundosapienza/.julia/packages/Flux/goUGu/src/optimise/train.jl:136\n"
     ]
    },
    {
     "name": "stdout",
     "output_type": "stream",
     "text": [
      "Current loss: 0.7185683662861878\n",
      "Current parameter:Params([Float32[-0.49194187; 0.08588978; -0.30570915; 0.3555404; -0.2894148], Float32[-0.47172958, 1.1695918, -0.7502515, 0.10332195, 0.22212175], Float32[0.09626609 -0.45485523 -0.7995883 0.5686586 0.48800257; -0.72509044 -0.5762901 -0.78620917 0.16484222 0.41460583; -0.52453166 -0.08500013 -0.58131087 -0.45146176 -0.005584437; -0.5450641 -0.7146045 -0.6689074 -0.33388117 0.49830514; -0.34592533 0.42985758 0.14435446 0.13497959 0.66942555], Float32[-0.054457232, -0.2646291, 0.266826, -0.45979694, -0.5908299], Float32[0.41521084 -0.545177 0.3746988 0.3611913 -0.09202368; -0.5243146 -0.76264656 0.48899442 0.6789023 -0.07286354; 0.5179729 0.5307235 0.44974184 0.6203632 -0.29440105; 0.1876857 0.25100157 0.7261964 0.7533677 0.8260005; 0.12569469 -0.016099816 -0.074104615 -0.39298803 -0.43074962], Float32[-0.6163179, -0.35646856, -0.006699856, -0.47660765, 0.6974951], Float32[-0.84816283 -0.7020155 0.9089291 0.6795901 1.0893625], Float32[0.097613476]])\n"
     ]
    },
    {
     "name": "stderr",
     "output_type": "stream",
     "text": [
      "┌ Info: Epoch 110\n",
      "└ @ Main /Users/facundosapienza/.julia/packages/Flux/goUGu/src/optimise/train.jl:136\n"
     ]
    },
    {
     "name": "stdout",
     "output_type": "stream",
     "text": [
      "Current loss: 0.6926048254101514\n",
      "Current parameter:Params([Float32[-0.4917832; 0.085888445; -0.30594245; 0.35613605; -0.28923902], Float32[-0.47274762, 1.1691372, -0.7509379, 0.104011565, 0.22290951], Float32[0.09580673 -0.45432702 -0.8001411 0.5691709 0.48780376; -0.7255433 -0.57576877 -0.7867513 0.1653389 0.4144562; -0.52518624 -0.083933204 -0.5822791 -0.4509432 -0.0053203185; -0.54443336 -0.71508247 -0.66825736 -0.33464566 0.4989083; -0.3459717 0.43000066 0.14425401 0.13500056 0.6694798], Float32[-0.05385785, -0.26404455, 0.26803434, -0.46027938, -0.59063387], Float32[0.41393945 -0.5461975 0.37392914 0.36161348 -0.092478774; -0.5253117 -0.7634074 0.4884431 0.6794066 -0.07316844; 0.51891077 0.5315813 0.45032609 0.6193663 -0.29408926; 0.18897475 0.2520993 0.72701585 0.7519666 0.8265116; 0.12687318 -0.015182848 -0.07342063 -0.39325112 -0.43036383], Float32[-0.61709523, -0.35703722, -0.0060848, -0.47577706, 0.6981906], Float32[-0.8491218 -0.70332605 0.91005 0.6805019 1.0905612], Float32[0.0984049]])\n"
     ]
    },
    {
     "name": "stderr",
     "output_type": "stream",
     "text": [
      "┌ Info: Epoch 111\n",
      "└ @ Main /Users/facundosapienza/.julia/packages/Flux/goUGu/src/optimise/train.jl:136\n"
     ]
    },
    {
     "name": "stdout",
     "output_type": "stream",
     "text": [
      "Current loss: 0.6669626695253857\n",
      "Current parameter:Params([Float32[-0.49161237; 0.08589268; -0.3061715; 0.35672995; -0.28906748], Float32[-0.4737597, 1.1686873, -0.75162095, 0.10469996, 0.22369435], Float32[0.095348835 -0.45380035 -0.80069244 0.5696819 0.48760808; -0.7259928 -0.575251 -0.7872898 0.16583206 0.41431096; -0.525856 -0.08285893 -0.58326006 -0.4504049 -0.0050628055; -0.5438032 -0.71556044 -0.6676074 -0.33540994 0.4995096; -0.34602404 0.43015027 0.14414626 0.13502854 0.66953087], Float32[-0.05325995, -0.26346362, 0.269248, -0.46076232, -0.5904301], Float32[0.4126693 -0.54721487 0.37316135 0.36205313 -0.09293608; -0.5263057 -0.7641632 0.48789558 0.6799199 -0.07347309; 0.519851 0.532437 0.45090854 0.61836696 -0.29377645; 0.19026284 0.25319317 0.7278332 0.750557 0.8270251; 0.12805028 -0.014269172 -0.0727388 -0.39352787 -0.42997658], Float32[-0.6178698, -0.35760137, -0.005472557, -0.47494954, 0.69888324], Float32[-0.8500817 -0.7046341 0.9111688 0.6814178 1.0917575], Float32[0.099194504]])\n"
     ]
    },
    {
     "name": "stderr",
     "output_type": "stream",
     "text": [
      "┌ Info: Epoch 112\n",
      "└ @ Main /Users/facundosapienza/.julia/packages/Flux/goUGu/src/optimise/train.jl:136\n"
     ]
    },
    {
     "name": "stdout",
     "output_type": "stream",
     "text": [
      "Current loss: 0.6416373395467738\n",
      "Current parameter:Params([Float32[-0.49142987; 0.08590238; -0.30639642; 0.3573221; -0.2889], Float32[-0.47476584, 1.1682422, -0.7523006, 0.10538715, 0.22447628], Float32[0.0948924 -0.4532752 -0.8012423 0.5701916 0.48741543; -0.72643894 -0.57473665 -0.78782475 0.16632172 0.41417006; -0.5265404 -0.08177794 -0.58425313 -0.44984737 -0.004811759; -0.5431737 -0.71603847 -0.66695756 -0.33617398 0.500109; -0.34608227 0.43030632 0.14403127 0.13506351 0.66957885], Float32[-0.052663542, -0.26288623, 0.27046636, -0.4612458, -0.5902186], Float32[0.4114006 -0.5482291 0.37239543 0.36251038 -0.09339568; -0.52729636 -0.7649139 0.48735183 0.6804422 -0.07377753; 0.5207936 0.5332907 0.45148924 0.6173653 -0.2934626; 0.19154982 0.25428316 0.7286485 0.7491392 0.82754105; 0.12922584 -0.013358815 -0.072059125 -0.39381838 -0.4295878], Float32[-0.6186416, -0.35816103, -0.0048631043, -0.4741251, 0.6995729], Float32[-0.85104245 -0.70593953 0.91228557 0.6823379 1.0929517], Float32[0.09998229]])\n"
     ]
    },
    {
     "name": "stderr",
     "output_type": "stream",
     "text": [
      "┌ Info: Epoch 113\n",
      "└ @ Main /Users/facundosapienza/.julia/packages/Flux/goUGu/src/optimise/train.jl:136\n"
     ]
    },
    {
     "name": "stdout",
     "output_type": "stream",
     "text": [
      "Current loss: 0.6166237208049777\n",
      "Current parameter:Params([Float32[-0.49123612; 0.08591745; -0.3066173; 0.3579125; -0.28873643], Float32[-0.47576606, 1.1678017, -0.75297695, 0.10607315, 0.22525528], Float32[0.09443741 -0.4527516 -0.8017907 0.5707001 0.4872258; -0.7268818 -0.5742257 -0.7883562 0.16680795 0.41403338; -0.52723885 -0.080690846 -0.58525753 -0.44927114 -0.004567042; -0.5425448 -0.7165166 -0.6663078 -0.33693776 0.5007065; -0.34614635 0.4304687 0.14390913 0.13510543 0.66962385], Float32[-0.052068636, -0.26231238, 0.2716888, -0.46172988, -0.58999956], Float32[0.41013345 -0.5492401 0.37163138 0.36298543 -0.09385763; -0.5282836 -0.7656595 0.48681182 0.6809734 -0.07408181; 0.52173835 0.5341423 0.45206824 0.6163613 -0.29314762; 0.19283554 0.25536928 0.72946167 0.74771345 0.8280595; 0.1303997 -0.012451801 -0.07138161 -0.39412275 -0.42919746], Float32[-0.6194107, -0.35871622, -0.00425642, -0.4733037, 0.7002597], Float32[-0.8520041 -0.7072424 0.9134003 0.683262 1.0941435], Float32[0.10076827]])\n"
     ]
    },
    {
     "name": "stderr",
     "output_type": "stream",
     "text": [
      "┌ Info: Epoch 114\n",
      "└ @ Main /Users/facundosapienza/.julia/packages/Flux/goUGu/src/optimise/train.jl:136\n"
     ]
    },
    {
     "name": "stdout",
     "output_type": "stream",
     "text": [
      "Current loss: 0.5919174732927636\n",
      "Current parameter:Params([Float32[-0.49103162; 0.08593779; -0.3068342; 0.35850123; -0.2885767], Float32[-0.4767604, 1.1673659, -0.7536499, 0.10675796, 0.22603133], Float32[0.09398388 -0.45222956 -0.8023377 0.57120734 0.48703915; -0.7273214 -0.5737182 -0.7888841 0.16729078 0.41390085; -0.5279508 -0.07959826 -0.58627254 -0.44867674 -0.004328517; -0.5419166 -0.7169948 -0.6656582 -0.3377012 0.501302; -0.3462162 0.43063736 0.14377989 0.13515425 0.6696659], Float32[-0.05147525, -0.26174206, 0.27291468, -0.46221456, -0.589773], Float32[0.40886807 -0.5502479 0.37086922 0.36347836 -0.09432199; -0.52926725 -0.76640004 0.48627555 0.6815134 -0.07438597; 0.5226851 0.5349919 0.45264554 0.6153551 -0.29283142; 0.19411987 0.2564515 0.73027277 0.74628 0.82858056; 0.13157174 -0.011548158 -0.07070627 -0.3944411 -0.4288055], Float32[-0.62017703, -0.35926694, -0.0036524818, -0.4724854, 0.7009435], Float32[-0.8529667 -0.70854276 0.91451293 0.6841901 1.0953331], Float32[0.10155244]])\n"
     ]
    },
    {
     "name": "stderr",
     "output_type": "stream",
     "text": [
      "┌ Info: Epoch 115\n",
      "└ @ Main /Users/facundosapienza/.julia/packages/Flux/goUGu/src/optimise/train.jl:136\n"
     ]
    },
    {
     "name": "stdout",
     "output_type": "stream",
     "text": [
      "Current loss: 0.5675142946330142\n",
      "Current parameter:Params([Float32[-0.49081683; 0.08596331; -0.30704722; 0.35908824; -0.28842062], Float32[-0.47774884, 1.1669347, -0.7543194, 0.107441604, 0.22680445], Float32[0.093531795 -0.45170906 -0.8028832 0.5717134 0.4868554; -0.72775775 -0.57321405 -0.78940856 0.16777025 0.41377237; -0.52867573 -0.07850076 -0.5872975 -0.44806466 -0.0040960456; -0.5412892 -0.71747315 -0.66500866 -0.3384643 0.50189555; -0.34629178 0.4308122 0.14364362 0.13520993 0.6697049], Float32[-0.050883394, -0.26117525, 0.27414346, -0.46269986, -0.58953905], Float32[0.4076046 -0.5512524 0.370109 0.36398932 -0.09478882; -0.5302472 -0.76713544 0.48574302 0.6820622 -0.07469005; 0.5236338 0.5358395 0.45322117 0.61434656 -0.29251397; 0.19540268 0.25752982 0.7310818 0.7448392 0.82910424; 0.13274181 -0.01064791 -0.0700331 -0.3947735 -0.42841184], Float32[-0.62094057, -0.3598132, -0.0030512689, -0.47167015, 0.7016244], Float32[-0.8539303 -0.7098405 0.9156235 0.68512213 1.0965205], Float32[0.10233481]])\n"
     ]
    },
    {
     "name": "stderr",
     "output_type": "stream",
     "text": [
      "┌ Info: Epoch 116\n",
      "└ @ Main /Users/facundosapienza/.julia/packages/Flux/goUGu/src/optimise/train.jl:136\n"
     ]
    },
    {
     "name": "stdout",
     "output_type": "stream",
     "text": [
      "Current loss: 0.5434096602441597\n",
      "Current parameter:Params([Float32[-0.49059227; 0.08599391; -0.30725643; 0.35967356; -0.28826806], Float32[-0.47873148, 1.1665082, -0.7549856, 0.10812408, 0.2275746], Float32[0.09308116 -0.4511901 -0.8034272 0.5722182 0.48667452; -0.7281909 -0.5727133 -0.78992957 0.16824642 0.4136479; -0.529413 -0.0773989 -0.58833176 -0.44743547 -0.0038694916; -0.5406626 -0.71795166 -0.66435933 -0.33922696 0.50248706; -0.34637302 0.43099314 0.14350039 0.13527246 0.6697411], Float32[-0.050293088, -0.26061192, 0.2753746, -0.4631858, -0.58929783], Float32[0.4063432 -0.5522536 0.3693507 0.36451843 -0.09525817; -0.5312233 -0.7678657 0.4852142 0.68261963 -0.07499408; 0.52458423 0.5366851 0.45379514 0.61333585 -0.2921952; 0.19668385 0.2586043 0.7318887 0.7433913 0.8296307; 0.13390978 -0.009751082 -0.06936213 -0.39512008 -0.42801645], Float32[-0.62170124, -0.36035505, -0.00245276, -0.470858, 0.70230234], Float32[-0.8548948 -0.7111355 0.91673195 0.68605804 1.0977058], Float32[0.10311539]])\n"
     ]
    },
    {
     "name": "stderr",
     "output_type": "stream",
     "text": [
      "┌ Info: Epoch 117\n",
      "└ @ Main /Users/facundosapienza/.julia/packages/Flux/goUGu/src/optimise/train.jl:136\n"
     ]
    },
    {
     "name": "stdout",
     "output_type": "stream",
     "text": [
      "Current loss: 0.5195992874378683\n",
      "Current parameter:Params([Float32[-0.4903584; 0.086029485; -0.30746192; 0.3602572; -0.28811887], Float32[-0.4797083, 1.1660863, -0.7556483, 0.10880539, 0.22834179], Float32[0.09263198 -0.45067275 -0.80396974 0.5727218 0.48649648; -0.7286208 -0.5722159 -0.7904472 0.1687193 0.41352728; -0.53016204 -0.07629322 -0.58937466 -0.4467897 -0.003648717; -0.5400368 -0.7184303 -0.66371024 -0.3399892 0.5030765; -0.3464599 0.4311801 0.14335027 0.13534178 0.6697744], Float32[-0.04970435, -0.26005206, 0.27660754, -0.46367237, -0.5890494], Float32[0.40508398 -0.5532514 0.36859438 0.36506578 -0.09573009; -0.53219545 -0.76859087 0.4846891 0.68318564 -0.07529809; 0.5255364 0.5375287 0.4543675 0.612323 -0.29187506; 0.19796325 0.25967485 0.73269355 0.7419365 0.8301599; 0.13507551 -0.0088577 -0.06869334 -0.39548087 -0.42761925], Float32[-0.6224591, -0.36089247, -0.0018569351, -0.47004893, 0.7029773], Float32[-0.8558603 -0.7124279 0.9178383 0.6869978 1.098889], Float32[0.10389417]])\n"
     ]
    },
    {
     "name": "stderr",
     "output_type": "stream",
     "text": [
      "┌ Info: Epoch 118\n",
      "└ @ Main /Users/facundosapienza/.julia/packages/Flux/goUGu/src/optimise/train.jl:136\n"
     ]
    },
    {
     "name": "stdout",
     "output_type": "stream",
     "text": [
      "Current loss: 0.4960796692933193\n",
      "Current parameter:Params([Float32[-0.49011573; 0.08606995; -0.30766377; 0.3608392; -0.2879729], Float32[-0.48067933, 1.1656691, -0.75630766, 0.10948554, 0.229106], Float32[0.09218426 -0.45015696 -0.8045108 0.5732241 0.4863212; -0.7290476 -0.5717218 -0.7909614 0.16918898 0.41341045; -0.53092235 -0.07518425 -0.59042555 -0.44612795 -0.0034335828; -0.53941184 -0.718909 -0.6630614 -0.34075087 0.50366384; -0.34655234 0.43137297 0.14319333 0.13541786 0.669805], Float32[-0.0491172, -0.25949565, 0.2778418, -0.4641596, -0.58879393], Float32[0.40382713 -0.55424577 0.36784005 0.36563143 -0.09620462; -0.5331635 -0.7693109 0.48416767 0.6837601 -0.07560212; 0.52649015 0.53837025 0.45493823 0.611308 -0.2915535; 0.19924077 0.2607415 0.7334963 0.7404751 0.830692; 0.13623889 -0.007967789 -0.06802676 -0.39585593 -0.42722023], Float32[-0.6232141, -0.3614255, -0.001263774, -0.46924296, 0.7036493], Float32[-0.8568267 -0.7137176 0.91894245 0.6879412 1.10007], Float32[0.10467115]])\n"
     ]
    },
    {
     "name": "stderr",
     "output_type": "stream",
     "text": [
      "┌ Info: Epoch 119\n",
      "└ @ Main /Users/facundosapienza/.julia/packages/Flux/goUGu/src/optimise/train.jl:136\n"
     ]
    },
    {
     "name": "stdout",
     "output_type": "stream",
     "text": [
      "Current loss: 0.472846544622742\n",
      "Current parameter:Params([Float32[-0.48986477; 0.086115204; -0.30786204; 0.3614195; -0.28783005], Float32[-0.4816446, 1.1652565, -0.7569636, 0.11016453, 0.2298672], Float32[0.09173801 -0.44964275 -0.8050503 0.5737253 0.4861487; -0.72947127 -0.57123095 -0.7914722 0.16965544 0.41329736; -0.5316934 -0.07407249 -0.5914838 -0.44545072 -0.0032239517; -0.5387878 -0.71938795 -0.6624128 -0.341512 0.5042491; -0.34665027 0.4315717 0.14302965 0.13550067 0.66983277], Float32[-0.048531655, -0.2589427, 0.2790769, -0.4646475, -0.5885315], Float32[0.40257275 -0.5552367 0.36708775 0.36621544 -0.09668182; -0.53412735 -0.7700258 0.48364994 0.684343 -0.07590619; 0.5274454 0.53920984 0.4555074 0.6102908 -0.29123044; 0.2005163 0.26180425 0.734297 0.73900735 0.83122694; 0.1373998 -0.007081374 -0.06736239 -0.39624536 -0.42681932], Float32[-0.6239662, -0.36195412, -0.0006732582, -0.46844012, 0.7043183], Float32[-0.8577941 -0.71500456 0.9200445 0.6888883 1.1012489], Float32[0.10544634]])\n"
     ]
    },
    {
     "name": "stderr",
     "output_type": "stream",
     "text": [
      "┌ Info: Epoch 120\n",
      "└ @ Main /Users/facundosapienza/.julia/packages/Flux/goUGu/src/optimise/train.jl:136\n"
     ]
    },
    {
     "name": "stdout",
     "output_type": "stream",
     "text": [
      "Current loss: 0.4498964949126186\n",
      "Current parameter:Params([Float32[-0.48960596; 0.08616516; -0.30805683; 0.36199814; -0.28769016], Float32[-0.48260412, 1.1648486, -0.7576161, 0.11084236, 0.2306254], Float32[0.09129323 -0.44913015 -0.80558836 0.57422525 0.48597887; -0.72989184 -0.5707434 -0.7919797 0.17011875 0.4131879; -0.5324746 -0.07295843 -0.5925487 -0.44475856 -0.0030196859; -0.53816473 -0.719867 -0.66176456 -0.3422725 0.50483215; -0.34675366 0.43177617 0.14285928 0.13559017 0.66985786], Float32[-0.04794774, -0.25839317, 0.28031236, -0.46513605, -0.58826214], Float32[0.401321 -0.5562241 0.3663375 0.36681783 -0.09716172; -0.5350869 -0.7707355 0.4831359 0.6849341 -0.07621032; 0.5284019 0.54004747 0.45607498 0.6092716 -0.29090583; 0.20178972 0.2628631 0.7350955 0.7375335 0.8317649; 0.1385581 -0.0061984817 -0.06670026 -0.39664915 -0.4264165], Float32[-0.6247154, -0.36247838, -8.5370244f-5, -0.46764037, 0.7049843], Float32[-0.8587625 -0.7162888 0.9211443 0.689839 1.1024256], Float32[0.10621974]])\n"
     ]
    },
    {
     "name": "stderr",
     "output_type": "stream",
     "text": [
      "┌ Info: Epoch 121\n",
      "└ @ Main /Users/facundosapienza/.julia/packages/Flux/goUGu/src/optimise/train.jl:136\n"
     ]
    },
    {
     "name": "stdout",
     "output_type": "stream",
     "text": [
      "Current loss: 0.4272261055150333\n",
      "Current parameter:Params([Float32[-0.48933983; 0.08621971; -0.3082482; 0.3625751; -0.2875531], Float32[-0.48355788, 1.1644452, -0.75826514, 0.11151903, 0.23138058], Float32[0.09084993 -0.44861916 -0.80612487 0.57472396 0.4858117; -0.7303093 -0.5702591 -0.7924838 0.17057894 0.413082; -0.53326535 -0.07184255 -0.5936199 -0.44405204 -0.0028206469; -0.5375427 -0.7203462 -0.66111666 -0.3430323 0.505413; -0.34686244 0.4319863 0.14268231 0.13568631 0.6698803], Float32[-0.047365475, -0.25784707, 0.28154773, -0.46562526, -0.58798605], Float32[0.40007198 -0.55720794 0.36558935 0.36743864 -0.09764435; -0.5360421 -0.7714401 0.48262557 0.68553334 -0.076514535; 0.5293597 0.54088306 0.45664102 0.6082503 -0.29057965; 0.20306093 0.26391804 0.7358919 0.7360539 0.83230585; 0.13971372 -0.005319138 -0.06604037 -0.39706737 -0.4260117], Float32[-0.62546164, -0.36299825, 0.0004999063, -0.46684375, 0.70564735], Float32[-0.85973185 -0.7175703 0.9222419 0.6907932 1.1036003], Float32[0.10699134]])\n"
     ]
    },
    {
     "name": "stderr",
     "output_type": "stream",
     "text": [
      "┌ Info: Epoch 122\n",
      "└ @ Main /Users/facundosapienza/.julia/packages/Flux/goUGu/src/optimise/train.jl:136\n"
     ]
    },
    {
     "name": "stdout",
     "output_type": "stream",
     "text": [
      "Current loss: 0.4048320817496965\n",
      "Current parameter:Params([Float32[-0.4890668; 0.086278774; -0.30843621; 0.36315042; -0.28741875], Float32[-0.48450592, 1.1640464, -0.7589108, 0.11219452, 0.2321327], Float32[0.090408124 -0.44810978 -0.8066598 0.5752215 0.48564717; -0.73072374 -0.5697781 -0.7929846 0.17103603 0.4129796; -0.53406525 -0.07072531 -0.5946966 -0.44333172 -0.0026266973; -0.53692174 -0.72082555 -0.6604692 -0.34379137 0.5059916; -0.34697655 0.432202 0.14249884 0.13578907 0.66990006], Float32[-0.046784893, -0.25730437, 0.28278255, -0.46611512, -0.5877033], Float32[0.39882585 -0.5581882 0.3648433 0.36807784 -0.09812975; -0.5369927 -0.7721395 0.4821189 0.6861406 -0.07681885; 0.5303187 0.5417167 0.4572055 0.607227 -0.29025182; 0.2043298 0.26496902 0.7366861 0.73456866 0.83284986; 0.14086652 -0.0044433707 -0.06538274 -0.39750004 -0.42560494], Float32[-0.6262049, -0.36351377, 0.0010825859, -0.4660503, 0.7063074], Float32[-0.8607022 -0.718849 0.92333734 0.6917509 1.1047728], Float32[0.107761145]])\n"
     ]
    },
    {
     "name": "stderr",
     "output_type": "stream",
     "text": [
      "┌ Info: Epoch 123\n",
      "└ @ Main /Users/facundosapienza/.julia/packages/Flux/goUGu/src/optimise/train.jl:136\n"
     ]
    },
    {
     "name": "stdout",
     "output_type": "stream",
     "text": [
      "Current loss: 0.38271189656012344\n",
      "Current parameter:Params([Float32[-0.48878738; 0.08634225; -0.30862096; 0.36372402; -0.287287], Float32[-0.48544824, 1.1636522, -0.7595529, 0.11286884, 0.23288174], Float32[0.089967825 -0.44760206 -0.8071932 0.57571775 0.48548523; -0.73113513 -0.5693003 -0.7934821 0.17149007 0.4128806; -0.53487366 -0.069607146 -0.5957783 -0.44259816 -0.0024376994; -0.53630185 -0.7213051 -0.6598221 -0.3445496 0.5065679; -0.34709594 0.4324232 0.1423089 0.13589838 0.6699173], Float32[-0.046206016, -0.2567651, 0.2840164, -0.46660563, -0.587414], Float32[0.39758274 -0.5591648 0.36409944 0.36873543 -0.09861794; -0.5379388 -0.7728337 0.48161593 0.6867557 -0.07712329; 0.53127867 0.54254836 0.45776844 0.6062017 -0.28992233; 0.20559625 0.26601607 0.73747814 0.7330781 0.8333969; 0.1420164 -0.003571209 -0.064727396 -0.39794716 -0.42519614], Float32[-0.6269452, -0.36402494, 0.0016626813, -0.46526, 0.70696443], Float32[-0.86167353 -0.7201249 0.9244305 0.6927119 1.1059432], Float32[0.10852914]])\n"
     ]
    },
    {
     "name": "stderr",
     "output_type": "stream",
     "text": [
      "┌ Info: Epoch 124\n",
      "└ @ Main /Users/facundosapienza/.julia/packages/Flux/goUGu/src/optimise/train.jl:136\n"
     ]
    },
    {
     "name": "stdout",
     "output_type": "stream",
     "text": [
      "Current loss: 0.36086291945492804\n",
      "Current parameter:Params([Float32[-0.488502; 0.08641005; -0.3088025; 0.36429593; -0.2871577], Float32[-0.48638487, 1.1632626, -0.76019156, 0.11354195, 0.23362768], Float32[0.089529045 -0.44709602 -0.807725 0.57621276 0.48532584; -0.73154354 -0.5688257 -0.79397637 0.17194107 0.41278496; -0.5356901 -0.06848851 -0.59686446 -0.4418519 -0.0022535166; -0.53568316 -0.7217847 -0.6591756 -0.34530696 0.5071418; -0.3472205 0.4326498 0.14211261 0.13601421 0.66993195], Float32[-0.04562888, -0.25622922, 0.2852489, -0.4670968, -0.5871183], Float32[0.39634278 -0.5601377 0.36335778 0.36941132 -0.09910895; -0.53888005 -0.77352273 0.48111662 0.6873786 -0.07742786; 0.5322396 0.54337806 0.45832983 0.6051744 -0.2895911; 0.20686015 0.26705912 0.73826796 0.7315826 0.8339471; 0.14316323 -0.0027026844 -0.06407436 -0.39840874 -0.4247853], Float32[-0.62768245, -0.36453176, 0.0022402026, -0.4644729, 0.7076184], Float32[-0.8626458 -0.72139794 0.9255213 0.6936762 1.1071116], Float32[0.10929532]])\n"
     ]
    },
    {
     "name": "stderr",
     "output_type": "stream",
     "text": [
      "┌ Info: Epoch 125\n",
      "└ @ Main /Users/facundosapienza/.julia/packages/Flux/goUGu/src/optimise/train.jl:136\n"
     ]
    },
    {
     "name": "stdout",
     "output_type": "stream",
     "text": [
      "Current loss: 0.3392834353397993\n",
      "Current parameter:Params([Float32[-0.4882111; 0.086482085; -0.30898088; 0.36486614; -0.2870308], Float32[-0.48731577, 1.1628776, -0.7608267, 0.114213854, 0.23437048], Float32[0.08909181 -0.44659165 -0.8082552 0.5767065 0.485169; -0.7319489 -0.56835437 -0.79446733 0.17238905 0.41269258; -0.5365141 -0.06736981 -0.5979545 -0.44109356 -0.002074012; -0.5350657 -0.72226447 -0.6585296 -0.34606338 0.5077134; -0.34735024 0.43288168 0.14191005 0.13613649 0.6699441], Float32[-0.045053516, -0.25569674, 0.28647962, -0.4675886, -0.5868163], Float32[0.3951061 -0.5611068 0.3626184 0.37010548 -0.09960279; -0.5398165 -0.7742066 0.480621 0.6880091 -0.07773256; 0.5332014 0.5442057 0.4588897 0.6041452 -0.28925812; 0.2081214 0.26809818 0.7390556 0.7300823 0.8345005; 0.14430693 -0.0018378312 -0.063423656 -0.39888474 -0.42437235], Float32[-0.62841666, -0.36503425, 0.002815157, -0.463689, 0.70826936], Float32[-0.863619 -0.72266805 0.9266098 0.6946436 1.1082778], Float32[0.11005968]])\n"
     ]
    },
    {
     "name": "stderr",
     "output_type": "stream",
     "text": [
      "┌ Info: Epoch 126\n",
      "└ @ Main /Users/facundosapienza/.julia/packages/Flux/goUGu/src/optimise/train.jl:136\n"
     ]
    },
    {
     "name": "stdout",
     "output_type": "stream",
     "text": [
      "Current loss: 0.3179719157606885\n",
      "Current parameter:Params([Float32[-0.4879151; 0.08655825; -0.30915618; 0.36543465; -0.28690612], Float32[-0.48824096, 1.162497, -0.76145834, 0.11488452, 0.2351101], Float32[0.08865613 -0.446089 -0.80878377 0.57719904 0.48501462; -0.7323513 -0.5678862 -0.794955 0.17283402 0.4126034; -0.53734505 -0.06625147 -0.59904796 -0.44032365 -0.0018990508; -0.5344496 -0.7227443 -0.6578842 -0.34681877 0.5082825; -0.347485 0.4331188 0.1417013 0.13626517 0.66995376], Float32[-0.044479962, -0.2551677, 0.2877082, -0.46808103, -0.5865081], Float32[0.39387286 -0.5620721 0.3618813 0.37081775 -0.100099474; -0.54074806 -0.7748852 0.4801291 0.688647 -0.07803742; 0.5341639 0.54503137 0.459448 0.6031141 -0.28892335; 0.20937987 0.2691332 0.7398409 0.7285775 0.835057; 0.14544737 -0.0009766881 -0.06277531 -0.39937514 -0.42395732], Float32[-0.62914777, -0.3655324, 0.0033875478, -0.46290833, 0.7089172], Float32[-0.8645932 -0.72393525 0.927696 0.69561416 1.1094419], Float32[0.110822186]])\n"
     ]
    },
    {
     "name": "stderr",
     "output_type": "stream",
     "text": [
      "┌ Info: Epoch 127\n",
      "└ @ Main /Users/facundosapienza/.julia/packages/Flux/goUGu/src/optimise/train.jl:136\n"
     ]
    },
    {
     "name": "stdout",
     "output_type": "stream",
     "text": [
      "Current loss: 0.2969281509678356\n",
      "Current parameter:Params([Float32[-0.48761445; 0.086638466; -0.30932847; 0.3660014; -0.2867836], Float32[-0.4891604, 1.1621212, -0.7620864, 0.115553916, 0.2358465], Float32[0.088222034 -0.4455881 -0.8093106 0.57769024 0.48486272; -0.7327507 -0.5674212 -0.7954394 0.17327602 0.41251737; -0.53818244 -0.0651339 -0.6001442 -0.43954274 -0.0017284981; -0.53383476 -0.7232242 -0.65723944 -0.34757304 0.5088491; -0.34762478 0.433361 0.14148647 0.13640021 0.66996104], Float32[-0.04390826, -0.25464204, 0.28893423, -0.46857405, -0.58619386], Float32[0.39264318 -0.5630335 0.36114654 0.37154806 -0.100599006; -0.54167455 -0.77555853 0.47964087 0.68929213 -0.078342415; 0.535127 0.545855 0.4600048 0.60208124 -0.28858677; 0.21063544 0.27016416 0.74062395 0.7270685 0.8356167; 0.14658444 -0.00011929906 -0.062129356 -0.39987987 -0.42354017], Float32[-0.6298757, -0.36602622, 0.003957374, -0.46213093, 0.70956194], Float32[-0.8655683 -0.72519946 0.9287797 0.6965877 1.1106038], Float32[0.11158282]])\n"
     ]
    },
    {
     "name": "stderr",
     "output_type": "stream",
     "text": [
      "┌ Info: Epoch 128\n",
      "└ @ Main /Users/facundosapienza/.julia/packages/Flux/goUGu/src/optimise/train.jl:136\n"
     ]
    },
    {
     "name": "stdout",
     "output_type": "stream",
     "text": [
      "Current loss: 0.27615245146877526\n",
      "Current parameter:Params([Float32[-0.48730955; 0.08672263; -0.3094978; 0.3665664; -0.28666314], Float32[-0.49007404, 1.1617498, -0.7627108, 0.11622201, 0.23657963], Float32[0.08778956 -0.445089 -0.80983573 0.57818013 0.48471326; -0.73314714 -0.56695944 -0.79592055 0.17371505 0.4124344; -0.5390258 -0.0640175 -0.6012428 -0.43875143 -0.0015622211; -0.53322136 -0.72370416 -0.65659547 -0.34832612 0.5094131; -0.34776947 0.43360817 0.14126565 0.13654152 0.6699659], Float32[-0.04333846, -0.2541198, 0.29015735, -0.46906763, -0.5858737], Float32[0.3914172 -0.56399095 0.36041424 0.3722962 -0.10110138; -0.5425959 -0.77622664 0.47915637 0.6899444 -0.07864756; 0.53609055 0.5466765 0.46056002 0.6010466 -0.28824833; 0.21188797 0.27119097 0.7414046 0.7255556 0.8361796; 0.147718 0.00073428423 -0.061485842 -0.40039885 -0.4231209], Float32[-0.63060045, -0.3665157, 0.004524628, -0.46135688, 0.7102036], Float32[-0.8665442 -0.72646064 0.929861 0.69756407 1.1117635], Float32[0.11234156]])\n"
     ]
    },
    {
     "name": "stderr",
     "output_type": "stream",
     "text": [
      "┌ Info: Epoch 129\n",
      "└ @ Main /Users/facundosapienza/.julia/packages/Flux/goUGu/src/optimise/train.jl:136\n"
     ]
    },
    {
     "name": "stdout",
     "output_type": "stream",
     "text": [
      "Current loss: 0.25564721662001155\n",
      "Current parameter:Params([Float32[-0.48700076; 0.08681065; -0.30966422; 0.36712956; -0.28654465], Float32[-0.49098188, 1.1613832, -0.7633316, 0.11688875, 0.23730941], Float32[0.08735873 -0.44459173 -0.8103591 0.57866865 0.4845662; -0.7335406 -0.5665009 -0.7963984 0.17415111 0.41235444; -0.53987455 -0.062902674 -0.60234314 -0.43795028 -0.0014000896; -0.5326095 -0.72418416 -0.6559523 -0.3490779 0.50997454; -0.34791896 0.43386024 0.14103895 0.13668902 0.6699685], Float32[-0.042770617, -0.25360104, 0.29137716, -0.46956176, -0.5855478], Float32[0.3901951 -0.5649443 0.35968444 0.373062 -0.10160659; -0.54351205 -0.77688944 0.4786756 0.6906035 -0.07895284; 0.5370545 0.54749596 0.46111366 0.60001034 -0.28790802; 0.21313731 0.27221358 0.7421828 0.7240391 0.8367457; 0.14884792 0.0015839996 -0.060844813 -0.40093198 -0.42269948], Float32[-0.6313219, -0.36700082, 0.005089295, -0.4605862, 0.7108421], Float32[-0.86752087 -0.7277187 0.93093973 0.6985432 1.1129209], Float32[0.11309835]])\n"
     ]
    },
    {
     "name": "stderr",
     "output_type": "stream",
     "text": [
      "┌ Info: Epoch 130\n",
      "└ @ Main /Users/facundosapienza/.julia/packages/Flux/goUGu/src/optimise/train.jl:136\n"
     ]
    },
    {
     "name": "stdout",
     "output_type": "stream",
     "text": [
      "Current loss: 0.2354156620161533\n",
      "Current parameter:Params([Float32[-0.4866885; 0.086902425; -0.3098278; 0.36769086; -0.28642803], Float32[-0.49188384, 1.161021, -0.7639487, 0.11755407, 0.23803578], Float32[0.0869296 -0.44409633 -0.81088066 0.57915574 0.48442155; -0.73393106 -0.5660456 -0.7968729 0.17458418 0.41227743; -0.5407282 -0.061789837 -0.6034448 -0.4371399 -0.0012419752; -0.5319993 -0.7246641 -0.65531 -0.3498283 0.5105332; -0.34807318 0.43411705 0.14080651 0.13684265 0.6699687], Float32[-0.0422048, -0.25308573, 0.29259327, -0.47005635, -0.5852163], Float32[0.38897708 -0.56589353 0.35895723 0.37384525 -0.10211461; -0.54442275 -0.7775469 0.47819862 0.6912693 -0.07925824; 0.53801864 0.54831326 0.4616657 0.59897244 -0.28756583; 0.2143833 0.2732319 0.7429584 0.72251934 0.8373149; 0.14997406 0.002429771 -0.060206335 -0.40147915 -0.422276], Float32[-0.63204, -0.36748156, 0.0056513487, -0.45981896, 0.71147734], Float32[-0.86849827 -0.72897357 0.93201584 0.69952494 1.114076], Float32[0.11385314]])\n"
     ]
    },
    {
     "name": "stderr",
     "output_type": "stream",
     "text": [
      "┌ Info: Epoch 131\n",
      "└ @ Main /Users/facundosapienza/.julia/packages/Flux/goUGu/src/optimise/train.jl:136\n"
     ]
    },
    {
     "name": "stdout",
     "output_type": "stream",
     "text": [
      "Current loss: 0.21546481408393645\n",
      "Current parameter:Params([Float32[-0.48637316; 0.08699787; -0.30998856; 0.36825025; -0.2863132], Float32[-0.49277988, 1.1606635, -0.764562, 0.1182179, 0.23875864], Float32[0.08650222 -0.4436029 -0.8114003 0.57964134 0.48427927; -0.73431855 -0.56559354 -0.7973441 0.17501426 0.41220328; -0.5415863 -0.06067941 -0.6045472 -0.43632087 -0.0010877529; -0.5313907 -0.7251439 -0.6546687 -0.35057718 0.5110891; -0.34823206 0.43437847 0.14056844 0.1370023 0.66996676], Float32[-0.04164109, -0.25257394, 0.2938053, -0.47055137, -0.5848793], Float32[0.38776332 -0.56683844 0.3582327 0.37464562 -0.102625385; -0.54532796 -0.77819896 0.47772545 0.6919415 -0.07956373; 0.5389828 0.5491283 0.46221605 0.5979331 -0.28722176; 0.21562573 0.27424583 0.74373144 0.72099674 0.8378872; 0.15109624 0.0032715024 -0.059570484 -0.4020402 -0.4218504], Float32[-0.6327547, -0.36795792, 0.0062107495, -0.45905527, 0.71210927], Float32[-0.86947626 -0.730225 0.9330892 0.7005091 1.1152287], Float32[0.11460585]])\n"
     ]
    },
    {
     "name": "stderr",
     "output_type": "stream",
     "text": [
      "┌ Info: Epoch 132\n",
      "└ @ Main /Users/facundosapienza/.julia/packages/Flux/goUGu/src/optimise/train.jl:136\n"
     ]
    },
    {
     "name": "stdout",
     "output_type": "stream",
     "text": [
      "Current loss: 0.19580462840745608\n",
      "Current parameter:Params([Float32[-0.4860551; 0.087096855; -0.31014654; 0.36880764; -0.2862001], Float32[-0.49366987, 1.1603106, -0.76517147, 0.11888014, 0.23947786], Float32[0.08607666 -0.44311148 -0.81191796 0.5801254 0.48413935; -0.734703 -0.56514484 -0.7978119 0.17544131 0.41213197; -0.5424481 -0.05957184 -0.60564977 -0.43549386 -0.00093730283; -0.530784 -0.7256236 -0.65402853 -0.35132435 0.51164204; -0.34839544 0.43464437 0.14032488 0.13716787 0.6699626], Float32[-0.041079585, -0.25206572, 0.29501283, -0.47104672, -0.584537], Float32[0.38655406 -0.5677789 0.357511 0.3754628 -0.10313885; -0.54622746 -0.77884555 0.47725612 0.69261986 -0.07986927; 0.5399468 0.549941 0.46276468 0.59689254 -0.28687584; 0.21686438 0.2752552 0.7445017 0.7194717 0.8384626; 0.15221424 0.00410907 -0.05893736 -0.40261495 -0.42142278], Float32[-0.63346577, -0.36842984, 0.006767438, -0.45829523, 0.71273786], Float32[-0.8704547 -0.73147297 0.93415964 0.7014954 1.1163787], Float32[0.115356386]])\n"
     ]
    },
    {
     "name": "stderr",
     "output_type": "stream",
     "text": [
      "┌ Info: Epoch 133\n",
      "└ @ Main /Users/facundosapienza/.julia/packages/Flux/goUGu/src/optimise/train.jl:136\n"
     ]
    },
    {
     "name": "stdout",
     "output_type": "stream",
     "text": [
      "Current loss: 0.1764513461135086\n",
      "Current parameter:Params([Float32[-0.48573473; 0.087199286; -0.3103018; 0.3693629; -0.28608868], Float32[-0.49455363, 1.1599624, -0.76577693, 0.11954064, 0.24019329], Float32[0.08565302 -0.4426222 -0.81243354 0.5806078 0.4840018; -0.73508435 -0.56469953 -0.7982763 0.17586528 0.41206345; -0.54331315 -0.05846762 -0.6067519 -0.4346595 -0.0007905126; -0.53017926 -0.726103 -0.6533897 -0.35206965 0.51219195; -0.34856322 0.43491456 0.140076 0.13733925 0.66995627], Float32[-0.040520415, -0.25156116, 0.2962154, -0.4715423, -0.5841897], Float32[0.38534963 -0.5687146 0.35679233 0.37629637 -0.1036549; -0.547121 -0.77948654 0.47679076 0.69330406 -0.080174804; 0.54091036 0.5507512 0.46331146 0.5958509 -0.28652808; 0.21809894 0.27625984 0.74526906 0.7179447 0.8390409; 0.15332781 0.00494231 -0.058307093 -0.40320313 -0.42099318], Float32[-0.63417315, -0.36889723, 0.0073213247, -0.457539, 0.71336293], Float32[-0.87143344 -0.73271716 0.935227 0.7024837 1.1175259], Float32[0.116104595]])\n"
     ]
    },
    {
     "name": "stderr",
     "output_type": "stream",
     "text": [
      "┌ Info: Epoch 134\n",
      "└ @ Main /Users/facundosapienza/.julia/packages/Flux/goUGu/src/optimise/train.jl:136\n"
     ]
    },
    {
     "name": "stdout",
     "output_type": "stream",
     "text": [
      "Current loss: 0.1574296751107592\n",
      "Current parameter:Params([Float32[-0.48541242; 0.08730503; -0.31045434; 0.36991587; -0.28597888], Float32[-0.49543098, 1.159619, -0.7663782, 0.12019921, 0.24090472], Float32[0.085231416 -0.44213524 -0.81294686 0.58108836 0.48386657; -0.73546255 -0.5642577 -0.7987371 0.17628607 0.41199765; -0.54418075 -0.0573673 -0.60785294 -0.43381858 -0.0006472786; -0.5295767 -0.726582 -0.65275234 -0.35281283 0.5127386; -0.34873527 0.43518886 0.13982199 0.13751628 0.66994786], Float32[-0.039963756, -0.25106037, 0.2974124, -0.47203794, -0.58383757], Float32[0.3841504 -0.56964546 0.3560769 0.37714583 -0.104173385; -0.5480083 -0.7801218 0.47632945 0.6939937 -0.08048025; 0.54187316 0.55155873 0.46385628 0.5948085 -0.2861786; 0.21932903 0.27725947 0.74603325 0.7164163 0.8396219; 0.15443659 0.0057709985 -0.057679866 -0.40380442 -0.42056173], Float32[-0.6348766, -0.36936003, 0.007872281, -0.45678678, 0.7139843], Float32[-0.87241215 -0.7339573 0.9362909 0.7034736 1.1186701], Float32[0.11685029]])\n"
     ]
    },
    {
     "name": "stderr",
     "output_type": "stream",
     "text": [
      "┌ Info: Epoch 135\n",
      "└ @ Main /Users/facundosapienza/.julia/packages/Flux/goUGu/src/optimise/train.jl:136\n"
     ]
    },
    {
     "name": "stdout",
     "output_type": "stream",
     "text": [
      "Current loss: 0.13877853846636373\n",
      "Current parameter:Params([Float32[-0.48508862; 0.08741395; -0.31060416; 0.37046635; -0.28587067], Float32[-0.4963016, 1.1592803, -0.76697516, 0.12085559, 0.24161185], Float32[0.08481202 -0.44165075 -0.81345767 0.581567 0.48373374; -0.73583746 -0.56381947 -0.7991942 0.17670356 0.41193452; -0.54505014 -0.05627154 -0.60895205 -0.4329719 -0.0005075103; -0.5289766 -0.7270603 -0.6521168 -0.35355356 0.51328176; -0.34891137 0.43546703 0.1395631 0.13769877 0.6699374], Float32[-0.03940984, -0.25056353, 0.29860324, -0.47253346, -0.58348095], Float32[0.38295683 -0.570571 0.35536498 0.37801054 -0.10469408; -0.5488891 -0.7807511 0.47587234 0.69468826 -0.080785476; 0.54283476 0.5523632 0.46439892 0.5937658 -0.28582746; 0.22055414 0.27825373 0.746794 0.71488726 0.8402055; 0.15554014 0.0065948213 -0.057055924 -0.4044184 -0.4201286], Float32[-0.6355759, -0.36981806, 0.0084201135, -0.45603886, 0.7146018], Float32[-0.8733905 -0.7351929 0.93735105 0.7044647 1.1198107], Float32[0.11759317]])\n"
     ]
    },
    {
     "name": "stderr",
     "output_type": "stream",
     "text": [
      "┌ Info: Epoch 136\n",
      "└ @ Main /Users/facundosapienza/.julia/packages/Flux/goUGu/src/optimise/train.jl:136\n"
     ]
    },
    {
     "name": "stdout",
     "output_type": "stream",
     "text": [
      "Current loss: 0.12055993970973453\n",
      "Current parameter:Params([Float32[-0.4847638; 0.08752587; -0.31075126; 0.371014; -0.28576404], Float32[-0.49716502, 1.1589466, -0.7675674, 0.121509396, 0.24231428], Float32[0.084395096 -0.44116902 -0.81396574 0.5820433 0.4836033; -0.7362089 -0.5633851 -0.79964733 0.17711754 0.41187406; -0.54592043 -0.055181175 -0.61004835 -0.43212047 -0.000371137; -0.5283794 -0.72753775 -0.6514834 -0.35429135 0.5138211; -0.34909132 0.43574876 0.13929963 0.13788651 0.6699249], Float32[-0.038859, -0.2500709, 0.29978707, -0.47302854, -0.5831202], Float32[0.3817697 -0.5714907 0.35465702 0.37888962 -0.10521667; -0.54976285 -0.7813741 0.4754197 0.6953872 -0.0810903; 0.5437946 0.55316424 0.46493906 0.59272337 -0.2854749; 0.22177356 0.27924207 0.7475508 0.71335864 0.8407912; 0.15663782 0.00741332 -0.056435633 -0.40504447 -0.41969407], Float32[-0.6362706, -0.37027112, 0.008964532, -0.45529568, 0.7152151], Float32[-0.87436783 -0.7364233 0.93840677 0.7054562 1.1209472], Float32[0.118332826]])\n"
     ]
    },
    {
     "name": "stderr",
     "output_type": "stream",
     "text": [
      "┌ Info: Epoch 137\n",
      "└ @ Main /Users/facundosapienza/.julia/packages/Flux/goUGu/src/optimise/train.jl:136\n"
     ]
    },
    {
     "name": "stdout",
     "output_type": "stream",
     "text": [
      "Current loss: 0.1028775156012999\n",
      "Current parameter:Params([Float32[-0.48443854; 0.08764056; -0.31089556; 0.37155834; -0.28565902], Float32[-0.49802056, 1.1586182, -0.76815444, 0.122160025, 0.24301137], Float32[0.08398101 -0.44069052 -0.8144705 0.5825169 0.48347533; -0.7365766 -0.56295496 -0.80009615 0.17752768 0.4118162; -0.5467904 -0.054097343 -0.61114055 -0.43126556 -0.0002381201; -0.52778554 -0.7280138 -0.65085286 -0.35502553 0.5143562; -0.3492748 0.43603364 0.13903199 0.13807915 0.6699106], Float32[-0.03831173, -0.24958289, 0.30096272, -0.4735227, -0.58275586], Float32[0.38059 -0.5724037 0.3539537 0.37978184 -0.105740614; -0.5506287 -0.78199035 0.47497186 0.69608957 -0.08139445; 0.5447517 0.5539611 0.4654762 0.5916822 -0.28512123; 0.22298624 0.2802236 0.748303 0.7118318 0.84137857; 0.15772867 0.008225798 -0.05581954 -0.40568176 -0.4192585], Float32[-0.63696, -0.37071887, 0.009505083, -0.4545579, 0.7158236], Float32[-0.8753433 -0.73764753 0.9394572 0.70644724 1.1220787], Float32[0.119068615]])\n"
     ]
    },
    {
     "name": "stderr",
     "output_type": "stream",
     "text": [
      "┌ Info: Epoch 138\n",
      "└ @ Main /Users/facundosapienza/.julia/packages/Flux/goUGu/src/optimise/train.jl:136\n"
     ]
    },
    {
     "name": "stdout",
     "output_type": "stream",
     "text": [
      "Current loss: 0.08591112343175121\n",
      "Current parameter:Params([Float32[-0.48411357; 0.08775772; -0.31103697; 0.3720986; -0.2855557], Float32[-0.4988671, 1.1582954, -0.76873547, 0.12280655, 0.24370216], Float32[0.083570346 -0.44021592 -0.8149714 0.5829871 0.48334998; -0.7369401 -0.56252956 -0.8005401 0.17793344 0.41176096; -0.5476585 -0.05302171 -0.61222684 -0.43040895 -0.00010847595; -0.52719593 -0.7284878 -0.65022606 -0.355755 0.5148862; -0.3494614 0.43632105 0.13876079 0.13827622 0.6698945], Float32[-0.037768826, -0.24910013, 0.30212846, -0.47401518, -0.58238864], Float32[0.37941936 -0.5733089 0.35325596 0.38068542 -0.1062651; -0.5514856 -0.78259903 0.47452945 0.6967941 -0.08169745; 0.54570466 0.5547527 0.46600965 0.5906438 -0.28476703; 0.22419047 0.28119704 0.74904954 0.71030897 0.84196657; 0.15881118 0.009031143 -0.055208515 -0.40632898 -0.41882262], Float32[-0.63764334, -0.37116072, 0.010041029, -0.4538265, 0.7164265], Float32[-0.8763156 -0.7388639 0.94050086 0.7074363 1.1232034], Float32[0.1197995]])\n"
     ]
    },
    {
     "name": "stderr",
     "output_type": "stream",
     "text": [
      "┌ Info: Epoch 139\n",
      "└ @ Main /Users/facundosapienza/.julia/packages/Flux/goUGu/src/optimise/train.jl:136\n"
     ]
    },
    {
     "name": "stdout",
     "output_type": "stream",
     "text": [
      "Current loss: 0.06999275691138204\n",
      "Current parameter:Params([Float32[-0.48379; 0.08787687; -0.31117523; 0.37263346; -0.2854542], Float32[-0.49970272, 1.1579789, -0.76930916, 0.12344737, 0.24438502], Float32[0.08316411 -0.43974635 -0.81546706 0.58345276 0.48322743; -0.7372985 -0.5621099 -0.8009781 0.1783339 0.41170833; -0.5485222 -0.051956944 -0.6133044 -0.4295533 1.767853f-5; -0.52661204 -0.7289585 -0.64960456 -0.35647795 0.5154099; -0.3496504 0.43661004 0.13848697 0.13847695 0.6698768], Float32[-0.0372316, -0.24862374, 0.30328152, -0.4745047, -0.5820198], Float32[0.37826052 -0.57420397 0.35256553 0.38159737 -0.10678869; -0.5523315 -0.7831988 0.4740934 0.6974987 -0.08199853; 0.5466511 0.55553716 0.46653807 0.58961076 -0.2844132; 0.22538348 0.2821601 0.7497886 0.70879376 0.8425536; 0.15988283 0.009827472 -0.05460402 -0.4069839 -0.4183876], Float32[-0.63831884, -0.3715957, 0.01057111, -0.4531032, 0.71702236], Float32[-0.8772822 -0.7400696 0.94153535 0.7084209 1.124319], Float32[0.12052372]])\n"
     ]
    },
    {
     "name": "stderr",
     "output_type": "stream",
     "text": [
      "┌ Info: Epoch 140\n",
      "└ @ Main /Users/facundosapienza/.julia/packages/Flux/goUGu/src/optimise/train.jl:136\n"
     ]
    },
    {
     "name": "stdout",
     "output_type": "stream",
     "text": [
      "Current loss: 0.05576574394245627\n",
      "Current parameter:Params([Float32[-0.4834696; 0.087997206; -0.31130987; 0.3731605; -0.28535494], Float32[-0.500524, 1.1576699, -0.7698731, 0.12407963, 0.245057], Float32[0.0827641 -0.4392839 -0.81595534 0.5839118 0.48310816; -0.73765033 -0.5616977 -0.8014084 0.17872736 0.41165838; -0.54937714 -0.050907724 -0.6143682 -0.4287031 0.00014003037; -0.5260365 -0.72942364 -0.64899117 -0.35719112 0.51592493; -0.34984064 0.43689898 0.13821219 0.13868003 0.6698577], Float32[-0.036702428, -0.24815571, 0.30441695, -0.474989, -0.5816514], Float32[0.37711844 -0.5750852 0.35188544 0.38251257 -0.1073088; -0.5531629 -0.78378713 0.4736656 0.6981997 -0.08229627; 0.5475868 0.556311 0.46705914 0.5885877 -0.2840615; 0.22656015 0.28310868 0.7505169 0.70729274 0.84313685; 0.16093901 0.010611368 -0.054008707 -0.40764272 -0.41795555], Float32[-0.6389836, -0.3720221, 0.011093027, -0.4523912, 0.7176087], Float32[-0.87823874 -0.7412596 0.94255614 0.7093963 1.1254205], Float32[0.12123807]])\n"
     ]
    },
    {
     "name": "stderr",
     "output_type": "stream",
     "text": [
      "┌ Info: Epoch 141\n",
      "└ @ Main /Users/facundosapienza/.julia/packages/Flux/goUGu/src/optimise/train.jl:136\n"
     ]
    },
    {
     "name": "stdout",
     "output_type": "stream",
     "text": [
      "Current loss: 0.04448003479922099\n",
      "Current parameter:Params([Float32[-0.48315558; 0.08811724; -0.31144; 0.3736752; -0.28525862], Float32[-0.5013242, 1.1573707, -0.77042246, 0.12469776, 0.24571241], Float32[0.08237376 -0.43883258 -0.816432 0.5843601 0.482993; -0.73799276 -0.56129646 -0.8018274 0.17911056 0.41161126; -0.5502154 -0.04988298 -0.615409 -0.42786676 0.0002578613; -0.52547437 -0.7298791 -0.64839137 -0.35788825 0.516427; -0.3500299 0.43718472 0.13793954 0.13888292 0.6698376], Float32[-0.03618588, -0.24769993, 0.3055253, -0.47546354, -0.5812873], Float32[0.37600267 -0.5759452 0.35122153 0.3834211 -0.107820384; -0.55397284 -0.78435934 0.47324947 0.69889015 -0.08258793; 0.54850334 0.55706745 0.46756825 0.58758384 -0.28371534; 0.22771056 0.2840348 0.7512282 0.7058187 0.84371066; 0.16197081 0.011376201 -0.053427696 -0.40829802 -0.41753066], Float32[-0.639632, -0.37243646, 0.011602317, -0.45169652, 0.7181804], Float32[-0.8791767 -0.7424237 0.9435545 0.71035373 1.1264983], Float32[0.12193631]])\n"
     ]
    },
    {
     "name": "stderr",
     "output_type": "stream",
     "text": [
      "┌ Info: Epoch 142\n",
      "└ @ Main /Users/facundosapienza/.julia/packages/Flux/goUGu/src/optimise/train.jl:136\n"
     ]
    },
    {
     "name": "stdout",
     "output_type": "stream",
     "text": [
      "Current loss: 0.038132547108377\n",
      "Current parameter:Params([Float32[-0.48285398; 0.088234104; -0.31156367; 0.37416846; -0.28516674], Float32[-0.5020899, 1.1570858, -0.7709481, 0.12529075, 0.24634005], Float32[0.0819999 -0.43840024 -0.8168887 0.5847899 0.48288363; -0.73832005 -0.5609128 -0.802228 0.17947704 0.41156736; -0.55102146 -0.048900407 -0.6164083 -0.42706057 0.00036964557; -0.52493554 -0.73031646 -0.64781594 -0.35855693 0.51690745; -0.35021377 0.4374612 0.1376751 0.13908073 0.66981727], Float32[-0.035690963, -0.24726404, 0.30658773, -0.47591954, -0.5809353], Float32[0.37493244 -0.57676905 0.3505854 0.38430324 -0.10831344; -0.5547478 -0.784906 0.4728519 0.69955635 -0.082868114; 0.5493841 0.55779314 0.4680564 0.58661765 -0.28338158; 0.22881472 0.28492245 0.75191003 0.7043981 0.8442638; 0.16296037 0.012108818 -0.05287109 -0.408935 -0.41712123], Float32[-0.6402529, -0.37283206, 0.012090156, -0.4510311, 0.7187278], Float32[-0.88007873 -0.74354166 0.94451284 0.71127534 1.1275337], Float32[0.12260608]])\n"
     ]
    },
    {
     "name": "stderr",
     "output_type": "stream",
     "text": [
      "┌ Info: Epoch 143\n",
      "└ @ Main /Users/facundosapienza/.julia/packages/Flux/goUGu/src/optimise/train.jl:136\n"
     ]
    },
    {
     "name": "stdout",
     "output_type": "stream",
     "text": [
      "Current loss: 0.03805168050639708\n",
      "Current parameter:Params([Float32[-0.48257488; 0.088342905; -0.31167772; 0.37462485; -0.28508186], Float32[-0.5027982, 1.1568228, -0.77143425, 0.12583971, 0.24692072], Float32[0.081654064 -0.43800023 -0.8173112 0.58518755 0.48278284; -0.73862255 -0.56055814 -0.8025983 0.17981584 0.41152725; -0.5517684 -0.047990743 -0.61733395 -0.4263127 0.00047272272; -0.524437 -0.7307214 -0.6472833 -0.35917586 0.5173517; -0.35038486 0.43771803 0.13742921 0.13926506 0.6697981], Float32[-0.035233036, -0.24686104, 0.30757123, -0.4763419, -0.5806083], Float32[0.37394154 -0.57753134 0.34999683 0.38512427 -0.10877074; -0.55546445 -0.7854112 0.47248453 0.7001746 -0.08312761; 0.5502002 0.558465 0.4685082 0.5857217 -0.28307196; 0.22983737 0.28574398 0.752541 0.70307934 0.84477687; 0.16387647 0.012786585 -0.052356157 -0.40952805 -0.41674155], Float32[-0.6408272, -0.37319753, 0.012541471, -0.45041546, 0.7192341], Float32[-0.88091487 -0.74457735 0.94540036 0.71212983 1.128493], Float32[0.123226084]])\n"
     ]
    },
    {
     "name": "stderr",
     "output_type": "stream",
     "text": [
      "┌ Info: Epoch 144\n",
      "└ @ Main /Users/facundosapienza/.julia/packages/Flux/goUGu/src/optimise/train.jl:136\n"
     ]
    },
    {
     "name": "stdout",
     "output_type": "stream",
     "text": [
      "Current loss: 0.0426288395804966\n",
      "Current parameter:Params([Float32[-0.48232925; 0.08843819; -0.31177875; 0.3750274; -0.28500673], Float32[-0.5034235, 1.15659, -0.7718635, 0.12632376, 0.24743326], Float32[0.08134887 -0.43764722 -0.81768405 0.5855383 0.4826936; -0.73888975 -0.56024486 -0.8029254 0.18011503 0.41149148; -0.55242634 -0.047188602 -0.61814964 -0.42565477 0.00056421; -0.52399737 -0.7310782 -0.6468138 -0.35972142 0.51774377; -0.35053492 0.4379437 0.1372134 0.13942645 0.66978157], Float32[-0.034828957, -0.2465051, 0.30843854, -0.4767139, -0.58032095], Float32[0.37306845 -0.5782036 0.34947768 0.38584393 -0.10917307; -0.5560969 -0.7858574 0.47215998 0.70071846 -0.0833563; 0.55091894 0.55905724 0.4689067 0.5849331 -0.28279957; 0.23073813 0.2864683 0.7530975 0.7019207 0.84522825; 0.1646838 0.013384409 -0.05190189 -0.4100478 -0.41640747], Float32[-0.64133394, -0.3735205, 0.012939715, -0.44987234, 0.71968085], Float32[-0.88165087 -0.7454893 0.9461822 0.71288157 1.1293377], Float32[0.12377267]])\n"
     ]
    },
    {
     "name": "stderr",
     "output_type": "stream",
     "text": [
      "┌ Info: Epoch 145\n",
      "└ @ Main /Users/facundosapienza/.julia/packages/Flux/goUGu/src/optimise/train.jl:136\n"
     ]
    },
    {
     "name": "stdout",
     "output_type": "stream",
     "text": [
      "Current loss: 0.04892630781333145\n",
      "Current parameter:Params([Float32[-0.4821234; 0.08851659; -0.31186488; 0.3753662; -0.28494292], Float32[-0.50395113, 1.1563919, -0.77222604, 0.1267306, 0.24786541], Float32[0.081091605 -0.4373497 -0.8179982 0.5858336 0.48261756; -0.7391157 -0.55998003 -0.80320185 0.18036777 0.41146022; -0.5529774 -0.046514574 -0.61883354 -0.42510593 0.00064253365; -0.52362746 -0.7313776 -0.6464194 -0.36017975 0.5180746; -0.35065883 0.4381312 0.13703471 0.13955903 0.6697687], Float32[-0.034488503, -0.24620432, 0.30916733, -0.47702566, -0.580082], Float32[0.37233636 -0.57876915 0.3490407 0.38643667 -0.10950882; -0.5566302 -0.78623474 0.4718854 0.70117164 -0.08354823; 0.55152047 0.5595546 0.46924195 0.5842748 -0.28257227; 0.2314925 0.28707698 0.75356555 0.70095956 0.8456048; 0.1653612 0.013887604 -0.051519327 -0.4104758 -0.41612855], Float32[-0.64176095, -0.37379402, 0.013275287, -0.4494149, 0.7200575], Float32[-0.88226587 -0.7462522 0.94683737 0.7135088 1.1300445], Float32[0.1242319]])\n"
     ]
    },
    {
     "name": "stderr",
     "output_type": "stream",
     "text": [
      "┌ Info: Epoch 146\n",
      "└ @ Main /Users/facundosapienza/.julia/packages/Flux/goUGu/src/optimise/train.jl:136\n"
     ]
    },
    {
     "name": "stdout",
     "output_type": "stream",
     "text": [
      "Current loss: 0.05503322418815545\n",
      "Current parameter:Params([Float32[-0.48195884; 0.08857703; -0.31193587; 0.37563893; -0.28489077], Float32[-0.50437754, 1.1562291, -0.7725196, 0.12705716, 0.24821429], Float32[0.08088395 -0.43710965 -0.8182514 0.5860713 0.48255485; -0.7392992 -0.55976516 -0.803426 0.18057255 0.4114333; -0.5534168 -0.04597375 -0.61938006 -0.4246715 0.0007074578; -0.52333 -0.7316172 -0.64610314 -0.36054736 0.51834196; -0.350755 0.43827853 0.13689536 0.13966084 0.66975987], Float32[-0.034213997, -0.24596049, 0.30975208, -0.47727463, -0.57989407], Float32[0.37175116 -0.5792239 0.3486889 0.38689414 -0.109774716; -0.5570609 -0.7865411 0.4716623 0.70152956 -0.08370187; 0.5519995 0.5599532 0.46951154 0.5837533 -0.28239235; 0.23209406 0.2875655 0.75394183 0.70020705 0.8459027; 0.16590329 0.014292652 -0.05121109 -0.410806 -0.41590744], Float32[-0.64210534, -0.37401667, 0.013545911, -0.44904634, 0.7203615], Float32[-0.88275415 -0.74685913 0.94736034 0.71400535 1.1306071], Float32[0.12460024]])\n"
     ]
    },
    {
     "name": "stderr",
     "output_type": "stream",
     "text": [
      "┌ Info: Epoch 147\n",
      "└ @ Main /Users/facundosapienza/.julia/packages/Flux/goUGu/src/optimise/train.jl:136\n"
     ]
    },
    {
     "name": "stdout",
     "output_type": "stream",
     "text": [
      "Current loss: 0.06009445067089804\n",
      "Current parameter:Params([Float32[-0.4818344; 0.08861972; -0.31199223; 0.37584737; -0.2848499], Float32[-0.5047057, 1.1561005, -0.77274615, 0.12730551, 0.24848226], Float32[0.08072454 -0.4369255 -0.8184454 0.586253 0.48250502; -0.7394414 -0.5595988 -0.8035994 0.1807308 0.41141042; -0.55374736 -0.045562476 -0.61979276 -0.42434898 0.00075946725; -0.5231029 -0.73179847 -0.64586294 -0.36082664 0.51854783; -0.35082376 0.4383863 0.13679476 0.13973215 0.6697551], Float32[-0.034003634, -0.24577193, 0.31019682, -0.4774623, -0.5797562], Float32[0.371309 -0.57957083 0.34842 0.3872182 -0.109972164; -0.557392 -0.7867787 0.4714891 0.7017941 -0.08381814; 0.55235904 0.56025565 0.46971717 0.58336544 -0.2822589; 0.23254673 0.28793707 0.75422883 0.69965863 0.8461236; 0.16631363 0.014602259 -0.05097514 -0.41103956 -0.41574302], Float32[-0.64236945, -0.3741901, 0.013753364, -0.44876418, 0.7205949], Float32[-0.8831185 -0.74731404 0.9477544 0.7143741 1.1310291], Float32[0.12488004]])\n"
     ]
    },
    {
     "name": "stderr",
     "output_type": "stream",
     "text": [
      "┌ Info: Epoch 148\n",
      "└ @ Main /Users/facundosapienza/.julia/packages/Flux/goUGu/src/optimise/train.jl:136\n"
     ]
    },
    {
     "name": "stdout",
     "output_type": "stream",
     "text": [
      "Current loss: 0.0637980242550581\n",
      "Current parameter:Params([Float32[-0.4817478; 0.08864548; -0.3120349; 0.37599516; -0.2848197], Float32[-0.50494146, 1.156004, -0.7729096, 0.12748006, 0.24867398], Float32[0.0806106 -0.43679404 -0.81858355 0.58638185 0.48246723; -0.7395448 -0.5594781 -0.80372506 0.18084523 0.41139123; -0.5539752 -0.045273136 -0.62007946 -0.4241322 0.0007993596; -0.5229422 -0.73192465 -0.6456945 -0.3610226 0.5186958; -0.35086644 0.43845654 0.13673103 0.13977438 0.66975427], Float32[-0.033853743, -0.2456354, 0.31050986, -0.477592, -0.5796659], Float32[0.37100154 -0.5798163 0.34822923 0.38741562 -0.11010476; -0.55762935 -0.7869516 0.47136283 0.7019702 -0.08389908; 0.5526057 0.5604673 0.46986246 0.5831039 -0.2821695; 0.23285916 0.28819847 0.7544316 0.69930226 0.84627146; 0.16659988 0.014821944 -0.050807342 -0.41118118 -0.4156323], Float32[-0.6425579, -0.3743172, 0.013901252, -0.4485634, 0.72076184], Float32[-0.88336587 -0.7476257 0.9480269 0.71462214 1.1313184], Float32[0.12507628]])\n"
     ]
    },
    {
     "name": "stderr",
     "output_type": "stream",
     "text": [
      "┌ Info: Epoch 149\n",
      "└ @ Main /Users/facundosapienza/.julia/packages/Flux/goUGu/src/optimise/train.jl:136\n"
     ]
    },
    {
     "name": "stdout",
     "output_type": "stream",
     "text": [
      "Current loss: 0.06607910947710907\n",
      "Current parameter:Params([Float32[-0.4816962; 0.08865544; -0.31206492; 0.37608674; -0.28479934], Float32[-0.50509167, 1.155937, -0.7730146, 0.12758617, 0.24879508], Float32[0.08053884 -0.43671143 -0.81867 0.58646166 0.48244053; -0.7396123 -0.5593997 -0.8038064 0.18091904 0.4113754; -0.5541079 -0.045096528 -0.6202496 -0.4240135 0.0008280468; -0.52284306 -0.7319997 -0.64559263 -0.36114135 0.51879007; -0.35088477 0.4384918 0.13670169 0.1397894 0.6697572], Float32[-0.03375991, -0.24554709, 0.31070122, -0.47766793, -0.5796199], Float32[0.37081856 -0.5799678 0.34811085 0.38749534 -0.11017706; -0.55777997 -0.7870647 0.47128 0.7020642 -0.08394721; 0.5527478 0.5605948 0.46995178 0.58295935 -0.2821211; 0.23304197 0.2883579 0.7545563 0.6991228 0.8463515; 0.16677137 0.014958351 -0.050702713 -0.4112371 -0.41557154], Float32[-0.6426763, -0.37440142, 0.013993916, -0.44843805, 0.72086716], Float32[-0.8835048 -0.74780494 0.94818693 0.7147582 1.1314851], Float32[0.12519506]])\n"
     ]
    },
    {
     "name": "stderr",
     "output_type": "stream",
     "text": [
      "┌ Info: Epoch 150\n",
      "└ @ Main /Users/facundosapienza/.julia/packages/Flux/goUGu/src/optimise/train.jl:136\n"
     ]
    },
    {
     "name": "stdout",
     "output_type": "stream",
     "text": [
      "Current loss: 0.0669859050391199\n",
      "Current parameter:Params([Float32[-0.4816766; 0.08865084; -0.31208333; 0.37612674; -0.28478804], Float32[-0.5051635, 1.155897, -0.77306604, 0.12762953, 0.24885145], Float32[0.08050576 -0.4366736 -0.8187089 0.58649653 0.482424; -0.7396468 -0.5593601 -0.80384725 0.1809556 0.41136262; -0.55415344 -0.045022987 -0.6203132 -0.42398465 0.00084646547; -0.5228004 -0.7320278 -0.64555174 -0.36118937 0.5188351; -0.35088062 0.43849483 0.13670404 0.1397793 0.66976357], Float32[-0.033717494, -0.24550296, 0.31078142, -0.47769448, -0.57961464], Float32[0.3707493 -0.58003324 0.34805885 0.38746724 -0.11019396; -0.5578512 -0.78712285 0.47123703 0.7020829 -0.083965205; 0.55279416 0.56064516 0.46998972 0.5829219 -0.28211042; 0.23310637 0.28842402 0.75460947 0.6991041 0.8463692; 0.16683789 0.015018463 -0.050656013 -0.4112142 -0.41555667], Float32[-0.6427304, -0.37444636, 0.014035922, -0.4483818, 0.720916], Float32[-0.8835444 -0.7478632 0.94824404 0.71479183 1.1315396], Float32[0.1252428]])\n"
     ]
    },
    {
     "name": "stderr",
     "output_type": "stream",
     "text": [
      "┌ Info: Epoch 151\n",
      "└ @ Main /Users/facundosapienza/.julia/packages/Flux/goUGu/src/optimise/train.jl:136\n"
     ]
    },
    {
     "name": "stdout",
     "output_type": "stream",
     "text": [
      "Current loss: 0.06662221676699856\n",
      "Current parameter:Params([Float32[-0.4816861; 0.08863295; -0.31209117; 0.37611982; -0.28478506], Float32[-0.5051641, 1.1558818, -0.7730687, 0.12761582, 0.24884894], Float32[0.0805079 -0.4366766 -0.8187046 0.58649045 0.4824167; -0.7396513 -0.55935574 -0.8038511 0.18095827 0.41135257; -0.5541198 -0.045042884 -0.62028027 -0.42403737 0.00085553626; -0.522809 -0.7320132 -0.64556634 -0.3611731 0.5188355; -0.35085598 0.4384685 0.1367353 0.13974626 0.6697731], Float32[-0.033721853, -0.24549906, 0.31076092, -0.47767612, -0.5796465], Float32[0.37078306 -0.5800206 0.3480672 0.3873414 -0.11016044; -0.5578503 -0.78713113 0.47123033 0.70203304 -0.08395575; 0.5527537 0.5606255 0.46998093 0.58298147 -0.2821341; 0.2330636 0.28840542 0.7545976 0.69922984 0.8463302; 0.16680925 0.015009248 -0.05066201 -0.41111967 -0.4155836], Float32[-0.6427261, -0.37445554, 0.014031831, -0.4483884, 0.7209134], Float32[-0.8834939 -0.7478119 0.9482078 0.71473247 1.1314924], Float32[0.12522596]])\n"
     ]
    },
    {
     "name": "stderr",
     "output_type": "stream",
     "text": [
      "┌ Info: Epoch 152\n",
      "└ @ Main /Users/facundosapienza/.julia/packages/Flux/goUGu/src/optimise/train.jl:136\n"
     ]
    },
    {
     "name": "stdout",
     "output_type": "stream",
     "text": [
      "Current loss: 0.06512201464440948\n",
      "Current parameter:Params([Float32[-0.4817217; 0.08860306; -0.31208947; 0.3760706; -0.2847896], Float32[-0.5051005, 1.1558888, -0.7730274, 0.12755063, 0.24879332], Float32[0.08054184 -0.4367164 -0.81866133 0.5864474 0.48241773; -0.73962873 -0.5593833 -0.8038216 0.18093032 0.41134503; -0.5540149 -0.045146823 -0.6201605 -0.42416352 0.00085615146; -0.5228639 -0.7319601 -0.64563096 -0.3610989 0.51879543; -0.3508128 0.43841562 0.1367927 0.1396925 0.6697855], Float32[-0.033768445, -0.2455315, 0.3106499, -0.47761726, -0.579712], Float32[0.3709094 -0.5799376 0.34813002 0.38712794 -0.11008143; -0.5577844 -0.78709435 0.47125638 0.70192146 -0.08392151; 0.552635 0.56054264 0.46992993 0.58312815 -0.28218877; 0.23292458 0.28831056 0.7545271 0.6994843 0.8462401; 0.16669504 0.014937516 -0.05071558 -0.41096067 -0.41564825], Float32[-0.64266914, -0.3744324, 0.013986114, -0.4484517, 0.7208644], Float32[-0.88336235 -0.7476624 0.9480876 0.7145896 1.1313539], Float32[0.12515086]])\n"
     ]
    },
    {
     "name": "stderr",
     "output_type": "stream",
     "text": [
      "┌ Info: Epoch 153\n",
      "└ @ Main /Users/facundosapienza/.julia/packages/Flux/goUGu/src/optimise/train.jl:136\n"
     ]
    },
    {
     "name": "stdout",
     "output_type": "stream",
     "text": [
      "Current loss: 0.0626417794539201\n",
      "Current parameter:Params([Float32[-0.4817806; 0.08856245; -0.3120792; 0.37598348; -0.2848009], Float32[-0.5049795, 1.1559159, -0.7729467, 0.12743944, 0.24869016], Float32[0.08060428 -0.43678918 -0.81858313 0.5863713 0.48242626; -0.7395818 -0.5594394 -0.80376226 0.18087491 0.41133973; -0.5538464 -0.045325674 -0.6199634 -0.42435515 0.00084917527; -0.52296025 -0.7318726 -0.6457403 -0.36097294 0.51871926; -0.35075304 0.438339 0.13687345 0.1396202 0.66980046], Float32[-0.033852834, -0.24559648, 0.3104583, -0.47752222, -0.57980746], Float32[0.3711181 -0.57979167 0.34824154 0.38683683 -0.10996181; -0.55766034 -0.7870172 0.47131178 0.7017549 -0.083865084; 0.5524467 0.5604034 0.46984118 0.58335227 -0.28227118; 0.23269999 0.28814763 0.7544041 0.699852 0.8461044; 0.16650462 0.014809914 -0.050811723 -0.41074437 -0.4157466], Float32[-0.64256495, -0.37438035, 0.013903139, -0.4485657, 0.7207739], Float32[-0.8831587 -0.7474257 0.9478926 0.7143724 1.1311342], Float32[0.12502371]])\n"
     ]
    },
    {
     "name": "stderr",
     "output_type": "stream",
     "text": [
      "┌ Info: Epoch 154\n",
      "└ @ Main /Users/facundosapienza/.julia/packages/Flux/goUGu/src/optimise/train.jl:136\n"
     ]
    },
    {
     "name": "stdout",
     "output_type": "stream",
     "text": [
      "Current loss: 0.05936090128402627\n",
      "Current parameter:Params([Float32[-0.48185998; 0.08851243; -0.31206125; 0.3758629; -0.2848182], Float32[-0.5048078, 1.1559607, -0.7728311, 0.12728764, 0.24854498], Float32[0.08069191 -0.4368911 -0.81847405 0.5862659 0.48244143; -0.7395134 -0.55952084 -0.80367637 0.18079521 0.41133645; -0.5536219 -0.04557048 -0.61969835 -0.42460433 0.0008354535; -0.5230931 -0.7317547 -0.64588904 -0.36080137 0.5186111; -0.35067868 0.43824145 0.13697478 0.13953161 0.6698177], Float32[-0.033970635, -0.24569027, 0.31019577, -0.4773953, -0.57992935], Float32[0.3713992 -0.5795903 0.34839612 0.386478 -0.10980644; -0.5574849 -0.78690434 0.4713932 0.70154 -0.08378907; 0.5521972 0.5602144 0.46971905 0.5836443 -0.28237796; 0.2324003 0.28792474 0.7542349 0.70031804 0.84592855; 0.16624716 0.014632984 -0.050945498 -0.4104779 -0.41587463], Float32[-0.6424191, -0.3743026, 0.013787221, -0.44872448, 0.7206466], Float32[-0.88289165 -0.7471124 0.9476319 0.71409 1.1308432], Float32[0.124850616]])\n"
     ]
    },
    {
     "name": "stderr",
     "output_type": "stream",
     "text": [
      "┌ Info: Epoch 155\n",
      "└ @ Main /Users/facundosapienza/.julia/packages/Flux/goUGu/src/optimise/train.jl:136\n"
     ]
    },
    {
     "name": "stdout",
     "output_type": "stream",
     "text": [
      "Current loss: 0.05548863801715221\n",
      "Current parameter:Params([Float32[-0.48195702; 0.08845432; -0.31203663; 0.3757133; -0.28484082], Float32[-0.504592, 1.1560211, -0.77268517, 0.1271007, 0.24836332], Float32[0.08080143 -0.43701833 -0.81833816 0.5861352 0.48246244; -0.7394262 -0.5596243 -0.80356747 0.18069437 0.41133496; -0.553349 -0.045872256 -0.61937463 -0.42490306 0.0008158342; -0.5232576 -0.7316106 -0.6460719 -0.3605903 0.5184751; -0.35059175 0.43812588 0.13709383 0.13942903 0.6698368], Float32[-0.034117423, -0.24580912, 0.30987206, -0.4772408, -0.5800741], Float32[0.37174267 -0.57934093 0.34858802 0.38606152 -0.109620266; -0.557265 -0.78676033 0.4714973 0.70128345 -0.08369611; 0.55189496 0.5599824 0.46956798 0.5839945 -0.28250578; 0.23203598 0.28765 0.7540256 0.70086753 0.84571815; 0.16593185 0.014413319 -0.05111192 -0.41016862 -0.41602823], Float32[-0.64223707, -0.37420246, 0.01364272, -0.4489221, 0.7204875], Float32[-0.88257015 -0.74673337 0.9473145 0.71375155 1.1304908], Float32[0.12463777]])\n"
     ]
    },
    {
     "name": "stderr",
     "output_type": "stream",
     "text": [
      "┌ Info: Epoch 156\n",
      "└ @ Main /Users/facundosapienza/.julia/packages/Flux/goUGu/src/optimise/train.jl:136\n"
     ]
    },
    {
     "name": "stdout",
     "output_type": "stream",
     "text": [
      "Current loss: 0.05127700331444756\n",
      "Current parameter:Params([Float32[-0.48206878; 0.08838955; -0.31200632; 0.37553933; -0.28486794], Float32[-0.5043393, 1.1560948, -0.7725137, 0.12688434, 0.24815099], Float32[0.080929354 -0.43716684 -0.8181797 0.5859832 0.48248842; -0.7393232 -0.5597463 -0.80343914 0.18057573 0.41133508; -0.55303574 -0.046221673 -0.619002 -0.42524305 0.0007911984; -0.5234487 -0.73144454 -0.6462834 -0.36034623 0.51831573; -0.3504944 0.43799528 0.13722757 0.13931492 0.6698575], Float32[-0.03428857, -0.24594909, 0.30949718, -0.4770633, -0.58023775], Float32[0.37213817 -0.5790513 0.34881127 0.38559785 -0.10940848; -0.55700755 -0.7865901 0.47162053 0.7009924 -0.08358897; 0.5515488 0.55971444 0.46939266 0.584393 -0.28265107; 0.23161785 0.28733185 0.7537826 0.7014854 0.845479; 0.16556826 0.014157789 -0.05130578 -0.4098242 -0.4162031], Float32[-0.6420246, -0.3740834, 0.013474195, -0.44915235, 0.7203015], Float32[-0.8822034 -0.74629974 0.9469499 0.7133666 1.1300875], Float32[0.12439162]])\n"
     ]
    },
    {
     "name": "stderr",
     "output_type": "stream",
     "text": [
      "┌ Info: Epoch 157\n",
      "└ @ Main /Users/facundosapienza/.julia/packages/Flux/goUGu/src/optimise/train.jl:136\n"
     ]
    },
    {
     "name": "stdout",
     "output_type": "stream",
     "text": [
      "Current loss: 0.04703694730701362\n",
      "Current parameter:Params([Float32[-0.48219207; 0.088319674; -0.3119714; 0.3753461; -0.2848987], Float32[-0.50405717, 1.1561792, -0.77232194, 0.12664479, 0.24791434], Float32[0.08107189 -0.4373322 -0.8180035 0.58581436 0.48251843; -0.73920757 -0.5598832 -0.8032954 0.1804429 0.4113366; -0.55269074 -0.046608623 -0.61859095 -0.42561516 0.0007625046; -0.5236608 -0.7312612 -0.64651734 -0.36007613 0.5181378; -0.35038906 0.43785307 0.13737266 0.13919197 0.6698793], Float32[-0.03447901, -0.24610588, 0.30908203, -0.47686777, -0.58041614], Float32[0.3725745 -0.57872987 0.3490593 0.38509837 -0.10917677; -0.5567204 -0.7863989 0.47175908 0.70067453 -0.08347068; 0.55116826 0.55941814 0.46919814 0.5848289 -0.2828099; 0.23115765 0.2869795 0.753513 0.7021555 0.8452176; 0.16516674 0.013873886 -0.051521372 -0.40945303 -0.41639456], Float32[-0.64178795, -0.3739492, 0.013286637, -0.44940844, 0.72009426], Float32[-0.88180137 -0.74582356 0.9465483 0.7129456 1.1296444], Float32[0.12411924]])\n"
     ]
    },
    {
     "name": "stderr",
     "output_type": "stream",
     "text": [
      "┌ Info: Epoch 158\n",
      "└ @ Main /Users/facundosapienza/.julia/packages/Flux/goUGu/src/optimise/train.jl:136\n"
     ]
    },
    {
     "name": "stdout",
     "output_type": "stream",
     "text": [
      "Current loss: 0.043145202681913186\n",
      "Current parameter:Params([Float32[-0.4823233; 0.08824649; -0.31193307; 0.37513942; -0.28493208], Float32[-0.5037544, 1.1562713, -0.7721158, 0.12638919, 0.24766062], Float32[0.08122467 -0.43750942 -0.81781477 0.58563375 0.4825514; -0.739083 -0.56003046 -0.80314064 0.18030004 0.41133925; -0.552324 -0.047021586 -0.61815345 -0.42600903 0.00073084736; -0.52388746 -0.731066 -0.64676684 -0.35978803 0.5179468; -0.35027844 0.43770304 0.13752525 0.13906333 0.6699018], Float32[-0.034682944, -0.24627458, 0.308639, -0.4766599, -0.58060443], Float32[0.37303895 -0.57838625 0.3493247 0.38457593 -0.10893162; -0.5564123 -0.7861927 0.4719085 0.70033866 -0.083344705; 0.5507643 0.55910224 0.46899027 0.58528996 -0.2829779; 0.23066862 0.2866034 0.7532249 0.7028597 0.8449412; 0.16473906 0.013570173 -0.05175217 -0.4090647 -0.41659722], Float32[-0.6415344, -0.37380418, 0.013085761, -0.44968262, 0.71987206], Float32[-0.8813755 -0.7453184 0.9461213 0.71250015 1.1291742], Float32[0.12382867]])\n"
     ]
    },
    {
     "name": "stderr",
     "output_type": "stream",
     "text": [
      "┌ Info: Epoch 159\n",
      "└ @ Main /Users/facundosapienza/.julia/packages/Flux/goUGu/src/optimise/train.jl:136\n"
     ]
    },
    {
     "name": "stdout",
     "output_type": "stream",
     "text": [
      "Current loss: 0.04002138425705385\n",
      "Current parameter:Params([Float32[-0.48245817; 0.088172115; -0.31189284; 0.37492618; -0.28496686], Float32[-0.5034413, 1.1563678, -0.7719025, 0.12612595, 0.24739844], Float32[0.08138253 -0.43769243 -0.8176199 0.58544743 0.48258606; -0.73895377 -0.5601831 -0.8029803 0.18015209 0.41134274; -0.55194724 -0.047446992 -0.6177037 -0.42641243 0.0006975186; -0.5241212 -0.7308653 -0.64702374 -0.35949135 0.5177492; -0.3501658 0.4375498 0.13768078 0.13893269 0.6699244], Float32[-0.03489351, -0.24644932, 0.3081826, -0.47644636, -0.58079684], Float32[0.37351653 -0.57803184 0.3495986 0.3840456 -0.1086807; -0.55609375 -0.78597885 0.4720636 0.6999952 -0.083215155; 0.55034983 0.5587771 0.46877596 0.5857618 -0.28314978; 0.23016636 0.2862159 0.75292784 0.7035773 0.8446584; 0.16429907 0.013256763 -0.051990442 -0.40867046 -0.4168047], Float32[-0.6412724, -0.37365347, 0.01287833, -0.4499657, 0.7196424], Float32[-0.88093907 -0.7448002 0.9456826 0.7120442 1.1286918], Float32[0.12352945]])\n"
     ]
    },
    {
     "name": "stderr",
     "output_type": "stream",
     "text": [
      "┌ Info: Epoch 160\n",
      "└ @ Main /Users/facundosapienza/.julia/packages/Flux/goUGu/src/optimise/train.jl:136\n"
     ]
    },
    {
     "name": "stdout",
     "output_type": "stream",
     "text": [
      "Current loss: 0.03803408384144141\n",
      "Current parameter:Params([Float32[-0.4825918; 0.088099025; -0.31185246; 0.3747145; -0.28500164], Float32[-0.50313, 1.1564645, -0.77169025, 0.12586495, 0.24713792], Float32[0.08153938 -0.43787423 -0.8174264 0.5852624 0.4826209; -0.7388251 -0.5603351 -0.80282074 0.18000484 0.41134673; -0.55157423 -0.04786888 -0.61725813 -0.42681095 0.0006640396; -0.5243532 -0.7306665 -0.6472784 -0.3591972 0.5175527; -0.350055 0.4373987 0.13783394 0.13880438 0.6699464], Float32[-0.035102624, -0.24662323, 0.30773, -0.476235, -0.58098656], Float32[0.3739897 -0.57768 0.34987053 0.38352486 -0.10843294; -0.555777 -0.7857657 0.47221816 0.6996563 -0.08308684; 0.54993975 0.5584548 0.46856332 0.58622766 -0.2833194; 0.22966915 0.28583154 0.75263304 0.7042838 0.8443792; 0.16386303 0.01294556 -0.052227095 -0.40828332 -0.4170096], Float32[-0.64101213, -0.37350315, 0.012672302, -0.4502468, 0.7194142], Float32[-0.88050777 -0.74428767 0.94524825 0.71159387 1.1282146], Float32[0.12323276]])\n"
     ]
    },
    {
     "name": "stderr",
     "output_type": "stream",
     "text": [
      "┌ Info: Epoch 161\n",
      "└ @ Main /Users/facundosapienza/.julia/packages/Flux/goUGu/src/optimise/train.jl:136\n"
     ]
    },
    {
     "name": "stdout",
     "output_type": "stream",
     "text": [
      "Current loss: 0.03734212488911405\n",
      "Current parameter:Params([Float32[-0.4827188; 0.08802992; -0.31181386; 0.3745133; -0.28503475], Float32[-0.5028341, 1.1565567, -0.77148837, 0.12561709, 0.24689026], Float32[0.08168851 -0.43804705 -0.81724244 0.58508664 0.48265424; -0.7387026 -0.5604797 -0.80266887 0.17986472 0.4113508; -0.5512203 -0.048269577 -0.61683524 -0.42718872 0.00063209207; -0.5245737 -0.73047775 -0.64752036 -0.35891777 0.5173657; -0.3499502 0.43725565 0.13797885 0.13868313 0.6699671], Float32[-0.03530137, -0.2467887, 0.3073001, -0.4760344, -0.58116627], Float32[0.37443903 -0.5773456 0.35012904 0.38303286 -0.10819815; -0.5554757 -0.78556275 0.47236535 0.6993353 -0.082965046; 0.5495507 0.55814874 0.46836132 0.586669 -0.2834801; 0.22919723 0.28546634 0.7523529 0.7049524 0.84411466; 0.16344893 0.012649724 -0.052452073 -0.40791756 -0.41720378], Float32[-0.64076465, -0.37335995, 0.012476463, -0.45051408, 0.7191971], Float32[-0.8800988 -0.7438014 0.94483596 0.711167 1.127762], Float32[0.12295096]])\n"
     ]
    },
    {
     "name": "stderr",
     "output_type": "stream",
     "text": [
      "┌ Info: Epoch 162\n",
      "└ @ Main /Users/facundosapienza/.julia/packages/Flux/goUGu/src/optimise/train.jl:136\n"
     ]
    },
    {
     "name": "stdout",
     "output_type": "stream",
     "text": [
      "Current loss: 0.037785496260612145\n",
      "Current parameter:Params([Float32[-0.48283398; 0.08796739; -0.311779; 0.3743313; -0.28506464], Float32[-0.50256664, 1.15664, -0.7713059, 0.12539294, 0.2466664], Float32[0.08182338 -0.4382033 -0.8170761 0.5849276 0.48268446; -0.73859185 -0.5606105 -0.80253154 0.179738 0.4113545; -0.5509003 -0.04863181 -0.61645293 -0.42753035 0.00060331856; -0.5247732 -0.730307 -0.64773923 -0.35866496 0.51719654; -0.34985542 0.4371263 0.1381099 0.13857347 0.6699859], Float32[-0.035481066, -0.24693829, 0.30691147, -0.47585288, -0.58132875], Float32[0.3748455 -0.57704306 0.3503629 0.38258803 -0.10798579; -0.55520314 -0.7853792 0.47249848 0.69904506 -0.0828549; 0.54919887 0.5578719 0.46817863 0.5870681 -0.28362542; 0.22877038 0.28513598 0.7520995 0.7055569 0.84387547; 0.16307431 0.012382094 -0.052655585 -0.40758687 -0.4173794], Float32[-0.6405408, -0.37323043, 0.012299362, -0.4507558, 0.71900076], Float32[-0.8797289 -0.7433616 0.944463 0.7107808 1.1273525], Float32[0.12269608]])\n"
     ]
    },
    {
     "name": "stderr",
     "output_type": "stream",
     "text": [
      "┌ Info: Epoch 163\n",
      "└ @ Main /Users/facundosapienza/.julia/packages/Flux/goUGu/src/optimise/train.jl:136\n"
     ]
    },
    {
     "name": "stdout",
     "output_type": "stream",
     "text": [
      "Current loss: 0.03895387791788808\n",
      "Current parameter:Params([Float32[-0.48293313; 0.0879135; -0.3117494; 0.37417558; -0.28509], Float32[-0.50233847, 1.1567107, -0.7711503, 0.12520117, 0.24647532], Float32[0.08193865 -0.43833682 -0.81693393 0.5847916 0.48271018; -0.7384973 -0.560722 -0.80241436 0.1796298 0.41135755; -0.5506264 -0.04894138 -0.6161259 -0.4278232 0.0005790765; -0.52494395 -0.7301606 -0.64792675 -0.35844848 0.51705194; -0.3497739 0.43701527 0.1382225 0.13847905 0.67000216], Float32[-0.03563461, -0.24706592, 0.30657938, -0.4756972, -0.5814682], Float32[0.3751935 -0.5767843 0.35056287 0.38220522 -0.1078035; -0.55497026 -0.7852225 0.47261205 0.6987961 -0.08276054; 0.5488974 0.5576349 0.46802238 0.58741015 -0.28375015; 0.22840479 0.28485337 0.75188285 0.70607585 0.8436701; 0.16275361 0.012153203 -0.0528296 -0.40730223 -0.41753015], Float32[-0.64034945, -0.37312, 0.012147998, -0.4509624, 0.71883297], Float32[-0.87941176 -0.7429847 0.94414353 0.71044946 1.1270016], Float32[0.122477934]])\n"
     ]
    },
    {
     "name": "stderr",
     "output_type": "stream",
     "text": [
      "┌ Info: Epoch 164\n",
      "└ @ Main /Users/facundosapienza/.julia/packages/Flux/goUGu/src/optimise/train.jl:136\n"
     ]
    },
    {
     "name": "stdout",
     "output_type": "stream",
     "text": [
      "Current loss: 0.040376817795241174\n",
      "Current parameter:Params([Float32[-0.4830135; 0.08786959; -0.31172618; 0.37405086; -0.2851099], Float32[-0.50215685, 1.1567663, -0.77102643, 0.12504749, 0.246323], Float32[0.082030736 -0.43844345 -0.8168203 0.58468276 0.48273048; -0.7384221 -0.56081074 -0.8023211 0.17954357 0.4113596; -0.5504067 -0.049188826 -0.6158639 -0.42805895 0.0005602856; -0.52508086 -0.7300428 -0.6480773 -0.35827473 0.5169364; -0.3497078 0.4369255 0.13831373 0.13840224 0.6700156], Float32[-0.035757266, -0.24716748, 0.30631402, -0.47557178, -0.5815809], Float32[0.37547264 -0.57657725 0.35072282 0.38189405 -0.107656315; -0.5547844 -0.7850978 0.47270238 0.6985953 -0.08268473; 0.548655 0.5574449 0.4678973 0.5876857 -0.2838509; 0.22811127 0.28462705 0.75170946 0.70649517 0.8435043; 0.1624964 0.0119700795 -0.05296877 -0.4070707 -0.4176519], Float32[-0.64019656, -0.37303233, 0.012027036, -0.4511275, 0.7186989], Float32[-0.8791563 -0.7426817 0.94388694 0.71018225 1.1267196], Float32[0.12230307]])\n"
     ]
    },
    {
     "name": "stderr",
     "output_type": "stream",
     "text": [
      "┌ Info: Epoch 165\n",
      "└ @ Main /Users/facundosapienza/.julia/packages/Flux/goUGu/src/optimise/train.jl:136\n"
     ]
    },
    {
     "name": "stdout",
     "output_type": "stream",
     "text": [
      "Current loss: 0.04167172877302893\n",
      "Current parameter:Params([Float32[-0.4830738; 0.08783628; -0.3117099; 0.37395948; -0.2851239], Float32[-0.50202537, 1.1568054, -0.7709368, 0.124934725, 0.24621242], Float32[0.08209789 -0.43852118 -0.8167374 0.5846031 0.48274484; -0.73836774 -0.5608749 -0.8022536 0.17948101 0.41136053; -0.55024505 -0.0493695 -0.6156718 -0.42823362 0.0005474208; -0.52518135 -0.7299557 -0.64818823 -0.35814688 0.51685226; -0.34965807 0.43685848 0.13838218 0.1383441 0.67002594], Float32[-0.035846695, -0.24724096, 0.30612037, -0.4754788, -0.5816649], Float32[0.37567782 -0.57642585 0.3508397 0.38165888 -0.1075466; -0.5546493 -0.7850077 0.4727676 0.69844586 -0.082628794; 0.5484758 0.5573052 0.46780568 0.5878902 -0.2839261; 0.22789505 0.28446123 0.7515826 0.7068083 0.8433807; 0.16230737 0.011836198 -0.053070445 -0.40689546 -0.41774264], Float32[-0.6400851, -0.3729692, 0.011938782, -0.45124793, 0.7186012], Float32[-0.87896687 -0.7424578 0.9436978 0.7099836 1.1265112], Float32[0.12217469]])\n"
     ]
    },
    {
     "name": "stderr",
     "output_type": "stream",
     "text": [
      "┌ Info: Epoch 166\n",
      "└ @ Main /Users/facundosapienza/.julia/packages/Flux/goUGu/src/optimise/train.jl:136\n"
     ]
    },
    {
     "name": "stdout",
     "output_type": "stream",
     "text": [
      "Current loss: 0.042594706842650695\n",
      "Current parameter:Params([Float32[-0.48311386; 0.087813586; -0.31170073; 0.37390178; -0.28513193], Float32[-0.5019446, 1.1568277, -0.77088183, 0.12486325, 0.24614406], Float32[0.08213982 -0.43856966 -0.81668556 0.5845529 0.4827532; -0.7383345 -0.56091416 -0.8022122 0.17944242 0.41136026; -0.55014205 -0.049482737 -0.61555016 -0.4283468 0.00054058863; -0.525245 -0.7298995 -0.6482591 -0.35806537 0.5167998; -0.34962475 0.43681428 0.13842775 0.13830467 0.67003334], Float32[-0.035902534, -0.24728599, 0.30599913, -0.4754185, -0.5817202], Float32[0.3758084 -0.57633066 0.35091305 0.3814998 -0.10747457; -0.5545655 -0.7849527 0.47280732 0.6983481 -0.082592905; 0.5483604 0.5572164 0.4677479 0.58802325 -0.28397557; 0.22775678 0.28435653 0.7515028 0.707015 0.8432995; 0.16218714 0.011752095 -0.053134203 -0.4067766 -0.41780218], Float32[-0.6400156, -0.37293103, 0.011883598, -0.4513232, 0.7185403], Float32[-0.87884396 -0.7423137 0.9435767 0.7098539 1.1263771], Float32[0.12209324]])\n"
     ]
    },
    {
     "name": "stderr",
     "output_type": "stream",
     "text": [
      "┌ Info: Epoch 167\n",
      "└ @ Main /Users/facundosapienza/.julia/packages/Flux/goUGu/src/optimise/train.jl:136\n"
     ]
    },
    {
     "name": "stdout",
     "output_type": "stream",
     "text": [
      "Current loss: 0.043028913628840613\n",
      "Current parameter:Params([Float32[-0.48313436; 0.08780111; -0.3116984; 0.37387666; -0.28513414], Float32[-0.5019129, 1.1568338, -0.7708604, 0.12483167, 0.24611652], Float32[0.08215735 -0.43858987 -0.8166637 0.5845312 0.4827557; -0.73832166 -0.5609293 -0.802196 0.17942704 0.4113588; -0.5500956 -0.04953087 -0.6154965 -0.4284007 0.0005396157; -0.52527314 -0.72987324 -0.6482913 -0.35802862 0.51677805; -0.34960726 0.43679214 0.1384513 0.13828324 0.67003787], Float32[-0.035925895, -0.2473035, 0.3059478, -0.47538975, -0.5817477], Float32[0.37586695 -0.5762898 0.35094428 0.3814138 -0.10743889; -0.5545313 -0.7849316 0.4728224 0.6983001 -0.08257637; 0.5483065 0.5571767 0.4677228 0.58808744 -0.28400025; 0.22769369 0.28431088 0.7514684 0.70711935 0.8432592; 0.16213334 0.011716105 -0.0531613 -0.40671194 -0.4178317], Float32[-0.63998663, -0.37291703, 0.011860387, -0.45135483, 0.718515], Float32[-0.8787852 -0.74224645 0.9435212 0.7097907 1.1263146], Float32[0.122057125]])\n"
     ]
    },
    {
     "name": "stderr",
     "output_type": "stream",
     "text": [
      "┌ Info: Epoch 168\n",
      "└ @ Main /Users/facundosapienza/.julia/packages/Flux/goUGu/src/optimise/train.jl:136\n"
     ]
    },
    {
     "name": "stdout",
     "output_type": "stream",
     "text": [
      "Current loss: 0.04295789652328758\n",
      "Current parameter:Params([Float32[-0.48313665; 0.087798156; -0.3117025; 0.3738819; -0.28513092], Float32[-0.50192696, 1.1568246, -0.7708702, 0.12483726, 0.24612705], Float32[0.082152136 -0.43858373 -0.8166698 0.5845361 0.4827527; -0.7383279 -0.56092197 -0.8022034 0.1794333 0.4113562; -0.5501018 -0.04951839 -0.6155062 -0.4283994 0.0005441211; -0.52526814 -0.7298748 -0.6482875 -0.35803357 0.51678497; -0.3496045 0.4367905 0.13845432 0.13827856 0.6700397], Float32[-0.035918973, -0.24729532, 0.30596158, -0.47539037, -0.5817494], Float32[0.37585852 -0.5762995 0.3509363 0.3813956 -0.107437044; -0.5545433 -0.78494215 0.47281444 0.6982985 -0.08257788; 0.54830986 0.5571828 0.4677282 0.5880876 -0.28400186; 0.22770052 0.2843202 0.7514764 0.7071289 0.84325695; 0.16214135 0.011724956 -0.05315422 -0.40669763 -0.41783318], Float32[-0.63999546, -0.37292555, 0.0118669905, -0.45134577, 0.7185228], Float32[-0.878786 -0.7422507 0.94352674 0.70978934 1.1263187], Float32[0.122063264]])\n"
     ]
    },
    {
     "name": "stderr",
     "output_type": "stream",
     "text": [
      "┌ Info: Epoch 169\n",
      "└ @ Main /Users/facundosapienza/.julia/packages/Flux/goUGu/src/optimise/train.jl:136\n"
     ]
    },
    {
     "name": "stdout",
     "output_type": "stream",
     "text": [
      "Current loss: 0.04243819740462661\n",
      "Current parameter:Params([Float32[-0.48312253; 0.087803766; -0.31171235; 0.37391448; -0.2851228], Float32[-0.50198215, 1.1568018, -0.77090824, 0.12487631, 0.24617186], Float32[0.08212642 -0.43855384 -0.8167011 0.5845649 0.4827448; -0.7383514 -0.56089437 -0.8022321 0.17945907 0.4113526; -0.5501554 -0.0494514 -0.61557275 -0.42834848 0.0005535664; -0.52523327 -0.7299014 -0.64825124 -0.35807604 0.5168176; -0.34961498 0.43680733 0.13843885 0.13828897 0.6700392], Float32[-0.03588478, -0.24726401, 0.30603385, -0.47541746, -0.5817278], Float32[0.37578985 -0.5763548 0.35089296 0.38143843 -0.10746567; -0.554597 -0.78498125 0.47278577 0.69833857 -0.08259563; 0.5483647 0.55723006 0.46776104 0.5880303 -0.28398266; 0.2277702 0.284379 0.7515225 0.7070533 0.84328896; 0.16220497 0.011774176 -0.05311635 -0.40672866 -0.41780946], Float32[-0.6400383, -0.3729544, 0.011900448, -0.45130005, 0.71856046], Float32[-0.8788405 -0.74231917 0.94358724 0.7098436 1.1263827], Float32[0.12210744]])\n"
     ]
    },
    {
     "name": "stderr",
     "output_type": "stream",
     "text": [
      "┌ Info: Epoch 170\n",
      "└ @ Main /Users/facundosapienza/.julia/packages/Flux/goUGu/src/optimise/train.jl:136\n"
     ]
    },
    {
     "name": "stdout",
     "output_type": "stream",
     "text": [
      "Current loss: 0.04158046124171969\n",
      "Current parameter:Params([Float32[-0.48309413; 0.08781683; -0.31172723; 0.37397075; -0.2851105], Float32[-0.502073, 1.1567671, -0.77097064, 0.12494436, 0.24624632], Float32[0.08208296 -0.43850335 -0.8167543 0.5846145 0.48273265; -0.73838973 -0.56084925 -0.8022791 0.17950171 0.41134813; -0.55025005 -0.049337264 -0.61568856 -0.42825454 0.0005672859; -0.52517253 -0.7299497 -0.64818686 -0.35815102 0.51687264; -0.349637 0.4368402 0.13840733 0.1383125 0.67003655], Float32[-0.035826966, -0.24721268, 0.3061567, -0.4754675, -0.581686], Float32[0.3756691 -0.5764495 0.35081905 0.38153416 -0.10752073; -0.5546867 -0.785045 0.47273916 0.6984148 -0.08262748; 0.5484641 0.55731297 0.46781766 0.58792305 -0.2839454; 0.22789423 0.28448063 0.7516016 0.7069042 0.8433507; 0.1623167 0.011858337 -0.053051826 -0.40679902 -0.41776386], Float32[-0.6401106, -0.37300083, 0.011957163, -0.45122263, 0.718624], Float32[-0.8789415 -0.7424432 0.9436953 0.709946 1.1264985], Float32[0.12218456]])\n"
     ]
    },
    {
     "name": "stderr",
     "output_type": "stream",
     "text": [
      "┌ Info: Epoch 171\n",
      "└ @ Main /Users/facundosapienza/.julia/packages/Flux/goUGu/src/optimise/train.jl:136\n"
     ]
    },
    {
     "name": "stdout",
     "output_type": "stream",
     "text": [
      "Current loss: 0.04053048851346317\n",
      "Current parameter:Params([Float32[-0.48305398; 0.087836064; -0.31174615; 0.37404647; -0.28509474], Float32[-0.50219303, 1.1567228, -0.7710531, 0.12503625, 0.24634515], Float32[0.0820249 -0.43843597 -0.8168254 0.58468115 0.48271704; -0.7384403 -0.5607897 -0.8023412 0.17955822 0.411343; -0.55037844 -0.049184423 -0.6158448 -0.4281252 0.0005845054; -0.5250905 -0.73001593 -0.64809936 -0.35825273 0.51694596; -0.34966856 0.4368863 0.13836256 0.1383469 0.6700322], Float32[-0.03574974, -0.24714491, 0.30632105, -0.47553647, -0.58162755], Float32[0.37550554 -0.5765766 0.35072 0.38167363 -0.107597604; -0.554806 -0.7851291 0.47267783 0.69852084 -0.08267094; 0.54860026 0.5574252 0.46789384 0.5877748 -0.28389326; 0.22806294 0.28461742 0.75170785 0.70669454 0.84343696; 0.16246794 0.011971198 -0.052965395 -0.40690196 -0.4177002], Float32[-0.6402071, -0.37306166, 0.012032991, -0.45111915, 0.7187088], Float32[-0.8790807 -0.74261296 0.9438425 0.7100881 1.1266569], Float32[0.12228876]])\n"
     ]
    },
    {
     "name": "stderr",
     "output_type": "stream",
     "text": [
      "┌ Info: Epoch 172\n",
      "└ @ Main /Users/facundosapienza/.julia/packages/Flux/goUGu/src/optimise/train.jl:136\n"
     ]
    },
    {
     "name": "stdout",
     "output_type": "stream",
     "text": [
      "Current loss: 0.03945153182474216\n",
      "Current parameter:Params([Float32[-0.48300484; 0.08786005; -0.31176814; 0.37413695; -0.28507638], Float32[-0.5023352, 1.1566712, -0.77115065, 0.12514625, 0.2464624], Float32[0.08195579 -0.4383558 -0.8169101 0.5847607 0.48269883; -0.73850006 -0.5607193 -0.8024147 0.17962521 0.4113374; -0.55053246 -0.049002253 -0.6160317 -0.4279689 0.00060435466; -0.5249924 -0.7300958 -0.64799434 -0.35837477 0.51703316; -0.34970742 0.43694255 0.13830762 0.13838963 0.6700265], Float32[-0.035657804, -0.24706471, 0.30651686, -0.47561982, -0.5815563], Float32[0.37530953 -0.5767282 0.35060188 0.38184673 -0.10769115; -0.5549476 -0.7852284 0.47260538 0.69864964 -0.08272324; 0.5487643 0.5575597 0.46798486 0.5875952 -0.28382972; 0.22826555 0.28478086 0.7518347 0.7064387 0.843542; 0.16264917 0.012105803 -0.05286237 -0.40702996 -0.41762275], Float32[-0.6403219, -0.37313336, 0.012123305, -0.45099595, 0.7188097], Float32[-0.8792491 -0.7428174 0.9440193 0.71026045 1.1268477], Float32[0.12241353]])\n"
     ]
    },
    {
     "name": "stderr",
     "output_type": "stream",
     "text": [
      "┌ Info: Epoch 173\n",
      "└ @ Main /Users/facundosapienza/.julia/packages/Flux/goUGu/src/optimise/train.jl:136\n"
     ]
    },
    {
     "name": "stdout",
     "output_type": "stream",
     "text": [
      "Current loss: 0.0385009138138006\n",
      "Current parameter:Params([Float32[-0.48294976; 0.087887235; -0.31179208; 0.3742371; -0.28505638], Float32[-0.5024917, 1.1566149, -0.77125806, 0.12526815, 0.24659169], Float32[0.081879474 -0.43826726 -0.81700367 0.58484876 0.48267895; -0.7385658 -0.5606418 -0.80249566 0.17969902 0.41133156; -0.55070335 -0.04880091 -0.6162388 -0.42779475 0.00062588585; -0.52488375 -0.7301846 -0.64787775 -0.35851014 0.51712936; -0.34975117 0.43700555 0.13824588 0.138438 0.67001987], Float32[-0.035556257, -0.24697644, 0.3067332, -0.4757127, -0.5814766], Float32[0.37509227 -0.57689583 0.35047135 0.38204247 -0.10779576; -0.5551038 -0.78533757 0.47252572 0.6987936 -0.08278136; 0.54894674 0.55770886 0.4680856 0.5873949 -0.28375858; 0.22849043 0.28496173 0.75197494 0.7061521 0.84365946; 0.16285005 0.012254602 -0.052748505 -0.40717486 -0.4175361], Float32[-0.64044863, -0.37321207, 0.012223079, -0.45085987, 0.7189211], Float32[-0.87943673 -0.74304473 0.94421566 0.71045285 1.1270599], Float32[0.122551784]])\n"
     ]
    },
    {
     "name": "stderr",
     "output_type": "stream",
     "text": [
      "┌ Info: Epoch 174\n",
      "└ @ Main /Users/facundosapienza/.julia/packages/Flux/goUGu/src/optimise/train.jl:136\n"
     ]
    },
    {
     "name": "stdout",
     "output_type": "stream",
     "text": [
      "Current loss: 0.037801995374143374\n",
      "Current parameter:Params([Float32[-0.48289195; 0.08791599; -0.31181678; 0.37434155; -0.2850357], Float32[-0.50265455, 1.1565567, -0.77136976, 0.12539539, 0.24672624], Float32[0.08179998 -0.43817502 -0.8171012 0.58494055 0.48265845; -0.7386341 -0.5605613 -0.80257976 0.17977577 0.4113257; -0.55088186 -0.048591036 -0.61645484 -0.4276124 0.0006481023; -0.5247704 -0.73027754 -0.647756 -0.35865146 0.51722956; -0.3497973 0.43707174 0.13818088 0.13848913 0.6700128], Float32[-0.035450455, -0.24688466, 0.30695868, -0.4758099, -0.58139294], Float32[0.37486544 -0.57707053 0.35033533 0.38224936 -0.107905574; -0.55526626 -0.785451 0.47244298 0.6989446 -0.082842134; 0.5491376 0.55786455 0.46819067 0.5871849 -0.28368387; 0.22872539 0.28515035 0.7521212 0.70585084 0.8437828; 0.16305976 0.012409678 -0.05262985 -0.4073281 -0.41744518], Float32[-0.6405806, -0.37329376, 0.012327039, -0.4507181, 0.7190371], Float32[-0.87963325 -0.7432825 0.9444209 0.71065456 1.1272818], Float32[0.12269609]])\n"
     ]
    },
    {
     "name": "stderr",
     "output_type": "stream",
     "text": [
      "┌ Info: Epoch 175\n",
      "└ @ Main /Users/facundosapienza/.julia/packages/Flux/goUGu/src/optimise/train.jl:136\n"
     ]
    },
    {
     "name": "stdout",
     "output_type": "stream",
     "text": [
      "Current loss: 0.037420199801645446\n",
      "Current parameter:Params([Float32[-0.4828346; 0.08794467; -0.3118411; 0.37444493; -0.2850153], Float32[-0.50281554, 1.1564994, -0.7714802, 0.12552142, 0.24685934], Float32[0.08172133 -0.43808374 -0.8171977 0.5850314 0.48263827; -0.73870164 -0.5604817 -0.8026629 0.17985165 0.41132003; -0.55105877 -0.04838326 -0.61666894 -0.42743137 0.0006700075; -0.52465814 -0.7303696 -0.64763534 -0.35879144 0.5173286; -0.34984326 0.43713754 0.13811618 0.13854013 0.6700056], Float32[-0.03534575, -0.24679394, 0.3071819, -0.4759063, -0.58130974], Float32[0.3746408 -0.5772434 0.35020074 0.3824558 -0.108014695; -0.5554269 -0.785563 0.4723613 0.6990948 -0.082902394; 0.5493269 0.5580188 0.4682947 0.5869763 -0.28360957; 0.22895823 0.28533706 0.752266 0.7055512 0.8439054; 0.16326745 0.012563114 -0.052512456 -0.40748107 -0.41735482], Float32[-0.6407111, -0.3733744, 0.012429911, -0.45057786, 0.7191518], Float32[-0.87982833 -0.7435183 0.94462425 0.7108548 1.1275018], Float32[0.122839004]])\n"
     ]
    },
    {
     "name": "stderr",
     "output_type": "stream",
     "text": [
      "┌ Info: Epoch 176\n",
      "└ @ Main /Users/facundosapienza/.julia/packages/Flux/goUGu/src/optimise/train.jl:136\n"
     ]
    },
    {
     "name": "stdout",
     "output_type": "stream",
     "text": [
      "Current loss: 0.03735050587597713\n",
      "Current parameter:Params([Float32[-0.48278075; 0.08797174; -0.31186396; 0.3745422; -0.28499612], Float32[-0.5029672, 1.1564455, -0.77158415, 0.12564014, 0.24698469], Float32[0.08164731 -0.43799782 -0.8172885 0.5851169 0.48261937; -0.7387652 -0.5604068 -0.80274117 0.17992303 0.41131482; -0.5512255 -0.048187543 -0.61687064 -0.42726076 0.0006906688; -0.5245525 -0.73045635 -0.6475218 -0.3589232 0.5174218; -0.34988663 0.43719965 0.13805512 0.13858832 0.6699989], Float32[-0.035247166, -0.24670856, 0.30739215, -0.47599712, -0.58123124], Float32[0.3744293 -0.57740605 0.35007408 0.38265088 -0.10811758; -0.555578 -0.7856683 0.47228447 0.6992364 -0.08295916; 0.54950523 0.558164 0.46839267 0.58677953 -0.2835395; 0.2291775 0.2855128 0.75240225 0.70526844 0.84402096; 0.16346297 0.012707491 -0.052401982 -0.40762565 -0.41726965], Float32[-0.640834, -0.37345025, 0.012526752, -0.45044586, 0.71925974], Float32[-0.88001215 -0.7437404 0.94481575 0.71104354 1.1277092], Float32[0.12297357]])\n"
     ]
    },
    {
     "name": "stderr",
     "output_type": "stream",
     "text": [
      "┌ Info: Epoch 177\n",
      "└ @ Main /Users/facundosapienza/.julia/packages/Flux/goUGu/src/optimise/train.jl:136\n"
     ]
    },
    {
     "name": "stdout",
     "output_type": "stream",
     "text": [
      "Current loss: 0.037526494087489405\n",
      "Current parameter:Params([Float32[-0.48273304; 0.08799585; -0.31188443; 0.37462905; -0.2849789], Float32[-0.50310284, 1.1563972, -0.7716772, 0.12574622, 0.24709684], Float32[0.08158117 -0.437921 -0.8173697 0.5851933 0.48260254; -0.738822 -0.5603398 -0.80281115 0.17998682 0.4113102; -0.5513745 -0.04801251 -0.61705095 -0.42710832 0.00070928293; -0.5244583 -0.7305337 -0.64742047 -0.3590408 0.51750493; -0.34992534 0.4372551 0.13800058 0.13863133 0.66999286], Float32[-0.035159025, -0.24663219, 0.3075802, -0.4760781, -0.58116114], Float32[0.37424046 -0.5775513 0.34996095 0.38282508 -0.108209416; -0.55571294 -0.78576237 0.4722158 0.699363 -0.08300986; 0.5496645 0.5582937 0.4684802 0.58660364 -0.28347692; 0.22937329 0.28566974 0.75252396 0.7050158 0.8441242; 0.16363752 0.012836399 -0.05230332 -0.40775472 -0.41719362], Float32[-0.6409437, -0.37351802, 0.0126132965, -0.45032793, 0.7193561], Float32[-0.8801763 -0.7439387 0.9449867 0.711212 1.1278943], Float32[0.12309374]])\n"
     ]
    },
    {
     "name": "stderr",
     "output_type": "stream",
     "text": [
      "┌ Info: Epoch 178\n",
      "└ @ Main /Users/facundosapienza/.julia/packages/Flux/goUGu/src/optimise/train.jl:136\n"
     ]
    },
    {
     "name": "stdout",
     "output_type": "stream",
     "text": [
      "Current loss: 0.037845724552284486\n",
      "Current parameter:Params([Float32[-0.48269352; 0.08801594; -0.31190178; 0.37470207; -0.2849642], Float32[-0.5032175, 1.1563562, -0.7717558, 0.12583551, 0.24719153], Float32[0.08152545 -0.43785623 -0.8174381 0.58525753 0.48258835; -0.7388699 -0.56028324 -0.8028702 0.18004058 0.4113063; -0.55149996 -0.04786489 -0.6172029 -0.4269802 0.00072522653; -0.5243791 -0.73059857 -0.6473354 -0.35913956 0.5175749; -0.34995776 0.43730167 0.13795486 0.13866729 0.6699879], Float32[-0.035084713, -0.2465677, 0.3077388, -0.47614595, -0.58110225], Float32[0.37408176 -0.5776735 0.34986576 0.38297087 -0.10828642; -0.5558266 -0.78584164 0.4721579 0.6994694 -0.08305247; 0.5497983 0.5584028 0.4685539 0.58645576 -0.2834244; 0.22953781 0.28580174 0.7526264 0.70480376 0.84421074; 0.16378422 0.012944834 -0.052220292 -0.40786272 -0.41712987], Float32[-0.6410361, -0.3735752, 0.0126862135, -0.4502286, 0.7194373], Float32[-0.8803141 -0.7441052 0.94513035 0.7113532 1.1280499], Float32[0.12319481]])\n"
     ]
    },
    {
     "name": "stderr",
     "output_type": "stream",
     "text": [
      "┌ Info: Epoch 179\n",
      "└ @ Main /Users/facundosapienza/.julia/packages/Flux/goUGu/src/optimise/train.jl:136\n"
     ]
    },
    {
     "name": "stdout",
     "output_type": "stream",
     "text": [
      "Current loss: 0.03820017996784857\n",
      "Current parameter:Params([Float32[-0.48266363; 0.08803128; -0.31191555; 0.37475896; -0.2849525], Float32[-0.5033077, 1.1563237, -0.7718176, 0.1259052, 0.24726592], Float32[0.08148188 -0.4378055 -0.81749165 0.5853077 0.48257726; -0.7389075 -0.56023884 -0.8029165 0.1800827 0.4113032; -0.5515979 -0.047749255 -0.61732167 -0.42688057 0.00073807803; -0.52431744 -0.7306488 -0.64726937 -0.3592163 0.5176295; -0.3499828 0.43733776 0.13791952 0.13869491 0.6699842], Float32[-0.03502652, -0.24651705, 0.3078631, -0.47619846, -0.5810566], Float32[0.37395826 -0.57776874 0.34979147 0.38308308 -0.108346; -0.5559155 -0.78590375 0.47211248 0.69955206 -0.08308562; 0.5499023 0.5584877 0.46861145 0.5863408 -0.28338376; 0.2296658 0.28590465 0.7527064 0.7046395 0.8442778; 0.1638984 0.013029401 -0.052155487 -0.40794578 -0.41708055], Float32[-0.6411083, -0.37362012, 0.012743243, -0.45015097, 0.7195007], Float32[-0.88042104 -0.7442346 0.945242 0.7114625 1.1281707], Float32[0.12327357]])\n"
     ]
    },
    {
     "name": "stderr",
     "output_type": "stream",
     "text": [
      "┌ Info: Epoch 180\n",
      "└ @ Main /Users/facundosapienza/.julia/packages/Flux/goUGu/src/optimise/train.jl:136\n"
     ]
    },
    {
     "name": "stdout",
     "output_type": "stream",
     "text": [
      "Current loss: 0.038499565083283394\n",
      "Current parameter:Params([Float32[-0.4826441; 0.08804146; -0.31192547; 0.3747985; -0.2849439], Float32[-0.5033716, 1.1563002, -0.7718614, 0.1259538, 0.24731848], Float32[0.081451364 -0.4377699 -0.81752914 0.5853427 0.48256946; -0.73893404 -0.5602074 -0.80294925 0.1801123 0.41130093; -0.5516662 -0.047668014 -0.61740476 -0.42681164 0.00074761803; -0.52427477 -0.7306834 -0.6472238 -0.35926938 0.5176676; -0.34999982 0.43736255 0.13789539 0.13871352 0.66998184], Float32[-0.034985658, -0.24648124, 0.30795047, -0.47623444, -0.5810252], Float32[0.37387264 -0.5778351 0.3497396 0.38315886 -0.10838678; -0.5559777 -0.78594744 0.47208047 0.6996091 -0.083108574; 0.5499742 0.5585467 0.46865162 0.5862613 -0.2833559; 0.22975445 0.2859763 0.75276226 0.7045269 0.8443237; 0.16397755 0.013088309 -0.05211027 -0.40800178 -0.4170468], Float32[-0.64115876, -0.37365186, 0.012783193, -0.45009664, 0.71954507], Float32[-0.88049465 -0.74432397 0.94531924 0.7115374 1.1282543], Float32[0.12332832]])\n"
     ]
    },
    {
     "name": "stderr",
     "output_type": "stream",
     "text": [
      "┌ Info: Epoch 181\n",
      "└ @ Main /Users/facundosapienza/.julia/packages/Flux/goUGu/src/optimise/train.jl:136\n"
     ]
    },
    {
     "name": "stdout",
     "output_type": "stream",
     "text": [
      "Current loss: 0.038684457718643574\n",
      "Current parameter:Params([Float32[-0.48263514; 0.08804641; -0.31193155; 0.3748205; -0.2849385], Float32[-0.5034089, 1.1562859, -0.7718869, 0.12598102, 0.24734893], Float32[0.08143406 -0.43774956 -0.8175504 0.5853623 0.48256496; -0.73894936 -0.5601892 -0.80296814 0.18012924 0.4112995; -0.55170447 -0.04762159 -0.6174517 -0.42677385 0.0007538125; -0.5242512 -0.730702 -0.6471989 -0.35929847 0.517689; -0.3500087 0.43737584 0.13788266 0.13872297 0.6699809], Float32[-0.034962337, -0.24646045, 0.30800048, -0.47625363, -0.58100826], Float32[0.3738254 -0.57787216 0.3497105 0.3831976 -0.10840846; -0.556013 -0.7859725 0.47206202 0.6996401 -0.083121195; 0.55001354 0.55857944 0.4686742 0.5862177 -0.28334102; 0.22980323 0.28601626 0.7527936 0.70446676 0.8443482; 0.16402125 0.013121243 -0.05208488 -0.40803024 -0.41702884], Float32[-0.64118725, -0.37367028, 0.012805853, -0.45006588, 0.7195701], Float32[-0.8805345 -0.7443727 0.9453616 0.7115774 1.1283], Float32[0.12335876]])\n"
     ]
    },
    {
     "name": "stderr",
     "output_type": "stream",
     "text": [
      "┌ Info: Epoch 182\n",
      "└ @ Main /Users/facundosapienza/.julia/packages/Flux/goUGu/src/optimise/train.jl:136\n"
     ]
    },
    {
     "name": "stdout",
     "output_type": "stream",
     "text": [
      "Current loss: 0.03872910446449459\n",
      "Current parameter:Params([Float32[-0.48263636; 0.08804629; -0.3119339; 0.3748256; -0.28493616], Float32[-0.50342065, 1.1562803, -0.7718948, 0.12598765, 0.24735813], Float32[0.08142949 -0.43774396 -0.8175561 0.58536714 0.48256364; -0.7389539 -0.56018364 -0.80297375 0.180134 0.41129887; -0.5517138 -0.04760869 -0.6174639 -0.42676607 0.0007567886; -0.52424616 -0.7307052 -0.64719397 -0.35930446 0.51769435; -0.3500097 0.43737808 0.13788095 0.13872357 0.66998124], Float32[-0.03495591, -0.24645412, 0.3080145, -0.47625664, -0.5810053], Float32[0.3738151 -0.57788104 0.34970328 0.3832006 -0.10841172; -0.55602235 -0.7859796 0.4720566 0.69964606 -0.083123855; 0.55002147 0.5585869 0.46867985 0.5862088 -0.2833387; 0.22981364 0.2860257 0.7528014 0.7044571 0.844352; 0.1640308 0.013129163 -0.05207859 -0.40803215 -0.41702616], Float32[-0.64119464, -0.37367588, 0.012811861, -0.45005783, 0.71957654], Float32[-0.88054186 -0.7443824 0.9453704 0.7115838 1.1283091], Float32[0.12336576]])\n"
     ]
    },
    {
     "name": "stderr",
     "output_type": "stream",
     "text": [
      "┌ Info: Epoch 183\n",
      "└ @ Main /Users/facundosapienza/.julia/packages/Flux/goUGu/src/optimise/train.jl:136\n"
     ]
    },
    {
     "name": "stdout",
     "output_type": "stream",
     "text": [
      "Current loss: 0.03863835843644103\n",
      "Current parameter:Params([Float32[-0.48264694; 0.088041514; -0.31193283; 0.37481514; -0.2849366], Float32[-0.50340885, 1.1562828, -0.7718866, 0.12597536, 0.24734779], Float32[0.08143661 -0.43775192 -0.8175474 0.5853583 0.48256528; -0.7389485 -0.5601897 -0.8029672 0.18012756 0.41129896; -0.5516966 -0.047626585 -0.61744404 -0.42678586 0.00075680634; -0.524258 -0.7306943 -0.6472074 -0.3592892 0.51768494; -0.35000348 0.43737012 0.13788934 0.13871601 0.66998285], Float32[-0.034965016, -0.24646108, 0.3079955, -0.47624478, -0.58101517], Float32[0.37383872 -0.57786405 0.3497162 0.3831707 -0.10839806; -0.55600786 -0.7859703 0.47206315 0.69962895 -0.08311736; 0.5500006 0.55857104 0.4686699 0.5862318 -0.28334787; 0.22978877 0.28600714 0.7527876 0.7044939 0.8443368; 0.16400898 0.013114096 -0.05208985 -0.40800962 -0.4170375], Float32[-0.6411826, -0.3736697, 0.012802565, -0.45007068, 0.7195659], Float32[-0.8805193 -0.7443561 0.94534826 0.71155924 1.1282848], Float32[0.12335124]])\n"
     ]
    },
    {
     "name": "stderr",
     "output_type": "stream",
     "text": [
      "┌ Info: Epoch 184\n",
      "└ @ Main /Users/facundosapienza/.julia/packages/Flux/goUGu/src/optimise/train.jl:136\n"
     ]
    },
    {
     "name": "stdout",
     "output_type": "stream",
     "text": [
      "Current loss: 0.03844059595171825\n",
      "Current parameter:Params([Float32[-0.48266572; 0.08803267; -0.31192878; 0.3747911; -0.2849395], Float32[-0.5033765, 1.1562923, -0.77186424, 0.12594652, 0.24732035], Float32[0.081453964 -0.4377717 -0.8175261 0.58533764 0.4825695; -0.7389345 -0.560206 -0.80294997 0.18011132 0.4112997; -0.5516561 -0.047671396 -0.61739624 -0.42682976 0.0007542346; -0.5242847 -0.73067105 -0.6472368 -0.35925537 0.5176626; -0.34999093 0.43735328 0.13790657 0.13870135 0.66998553], Float32[-0.034987696, -0.24647966, 0.3079476, -0.47621992, -0.58103627], Float32[0.373892 -0.5778244 0.34974667 0.38311213 -0.1083696; -0.5559725 -0.78594655 0.4720802 0.6995917 -0.08310286; 0.54995453 0.55853486 0.46864632 0.5862827 -0.28336713; 0.22973308 0.28596407 0.7527548 0.7045712 0.84430504; 0.16395973 0.013078933 -0.052116457 -0.40796575 -0.41706106], Float32[-0.6411535, -0.37365323, 0.012779887, -0.45010176, 0.71954036], Float32[-0.8804705 -0.74429846 0.94529915 0.7115076 1.1282313], Float32[0.1233179]])\n"
     ]
    },
    {
     "name": "stderr",
     "output_type": "stream",
     "text": [
      "┌ Info: Epoch 185\n",
      "└ @ Main /Users/facundosapienza/.julia/packages/Flux/goUGu/src/optimise/train.jl:136\n"
     ]
    },
    {
     "name": "stdout",
     "output_type": "stream",
     "text": [
      "Current loss: 0.038179283477595624\n",
      "Current parameter:Params([Float32[-0.48269126; 0.088020496; -0.31192228; 0.37475586; -0.28494442], Float32[-0.5033272, 1.1563077, -0.77183026, 0.12590408, 0.24727887], Float32[0.08147973 -0.4378012 -0.8174945 0.5853072 0.4825758; -0.73891336 -0.5602307 -0.8029239 0.18008702 0.411301; -0.5515966 -0.047738336 -0.6173255 -0.42689344 0.0007495267; -0.52432364 -0.73063767 -0.6472795 -0.3592063 0.5176296; -0.34997323 0.43732914 0.13793103 0.13868086 0.66998905], Float32[-0.035021544, -0.24650781, 0.30787596, -0.4761844, -0.58106655], Float32[0.37396967 -0.5777661 0.34979165 0.3830301 -0.10832899; -0.55592 -0.7859109 0.47210586 0.69953793 -0.08308178; 0.5498878 0.558482 0.46861154 0.58635634 -0.28339463; 0.22965208 0.28590086 0.75270647 0.7046817 0.8442596; 0.16388793 0.013027238 -0.052155692 -0.40790442 -0.4170947], Float32[-0.6411105, -0.3736283, 0.012746202, -0.45014787, 0.7195025], Float32[-0.8804003 -0.7442151 0.94522786 0.7114338 1.1281537], Float32[0.12326908]])\n"
     ]
    },
    {
     "name": "stderr",
     "output_type": "stream",
     "text": [
      "┌ Info: Epoch 186\n",
      "└ @ Main /Users/facundosapienza/.julia/packages/Flux/goUGu/src/optimise/train.jl:136\n"
     ]
    },
    {
     "name": "stdout",
     "output_type": "stream",
     "text": [
      "Current loss: 0.03790320588678237\n",
      "Current parameter:Params([Float32[-0.4827219; 0.08800582; -0.3119139; 0.3747122; -0.28495085], Float32[-0.50326514, 1.1563275, -0.7717875, 0.1258514, 0.24722676], Float32[0.08151185 -0.43783808 -0.8174551 0.58526933 0.48258373; -0.73888683 -0.56026167 -0.80289125 0.18005662 0.4113027; -0.5515227 -0.047821965 -0.61723745 -0.426972 0.0007431991; -0.52437174 -0.7305966 -0.64733213 -0.35914567 0.5175886; -0.34995162 0.43729952 0.13796094 0.13865602 0.6699932], Float32[-0.03506382, -0.24654318, 0.3077864, -0.47614083, -0.5811038], Float32[0.37406573 -0.57769376 0.34984756 0.38293046 -0.108279265; -0.55585456 -0.7858663 0.47213808 0.6994718 -0.08305574; 0.54980546 0.5584165 0.46856833 0.5864472 -0.28342837; 0.229552 0.28582245 0.7526464 0.70481706 0.84420395; 0.16379915 0.012963063 -0.05220446 -0.40783003 -0.41713592], Float32[-0.6410569, -0.3735969, 0.012704207, -0.4502053, 0.71945536], Float32[-0.880314 -0.74411225 0.9451399 0.71134335 1.128058], Float32[0.1232086]])\n"
     ]
    },
    {
     "name": "stderr",
     "output_type": "stream",
     "text": [
      "┌ Info: Epoch 187\n",
      "└ @ Main /Users/facundosapienza/.julia/packages/Flux/goUGu/src/optimise/train.jl:136\n"
     ]
    },
    {
     "name": "stdout",
     "output_type": "stream",
     "text": [
      "Current loss: 0.037657169571764695\n",
      "Current parameter:Params([Float32[-0.48275584; 0.08798955; -0.3119043; 0.37466303; -0.2849583], Float32[-0.50319475, 1.1563501, -0.77173907, 0.12579203, 0.24716772], Float32[0.08154811 -0.43787974 -0.81741065 0.58522666 0.4825927; -0.7388568 -0.56029683 -0.80285424 0.18002224 0.41130468; -0.5514394 -0.047916465 -0.61713815 -0.4270602 0.00073580537; -0.52442586 -0.7305506 -0.6473912 -0.35907757 0.51754236; -0.34992754 0.43726635 0.13799433 0.13862838 0.6699978], Float32[-0.035111595, -0.24658328, 0.30768517, -0.47609204, -0.58114547], Float32[0.37417373 -0.5776122 0.3499106 0.38281962 -0.10822365; -0.55578065 -0.78581583 0.47217456 0.69939756 -0.08302649; 0.549713 0.5583428 0.4685196 0.5865491 -0.2834661; 0.22943954 0.28573415 0.7525786 0.70496845 0.8441417; 0.16369931 0.012890751 -0.052259445 -0.4077473 -0.417182], Float32[-0.6409964, -0.37356132, 0.012656793, -0.45027012, 0.7194022], Float32[-0.88021725 -0.74399686 0.94504106 0.71124214 1.1279505], Float32[0.12314052]])\n"
     ]
    },
    {
     "name": "stderr",
     "output_type": "stream",
     "text": [
      "┌ Info: Epoch 188\n",
      "└ @ Main /Users/facundosapienza/.julia/packages/Flux/goUGu/src/optimise/train.jl:136\n"
     ]
    },
    {
     "name": "stdout",
     "output_type": "stream",
     "text": [
      "Current loss: 0.03747395695420874\n",
      "Current parameter:Params([Float32[-0.48279124; 0.08797258; -0.31189412; 0.37461135; -0.28496623], Float32[-0.50312054, 1.1563742, -0.7716879, 0.12572965, 0.24710551], Float32[0.08158627 -0.43792358 -0.81736386 0.5851818 0.48260218; -0.7388251 -0.5603339 -0.8028152 0.17998603 0.41130683; -0.5513519 -0.048015915 -0.6170338 -0.4271527 0.0007279097; -0.5244827 -0.73050237 -0.6474532 -0.35900608 0.51749367; -0.3499024 0.43723163 0.13802926 0.13859954 0.6700026], Float32[-0.03516188, -0.24662557, 0.30757862, -0.47604093, -0.5811891], Float32[0.37428716 -0.5775265 0.34997687 0.38270402 -0.10816543; -0.5557028 -0.7857626 0.47221303 0.69931984 -0.082995795; 0.54961604 0.5582654 0.46846837 0.586656 -0.2835056; 0.2293215 0.28564134 0.7525074 0.7051268 0.8440766; 0.16359447 0.0128147155 -0.052317273 -0.40766102 -0.41723025], Float32[-0.64093274, -0.37352377, 0.012606903, -0.45033833, 0.7193462], Float32[-0.8801158 -0.7438758 0.94493735 0.7111361 1.1278379], Float32[0.123069]])\n"
     ]
    },
    {
     "name": "stderr",
     "output_type": "stream",
     "text": [
      "┌ Info: Epoch 189\n",
      "└ @ Main /Users/facundosapienza/.julia/packages/Flux/goUGu/src/optimise/train.jl:136\n"
     ]
    },
    {
     "name": "stdout",
     "output_type": "stream",
     "text": [
      "Current loss: 0.03736968449230918\n",
      "Current parameter:Params([Float32[-0.48282638; 0.08795582; -0.31188396; 0.37456006; -0.2849741], Float32[-0.5030468, 1.1563982, -0.77163714, 0.12566777, 0.24704374], Float32[0.081624165 -0.43796712 -0.8173174 0.58513725 0.48261166; -0.7387936 -0.56037074 -0.80277646 0.17995004 0.411309; -0.5512652 -0.048114598 -0.61693025 -0.42724434 0.0007200571; -0.5245392 -0.7304545 -0.6475147 -0.35893515 0.51744527; -0.3498775 0.43719727 0.1380638 0.13857105 0.6700073], Float32[-0.035211794, -0.24666758, 0.3074729, -0.47599024, -0.5812323], Float32[0.3743997 -0.57744145 0.35004267 0.38258982 -0.10810778; -0.5556255 -0.7857097 0.47225127 0.6992429 -0.08296536; 0.5495199 0.5581886 0.46841756 0.5867618 -0.28354466; 0.22920442 0.28554922 0.7524367 0.70528346 0.8440121; 0.16349044 0.012739225 -0.052374687 -0.40757582 -0.41727802], Float32[-0.6408695, -0.37348643, 0.012557378, -0.45040607, 0.7192906], Float32[-0.8800153 -0.7437558 0.9448345 0.7110311 1.1277262], Float32[0.122998044]])\n"
     ]
    },
    {
     "name": "stderr",
     "output_type": "stream",
     "text": [
      "┌ Info: Epoch 190\n",
      "└ @ Main /Users/facundosapienza/.julia/packages/Flux/goUGu/src/optimise/train.jl:136\n"
     ]
    },
    {
     "name": "stdout",
     "output_type": "stream",
     "text": [
      "Current loss: 0.037342787275579166\n",
      "Current parameter:Params([Float32[-0.48285964; 0.087940045; -0.3118744; 0.37451178; -0.28498146], Float32[-0.5029776, 1.1564207, -0.77158946, 0.1256096, 0.24698573], Float32[0.0816598 -0.43800804 -0.8172738 0.58509535 0.4826206; -0.738764 -0.5604054 -0.80274 0.17991619 0.41131112; -0.5511837 -0.04820729 -0.616833 -0.42733043 0.0007127464; -0.5245923 -0.73040944 -0.64757264 -0.3588684 0.5173997; -0.34985414 0.437165 0.13809624 0.1385443 0.6700117], Float32[-0.035258703, -0.24670705, 0.3073736, -0.47594252, -0.5812729], Float32[0.37450558 -0.5773614 0.3501046 0.38248268 -0.1080536; -0.5555527 -0.78565985 0.47228727 0.69917065 -0.08293675; 0.54942954 0.5581164 0.46836978 0.5868611 -0.28358138; 0.2290943 0.28546256 0.7523702 0.7054305 0.84395146; 0.16339257 0.012668176 -0.05242871 -0.40749586 -0.4173229], Float32[-0.64081, -0.3734513, 0.012510813, -0.4504698, 0.71923834], Float32[-0.87992084 -0.743643 0.9447377 0.7109323 1.1276212], Float32[0.1229313]])\n"
     ]
    },
    {
     "name": "stderr",
     "output_type": "stream",
     "text": [
      "┌ Info: Epoch 191\n",
      "└ @ Main /Users/facundosapienza/.julia/packages/Flux/goUGu/src/optimise/train.jl:136\n"
     ]
    },
    {
     "name": "stdout",
     "output_type": "stream",
     "text": [
      "Current loss: 0.037377093031069224\n",
      "Current parameter:Params([Float32[-0.48288962; 0.08792595; -0.31186593; 0.37446877; -0.28498793], Float32[-0.5029163, 1.1564406, -0.7715472, 0.1255579, 0.24693431], Float32[0.081691496 -0.43804437 -0.817235 0.5850581 0.4826286; -0.73873764 -0.56043607 -0.8027076 0.17988609 0.41131306; -0.5511113 -0.048289537 -0.6167466 -0.42740697 0.00070640515; -0.52463967 -0.73036927 -0.64762425 -0.35880888 0.51735914; -0.34983334 0.4371363 0.1381251 0.1385205 0.67001563], Float32[-0.03530036, -0.24674208, 0.30728552, -0.47589993, -0.58130896], Float32[0.37459987 -0.57729006 0.35015973 0.3823874 -0.10800535; -0.55548793 -0.7856155 0.47231928 0.6991065 -0.08291129; 0.5493491 0.5580521 0.46832728 0.5869493 -0.28361404; 0.22899625 0.2853854 0.752311 0.7055612 0.8438975; 0.16330539 0.012604895 -0.052476805 -0.40742475 -0.4173629], Float32[-0.6407571, -0.37342003, 0.012469422, -0.45052645, 0.7191918], Float32[-0.87983674 -0.74354255 0.9446515 0.71084434 1.1275277], Float32[0.1228719]])\n"
     ]
    },
    {
     "name": "stderr",
     "output_type": "stream",
     "text": [
      "┌ Info: Epoch 192\n",
      "└ @ Main /Users/facundosapienza/.julia/packages/Flux/goUGu/src/optimise/train.jl:136\n"
     ]
    },
    {
     "name": "stdout",
     "output_type": "stream",
     "text": [
      "Current loss: 0.03744770230423541\n",
      "Current parameter:Params([Float32[-0.48291525; 0.087914065; -0.31185895; 0.3744328; -0.2849932], Float32[-0.50286555, 1.156457, -0.77151215, 0.1255148, 0.24689168], Float32[0.081717916 -0.4380746 -0.8172027 0.585027 0.48263538; -0.73871577 -0.5604616 -0.80268073 0.17986101 0.41131473; -0.551051 -0.04835784 -0.6166748 -0.42747083 0.0007013703; -0.52467936 -0.73033553 -0.6476675 -0.35875902 0.5173252; -0.34981593 0.43711233 0.13814923 0.13850053 0.670019], Float32[-0.035335, -0.24677116, 0.30721238, -0.47586417, -0.58133906], Float32[0.37467873 -0.57723045 0.35020578 0.3823077 -0.107964955; -0.55543387 -0.7855785 0.47234595 0.69905305 -0.08289002; 0.5492819 0.5579984 0.46829185 0.5870227 -0.28364134; 0.22891429 0.28532094 0.75226164 0.70567024 0.8438524; 0.16323248 0.012551997 -0.05251697 -0.40736526 -0.41739637], Float32[-0.6407129, -0.373394, 0.0124349445, -0.45057368, 0.7191529], Float32[-0.8797664 -0.74345857 0.9445794 0.7107706 1.1274496], Float32[0.12282228]])\n"
     ]
    },
    {
     "name": "stderr",
     "output_type": "stream",
     "text": [
      "┌ Info: Epoch 193\n",
      "└ @ Main /Users/facundosapienza/.julia/packages/Flux/goUGu/src/optimise/train.jl:136\n"
     ]
    },
    {
     "name": "stdout",
     "output_type": "stream",
     "text": [
      "Current loss: 0.037527772356709045\n",
      "Current parameter:Params([Float32[-0.4829358; 0.08790476; -0.3118537; 0.3744051; -0.28499705], Float32[-0.5028272, 1.1564691, -0.7714856, 0.12548181, 0.24685939], Float32[0.08173814 -0.43809766 -0.817178 0.5850031 0.48264062; -0.7386991 -0.56048095 -0.8026603 0.17984183 0.41131607; -0.55100495 -0.048409775 -0.61662006 -0.42751983 0.0006978767; -0.52471 -0.7303094 -0.647701 -0.3587205 0.5172991; -0.3498025 0.4370939 0.13816783 0.13848506 0.67002165], Float32[-0.0353614, -0.24679323, 0.3071568, -0.47583643, -0.5813622], Float32[0.3747395 -0.57718456 0.35024112 0.3822462 -0.107933745; -0.5553924 -0.7855501 0.47236633 0.6990121 -0.082873665; 0.54923016 0.5579572 0.46826473 0.5870789 -0.28366238; 0.22885118 0.28527138 0.7522238 0.70575404 0.8438176; 0.1631763 0.012511293 -0.052547827 -0.4073193 -0.41742224], Float32[-0.640679, -0.37337416, 0.012408586, -0.45060986, 0.7191231], Float32[-0.8797122 -0.74339384 0.9445239 0.7107136 1.1273896], Float32[0.12278414]])\n"
     ]
    },
    {
     "name": "stderr",
     "output_type": "stream",
     "text": [
      "┌ Info: Epoch 194\n",
      "└ @ Main /Users/facundosapienza/.julia/packages/Flux/goUGu/src/optimise/train.jl:136\n"
     ]
    },
    {
     "name": "stdout",
     "output_type": "stream",
     "text": [
      "Current loss: 0.03759434448104124\n",
      "Current parameter:Params([Float32[-0.4829508; 0.08789823; -0.31185037; 0.3743863; -0.28499934], Float32[-0.5028023, 1.1564769, -0.77146834, 0.12545973, 0.24683827], Float32[0.08175166 -0.43811294 -0.81716156 0.584987 0.48264426; -0.73868805 -0.5604937 -0.80264676 0.17982905 0.41131708; -0.55097425 -0.04844402 -0.61658376 -0.42755282 0.00069605367; -0.52473086 -0.7302915 -0.6477239 -0.35869423 0.5172814; -0.34979331 0.43708146 0.13818048 0.13847442 0.67002356], Float32[-0.035378896, -0.24680771, 0.3071202, -0.4758173, -0.5813778], Float32[0.3747807 -0.57715356 0.35026494 0.38220423 -0.10791243; -0.5553645 -0.7855311 0.47237992 0.6989846 -0.082862616; 0.5491951 0.55792934 0.46824655 0.58711654 -0.28367665; 0.22880845 0.2852379 0.75219834 0.7058106 0.84379387; 0.1631382 0.01248377 -0.052568622 -0.4072879 -0.4174399], Float32[-0.64065623, -0.373361, 0.012391003, -0.4506341, 0.7191031], Float32[-0.8796754 -0.7433499 0.94448614 0.71067464 1.1273488], Float32[0.1227584]])\n"
     ]
    },
    {
     "name": "stderr",
     "output_type": "stream",
     "text": [
      "┌ Info: Epoch 195\n",
      "└ @ Main /Users/facundosapienza/.julia/packages/Flux/goUGu/src/optimise/train.jl:136\n"
     ]
    },
    {
     "name": "stdout",
     "output_type": "stream",
     "text": [
      "Current loss: 0.03763211821237223\n",
      "Current parameter:Params([Float32[-0.48296022; 0.08789451; -0.31184897; 0.3743766; -0.28500006], Float32[-0.50279105, 1.15648, -0.7714604, 0.1254487, 0.2468285], Float32[0.08175839 -0.43812037 -0.81715345 0.5849788 0.48264623; -0.7386827 -0.5604997 -0.8026403 0.17982273 0.4113177; -0.5509591 -0.04846033 -0.6165661 -0.42756957 0.0006959286; -0.5247418 -0.73028183 -0.6477361 -0.35868037 0.5172723; -0.34978846 0.43707505 0.1381871 0.13846867 0.6700247], Float32[-0.03538736, -0.2468145, 0.30710286, -0.47580692, -0.5813858], Float32[0.37480208 -0.57713765 0.35027704 0.38218203 -0.10790114; -0.5553504 -0.7855216 0.4723866 0.6989708 -0.08285694; 0.549177 0.5579151 0.46823746 0.5871353 -0.2836841; 0.22878635 0.28522077 0.7521855 0.70583963 0.8437814; 0.16311842 0.012469617 -0.05257921 -0.4072712 -0.41744927], Float32[-0.6406447, -0.37335458, 0.012382319, -0.4506462, 0.71909297], Float32[-0.8796562 -0.7433271 0.94446653 0.7106539 1.1273277], Float32[0.12274524]])\n"
     ]
    },
    {
     "name": "stderr",
     "output_type": "stream",
     "text": [
      "┌ Info: Epoch 196\n",
      "└ @ Main /Users/facundosapienza/.julia/packages/Flux/goUGu/src/optimise/train.jl:136\n"
     ]
    },
    {
     "name": "stdout",
     "output_type": "stream",
     "text": [
      "Current loss: 0.03763508910982526\n",
      "Current parameter:Params([Float32[-0.48296428; 0.08789348; -0.31184942; 0.37437555; -0.28499928], Float32[-0.50279284, 1.1564786, -0.7714614, 0.1254483, 0.24682961], Float32[0.081758596 -0.43812025 -0.81715333 0.5849783 0.4826466; -0.73868287 -0.56049925 -0.8026406 0.17982264 0.411318; -0.5509589 -0.048459426 -0.6165664 -0.42757073 0.00069743535; -0.5247433 -0.7302801 -0.6477379 -0.35867843 0.5172714; -0.34978774 0.43707442 0.13818794 0.13846761 0.6700251], Float32[-0.03538715, -0.24681392, 0.30710396, -0.47580495, -0.5813865], Float32[0.37480444 -0.57713616 0.3502779 0.38217875 -0.10789947; -0.5553496 -0.78552127 0.47238663 0.69897 -0.08285642; 0.54917514 0.55791384 0.4682371 0.5871361 -0.283685; 0.22878405 0.2852193 0.7521848 0.7058422 0.84377974; 0.16311623 0.012468296 -0.052579995 -0.4072686 -0.41745067], Float32[-0.6406441, -0.37335467, 0.012382179, -0.45064664, 0.71909237], Float32[-0.87965393 -0.74332446 0.94446427 0.7106507 1.1273255], Float32[0.12274414]])\n"
     ]
    },
    {
     "name": "stderr",
     "output_type": "stream",
     "text": [
      "┌ Info: Epoch 197\n",
      "└ @ Main /Users/facundosapienza/.julia/packages/Flux/goUGu/src/optimise/train.jl:136\n"
     ]
    },
    {
     "name": "stdout",
     "output_type": "stream",
     "text": [
      "Current loss: 0.03760578211825842\n",
      "Current parameter:Params([Float32[-0.4829634; 0.087894894; -0.31185153; 0.37438244; -0.28499714], Float32[-0.50280654, 1.1564734, -0.7714706, 0.12545754, 0.24684063], Float32[0.08175287 -0.43811324 -0.8171605 0.58498466 0.48264557; -0.738688 -0.5604929 -0.8026471 0.17982821 0.41131797; -0.5509722 -0.04844287 -0.616583 -0.42755774 0.00070042716; -0.52473617 -0.73028564 -0.6477304 -0.35868734 0.517278; -0.34979078 0.43707907 0.13818355 0.1384708 0.6700249], Float32[-0.03537906, -0.24680664, 0.30712187, -0.47581062, -0.58138055], Float32[0.37478948 -0.57714784 0.35026854 0.38219267 -0.10790655; -0.55536085 -0.7855292 0.47238064 0.69898117 -0.08286059; 0.5491881 0.55792445 0.46824467 0.5871204 -0.28367993; 0.22879976 0.2852321 0.7521951 0.7058208 0.8437879; 0.16313003 0.012478644 -0.052571874 -0.40727884 -0.41744483], Float32[-0.64065325, -0.3733607, 0.012389806, -0.4506365, 0.7191004], Float32[-0.879667 -0.74334025 0.9444778 0.7106634 1.1273406], Float32[0.12275402]])\n"
     ]
    },
    {
     "name": "stderr",
     "output_type": "stream",
     "text": [
      "┌ Info: Epoch 198\n",
      "└ @ Main /Users/facundosapienza/.julia/packages/Flux/goUGu/src/optimise/train.jl:136\n"
     ]
    },
    {
     "name": "stdout",
     "output_type": "stream",
     "text": [
      "Current loss: 0.03755333071095272\n",
      "Current parameter:Params([Float32[-0.48295838; 0.08789841; -0.31185508; 0.3743961; -0.2849938], Float32[-0.50283045, 1.1564647, -0.77148676, 0.12547505, 0.24686012], Float32[0.08174206 -0.43810037 -0.8171739 0.58499694 0.48264328; -0.7386974 -0.5604815 -0.80265886 0.17983863 0.41131768; -0.5509972 -0.04841291 -0.61661357 -0.4275326 0.00070469134; -0.5247216 -0.7302974 -0.64771485 -0.35870552 0.517291; -0.34979704 0.43708825 0.13817464 0.13847764 0.6700241], Float32[-0.035364214, -0.2467936, 0.30715415, -0.4758228, -0.5813689], Float32[0.3747597 -0.5771708 0.35025045 0.38222137 -0.10792112; -0.55538243 -0.7855442 0.47236946 0.6990025 -0.08286878; 0.54921365 0.55794525 0.46825904 0.5870907 -0.28366974; 0.2288309 0.28525707 0.75221485 0.7057788 0.8438045; 0.16315754 0.012498988 -0.05255612 -0.40730003 -0.41743279], Float32[-0.6406709, -0.37337178, 0.012404089, -0.4506173, 0.71911585], Float32[-0.8796932 -0.7433718 0.9445048 0.7106897 1.1273702], Float32[0.122773305]])\n"
     ]
    },
    {
     "name": "stderr",
     "output_type": "stream",
     "text": [
      "┌ Info: Epoch 199\n",
      "└ @ Main /Users/facundosapienza/.julia/packages/Flux/goUGu/src/optimise/train.jl:136\n"
     ]
    },
    {
     "name": "stdout",
     "output_type": "stream",
     "text": [
      "Current loss: 0.03749025628767833\n",
      "Current parameter:Params([Float32[-0.48294997; 0.087903604; -0.3118598; 0.3744151; -0.28498954], Float32[-0.5028624, 1.1564533, -0.7715085, 0.12549914, 0.24688634], Float32[0.08172722 -0.4380828 -0.81719226 0.5850139 0.48264003; -0.7387102 -0.5604661 -0.8026748 0.17985289 0.41131717; -0.5510314 -0.048372295 -0.61665523 -0.42749783 0.0007099664; -0.5247012 -0.7303141 -0.6476929 -0.3587311 0.5173091; -0.34980586 0.437101 0.13816215 0.1384874 0.6700229], Float32[-0.035344, -0.24677598, 0.30719787, -0.4758402, -0.5813528], Float32[0.37471813 -0.5772027 0.3502254 0.3822618 -0.107941665; -0.5554122 -0.7855649 0.4723542 0.69903195 -0.08288016; 0.5492493 0.55797416 0.4682788 0.5870498 -0.28365546; 0.22887431 0.28529176 0.752242 0.7057204 0.8438278; 0.16319594 0.012527275 -0.052534297 -0.40732998 -0.4174158], Float32[-0.6406952, -0.3733869, 0.012423661, -0.4505909, 0.7191372], Float32[-0.8797299 -0.74341583 0.9445426 0.7107269 1.1274116], Float32[0.12280006]])\n"
     ]
    },
    {
     "name": "stderr",
     "output_type": "stream",
     "text": [
      "┌ Info: Epoch 200\n",
      "└ @ Main /Users/facundosapienza/.julia/packages/Flux/goUGu/src/optimise/train.jl:136\n"
     ]
    },
    {
     "name": "stdout",
     "output_type": "stream",
     "text": [
      "Current loss: 0.03742939695546469\n",
      "Current parameter:Params([Float32[-0.48293918; 0.08790999; -0.3118653; 0.37443796; -0.28498462], Float32[-0.5029001, 1.1564399, -0.7715342, 0.12552792, 0.24691735], Float32[0.081709504 -0.43806192 -0.8172142 0.58503425 0.48263606; -0.7387255 -0.5604479 -0.80269367 0.17986989 0.4113165; -0.55107224 -0.048324093 -0.61670476 -0.42745617 0.00071595964; -0.52467656 -0.7303343 -0.64766645 -0.35876194 0.5173308; -0.34981653 0.43711632 0.1381471 0.13849925 0.67002136], Float32[-0.035319965, -0.24675512, 0.30724972, -0.4758613, -0.5813334], Float32[0.37466818 -0.57724094 0.35019538 0.3823107 -0.10796647; -0.55544776 -0.7855896 0.47233602 0.6990672 -0.082893826; 0.5492921 0.5580088 0.4683024 0.58700085 -0.2836383; 0.22892645 0.28533334 0.7522746 0.7056503 0.84385586; 0.16324209 0.012561215 -0.05250816 -0.40736622 -0.4173953], Float32[-0.6407243, -0.37340486, 0.012446997, -0.45055938, 0.71916276], Float32[-0.87977415 -0.7434688 0.944588 0.71077186 1.1274613], Float32[0.122832134]])\n"
     ]
    },
    {
     "data": {
      "text/plain": [
       "(Chain(Dense(1, 5), Dense(5, 5, #37), Dense(5, 5, #38), Dense(5, 1, relu)), Any[8.593653737809248, 8.442925469851993, 8.291582840875634, 8.139940010133161, 7.988197444623416, 7.836566861375201, 7.685267498698716, 7.534521734122948, 7.3845515346185335, 7.235573283386625  …  0.037377093031069224, 0.03744770230423541, 0.037527772356709045, 0.03759434448104124, 0.03763211821237223, 0.03763508910982526, 0.03760578211825842, 0.03755333071095272, 0.03749025628767833, 0.03742939695546469])"
      ]
     },
     "execution_count": 12,
     "metadata": {},
     "output_type": "execute_result"
    }
   ],
   "source": [
    "UD_trained, losses = train(loss, p)"
   ]
  },
  {
   "cell_type": "code",
   "execution_count": 13,
   "id": "58baf301",
   "metadata": {},
   "outputs": [
    {
     "data": {
      "image/svg+xml": [
       "<?xml version=\"1.0\" encoding=\"utf-8\"?>\n",
       "<svg xmlns=\"http://www.w3.org/2000/svg\" xmlns:xlink=\"http://www.w3.org/1999/xlink\" width=\"600\" height=\"400\" viewBox=\"0 0 2400 1600\">\n",
       "<defs>\n",
       "  <clipPath id=\"clip560\">\n",
       "    <rect x=\"0\" y=\"0\" width=\"2400\" height=\"1600\"/>\n",
       "  </clipPath>\n",
       "</defs>\n",
       "<path clip-path=\"url(#clip560)\" d=\"\n",
       "M0 1600 L2400 1600 L2400 0 L0 0  Z\n",
       "  \" fill=\"#ffffff\" fill-rule=\"evenodd\" fill-opacity=\"1\"/>\n",
       "<defs>\n",
       "  <clipPath id=\"clip561\">\n",
       "    <rect x=\"480\" y=\"0\" width=\"1681\" height=\"1600\"/>\n",
       "  </clipPath>\n",
       "</defs>\n",
       "<path clip-path=\"url(#clip560)\" d=\"\n",
       "M225.851 1486.45 L2352.76 1486.45 L2352.76 123.472 L225.851 123.472  Z\n",
       "  \" fill=\"#ffffff\" fill-rule=\"evenodd\" fill-opacity=\"1\"/>\n",
       "<defs>\n",
       "  <clipPath id=\"clip562\">\n",
       "    <rect x=\"225\" y=\"123\" width=\"2128\" height=\"1364\"/>\n",
       "  </clipPath>\n",
       "</defs>\n",
       "<polyline clip-path=\"url(#clip562)\" style=\"stroke:#000000; stroke-linecap:butt; stroke-linejoin:round; stroke-width:2; stroke-opacity:0.1; fill:none\" points=\"\n",
       "  275.964,1486.45 275.964,123.472 \n",
       "  \"/>\n",
       "<polyline clip-path=\"url(#clip562)\" style=\"stroke:#000000; stroke-linecap:butt; stroke-linejoin:round; stroke-width:2; stroke-opacity:0.1; fill:none\" points=\"\n",
       "  780.113,1486.45 780.113,123.472 \n",
       "  \"/>\n",
       "<polyline clip-path=\"url(#clip562)\" style=\"stroke:#000000; stroke-linecap:butt; stroke-linejoin:round; stroke-width:2; stroke-opacity:0.1; fill:none\" points=\"\n",
       "  1284.26,1486.45 1284.26,123.472 \n",
       "  \"/>\n",
       "<polyline clip-path=\"url(#clip562)\" style=\"stroke:#000000; stroke-linecap:butt; stroke-linejoin:round; stroke-width:2; stroke-opacity:0.1; fill:none\" points=\"\n",
       "  1788.41,1486.45 1788.41,123.472 \n",
       "  \"/>\n",
       "<polyline clip-path=\"url(#clip562)\" style=\"stroke:#000000; stroke-linecap:butt; stroke-linejoin:round; stroke-width:2; stroke-opacity:0.1; fill:none\" points=\"\n",
       "  2292.56,1486.45 2292.56,123.472 \n",
       "  \"/>\n",
       "<polyline clip-path=\"url(#clip560)\" style=\"stroke:#000000; stroke-linecap:butt; stroke-linejoin:round; stroke-width:4; stroke-opacity:1; fill:none\" points=\"\n",
       "  225.851,1486.45 2352.76,1486.45 \n",
       "  \"/>\n",
       "<polyline clip-path=\"url(#clip560)\" style=\"stroke:#000000; stroke-linecap:butt; stroke-linejoin:round; stroke-width:4; stroke-opacity:1; fill:none\" points=\"\n",
       "  275.964,1486.45 275.964,1470.09 \n",
       "  \"/>\n",
       "<polyline clip-path=\"url(#clip560)\" style=\"stroke:#000000; stroke-linecap:butt; stroke-linejoin:round; stroke-width:4; stroke-opacity:1; fill:none\" points=\"\n",
       "  780.113,1486.45 780.113,1470.09 \n",
       "  \"/>\n",
       "<polyline clip-path=\"url(#clip560)\" style=\"stroke:#000000; stroke-linecap:butt; stroke-linejoin:round; stroke-width:4; stroke-opacity:1; fill:none\" points=\"\n",
       "  1284.26,1486.45 1284.26,1470.09 \n",
       "  \"/>\n",
       "<polyline clip-path=\"url(#clip560)\" style=\"stroke:#000000; stroke-linecap:butt; stroke-linejoin:round; stroke-width:4; stroke-opacity:1; fill:none\" points=\"\n",
       "  1788.41,1486.45 1788.41,1470.09 \n",
       "  \"/>\n",
       "<polyline clip-path=\"url(#clip560)\" style=\"stroke:#000000; stroke-linecap:butt; stroke-linejoin:round; stroke-width:4; stroke-opacity:1; fill:none\" points=\"\n",
       "  2292.56,1486.45 2292.56,1470.09 \n",
       "  \"/>\n",
       "<path clip-path=\"url(#clip560)\" d=\"M275.964 1515.64 Q272.353 1515.64 270.524 1519.2 Q268.718 1522.75 268.718 1529.87 Q268.718 1536.98 270.524 1540.55 Q272.353 1544.09 275.964 1544.09 Q279.598 1544.09 281.404 1540.55 Q283.232 1536.98 283.232 1529.87 Q283.232 1522.75 281.404 1519.2 Q279.598 1515.64 275.964 1515.64 M275.964 1511.93 Q281.774 1511.93 284.829 1516.54 Q287.908 1521.12 287.908 1529.87 Q287.908 1538.6 284.829 1543.21 Q281.774 1547.79 275.964 1547.79 Q270.154 1547.79 267.075 1543.21 Q264.019 1538.6 264.019 1529.87 Q264.019 1521.12 267.075 1516.54 Q270.154 1511.93 275.964 1511.93 Z\" fill=\"#000000\" fill-rule=\"evenodd\" fill-opacity=\"1\" /><path clip-path=\"url(#clip560)\" d=\"M754.812 1512.56 L773.169 1512.56 L773.169 1516.5 L759.095 1516.5 L759.095 1524.97 Q760.113 1524.62 761.132 1524.46 Q762.15 1524.27 763.169 1524.27 Q768.956 1524.27 772.335 1527.44 Q775.715 1530.62 775.715 1536.03 Q775.715 1541.61 772.243 1544.71 Q768.77 1547.79 762.451 1547.79 Q760.275 1547.79 758.007 1547.42 Q755.761 1547.05 753.354 1546.31 L753.354 1541.61 Q755.437 1542.74 757.659 1543.3 Q759.882 1543.86 762.358 1543.86 Q766.363 1543.86 768.701 1541.75 Q771.039 1539.64 771.039 1536.03 Q771.039 1532.42 768.701 1530.31 Q766.363 1528.21 762.358 1528.21 Q760.483 1528.21 758.608 1528.62 Q756.757 1529.04 754.812 1529.92 L754.812 1512.56 Z\" fill=\"#000000\" fill-rule=\"evenodd\" fill-opacity=\"1\" /><path clip-path=\"url(#clip560)\" d=\"M794.928 1515.64 Q791.317 1515.64 789.488 1519.2 Q787.682 1522.75 787.682 1529.87 Q787.682 1536.98 789.488 1540.55 Q791.317 1544.09 794.928 1544.09 Q798.562 1544.09 800.367 1540.55 Q802.196 1536.98 802.196 1529.87 Q802.196 1522.75 800.367 1519.2 Q798.562 1515.64 794.928 1515.64 M794.928 1511.93 Q800.738 1511.93 803.793 1516.54 Q806.872 1521.12 806.872 1529.87 Q806.872 1538.6 803.793 1543.21 Q800.738 1547.79 794.928 1547.79 Q789.118 1547.79 786.039 1543.21 Q782.983 1538.6 782.983 1529.87 Q782.983 1521.12 786.039 1516.54 Q789.118 1511.93 794.928 1511.93 Z\" fill=\"#000000\" fill-rule=\"evenodd\" fill-opacity=\"1\" /><path clip-path=\"url(#clip560)\" d=\"M1243.87 1543.18 L1251.51 1543.18 L1251.51 1516.82 L1243.2 1518.49 L1243.2 1514.23 L1251.46 1512.56 L1256.14 1512.56 L1256.14 1543.18 L1263.78 1543.18 L1263.78 1547.12 L1243.87 1547.12 L1243.87 1543.18 Z\" fill=\"#000000\" fill-rule=\"evenodd\" fill-opacity=\"1\" /><path clip-path=\"url(#clip560)\" d=\"M1283.22 1515.64 Q1279.61 1515.64 1277.78 1519.2 Q1275.98 1522.75 1275.98 1529.87 Q1275.98 1536.98 1277.78 1540.55 Q1279.61 1544.09 1283.22 1544.09 Q1286.85 1544.09 1288.66 1540.55 Q1290.49 1536.98 1290.49 1529.87 Q1290.49 1522.75 1288.66 1519.2 Q1286.85 1515.64 1283.22 1515.64 M1283.22 1511.93 Q1289.03 1511.93 1292.09 1516.54 Q1295.16 1521.12 1295.16 1529.87 Q1295.16 1538.6 1292.09 1543.21 Q1289.03 1547.79 1283.22 1547.79 Q1277.41 1547.79 1274.33 1543.21 Q1271.28 1538.6 1271.28 1529.87 Q1271.28 1521.12 1274.33 1516.54 Q1277.41 1511.93 1283.22 1511.93 Z\" fill=\"#000000\" fill-rule=\"evenodd\" fill-opacity=\"1\" /><path clip-path=\"url(#clip560)\" d=\"M1313.38 1515.64 Q1309.77 1515.64 1307.94 1519.2 Q1306.14 1522.75 1306.14 1529.87 Q1306.14 1536.98 1307.94 1540.55 Q1309.77 1544.09 1313.38 1544.09 Q1317.02 1544.09 1318.82 1540.55 Q1320.65 1536.98 1320.65 1529.87 Q1320.65 1522.75 1318.82 1519.2 Q1317.02 1515.64 1313.38 1515.64 M1313.38 1511.93 Q1319.19 1511.93 1322.25 1516.54 Q1325.33 1521.12 1325.33 1529.87 Q1325.33 1538.6 1322.25 1543.21 Q1319.19 1547.79 1313.38 1547.79 Q1307.57 1547.79 1304.49 1543.21 Q1301.44 1538.6 1301.44 1529.87 Q1301.44 1521.12 1304.49 1516.54 Q1307.57 1511.93 1313.38 1511.93 Z\" fill=\"#000000\" fill-rule=\"evenodd\" fill-opacity=\"1\" /><path clip-path=\"url(#clip560)\" d=\"M1748.02 1543.18 L1755.66 1543.18 L1755.66 1516.82 L1747.35 1518.49 L1747.35 1514.23 L1755.61 1512.56 L1760.29 1512.56 L1760.29 1543.18 L1767.93 1543.18 L1767.93 1547.12 L1748.02 1547.12 L1748.02 1543.18 Z\" fill=\"#000000\" fill-rule=\"evenodd\" fill-opacity=\"1\" /><path clip-path=\"url(#clip560)\" d=\"M1777.42 1512.56 L1795.77 1512.56 L1795.77 1516.5 L1781.7 1516.5 L1781.7 1524.97 Q1782.72 1524.62 1783.74 1524.46 Q1784.75 1524.27 1785.77 1524.27 Q1791.56 1524.27 1794.94 1527.44 Q1798.32 1530.62 1798.32 1536.03 Q1798.32 1541.61 1794.85 1544.71 Q1791.37 1547.79 1785.05 1547.79 Q1782.88 1547.79 1780.61 1547.42 Q1778.37 1547.05 1775.96 1546.31 L1775.96 1541.61 Q1778.04 1542.74 1780.26 1543.3 Q1782.49 1543.86 1784.96 1543.86 Q1788.97 1543.86 1791.3 1541.75 Q1793.64 1539.64 1793.64 1536.03 Q1793.64 1532.42 1791.3 1530.31 Q1788.97 1528.21 1784.96 1528.21 Q1783.09 1528.21 1781.21 1528.62 Q1779.36 1529.04 1777.42 1529.92 L1777.42 1512.56 Z\" fill=\"#000000\" fill-rule=\"evenodd\" fill-opacity=\"1\" /><path clip-path=\"url(#clip560)\" d=\"M1817.53 1515.64 Q1813.92 1515.64 1812.09 1519.2 Q1810.29 1522.75 1810.29 1529.87 Q1810.29 1536.98 1812.09 1540.55 Q1813.92 1544.09 1817.53 1544.09 Q1821.17 1544.09 1822.97 1540.55 Q1824.8 1536.98 1824.8 1529.87 Q1824.8 1522.75 1822.97 1519.2 Q1821.17 1515.64 1817.53 1515.64 M1817.53 1511.93 Q1823.34 1511.93 1826.4 1516.54 Q1829.48 1521.12 1829.48 1529.87 Q1829.48 1538.6 1826.4 1543.21 Q1823.34 1547.79 1817.53 1547.79 Q1811.72 1547.79 1808.64 1543.21 Q1805.59 1538.6 1805.59 1529.87 Q1805.59 1521.12 1808.64 1516.54 Q1811.72 1511.93 1817.53 1511.93 Z\" fill=\"#000000\" fill-rule=\"evenodd\" fill-opacity=\"1\" /><path clip-path=\"url(#clip560)\" d=\"M2256.25 1543.18 L2272.57 1543.18 L2272.57 1547.12 L2250.63 1547.12 L2250.63 1543.18 Q2253.29 1540.43 2257.87 1535.8 Q2262.48 1531.15 2263.66 1529.81 Q2265.91 1527.28 2266.79 1525.55 Q2267.69 1523.79 2267.69 1522.1 Q2267.69 1519.34 2265.74 1517.61 Q2263.82 1515.87 2260.72 1515.87 Q2258.52 1515.87 2256.07 1516.63 Q2253.64 1517.4 2250.86 1518.95 L2250.86 1514.23 Q2253.68 1513.09 2256.14 1512.51 Q2258.59 1511.93 2260.63 1511.93 Q2266 1511.93 2269.19 1514.62 Q2272.39 1517.31 2272.39 1521.8 Q2272.39 1523.93 2271.58 1525.85 Q2270.79 1527.74 2268.68 1530.34 Q2268.1 1531.01 2265 1534.23 Q2261.9 1537.42 2256.25 1543.18 Z\" fill=\"#000000\" fill-rule=\"evenodd\" fill-opacity=\"1\" /><path clip-path=\"url(#clip560)\" d=\"M2292.39 1515.64 Q2288.78 1515.64 2286.95 1519.2 Q2285.14 1522.75 2285.14 1529.87 Q2285.14 1536.98 2286.95 1540.55 Q2288.78 1544.09 2292.39 1544.09 Q2296.02 1544.09 2297.83 1540.55 Q2299.66 1536.98 2299.66 1529.87 Q2299.66 1522.75 2297.83 1519.2 Q2296.02 1515.64 2292.39 1515.64 M2292.39 1511.93 Q2298.2 1511.93 2301.25 1516.54 Q2304.33 1521.12 2304.33 1529.87 Q2304.33 1538.6 2301.25 1543.21 Q2298.2 1547.79 2292.39 1547.79 Q2286.58 1547.79 2283.5 1543.21 Q2280.44 1538.6 2280.44 1529.87 Q2280.44 1521.12 2283.5 1516.54 Q2286.58 1511.93 2292.39 1511.93 Z\" fill=\"#000000\" fill-rule=\"evenodd\" fill-opacity=\"1\" /><path clip-path=\"url(#clip560)\" d=\"M2322.55 1515.64 Q2318.94 1515.64 2317.11 1519.2 Q2315.3 1522.75 2315.3 1529.87 Q2315.3 1536.98 2317.11 1540.55 Q2318.94 1544.09 2322.55 1544.09 Q2326.18 1544.09 2327.99 1540.55 Q2329.82 1536.98 2329.82 1529.87 Q2329.82 1522.75 2327.99 1519.2 Q2326.18 1515.64 2322.55 1515.64 M2322.55 1511.93 Q2328.36 1511.93 2331.41 1516.54 Q2334.49 1521.12 2334.49 1529.87 Q2334.49 1538.6 2331.41 1543.21 Q2328.36 1547.79 2322.55 1547.79 Q2316.74 1547.79 2313.66 1543.21 Q2310.6 1538.6 2310.6 1529.87 Q2310.6 1521.12 2313.66 1516.54 Q2316.74 1511.93 2322.55 1511.93 Z\" fill=\"#000000\" fill-rule=\"evenodd\" fill-opacity=\"1\" /><polyline clip-path=\"url(#clip562)\" style=\"stroke:#000000; stroke-linecap:butt; stroke-linejoin:round; stroke-width:2; stroke-opacity:0.1; fill:none\" points=\"\n",
       "  225.851,1214.98 2352.76,1214.98 \n",
       "  \"/>\n",
       "<polyline clip-path=\"url(#clip562)\" style=\"stroke:#000000; stroke-linecap:butt; stroke-linejoin:round; stroke-width:2; stroke-opacity:0.1; fill:none\" points=\"\n",
       "  225.851,942.792 2352.76,942.792 \n",
       "  \"/>\n",
       "<polyline clip-path=\"url(#clip562)\" style=\"stroke:#000000; stroke-linecap:butt; stroke-linejoin:round; stroke-width:2; stroke-opacity:0.1; fill:none\" points=\"\n",
       "  225.851,670.599 2352.76,670.599 \n",
       "  \"/>\n",
       "<polyline clip-path=\"url(#clip562)\" style=\"stroke:#000000; stroke-linecap:butt; stroke-linejoin:round; stroke-width:2; stroke-opacity:0.1; fill:none\" points=\"\n",
       "  225.851,398.407 2352.76,398.407 \n",
       "  \"/>\n",
       "<polyline clip-path=\"url(#clip562)\" style=\"stroke:#000000; stroke-linecap:butt; stroke-linejoin:round; stroke-width:2; stroke-opacity:0.1; fill:none\" points=\"\n",
       "  225.851,126.214 2352.76,126.214 \n",
       "  \"/>\n",
       "<polyline clip-path=\"url(#clip560)\" style=\"stroke:#000000; stroke-linecap:butt; stroke-linejoin:round; stroke-width:4; stroke-opacity:1; fill:none\" points=\"\n",
       "  225.851,1486.45 225.851,123.472 \n",
       "  \"/>\n",
       "<polyline clip-path=\"url(#clip560)\" style=\"stroke:#000000; stroke-linecap:butt; stroke-linejoin:round; stroke-width:4; stroke-opacity:1; fill:none\" points=\"\n",
       "  225.851,1214.98 251.374,1214.98 \n",
       "  \"/>\n",
       "<polyline clip-path=\"url(#clip560)\" style=\"stroke:#000000; stroke-linecap:butt; stroke-linejoin:round; stroke-width:4; stroke-opacity:1; fill:none\" points=\"\n",
       "  225.851,942.792 251.374,942.792 \n",
       "  \"/>\n",
       "<polyline clip-path=\"url(#clip560)\" style=\"stroke:#000000; stroke-linecap:butt; stroke-linejoin:round; stroke-width:4; stroke-opacity:1; fill:none\" points=\"\n",
       "  225.851,670.599 251.374,670.599 \n",
       "  \"/>\n",
       "<polyline clip-path=\"url(#clip560)\" style=\"stroke:#000000; stroke-linecap:butt; stroke-linejoin:round; stroke-width:4; stroke-opacity:1; fill:none\" points=\"\n",
       "  225.851,398.407 251.374,398.407 \n",
       "  \"/>\n",
       "<polyline clip-path=\"url(#clip560)\" style=\"stroke:#000000; stroke-linecap:butt; stroke-linejoin:round; stroke-width:4; stroke-opacity:1; fill:none\" points=\"\n",
       "  225.851,126.214 251.374,126.214 \n",
       "  \"/>\n",
       "<path clip-path=\"url(#clip560)\" d=\"M51.6634 1234.78 L59.3023 1234.78 L59.3023 1208.41 L50.9921 1210.08 L50.9921 1205.82 L59.256 1204.15 L63.9319 1204.15 L63.9319 1234.78 L71.5707 1234.78 L71.5707 1238.71 L51.6634 1238.71 L51.6634 1234.78 Z\" fill=\"#000000\" fill-rule=\"evenodd\" fill-opacity=\"1\" /><path clip-path=\"url(#clip560)\" d=\"M91.0151 1207.23 Q87.404 1207.23 85.5753 1210.8 Q83.7697 1214.34 83.7697 1221.47 Q83.7697 1228.57 85.5753 1232.14 Q87.404 1235.68 91.0151 1235.68 Q94.6493 1235.68 96.4548 1232.14 Q98.2835 1228.57 98.2835 1221.47 Q98.2835 1214.34 96.4548 1210.8 Q94.6493 1207.23 91.0151 1207.23 M91.0151 1203.53 Q96.8252 1203.53 99.8808 1208.13 Q102.959 1212.72 102.959 1221.47 Q102.959 1230.19 99.8808 1234.8 Q96.8252 1239.38 91.0151 1239.38 Q85.2049 1239.38 82.1262 1234.8 Q79.0707 1230.19 79.0707 1221.47 Q79.0707 1212.72 82.1262 1208.13 Q85.2049 1203.53 91.0151 1203.53 Z\" fill=\"#000000\" fill-rule=\"evenodd\" fill-opacity=\"1\" /><path clip-path=\"url(#clip560)\" d=\"M102.959 1197.63 L127.071 1197.63 L127.071 1200.83 L102.959 1200.83 L102.959 1197.63 Z\" fill=\"#000000\" fill-rule=\"evenodd\" fill-opacity=\"1\" /><path clip-path=\"url(#clip560)\" d=\"M135.929 1208.1 L142.136 1208.1 L142.136 1186.68 L135.384 1188.04 L135.384 1184.58 L142.098 1183.22 L145.898 1183.22 L145.898 1208.1 L152.104 1208.1 L152.104 1211.3 L135.929 1211.3 L135.929 1208.1 Z\" fill=\"#000000\" fill-rule=\"evenodd\" fill-opacity=\"1\" /><path clip-path=\"url(#clip560)\" d=\"M159.778 1206.52 L163.746 1206.52 L163.746 1211.3 L159.778 1211.3 L159.778 1206.52 Z\" fill=\"#000000\" fill-rule=\"evenodd\" fill-opacity=\"1\" /><path clip-path=\"url(#clip560)\" d=\"M180.147 1185.72 Q177.213 1185.72 175.727 1188.62 Q174.26 1191.5 174.26 1197.29 Q174.26 1203.06 175.727 1205.96 Q177.213 1208.84 180.147 1208.84 Q183.099 1208.84 184.566 1205.96 Q186.052 1203.06 186.052 1197.29 Q186.052 1191.5 184.566 1188.62 Q183.099 1185.72 180.147 1185.72 M180.147 1182.71 Q184.867 1182.71 187.35 1186.46 Q189.851 1190.18 189.851 1197.29 Q189.851 1204.38 187.35 1208.12 Q184.867 1211.85 180.147 1211.85 Q175.426 1211.85 172.924 1208.12 Q170.442 1204.38 170.442 1197.29 Q170.442 1190.18 172.924 1186.46 Q175.426 1182.71 180.147 1182.71 Z\" fill=\"#000000\" fill-rule=\"evenodd\" fill-opacity=\"1\" /><path clip-path=\"url(#clip560)\" d=\"M52.4722 962.584 L60.111 962.584 L60.111 936.219 L51.8009 937.886 L51.8009 933.626 L60.0647 931.96 L64.7406 931.96 L64.7406 962.584 L72.3795 962.584 L72.3795 966.52 L52.4722 966.52 L52.4722 962.584 Z\" fill=\"#000000\" fill-rule=\"evenodd\" fill-opacity=\"1\" /><path clip-path=\"url(#clip560)\" d=\"M91.8238 935.038 Q88.2127 935.038 86.384 938.603 Q84.5785 942.145 84.5785 949.274 Q84.5785 956.381 86.384 959.946 Q88.2127 963.487 91.8238 963.487 Q95.458 963.487 97.2636 959.946 Q99.0923 956.381 99.0923 949.274 Q99.0923 942.145 97.2636 938.603 Q95.458 935.038 91.8238 935.038 M91.8238 931.335 Q97.6339 931.335 100.689 935.941 Q103.768 940.524 103.768 949.274 Q103.768 958.001 100.689 962.608 Q97.6339 967.191 91.8238 967.191 Q86.0136 967.191 82.935 962.608 Q79.8794 958.001 79.8794 949.274 Q79.8794 940.524 82.935 935.941 Q86.0136 931.335 91.8238 931.335 Z\" fill=\"#000000\" fill-rule=\"evenodd\" fill-opacity=\"1\" /><path clip-path=\"url(#clip560)\" d=\"M103.768 925.436 L127.88 925.436 L127.88 928.633 L103.768 928.633 L103.768 925.436 Z\" fill=\"#000000\" fill-rule=\"evenodd\" fill-opacity=\"1\" /><path clip-path=\"url(#clip560)\" d=\"M144.205 913.531 Q141.271 913.531 139.785 916.427 Q138.318 919.305 138.318 925.097 Q138.318 930.871 139.785 933.768 Q141.271 936.645 144.205 936.645 Q147.158 936.645 148.625 933.768 Q150.111 930.871 150.111 925.097 Q150.111 919.305 148.625 916.427 Q147.158 913.531 144.205 913.531 M144.205 910.521 Q148.926 910.521 151.408 914.264 Q153.91 917.988 153.91 925.097 Q153.91 932.188 151.408 935.931 Q148.926 939.655 144.205 939.655 Q139.484 939.655 136.983 935.931 Q134.5 932.188 134.5 925.097 Q134.5 917.988 136.983 914.264 Q139.484 910.521 144.205 910.521 Z\" fill=\"#000000\" fill-rule=\"evenodd\" fill-opacity=\"1\" /><path clip-path=\"url(#clip560)\" d=\"M160.586 934.332 L164.555 934.332 L164.555 939.109 L160.586 939.109 L160.586 934.332 Z\" fill=\"#000000\" fill-rule=\"evenodd\" fill-opacity=\"1\" /><path clip-path=\"url(#clip560)\" d=\"M172.868 911.029 L187.782 911.029 L187.782 914.227 L176.347 914.227 L176.347 921.11 Q177.175 920.828 178.002 920.696 Q178.83 920.546 179.658 920.546 Q184.359 920.546 187.105 923.123 Q189.851 925.699 189.851 930.1 Q189.851 934.633 187.03 937.153 Q184.209 939.655 179.074 939.655 Q177.307 939.655 175.463 939.354 Q173.639 939.053 171.683 938.451 L171.683 934.633 Q173.376 935.555 175.181 936.006 Q176.987 936.457 178.999 936.457 Q182.253 936.457 184.153 934.746 Q186.052 933.034 186.052 930.1 Q186.052 927.166 184.153 925.455 Q182.253 923.743 178.999 923.743 Q177.476 923.743 175.952 924.082 Q174.448 924.42 172.868 925.135 L172.868 911.029 Z\" fill=\"#000000\" fill-rule=\"evenodd\" fill-opacity=\"1\" /><path clip-path=\"url(#clip560)\" d=\"M82.3953 690.392 L90.0342 690.392 L90.0342 664.026 L81.724 665.693 L81.724 661.434 L89.9879 659.767 L94.6638 659.767 L94.6638 690.392 L102.303 690.392 L102.303 694.327 L82.3953 694.327 L82.3953 690.392 Z\" fill=\"#000000\" fill-rule=\"evenodd\" fill-opacity=\"1\" /><path clip-path=\"url(#clip560)\" d=\"M121.747 662.846 Q118.136 662.846 116.307 666.411 Q114.502 669.952 114.502 677.082 Q114.502 684.188 116.307 687.753 Q118.136 691.295 121.747 691.295 Q125.381 691.295 127.187 687.753 Q129.015 684.188 129.015 677.082 Q129.015 669.952 127.187 666.411 Q125.381 662.846 121.747 662.846 M121.747 659.142 Q127.557 659.142 130.613 663.749 Q133.691 668.332 133.691 677.082 Q133.691 685.809 130.613 690.415 Q127.557 694.998 121.747 694.998 Q115.937 694.998 112.858 690.415 Q109.803 685.809 109.803 677.082 Q109.803 668.332 112.858 663.749 Q115.937 659.142 121.747 659.142 Z\" fill=\"#000000\" fill-rule=\"evenodd\" fill-opacity=\"1\" /><path clip-path=\"url(#clip560)\" d=\"M143.396 641.338 Q140.462 641.338 138.976 644.234 Q137.509 647.112 137.509 652.905 Q137.509 658.679 138.976 661.575 Q140.462 664.453 143.396 664.453 Q146.349 664.453 147.816 661.575 Q149.302 658.679 149.302 652.905 Q149.302 647.112 147.816 644.234 Q146.349 641.338 143.396 641.338 M143.396 638.329 Q148.117 638.329 150.6 642.072 Q153.101 645.796 153.101 652.905 Q153.101 659.995 150.6 663.738 Q148.117 667.462 143.396 667.462 Q138.675 667.462 136.174 663.738 Q133.691 659.995 133.691 652.905 Q133.691 645.796 136.174 642.072 Q138.675 638.329 143.396 638.329 Z\" fill=\"#000000\" fill-rule=\"evenodd\" fill-opacity=\"1\" /><path clip-path=\"url(#clip560)\" d=\"M159.778 662.139 L163.746 662.139 L163.746 666.917 L159.778 666.917 L159.778 662.139 Z\" fill=\"#000000\" fill-rule=\"evenodd\" fill-opacity=\"1\" /><path clip-path=\"url(#clip560)\" d=\"M180.147 641.338 Q177.213 641.338 175.727 644.234 Q174.26 647.112 174.26 652.905 Q174.26 658.679 175.727 661.575 Q177.213 664.453 180.147 664.453 Q183.099 664.453 184.566 661.575 Q186.052 658.679 186.052 652.905 Q186.052 647.112 184.566 644.234 Q183.099 641.338 180.147 641.338 M180.147 638.329 Q184.867 638.329 187.35 642.072 Q189.851 645.796 189.851 652.905 Q189.851 659.995 187.35 663.738 Q184.867 667.462 180.147 667.462 Q175.426 667.462 172.924 663.738 Q170.442 659.995 170.442 652.905 Q170.442 645.796 172.924 642.072 Q175.426 638.329 180.147 638.329 Z\" fill=\"#000000\" fill-rule=\"evenodd\" fill-opacity=\"1\" /><path clip-path=\"url(#clip560)\" d=\"M83.204 418.199 L90.8429 418.199 L90.8429 391.834 L82.5328 393.5 L82.5328 389.241 L90.7966 387.574 L95.4725 387.574 L95.4725 418.199 L103.111 418.199 L103.111 422.134 L83.204 422.134 L83.204 418.199 Z\" fill=\"#000000\" fill-rule=\"evenodd\" fill-opacity=\"1\" /><path clip-path=\"url(#clip560)\" d=\"M122.556 390.653 Q118.945 390.653 117.116 394.218 Q115.31 397.76 115.31 404.889 Q115.31 411.996 117.116 415.56 Q118.945 419.102 122.556 419.102 Q126.19 419.102 127.995 415.56 Q129.824 411.996 129.824 404.889 Q129.824 397.76 127.995 394.218 Q126.19 390.653 122.556 390.653 M122.556 386.949 Q128.366 386.949 131.421 391.556 Q134.5 396.139 134.5 404.889 Q134.5 413.616 131.421 418.222 Q128.366 422.806 122.556 422.806 Q116.746 422.806 113.667 418.222 Q110.611 413.616 110.611 404.889 Q110.611 396.139 113.667 391.556 Q116.746 386.949 122.556 386.949 Z\" fill=\"#000000\" fill-rule=\"evenodd\" fill-opacity=\"1\" /><path clip-path=\"url(#clip560)\" d=\"M144.205 369.146 Q141.271 369.146 139.785 372.042 Q138.318 374.92 138.318 380.712 Q138.318 386.486 139.785 389.383 Q141.271 392.26 144.205 392.26 Q147.158 392.26 148.625 389.383 Q150.111 386.486 150.111 380.712 Q150.111 374.92 148.625 372.042 Q147.158 369.146 144.205 369.146 M144.205 366.136 Q148.926 366.136 151.408 369.879 Q153.91 373.603 153.91 380.712 Q153.91 387.803 151.408 391.546 Q148.926 395.27 144.205 395.27 Q139.484 395.27 136.983 391.546 Q134.5 387.803 134.5 380.712 Q134.5 373.603 136.983 369.879 Q139.484 366.136 144.205 366.136 Z\" fill=\"#000000\" fill-rule=\"evenodd\" fill-opacity=\"1\" /><path clip-path=\"url(#clip560)\" d=\"M160.586 389.947 L164.555 389.947 L164.555 394.724 L160.586 394.724 L160.586 389.947 Z\" fill=\"#000000\" fill-rule=\"evenodd\" fill-opacity=\"1\" /><path clip-path=\"url(#clip560)\" d=\"M172.868 366.644 L187.782 366.644 L187.782 369.841 L176.347 369.841 L176.347 376.725 Q177.175 376.443 178.002 376.311 Q178.83 376.161 179.658 376.161 Q184.359 376.161 187.105 378.737 Q189.851 381.314 189.851 385.715 Q189.851 390.248 187.03 392.768 Q184.209 395.27 179.074 395.27 Q177.307 395.27 175.463 394.969 Q173.639 394.668 171.683 394.066 L171.683 390.248 Q173.376 391.169 175.181 391.621 Q176.987 392.072 178.999 392.072 Q182.253 392.072 184.153 390.361 Q186.052 388.649 186.052 385.715 Q186.052 382.781 184.153 381.07 Q182.253 379.358 178.999 379.358 Q177.476 379.358 175.952 379.697 Q174.448 380.035 172.868 380.75 L172.868 366.644 Z\" fill=\"#000000\" fill-rule=\"evenodd\" fill-opacity=\"1\" /><path clip-path=\"url(#clip560)\" d=\"M84.088 146.007 L91.7269 146.007 L91.7269 119.641 L83.4167 121.308 L83.4167 117.049 L91.6806 115.382 L96.3565 115.382 L96.3565 146.007 L103.995 146.007 L103.995 149.942 L84.088 149.942 L84.088 146.007 Z\" fill=\"#000000\" fill-rule=\"evenodd\" fill-opacity=\"1\" /><path clip-path=\"url(#clip560)\" d=\"M123.44 118.461 Q119.829 118.461 118 122.025 Q116.194 125.567 116.194 132.697 Q116.194 139.803 118 143.368 Q119.829 146.91 123.44 146.91 Q127.074 146.91 128.879 143.368 Q130.708 139.803 130.708 132.697 Q130.708 125.567 128.879 122.025 Q127.074 118.461 123.44 118.461 M123.44 114.757 Q129.25 114.757 132.305 119.363 Q135.384 123.947 135.384 132.697 Q135.384 141.423 132.305 146.03 Q129.25 150.613 123.44 150.613 Q117.63 150.613 114.551 146.03 Q111.495 141.423 111.495 132.697 Q111.495 123.947 114.551 119.363 Q117.63 114.757 123.44 114.757 Z\" fill=\"#000000\" fill-rule=\"evenodd\" fill-opacity=\"1\" /><path clip-path=\"url(#clip560)\" d=\"M135.929 119.334 L142.136 119.334 L142.136 97.9121 L135.384 99.2663 L135.384 95.8057 L142.098 94.4515 L145.898 94.4515 L145.898 119.334 L152.104 119.334 L152.104 122.532 L135.929 122.532 L135.929 119.334 Z\" fill=\"#000000\" fill-rule=\"evenodd\" fill-opacity=\"1\" /><path clip-path=\"url(#clip560)\" d=\"M159.778 117.754 L163.746 117.754 L163.746 122.532 L159.778 122.532 L159.778 117.754 Z\" fill=\"#000000\" fill-rule=\"evenodd\" fill-opacity=\"1\" /><path clip-path=\"url(#clip560)\" d=\"M180.147 96.9529 Q177.213 96.9529 175.727 99.8493 Q174.26 102.727 174.26 108.52 Q174.26 114.294 175.727 117.19 Q177.213 120.068 180.147 120.068 Q183.099 120.068 184.566 117.19 Q186.052 114.294 186.052 108.52 Q186.052 102.727 184.566 99.8493 Q183.099 96.9529 180.147 96.9529 M180.147 93.9437 Q184.867 93.9437 187.35 97.6864 Q189.851 101.41 189.851 108.52 Q189.851 115.61 187.35 119.353 Q184.867 123.077 180.147 123.077 Q175.426 123.077 172.924 119.353 Q170.442 115.61 170.442 108.52 Q170.442 101.41 172.924 97.6864 Q175.426 93.9437 180.147 93.9437 Z\" fill=\"#000000\" fill-rule=\"evenodd\" fill-opacity=\"1\" /><path clip-path=\"url(#clip560)\" d=\"M1157.28 12.096 L1165.47 12.096 L1165.47 65.6895 L1194.92 65.6895 L1194.92 72.576 L1157.28 72.576 L1157.28 12.096 Z\" fill=\"#000000\" fill-rule=\"evenodd\" fill-opacity=\"1\" /><path clip-path=\"url(#clip560)\" d=\"M1219.3 32.4315 Q1213.31 32.4315 1209.82 37.1306 Q1206.34 41.7891 1206.34 49.9314 Q1206.34 58.0738 1209.78 62.7728 Q1213.27 67.4314 1219.3 67.4314 Q1225.26 67.4314 1228.74 62.7323 Q1232.23 58.0333 1232.23 49.9314 Q1232.23 41.8701 1228.74 37.1711 Q1225.26 32.4315 1219.3 32.4315 M1219.3 26.1121 Q1229.03 26.1121 1234.58 32.4315 Q1240.13 38.7509 1240.13 49.9314 Q1240.13 61.0714 1234.58 67.4314 Q1229.03 73.7508 1219.3 73.7508 Q1209.54 73.7508 1203.99 67.4314 Q1198.48 61.0714 1198.48 49.9314 Q1198.48 38.7509 1203.99 32.4315 Q1209.54 26.1121 1219.3 26.1121 Z\" fill=\"#000000\" fill-rule=\"evenodd\" fill-opacity=\"1\" /><path clip-path=\"url(#clip560)\" d=\"M1281.4 28.5427 L1281.4 35.5912 Q1278.24 33.9709 1274.84 33.1607 Q1271.44 32.3505 1267.79 32.3505 Q1262.24 32.3505 1259.45 34.0519 Q1256.69 35.7533 1256.69 39.156 Q1256.69 41.7486 1258.68 43.2475 Q1260.66 44.7058 1266.66 46.0426 L1269.21 46.6097 Q1277.15 48.3111 1280.47 51.4303 Q1283.83 54.509 1283.83 60.0587 Q1283.83 66.3781 1278.81 70.0644 Q1273.83 73.7508 1265.08 73.7508 Q1261.43 73.7508 1257.46 73.0216 Q1253.53 72.3329 1249.16 70.9151 L1249.16 63.2184 Q1253.29 65.3654 1257.3 66.4591 Q1261.31 67.5124 1265.24 67.5124 Q1270.51 67.5124 1273.34 65.73 Q1276.18 63.9071 1276.18 60.6258 Q1276.18 57.5877 1274.11 55.9673 Q1272.09 54.3469 1265.16 52.8481 L1262.57 52.2405 Q1255.64 50.7821 1252.56 47.7845 Q1249.48 44.7463 1249.48 39.4801 Q1249.48 33.0797 1254.02 29.5959 Q1258.56 26.1121 1266.9 26.1121 Q1271.03 26.1121 1274.68 26.7198 Q1278.33 27.3274 1281.4 28.5427 Z\" fill=\"#000000\" fill-rule=\"evenodd\" fill-opacity=\"1\" /><path clip-path=\"url(#clip560)\" d=\"M1324.63 28.5427 L1324.63 35.5912 Q1321.47 33.9709 1318.07 33.1607 Q1314.66 32.3505 1311.02 32.3505 Q1305.47 32.3505 1302.67 34.0519 Q1299.92 35.7533 1299.92 39.156 Q1299.92 41.7486 1301.9 43.2475 Q1303.89 44.7058 1309.88 46.0426 L1312.43 46.6097 Q1320.37 48.3111 1323.7 51.4303 Q1327.06 54.509 1327.06 60.0587 Q1327.06 66.3781 1322.03 70.0644 Q1317.05 73.7508 1308.3 73.7508 Q1304.66 73.7508 1300.69 73.0216 Q1296.76 72.3329 1292.38 70.9151 L1292.38 63.2184 Q1296.51 65.3654 1300.52 66.4591 Q1304.54 67.5124 1308.46 67.5124 Q1313.73 67.5124 1316.57 65.73 Q1319.4 63.9071 1319.4 60.6258 Q1319.4 57.5877 1317.34 55.9673 Q1315.31 54.3469 1308.38 52.8481 L1305.79 52.2405 Q1298.86 50.7821 1295.79 47.7845 Q1292.71 44.7463 1292.71 39.4801 Q1292.71 33.0797 1297.24 29.5959 Q1301.78 26.1121 1310.13 26.1121 Q1314.26 26.1121 1317.9 26.7198 Q1321.55 27.3274 1324.63 28.5427 Z\" fill=\"#000000\" fill-rule=\"evenodd\" fill-opacity=\"1\" /><path clip-path=\"url(#clip560)\" d=\"M1377.73 48.0275 L1377.73 51.6733 L1343.46 51.6733 Q1343.95 59.3701 1348.08 63.421 Q1352.25 67.4314 1359.67 67.4314 Q1363.96 67.4314 1367.97 66.3781 Q1372.02 65.3249 1375.99 63.2184 L1375.99 70.267 Q1371.98 71.9684 1367.77 72.8596 Q1363.56 73.7508 1359.22 73.7508 Q1348.37 73.7508 1342.01 67.4314 Q1335.69 61.1119 1335.69 50.3365 Q1335.69 39.1965 1341.68 32.6746 Q1347.72 26.1121 1357.93 26.1121 Q1367.08 26.1121 1372.39 32.0264 Q1377.73 37.9003 1377.73 48.0275 M1370.28 45.84 Q1370.2 39.7232 1366.84 36.0774 Q1363.52 32.4315 1358.01 32.4315 Q1351.77 32.4315 1348 35.9558 Q1344.27 39.4801 1343.71 45.8805 L1370.28 45.84 Z\" fill=\"#000000\" fill-rule=\"evenodd\" fill-opacity=\"1\" /><path clip-path=\"url(#clip560)\" d=\"M1418.89 28.5427 L1418.89 35.5912 Q1415.73 33.9709 1412.33 33.1607 Q1408.93 32.3505 1405.28 32.3505 Q1399.73 32.3505 1396.94 34.0519 Q1394.18 35.7533 1394.18 39.156 Q1394.18 41.7486 1396.17 43.2475 Q1398.15 44.7058 1404.15 46.0426 L1406.7 46.6097 Q1414.64 48.3111 1417.96 51.4303 Q1421.32 54.509 1421.32 60.0587 Q1421.32 66.3781 1416.3 70.0644 Q1411.32 73.7508 1402.57 73.7508 Q1398.92 73.7508 1394.95 73.0216 Q1391.02 72.3329 1386.65 70.9151 L1386.65 63.2184 Q1390.78 65.3654 1394.79 66.4591 Q1398.8 67.5124 1402.73 67.5124 Q1408 67.5124 1410.83 65.73 Q1413.67 63.9071 1413.67 60.6258 Q1413.67 57.5877 1411.6 55.9673 Q1409.57 54.3469 1402.65 52.8481 L1400.06 52.2405 Q1393.13 50.7821 1390.05 47.7845 Q1386.97 44.7463 1386.97 39.4801 Q1386.97 33.0797 1391.51 29.5959 Q1396.04 26.1121 1404.39 26.1121 Q1408.52 26.1121 1412.17 26.7198 Q1415.81 27.3274 1418.89 28.5427 Z\" fill=\"#000000\" fill-rule=\"evenodd\" fill-opacity=\"1\" /><polyline clip-path=\"url(#clip562)\" style=\"stroke:#009af9; stroke-linecap:butt; stroke-linejoin:round; stroke-width:4; stroke-opacity:1; fill:none\" points=\"\n",
       "  286.047,162.047 296.13,166.23 306.213,170.507 316.296,174.871 326.379,179.32 336.462,183.851 346.545,188.46 356.628,193.143 366.711,197.897 376.794,202.715 \n",
       "  386.877,207.594 396.96,212.528 407.043,217.512 417.126,222.541 427.209,227.61 437.292,232.713 447.374,237.847 457.457,243.007 467.54,248.187 477.623,253.383 \n",
       "  487.706,258.591 497.789,263.806 507.872,269.025 517.955,274.244 528.038,279.459 538.121,284.666 548.204,289.863 558.287,295.047 568.37,300.215 578.453,305.366 \n",
       "  588.536,310.497 598.619,315.607 608.702,320.695 618.785,325.76 628.868,330.801 638.951,335.818 649.034,340.812 659.117,345.782 669.2,350.73 679.283,355.655 \n",
       "  689.366,360.559 699.449,365.443 709.532,370.308 719.615,375.156 729.698,379.988 739.781,384.806 749.864,389.612 759.947,394.407 770.03,399.193 780.113,403.973 \n",
       "  790.196,408.748 800.279,413.52 810.362,418.291 820.445,423.064 830.528,427.84 840.611,432.622 850.694,437.411 860.777,442.21 870.86,447.021 880.943,451.845 \n",
       "  891.026,456.685 901.109,461.542 911.192,466.419 921.275,471.317 931.358,476.238 941.441,481.185 951.524,486.159 961.607,491.161 971.69,496.193 981.773,501.258 \n",
       "  991.856,506.357 1001.94,511.492 1012.02,516.664 1022.1,521.876 1032.19,527.128 1042.27,532.423 1052.35,537.763 1062.44,543.15 1072.52,548.586 1082.6,554.071 \n",
       "  1092.69,559.61 1102.77,565.203 1112.85,570.853 1122.93,576.563 1133.02,582.334 1143.1,588.17 1153.18,594.072 1163.27,600.044 1173.35,606.089 1183.43,612.209 \n",
       "  1193.52,618.409 1203.6,624.691 1213.68,631.058 1223.76,637.516 1233.85,644.068 1243.93,650.718 1254.01,657.471 1264.1,664.331 1274.18,671.305 1284.26,678.398 \n",
       "  1294.35,685.615 1304.43,692.964 1314.51,700.451 1324.59,708.083 1334.68,715.869 1344.76,723.818 1354.84,731.938 1364.93,740.241 1375.01,748.736 1385.09,757.437 \n",
       "  1395.17,766.356 1405.26,775.508 1415.34,784.909 1425.42,794.577 1435.51,804.531 1445.59,814.792 1455.67,825.385 1465.76,836.337 1475.84,847.677 1485.92,859.44 \n",
       "  1496,871.664 1506.09,884.393 1516.17,897.678 1526.25,911.576 1536.34,926.154 1546.42,941.492 1556.5,957.68 1566.59,974.83 1576.67,993.071 1586.75,1012.56 \n",
       "  1596.83,1033.5 1606.92,1056.12 1617,1080.73 1627.08,1107.69 1637.17,1137.51 1647.25,1170.78 1657.33,1208.28 1667.42,1250.89 1677.5,1299.34 1687.58,1353.06 \n",
       "  1697.66,1406.52 1707.75,1442.92 1717.83,1443.42 1727.91,1416.57 1738,1383.99 1748.08,1356.18 1758.16,1335.38 1768.25,1321.24 1778.33,1312.94 1788.41,1309.72 \n",
       "  1798.49,1311 1808.58,1316.39 1818.66,1325.57 1828.74,1338.29 1838.83,1354.24 1848.91,1372.9 1858.99,1393.3 1869.08,1413.72 1879.16,1431.49 1889.24,1443.53 \n",
       "  1899.32,1447.87 1909.41,1445.08 1919.49,1437.88 1929.57,1429.4 1939.66,1421.94 1949.74,1416.76 1959.82,1414.36 1969.91,1414.75 1979.99,1417.63 1990.07,1422.46 \n",
       "  2000.15,1428.5 2010.24,1434.88 2020.32,1440.65 2030.4,1444.98 2040.49,1447.38 2050.57,1447.82 2060.65,1446.71 2070.73,1444.71 2080.82,1442.5 2090.9,1440.66 \n",
       "  2100.98,1439.52 2111.07,1439.25 2121.15,1439.81 2131.23,1441.02 2141.32,1442.63 2151.4,1444.35 2161.48,1445.89 2171.56,1447.04 2181.65,1447.7 2191.73,1447.87 \n",
       "  2201.81,1447.65 2211.9,1447.21 2221.98,1446.7 2232.06,1446.28 2242.15,1446.04 2252.23,1446.03 2262.31,1446.21 2272.39,1446.54 2282.48,1446.94 2292.56,1447.32 \n",
       "  \n",
       "  \"/>\n",
       "<path clip-path=\"url(#clip560)\" d=\"\n",
       "M1993.11 289.865 L2281.86 289.865 L2281.86 168.905 L1993.11 168.905  Z\n",
       "  \" fill=\"#ffffff\" fill-rule=\"evenodd\" fill-opacity=\"1\"/>\n",
       "<polyline clip-path=\"url(#clip560)\" style=\"stroke:#000000; stroke-linecap:butt; stroke-linejoin:round; stroke-width:4; stroke-opacity:1; fill:none\" points=\"\n",
       "  1993.11,289.865 2281.86,289.865 2281.86,168.905 1993.11,168.905 1993.11,289.865 \n",
       "  \"/>\n",
       "<polyline clip-path=\"url(#clip560)\" style=\"stroke:#009af9; stroke-linecap:butt; stroke-linejoin:round; stroke-width:4; stroke-opacity:1; fill:none\" points=\"\n",
       "  2016.74,229.385 2158.53,229.385 \n",
       "  \"/>\n",
       "<path clip-path=\"url(#clip560)\" d=\"M2196.01 249.072 Q2194.2 253.702 2192.49 255.114 Q2190.78 256.526 2187.9 256.526 L2184.5 256.526 L2184.5 252.961 L2187 252.961 Q2188.76 252.961 2189.73 252.128 Q2190.71 251.294 2191.89 248.192 L2192.65 246.248 L2182.16 220.739 L2186.68 220.739 L2194.78 241.017 L2202.88 220.739 L2207.4 220.739 L2196.01 249.072 Z\" fill=\"#000000\" fill-rule=\"evenodd\" fill-opacity=\"1\" /><path clip-path=\"url(#clip560)\" d=\"M2214.69 242.729 L2222.33 242.729 L2222.33 216.364 L2214.02 218.031 L2214.02 213.771 L2222.28 212.105 L2226.96 212.105 L2226.96 242.729 L2234.59 242.729 L2234.59 246.665 L2214.69 246.665 L2214.69 242.729 Z\" fill=\"#000000\" fill-rule=\"evenodd\" fill-opacity=\"1\" /></svg>\n"
      ]
     },
     "execution_count": 13,
     "metadata": {},
     "output_type": "execute_result"
    }
   ],
   "source": [
    "plot(losses, yaxis=:log, title=\"Losses\")"
   ]
  },
  {
   "cell_type": "code",
   "execution_count": 16,
   "id": "7f3d536c",
   "metadata": {},
   "outputs": [
    {
     "data": {
      "image/svg+xml": [
       "<?xml version=\"1.0\" encoding=\"utf-8\"?>\n",
       "<svg xmlns=\"http://www.w3.org/2000/svg\" xmlns:xlink=\"http://www.w3.org/1999/xlink\" width=\"600\" height=\"400\" viewBox=\"0 0 2400 1600\">\n",
       "<defs>\n",
       "  <clipPath id=\"clip600\">\n",
       "    <rect x=\"0\" y=\"0\" width=\"2400\" height=\"1600\"/>\n",
       "  </clipPath>\n",
       "</defs>\n",
       "<path clip-path=\"url(#clip600)\" d=\"\n",
       "M0 1600 L2400 1600 L2400 0 L0 0  Z\n",
       "  \" fill=\"#ffffff\" fill-rule=\"evenodd\" fill-opacity=\"1\"/>\n",
       "<defs>\n",
       "  <clipPath id=\"clip601\">\n",
       "    <rect x=\"480\" y=\"0\" width=\"1681\" height=\"1600\"/>\n",
       "  </clipPath>\n",
       "</defs>\n",
       "<path clip-path=\"url(#clip600)\" d=\"\n",
       "M175.445 1423.18 L2352.76 1423.18 L2352.76 123.472 L175.445 123.472  Z\n",
       "  \" fill=\"#ffffff\" fill-rule=\"evenodd\" fill-opacity=\"1\"/>\n",
       "<defs>\n",
       "  <clipPath id=\"clip602\">\n",
       "    <rect x=\"175\" y=\"123\" width=\"2178\" height=\"1301\"/>\n",
       "  </clipPath>\n",
       "</defs>\n",
       "<polyline clip-path=\"url(#clip602)\" style=\"stroke:#000000; stroke-linecap:butt; stroke-linejoin:round; stroke-width:2; stroke-opacity:0.1; fill:none\" points=\"\n",
       "  237.067,1423.18 237.067,123.472 \n",
       "  \"/>\n",
       "<polyline clip-path=\"url(#clip602)\" style=\"stroke:#000000; stroke-linecap:butt; stroke-linejoin:round; stroke-width:2; stroke-opacity:0.1; fill:none\" points=\"\n",
       "  647.881,1423.18 647.881,123.472 \n",
       "  \"/>\n",
       "<polyline clip-path=\"url(#clip602)\" style=\"stroke:#000000; stroke-linecap:butt; stroke-linejoin:round; stroke-width:2; stroke-opacity:0.1; fill:none\" points=\"\n",
       "  1058.69,1423.18 1058.69,123.472 \n",
       "  \"/>\n",
       "<polyline clip-path=\"url(#clip602)\" style=\"stroke:#000000; stroke-linecap:butt; stroke-linejoin:round; stroke-width:2; stroke-opacity:0.1; fill:none\" points=\"\n",
       "  1469.51,1423.18 1469.51,123.472 \n",
       "  \"/>\n",
       "<polyline clip-path=\"url(#clip602)\" style=\"stroke:#000000; stroke-linecap:butt; stroke-linejoin:round; stroke-width:2; stroke-opacity:0.1; fill:none\" points=\"\n",
       "  1880.32,1423.18 1880.32,123.472 \n",
       "  \"/>\n",
       "<polyline clip-path=\"url(#clip602)\" style=\"stroke:#000000; stroke-linecap:butt; stroke-linejoin:round; stroke-width:2; stroke-opacity:0.1; fill:none\" points=\"\n",
       "  2291.13,1423.18 2291.13,123.472 \n",
       "  \"/>\n",
       "<polyline clip-path=\"url(#clip600)\" style=\"stroke:#000000; stroke-linecap:butt; stroke-linejoin:round; stroke-width:4; stroke-opacity:1; fill:none\" points=\"\n",
       "  175.445,1423.18 2352.76,1423.18 \n",
       "  \"/>\n",
       "<polyline clip-path=\"url(#clip600)\" style=\"stroke:#000000; stroke-linecap:butt; stroke-linejoin:round; stroke-width:4; stroke-opacity:1; fill:none\" points=\"\n",
       "  237.067,1423.18 237.067,1407.58 \n",
       "  \"/>\n",
       "<polyline clip-path=\"url(#clip600)\" style=\"stroke:#000000; stroke-linecap:butt; stroke-linejoin:round; stroke-width:4; stroke-opacity:1; fill:none\" points=\"\n",
       "  647.881,1423.18 647.881,1407.58 \n",
       "  \"/>\n",
       "<polyline clip-path=\"url(#clip600)\" style=\"stroke:#000000; stroke-linecap:butt; stroke-linejoin:round; stroke-width:4; stroke-opacity:1; fill:none\" points=\"\n",
       "  1058.69,1423.18 1058.69,1407.58 \n",
       "  \"/>\n",
       "<polyline clip-path=\"url(#clip600)\" style=\"stroke:#000000; stroke-linecap:butt; stroke-linejoin:round; stroke-width:4; stroke-opacity:1; fill:none\" points=\"\n",
       "  1469.51,1423.18 1469.51,1407.58 \n",
       "  \"/>\n",
       "<polyline clip-path=\"url(#clip600)\" style=\"stroke:#000000; stroke-linecap:butt; stroke-linejoin:round; stroke-width:4; stroke-opacity:1; fill:none\" points=\"\n",
       "  1880.32,1423.18 1880.32,1407.58 \n",
       "  \"/>\n",
       "<polyline clip-path=\"url(#clip600)\" style=\"stroke:#000000; stroke-linecap:butt; stroke-linejoin:round; stroke-width:4; stroke-opacity:1; fill:none\" points=\"\n",
       "  2291.13,1423.18 2291.13,1407.58 \n",
       "  \"/>\n",
       "<path clip-path=\"url(#clip600)\" d=\"M237.067 1452.37 Q233.456 1452.37 231.627 1455.94 Q229.822 1459.48 229.822 1466.61 Q229.822 1473.71 231.627 1477.28 Q233.456 1480.82 237.067 1480.82 Q240.701 1480.82 242.507 1477.28 Q244.336 1473.71 244.336 1466.61 Q244.336 1459.48 242.507 1455.94 Q240.701 1452.37 237.067 1452.37 M237.067 1448.67 Q242.877 1448.67 245.933 1453.27 Q249.012 1457.86 249.012 1466.61 Q249.012 1475.33 245.933 1479.94 Q242.877 1484.52 237.067 1484.52 Q231.257 1484.52 228.178 1479.94 Q225.123 1475.33 225.123 1466.61 Q225.123 1457.86 228.178 1453.27 Q231.257 1448.67 237.067 1448.67 Z\" fill=\"#000000\" fill-rule=\"evenodd\" fill-opacity=\"1\" /><path clip-path=\"url(#clip600)\" d=\"M638.263 1479.92 L645.901 1479.92 L645.901 1453.55 L637.591 1455.22 L637.591 1450.96 L645.855 1449.29 L650.531 1449.29 L650.531 1479.92 L658.17 1479.92 L658.17 1483.85 L638.263 1483.85 L638.263 1479.92 Z\" fill=\"#000000\" fill-rule=\"evenodd\" fill-opacity=\"1\" /><path clip-path=\"url(#clip600)\" d=\"M1053.35 1479.92 L1069.67 1479.92 L1069.67 1483.85 L1047.72 1483.85 L1047.72 1479.92 Q1050.38 1477.16 1054.97 1472.53 Q1059.57 1467.88 1060.75 1466.54 Q1063 1464.01 1063.88 1462.28 Q1064.78 1460.52 1064.78 1458.83 Q1064.78 1456.07 1062.84 1454.34 Q1060.92 1452.6 1057.81 1452.6 Q1055.62 1452.6 1053.16 1453.37 Q1050.73 1454.13 1047.95 1455.68 L1047.95 1450.96 Q1050.78 1449.82 1053.23 1449.25 Q1055.68 1448.67 1057.72 1448.67 Q1063.09 1448.67 1066.29 1451.35 Q1069.48 1454.04 1069.48 1458.53 Q1069.48 1460.66 1068.67 1462.58 Q1067.88 1464.48 1065.78 1467.07 Q1065.2 1467.74 1062.1 1470.96 Q1058.99 1474.15 1053.35 1479.92 Z\" fill=\"#000000\" fill-rule=\"evenodd\" fill-opacity=\"1\" /><path clip-path=\"url(#clip600)\" d=\"M1473.75 1465.22 Q1477.11 1465.94 1478.99 1468.2 Q1480.88 1470.47 1480.88 1473.81 Q1480.88 1478.92 1477.37 1481.72 Q1473.85 1484.52 1467.37 1484.52 Q1465.19 1484.52 1462.88 1484.08 Q1460.58 1483.67 1458.13 1482.81 L1458.13 1478.3 Q1460.07 1479.43 1462.39 1480.01 Q1464.7 1480.59 1467.23 1480.59 Q1471.63 1480.59 1473.92 1478.85 Q1476.23 1477.12 1476.23 1473.81 Q1476.23 1470.75 1474.08 1469.04 Q1471.95 1467.3 1468.13 1467.3 L1464.1 1467.3 L1464.1 1463.46 L1468.32 1463.46 Q1471.76 1463.46 1473.59 1462.09 Q1475.42 1460.7 1475.42 1458.11 Q1475.42 1455.45 1473.52 1454.04 Q1471.65 1452.6 1468.13 1452.6 Q1466.21 1452.6 1464.01 1453.02 Q1461.81 1453.44 1459.17 1454.31 L1459.17 1450.15 Q1461.83 1449.41 1464.15 1449.04 Q1466.49 1448.67 1468.55 1448.67 Q1473.87 1448.67 1476.97 1451.1 Q1480.07 1453.5 1480.07 1457.63 Q1480.07 1460.5 1478.43 1462.49 Q1476.79 1464.45 1473.75 1465.22 Z\" fill=\"#000000\" fill-rule=\"evenodd\" fill-opacity=\"1\" /><path clip-path=\"url(#clip600)\" d=\"M1883.33 1453.37 L1871.52 1471.81 L1883.33 1471.81 L1883.33 1453.37 M1882.1 1449.29 L1887.98 1449.29 L1887.98 1471.81 L1892.91 1471.81 L1892.91 1475.7 L1887.98 1475.7 L1887.98 1483.85 L1883.33 1483.85 L1883.33 1475.7 L1867.73 1475.7 L1867.73 1471.19 L1882.1 1449.29 Z\" fill=\"#000000\" fill-rule=\"evenodd\" fill-opacity=\"1\" /><path clip-path=\"url(#clip600)\" d=\"M2281.41 1449.29 L2299.77 1449.29 L2299.77 1453.23 L2285.69 1453.23 L2285.69 1461.7 Q2286.71 1461.35 2287.73 1461.19 Q2288.75 1461 2289.77 1461 Q2295.56 1461 2298.93 1464.18 Q2302.31 1467.35 2302.31 1472.76 Q2302.31 1478.34 2298.84 1481.44 Q2295.37 1484.52 2289.05 1484.52 Q2286.87 1484.52 2284.61 1484.15 Q2282.36 1483.78 2279.95 1483.04 L2279.95 1478.34 Q2282.04 1479.48 2284.26 1480.03 Q2286.48 1480.59 2288.96 1480.59 Q2292.96 1480.59 2295.3 1478.48 Q2297.64 1476.38 2297.64 1472.76 Q2297.64 1469.15 2295.3 1467.05 Q2292.96 1464.94 2288.96 1464.94 Q2287.08 1464.94 2285.21 1465.36 Q2283.36 1465.77 2281.41 1466.65 L2281.41 1449.29 Z\" fill=\"#000000\" fill-rule=\"evenodd\" fill-opacity=\"1\" /><path clip-path=\"url(#clip600)\" d=\"M1185.98 1520.52 L1226.18 1520.52 L1226.18 1525.93 L1209.31 1525.93 L1209.31 1568.04 L1202.85 1568.04 L1202.85 1525.93 L1185.98 1525.93 L1185.98 1520.52 Z\" fill=\"#000000\" fill-rule=\"evenodd\" fill-opacity=\"1\" /><path clip-path=\"url(#clip600)\" d=\"M1230.12 1532.4 L1235.98 1532.4 L1235.98 1568.04 L1230.12 1568.04 L1230.12 1532.4 M1230.12 1518.52 L1235.98 1518.52 L1235.98 1525.93 L1230.12 1525.93 L1230.12 1518.52 Z\" fill=\"#000000\" fill-rule=\"evenodd\" fill-opacity=\"1\" /><path clip-path=\"url(#clip600)\" d=\"M1275.99 1539.24 Q1278.18 1535.29 1281.24 1533.41 Q1284.3 1531.54 1288.43 1531.54 Q1294 1531.54 1297.03 1535.45 Q1300.05 1539.33 1300.05 1546.53 L1300.05 1568.04 L1294.16 1568.04 L1294.16 1546.72 Q1294.16 1541.59 1292.35 1539.11 Q1290.53 1536.63 1286.81 1536.63 Q1282.26 1536.63 1279.62 1539.65 Q1276.98 1542.68 1276.98 1547.9 L1276.98 1568.04 L1271.09 1568.04 L1271.09 1546.72 Q1271.09 1541.56 1269.27 1539.11 Q1267.46 1536.63 1263.67 1536.63 Q1259.18 1536.63 1256.54 1539.68 Q1253.9 1542.71 1253.9 1547.9 L1253.9 1568.04 L1248.01 1568.04 L1248.01 1532.4 L1253.9 1532.4 L1253.9 1537.93 Q1255.9 1534.66 1258.71 1533.1 Q1261.51 1531.54 1265.36 1531.54 Q1269.24 1531.54 1271.95 1533.51 Q1274.68 1535.48 1275.99 1539.24 Z\" fill=\"#000000\" fill-rule=\"evenodd\" fill-opacity=\"1\" /><path clip-path=\"url(#clip600)\" d=\"M1342.22 1548.76 L1342.22 1551.62 L1315.3 1551.62 Q1315.68 1557.67 1318.93 1560.85 Q1322.2 1564 1328.03 1564 Q1331.4 1564 1334.55 1563.17 Q1337.74 1562.35 1340.86 1560.69 L1340.86 1566.23 Q1337.7 1567.57 1334.39 1568.27 Q1331.08 1568.97 1327.68 1568.97 Q1319.15 1568.97 1314.15 1564 Q1309.19 1559.04 1309.19 1550.57 Q1309.19 1541.82 1313.9 1536.69 Q1318.64 1531.54 1326.66 1531.54 Q1333.85 1531.54 1338.02 1536.18 Q1342.22 1540.8 1342.22 1548.76 M1336.37 1547.04 Q1336.3 1542.23 1333.66 1539.37 Q1331.05 1536.5 1326.72 1536.5 Q1321.82 1536.5 1318.86 1539.27 Q1315.93 1542.04 1315.49 1547.07 L1336.37 1547.04 Z\" fill=\"#000000\" fill-rule=\"evenodd\" fill-opacity=\"1\" /><polyline clip-path=\"url(#clip602)\" style=\"stroke:#000000; stroke-linecap:butt; stroke-linejoin:round; stroke-width:2; stroke-opacity:0.1; fill:none\" points=\"\n",
       "  175.445,1386.4 2352.76,1386.4 \n",
       "  \"/>\n",
       "<polyline clip-path=\"url(#clip602)\" style=\"stroke:#000000; stroke-linecap:butt; stroke-linejoin:round; stroke-width:2; stroke-opacity:0.1; fill:none\" points=\"\n",
       "  175.445,1141.17 2352.76,1141.17 \n",
       "  \"/>\n",
       "<polyline clip-path=\"url(#clip602)\" style=\"stroke:#000000; stroke-linecap:butt; stroke-linejoin:round; stroke-width:2; stroke-opacity:0.1; fill:none\" points=\"\n",
       "  175.445,895.94 2352.76,895.94 \n",
       "  \"/>\n",
       "<polyline clip-path=\"url(#clip602)\" style=\"stroke:#000000; stroke-linecap:butt; stroke-linejoin:round; stroke-width:2; stroke-opacity:0.1; fill:none\" points=\"\n",
       "  175.445,650.712 2352.76,650.712 \n",
       "  \"/>\n",
       "<polyline clip-path=\"url(#clip602)\" style=\"stroke:#000000; stroke-linecap:butt; stroke-linejoin:round; stroke-width:2; stroke-opacity:0.1; fill:none\" points=\"\n",
       "  175.445,405.484 2352.76,405.484 \n",
       "  \"/>\n",
       "<polyline clip-path=\"url(#clip602)\" style=\"stroke:#000000; stroke-linecap:butt; stroke-linejoin:round; stroke-width:2; stroke-opacity:0.1; fill:none\" points=\"\n",
       "  175.445,160.256 2352.76,160.256 \n",
       "  \"/>\n",
       "<polyline clip-path=\"url(#clip600)\" style=\"stroke:#000000; stroke-linecap:butt; stroke-linejoin:round; stroke-width:4; stroke-opacity:1; fill:none\" points=\"\n",
       "  175.445,1423.18 175.445,123.472 \n",
       "  \"/>\n",
       "<polyline clip-path=\"url(#clip600)\" style=\"stroke:#000000; stroke-linecap:butt; stroke-linejoin:round; stroke-width:4; stroke-opacity:1; fill:none\" points=\"\n",
       "  175.445,1386.4 201.573,1386.4 \n",
       "  \"/>\n",
       "<polyline clip-path=\"url(#clip600)\" style=\"stroke:#000000; stroke-linecap:butt; stroke-linejoin:round; stroke-width:4; stroke-opacity:1; fill:none\" points=\"\n",
       "  175.445,1141.17 201.573,1141.17 \n",
       "  \"/>\n",
       "<polyline clip-path=\"url(#clip600)\" style=\"stroke:#000000; stroke-linecap:butt; stroke-linejoin:round; stroke-width:4; stroke-opacity:1; fill:none\" points=\"\n",
       "  175.445,895.94 201.573,895.94 \n",
       "  \"/>\n",
       "<polyline clip-path=\"url(#clip600)\" style=\"stroke:#000000; stroke-linecap:butt; stroke-linejoin:round; stroke-width:4; stroke-opacity:1; fill:none\" points=\"\n",
       "  175.445,650.712 201.573,650.712 \n",
       "  \"/>\n",
       "<polyline clip-path=\"url(#clip600)\" style=\"stroke:#000000; stroke-linecap:butt; stroke-linejoin:round; stroke-width:4; stroke-opacity:1; fill:none\" points=\"\n",
       "  175.445,405.484 201.573,405.484 \n",
       "  \"/>\n",
       "<polyline clip-path=\"url(#clip600)\" style=\"stroke:#000000; stroke-linecap:butt; stroke-linejoin:round; stroke-width:4; stroke-opacity:1; fill:none\" points=\"\n",
       "  175.445,160.256 201.573,160.256 \n",
       "  \"/>\n",
       "<path clip-path=\"url(#clip600)\" d=\"M123.126 1399.74 L139.445 1399.74 L139.445 1403.68 L117.501 1403.68 L117.501 1399.74 Q120.163 1396.99 124.746 1392.36 Q129.353 1387.7 130.533 1386.36 Q132.779 1383.84 133.658 1382.1 Q134.561 1380.34 134.561 1378.65 Q134.561 1375.9 132.617 1374.16 Q130.695 1372.43 127.593 1372.43 Q125.394 1372.43 122.941 1373.19 Q120.51 1373.95 117.732 1375.5 L117.732 1370.78 Q120.556 1369.65 123.01 1369.07 Q125.464 1368.49 127.501 1368.49 Q132.871 1368.49 136.066 1371.18 Q139.26 1373.86 139.26 1378.35 Q139.26 1380.48 138.45 1382.4 Q137.663 1384.3 135.556 1386.89 Q134.978 1387.56 131.876 1390.78 Q128.774 1393.98 123.126 1399.74 Z\" fill=\"#000000\" fill-rule=\"evenodd\" fill-opacity=\"1\" /><path clip-path=\"url(#clip600)\" d=\"M132.316 1139.81 Q135.672 1140.53 137.547 1142.8 Q139.445 1145.07 139.445 1148.4 Q139.445 1153.52 135.927 1156.32 Q132.408 1159.12 125.927 1159.12 Q123.751 1159.12 121.436 1158.68 Q119.144 1158.26 116.691 1157.41 L116.691 1152.89 Q118.635 1154.03 120.95 1154.61 Q123.265 1155.18 125.788 1155.18 Q130.186 1155.18 132.478 1153.45 Q134.792 1151.71 134.792 1148.4 Q134.792 1145.35 132.64 1143.63 Q130.51 1141.9 126.691 1141.9 L122.663 1141.9 L122.663 1138.05 L126.876 1138.05 Q130.325 1138.05 132.154 1136.69 Q133.982 1135.3 133.982 1132.71 Q133.982 1130.05 132.084 1128.63 Q130.209 1127.2 126.691 1127.2 Q124.769 1127.2 122.57 1127.61 Q120.371 1128.03 117.732 1128.91 L117.732 1124.74 Q120.394 1124 122.709 1123.63 Q125.047 1123.26 127.107 1123.26 Q132.431 1123.26 135.533 1125.69 Q138.635 1128.1 138.635 1132.22 Q138.635 1135.09 136.992 1137.08 Q135.348 1139.05 132.316 1139.81 Z\" fill=\"#000000\" fill-rule=\"evenodd\" fill-opacity=\"1\" /><path clip-path=\"url(#clip600)\" d=\"M129.862 882.734 L118.056 901.183 L129.862 901.183 L129.862 882.734 M128.635 878.66 L134.515 878.66 L134.515 901.183 L139.445 901.183 L139.445 905.072 L134.515 905.072 L134.515 913.22 L129.862 913.22 L129.862 905.072 L114.26 905.072 L114.26 900.558 L128.635 878.66 Z\" fill=\"#000000\" fill-rule=\"evenodd\" fill-opacity=\"1\" /><path clip-path=\"url(#clip600)\" d=\"M118.543 633.432 L136.899 633.432 L136.899 637.367 L122.825 637.367 L122.825 645.839 Q123.843 645.492 124.862 645.33 Q125.88 645.145 126.899 645.145 Q132.686 645.145 136.066 648.316 Q139.445 651.488 139.445 656.904 Q139.445 662.483 135.973 665.585 Q132.501 668.663 126.181 668.663 Q124.005 668.663 121.737 668.293 Q119.492 667.923 117.084 667.182 L117.084 662.483 Q119.168 663.617 121.39 664.173 Q123.612 664.728 126.089 664.728 Q130.093 664.728 132.431 662.622 Q134.769 660.515 134.769 656.904 Q134.769 653.293 132.431 651.187 Q130.093 649.08 126.089 649.08 Q124.214 649.08 122.339 649.497 Q120.487 649.913 118.543 650.793 L118.543 633.432 Z\" fill=\"#000000\" fill-rule=\"evenodd\" fill-opacity=\"1\" /><path clip-path=\"url(#clip600)\" d=\"M127.917 403.621 Q124.769 403.621 122.918 405.774 Q121.089 407.926 121.089 411.676 Q121.089 415.403 122.918 417.579 Q124.769 419.732 127.917 419.732 Q131.066 419.732 132.894 417.579 Q134.746 415.403 134.746 411.676 Q134.746 407.926 132.894 405.774 Q131.066 403.621 127.917 403.621 M137.2 388.968 L137.2 393.227 Q135.441 392.394 133.635 391.954 Q131.853 391.514 130.093 391.514 Q125.464 391.514 123.01 394.639 Q120.58 397.764 120.232 404.084 Q121.598 402.07 123.658 401.005 Q125.718 399.917 128.195 399.917 Q133.404 399.917 136.413 403.088 Q139.445 406.236 139.445 411.676 Q139.445 417 136.297 420.218 Q133.149 423.435 127.917 423.435 Q121.922 423.435 118.751 418.852 Q115.58 414.246 115.58 405.519 Q115.58 397.324 119.468 392.463 Q123.357 387.579 129.908 387.579 Q131.667 387.579 133.45 387.926 Q135.255 388.274 137.2 388.968 Z\" fill=\"#000000\" fill-rule=\"evenodd\" fill-opacity=\"1\" /><path clip-path=\"url(#clip600)\" d=\"M117.223 142.976 L139.445 142.976 L139.445 144.967 L126.899 177.536 L122.015 177.536 L133.82 146.911 L117.223 146.911 L117.223 142.976 Z\" fill=\"#000000\" fill-rule=\"evenodd\" fill-opacity=\"1\" /><path clip-path=\"url(#clip600)\" d=\"M21.7677 985.988 L58.7206 985.988 L58.7206 978.222 Q58.7206 968.387 54.2646 963.836 Q49.8086 959.252 40.1964 959.252 Q30.6479 959.252 26.2237 963.836 Q21.7677 968.387 21.7677 978.222 L21.7677 985.988 M16.4842 992.418 L16.4842 979.209 Q16.4842 965.395 22.2451 958.934 Q27.9743 952.473 40.1964 952.473 Q52.4822 952.473 58.2432 958.966 Q64.0042 965.459 64.0042 979.209 L64.0042 992.418 L16.4842 992.418 Z\" fill=\"#000000\" fill-rule=\"evenodd\" fill-opacity=\"1\" /><path clip-path=\"url(#clip600)\" d=\"M28.3562 942.479 L28.3562 936.622 L64.0042 936.622 L64.0042 942.479 L28.3562 942.479 M14.479 942.479 L14.479 936.622 L21.895 936.622 L21.895 942.479 L14.479 942.479 Z\" fill=\"#000000\" fill-rule=\"evenodd\" fill-opacity=\"1\" /><path clip-path=\"url(#clip600)\" d=\"M14.479 906.322 L19.3487 906.322 L19.3487 911.923 Q19.3487 915.074 20.6219 916.316 Q21.895 917.525 25.2052 917.525 L28.3562 917.525 L28.3562 907.881 L32.9077 907.881 L32.9077 917.525 L64.0042 917.525 L64.0042 923.413 L32.9077 923.413 L32.9077 929.015 L28.3562 929.015 L28.3562 923.413 L25.8736 923.413 Q19.9216 923.413 17.2162 920.644 Q14.479 917.875 14.479 911.86 L14.479 906.322 Z\" fill=\"#000000\" fill-rule=\"evenodd\" fill-opacity=\"1\" /><path clip-path=\"url(#clip600)\" d=\"M14.479 883.373 L19.3487 883.373 L19.3487 888.975 Q19.3487 892.126 20.6219 893.367 Q21.895 894.577 25.2052 894.577 L28.3562 894.577 L28.3562 884.933 L32.9077 884.933 L32.9077 894.577 L64.0042 894.577 L64.0042 900.465 L32.9077 900.465 L32.9077 906.067 L28.3562 906.067 L28.3562 900.465 L25.8736 900.465 Q19.9216 900.465 17.2162 897.696 Q14.479 894.927 14.479 888.911 L14.479 883.373 Z\" fill=\"#000000\" fill-rule=\"evenodd\" fill-opacity=\"1\" /><path clip-path=\"url(#clip600)\" d=\"M49.9359 879.076 L28.3562 879.076 L28.3562 873.22 L49.7131 873.22 Q54.7739 873.22 57.3202 871.246 Q59.8346 869.273 59.8346 865.326 Q59.8346 860.584 56.8109 857.847 Q53.7872 855.078 48.5673 855.078 L28.3562 855.078 L28.3562 849.221 L64.0042 849.221 L64.0042 855.078 L58.5296 855.078 Q61.7762 857.21 63.3676 860.043 Q64.9272 862.844 64.9272 866.568 Q64.9272 872.711 61.1078 875.893 Q57.2883 879.076 49.9359 879.076 M27.4968 864.34 L27.4968 864.34 Z\" fill=\"#000000\" fill-rule=\"evenodd\" fill-opacity=\"1\" /><path clip-path=\"url(#clip600)\" d=\"M29.4065 814.433 L34.9447 814.433 Q33.6716 816.915 33.035 819.589 Q32.3984 822.262 32.3984 825.127 Q32.3984 829.487 33.7352 831.684 Q35.072 833.848 37.7456 833.848 Q39.7826 833.848 40.9603 832.288 Q42.1061 830.729 43.1565 826.018 L43.6021 824.013 Q44.9389 817.775 47.3897 815.165 Q49.8086 812.523 54.1691 812.523 Q59.1344 812.523 62.0308 816.47 Q64.9272 820.384 64.9272 827.259 Q64.9272 830.124 64.3543 833.243 Q63.8132 836.331 62.6992 839.768 L56.6518 839.768 Q58.3387 836.522 59.198 833.371 Q60.0256 830.219 60.0256 827.132 Q60.0256 822.994 58.6251 820.766 Q57.1929 818.538 54.6147 818.538 Q52.2276 818.538 50.9545 820.162 Q49.6813 821.753 48.5037 827.196 L48.0262 829.233 Q46.8804 834.675 44.5251 837.094 Q42.138 839.513 38.0002 839.513 Q32.9713 839.513 30.2341 835.949 Q27.4968 832.384 27.4968 825.827 Q27.4968 822.581 27.9743 819.716 Q28.4517 816.852 29.4065 814.433 Z\" fill=\"#000000\" fill-rule=\"evenodd\" fill-opacity=\"1\" /><path clip-path=\"url(#clip600)\" d=\"M28.3562 803.197 L28.3562 797.341 L64.0042 797.341 L64.0042 803.197 L28.3562 803.197 M14.479 803.197 L14.479 797.341 L21.895 797.341 L21.895 803.197 L14.479 803.197 Z\" fill=\"#000000\" fill-rule=\"evenodd\" fill-opacity=\"1\" /><path clip-path=\"url(#clip600)\" d=\"M28.3562 789.288 L28.3562 783.081 L58.275 771.941 L28.3562 760.801 L28.3562 754.595 L64.0042 767.963 L64.0042 775.92 L28.3562 789.288 Z\" fill=\"#000000\" fill-rule=\"evenodd\" fill-opacity=\"1\" /><path clip-path=\"url(#clip600)\" d=\"M28.3562 746.51 L28.3562 740.654 L64.0042 740.654 L64.0042 746.51 L28.3562 746.51 M14.479 746.51 L14.479 740.654 L21.895 740.654 L21.895 746.51 L14.479 746.51 Z\" fill=\"#000000\" fill-rule=\"evenodd\" fill-opacity=\"1\" /><path clip-path=\"url(#clip600)\" d=\"M18.2347 722.607 L28.3562 722.607 L28.3562 710.544 L32.9077 710.544 L32.9077 722.607 L52.2594 722.607 Q56.6199 722.607 57.8613 721.43 Q59.1026 720.22 59.1026 716.56 L59.1026 710.544 L64.0042 710.544 L64.0042 716.56 Q64.0042 723.339 61.4897 725.917 Q58.9434 728.495 52.2594 728.495 L32.9077 728.495 L32.9077 732.792 L28.3562 732.792 L28.3562 728.495 L18.2347 728.495 L18.2347 722.607 Z\" fill=\"#000000\" fill-rule=\"evenodd\" fill-opacity=\"1\" /><path clip-path=\"url(#clip600)\" d=\"M67.3143 688.01 Q73.68 690.492 75.6216 692.848 Q77.5631 695.203 77.5631 699.15 L77.5631 703.828 L72.6615 703.828 L72.6615 700.391 Q72.6615 697.972 71.5157 696.635 Q70.3699 695.298 66.1048 693.675 L63.4312 692.625 L28.3562 707.043 L28.3562 700.836 L56.238 689.697 L28.3562 678.557 L28.3562 672.35 L67.3143 688.01 Z\" fill=\"#000000\" fill-rule=\"evenodd\" fill-opacity=\"1\" /><path clip-path=\"url(#clip600)\" d=\"M14.5426 629.477 Q21.8632 633.742 29.0246 635.811 Q36.186 637.88 43.5384 637.88 Q50.8908 637.88 58.1159 635.811 Q65.3091 633.71 72.5979 629.477 L72.5979 634.569 Q65.1182 639.344 57.8931 641.731 Q50.668 644.086 43.5384 644.086 Q36.4406 644.086 29.2474 641.731 Q22.0542 639.376 14.5426 634.569 L14.5426 629.477 Z\" fill=\"#000000\" fill-rule=\"evenodd\" fill-opacity=\"1\" /><path clip-path=\"url(#clip600)\" d=\"M21.7677 611.43 L58.7206 611.43 L58.7206 603.664 Q58.7206 593.829 54.2646 589.277 Q49.8086 584.694 40.1964 584.694 Q30.6479 584.694 26.2237 589.277 Q21.7677 593.829 21.7677 603.664 L21.7677 611.43 M16.4842 617.86 L16.4842 604.651 Q16.4842 590.837 22.2451 584.376 Q27.9743 577.915 40.1964 577.915 Q52.4822 577.915 58.2432 584.408 Q64.0042 590.901 64.0042 604.651 L64.0042 617.86 L16.4842 617.86 Z\" fill=\"#000000\" fill-rule=\"evenodd\" fill-opacity=\"1\" /><path clip-path=\"url(#clip600)\" d=\"M14.5426 568.844 L14.5426 563.751 Q22.0542 558.977 29.2474 556.621 Q36.4406 554.234 43.5384 554.234 Q50.668 554.234 57.8931 556.621 Q65.1182 558.977 72.5979 563.751 L72.5979 568.844 Q65.3091 564.61 58.1159 562.542 Q50.8908 560.441 43.5384 560.441 Q36.186 560.441 29.0246 562.542 Q21.8632 564.61 14.5426 568.844 Z\" fill=\"#000000\" fill-rule=\"evenodd\" fill-opacity=\"1\" /><path clip-path=\"url(#clip600)\" d=\"M686.421 14.0809 L686.421 22.0612 Q681.763 19.8332 677.631 18.7395 Q673.499 17.6457 669.651 17.6457 Q662.967 17.6457 659.321 20.2383 Q655.716 22.8309 655.716 27.611 Q655.716 31.6214 658.106 33.6873 Q660.536 35.7128 667.261 36.9686 L672.203 37.9813 Q681.358 39.7232 685.692 44.1387 Q690.067 48.5136 690.067 55.8863 Q690.067 64.6767 684.153 69.2137 Q678.279 73.7508 666.896 73.7508 Q662.602 73.7508 657.741 72.7785 Q652.92 71.8063 647.735 69.9024 L647.735 61.4765 Q652.718 64.2716 657.498 65.6895 Q662.278 67.1073 666.896 67.1073 Q673.904 67.1073 677.712 64.3527 Q681.52 61.598 681.52 56.4939 Q681.52 52.0379 678.765 49.5264 Q676.051 47.0148 669.813 45.759 L664.83 44.7868 Q655.675 42.9639 651.584 39.075 Q647.492 35.1862 647.492 28.2591 Q647.492 20.2383 653.123 15.6203 Q658.794 11.0023 668.719 11.0023 Q672.972 11.0023 677.388 11.7719 Q681.803 12.5416 686.421 14.0809 Z\" fill=\"#000000\" fill-rule=\"evenodd\" fill-opacity=\"1\" /><path clip-path=\"url(#clip600)\" d=\"M702.503 27.2059 L709.957 27.2059 L709.957 72.576 L702.503 72.576 L702.503 27.2059 M702.503 9.54393 L709.957 9.54393 L709.957 18.9825 L702.503 18.9825 L702.503 9.54393 Z\" fill=\"#000000\" fill-rule=\"evenodd\" fill-opacity=\"1\" /><path clip-path=\"url(#clip600)\" d=\"M760.877 35.9153 Q763.672 30.8922 767.561 28.5022 Q771.45 26.1121 776.716 26.1121 Q783.805 26.1121 787.653 31.0947 Q791.502 36.0368 791.502 45.1919 L791.502 72.576 L784.008 72.576 L784.008 45.4349 Q784.008 38.913 781.699 35.7533 Q779.39 32.5936 774.65 32.5936 Q768.857 32.5936 765.495 36.4419 Q762.133 40.2903 762.133 46.9338 L762.133 72.576 L754.639 72.576 L754.639 45.4349 Q754.639 38.8725 752.33 35.7533 Q750.021 32.5936 745.2 32.5936 Q739.488 32.5936 736.126 36.4824 Q732.764 40.3308 732.764 46.9338 L732.764 72.576 L725.27 72.576 L725.27 27.2059 L732.764 27.2059 L732.764 34.2544 Q735.316 30.082 738.881 28.0971 Q742.445 26.1121 747.347 26.1121 Q752.289 26.1121 755.732 28.6237 Q759.216 31.1352 760.877 35.9153 Z\" fill=\"#000000\" fill-rule=\"evenodd\" fill-opacity=\"1\" /><path clip-path=\"url(#clip600)\" d=\"M805.599 54.671 L805.599 27.2059 L813.053 27.2059 L813.053 54.3874 Q813.053 60.8284 815.564 64.0691 Q818.076 67.2693 823.099 67.2693 Q829.135 67.2693 832.618 63.421 Q836.143 59.5726 836.143 52.9291 L836.143 27.2059 L843.596 27.2059 L843.596 72.576 L836.143 72.576 L836.143 65.6084 Q833.429 69.7404 829.823 71.7658 Q826.259 73.7508 821.519 73.7508 Q813.701 73.7508 809.65 68.8897 Q805.599 64.0286 805.599 54.671 M824.355 26.1121 L824.355 26.1121 Z\" fill=\"#000000\" fill-rule=\"evenodd\" fill-opacity=\"1\" /><path clip-path=\"url(#clip600)\" d=\"M858.949 9.54393 L866.403 9.54393 L866.403 72.576 L858.949 72.576 L858.949 9.54393 Z\" fill=\"#000000\" fill-rule=\"evenodd\" fill-opacity=\"1\" /><path clip-path=\"url(#clip600)\" d=\"M902.618 49.7694 Q893.585 49.7694 890.101 51.8354 Q886.617 53.9013 886.617 58.8839 Q886.617 62.8538 889.21 65.2034 Q891.843 67.5124 896.339 67.5124 Q902.537 67.5124 906.264 63.1374 Q910.031 58.7219 910.031 51.4303 L910.031 49.7694 L902.618 49.7694 M917.485 46.6907 L917.485 72.576 L910.031 72.576 L910.031 65.6895 Q907.479 69.8214 903.671 71.8063 Q899.864 73.7508 894.354 73.7508 Q887.387 73.7508 883.255 69.8619 Q879.163 65.9325 879.163 59.3701 Q879.163 51.7138 884.268 47.825 Q889.412 43.9361 899.58 43.9361 L910.031 43.9361 L910.031 43.2069 Q910.031 38.0623 906.629 35.2672 Q903.266 32.4315 897.149 32.4315 Q893.261 32.4315 889.574 33.3632 Q885.888 34.295 882.485 36.1584 L882.485 29.2718 Q886.577 27.692 890.425 26.9223 Q894.273 26.1121 897.919 26.1121 Q907.763 26.1121 912.624 31.2163 Q917.485 36.3204 917.485 46.6907 Z\" fill=\"#000000\" fill-rule=\"evenodd\" fill-opacity=\"1\" /><path clip-path=\"url(#clip600)\" d=\"M940.211 14.324 L940.211 27.2059 L955.563 27.2059 L955.563 32.9987 L940.211 32.9987 L940.211 57.6282 Q940.211 63.1779 941.709 64.7578 Q943.249 66.3376 947.907 66.3376 L955.563 66.3376 L955.563 72.576 L947.907 72.576 Q939.279 72.576 935.998 69.3758 Q932.716 66.1351 932.716 57.6282 L932.716 32.9987 L927.248 32.9987 L927.248 27.2059 L932.716 27.2059 L932.716 14.324 L940.211 14.324 Z\" fill=\"#000000\" fill-rule=\"evenodd\" fill-opacity=\"1\" /><path clip-path=\"url(#clip600)\" d=\"M1004.17 48.0275 L1004.17 51.6733 L969.904 51.6733 Q970.39 59.3701 974.522 63.421 Q978.694 67.4314 986.107 67.4314 Q990.401 67.4314 994.412 66.3781 Q998.463 65.3249 1002.43 63.2184 L1002.43 70.267 Q998.422 71.9684 994.209 72.8596 Q989.996 73.7508 985.662 73.7508 Q974.805 73.7508 968.445 67.4314 Q962.126 61.1119 962.126 50.3365 Q962.126 39.1965 968.121 32.6746 Q974.157 26.1121 984.365 26.1121 Q993.52 26.1121 998.827 32.0264 Q1004.17 37.9003 1004.17 48.0275 M996.721 45.84 Q996.64 39.7232 993.277 36.0774 Q989.956 32.4315 984.446 32.4315 Q978.208 32.4315 974.441 35.9558 Q970.714 39.4801 970.147 45.8805 L996.721 45.84 Z\" fill=\"#000000\" fill-rule=\"evenodd\" fill-opacity=\"1\" /><path clip-path=\"url(#clip600)\" d=\"M1046.26 34.0924 L1046.26 9.54393 L1053.72 9.54393 L1053.72 72.576 L1046.26 72.576 L1046.26 65.7705 Q1043.91 69.8214 1040.31 71.8063 Q1036.74 73.7508 1031.72 73.7508 Q1023.5 73.7508 1018.31 67.1883 Q1013.17 60.6258 1013.17 49.9314 Q1013.17 39.2371 1018.31 32.6746 Q1023.5 26.1121 1031.72 26.1121 Q1036.74 26.1121 1040.31 28.0971 Q1043.91 30.0415 1046.26 34.0924 M1020.86 49.9314 Q1020.86 58.1548 1024.23 62.8538 Q1027.63 67.5124 1033.54 67.5124 Q1039.46 67.5124 1042.86 62.8538 Q1046.26 58.1548 1046.26 49.9314 Q1046.26 41.7081 1042.86 37.0496 Q1039.46 32.3505 1033.54 32.3505 Q1027.63 32.3505 1024.23 37.0496 Q1020.86 41.7081 1020.86 49.9314 Z\" fill=\"#000000\" fill-rule=\"evenodd\" fill-opacity=\"1\" /><path clip-path=\"url(#clip600)\" d=\"M1103.95 18.8205 L1103.95 65.8515 L1113.83 65.8515 Q1126.35 65.8515 1132.14 60.1802 Q1137.98 54.509 1137.98 42.2752 Q1137.98 30.1225 1132.14 24.4918 Q1126.35 18.8205 1113.83 18.8205 L1103.95 18.8205 M1095.77 12.096 L1112.58 12.096 Q1130.16 12.096 1138.38 19.4281 Q1146.6 26.7198 1146.6 42.2752 Q1146.6 57.9117 1138.34 65.2439 Q1130.08 72.576 1112.58 72.576 L1095.77 72.576 L1095.77 12.096 Z\" fill=\"#000000\" fill-rule=\"evenodd\" fill-opacity=\"1\" /><path clip-path=\"url(#clip600)\" d=\"M1180.35 27.2059 L1188.25 27.2059 L1202.43 65.2844 L1216.6 27.2059 L1224.5 27.2059 L1207.49 72.576 L1197.36 72.576 L1180.35 27.2059 Z\" fill=\"#000000\" fill-rule=\"evenodd\" fill-opacity=\"1\" /><path clip-path=\"url(#clip600)\" d=\"M1255.41 49.7694 Q1246.38 49.7694 1242.89 51.8354 Q1239.41 53.9013 1239.41 58.8839 Q1239.41 62.8538 1242 65.2034 Q1244.64 67.5124 1249.13 67.5124 Q1255.33 67.5124 1259.06 63.1374 Q1262.82 58.7219 1262.82 51.4303 L1262.82 49.7694 L1255.41 49.7694 M1270.28 46.6907 L1270.28 72.576 L1262.82 72.576 L1262.82 65.6895 Q1260.27 69.8214 1256.46 71.8063 Q1252.66 73.7508 1247.15 73.7508 Q1240.18 73.7508 1236.05 69.8619 Q1231.96 65.9325 1231.96 59.3701 Q1231.96 51.7138 1237.06 47.825 Q1242.21 43.9361 1252.37 43.9361 L1262.82 43.9361 L1262.82 43.2069 Q1262.82 38.0623 1259.42 35.2672 Q1256.06 32.4315 1249.94 32.4315 Q1246.05 32.4315 1242.37 33.3632 Q1238.68 34.295 1235.28 36.1584 L1235.28 29.2718 Q1239.37 27.692 1243.22 26.9223 Q1247.07 26.1121 1250.71 26.1121 Q1260.56 26.1121 1265.42 31.2163 Q1270.28 36.3204 1270.28 46.6907 Z\" fill=\"#000000\" fill-rule=\"evenodd\" fill-opacity=\"1\" /><path clip-path=\"url(#clip600)\" d=\"M1285.63 9.54393 L1293.08 9.54393 L1293.08 72.576 L1285.63 72.576 L1285.63 9.54393 Z\" fill=\"#000000\" fill-rule=\"evenodd\" fill-opacity=\"1\" /><path clip-path=\"url(#clip600)\" d=\"M1307.91 54.671 L1307.91 27.2059 L1315.36 27.2059 L1315.36 54.3874 Q1315.36 60.8284 1317.88 64.0691 Q1320.39 67.2693 1325.41 67.2693 Q1331.45 67.2693 1334.93 63.421 Q1338.45 59.5726 1338.45 52.9291 L1338.45 27.2059 L1345.91 27.2059 L1345.91 72.576 L1338.45 72.576 L1338.45 65.6084 Q1335.74 69.7404 1332.14 71.7658 Q1328.57 73.7508 1323.83 73.7508 Q1316.01 73.7508 1311.96 68.8897 Q1307.91 64.0286 1307.91 54.671 M1326.67 26.1121 L1326.67 26.1121 Z\" fill=\"#000000\" fill-rule=\"evenodd\" fill-opacity=\"1\" /><path clip-path=\"url(#clip600)\" d=\"M1400.07 48.0275 L1400.07 51.6733 L1365.8 51.6733 Q1366.28 59.3701 1370.42 63.421 Q1374.59 67.4314 1382 67.4314 Q1386.3 67.4314 1390.31 66.3781 Q1394.36 65.3249 1398.33 63.2184 L1398.33 70.267 Q1394.32 71.9684 1390.1 72.8596 Q1385.89 73.7508 1381.56 73.7508 Q1370.7 73.7508 1364.34 67.4314 Q1358.02 61.1119 1358.02 50.3365 Q1358.02 39.1965 1364.02 32.6746 Q1370.05 26.1121 1380.26 26.1121 Q1389.42 26.1121 1394.72 32.0264 Q1400.07 37.9003 1400.07 48.0275 M1392.62 45.84 Q1392.53 39.7232 1389.17 36.0774 Q1385.85 32.4315 1380.34 32.4315 Q1374.1 32.4315 1370.34 35.9558 Q1366.61 39.4801 1366.04 45.8805 L1392.62 45.84 Z\" fill=\"#000000\" fill-rule=\"evenodd\" fill-opacity=\"1\" /><path clip-path=\"url(#clip600)\" d=\"M1441.23 28.5427 L1441.23 35.5912 Q1438.07 33.9709 1434.66 33.1607 Q1431.26 32.3505 1427.62 32.3505 Q1422.07 32.3505 1419.27 34.0519 Q1416.52 35.7533 1416.52 39.156 Q1416.52 41.7486 1418.5 43.2475 Q1420.49 44.7058 1426.48 46.0426 L1429.03 46.6097 Q1436.97 48.3111 1440.29 51.4303 Q1443.66 54.509 1443.66 60.0587 Q1443.66 66.3781 1438.63 70.0644 Q1433.65 73.7508 1424.9 73.7508 Q1421.26 73.7508 1417.29 73.0216 Q1413.36 72.3329 1408.98 70.9151 L1408.98 63.2184 Q1413.11 65.3654 1417.12 66.4591 Q1421.13 67.5124 1425.06 67.5124 Q1430.33 67.5124 1433.17 65.73 Q1436 63.9071 1436 60.6258 Q1436 57.5877 1433.93 55.9673 Q1431.91 54.3469 1424.98 52.8481 L1422.39 52.2405 Q1415.46 50.7821 1412.38 47.7845 Q1409.31 44.7463 1409.31 39.4801 Q1409.31 33.0797 1413.84 29.5959 Q1418.38 26.1121 1426.72 26.1121 Q1430.86 26.1121 1434.5 26.7198 Q1438.15 27.3274 1441.23 28.5427 Z\" fill=\"#000000\" fill-rule=\"evenodd\" fill-opacity=\"1\" /><path clip-path=\"url(#clip600)\" d=\"M1514.47 49.9314 Q1514.47 41.7081 1511.06 37.0496 Q1507.7 32.3505 1501.79 32.3505 Q1495.87 32.3505 1492.47 37.0496 Q1489.11 41.7081 1489.11 49.9314 Q1489.11 58.1548 1492.47 62.8538 Q1495.87 67.5124 1501.79 67.5124 Q1507.7 67.5124 1511.06 62.8538 Q1514.47 58.1548 1514.47 49.9314 M1489.11 34.0924 Q1491.46 30.0415 1495.02 28.0971 Q1498.63 26.1121 1503.61 26.1121 Q1511.87 26.1121 1517.02 32.6746 Q1522.2 39.2371 1522.2 49.9314 Q1522.2 60.6258 1517.02 67.1883 Q1511.87 73.7508 1503.61 73.7508 Q1498.63 73.7508 1495.02 71.8063 Q1491.46 69.8214 1489.11 65.7705 L1489.11 72.576 L1481.61 72.576 L1481.61 9.54393 L1489.11 9.54393 L1489.11 34.0924 Z\" fill=\"#000000\" fill-rule=\"evenodd\" fill-opacity=\"1\" /><path clip-path=\"url(#clip600)\" d=\"M1553.44 76.7889 Q1550.28 84.8907 1547.28 87.3618 Q1544.28 89.8329 1539.26 89.8329 L1533.3 89.8329 L1533.3 83.5945 L1537.68 83.5945 Q1540.76 83.5945 1542.46 82.1361 Q1544.16 80.6778 1546.23 75.2496 L1547.56 71.8468 L1529.21 27.2059 L1537.11 27.2059 L1551.29 62.6918 L1565.47 27.2059 L1573.37 27.2059 L1553.44 76.7889 Z\" fill=\"#000000\" fill-rule=\"evenodd\" fill-opacity=\"1\" /><path clip-path=\"url(#clip600)\" d=\"M1617.4 14.324 L1617.4 27.2059 L1632.75 27.2059 L1632.75 32.9987 L1617.4 32.9987 L1617.4 57.6282 Q1617.4 63.1779 1618.9 64.7578 Q1620.44 66.3376 1625.1 66.3376 L1632.75 66.3376 L1632.75 72.576 L1625.1 72.576 Q1616.47 72.576 1613.19 69.3758 Q1609.91 66.1351 1609.91 57.6282 L1609.91 32.9987 L1604.44 32.9987 L1604.44 27.2059 L1609.91 27.2059 L1609.91 14.324 L1617.4 14.324 Z\" fill=\"#000000\" fill-rule=\"evenodd\" fill-opacity=\"1\" /><path clip-path=\"url(#clip600)\" d=\"M1680.27 45.1919 L1680.27 72.576 L1672.82 72.576 L1672.82 45.4349 Q1672.82 38.994 1670.3 35.7938 Q1667.79 32.5936 1662.77 32.5936 Q1656.73 32.5936 1653.25 36.4419 Q1649.77 40.2903 1649.77 46.9338 L1649.77 72.576 L1642.27 72.576 L1642.27 9.54393 L1649.77 9.54393 L1649.77 34.2544 Q1652.44 30.163 1656.05 28.1376 Q1659.69 26.1121 1664.43 26.1121 Q1672.25 26.1121 1676.26 30.9732 Q1680.27 35.7938 1680.27 45.1919 Z\" fill=\"#000000\" fill-rule=\"evenodd\" fill-opacity=\"1\" /><path clip-path=\"url(#clip600)\" d=\"M1733.94 48.0275 L1733.94 51.6733 L1699.67 51.6733 Q1700.16 59.3701 1704.29 63.421 Q1708.46 67.4314 1715.88 67.4314 Q1720.17 67.4314 1724.18 66.3781 Q1728.23 65.3249 1732.2 63.2184 L1732.2 70.267 Q1728.19 71.9684 1723.98 72.8596 Q1719.77 73.7508 1715.43 73.7508 Q1704.58 73.7508 1698.22 67.4314 Q1691.9 61.1119 1691.9 50.3365 Q1691.9 39.1965 1697.89 32.6746 Q1703.93 26.1121 1714.14 26.1121 Q1723.29 26.1121 1728.6 32.0264 Q1733.94 37.9003 1733.94 48.0275 M1726.49 45.84 Q1726.41 39.7232 1723.05 36.0774 Q1719.73 32.4315 1714.22 32.4315 Q1707.98 32.4315 1704.21 35.9558 Q1700.48 39.4801 1699.92 45.8805 L1726.49 45.84 Z\" fill=\"#000000\" fill-rule=\"evenodd\" fill-opacity=\"1\" /><path clip-path=\"url(#clip600)\" d=\"M1772.87 12.096 L1783.89 12.096 L1810.71 62.6918 L1810.71 12.096 L1818.65 12.096 L1818.65 72.576 L1807.63 72.576 L1780.81 21.9802 L1780.81 72.576 L1772.87 72.576 L1772.87 12.096 Z\" fill=\"#000000\" fill-rule=\"evenodd\" fill-opacity=\"1\" /><path clip-path=\"url(#clip600)\" d=\"M1834.93 12.096 L1845.95 12.096 L1872.77 62.6918 L1872.77 12.096 L1880.71 12.096 L1880.71 72.576 L1869.69 72.576 L1842.87 21.9802 L1842.87 72.576 L1834.93 72.576 L1834.93 12.096 Z\" fill=\"#000000\" fill-rule=\"evenodd\" fill-opacity=\"1\" /><polyline clip-path=\"url(#clip602)\" style=\"stroke:#009af9; stroke-linecap:butt; stroke-linejoin:round; stroke-width:4; stroke-opacity:1; fill:none\" points=\"\n",
       "  237.067,1360.2 278.149,1336.96 319.23,1314.89 360.311,1294.06 401.393,1274.5 442.474,1256.21 483.555,1239.2 524.637,1223.43 565.718,1208.86 606.799,1195.44 \n",
       "  647.881,1183.11 688.962,1171.82 730.043,1161.5 771.125,1152.08 812.206,1143.51 853.287,1135.71 894.369,1128.63 935.45,1122.22 976.531,1116.43 1017.61,1111.19 \n",
       "  1058.69,1106.48 1099.78,1102.24 1140.86,1098.44 1181.94,1095.04 1223.02,1092.01 1264.1,1089.32 1305.18,1086.93 1346.26,1084.84 1387.34,1083.01 1428.43,1081.42 \n",
       "  1469.51,1080.05 1510.59,1078.89 1551.67,1077.92 1592.75,1077.13 1633.83,1076.5 1674.91,1076.02 1716,1075.67 1757.08,1075.46 1798.16,1075.37 1839.24,1075.39 \n",
       "  1880.32,1075.52 1921.4,1075.74 1962.48,1076.05 2003.56,1076.45 2044.65,1076.93 2085.73,1077.48 2126.81,1078.1 2167.89,1078.79 2208.97,1079.54 2250.05,1080.35 \n",
       "  2291.13,1081.21 \n",
       "  \"/>\n",
       "<polyline clip-path=\"url(#clip602)\" style=\"stroke:#e26f46; stroke-linecap:butt; stroke-linejoin:round; stroke-width:4; stroke-opacity:1; fill:none\" points=\"\n",
       "  237.067,1386.4 257.127,1386.4 442.607,1386.38 554.073,1386.29 648.316,1386 750.691,1385.2 845.071,1383.61 946.256,1380.38 1063.49,1373.47 1167.67,1362.99 \n",
       "  1259.03,1349.02 1358.64,1326.88 1458.84,1295.11 1514.23,1272.45 1569.62,1245.5 1622.32,1215.35 1675.02,1180.24 1729.82,1137.85 1784.62,1088.75 1830.75,1041.67 \n",
       "  1876.88,988.804 1933.2,915.675 1989.52,832.161 2042.46,743.231 2095.4,643.236 2137.81,554.481 2180.21,457.442 2222.62,351.551 2265.03,236.217 2271.55,217.59 \n",
       "  2278.08,198.722 2284.61,179.612 2291.13,160.256 \n",
       "  \"/>\n",
       "<polyline clip-path=\"url(#clip602)\" style=\"stroke:#3da44d; stroke-linecap:butt; stroke-linejoin:round; stroke-width:4; stroke-opacity:1; fill:none\" stroke-dasharray=\"16, 8, 2, 8\" points=\"\n",
       "  -2001.87,1227.41 4530.07,1227.41 \n",
       "  \"/>\n",
       "<path clip-path=\"url(#clip600)\" d=\"\n",
       "M1540.9 408.716 L2280.18 408.716 L2280.18 166.796 L1540.9 166.796  Z\n",
       "  \" fill=\"#ffffff\" fill-rule=\"evenodd\" fill-opacity=\"1\"/>\n",
       "<polyline clip-path=\"url(#clip600)\" style=\"stroke:#000000; stroke-linecap:butt; stroke-linejoin:round; stroke-width:4; stroke-opacity:1; fill:none\" points=\"\n",
       "  1540.9,408.716 2280.18,408.716 2280.18,166.796 1540.9,166.796 1540.9,408.716 \n",
       "  \"/>\n",
       "<polyline clip-path=\"url(#clip600)\" style=\"stroke:#009af9; stroke-linecap:butt; stroke-linejoin:round; stroke-width:4; stroke-opacity:1; fill:none\" points=\"\n",
       "  1565.09,227.276 1710.24,227.276 \n",
       "  \"/>\n",
       "<path clip-path=\"url(#clip600)\" d=\"M1734.44 209.996 L1740.73 209.996 L1756.06 238.908 L1756.06 209.996 L1760.59 209.996 L1760.59 244.556 L1754.3 244.556 L1738.97 215.644 L1738.97 244.556 L1734.44 244.556 L1734.44 209.996 Z\" fill=\"#000000\" fill-rule=\"evenodd\" fill-opacity=\"1\" /><path clip-path=\"url(#clip600)\" d=\"M1769.9 209.996 L1776.19 209.996 L1791.52 238.908 L1791.52 209.996 L1796.06 209.996 L1796.06 244.556 L1789.76 244.556 L1774.44 215.644 L1774.44 244.556 L1769.9 244.556 L1769.9 209.996 Z\" fill=\"#000000\" fill-rule=\"evenodd\" fill-opacity=\"1\" /><polyline clip-path=\"url(#clip600)\" style=\"stroke:#e26f46; stroke-linecap:butt; stroke-linejoin:round; stroke-width:4; stroke-opacity:1; fill:none\" points=\"\n",
       "  1565.09,287.756 1710.24,287.756 \n",
       "  \"/>\n",
       "<path clip-path=\"url(#clip600)\" d=\"M1750.94 269.017 L1750.94 272.559 L1746.87 272.559 Q1744.57 272.559 1743.67 273.485 Q1742.79 274.411 1742.79 276.818 L1742.79 279.11 L1749.81 279.11 L1749.81 282.42 L1742.79 282.42 L1742.79 305.036 L1738.51 305.036 L1738.51 282.42 L1734.44 282.42 L1734.44 279.11 L1738.51 279.11 L1738.51 277.304 Q1738.51 272.976 1740.52 271.008 Q1742.54 269.017 1746.91 269.017 L1750.94 269.017 Z\" fill=\"#000000\" fill-rule=\"evenodd\" fill-opacity=\"1\" /><path clip-path=\"url(#clip600)\" d=\"M1766.29 292.003 Q1761.13 292.003 1759.13 293.184 Q1757.14 294.364 1757.14 297.212 Q1757.14 299.48 1758.63 300.823 Q1760.13 302.142 1762.7 302.142 Q1766.24 302.142 1768.37 299.642 Q1770.52 297.119 1770.52 292.952 L1770.52 292.003 L1766.29 292.003 M1774.78 290.244 L1774.78 305.036 L1770.52 305.036 L1770.52 301.101 Q1769.07 303.462 1766.89 304.596 Q1764.71 305.707 1761.57 305.707 Q1757.58 305.707 1755.22 303.485 Q1752.88 301.239 1752.88 297.489 Q1752.88 293.114 1755.8 290.892 Q1758.74 288.67 1764.55 288.67 L1770.52 288.67 L1770.52 288.253 Q1770.52 285.314 1768.58 283.716 Q1766.66 282.096 1763.16 282.096 Q1760.94 282.096 1758.83 282.628 Q1756.73 283.161 1754.78 284.226 L1754.78 280.29 Q1757.12 279.388 1759.32 278.948 Q1761.52 278.485 1763.6 278.485 Q1769.23 278.485 1772 281.402 Q1774.78 284.318 1774.78 290.244 Z\" fill=\"#000000\" fill-rule=\"evenodd\" fill-opacity=\"1\" /><path clip-path=\"url(#clip600)\" d=\"M1783.39 269.017 L1787.68 269.017 L1787.68 290.29 L1800.38 279.11 L1805.82 279.11 L1792.07 291.239 L1806.4 305.036 L1800.85 305.036 L1787.68 292.374 L1787.68 305.036 L1783.39 305.036 L1783.39 269.017 Z\" fill=\"#000000\" fill-rule=\"evenodd\" fill-opacity=\"1\" /><path clip-path=\"url(#clip600)\" d=\"M1831.5 291.008 L1831.5 293.091 L1811.91 293.091 Q1812.19 297.489 1814.55 299.804 Q1816.94 302.096 1821.17 302.096 Q1823.63 302.096 1825.92 301.494 Q1828.23 300.892 1830.5 299.689 L1830.5 303.716 Q1828.21 304.688 1825.8 305.198 Q1823.39 305.707 1820.92 305.707 Q1814.71 305.707 1811.08 302.096 Q1807.47 298.485 1807.47 292.327 Q1807.47 285.962 1810.89 282.235 Q1814.34 278.485 1820.18 278.485 Q1825.41 278.485 1828.44 281.865 Q1831.5 285.221 1831.5 291.008 M1827.24 289.758 Q1827.19 286.263 1825.27 284.179 Q1823.37 282.096 1820.22 282.096 Q1816.66 282.096 1814.5 284.11 Q1812.38 286.124 1812.05 289.781 L1827.24 289.758 Z\" fill=\"#000000\" fill-rule=\"evenodd\" fill-opacity=\"1\" /><polyline clip-path=\"url(#clip600)\" style=\"stroke:#3da44d; stroke-linecap:butt; stroke-linejoin:round; stroke-width:4; stroke-opacity:1; fill:none\" stroke-dasharray=\"16, 8, 2, 8\" points=\"\n",
       "  1565.09,348.236 1710.24,348.236 \n",
       "  \"/>\n",
       "<path clip-path=\"url(#clip600)\" d=\"M1753.35 352.252 Q1753.35 347.622 1751.43 345.076 Q1749.53 342.53 1746.08 342.53 Q1742.65 342.53 1740.73 345.076 Q1738.83 347.622 1738.83 352.252 Q1738.83 356.858 1740.73 359.405 Q1742.65 361.951 1746.08 361.951 Q1749.53 361.951 1751.43 359.405 Q1753.35 356.858 1753.35 352.252 M1757.61 362.298 Q1757.61 368.918 1754.67 372.136 Q1751.73 375.377 1745.66 375.377 Q1743.42 375.377 1741.43 375.03 Q1739.44 374.705 1737.56 374.011 L1737.56 369.868 Q1739.44 370.886 1741.26 371.372 Q1743.09 371.858 1744.99 371.858 Q1749.18 371.858 1751.26 369.659 Q1753.35 367.483 1753.35 363.062 L1753.35 360.956 Q1752.03 363.247 1749.97 364.381 Q1747.91 365.516 1745.04 365.516 Q1740.27 365.516 1737.35 361.881 Q1734.44 358.247 1734.44 352.252 Q1734.44 346.233 1737.35 342.599 Q1740.27 338.965 1745.04 338.965 Q1747.91 338.965 1749.97 340.099 Q1752.03 341.233 1753.35 343.525 L1753.35 339.59 L1757.61 339.59 L1757.61 362.298 Z\" fill=\"#000000\" fill-rule=\"evenodd\" fill-opacity=\"1\" /><path clip-path=\"url(#clip600)\" d=\"M1788.56 351.488 L1788.56 353.571 L1768.97 353.571 Q1769.25 357.969 1771.61 360.284 Q1774 362.576 1778.23 362.576 Q1780.69 362.576 1782.98 361.974 Q1785.29 361.372 1787.56 360.169 L1787.56 364.196 Q1785.27 365.168 1782.86 365.678 Q1780.45 366.187 1777.98 366.187 Q1771.77 366.187 1768.14 362.576 Q1764.53 358.965 1764.53 352.807 Q1764.53 346.442 1767.95 342.715 Q1771.4 338.965 1777.24 338.965 Q1782.47 338.965 1785.5 342.345 Q1788.56 345.701 1788.56 351.488 M1784.3 350.238 Q1784.25 346.743 1782.33 344.659 Q1780.43 342.576 1777.28 342.576 Q1773.72 342.576 1771.57 344.59 Q1769.44 346.604 1769.11 350.261 L1784.3 350.238 Z\" fill=\"#000000\" fill-rule=\"evenodd\" fill-opacity=\"1\" /><path clip-path=\"url(#clip600)\" d=\"M1805.59 342.576 Q1802.17 342.576 1800.18 345.261 Q1798.19 347.923 1798.19 352.576 Q1798.19 357.229 1800.15 359.914 Q1802.14 362.576 1805.59 362.576 Q1809 362.576 1810.99 359.891 Q1812.98 357.206 1812.98 352.576 Q1812.98 347.97 1810.99 345.284 Q1809 342.576 1805.59 342.576 M1805.59 338.965 Q1811.15 338.965 1814.32 342.576 Q1817.49 346.187 1817.49 352.576 Q1817.49 358.942 1814.32 362.576 Q1811.15 366.187 1805.59 366.187 Q1800.01 366.187 1796.84 362.576 Q1793.69 358.942 1793.69 352.576 Q1793.69 346.187 1796.84 342.576 Q1800.01 338.965 1805.59 338.965 Z\" fill=\"#000000\" fill-rule=\"evenodd\" fill-opacity=\"1\" /><path clip-path=\"url(#clip600)\" d=\"M1844.74 344.567 Q1846.33 341.696 1848.56 340.331 Q1850.78 338.965 1853.79 338.965 Q1857.84 338.965 1860.04 341.812 Q1862.24 344.636 1862.24 349.868 L1862.24 365.516 L1857.95 365.516 L1857.95 350.007 Q1857.95 346.28 1856.63 344.474 Q1855.31 342.669 1852.61 342.669 Q1849.3 342.669 1847.37 344.868 Q1845.45 347.067 1845.45 350.863 L1845.45 365.516 L1841.17 365.516 L1841.17 350.007 Q1841.17 346.257 1839.85 344.474 Q1838.53 342.669 1835.78 342.669 Q1832.51 342.669 1830.59 344.891 Q1828.67 347.09 1828.67 350.863 L1828.67 365.516 L1824.39 365.516 L1824.39 339.59 L1828.67 339.59 L1828.67 343.618 Q1830.13 341.233 1832.17 340.099 Q1834.2 338.965 1837 338.965 Q1839.83 338.965 1841.8 340.4 Q1843.79 341.835 1844.74 344.567 Z\" fill=\"#000000\" fill-rule=\"evenodd\" fill-opacity=\"1\" /><path clip-path=\"url(#clip600)\" d=\"M1892.91 351.488 L1892.91 353.571 L1873.32 353.571 Q1873.6 357.969 1875.96 360.284 Q1878.35 362.576 1882.58 362.576 Q1885.04 362.576 1887.33 361.974 Q1889.64 361.372 1891.91 360.169 L1891.91 364.196 Q1889.62 365.168 1887.21 365.678 Q1884.81 366.187 1882.33 366.187 Q1876.12 366.187 1872.49 362.576 Q1868.88 358.965 1868.88 352.807 Q1868.88 346.442 1872.31 342.715 Q1875.75 338.965 1881.59 338.965 Q1886.82 338.965 1889.85 342.345 Q1892.91 345.701 1892.91 351.488 M1888.65 350.238 Q1888.6 346.743 1886.68 344.659 Q1884.78 342.576 1881.63 342.576 Q1878.07 342.576 1875.92 344.59 Q1873.79 346.604 1873.46 350.261 L1888.65 350.238 Z\" fill=\"#000000\" fill-rule=\"evenodd\" fill-opacity=\"1\" /><path clip-path=\"url(#clip600)\" d=\"M1904.11 332.229 L1904.11 339.59 L1912.88 339.59 L1912.88 342.9 L1904.11 342.9 L1904.11 356.974 Q1904.11 360.145 1904.97 361.048 Q1905.85 361.951 1908.51 361.951 L1912.88 361.951 L1912.88 365.516 L1908.51 365.516 Q1903.58 365.516 1901.7 363.687 Q1899.83 361.835 1899.83 356.974 L1899.83 342.9 L1896.7 342.9 L1896.7 339.59 L1899.83 339.59 L1899.83 332.229 L1904.11 332.229 Z\" fill=\"#000000\" fill-rule=\"evenodd\" fill-opacity=\"1\" /><path clip-path=\"url(#clip600)\" d=\"M1933.51 343.571 Q1932.79 343.155 1931.93 342.97 Q1931.1 342.761 1930.08 342.761 Q1926.47 342.761 1924.53 345.122 Q1922.61 347.46 1922.61 351.858 L1922.61 365.516 L1918.32 365.516 L1918.32 339.59 L1922.61 339.59 L1922.61 343.618 Q1923.95 341.257 1926.1 340.122 Q1928.25 338.965 1931.33 338.965 Q1931.77 338.965 1932.31 339.034 Q1932.84 339.081 1933.49 339.196 L1933.51 343.571 Z\" fill=\"#000000\" fill-rule=\"evenodd\" fill-opacity=\"1\" /><path clip-path=\"url(#clip600)\" d=\"M1937.98 339.59 L1942.24 339.59 L1942.24 365.516 L1937.98 365.516 L1937.98 339.59 M1937.98 329.497 L1942.24 329.497 L1942.24 334.891 L1937.98 334.891 L1937.98 329.497 Z\" fill=\"#000000\" fill-rule=\"evenodd\" fill-opacity=\"1\" /><path clip-path=\"url(#clip600)\" d=\"M1969.8 340.585 L1969.8 344.567 Q1968 343.571 1966.17 343.085 Q1964.37 342.576 1962.51 342.576 Q1958.37 342.576 1956.08 345.215 Q1953.79 347.831 1953.79 352.576 Q1953.79 357.321 1956.08 359.96 Q1958.37 362.576 1962.51 362.576 Q1964.37 362.576 1966.17 362.09 Q1968 361.581 1969.8 360.585 L1969.8 364.52 Q1968.02 365.354 1966.1 365.77 Q1964.2 366.187 1962.05 366.187 Q1956.19 366.187 1952.74 362.506 Q1949.3 358.826 1949.3 352.576 Q1949.3 346.233 1952.77 342.599 Q1956.26 338.965 1962.33 338.965 Q1964.3 338.965 1966.17 339.382 Q1968.05 339.775 1969.8 340.585 Z\" fill=\"#000000\" fill-rule=\"evenodd\" fill-opacity=\"1\" /><path clip-path=\"url(#clip600)\" d=\"M2012.47 344.567 Q2014.06 341.696 2016.29 340.331 Q2018.51 338.965 2021.52 338.965 Q2025.57 338.965 2027.77 341.812 Q2029.97 344.636 2029.97 349.868 L2029.97 365.516 L2025.68 365.516 L2025.68 350.007 Q2025.68 346.28 2024.36 344.474 Q2023.05 342.669 2020.34 342.669 Q2017.03 342.669 2015.11 344.868 Q2013.18 347.067 2013.18 350.863 L2013.18 365.516 L2008.9 365.516 L2008.9 350.007 Q2008.9 346.257 2007.58 344.474 Q2006.26 342.669 2003.51 342.669 Q2000.24 342.669 1998.32 344.891 Q1996.4 347.09 1996.4 350.863 L1996.4 365.516 L1992.12 365.516 L1992.12 339.59 L1996.4 339.59 L1996.4 343.618 Q1997.86 341.233 1999.9 340.099 Q2001.93 338.965 2004.74 338.965 Q2007.56 338.965 2009.53 340.4 Q2011.52 341.835 2012.47 344.567 Z\" fill=\"#000000\" fill-rule=\"evenodd\" fill-opacity=\"1\" /><path clip-path=\"url(#clip600)\" d=\"M2060.64 351.488 L2060.64 353.571 L2041.05 353.571 Q2041.33 357.969 2043.69 360.284 Q2046.08 362.576 2050.31 362.576 Q2052.77 362.576 2055.06 361.974 Q2057.37 361.372 2059.64 360.169 L2059.64 364.196 Q2057.35 365.168 2054.94 365.678 Q2052.54 366.187 2050.06 366.187 Q2043.86 366.187 2040.22 362.576 Q2036.61 358.965 2036.61 352.807 Q2036.61 346.442 2040.04 342.715 Q2043.49 338.965 2049.32 338.965 Q2054.55 338.965 2057.58 342.345 Q2060.64 345.701 2060.64 351.488 M2056.38 350.238 Q2056.33 346.743 2054.41 344.659 Q2052.51 342.576 2049.36 342.576 Q2045.8 342.576 2043.65 344.59 Q2041.52 346.604 2041.19 350.261 L2056.38 350.238 Z\" fill=\"#000000\" fill-rule=\"evenodd\" fill-opacity=\"1\" /><path clip-path=\"url(#clip600)\" d=\"M2079.41 352.483 Q2074.25 352.483 2072.26 353.664 Q2070.27 354.844 2070.27 357.692 Q2070.27 359.96 2071.75 361.303 Q2073.25 362.622 2075.82 362.622 Q2079.36 362.622 2081.49 360.122 Q2083.65 357.599 2083.65 353.432 L2083.65 352.483 L2079.41 352.483 M2087.91 350.724 L2087.91 365.516 L2083.65 365.516 L2083.65 361.581 Q2082.19 363.942 2080.01 365.076 Q2077.84 366.187 2074.69 366.187 Q2070.71 366.187 2068.35 363.965 Q2066.01 361.719 2066.01 357.969 Q2066.01 353.594 2068.92 351.372 Q2071.86 349.15 2077.67 349.15 L2083.65 349.15 L2083.65 348.733 Q2083.65 345.794 2081.7 344.196 Q2079.78 342.576 2076.29 342.576 Q2074.06 342.576 2071.96 343.108 Q2069.85 343.641 2067.91 344.706 L2067.91 340.77 Q2070.24 339.868 2072.44 339.428 Q2074.64 338.965 2076.73 338.965 Q2082.35 338.965 2085.13 341.882 Q2087.91 344.798 2087.91 350.724 Z\" fill=\"#000000\" fill-rule=\"evenodd\" fill-opacity=\"1\" /><path clip-path=\"url(#clip600)\" d=\"M2118.23 349.868 L2118.23 365.516 L2113.97 365.516 L2113.97 350.007 Q2113.97 346.326 2112.54 344.497 Q2111.1 342.669 2108.23 342.669 Q2104.78 342.669 2102.79 344.868 Q2100.8 347.067 2100.8 350.863 L2100.8 365.516 L2096.52 365.516 L2096.52 339.59 L2100.8 339.59 L2100.8 343.618 Q2102.33 341.28 2104.39 340.122 Q2106.47 338.965 2109.18 338.965 Q2113.65 338.965 2115.94 341.743 Q2118.23 344.497 2118.23 349.868 Z\" fill=\"#000000\" fill-rule=\"evenodd\" fill-opacity=\"1\" /><path clip-path=\"url(#clip600)\" d=\"M2151.84 342.576 Q2148.42 342.576 2146.42 345.261 Q2144.43 347.923 2144.43 352.576 Q2144.43 357.229 2146.4 359.914 Q2148.39 362.576 2151.84 362.576 Q2155.24 362.576 2157.23 359.891 Q2159.23 357.206 2159.23 352.576 Q2159.23 347.97 2157.23 345.284 Q2155.24 342.576 2151.84 342.576 M2151.84 338.965 Q2157.4 338.965 2160.57 342.576 Q2163.74 346.187 2163.74 352.576 Q2163.74 358.942 2160.57 362.576 Q2157.4 366.187 2151.84 366.187 Q2146.26 366.187 2143.09 362.576 Q2139.94 358.942 2139.94 352.576 Q2139.94 346.187 2143.09 342.576 Q2146.26 338.965 2151.84 338.965 Z\" fill=\"#000000\" fill-rule=\"evenodd\" fill-opacity=\"1\" /><path clip-path=\"url(#clip600)\" d=\"M2183.92 329.497 L2183.92 333.039 L2179.85 333.039 Q2177.56 333.039 2176.66 333.965 Q2175.78 334.891 2175.78 337.298 L2175.78 339.59 L2182.79 339.59 L2182.79 342.9 L2175.78 342.9 L2175.78 365.516 L2171.49 365.516 L2171.49 342.9 L2167.42 342.9 L2167.42 339.59 L2171.49 339.59 L2171.49 337.784 Q2171.49 333.456 2173.51 331.488 Q2175.52 329.497 2179.9 329.497 L2183.92 329.497 Z\" fill=\"#000000\" fill-rule=\"evenodd\" fill-opacity=\"1\" /><path clip-path=\"url(#clip600)\" d=\"M2207.42 334.798 L2207.42 361.673 L2213.07 361.673 Q2220.22 361.673 2223.53 358.432 Q2226.86 355.192 2226.86 348.201 Q2226.86 341.257 2223.53 338.039 Q2220.22 334.798 2213.07 334.798 L2207.42 334.798 M2202.74 330.956 L2212.35 330.956 Q2222.4 330.956 2227.1 335.146 Q2231.79 339.312 2231.79 348.201 Q2231.79 357.136 2227.07 361.326 Q2222.35 365.516 2212.35 365.516 L2202.74 365.516 L2202.74 330.956 Z\" fill=\"#000000\" fill-rule=\"evenodd\" fill-opacity=\"1\" /></svg>\n"
      ]
     },
     "execution_count": 16,
     "metadata": {},
     "output_type": "execute_result"
    }
   ],
   "source": [
    "all_times = [0:Δt:t₁;]# LinRange(0, t₁, 1000)\n",
    "all_D = UD_trained(all_times')'\n",
    "all_fake_D = fakeD.(all_times)\n",
    "\n",
    "plot(all_times, all_D, title=\"Simulated D values by the NN\", yaxis=\"Diffusivity (D)\", xaxis=\"Time\", label=\"NN\")\n",
    "plot!(fakeD, 0, t₁, label=\"fake\")\n",
    "hline!([geomean(all_fake_D)], label=\"geometric mean of D\", linestyle = :dashdot)"
   ]
  },
  {
   "cell_type": "code",
   "execution_count": 17,
   "id": "4c01bdec",
   "metadata": {},
   "outputs": [
    {
     "data": {
      "text/plain": [
       "2.648335573159686"
      ]
     },
     "execution_count": 17,
     "metadata": {},
     "output_type": "execute_result"
    }
   ],
   "source": [
    "geomean(all_fake_D)"
   ]
  },
  {
   "cell_type": "code",
   "execution_count": 18,
   "id": "c832aa76",
   "metadata": {},
   "outputs": [
    {
     "data": {
      "text/plain": [
       "3.0235476f0"
      ]
     },
     "execution_count": 18,
     "metadata": {},
     "output_type": "execute_result"
    }
   ],
   "source": [
    "geomean(all_D)"
   ]
  },
  {
   "cell_type": "code",
   "execution_count": 19,
   "id": "301acc95",
   "metadata": {},
   "outputs": [
    {
     "data": {
      "text/plain": [
       "3.0420027f0"
      ]
     },
     "execution_count": 19,
     "metadata": {},
     "output_type": "execute_result"
    }
   ],
   "source": [
    "mean(all_D)"
   ]
  },
  {
   "cell_type": "code",
   "execution_count": 20,
   "id": "c4f2d88b",
   "metadata": {},
   "outputs": [
    {
     "data": {
      "text/plain": [
       "2.8668299999999998"
      ]
     },
     "execution_count": 20,
     "metadata": {},
     "output_type": "execute_result"
    }
   ],
   "source": [
    "mean(all_fake_D)"
   ]
  }
 ],
 "metadata": {
  "kernelspec": {
   "display_name": "Julia 1.6.0",
   "language": "julia",
   "name": "julia-1.6"
  },
  "language_info": {
   "file_extension": ".jl",
   "mimetype": "application/julia",
   "name": "julia",
   "version": "1.6.0"
  }
 },
 "nbformat": 4,
 "nbformat_minor": 5
}
