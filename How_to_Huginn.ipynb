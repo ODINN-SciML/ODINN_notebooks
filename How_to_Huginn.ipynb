{
 "cells": [
  {
   "cell_type": "markdown",
   "id": "3a0a9a98",
   "metadata": {},
   "source": [
    "# How to use Huginn.jl"
   ]
  },
  {
   "cell_type": "code",
   "execution_count": 1,
   "id": "7c244d1d",
   "metadata": {},
   "outputs": [
    {
     "name": "stderr",
     "output_type": "stream",
     "text": [
      "\u001b[32m\u001b[1m  Activating\u001b[22m\u001b[39m project at `~/Julia/ODINN_notebooks`\n"
     ]
    }
   ],
   "source": [
    "import Pkg\n",
    "Pkg.activate(dirname(Base.current_project()))"
   ]
  },
  {
   "cell_type": "markdown",
   "id": "c175b0a2",
   "metadata": {},
   "source": [
    "We import Huginn.jl"
   ]
  },
  {
   "cell_type": "code",
   "execution_count": 2,
   "id": "9f7c8d51",
   "metadata": {},
   "outputs": [
    {
     "name": "stdout",
     "output_type": "stream",
     "text": [
      "Initializing Python libraries...\n"
     ]
    },
    {
     "name": "stdout",
     "output_type": "stream",
     "text": [
      "Initializing Python libraries...\n"
     ]
    },
    {
     "name": "stdout",
     "output_type": "stream",
     "text": [
      "Initializing Python libraries...\n"
     ]
    },
    {
     "name": "stdout",
     "output_type": "stream",
     "text": [
      "Initializing Python libraries...\n"
     ]
    }
   ],
   "source": [
    "using Huginn\n",
    "using Plots"
   ]
  },
  {
   "cell_type": "markdown",
   "id": "60ccd769",
   "metadata": {},
   "source": [
    "We need to specify a working directory where all data generated will be stored, similarly than it's done with OGGM."
   ]
  },
  {
   "cell_type": "code",
   "execution_count": 3,
   "id": "66ab014b",
   "metadata": {},
   "outputs": [],
   "source": [
    "working_dir = joinpath(dirname(Base.current_project()), \"data\")\n",
    "if !ispath(working_dir)\n",
    "    mkdir(\"data\")\n",
    "end"
   ]
  },
  {
   "cell_type": "markdown",
   "id": "d745c343",
   "metadata": {},
   "source": [
    "## Creating model parameters"
   ]
  },
  {
   "cell_type": "markdown",
   "id": "5e126792",
   "metadata": {},
   "source": [
    "The first thing we need to do in order to use ODINN.jl and Huginn.jl (its ice flow modelling package) is to generate some model parameters. There are multiple types of model parameters:\n",
    "- `Parameters`: this parent object holds all the types of model parameters.\n",
    "- `SolverParameters`: specifies all the configurations needed for the numerical solvers.\n",
    "- `OGGMparametes`: contains the settings related to the use of OGGM within ODINN.jl.\n",
    "- `SimulationParameters`: configures anything related to running simulations with ODINN.jl.\n",
    "- `PhysicalParameters`: settings related to the physics used in the simulations. "
   ]
  },
  {
   "cell_type": "markdown",
   "id": "6ad31a48",
   "metadata": {},
   "source": [
    "We can directly create a `Parameters` object, and specify any details we want for our simulation. Fields that are not specified will be filled automatically with default values."
   ]
  },
  {
   "cell_type": "code",
   "execution_count": 4,
   "id": "e9e7c53b",
   "metadata": {},
   "outputs": [
    {
     "name": "stderr",
     "output_type": "stream",
     "text": [
      "2023-09-26 11:53:06: oggm.cfg: Reading default parameters from the OGGM `params.cfg` configuration file.\n",
      "2023-09-26 11:53:06: oggm.cfg: Multiprocessing switched OFF according to the parameter file.\n",
      "2023-09-26 11:53:06: oggm.cfg: Multiprocessing: using all available processors (N=4)\n",
      "2023-09-26 11:53:06: oggm.cfg: PARAMS['hydro_month_nh'] changed from `10` to `1`.\n",
      "2023-09-26 11:53:06: oggm.cfg: PARAMS['dl_verify'] changed from `True` to `False`.\n",
      "2023-09-26 11:53:06: oggm.cfg: PARAMS['continue_on_error'] changed from `False` to `True`.\n",
      "2023-09-26 11:53:06: oggm.cfg: Multiprocessing switched ON after user settings.\n",
      "2023-09-26 11:53:06: oggm.cfg: Multiprocessing: using the requested number of processors (N=2)\n"
     ]
    },
    {
     "data": {
      "text/plain": [
       "Sleipnir.Parameters{PhysicalParameters{Float64}, SimulationParameters{Float64}, Nothing, SolverParameters{Float64, Int64}, Nothing, OGGMparameters}(PhysicalParameters{Float64}(900.0, 9.81, 0.001, 1.0, 8.0e-17, 8.5e-20, 1.0, -25.0, 5.0e-18), SimulationParameters{Float64}(true, true, true, true, false, Float64, Int64, (2010.0, 2015.0), 0.08333333333333333, true, 2, \"/home/jovyan/Julia/ODINN_notebooks/data\"), OGGMparameters(\"/home/jovyan/Julia/ODINN_notebooks/data\", PyCall.PyDict{PyCall.PyAny, PyCall.PyAny, true}(\"dl_cache_dir\" => \"/home/jovyan/OGGM/download_cache\", \"tmp_dir\" => \"/home/jovyan/OGGM/tmp\", \"rgi_dir\" => \"/home/jovyan/OGGM/rgi\", \"test_dir\" => \"/home/jovyan/OGGM/tests\", \"working_dir\" => \"/home/jovyan/Julia/ODINN_notebooks/data\", \"dem_file\" => \"\", \"climate_file\" => \"\"), PyCall.PyDict{PyCall.PyAny, PyCall.PyAny, true}(\"has_internet\" => true, \"dl_cache_readonly\" => false, \"use_multiprocessing\" => true, \"use_mp_spawn\" => false, \"mp_processes\" => 2, \"lru_maxsize\" => 100, \"continue_on_error\" => true, \"grid_dx_method\" => \"square\", \"map_proj\" => \"tmerc\", \"topo_interp\" => \"cubic\"…), true, 2, \"Farinotti19\", \"https://cluster.klima.uni-bremen.de/~oggm/gdirs/oggm_v1.6/L1-L2_files/elev_bands/\"), nothing, SolverParameters{Float64, Int64}(RDPK3Sp35(; stage_limiter! = trivial_limiter!, step_limiter! = trivial_limiter!, thread = static(false),), 1.0e-8, 0.08333333333333333, nothing, false, true, 10), nothing)"
      ]
     },
     "metadata": {},
     "output_type": "display_data"
    }
   ],
   "source": [
    "params = Parameters(OGGM = OGGMparameters(working_dir=working_dir,\n",
    "                                              multiprocessing=true,\n",
    "                                              workers=2,\n",
    "                                              ice_thickness_source = \"Farinotti19\"),\n",
    "                        simulation = SimulationParameters(use_MB=true,\n",
    "                                                          tspan=(2010.0, 2015.0),\n",
    "                                                          working_dir = working_dir,\n",
    "                                                          multiprocessing=true,\n",
    "                                                          workers=2),\n",
    "                        solver = SolverParameters(reltol=1e-8)\n",
    "                        ) "
   ]
  },
  {
   "cell_type": "markdown",
   "id": "0a0beb23",
   "metadata": {},
   "source": [
    "## Choosing a model"
   ]
  },
  {
   "cell_type": "markdown",
   "id": "52208b54",
   "metadata": {},
   "source": [
    "The next step is to specify which model we want to use for the simulations. Right now options are a little bit limited, but the flexible architecture of ODINN.jl (thanks to Sleipnir.jl), means that new ice flow, mass balance models and machine learning models can be easily added in a seamless manner. For now, we will choose the default options:"
   ]
  },
  {
   "cell_type": "code",
   "execution_count": 5,
   "id": "17041c08",
   "metadata": {},
   "outputs": [
    {
     "data": {
      "text/plain": [
       "Sleipnir.Model{SIA2Dmodel{Float64, Int64}, TImodel1{Float64}, Nothing}(SIA2Dmodel{Float64, Int64}(nothing, nothing, nothing, nothing, nothing, nothing, nothing, nothing, nothing, nothing, nothing, nothing, nothing, nothing, nothing, nothing, nothing, nothing, nothing, nothing, nothing, nothing, nothing, nothing, nothing, nothing, nothing, nothing), TImodel1{Float64}(0.005, 0.001), nothing)"
      ]
     },
     "metadata": {},
     "output_type": "display_data"
    }
   ],
   "source": [
    "model = Model(iceflow = SIA2Dmodel(params), mass_balance = TImodel1(params))"
   ]
  },
  {
   "cell_type": "markdown",
   "id": "fae90454",
   "metadata": {},
   "source": [
    "## Initializing glaciers"
   ]
  },
  {
   "cell_type": "markdown",
   "id": "365fa61a",
   "metadata": {},
   "source": [
    "The next step, is to choose which glaciers we want to work with, and initialize them. Intitializing them means downloading all the necessary topographical and climate data, which is done thanks to OGGM. Data is stored in Glacier Directories (`gdirs`), which are saved on disk as separate folders. Sleipnir.jl has a Julia interface to OGGM, which is connected to both Huginn.jl and ODINN.jl. This enables us to retrieve all sorts of data for any glacier on Earth."
   ]
  },
  {
   "cell_type": "markdown",
   "id": "a77428a6",
   "metadata": {},
   "source": [
    "First we specify the RGI IDs of the glaciers we want to simulate. All RGI IDs can be found [here](https://www.glims.org/maps/glims)."
   ]
  },
  {
   "cell_type": "code",
   "execution_count": 6,
   "id": "15d167fc",
   "metadata": {},
   "outputs": [
    {
     "data": {
      "text/plain": [
       "5-element Vector{String}:\n",
       " \"RGI60-11.03638\"\n",
       " \"RGI60-11.01450\"\n",
       " \"RGI60-08.00213\"\n",
       " \"RGI60-04.04351\"\n",
       " \"RGI60-01.02170\""
      ]
     },
     "metadata": {},
     "output_type": "display_data"
    }
   ],
   "source": [
    "rgi_ids = [\"RGI60-11.03638\", \"RGI60-11.01450\", \"RGI60-08.00213\", \"RGI60-04.04351\", \"RGI60-01.02170\"]"
   ]
  },
  {
   "cell_type": "markdown",
   "id": "61afa3d2",
   "metadata": {},
   "source": [
    "Then, we initialize these glaciers in the following way."
   ]
  },
  {
   "cell_type": "code",
   "execution_count": 7,
   "id": "f24b9e9b",
   "metadata": {},
   "outputs": [
    {
     "name": "stderr",
     "output_type": "stream",
     "text": [
      "┌ Info: Filtering out these glaciers from RGI ID list: String[]\n",
      "└ @ Sleipnir /home/jovyan/.julia/dev/Sleipnir/src/glaciers/glacier/glacier2D_utils.jl:350\n",
      "2023-09-26 11:53:19: oggm.workflow: Execute entity tasks [GlacierDirectory] on 5 glaciers\n",
      "2023-09-26 11:53:20: oggm.utils: Applying global task compile_task_log on 5 glaciers\n"
     ]
    },
    {
     "name": "stdout",
     "output_type": "stream",
     "text": [
      "Getting raw climate data for: RGI60-11.03638\n"
     ]
    },
    {
     "name": "stdout",
     "output_type": "stream",
     "text": [
      "Getting raw climate data for: RGI60-11.01450\n"
     ]
    },
    {
     "name": "stderr",
     "output_type": "stream",
     "text": [
      "2023-09-26 11:53:22: MBsandbox.mbmod_daily_oneflowline: (RGI60-11.03638) process_w5e5_data\n"
     ]
    },
    {
     "name": "stdout",
     "output_type": "stream",
     "text": [
      "Getting raw climate data for: RGI60-08.00213\n"
     ]
    },
    {
     "name": "stderr",
     "output_type": "stream",
     "text": [
      "2023-09-26 11:53:30: MBsandbox.mbmod_daily_oneflowline: (RGI60-11.01450) process_w5e5_data\n"
     ]
    },
    {
     "name": "stdout",
     "output_type": "stream",
     "text": [
      "Getting raw climate data for: RGI60-04.04351\n"
     ]
    },
    {
     "name": "stderr",
     "output_type": "stream",
     "text": [
      "2023-09-26 11:53:34: MBsandbox.mbmod_daily_oneflowline: (RGI60-08.00213) process_w5e5_data\n"
     ]
    },
    {
     "name": "stdout",
     "output_type": "stream",
     "text": [
      "Getting raw climate data for: RGI60-01.02170\n"
     ]
    },
    {
     "name": "stderr",
     "output_type": "stream",
     "text": [
      "2023-09-26 11:53:39: MBsandbox.mbmod_daily_oneflowline: (RGI60-04.04351) process_w5e5_data\n"
     ]
    },
    {
     "name": "stderr",
     "output_type": "stream",
     "text": [
      "2023-09-26 11:53:44: MBsandbox.mbmod_daily_oneflowline: (RGI60-01.02170) process_w5e5_data\n"
     ]
    },
    {
     "data": {
      "text/plain": [
       "5-element Vector{Glacier2D}:\n",
       " Glacier2D{Float64, Int64}(\"RGI60-11.03638\", PyObject <oggm.GlacierDirectory>\n",
       "  RGI id: RGI60-11.03638\n",
       "  Region: 11: Central Europe\n",
       "  Subregion: 11-01: Alps                            \n",
       "  Name: Fr4N01235A08 Dargentiere\n",
       "  Glacier type: Glacier\n",
       "  Terminus type: Land-terminating\n",
       "  Status: Glacier or ice cap\n",
       "  Area: 13.795 km2\n",
       "  Lon, Lat: (6.985, 45.951)\n",
       "  Grid (nx, ny): (138, 129)\n",
       "  Grid (dx, dy): (62.0, -62.0)\n",
       ", Climate2D{Float64}(PyObject <xarray.Dataset>\n",
       "Dimensions:   (time: 1827)\n",
       "Coordinates:\n",
       "  * time      (time) datetime64[ns] 2010-01-01 2010-01-02 ... 2015-01-01\n",
       "Data variables:\n",
       "    prcp      (time) float32 ...\n",
       "    temp      (time) float64 -6.147 -12.03 -17.27 ... -18.98 -16.58 -11.98\n",
       "    gradient  (time) float32 -0.005414 -0.005414 ... -0.005462 -0.005525\n",
       "Attributes:\n",
       "    ref_hgt:         1940.0\n",
       "    ref_pix_lon:     6.75\n",
       "    ref_pix_lat:     45.75\n",
       "    ref_pix_dis:     28823.67358258575\n",
       "    climate_source:  temp: W5E5_daily, prcp: W5E5_daily, lapse rate: ERA5dr\n",
       "    hydro_yr_0:      1979\n",
       "    hydro_yr_1:      2019\n",
       "    author:          OGGM\n",
       "    author_info:     Open Global Glacier Model, Base.RefValue{PyCall.PyObject}(PyObject <xarray.Dataset>\n",
       "Dimensions:   (time: 31)\n",
       "Coordinates:\n",
       "  * time      (time) datetime64[ns] 2010-01-01 2010-01-02 ... 2010-01-31\n",
       "Data variables:\n",
       "    prcp      (time) float32 ...\n",
       "    temp      (time) float64 -6.147 -12.03 -17.27 ... -11.89 -11.74 -15.99\n",
       "    gradient  (time) float32 -0.005414 -0.005414 ... -0.005414 -0.005414\n",
       "Attributes:\n",
       "    ref_hgt:         1940.0\n",
       "    ref_pix_lon:     6.75\n",
       "    ref_pix_lat:     45.75\n",
       "    ref_pix_dis:     28823.67358258575\n",
       "    climate_source:  temp: W5E5_daily, prcp: W5E5_daily, lapse rate: ERA5dr\n",
       "    hydro_yr_0:      1979\n",
       "    hydro_yr_1:      2019\n",
       "    author:          OGGM\n",
       "    author_info:     Open Global Glacier Model), Base.RefValue{PyCall.PyObject}(PyObject <xarray.Dataset>\n",
       "Dimensions:       ()\n",
       "Data variables:\n",
       "    prcp          float32 74.86\n",
       "    temp          float32 0.0\n",
       "    gradient      float32 -0.1678\n",
       "    avg_temp      float32 -6.1\n",
       "    avg_gradient  float32 -0.005414\n",
       "Attributes:\n",
       "    ref_pix_lon:     6.75\n",
       "    author:          OGGM\n",
       "    ref_pix_dis:     28823.67358258575\n",
       "    hydro_yr_0:      1979\n",
       "    ref_hgt:         1940.0\n",
       "    hydro_yr_1:      2019\n",
       "    ref_pix_lat:     45.75\n",
       "    climate_source:  temp: W5E5_daily, prcp: W5E5_daily, lapse rate: ERA5dr\n",
       "    author_info:     Open Global Glacier Model), Climate2Dstep{Float64}([-3.414873406291008 -3.512317841872573 … -12.103668912313879 -12.060360274277627; -3.257879593409598 -3.328256130218506 … -12.022465215995908 -11.984570157714188; … ; -6.47354596760124 -6.4843731271103024 … -12.93194661475718 -12.980668832547963; -6.511441025882959 -6.511441025882959 … -12.65585404727608 -12.764125642366707], [83.23920369148254 80.21842613816261 … 0.0 0.0; 88.10601197183132 85.9243392944336 … 0.0 0.0; … ; 0.0 0.0 … 0.0 0.0; 0.0 0.0 … 0.0 0.0], [74.85592651367188 74.85592651367188 … 74.85592651367188 74.85592651367188; 74.85592651367188 74.85592651367188 … 74.85592651367188 74.85592651367188; … ; 74.85592651367188 74.85592651367188 … 74.85592651367188 74.85592651367188; 74.85592651367188 74.85592651367188 … 74.85592651367188 74.85592651367188], [0.0 0.0 … 0.0 0.0; 0.0 0.0 … 0.0 0.0; … ; 0.0 0.0 … 0.0 0.0; 0.0 0.0 … 0.0 0.0], Base.RefValue{Float64}(-0.1678209751844406), Base.RefValue{Float64}(-0.0054135797545313835), [-3574.000795094602, -3512.000795094602, -3450.000795094602, -3388.000795094602, -3326.000795094602, -3264.000795094602, -3202.000795094602, -3140.000795094602, -3078.000795094602, -3016.000795094602  …  4361.999204905398, 4423.999204905398, 4485.999204905398, 4547.999204905398, 4609.999204905398, 4671.999204905398, 4733.999204905398, 4795.999204905398, 4857.999204905398, 4919.999204905398], [5.092213517640131e6, 5.092151517640131e6, 5.092089517640131e6, 5.092027517640131e6, 5.091965517640131e6, 5.091903517640131e6, 5.091841517640131e6, 5.091779517640131e6, 5.091717517640131e6, 5.091655517640131e6  …  5.084835517640131e6, 5.084773517640131e6, 5.084711517640131e6, 5.084649517640131e6, 5.084587517640131e6, 5.084525517640131e6, 5.084463517640131e6, 5.084401517640131e6, 5.084339517640131e6, 5.084277517640131e6], Base.RefValue{Float64}(1940.0)), [-2.719549884105829, -1.329815362071433, -1.8322757628663935, -2.2312451565517963, -1.0453901773220957, -11.982095593260743], Base.RefValue{PyCall.PyObject}(PyObject <xarray.DataArray 'temp' ()>\n",
       "array(-11.46025372)), Base.RefValue{PyCall.PyObject}(PyObject <xarray.DataArray 'gradient' ()>\n",
       "array(-0.00541358, dtype=float32))), [0.0 0.0 … 0.0 0.0; 0.0 0.0 … 0.0 0.0; … ; 0.0 0.0 … 0.0 0.0; 0.0 0.0 … 0.0 0.0], [1444.0 1462.0 … 3049.0 3041.0; 1415.0 1428.0 … 3034.0 3027.0; … ; 2009.0 2011.0 … 3202.0 3211.0; 2016.0 2016.0 … 3151.0 3171.0], [1444.0 1462.0 … 3049.0 3041.0; 1415.0 1428.0 … 3034.0 3027.0; … ; 2009.0 2011.0 … 3202.0 3211.0; 2016.0 2016.0 … 3151.0 3171.0], [0.0 0.0 … 0.0 0.0; 0.0 0.0 … 0.0 0.0; … ; 0.0 0.0 … 0.0 0.0; 0.0 0.0 … 0.0 0.0], 4.0e-17, 0.0, 3.0, [0.26333749294281006 0.2997112274169922 … 0.21216821670532227 0.17940235137939453; 0.30017560720443726 0.33361193537712097 … 0.24302229285240173 0.21402207016944885; … ; 0.05129331350326538 0.055259667336940765 … 0.43800997734069824 0.41369444131851196; 0.04149910807609558 0.04539371654391289 … 0.3657304048538208 0.34190183877944946], [964.49365234375 921.6962890625 … 3254.852294921875 3274.281005859375; 921.6962890625 876.8124389648438 … 3195.85791015625 3215.64306640625; … ; 3814.385986328125 3770.29345703125 … 1318.1380615234375 1359.76611328125; 3857.974609375 3814.385986328125 … 1365.4083251953125 1405.63720703125], PyObject <xarray.DataArray (band: 1, y: 129, x: 138)>\n",
       "[17802 values with dtype=int16]\n",
       "Coordinates:\n",
       "  * band         (band) int64 1\n",
       "  * x            (x) float64 -3.574e+03 -3.512e+03 ... 4.858e+03 4.92e+03\n",
       "  * y            (y) float64 5.092e+06 5.092e+06 ... 5.084e+06 5.084e+06\n",
       "    spatial_ref  int64 0\n",
       "Attributes:\n",
       "    AREA_OR_POINT:  Area\n",
       "    _FillValue:     -32768\n",
       "    scale_factor:   1.0\n",
       "    add_offset:     0.0, 62.0, 62.0, 129, 138)\n",
       " Glacier2D{Float64, Int64}(\"RGI60-11.01450\", PyObject <oggm.GlacierDirectory>\n",
       "  RGI id: RGI60-11.01450\n",
       "  Region: 11: Central Europe\n",
       "  Subregion: 11-01: Alps                            \n",
       "  Glacier type: Glacier\n",
       "  Terminus type: Land-terminating\n",
       "  Status: Glacier or ice cap\n",
       "  Area: 82.206 km2\n",
       "  Lon, Lat: (8.01919, 46.5028)\n",
       "  Grid (nx, ny): (107, 154)\n",
       "  Grid (dx, dy): (137.0, -137.0)\n",
       ", Climate2D{Float64}(PyObject <xarray.Dataset>\n",
       "Dimensions:   (time: 1827)\n",
       "Coordinates:\n",
       "  * time      (time) datetime64[ns] 2010-01-01 2010-01-02 ... 2015-01-01\n",
       "Data variables:\n",
       "    prcp      (time) float32 ...\n",
       "    temp      (time) float64 -7.152 -13.85 -18.79 ... -14.07 -12.34 -11.89\n",
       "    gradient  (time) float32 -0.00549 -0.00549 -0.00549 ... -0.005486 -0.005552\n",
       "Attributes:\n",
       "    ref_hgt:         1764.0\n",
       "    ref_pix_lon:     8.25\n",
       "    ref_pix_lat:     46.75\n",
       "    ref_pix_dis:     32652.873631988525\n",
       "    climate_source:  temp: W5E5_daily, prcp: W5E5_daily, lapse rate: ERA5dr\n",
       "    hydro_yr_0:      1979\n",
       "    hydro_yr_1:      2019\n",
       "    author:          OGGM\n",
       "    author_info:     Open Global Glacier Model, Base.RefValue{PyCall.PyObject}(PyObject <xarray.Dataset>\n",
       "Dimensions:   (time: 31)\n",
       "Coordinates:\n",
       "  * time      (time) datetime64[ns] 2010-01-01 2010-01-02 ... 2010-01-31\n",
       "Data variables:\n",
       "    prcp      (time) float32 ...\n",
       "    temp      (time) float64 -7.152 -13.85 -18.79 ... -11.63 -13.07 -16.74\n",
       "    gradient  (time) float32 -0.00549 -0.00549 -0.00549 ... -0.00549 -0.00549\n",
       "Attributes:\n",
       "    ref_hgt:         1764.0\n",
       "    ref_pix_lon:     8.25\n",
       "    ref_pix_lat:     46.75\n",
       "    ref_pix_dis:     32652.873631988525\n",
       "    climate_source:  temp: W5E5_daily, prcp: W5E5_daily, lapse rate: ERA5dr\n",
       "    hydro_yr_0:      1979\n",
       "    hydro_yr_1:      2019\n",
       "    author:          OGGM\n",
       "    author_info:     Open Global Glacier Model), Base.RefValue{PyCall.PyObject}(PyObject <xarray.Dataset>\n",
       "Dimensions:       ()\n",
       "Data variables:\n",
       "    prcp          float32 128.7\n",
       "    temp          float32 0.0\n",
       "    gradient      float32 -0.1702\n",
       "    avg_temp      float32 -6.3\n",
       "    avg_gradient  float32 -0.00549\n",
       "Attributes:\n",
       "    ref_pix_lon:     8.25\n",
       "    author:          OGGM\n",
       "    ref_pix_dis:     32652.873631988525\n",
       "    hydro_yr_0:      1979\n",
       "    ref_hgt:         1764.0\n",
       "    hydro_yr_1:      2019\n",
       "    ref_pix_lat:     46.75\n",
       "    climate_source:  temp: W5E5_daily, prcp: W5E5_daily, lapse rate: ERA5dr\n",
       "    author_info:     Open Global Glacier Model), Climate2Dstep{Float64}([-1.2601500023156404 -2.907157374545932 … -10.329670598730445 -10.823772810399532; -1.3040701989084482 -2.7973568830639124 … -10.274770352989435 -10.75240249093622; … ; -11.114744112826884 -10.505351385101676 … -4.180843075737357 -4.016142338514328; -11.49355580843985 -10.895143129862845 … -3.9722221419215202 -3.785561306402087], [156.23512360453606 105.17789366841316 … 0.0 0.0; 154.8735974729061 108.58170899748802 … 0.0 0.0; … ; 0.0 0.0 … 65.69363585114479 70.79935884475708; 0.0 0.0 … 72.16088497638702 77.94737103581429], [128.73695373535156 128.73695373535156 … 128.73695373535156 128.73695373535156; 128.73695373535156 128.73695373535156 … 128.73695373535156 128.73695373535156; … ; 128.73695373535156 128.73695373535156 … 128.73695373535156 128.73695373535156; 128.73695373535156 128.73695373535156 … 128.73695373535156 128.73695373535156], [0.0 0.0 … 0.0 0.0; 0.0 0.0 … 0.0 0.0; … ; 0.0 0.0 … 0.0 0.0; 0.0 0.0 … 0.0 0.0], Base.RefValue{Float64}(-0.17019076645374298), Base.RefValue{Float64}(-0.005490024574100971), [-8040.935911986846, -7903.935911986846, -7766.935911986846, -7629.935911986846, -7492.935911986846, -7355.935911986846, -7218.935911986846, -7081.935911986846, -6944.935911986846, -6807.935911986846  …  5248.064088013154, 5385.064088013154, 5522.064088013154, 5659.064088013154, 5796.064088013154, 5933.064088013154, 6070.064088013154, 6207.064088013154, 6344.064088013154, 6481.064088013154], [5.157938037070896e6, 5.157801037070896e6, 5.157664037070896e6, 5.157527037070896e6, 5.157390037070896e6, 5.157253037070896e6, 5.157116037070896e6, 5.156979037070896e6, 5.156842037070896e6, 5.156705037070896e6  …  5.138210037070896e6, 5.138073037070896e6, 5.137936037070896e6, 5.137799037070896e6, 5.137662037070896e6, 5.137525037070896e6, 5.137388037070896e6, 5.137251037070896e6, 5.137114037070896e6, 5.136977037070896e6], Base.RefValue{Float64}(1764.0)), [-3.5666599876595697, -2.0139129849325896, -2.5461123918978257, -2.9344821574189677, -1.6937699904620431, -11.893152212645415], Base.RefValue{PyCall.PyObject}(PyObject <xarray.DataArray 'temp' ()>\n",
       "array(-12.3928947)), Base.RefValue{PyCall.PyObject}(PyObject <xarray.DataArray 'gradient' ()>\n",
       "array(-0.00549002, dtype=float32))), [0.0 0.0 … 0.0 0.0; 0.0 0.0 … 0.0 0.0; … ; 0.0 0.0 … 0.0 0.0; 0.0 0.0 … 0.0 0.0], [846.0 1146.0 … 2498.0 2588.0; 854.0 1126.0 … 2488.0 2575.0; … ; 2641.0 2530.0 … 1378.0 1348.0; 2710.0 2601.0 … 1340.0 1306.0], [846.0 1146.0 … 2498.0 2588.0; 854.0 1126.0 … 2488.0 2575.0; … ; 2641.0 2530.0 … 1378.0 1348.0; 2710.0 2601.0 … 1340.0 1306.0], [0.0 0.0 … 0.0 0.0; 0.0 0.0 … 0.0 0.0; … ; 0.0 0.0 … 0.0 0.0; 0.0 0.0 … 0.0 0.0], 4.0e-17, 0.0, 3.0, [0.9472689032554626 1.0095874071121216 … 0.24143970012664795 0.26247644424438477; 0.9230257868766785 0.987739622592926 … 0.2259633094072342 0.2478460967540741; … ; 0.6016299724578857 0.7187372446060181 … 0.29461753368377686 0.24773536622524261; 0.5779117345809937 0.715782105922699 … 0.26524582505226135 0.23156745731830597], [5563.27978515625 5455.97216796875 … 4166.6923828125 4262.439453125; 5480.0 5371.02880859375 … 4068.6923828125 4166.6923828125; … ; 8564.41796875 8428.5625 … 4193.63232421875 4301.88720703125; 8583.025390625 8447.4697265625 … 4280.0166015625 4386.14013671875], PyObject <xarray.DataArray (band: 1, y: 154, x: 107)>\n",
       "[16478 values with dtype=int16]\n",
       "Coordinates:\n",
       "  * band         (band) int64 1\n",
       "  * x            (x) float64 -8.041e+03 -7.904e+03 ... 6.344e+03 6.481e+03\n",
       "  * y            (y) float64 5.158e+06 5.158e+06 ... 5.137e+06 5.137e+06\n",
       "    spatial_ref  int64 0\n",
       "Attributes:\n",
       "    AREA_OR_POINT:  Area\n",
       "    _FillValue:     -32768\n",
       "    scale_factor:   1.0\n",
       "    add_offset:     0.0, 137.0, 137.0, 154, 107)\n",
       " Glacier2D{Float64, Int64}(\"RGI60-08.00213\", PyObject <oggm.GlacierDirectory>\n",
       "  RGI id: RGI60-08.00213\n",
       "  Region: 08: Scandinavia\n",
       "  Subregion: 08-01: N Scandinavia                     \n",
       "  Name: Storglaciaeren\n",
       "  Glacier type: Glacier\n",
       "  Terminus type: Land-terminating\n",
       "  Status: Glacier or ice cap\n",
       "  Area: 3.405 km2\n",
       "  Lon, Lat: (18.569, 67.903)\n",
       "  Grid (nx, ny): (110, 75)\n",
       "  Grid (dx, dy): (36.0, -36.0)\n",
       ", Climate2D{Float64}(PyObject <xarray.Dataset>\n",
       "Dimensions:   (time: 1827)\n",
       "Coordinates:\n",
       "  * time      (time) datetime64[ns] 2010-01-01 2010-01-02 ... 2015-01-01\n",
       "Data variables:\n",
       "    prcp      (time) float32 ...\n",
       "    temp      (time) float64 -27.4 -24.42 -19.86 -27.65 ... -7.947 -4.861 -4.464\n",
       "    gradient  (time) float32 -0.005089 -0.005089 ... -0.005701 -0.005269\n",
       "Attributes:\n",
       "    ref_hgt:         868.0\n",
       "    ref_pix_lon:     18.75\n",
       "    ref_pix_lat:     67.75\n",
       "    ref_pix_dis:     18631.514633949486\n",
       "    climate_source:  temp: W5E5_daily, prcp: W5E5_daily, lapse rate: ERA5dr\n",
       "    hydro_yr_0:      1979\n",
       "    hydro_yr_1:      2019\n",
       "    author:          OGGM\n",
       "    author_info:     Open Global Glacier Model, Base.RefValue{PyCall.PyObject}(PyObject <xarray.Dataset>\n",
       "Dimensions:   (time: 31)\n",
       "Coordinates:\n",
       "  * time      (time) datetime64[ns] 2010-01-01 2010-01-02 ... 2010-01-31\n",
       "Data variables:\n",
       "    prcp      (time) float32 ...\n",
       "    temp      (time) float64 -27.4 -24.42 -19.86 -27.65 ... -34.01 -31.92 -30.2\n",
       "    gradient  (time) float32 -0.005089 -0.005089 ... -0.005089 -0.005089\n",
       "Attributes:\n",
       "    ref_hgt:         868.0\n",
       "    ref_pix_lon:     18.75\n",
       "    ref_pix_lat:     67.75\n",
       "    ref_pix_dis:     18631.514633949486\n",
       "    climate_source:  temp: W5E5_daily, prcp: W5E5_daily, lapse rate: ERA5dr\n",
       "    hydro_yr_0:      1979\n",
       "    hydro_yr_1:      2019\n",
       "    author:          OGGM\n",
       "    author_info:     Open Global Glacier Model), Base.RefValue{PyCall.PyObject}(PyObject <xarray.Dataset>\n",
       "Dimensions:       ()\n",
       "Data variables:\n",
       "    prcp          float32 17.07\n",
       "    temp          float32 0.0\n",
       "    gradient      float32 -0.1578\n",
       "    avg_temp      float32 -16.8\n",
       "    avg_gradient  float32 -0.005089\n",
       "Attributes:\n",
       "    ref_pix_lon:     18.75\n",
       "    author:          OGGM\n",
       "    ref_pix_dis:     18631.514633949486\n",
       "    hydro_yr_0:      1979\n",
       "    ref_hgt:         868.0\n",
       "    hydro_yr_1:      2019\n",
       "    ref_pix_lat:     67.75\n",
       "    climate_source:  temp: W5E5_daily, prcp: W5E5_daily, lapse rate: ERA5dr\n",
       "    author_info:     Open Global Glacier Model), Climate2Dstep{Float64}([-20.276756677818753 -20.34805491823454 … -18.62030833196559 -18.661560464026707; -20.269064844261834 -20.340200327417733 … -18.604671210798188 -18.64643894791925; … ; -20.716821869216574 -20.700279022534232 … -18.757676701731498 -18.662462462276153; -20.70610039002429 -20.69087513169393 … -18.742503625118047 -18.663296127324884], [0.0 0.0 … 0.0 0.0; 0.0 0.0 … 0.0 0.0; … ; 0.0 0.0 … 0.0 0.0; 0.0 0.0 … 0.0 0.0], [17.06604766845703 17.06604766845703 … 17.06604766845703 17.06604766845703; 17.06604766845703 17.06604766845703 … 17.06604766845703 17.06604766845703; … ; 17.06604766845703 17.06604766845703 … 17.06604766845703 17.06604766845703; 17.06604766845703 17.06604766845703 … 17.06604766845703 17.06604766845703], [0.0 0.0 … 0.0 0.0; 0.0 0.0 … 0.0 0.0; … ; 0.0 0.0 … 0.0 0.0; 0.0 0.0 … 0.0 0.0], Base.RefValue{Float64}(-0.15775775909423828), Base.RefValue{Float64}(-0.0050889598205685616), [-1905.2941644849757, -1869.2941644849757, -1833.2941644849757, -1797.2941644849757, -1761.2941644849757, -1725.2941644849757, -1689.2941644849757, -1653.2941644849757, -1617.2941644849757, -1581.2941644849757  …  1694.7058355150243, 1730.7058355150243, 1766.7058355150243, 1802.7058355150243, 1838.7058355150243, 1874.7058355150243, 1910.7058355150243, 1946.7058355150243, 1982.7058355150243, 2018.7058355150243], [7.533762146041028e6, 7.533726146041028e6, 7.533690146041028e6, 7.533654146041028e6, 7.533618146041028e6, 7.533582146041028e6, 7.533546146041028e6, 7.533510146041028e6, 7.533474146041028e6, 7.533438146041028e6  …  7.531422146041028e6, 7.531386146041028e6, 7.531350146041028e6, 7.531314146041028e6, 7.531278146041028e6, 7.531242146041028e6, 7.531206146041028e6, 7.531170146041028e6, 7.531134146041028e6, 7.531098146041028e6], Base.RefValue{Float64}(868.0)), [-7.466278404516486, -4.8497844841343305, -6.7594016124002865, -5.516396947764371, -5.364691118333958, -4.463852271990618], Base.RefValue{PyCall.PyObject}(PyObject <xarray.DataArray 'temp' ()>\n",
       "array(-19.7669106)), Base.RefValue{PyCall.PyObject}(PyObject <xarray.DataArray 'gradient' ()>\n",
       "array(-0.00508896, dtype=float32))), [0.0 0.0 … 0.0 0.0; 0.0 0.0 … 0.0 0.0; … ; 0.0 0.0 … 0.0 0.0; 0.0 0.0 … 0.0 0.0], [1551.1942138671875 1565.20458984375 … 1225.69580078125 1233.802001953125; 1549.6827392578125 1563.6611328125 … 1222.623046875 1230.83056640625; … ; 1637.668701171875 1634.41796875 … 1252.689208984375 1233.979248046875; 1635.5618896484375 1632.570068359375 … 1249.7076416015625 1234.14306640625], [1551.1942138671875 1565.20458984375 … 1225.69580078125 1233.802001953125; 1549.6827392578125 1563.6611328125 … 1222.623046875 1230.83056640625; … ; 1637.668701171875 1634.41796875 … 1252.689208984375 1233.979248046875; 1635.5618896484375 1632.570068359375 … 1249.7076416015625 1234.14306640625], [0.0 0.0 … 0.0 0.0; 0.0 0.0 … 0.0 0.0; … ; 0.0 0.0 … 0.0 0.0; 0.0 0.0 … 0.0 0.0], 4.0e-17, 0.0, 3.0, [0.2046089619398117 0.2876814007759094 … 0.10150101035833359 0.07916288077831268; 0.2037002146244049 0.28504201769828796 … 0.10753844678401947 0.08654753118753433; … ; 0.04993753880262375 0.05083298683166504 … 0.25575530529022217 0.18848896026611328; 0.03614075854420662 0.03793627768754959 … 0.25974854826927185 0.19051285088062286], [738.6582641601562 714.57958984375 … 1571.6793212890625 1584.4090576171875; 712.7636108398438 687.779052734375 … 1537.920654296875 1550.927490234375; … ; 871.4677124023438 843.5069580078125 … 714.57958984375 742.1589965820312; 894.221435546875 866.9948120117188 … 738.6582641601562 765.3704833984375], PyObject <xarray.DataArray (band: 1, y: 75, x: 110)>\n",
       "[8250 values with dtype=float32]\n",
       "Coordinates:\n",
       "  * band         (band) int64 1\n",
       "  * x            (x) float64 -1.905e+03 -1.869e+03 ... 1.983e+03 2.019e+03\n",
       "  * y            (y) float64 7.534e+06 7.534e+06 ... 7.531e+06 7.531e+06\n",
       "    spatial_ref  int64 0\n",
       "Attributes:\n",
       "    AREA_OR_POINT:  Area\n",
       "    _FillValue:     -9999.0\n",
       "    scale_factor:   1.0\n",
       "    add_offset:     0.0, 36.0, 36.0, 75, 110)\n",
       " Glacier2D{Float64, Int64}(\"RGI60-04.04351\", PyObject <oggm.GlacierDirectory>\n",
       "  RGI id: RGI60-04.04351\n",
       "  Region: 04: Arctic Canada South\n",
       "  Subregion: 04-06: SE Baffin Island                \n",
       "  Glacier type: Glacier\n",
       "  Terminus type: Land-terminating\n",
       "  Status: Glacier or ice cap\n",
       "  Area: 24.775 km2\n",
       "  Lon, Lat: (-63.2105, 66.5244)\n",
       "  Grid (nx, ny): (132, 104)\n",
       "  Grid (dx, dy): (80.0, -80.0)\n",
       ", Climate2D{Float64}(PyObject <xarray.Dataset>\n",
       "Dimensions:   (time: 1827)\n",
       "Coordinates:\n",
       "  * time      (time) datetime64[ns] 2010-01-01 2010-01-02 ... 2015-01-01\n",
       "Data variables:\n",
       "    prcp      (time) float32 ...\n",
       "    temp      (time) float64 -16.15 -14.06 -11.8 -14.9 ... -22.77 -24.18 -16.54\n",
       "    gradient  (time) float32 -0.003539 -0.003539 ... -0.004029 -0.003832\n",
       "Attributes:\n",
       "    ref_hgt:         627.0\n",
       "    ref_pix_lon:     -63.25\n",
       "    ref_pix_lat:     66.75\n",
       "    ref_pix_dis:     25145.967280797926\n",
       "    climate_source:  temp: W5E5_daily, prcp: W5E5_daily, lapse rate: ERA5dr\n",
       "    hydro_yr_0:      1979\n",
       "    hydro_yr_1:      2019\n",
       "    author:          OGGM\n",
       "    author_info:     Open Global Glacier Model, Base.RefValue{PyCall.PyObject}(PyObject <xarray.Dataset>\n",
       "Dimensions:   (time: 31)\n",
       "Coordinates:\n",
       "  * time      (time) datetime64[ns] 2010-01-01 2010-01-02 ... 2010-01-31\n",
       "Data variables:\n",
       "    prcp      (time) float32 ...\n",
       "    temp      (time) float64 -16.15 -14.06 -11.8 -14.9 ... -11.66 -15.92 -14.83\n",
       "    gradient  (time) float32 -0.003539 -0.003539 ... -0.003539 -0.003539\n",
       "Attributes:\n",
       "    ref_hgt:         627.0\n",
       "    ref_pix_lon:     -63.25\n",
       "    ref_pix_lat:     66.75\n",
       "    ref_pix_dis:     25145.967280797926\n",
       "    climate_source:  temp: W5E5_daily, prcp: W5E5_daily, lapse rate: ERA5dr\n",
       "    hydro_yr_0:      1979\n",
       "    hydro_yr_1:      2019\n",
       "    author:          OGGM\n",
       "    author_info:     Open Global Glacier Model), Base.RefValue{PyCall.PyObject}(PyObject <xarray.Dataset>\n",
       "Dimensions:       ()\n",
       "Data variables:\n",
       "    prcp          float32 0.0\n",
       "    temp          float32 0.0\n",
       "    gradient      float32 -0.1097\n",
       "    avg_temp      float32 -20.0\n",
       "    avg_gradient  float32 -0.003539\n",
       "Attributes:\n",
       "    ref_pix_lon:     -63.25\n",
       "    author:          OGGM\n",
       "    ref_pix_dis:     25145.967280797926\n",
       "    hydro_yr_0:      1979\n",
       "    ref_hgt:         627.0\n",
       "    hydro_yr_1:      2019\n",
       "    ref_pix_lat:     66.75\n",
       "    climate_source:  temp: W5E5_daily, prcp: W5E5_daily, lapse rate: ERA5dr\n",
       "    author_info:     Open Global Glacier Model), Climate2Dstep{Float64}([-22.16061898239377 -22.004172053587922 … -20.932990824188835 -20.936871830287657; -22.198121261409256 -22.014483527768107 … -20.980721625901595 -20.989450109282927; … ; -22.189324515870112 -22.1100449321965 … -18.911045836041637 -18.869086426956187; -21.983196993464162 -21.906795653431914 … -18.89855710145457 -18.861376151425617], [0.0 0.0 … 0.0 0.0; 0.0 0.0 … 0.0 0.0; … ; 0.0 0.0 … 33.75781530739005 35.058556977997796; 0.0 0.0 … 34.14496607630281 35.29757551741659], [0.0 0.0 … 0.0 0.0; 0.0 0.0 … 0.0 0.0; … ; 0.0 0.0 … 0.0 0.0; 0.0 0.0 … 0.0 0.0], [0.0 0.0 … 0.0 0.0; 0.0 0.0 … 0.0 0.0; … ; 0.0 0.0 … 0.0 0.0; 0.0 0.0 … 0.0 0.0], Base.RefValue{Float64}(-0.10971716046333313), Base.RefValue{Float64}(-0.0035392632707953453), [-4691.159835743049, -4611.159835743049, -4531.159835743049, -4451.159835743049, -4371.159835743049, -4291.159835743049, -4211.159835743049, -4131.159835743049, -4051.1598357430494, -3971.1598357430494  …  5068.840164256951, 5148.840164256951, 5228.840164256951, 5308.840164256951, 5388.840164256951, 5468.840164256951, 5548.840164256951, 5628.840164256951, 5708.840164256951, 5788.840164256951], [7.382861075547084e6, 7.382781075547084e6, 7.382701075547084e6, 7.382621075547084e6, 7.382541075547084e6, 7.382461075547084e6, 7.382381075547084e6, 7.382301075547084e6, 7.382221075547084e6, 7.382141075547084e6  …  7.375341075547084e6, 7.375261075547084e6, 7.375181075547084e6, 7.375101075547084e6, 7.375021075547084e6, 7.374941075547084e6, 7.374861075547084e6, 7.374781075547084e6, 7.374701075547084e6, 7.374621075547084e6], Base.RefValue{Float64}(627.0)), [-10.824074985286066, -13.01199974368334, -13.343941711575601, -14.260801901968128, -13.64998241954013, -16.541531400156543], Base.RefValue{PyCall.PyObject}(PyObject <xarray.DataArray 'temp' ()>\n",
       "array(-21.42492725)), Base.RefValue{PyCall.PyObject}(PyObject <xarray.DataArray 'gradient' ()>\n",
       "array(-0.00353926, dtype=float32))), [0.0 0.0 … 0.0 0.0; 0.0 0.0 … 0.0 0.0; … ; 0.0 0.0 … 0.0 0.0; 0.0 0.0 … 0.0 0.0], [1237.46923828125 1193.2659912109375 … 890.6094360351562 891.7059936523438; 1248.0653076171875 1196.179443359375 … 904.0955200195312 906.5617065429688; … ; 1245.579833984375 1223.1798095703125 … 319.31964111328125 307.4642333984375; 1187.339599609375 1165.7528076171875 … 315.791015625 305.2857360839844], [1237.46923828125 1193.2659912109375 … 890.6094360351562 891.7059936523438; 1248.0653076171875 1196.179443359375 … 904.0955200195312 906.5617065429688; … ; 1245.579833984375 1223.1798095703125 … 319.31964111328125 307.4642333984375; 1187.339599609375 1165.7528076171875 … 315.791015625 305.2857360839844], [0.0 0.0 … 0.0 0.0; 0.0 0.0 … 0.0 0.0; … ; 0.0 0.0 … 0.0 0.0; 0.0 0.0 … 0.0 0.0], 4.0e-17, 0.0, 3.0, [0.3233415484428406 0.4048551321029663 … 0.15066663920879364 0.1287834346294403; 0.32886743545532227 0.40852272510528564 … 0.21911178529262543 0.19435031712055206; … ; 0.4711599349975586 0.47508740425109863 … 0.15164917707443237 0.11191822588443756; 0.3992205858230591 0.4094068109989166 … 0.1468561589717865 0.10629212856292725], [2433.10498046875 2375.87890625 … 4086.269775390625 4160.0; 2378.571044921875 2320.0 … 4055.61328125 4129.89111328125; … ; 2688.047607421875 2641.2119140625 … 1360.0 1399.428466796875; 2752.744140625 2707.02783203125 … 1431.08349609375 1468.604736328125], PyObject <xarray.DataArray (band: 1, y: 104, x: 132)>\n",
       "[13728 values with dtype=float32]\n",
       "Coordinates:\n",
       "  * band         (band) int64 1\n",
       "  * x            (x) float64 -4.691e+03 -4.611e+03 ... 5.709e+03 5.789e+03\n",
       "  * y            (y) float64 7.383e+06 7.383e+06 ... 7.375e+06 7.375e+06\n",
       "    spatial_ref  int64 0\n",
       "Attributes:\n",
       "    AREA_OR_POINT:  Area\n",
       "    _FillValue:     -9999.0\n",
       "    scale_factor:   1.0\n",
       "    add_offset:     0.0, 80.0, 80.0, 104, 132)\n",
       " Glacier2D{Float64, Int64}(\"RGI60-01.02170\", PyObject <oggm.GlacierDirectory>\n",
       "  RGI id: RGI60-01.02170\n",
       "  Region: 01: Alaska\n",
       "  Subregion: 01-01: N Alaska                        \n",
       "  Name: Esetuk Glacier\n",
       "  Glacier type: Glacier\n",
       "  Terminus type: Land-terminating\n",
       "  Status: Glacier or ice cap\n",
       "  Area: 7.5 km2\n",
       "  Lon, Lat: (-144.303, 69.297)\n",
       "  Grid (nx, ny): (138, 111)\n",
       "  Grid (dx, dy): (48.0, -48.0)\n",
       ", Climate2D{Float64}(PyObject <xarray.Dataset>\n",
       "Dimensions:   (time: 1827)\n",
       "Coordinates:\n",
       "  * time      (time) datetime64[ns] 2010-01-01 2010-01-02 ... 2015-01-01\n",
       "Data variables:\n",
       "    prcp      (time) float32 ...\n",
       "    temp      (time) float64 -34.83 -32.8 -31.4 -33.51 ... -20.18 -16.67 -26.83\n",
       "    gradient  (time) float32 -0.004368 -0.004368 ... -0.004817 -0.00466\n",
       "Attributes:\n",
       "    ref_hgt:         1410.0\n",
       "    ref_pix_lon:     -144.25\n",
       "    ref_pix_lat:     69.25\n",
       "    ref_pix_dis:     5626.9776759698425\n",
       "    climate_source:  temp: W5E5_daily, prcp: W5E5_daily, lapse rate: ERA5dr\n",
       "    hydro_yr_0:      1979\n",
       "    hydro_yr_1:      2019\n",
       "    author:          OGGM\n",
       "    author_info:     Open Global Glacier Model, Base.RefValue{PyCall.PyObject}(PyObject <xarray.Dataset>\n",
       "Dimensions:   (time: 31)\n",
       "Coordinates:\n",
       "  * time      (time) datetime64[ns] 2010-01-01 2010-01-02 ... 2010-01-31\n",
       "Data variables:\n",
       "    prcp      (time) float32 ...\n",
       "    temp      (time) float64 -34.83 -32.8 -31.4 -33.51 ... -26.72 -21.63 -17.2\n",
       "    gradient  (time) float32 -0.004368 -0.004368 ... -0.004368 -0.004368\n",
       "Attributes:\n",
       "    ref_hgt:         1410.0\n",
       "    ref_pix_lon:     -144.25\n",
       "    ref_pix_lat:     69.25\n",
       "    ref_pix_dis:     5626.9776759698425\n",
       "    climate_source:  temp: W5E5_daily, prcp: W5E5_daily, lapse rate: ERA5dr\n",
       "    hydro_yr_0:      1979\n",
       "    hydro_yr_1:      2019\n",
       "    author:          OGGM\n",
       "    author_info:     Open Global Glacier Model), Base.RefValue{PyCall.PyObject}(PyObject <xarray.Dataset>\n",
       "Dimensions:       ()\n",
       "Data variables:\n",
       "    prcp          float32 10.57\n",
       "    temp          float32 0.0\n",
       "    gradient      float32 -0.1354\n",
       "    avg_temp      float32 -27.9\n",
       "    avg_gradient  float32 -0.004368\n",
       "Attributes:\n",
       "    ref_pix_lon:     -144.25\n",
       "    author:          OGGM\n",
       "    ref_pix_dis:     5626.9776759698425\n",
       "    hydro_yr_0:      1979\n",
       "    ref_hgt:         1410.0\n",
       "    hydro_yr_1:      2019\n",
       "    ref_pix_lat:     69.25\n",
       "    climate_source:  temp: W5E5_daily, prcp: W5E5_daily, lapse rate: ERA5dr\n",
       "    author_info:     Open Global Glacier Model), Climate2Dstep{Float64}([-28.741301578903176 -28.735458427972162 … -30.64698089400963 -30.673915484247573; -28.753992488937683 -28.745836712930213 … -30.705978695187696 -30.731751907188027; … ; -27.002267243337656 -26.912580368831186 … -31.22218625992491 -31.354839330139384; -27.094090776520943 -27.00333050697668 … -31.093065315259537 -31.21929827804479], [0.0 0.0 … 0.0 0.0; 0.0 0.0 … 0.0 0.0; … ; 27.82923099130312 30.609524139246787 … 0.0 0.0; 24.982701423467006 27.796269818039946 … 0.0 0.0], [10.574098587036133 10.574098587036133 … 10.574098587036133 10.574098587036133; 10.574098587036133 10.574098587036133 … 10.574098587036133 10.574098587036133; … ; 10.574098587036133 10.574098587036133 … 10.574098587036133 10.574098587036133; 10.574098587036133 10.574098587036133 … 10.574098587036133 10.574098587036133], [0.0 0.0 … 0.0 0.0; 0.0 0.0 … 0.0 0.0; … ; 0.0 0.0 … 0.0 0.0; 0.0 0.0 … 0.0 0.0], Base.RefValue{Float64}(-0.1354152113199234), Base.RefValue{Float64}(-0.004368232563138008), [-3594.724428461747, -3546.724428461747, -3498.724428461747, -3450.724428461747, -3402.724428461747, -3354.724428461747, -3306.724428461747, -3258.724428461747, -3210.724428461747, -3162.724428461747  …  2549.275571538253, 2597.275571538253, 2645.275571538253, 2693.275571538253, 2741.275571538253, 2789.275571538253, 2837.275571538253, 2885.275571538253, 2933.275571538253, 2981.275571538253], [7.690726159559622e6, 7.690678159559622e6, 7.690630159559622e6, 7.690582159559622e6, 7.690534159559622e6, 7.690486159559622e6, 7.690438159559622e6, 7.690390159559622e6, 7.690342159559622e6, 7.690294159559622e6  …  7.685878159559622e6, 7.685830159559622e6, 7.685782159559622e6, 7.685734159559622e6, 7.685686159559622e6, 7.685638159559622e6, 7.685590159559622e6, 7.685542159559622e6, 7.685494159559622e6, 7.685446159559622e6], Base.RefValue{Float64}(1410.0)), [-15.399026656220313, -15.922785255014455, -17.07460606355474, -16.005427606174056, -14.856120187218911, -26.82943928649803], Base.RefValue{PyCall.PyObject}(PyObject <xarray.DataArray 'temp' ()>\n",
       "array(-30.46268305)), Base.RefValue{PyCall.PyObject}(PyObject <xarray.DataArray 'gradient' ()>\n",
       "array(-0.00436823, dtype=float32))), [0.0 0.0 … 0.0 0.0; 0.0 0.0 … 0.0 0.0; … ; 0.0 0.0 … 0.0 0.0; 0.0 0.0 … 0.0 0.0], [1602.5989990234375 1601.2613525390625 … 2038.857666015625 2045.023681640625; 1605.5042724609375 1603.63720703125 … 2052.36376953125 2058.263916015625; … ; 1204.4896240234375 1183.9580078125 … 2170.536865234375 2200.904541015625; 1225.5103759765625 1204.7330322265625 … 2140.977783203125 2169.875732421875], [1602.5989990234375 1601.2613525390625 … 2038.857666015625 2045.023681640625; 1605.5042724609375 1603.63720703125 … 2052.36376953125 2058.263916015625; … ; 1204.4896240234375 1183.9580078125 … 2170.536865234375 2200.904541015625; 1225.5103759765625 1204.7330322265625 … 2140.977783203125 2169.875732421875], [0.0 0.0 … 0.0 0.0; 0.0 0.0 … 0.0 0.0; … ; 0.0 0.0 … 0.0 0.0; 0.0 0.0 … 0.0 0.0], 4.0e-17, 0.0, 3.0, [0.03104482777416706 0.04904063045978546 … 0.15484803915023804 0.14635732769966125; 0.035492751747369766 0.05618934705853462 … 0.20003679394721985 0.193211168050766; … ; 0.28327006101608276 0.31988802552223206 … 0.5254784822463989 0.4792175889015198; 0.2539433240890503 0.30171093344688416 … 0.46624556183815 0.41041088104248047], [746.7047729492188 713.5712890625 … 2496.0 2514.851806640625; 713.5712890625 678.822509765625 … 2451.76171875 2470.951171875; … ; 2809.1279296875 2763.23291015625 … 1481.79345703125 1502.6376953125; 2823.44482421875 2777.7861328125 … 1524.70849609375 1545.71923828125], PyObject <xarray.DataArray (band: 1, y: 111, x: 138)>\n",
       "[15318 values with dtype=float32]\n",
       "Coordinates:\n",
       "  * band         (band) int64 1\n",
       "  * x            (x) float64 -3.595e+03 -3.547e+03 ... 2.933e+03 2.981e+03\n",
       "  * y            (y) float64 7.691e+06 7.691e+06 ... 7.685e+06 7.685e+06\n",
       "    spatial_ref  int64 0\n",
       "Attributes:\n",
       "    AREA_OR_POINT:  Area\n",
       "    _FillValue:     -9999.0\n",
       "    scale_factor:   1.0\n",
       "    add_offset:     0.0, 48.0, 48.0, 111, 138)"
      ]
     },
     "metadata": {},
     "output_type": "display_data"
    },
    {
     "name": "stderr",
     "output_type": "stream",
     "text": [
      "/home/jovyan/.local/lib/python3.9/site-packages/oggm/utils/_workflow.py:2828: FutureWarning: Calling float on a single element Series is deprecated and will raise a TypeError in the future. Use float(ser.iloc[0]) instead\n",
      "  return np.round(float(_area), decimals=3)\n",
      "/home/jovyan/.local/lib/python3.9/site-packages/oggm/utils/_workflow.py:2828: FutureWarning: Calling float on a single element Series is deprecated and will raise a TypeError in the future. Use float(ser.iloc[0]) instead\n",
      "  return np.round(float(_area), decimals=3)\n",
      "/home/jovyan/.local/lib/python3.9/site-packages/oggm/utils/_workflow.py:2828: FutureWarning: Calling float on a single element Series is deprecated and will raise a TypeError in the future. Use float(ser.iloc[0]) instead\n",
      "  return np.round(float(_area), decimals=3)\n",
      "/home/jovyan/.local/lib/python3.9/site-packages/oggm/utils/_workflow.py:2828: FutureWarning: Calling float on a single element Series is deprecated and will raise a TypeError in the future. Use float(ser.iloc[0]) instead\n",
      "  return np.round(float(_area), decimals=3)\n",
      "/home/jovyan/.local/lib/python3.9/site-packages/oggm/utils/_workflow.py:2828: FutureWarning: Calling float on a single element Series is deprecated and will raise a TypeError in the future. Use float(ser.iloc[0]) instead\n",
      "  return np.round(float(_area), decimals=3)\n"
     ]
    }
   ],
   "source": [
    "glaciers = initialize_glaciers(rgi_ids, params)"
   ]
  },
  {
   "cell_type": "markdown",
   "id": "c86a1612",
   "metadata": {},
   "source": [
    "## Create a simulation"
   ]
  },
  {
   "cell_type": "markdown",
   "id": "5d8af393",
   "metadata": {},
   "source": [
    "In the modelling framework of ODINN.jl, we can have different types of simulations. For now, the main ones are:\n",
    "- `Prediction`: A forward run of a differential equation describing ice flow, with or without mass balance.\n",
    "- `Inversion`: A classic inversion of one or more parameters. Can be steady state or transient, performed by computing the gradients of the solution of the differential equation w.r.t. the parameters of interest.\n",
    "- `FunctionalInversion`: The inversion of a function, captured by a neural network embedded in a differential equation (i.e. a Universal Differential Equation)."
   ]
  },
  {
   "cell_type": "markdown",
   "id": "1b631a25",
   "metadata": {},
   "source": [
    "For now, we will stick to the simplest and most tested case, a `Prediction`. A simulation is composed by a model, a list of glaciers and a set of parameters."
   ]
  },
  {
   "cell_type": "code",
   "execution_count": 8,
   "id": "c23c2709",
   "metadata": {},
   "outputs": [
    {
     "data": {
      "text/plain": [
       "Prediction(Sleipnir.Model{SIA2Dmodel{Float64, Int64}, TImodel1{Float64}, Nothing}(SIA2Dmodel{Float64, Int64}(nothing, nothing, nothing, nothing, nothing, nothing, nothing, nothing, nothing, nothing, nothing, nothing, nothing, nothing, nothing, nothing, nothing, nothing, nothing, nothing, nothing, nothing, nothing, nothing, nothing, nothing, nothing, nothing), TImodel1{Float64}(0.005, 0.001), nothing), AbstractGlacier[Glacier2D{Float64, Int64}(\"RGI60-11.03638\", PyObject <oggm.GlacierDirectory>\n",
       "  RGI id: RGI60-11.03638\n",
       "  Region: 11: Central Europe\n",
       "  Subregion: 11-01: Alps                            \n",
       "  Name: Fr4N01235A08 Dargentiere\n",
       "  Glacier type: Glacier\n",
       "  Terminus type: Land-terminating\n",
       "  Status: Glacier or ice cap\n",
       "  Area: 13.795 km2\n",
       "  Lon, Lat: (6.985, 45.951)\n",
       "  Grid (nx, ny): (138, 129)\n",
       "  Grid (dx, dy): (62.0, -62.0)\n",
       ", Climate2D{Float64}(PyObject <xarray.Dataset>\n",
       "Dimensions:   (time: 1827)\n",
       "Coordinates:\n",
       "  * time      (time) datetime64[ns] 2010-01-01 2010-01-02 ... 2015-01-01\n",
       "Data variables:\n",
       "    prcp      (time) float32 ...\n",
       "    temp      (time) float64 -6.147 -12.03 -17.27 ... -18.98 -16.58 -11.98\n",
       "    gradient  (time) float32 -0.005414 -0.005414 ... -0.005462 -0.005525\n",
       "Attributes:\n",
       "    ref_hgt:         1940.0\n",
       "    ref_pix_lon:     6.75\n",
       "    ref_pix_lat:     45.75\n",
       "    ref_pix_dis:     28823.67358258575\n",
       "    climate_source:  temp: W5E5_daily, prcp: W5E5_daily, lapse rate: ERA5dr\n",
       "    hydro_yr_0:      1979\n",
       "    hydro_yr_1:      2019\n",
       "    author:          OGGM\n",
       "    author_info:     Open Global Glacier Model, Base.RefValue{PyCall.PyObject}(PyObject <xarray.Dataset>\n",
       "Dimensions:   (time: 31)\n",
       "Coordinates:\n",
       "  * time      (time) datetime64[ns] 2010-01-01 2010-01-02 ... 2010-01-31\n",
       "Data variables:\n",
       "    prcp      (time) float32 ...\n",
       "    temp      (time) float64 -6.147 -12.03 -17.27 ... -11.89 -11.74 -15.99\n",
       "    gradient  (time) float32 -0.005414 -0.005414 ... -0.005414 -0.005414\n",
       "Attributes:\n",
       "    ref_hgt:         1940.0\n",
       "    ref_pix_lon:     6.75\n",
       "    ref_pix_lat:     45.75\n",
       "    ref_pix_dis:     28823.67358258575\n",
       "    climate_source:  temp: W5E5_daily, prcp: W5E5_daily, lapse rate: ERA5dr\n",
       "    hydro_yr_0:      1979\n",
       "    hydro_yr_1:      2019\n",
       "    author:          OGGM\n",
       "    author_info:     Open Global Glacier Model), Base.RefValue{PyCall.PyObject}(PyObject <xarray.Dataset>\n",
       "Dimensions:       ()\n",
       "Data variables:\n",
       "    prcp          float32 74.86\n",
       "    temp          float32 0.0\n",
       "    gradient      float32 -0.1678\n",
       "    avg_temp      float32 -6.1\n",
       "    avg_gradient  float32 -0.005414\n",
       "Attributes:\n",
       "    ref_pix_lon:     6.75\n",
       "    author:          OGGM\n",
       "    ref_pix_dis:     28823.67358258575\n",
       "    hydro_yr_0:      1979\n",
       "    ref_hgt:         1940.0\n",
       "    hydro_yr_1:      2019\n",
       "    ref_pix_lat:     45.75\n",
       "    climate_source:  temp: W5E5_daily, prcp: W5E5_daily, lapse rate: ERA5dr\n",
       "    author_info:     Open Global Glacier Model), Climate2Dstep{Float64}([-3.414873406291008 -3.512317841872573 … -12.103668912313879 -12.060360274277627; -3.257879593409598 -3.328256130218506 … -12.022465215995908 -11.984570157714188; … ; -6.47354596760124 -6.4843731271103024 … -12.93194661475718 -12.980668832547963; -6.511441025882959 -6.511441025882959 … -12.65585404727608 -12.764125642366707], [83.23920369148254 80.21842613816261 … 0.0 0.0; 88.10601197183132 85.9243392944336 … 0.0 0.0; … ; 0.0 0.0 … 0.0 0.0; 0.0 0.0 … 0.0 0.0], [74.85592651367188 74.85592651367188 … 74.85592651367188 74.85592651367188; 74.85592651367188 74.85592651367188 … 74.85592651367188 74.85592651367188; … ; 74.85592651367188 74.85592651367188 … 74.85592651367188 74.85592651367188; 74.85592651367188 74.85592651367188 … 74.85592651367188 74.85592651367188], [0.0 0.0 … 0.0 0.0; 0.0 0.0 … 0.0 0.0; … ; 0.0 0.0 … 0.0 0.0; 0.0 0.0 … 0.0 0.0], Base.RefValue{Float64}(-0.1678209751844406), Base.RefValue{Float64}(-0.0054135797545313835), [-3574.000795094602, -3512.000795094602, -3450.000795094602, -3388.000795094602, -3326.000795094602, -3264.000795094602, -3202.000795094602, -3140.000795094602, -3078.000795094602, -3016.000795094602  …  4361.999204905398, 4423.999204905398, 4485.999204905398, 4547.999204905398, 4609.999204905398, 4671.999204905398, 4733.999204905398, 4795.999204905398, 4857.999204905398, 4919.999204905398], [5.092213517640131e6, 5.092151517640131e6, 5.092089517640131e6, 5.092027517640131e6, 5.091965517640131e6, 5.091903517640131e6, 5.091841517640131e6, 5.091779517640131e6, 5.091717517640131e6, 5.091655517640131e6  …  5.084835517640131e6, 5.084773517640131e6, 5.084711517640131e6, 5.084649517640131e6, 5.084587517640131e6, 5.084525517640131e6, 5.084463517640131e6, 5.084401517640131e6, 5.084339517640131e6, 5.084277517640131e6], Base.RefValue{Float64}(1940.0)), [-2.719549884105829, -1.329815362071433, -1.8322757628663935, -2.2312451565517963, -1.0453901773220957, -11.982095593260743], Base.RefValue{PyCall.PyObject}(PyObject <xarray.DataArray 'temp' ()>\n",
       "array(-11.46025372)), Base.RefValue{PyCall.PyObject}(PyObject <xarray.DataArray 'gradient' ()>\n",
       "array(-0.00541358, dtype=float32))), [0.0 0.0 … 0.0 0.0; 0.0 0.0 … 0.0 0.0; … ; 0.0 0.0 … 0.0 0.0; 0.0 0.0 … 0.0 0.0], [1444.0 1462.0 … 3049.0 3041.0; 1415.0 1428.0 … 3034.0 3027.0; … ; 2009.0 2011.0 … 3202.0 3211.0; 2016.0 2016.0 … 3151.0 3171.0], [1444.0 1462.0 … 3049.0 3041.0; 1415.0 1428.0 … 3034.0 3027.0; … ; 2009.0 2011.0 … 3202.0 3211.0; 2016.0 2016.0 … 3151.0 3171.0], [0.0 0.0 … 0.0 0.0; 0.0 0.0 … 0.0 0.0; … ; 0.0 0.0 … 0.0 0.0; 0.0 0.0 … 0.0 0.0], 4.0e-17, 0.0, 3.0, [0.26333749294281006 0.2997112274169922 … 0.21216821670532227 0.17940235137939453; 0.30017560720443726 0.33361193537712097 … 0.24302229285240173 0.21402207016944885; … ; 0.05129331350326538 0.055259667336940765 … 0.43800997734069824 0.41369444131851196; 0.04149910807609558 0.04539371654391289 … 0.3657304048538208 0.34190183877944946], [964.49365234375 921.6962890625 … 3254.852294921875 3274.281005859375; 921.6962890625 876.8124389648438 … 3195.85791015625 3215.64306640625; … ; 3814.385986328125 3770.29345703125 … 1318.1380615234375 1359.76611328125; 3857.974609375 3814.385986328125 … 1365.4083251953125 1405.63720703125], PyObject <xarray.DataArray (band: 1, y: 129, x: 138)>\n",
       "[17802 values with dtype=int16]\n",
       "Coordinates:\n",
       "  * band         (band) int64 1\n",
       "  * x            (x) float64 -3.574e+03 -3.512e+03 ... 4.858e+03 4.92e+03\n",
       "  * y            (y) float64 5.092e+06 5.092e+06 ... 5.084e+06 5.084e+06\n",
       "    spatial_ref  int64 0\n",
       "Attributes:\n",
       "    AREA_OR_POINT:  Area\n",
       "    _FillValue:     -32768\n",
       "    scale_factor:   1.0\n",
       "    add_offset:     0.0, 62.0, 62.0, 129, 138), Glacier2D{Float64, Int64}(\"RGI60-11.01450\", PyObject <oggm.GlacierDirectory>\n",
       "  RGI id: RGI60-11.01450\n",
       "  Region: 11: Central Europe\n",
       "  Subregion: 11-01: Alps                            \n",
       "  Glacier type: Glacier\n",
       "  Terminus type: Land-terminating\n",
       "  Status: Glacier or ice cap\n",
       "  Area: 82.206 km2\n",
       "  Lon, Lat: (8.01919, 46.5028)\n",
       "  Grid (nx, ny): (107, 154)\n",
       "  Grid (dx, dy): (137.0, -137.0)\n",
       ", Climate2D{Float64}(PyObject <xarray.Dataset>\n",
       "Dimensions:   (time: 1827)\n",
       "Coordinates:\n",
       "  * time      (time) datetime64[ns] 2010-01-01 2010-01-02 ... 2015-01-01\n",
       "Data variables:\n",
       "    prcp      (time) float32 ...\n",
       "    temp      (time) float64 -7.152 -13.85 -18.79 ... -14.07 -12.34 -11.89\n",
       "    gradient  (time) float32 -0.00549 -0.00549 -0.00549 ... -0.005486 -0.005552\n",
       "Attributes:\n",
       "    ref_hgt:         1764.0\n",
       "    ref_pix_lon:     8.25\n",
       "    ref_pix_lat:     46.75\n",
       "    ref_pix_dis:     32652.873631988525\n",
       "    climate_source:  temp: W5E5_daily, prcp: W5E5_daily, lapse rate: ERA5dr\n",
       "    hydro_yr_0:      1979\n",
       "    hydro_yr_1:      2019\n",
       "    author:          OGGM\n",
       "    author_info:     Open Global Glacier Model, Base.RefValue{PyCall.PyObject}(PyObject <xarray.Dataset>\n",
       "Dimensions:   (time: 31)\n",
       "Coordinates:\n",
       "  * time      (time) datetime64[ns] 2010-01-01 2010-01-02 ... 2010-01-31\n",
       "Data variables:\n",
       "    prcp      (time) float32 ...\n",
       "    temp      (time) float64 -7.152 -13.85 -18.79 ... -11.63 -13.07 -16.74\n",
       "    gradient  (time) float32 -0.00549 -0.00549 -0.00549 ... -0.00549 -0.00549\n",
       "Attributes:\n",
       "    ref_hgt:         1764.0\n",
       "    ref_pix_lon:     8.25\n",
       "    ref_pix_lat:     46.75\n",
       "    ref_pix_dis:     32652.873631988525\n",
       "    climate_source:  temp: W5E5_daily, prcp: W5E5_daily, lapse rate: ERA5dr\n",
       "    hydro_yr_0:      1979\n",
       "    hydro_yr_1:      2019\n",
       "    author:          OGGM\n",
       "    author_info:     Open Global Glacier Model), Base.RefValue{PyCall.PyObject}(PyObject <xarray.Dataset>\n",
       "Dimensions:       ()\n",
       "Data variables:\n",
       "    prcp          float32 128.7\n",
       "    temp          float32 0.0\n",
       "    gradient      float32 -0.1702\n",
       "    avg_temp      float32 -6.3\n",
       "    avg_gradient  float32 -0.00549\n",
       "Attributes:\n",
       "    ref_pix_lon:     8.25\n",
       "    author:          OGGM\n",
       "    ref_pix_dis:     32652.873631988525\n",
       "    hydro_yr_0:      1979\n",
       "    ref_hgt:         1764.0\n",
       "    hydro_yr_1:      2019\n",
       "    ref_pix_lat:     46.75\n",
       "    climate_source:  temp: W5E5_daily, prcp: W5E5_daily, lapse rate: ERA5dr\n",
       "    author_info:     Open Global Glacier Model), Climate2Dstep{Float64}([-1.2601500023156404 -2.907157374545932 … -10.329670598730445 -10.823772810399532; -1.3040701989084482 -2.7973568830639124 … -10.274770352989435 -10.75240249093622; … ; -11.114744112826884 -10.505351385101676 … -4.180843075737357 -4.016142338514328; -11.49355580843985 -10.895143129862845 … -3.9722221419215202 -3.785561306402087], [156.23512360453606 105.17789366841316 … 0.0 0.0; 154.8735974729061 108.58170899748802 … 0.0 0.0; … ; 0.0 0.0 … 65.69363585114479 70.79935884475708; 0.0 0.0 … 72.16088497638702 77.94737103581429], [128.73695373535156 128.73695373535156 … 128.73695373535156 128.73695373535156; 128.73695373535156 128.73695373535156 … 128.73695373535156 128.73695373535156; … ; 128.73695373535156 128.73695373535156 … 128.73695373535156 128.73695373535156; 128.73695373535156 128.73695373535156 … 128.73695373535156 128.73695373535156], [0.0 0.0 … 0.0 0.0; 0.0 0.0 … 0.0 0.0; … ; 0.0 0.0 … 0.0 0.0; 0.0 0.0 … 0.0 0.0], Base.RefValue{Float64}(-0.17019076645374298), Base.RefValue{Float64}(-0.005490024574100971), [-8040.935911986846, -7903.935911986846, -7766.935911986846, -7629.935911986846, -7492.935911986846, -7355.935911986846, -7218.935911986846, -7081.935911986846, -6944.935911986846, -6807.935911986846  …  5248.064088013154, 5385.064088013154, 5522.064088013154, 5659.064088013154, 5796.064088013154, 5933.064088013154, 6070.064088013154, 6207.064088013154, 6344.064088013154, 6481.064088013154], [5.157938037070896e6, 5.157801037070896e6, 5.157664037070896e6, 5.157527037070896e6, 5.157390037070896e6, 5.157253037070896e6, 5.157116037070896e6, 5.156979037070896e6, 5.156842037070896e6, 5.156705037070896e6  …  5.138210037070896e6, 5.138073037070896e6, 5.137936037070896e6, 5.137799037070896e6, 5.137662037070896e6, 5.137525037070896e6, 5.137388037070896e6, 5.137251037070896e6, 5.137114037070896e6, 5.136977037070896e6], Base.RefValue{Float64}(1764.0)), [-3.5666599876595697, -2.0139129849325896, -2.5461123918978257, -2.9344821574189677, -1.6937699904620431, -11.893152212645415], Base.RefValue{PyCall.PyObject}(PyObject <xarray.DataArray 'temp' ()>\n",
       "array(-12.3928947)), Base.RefValue{PyCall.PyObject}(PyObject <xarray.DataArray 'gradient' ()>\n",
       "array(-0.00549002, dtype=float32))), [0.0 0.0 … 0.0 0.0; 0.0 0.0 … 0.0 0.0; … ; 0.0 0.0 … 0.0 0.0; 0.0 0.0 … 0.0 0.0], [846.0 1146.0 … 2498.0 2588.0; 854.0 1126.0 … 2488.0 2575.0; … ; 2641.0 2530.0 … 1378.0 1348.0; 2710.0 2601.0 … 1340.0 1306.0], [846.0 1146.0 … 2498.0 2588.0; 854.0 1126.0 … 2488.0 2575.0; … ; 2641.0 2530.0 … 1378.0 1348.0; 2710.0 2601.0 … 1340.0 1306.0], [0.0 0.0 … 0.0 0.0; 0.0 0.0 … 0.0 0.0; … ; 0.0 0.0 … 0.0 0.0; 0.0 0.0 … 0.0 0.0], 4.0e-17, 0.0, 3.0, [0.9472689032554626 1.0095874071121216 … 0.24143970012664795 0.26247644424438477; 0.9230257868766785 0.987739622592926 … 0.2259633094072342 0.2478460967540741; … ; 0.6016299724578857 0.7187372446060181 … 0.29461753368377686 0.24773536622524261; 0.5779117345809937 0.715782105922699 … 0.26524582505226135 0.23156745731830597], [5563.27978515625 5455.97216796875 … 4166.6923828125 4262.439453125; 5480.0 5371.02880859375 … 4068.6923828125 4166.6923828125; … ; 8564.41796875 8428.5625 … 4193.63232421875 4301.88720703125; 8583.025390625 8447.4697265625 … 4280.0166015625 4386.14013671875], PyObject <xarray.DataArray (band: 1, y: 154, x: 107)>\n",
       "[16478 values with dtype=int16]\n",
       "Coordinates:\n",
       "  * band         (band) int64 1\n",
       "  * x            (x) float64 -8.041e+03 -7.904e+03 ... 6.344e+03 6.481e+03\n",
       "  * y            (y) float64 5.158e+06 5.158e+06 ... 5.137e+06 5.137e+06\n",
       "    spatial_ref  int64 0\n",
       "Attributes:\n",
       "    AREA_OR_POINT:  Area\n",
       "    _FillValue:     -32768\n",
       "    scale_factor:   1.0\n",
       "    add_offset:     0.0, 137.0, 137.0, 154, 107), Glacier2D{Float64, Int64}(\"RGI60-08.00213\", PyObject <oggm.GlacierDirectory>\n",
       "  RGI id: RGI60-08.00213\n",
       "  Region: 08: Scandinavia\n",
       "  Subregion: 08-01: N Scandinavia                     \n",
       "  Name: Storglaciaeren\n",
       "  Glacier type: Glacier\n",
       "  Terminus type: Land-terminating\n",
       "  Status: Glacier or ice cap\n",
       "  Area: 3.405 km2\n",
       "  Lon, Lat: (18.569, 67.903)\n",
       "  Grid (nx, ny): (110, 75)\n",
       "  Grid (dx, dy): (36.0, -36.0)\n",
       ", Climate2D{Float64}(PyObject <xarray.Dataset>\n",
       "Dimensions:   (time: 1827)\n",
       "Coordinates:\n",
       "  * time      (time) datetime64[ns] 2010-01-01 2010-01-02 ... 2015-01-01\n",
       "Data variables:\n",
       "    prcp      (time) float32 ...\n",
       "    temp      (time) float64 -27.4 -24.42 -19.86 -27.65 ... -7.947 -4.861 -4.464\n",
       "    gradient  (time) float32 -0.005089 -0.005089 ... -0.005701 -0.005269\n",
       "Attributes:\n",
       "    ref_hgt:         868.0\n",
       "    ref_pix_lon:     18.75\n",
       "    ref_pix_lat:     67.75\n",
       "    ref_pix_dis:     18631.514633949486\n",
       "    climate_source:  temp: W5E5_daily, prcp: W5E5_daily, lapse rate: ERA5dr\n",
       "    hydro_yr_0:      1979\n",
       "    hydro_yr_1:      2019\n",
       "    author:          OGGM\n",
       "    author_info:     Open Global Glacier Model, Base.RefValue{PyCall.PyObject}(PyObject <xarray.Dataset>\n",
       "Dimensions:   (time: 31)\n",
       "Coordinates:\n",
       "  * time      (time) datetime64[ns] 2010-01-01 2010-01-02 ... 2010-01-31\n",
       "Data variables:\n",
       "    prcp      (time) float32 ...\n",
       "    temp      (time) float64 -27.4 -24.42 -19.86 -27.65 ... -34.01 -31.92 -30.2\n",
       "    gradient  (time) float32 -0.005089 -0.005089 ... -0.005089 -0.005089\n",
       "Attributes:\n",
       "    ref_hgt:         868.0\n",
       "    ref_pix_lon:     18.75\n",
       "    ref_pix_lat:     67.75\n",
       "    ref_pix_dis:     18631.514633949486\n",
       "    climate_source:  temp: W5E5_daily, prcp: W5E5_daily, lapse rate: ERA5dr\n",
       "    hydro_yr_0:      1979\n",
       "    hydro_yr_1:      2019\n",
       "    author:          OGGM\n",
       "    author_info:     Open Global Glacier Model), Base.RefValue{PyCall.PyObject}(PyObject <xarray.Dataset>\n",
       "Dimensions:       ()\n",
       "Data variables:\n",
       "    prcp          float32 17.07\n",
       "    temp          float32 0.0\n",
       "    gradient      float32 -0.1578\n",
       "    avg_temp      float32 -16.8\n",
       "    avg_gradient  float32 -0.005089\n",
       "Attributes:\n",
       "    ref_pix_lon:     18.75\n",
       "    author:          OGGM\n",
       "    ref_pix_dis:     18631.514633949486\n",
       "    hydro_yr_0:      1979\n",
       "    ref_hgt:         868.0\n",
       "    hydro_yr_1:      2019\n",
       "    ref_pix_lat:     67.75\n",
       "    climate_source:  temp: W5E5_daily, prcp: W5E5_daily, lapse rate: ERA5dr\n",
       "    author_info:     Open Global Glacier Model), Climate2Dstep{Float64}([-20.276756677818753 -20.34805491823454 … -18.62030833196559 -18.661560464026707; -20.269064844261834 -20.340200327417733 … -18.604671210798188 -18.64643894791925; … ; -20.716821869216574 -20.700279022534232 … -18.757676701731498 -18.662462462276153; -20.70610039002429 -20.69087513169393 … -18.742503625118047 -18.663296127324884], [0.0 0.0 … 0.0 0.0; 0.0 0.0 … 0.0 0.0; … ; 0.0 0.0 … 0.0 0.0; 0.0 0.0 … 0.0 0.0], [17.06604766845703 17.06604766845703 … 17.06604766845703 17.06604766845703; 17.06604766845703 17.06604766845703 … 17.06604766845703 17.06604766845703; … ; 17.06604766845703 17.06604766845703 … 17.06604766845703 17.06604766845703; 17.06604766845703 17.06604766845703 … 17.06604766845703 17.06604766845703], [0.0 0.0 … 0.0 0.0; 0.0 0.0 … 0.0 0.0; … ; 0.0 0.0 … 0.0 0.0; 0.0 0.0 … 0.0 0.0], Base.RefValue{Float64}(-0.15775775909423828), Base.RefValue{Float64}(-0.0050889598205685616), [-1905.2941644849757, -1869.2941644849757, -1833.2941644849757, -1797.2941644849757, -1761.2941644849757, -1725.2941644849757, -1689.2941644849757, -1653.2941644849757, -1617.2941644849757, -1581.2941644849757  …  1694.7058355150243, 1730.7058355150243, 1766.7058355150243, 1802.7058355150243, 1838.7058355150243, 1874.7058355150243, 1910.7058355150243, 1946.7058355150243, 1982.7058355150243, 2018.7058355150243], [7.533762146041028e6, 7.533726146041028e6, 7.533690146041028e6, 7.533654146041028e6, 7.533618146041028e6, 7.533582146041028e6, 7.533546146041028e6, 7.533510146041028e6, 7.533474146041028e6, 7.533438146041028e6  …  7.531422146041028e6, 7.531386146041028e6, 7.531350146041028e6, 7.531314146041028e6, 7.531278146041028e6, 7.531242146041028e6, 7.531206146041028e6, 7.531170146041028e6, 7.531134146041028e6, 7.531098146041028e6], Base.RefValue{Float64}(868.0)), [-7.466278404516486, -4.8497844841343305, -6.7594016124002865, -5.516396947764371, -5.364691118333958, -4.463852271990618], Base.RefValue{PyCall.PyObject}(PyObject <xarray.DataArray 'temp' ()>\n",
       "array(-19.7669106)), Base.RefValue{PyCall.PyObject}(PyObject <xarray.DataArray 'gradient' ()>\n",
       "array(-0.00508896, dtype=float32))), [0.0 0.0 … 0.0 0.0; 0.0 0.0 … 0.0 0.0; … ; 0.0 0.0 … 0.0 0.0; 0.0 0.0 … 0.0 0.0], [1551.1942138671875 1565.20458984375 … 1225.69580078125 1233.802001953125; 1549.6827392578125 1563.6611328125 … 1222.623046875 1230.83056640625; … ; 1637.668701171875 1634.41796875 … 1252.689208984375 1233.979248046875; 1635.5618896484375 1632.570068359375 … 1249.7076416015625 1234.14306640625], [1551.1942138671875 1565.20458984375 … 1225.69580078125 1233.802001953125; 1549.6827392578125 1563.6611328125 … 1222.623046875 1230.83056640625; … ; 1637.668701171875 1634.41796875 … 1252.689208984375 1233.979248046875; 1635.5618896484375 1632.570068359375 … 1249.7076416015625 1234.14306640625], [0.0 0.0 … 0.0 0.0; 0.0 0.0 … 0.0 0.0; … ; 0.0 0.0 … 0.0 0.0; 0.0 0.0 … 0.0 0.0], 4.0e-17, 0.0, 3.0, [0.2046089619398117 0.2876814007759094 … 0.10150101035833359 0.07916288077831268; 0.2037002146244049 0.28504201769828796 … 0.10753844678401947 0.08654753118753433; … ; 0.04993753880262375 0.05083298683166504 … 0.25575530529022217 0.18848896026611328; 0.03614075854420662 0.03793627768754959 … 0.25974854826927185 0.19051285088062286], [738.6582641601562 714.57958984375 … 1571.6793212890625 1584.4090576171875; 712.7636108398438 687.779052734375 … 1537.920654296875 1550.927490234375; … ; 871.4677124023438 843.5069580078125 … 714.57958984375 742.1589965820312; 894.221435546875 866.9948120117188 … 738.6582641601562 765.3704833984375], PyObject <xarray.DataArray (band: 1, y: 75, x: 110)>\n",
       "[8250 values with dtype=float32]\n",
       "Coordinates:\n",
       "  * band         (band) int64 1\n",
       "  * x            (x) float64 -1.905e+03 -1.869e+03 ... 1.983e+03 2.019e+03\n",
       "  * y            (y) float64 7.534e+06 7.534e+06 ... 7.531e+06 7.531e+06\n",
       "    spatial_ref  int64 0\n",
       "Attributes:\n",
       "    AREA_OR_POINT:  Area\n",
       "    _FillValue:     -9999.0\n",
       "    scale_factor:   1.0\n",
       "    add_offset:     0.0, 36.0, 36.0, 75, 110), Glacier2D{Float64, Int64}(\"RGI60-04.04351\", PyObject <oggm.GlacierDirectory>\n",
       "  RGI id: RGI60-04.04351\n",
       "  Region: 04: Arctic Canada South\n",
       "  Subregion: 04-06: SE Baffin Island                \n",
       "  Glacier type: Glacier\n",
       "  Terminus type: Land-terminating\n",
       "  Status: Glacier or ice cap\n",
       "  Area: 24.775 km2\n",
       "  Lon, Lat: (-63.2105, 66.5244)\n",
       "  Grid (nx, ny): (132, 104)\n",
       "  Grid (dx, dy): (80.0, -80.0)\n",
       ", Climate2D{Float64}(PyObject <xarray.Dataset>\n",
       "Dimensions:   (time: 1827)\n",
       "Coordinates:\n",
       "  * time      (time) datetime64[ns] 2010-01-01 2010-01-02 ... 2015-01-01\n",
       "Data variables:\n",
       "    prcp      (time) float32 ...\n",
       "    temp      (time) float64 -16.15 -14.06 -11.8 -14.9 ... -22.77 -24.18 -16.54\n",
       "    gradient  (time) float32 -0.003539 -0.003539 ... -0.004029 -0.003832\n",
       "Attributes:\n",
       "    ref_hgt:         627.0\n",
       "    ref_pix_lon:     -63.25\n",
       "    ref_pix_lat:     66.75\n",
       "    ref_pix_dis:     25145.967280797926\n",
       "    climate_source:  temp: W5E5_daily, prcp: W5E5_daily, lapse rate: ERA5dr\n",
       "    hydro_yr_0:      1979\n",
       "    hydro_yr_1:      2019\n",
       "    author:          OGGM\n",
       "    author_info:     Open Global Glacier Model, Base.RefValue{PyCall.PyObject}(PyObject <xarray.Dataset>\n",
       "Dimensions:   (time: 31)\n",
       "Coordinates:\n",
       "  * time      (time) datetime64[ns] 2010-01-01 2010-01-02 ... 2010-01-31\n",
       "Data variables:\n",
       "    prcp      (time) float32 ...\n",
       "    temp      (time) float64 -16.15 -14.06 -11.8 -14.9 ... -11.66 -15.92 -14.83\n",
       "    gradient  (time) float32 -0.003539 -0.003539 ... -0.003539 -0.003539\n",
       "Attributes:\n",
       "    ref_hgt:         627.0\n",
       "    ref_pix_lon:     -63.25\n",
       "    ref_pix_lat:     66.75\n",
       "    ref_pix_dis:     25145.967280797926\n",
       "    climate_source:  temp: W5E5_daily, prcp: W5E5_daily, lapse rate: ERA5dr\n",
       "    hydro_yr_0:      1979\n",
       "    hydro_yr_1:      2019\n",
       "    author:          OGGM\n",
       "    author_info:     Open Global Glacier Model), Base.RefValue{PyCall.PyObject}(PyObject <xarray.Dataset>\n",
       "Dimensions:       ()\n",
       "Data variables:\n",
       "    prcp          float32 0.0\n",
       "    temp          float32 0.0\n",
       "    gradient      float32 -0.1097\n",
       "    avg_temp      float32 -20.0\n",
       "    avg_gradient  float32 -0.003539\n",
       "Attributes:\n",
       "    ref_pix_lon:     -63.25\n",
       "    author:          OGGM\n",
       "    ref_pix_dis:     25145.967280797926\n",
       "    hydro_yr_0:      1979\n",
       "    ref_hgt:         627.0\n",
       "    hydro_yr_1:      2019\n",
       "    ref_pix_lat:     66.75\n",
       "    climate_source:  temp: W5E5_daily, prcp: W5E5_daily, lapse rate: ERA5dr\n",
       "    author_info:     Open Global Glacier Model), Climate2Dstep{Float64}([-22.16061898239377 -22.004172053587922 … -20.932990824188835 -20.936871830287657; -22.198121261409256 -22.014483527768107 … -20.980721625901595 -20.989450109282927; … ; -22.189324515870112 -22.1100449321965 … -18.911045836041637 -18.869086426956187; -21.983196993464162 -21.906795653431914 … -18.89855710145457 -18.861376151425617], [0.0 0.0 … 0.0 0.0; 0.0 0.0 … 0.0 0.0; … ; 0.0 0.0 … 33.75781530739005 35.058556977997796; 0.0 0.0 … 34.14496607630281 35.29757551741659], [0.0 0.0 … 0.0 0.0; 0.0 0.0 … 0.0 0.0; … ; 0.0 0.0 … 0.0 0.0; 0.0 0.0 … 0.0 0.0], [0.0 0.0 … 0.0 0.0; 0.0 0.0 … 0.0 0.0; … ; 0.0 0.0 … 0.0 0.0; 0.0 0.0 … 0.0 0.0], Base.RefValue{Float64}(-0.10971716046333313), Base.RefValue{Float64}(-0.0035392632707953453), [-4691.159835743049, -4611.159835743049, -4531.159835743049, -4451.159835743049, -4371.159835743049, -4291.159835743049, -4211.159835743049, -4131.159835743049, -4051.1598357430494, -3971.1598357430494  …  5068.840164256951, 5148.840164256951, 5228.840164256951, 5308.840164256951, 5388.840164256951, 5468.840164256951, 5548.840164256951, 5628.840164256951, 5708.840164256951, 5788.840164256951], [7.382861075547084e6, 7.382781075547084e6, 7.382701075547084e6, 7.382621075547084e6, 7.382541075547084e6, 7.382461075547084e6, 7.382381075547084e6, 7.382301075547084e6, 7.382221075547084e6, 7.382141075547084e6  …  7.375341075547084e6, 7.375261075547084e6, 7.375181075547084e6, 7.375101075547084e6, 7.375021075547084e6, 7.374941075547084e6, 7.374861075547084e6, 7.374781075547084e6, 7.374701075547084e6, 7.374621075547084e6], Base.RefValue{Float64}(627.0)), [-10.824074985286066, -13.01199974368334, -13.343941711575601, -14.260801901968128, -13.64998241954013, -16.541531400156543], Base.RefValue{PyCall.PyObject}(PyObject <xarray.DataArray 'temp' ()>\n",
       "array(-21.42492725)), Base.RefValue{PyCall.PyObject}(PyObject <xarray.DataArray 'gradient' ()>\n",
       "array(-0.00353926, dtype=float32))), [0.0 0.0 … 0.0 0.0; 0.0 0.0 … 0.0 0.0; … ; 0.0 0.0 … 0.0 0.0; 0.0 0.0 … 0.0 0.0], [1237.46923828125 1193.2659912109375 … 890.6094360351562 891.7059936523438; 1248.0653076171875 1196.179443359375 … 904.0955200195312 906.5617065429688; … ; 1245.579833984375 1223.1798095703125 … 319.31964111328125 307.4642333984375; 1187.339599609375 1165.7528076171875 … 315.791015625 305.2857360839844], [1237.46923828125 1193.2659912109375 … 890.6094360351562 891.7059936523438; 1248.0653076171875 1196.179443359375 … 904.0955200195312 906.5617065429688; … ; 1245.579833984375 1223.1798095703125 … 319.31964111328125 307.4642333984375; 1187.339599609375 1165.7528076171875 … 315.791015625 305.2857360839844], [0.0 0.0 … 0.0 0.0; 0.0 0.0 … 0.0 0.0; … ; 0.0 0.0 … 0.0 0.0; 0.0 0.0 … 0.0 0.0], 4.0e-17, 0.0, 3.0, [0.3233415484428406 0.4048551321029663 … 0.15066663920879364 0.1287834346294403; 0.32886743545532227 0.40852272510528564 … 0.21911178529262543 0.19435031712055206; … ; 0.4711599349975586 0.47508740425109863 … 0.15164917707443237 0.11191822588443756; 0.3992205858230591 0.4094068109989166 … 0.1468561589717865 0.10629212856292725], [2433.10498046875 2375.87890625 … 4086.269775390625 4160.0; 2378.571044921875 2320.0 … 4055.61328125 4129.89111328125; … ; 2688.047607421875 2641.2119140625 … 1360.0 1399.428466796875; 2752.744140625 2707.02783203125 … 1431.08349609375 1468.604736328125], PyObject <xarray.DataArray (band: 1, y: 104, x: 132)>\n",
       "[13728 values with dtype=float32]\n",
       "Coordinates:\n",
       "  * band         (band) int64 1\n",
       "  * x            (x) float64 -4.691e+03 -4.611e+03 ... 5.709e+03 5.789e+03\n",
       "  * y            (y) float64 7.383e+06 7.383e+06 ... 7.375e+06 7.375e+06\n",
       "    spatial_ref  int64 0\n",
       "Attributes:\n",
       "    AREA_OR_POINT:  Area\n",
       "    _FillValue:     -9999.0\n",
       "    scale_factor:   1.0\n",
       "    add_offset:     0.0, 80.0, 80.0, 104, 132), Glacier2D{Float64, Int64}(\"RGI60-01.02170\", PyObject <oggm.GlacierDirectory>\n",
       "  RGI id: RGI60-01.02170\n",
       "  Region: 01: Alaska\n",
       "  Subregion: 01-01: N Alaska                        \n",
       "  Name: Esetuk Glacier\n",
       "  Glacier type: Glacier\n",
       "  Terminus type: Land-terminating\n",
       "  Status: Glacier or ice cap\n",
       "  Area: 7.5 km2\n",
       "  Lon, Lat: (-144.303, 69.297)\n",
       "  Grid (nx, ny): (138, 111)\n",
       "  Grid (dx, dy): (48.0, -48.0)\n",
       ", Climate2D{Float64}(PyObject <xarray.Dataset>\n",
       "Dimensions:   (time: 1827)\n",
       "Coordinates:\n",
       "  * time      (time) datetime64[ns] 2010-01-01 2010-01-02 ... 2015-01-01\n",
       "Data variables:\n",
       "    prcp      (time) float32 ...\n",
       "    temp      (time) float64 -34.83 -32.8 -31.4 -33.51 ... -20.18 -16.67 -26.83\n",
       "    gradient  (time) float32 -0.004368 -0.004368 ... -0.004817 -0.00466\n",
       "Attributes:\n",
       "    ref_hgt:         1410.0\n",
       "    ref_pix_lon:     -144.25\n",
       "    ref_pix_lat:     69.25\n",
       "    ref_pix_dis:     5626.9776759698425\n",
       "    climate_source:  temp: W5E5_daily, prcp: W5E5_daily, lapse rate: ERA5dr\n",
       "    hydro_yr_0:      1979\n",
       "    hydro_yr_1:      2019\n",
       "    author:          OGGM\n",
       "    author_info:     Open Global Glacier Model, Base.RefValue{PyCall.PyObject}(PyObject <xarray.Dataset>\n",
       "Dimensions:   (time: 31)\n",
       "Coordinates:\n",
       "  * time      (time) datetime64[ns] 2010-01-01 2010-01-02 ... 2010-01-31\n",
       "Data variables:\n",
       "    prcp      (time) float32 ...\n",
       "    temp      (time) float64 -34.83 -32.8 -31.4 -33.51 ... -26.72 -21.63 -17.2\n",
       "    gradient  (time) float32 -0.004368 -0.004368 ... -0.004368 -0.004368\n",
       "Attributes:\n",
       "    ref_hgt:         1410.0\n",
       "    ref_pix_lon:     -144.25\n",
       "    ref_pix_lat:     69.25\n",
       "    ref_pix_dis:     5626.9776759698425\n",
       "    climate_source:  temp: W5E5_daily, prcp: W5E5_daily, lapse rate: ERA5dr\n",
       "    hydro_yr_0:      1979\n",
       "    hydro_yr_1:      2019\n",
       "    author:          OGGM\n",
       "    author_info:     Open Global Glacier Model), Base.RefValue{PyCall.PyObject}(PyObject <xarray.Dataset>\n",
       "Dimensions:       ()\n",
       "Data variables:\n",
       "    prcp          float32 10.57\n",
       "    temp          float32 0.0\n",
       "    gradient      float32 -0.1354\n",
       "    avg_temp      float32 -27.9\n",
       "    avg_gradient  float32 -0.004368\n",
       "Attributes:\n",
       "    ref_pix_lon:     -144.25\n",
       "    author:          OGGM\n",
       "    ref_pix_dis:     5626.9776759698425\n",
       "    hydro_yr_0:      1979\n",
       "    ref_hgt:         1410.0\n",
       "    hydro_yr_1:      2019\n",
       "    ref_pix_lat:     69.25\n",
       "    climate_source:  temp: W5E5_daily, prcp: W5E5_daily, lapse rate: ERA5dr\n",
       "    author_info:     Open Global Glacier Model), Climate2Dstep{Float64}([-28.741301578903176 -28.735458427972162 … -30.64698089400963 -30.673915484247573; -28.753992488937683 -28.745836712930213 … -30.705978695187696 -30.731751907188027; … ; -27.002267243337656 -26.912580368831186 … -31.22218625992491 -31.354839330139384; -27.094090776520943 -27.00333050697668 … -31.093065315259537 -31.21929827804479], [0.0 0.0 … 0.0 0.0; 0.0 0.0 … 0.0 0.0; … ; 27.82923099130312 30.609524139246787 … 0.0 0.0; 24.982701423467006 27.796269818039946 … 0.0 0.0], [10.574098587036133 10.574098587036133 … 10.574098587036133 10.574098587036133; 10.574098587036133 10.574098587036133 … 10.574098587036133 10.574098587036133; … ; 10.574098587036133 10.574098587036133 … 10.574098587036133 10.574098587036133; 10.574098587036133 10.574098587036133 … 10.574098587036133 10.574098587036133], [0.0 0.0 … 0.0 0.0; 0.0 0.0 … 0.0 0.0; … ; 0.0 0.0 … 0.0 0.0; 0.0 0.0 … 0.0 0.0], Base.RefValue{Float64}(-0.1354152113199234), Base.RefValue{Float64}(-0.004368232563138008), [-3594.724428461747, -3546.724428461747, -3498.724428461747, -3450.724428461747, -3402.724428461747, -3354.724428461747, -3306.724428461747, -3258.724428461747, -3210.724428461747, -3162.724428461747  …  2549.275571538253, 2597.275571538253, 2645.275571538253, 2693.275571538253, 2741.275571538253, 2789.275571538253, 2837.275571538253, 2885.275571538253, 2933.275571538253, 2981.275571538253], [7.690726159559622e6, 7.690678159559622e6, 7.690630159559622e6, 7.690582159559622e6, 7.690534159559622e6, 7.690486159559622e6, 7.690438159559622e6, 7.690390159559622e6, 7.690342159559622e6, 7.690294159559622e6  …  7.685878159559622e6, 7.685830159559622e6, 7.685782159559622e6, 7.685734159559622e6, 7.685686159559622e6, 7.685638159559622e6, 7.685590159559622e6, 7.685542159559622e6, 7.685494159559622e6, 7.685446159559622e6], Base.RefValue{Float64}(1410.0)), [-15.399026656220313, -15.922785255014455, -17.07460606355474, -16.005427606174056, -14.856120187218911, -26.82943928649803], Base.RefValue{PyCall.PyObject}(PyObject <xarray.DataArray 'temp' ()>\n",
       "array(-30.46268305)), Base.RefValue{PyCall.PyObject}(PyObject <xarray.DataArray 'gradient' ()>\n",
       "array(-0.00436823, dtype=float32))), [0.0 0.0 … 0.0 0.0; 0.0 0.0 … 0.0 0.0; … ; 0.0 0.0 … 0.0 0.0; 0.0 0.0 … 0.0 0.0], [1602.5989990234375 1601.2613525390625 … 2038.857666015625 2045.023681640625; 1605.5042724609375 1603.63720703125 … 2052.36376953125 2058.263916015625; … ; 1204.4896240234375 1183.9580078125 … 2170.536865234375 2200.904541015625; 1225.5103759765625 1204.7330322265625 … 2140.977783203125 2169.875732421875], [1602.5989990234375 1601.2613525390625 … 2038.857666015625 2045.023681640625; 1605.5042724609375 1603.63720703125 … 2052.36376953125 2058.263916015625; … ; 1204.4896240234375 1183.9580078125 … 2170.536865234375 2200.904541015625; 1225.5103759765625 1204.7330322265625 … 2140.977783203125 2169.875732421875], [0.0 0.0 … 0.0 0.0; 0.0 0.0 … 0.0 0.0; … ; 0.0 0.0 … 0.0 0.0; 0.0 0.0 … 0.0 0.0], 4.0e-17, 0.0, 3.0, [0.03104482777416706 0.04904063045978546 … 0.15484803915023804 0.14635732769966125; 0.035492751747369766 0.05618934705853462 … 0.20003679394721985 0.193211168050766; … ; 0.28327006101608276 0.31988802552223206 … 0.5254784822463989 0.4792175889015198; 0.2539433240890503 0.30171093344688416 … 0.46624556183815 0.41041088104248047], [746.7047729492188 713.5712890625 … 2496.0 2514.851806640625; 713.5712890625 678.822509765625 … 2451.76171875 2470.951171875; … ; 2809.1279296875 2763.23291015625 … 1481.79345703125 1502.6376953125; 2823.44482421875 2777.7861328125 … 1524.70849609375 1545.71923828125], PyObject <xarray.DataArray (band: 1, y: 111, x: 138)>\n",
       "[15318 values with dtype=float32]\n",
       "Coordinates:\n",
       "  * band         (band) int64 1\n",
       "  * x            (x) float64 -3.595e+03 -3.547e+03 ... 2.933e+03 2.981e+03\n",
       "  * y            (y) float64 7.691e+06 7.691e+06 ... 7.685e+06 7.685e+06\n",
       "    spatial_ref  int64 0\n",
       "Attributes:\n",
       "    AREA_OR_POINT:  Area\n",
       "    _FillValue:     -9999.0\n",
       "    scale_factor:   1.0\n",
       "    add_offset:     0.0, 48.0, 48.0, 111, 138)], Sleipnir.Parameters{PhysicalParameters{Float64}, SimulationParameters{Float64}, Nothing, SolverParameters{Float64, Int64}, Nothing, OGGMparameters}(PhysicalParameters{Float64}(900.0, 9.81, 0.001, 1.0, 8.0e-17, 8.5e-20, 1.0, -25.0, 5.0e-18), SimulationParameters{Float64}(true, true, true, true, false, Float64, Int64, (2010.0, 2015.0), 0.08333333333333333, true, 2, \"/home/jovyan/Julia/ODINN_notebooks/data\"), OGGMparameters(\"/home/jovyan/Julia/ODINN_notebooks/data\", PyCall.PyDict{PyCall.PyAny, PyCall.PyAny, true}(\"dl_cache_dir\" => \"/home/jovyan/OGGM/download_cache\", \"tmp_dir\" => \"/home/jovyan/OGGM/tmp\", \"rgi_dir\" => \"/home/jovyan/OGGM/rgi\", \"test_dir\" => \"/home/jovyan/OGGM/tests\", \"working_dir\" => \"/home/jovyan/Julia/ODINN_notebooks/data\", \"dem_file\" => \"\", \"climate_file\" => \"\"), PyCall.PyDict{PyCall.PyAny, PyCall.PyAny, true}(\"has_internet\" => true, \"dl_cache_readonly\" => false, \"use_multiprocessing\" => true, \"use_mp_spawn\" => false, \"mp_processes\" => 2, \"lru_maxsize\" => 100, \"continue_on_error\" => true, \"grid_dx_method\" => \"square\", \"map_proj\" => \"tmerc\", \"topo_interp\" => \"cubic\"…), true, 2, \"Farinotti19\", \"https://cluster.klima.uni-bremen.de/~oggm/gdirs/oggm_v1.6/L1-L2_files/elev_bands/\"), nothing, SolverParameters{Float64, Int64}(RDPK3Sp35(; stage_limiter! = trivial_limiter!, step_limiter! = trivial_limiter!, thread = static(false),), 1.0e-8, 0.08333333333333333, nothing, false, true, 10), nothing), Results[])"
      ]
     },
     "metadata": {},
     "output_type": "display_data"
    }
   ],
   "source": [
    "prediction = Prediction(model, glaciers, params)"
   ]
  },
  {
   "cell_type": "markdown",
   "id": "47c33646",
   "metadata": {},
   "source": [
    "## Running a simulation"
   ]
  },
  {
   "cell_type": "markdown",
   "id": "b4a51f04",
   "metadata": {},
   "source": [
    "Once we have everything ready, we can easily run the chosen simulation in the following manner."
   ]
  },
  {
   "cell_type": "code",
   "execution_count": 9,
   "id": "d5f20728",
   "metadata": {},
   "outputs": [
    {
     "name": "stdout",
     "output_type": "stream",
     "text": [
      "Running forward in-place PDE ice flow model...\n",
      "\n"
     ]
    },
    {
     "name": "stdout",
     "output_type": "stream",
     "text": [
      "Processing glacier: RGI60-11.03638\n"
     ]
    },
    {
     "name": "stdout",
     "output_type": "stream",
     "text": [
      "Processing glacier: RGI60-11.01450\n"
     ]
    },
    {
     "name": "stdout",
     "output_type": "stream",
     "text": [
      "Processing glacier: RGI60-08.00213\n"
     ]
    },
    {
     "name": "stderr",
     "output_type": "stream",
     "text": [
      "\r\u001b[32mProgress:  40%|████████████████▍                        |  ETA: 0:00:27\u001b[39m\u001b[K"
     ]
    },
    {
     "name": "stdout",
     "output_type": "stream",
     "text": [
      "Processing glacier: RGI60-04.04351\n"
     ]
    },
    {
     "name": "stdout",
     "output_type": "stream",
     "text": [
      "Processing glacier: RGI60-01.02170\n"
     ]
    },
    {
     "name": "stderr",
     "output_type": "stream",
     "text": [
      "\r\u001b[32mProgress:  80%|████████████████████████████████▊        |  ETA: 0:00:05\u001b[39m\u001b[K"
     ]
    },
    {
     "name": "stderr",
     "output_type": "stream",
     "text": [
      "\r\u001b[32mProgress: 100%|█████████████████████████████████████████| Time: 0:00:22\u001b[39m\u001b[K\n"
     ]
    }
   ],
   "source": [
    "run!(prediction)"
   ]
  },
  {
   "cell_type": "markdown",
   "id": "781bafa8",
   "metadata": {},
   "source": [
    "Once the simulation has been run, we can access all the results in `prediction.results`. "
   ]
  },
  {
   "cell_type": "code",
   "execution_count": 10,
   "id": "306d07ff",
   "metadata": {},
   "outputs": [
    {
     "data": {
      "text/plain": [
       "5-element Vector{Results}:\n",
       " Results{Float64}(\"RGI60-11.03638\", [[0.0 0.0 … 0.0 0.0; 0.0 0.0 … 0.0 0.0; … ; 0.0 0.0 … 0.0 0.0; 0.0 0.0 … 0.0 0.0], [0.0 0.0 … 0.0 0.0; 0.0 0.0 … 0.0 0.0; … ; 0.0 0.0 … 0.0 0.0; 0.0 0.0 … 0.0 0.0]], [1444.0 1462.0 … 3049.0 3041.0; 1415.0 1428.0 … 3034.0 3027.0; … ; 2009.0 2011.0 … 3202.0 3211.0; 2016.0 2016.0 … 3151.0 3171.0], [1444.0 1462.0 … 3049.0 3041.0; 1415.0 1428.0 … 3034.0 3027.0; … ; 2009.0 2011.0 … 3202.0 3211.0; 2016.0 2016.0 … 3151.0 3171.0], [0.0 0.0 … 0.0 0.0; 0.0 0.0 … 0.0 0.0; … ; 0.0 0.0 … 0.0 0.0; 0.0 0.0 … 0.0 0.0], [0.0 0.0 … 0.0 0.0; 0.0 0.0 … 0.0 0.0; … ; -0.0 -0.0 … 0.0 0.0; -0.0 -0.0 … 0.0 0.0], [-0.0 -0.0 … 0.0 0.0; -0.0 -0.0 … 0.0 0.0; … ; -0.0 -0.0 … -0.0 -0.0; -0.0 -0.0 … -0.0 -0.0])\n",
       " Results{Float64}(\"RGI60-11.01450\", [[0.0 0.0 … 0.0 0.0; 0.0 0.0 … 0.0 0.0; … ; 0.0 0.0 … 0.0 0.0; 0.0 0.0 … 0.0 0.0], [0.0 0.0 … 0.0 0.0; 0.0 0.0 … 0.0 0.0; … ; 0.0 0.0 … 0.0 0.0; 0.0 0.0 … 0.0 0.0]], [846.0 1146.0 … 2498.0 2588.0; 854.0 1126.0 … 2488.0 2575.0; … ; 2641.0 2530.0 … 1378.0 1348.0; 2710.0 2601.0 … 1340.0 1306.0], [846.0 1146.0 … 2498.0 2588.0; 854.0 1126.0 … 2488.0 2575.0; … ; 2641.0 2530.0 … 1378.0 1348.0; 2710.0 2601.0 … 1340.0 1306.0], [0.0 0.0 … 0.0 0.0; 0.0 0.0 … 0.0 0.0; … ; 0.0 0.0 … 0.0 0.0; 0.0 0.0 … 0.0 0.0], [0.0 0.0 … 0.0 0.0; -0.0 0.0 … -0.0 -0.0; … ; -0.0 -0.0 … 0.0 0.0; -0.0 -0.0 … 0.0 0.0], [-0.0 -0.0 … -0.0 -0.0; -0.0 -0.0 … -0.0 -0.0; … ; 0.0 0.0 … 0.0 0.0; 0.0 0.0 … 0.0 0.0])\n",
       " Results{Float64}(\"RGI60-08.00213\", [[0.0 0.0 … 0.0 0.0; 0.0 0.0 … 0.0 0.0; … ; 0.0 0.0 … 0.0 0.0; 0.0 0.0 … 0.0 0.0], [0.0 0.0 … 0.0 0.0; 0.0 0.0 … 0.0 0.0; … ; 0.0 0.0 … 0.0 0.0; 0.0 0.0 … 0.0 0.0]], [1551.1942138671875 1565.20458984375 … 1225.69580078125 1233.802001953125; 1549.6827392578125 1563.6611328125 … 1222.623046875 1230.83056640625; … ; 1637.668701171875 1634.41796875 … 1252.689208984375 1233.979248046875; 1635.5618896484375 1632.570068359375 … 1249.7076416015625 1234.14306640625], [1551.1942138671875 1565.20458984375 … 1225.69580078125 1233.802001953125; 1549.6827392578125 1563.6611328125 … 1222.623046875 1230.83056640625; … ; 1637.668701171875 1634.41796875 … 1252.689208984375 1233.979248046875; 1635.5618896484375 1632.570068359375 … 1249.7076416015625 1234.14306640625], [0.0 0.0 … 0.0 0.0; 0.0 0.0 … 0.0 0.0; … ; 0.0 0.0 … 0.0 0.0; 0.0 0.0 … 0.0 0.0], [0.0 0.0 … 0.0 0.0; -0.0 -0.0 … 0.0 0.0; … ; 0.0 0.0 … -0.0 -0.0; 0.0 0.0 … 0.0 0.0], [-0.0 -0.0 … -0.0 -0.0; -0.0 -0.0 … -0.0 -0.0; … ; 0.0 0.0 … 0.0 0.0; 0.0 0.0 … 0.0 0.0])\n",
       " Results{Float64}(\"RGI60-04.04351\", [[0.0 0.0 … 0.0 0.0; 0.0 0.0 … 0.0 0.0; … ; 0.0 0.0 … 0.0 0.0; 0.0 0.0 … 0.0 0.0], [0.0 0.0 … 0.0 0.0; 0.0 0.0 … 0.0 0.0; … ; 0.0 0.0 … 0.0 0.0; 0.0 0.0 … 0.0 0.0]], [1237.46923828125 1193.2659912109375 … 890.6094360351562 891.7059936523438; 1248.0653076171875 1196.179443359375 … 904.0955200195312 906.5617065429688; … ; 1245.579833984375 1223.1798095703125 … 319.31964111328125 307.4642333984375; 1187.339599609375 1165.7528076171875 … 315.791015625 305.2857360839844], [1237.46923828125 1193.2659912109375 … 890.6094360351562 891.7059936523438; 1248.0653076171875 1196.179443359375 … 904.0955200195312 906.5617065429688; … ; 1245.579833984375 1223.1798095703125 … 319.31964111328125 307.4642333984375; 1187.339599609375 1165.7528076171875 … 315.791015625 305.2857360839844], [0.0 0.0 … 0.0 0.0; 0.0 0.0 … 0.0 0.0; … ; 0.0 0.0 … 0.0 0.0; 0.0 0.0 … 0.0 0.0], [-0.0 -0.0 … -0.0 -0.0; -0.0 -0.0 … -0.0 -0.0; … ; 0.0 0.0 … 0.0 0.0; 0.0 0.0 … 0.0 0.0], [0.0 0.0 … -0.0 -0.0; 0.0 0.0 … 0.0 -0.0; … ; 0.0 0.0 … 0.0 0.0; 0.0 0.0 … 0.0 0.0])\n",
       " Results{Float64}(\"RGI60-01.02170\", [[0.0 0.0 … 0.0 0.0; 0.0 0.0 … 0.0 0.0; … ; 0.0 0.0 … 0.0 0.0; 0.0 0.0 … 0.0 0.0], [0.0 0.0 … 0.0 0.0; 0.0 0.0 … 0.0 0.0; … ; 0.0 0.0 … 0.0 0.0; 0.0 0.0 … 0.0 0.0]], [1602.5989990234375 1601.2613525390625 … 2038.857666015625 2045.023681640625; 1605.5042724609375 1603.63720703125 … 2052.36376953125 2058.263916015625; … ; 1204.4896240234375 1183.9580078125 … 2170.536865234375 2200.904541015625; 1225.5103759765625 1204.7330322265625 … 2140.977783203125 2169.875732421875], [1602.5989990234375 1601.2613525390625 … 2038.857666015625 2045.023681640625; 1605.5042724609375 1603.63720703125 … 2052.36376953125 2058.263916015625; … ; 1204.4896240234375 1183.9580078125 … 2170.536865234375 2200.904541015625; 1225.5103759765625 1204.7330322265625 … 2140.977783203125 2169.875732421875], [0.0 0.0 … 0.0 0.0; 0.0 0.0 … 0.0 0.0; … ; 0.0 0.0 … 0.0 0.0; 0.0 0.0 … 0.0 0.0], [-0.0 -0.0 … -0.0 -0.0; -0.0 -0.0 … -0.0 -0.0; … ; -0.0 -0.0 … 0.0 0.0; -0.0 -0.0 … 0.0 0.0], [0.0 0.0 … -0.0 -0.0; 0.0 0.0 … -0.0 -0.0; … ; 0.0 0.0 … -0.0 -0.0; 0.0 0.0 … -0.0 -0.0])"
      ]
     },
     "metadata": {},
     "output_type": "display_data"
    }
   ],
   "source": [
    "prediction.results"
   ]
  }
 ],
 "metadata": {
  "kernelspec": {
   "display_name": "Julia 1.9.3",
   "language": "julia",
   "name": "julia-1.9"
  },
  "language_info": {
   "file_extension": ".jl",
   "mimetype": "application/julia",
   "name": "julia",
   "version": "1.9.3"
  }
 },
 "nbformat": 4,
 "nbformat_minor": 5
}
